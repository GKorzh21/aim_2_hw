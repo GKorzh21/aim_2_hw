{
 "cells": [
  {
   "cell_type": "markdown",
   "metadata": {},
   "source": [
    "# LinUCB Hybrid"
   ]
  },
  {
   "cell_type": "code",
   "execution_count": 1,
   "metadata": {},
   "outputs": [],
   "source": [
    "import numpy as np\n",
    "import pandas as pd\n",
    "import matplotlib.pyplot as plt"
   ]
  },
  {
   "cell_type": "markdown",
   "metadata": {},
   "source": [
    "Для реализации алгоритма (см Algorithm 2 LinUCB with hybrid linear models в статье -> https://arxiv.org/pdf/1003.0146 ) необходимо прописать два класса по аналогии с работой в семинаре (на семинаре мы реализовывали Algorithm 1 LinUCB with disjoint linear models с той же статьи)\n",
    "\n",
    "\n",
    "Вот эти классы:\n",
    "* linucb_hybrid_arm отвечает за обновление информации для конректной ручки (ручка - есть объект этого класса)\n",
    "* inucb_hybrid_policy отвечает за взаимодействие между ручками (объектами класса linucb_hybrid_arm), включая выбор оптимальной ручки\n",
    "\n",
    "Можете реализовать с нуля)) Но кажется проще следовать нотациям + обозначения соответсвуют обозначениям в алгоритме статьи"
   ]
  },
  {
   "cell_type": "markdown",
   "metadata": {},
   "source": [
    "linucb_hybrid_arm  содержит 4 метода:\n",
    "\n",
    "* init: Создание A, B, b необходимых размеров\n",
    "* init_arm_features: нужны для идентификации ручки index - чтобы понимать номер рассматриваемой ручки, arm_features - ее фичи\n",
    "* calc_UCB: подсчитываем оценку реварда с UCB надбавкой для данной ручки на конкретном контексте x_array\n",
    "* reward_update: обновление информации после получения фидбека (0/1)"
   ]
  },
  {
   "cell_type": "code",
   "execution_count": null,
   "metadata": {},
   "outputs": [],
   "source": [
    "\"\"\"\n",
    "обозначения соответсвуют обозначениям в алгоритме статьи\n",
    "\"\"\"\n",
    "class linucb_hybrid_arm():\n",
    "    # Note that shared features coefficients beta_hat is calculated outside of each arm since, it is about shared features across individual arms\n",
    "    \n",
    "    def __init__(self, d, k, alpha):\n",
    "        \n",
    "        # Arm specific A: (d * d) matrix = D_a.T * D_a + I_d. \n",
    "        # The inverse of A is used in ridge regression \n",
    "        self.A = ...\n",
    "        \n",
    "        # B: (d * k) matrix\n",
    "        # Equals to D_a.T * c_a in ridge regression formulation\n",
    "        self.B = ...\n",
    "        \n",
    "        # b: (d * 1) corresponding response vector. \n",
    "        # Equals to D_a.T * c_a in ridge regression formulation\n",
    "        self.b = ...\n",
    "        \n",
    "        # Alpha hyperparam\n",
    "        self.alpha = ...\n",
    "        \n",
    "    def init_arm_features(self, arm_index, arm_features_array):\n",
    "        # Track arm_index\n",
    "        self.index = arm_index\n",
    "        \n",
    "        # arm_features to be used with x_array using outer product to find individual arm z_features\n",
    "        self.arm_features = arm_features_array\n",
    "        \n",
    "        \n",
    "    def calc_UCB(self, x_array, A_node_inv, beta_hat):\n",
    "        # beta_hat is the coefficients for Z shared features. (k * 1) vector\n",
    "        # A_node_inv is (k * k) matrix that is inverse for A_node (shared features)\n",
    "        \n",
    "        # Create arm specific z_array with x_array and self.arm_features\n",
    "        # z_array elements is based on the combination of user and movie features, which is the outer product of both arrays\n",
    "        # z_array = Outer product = (19 * 29) or (k by d) matrix\n",
    "        z_array = np.outer(self.arm_features, x_array).reshape(-1,1)\n",
    "        \n",
    "        # Find inverse of arm-specific A\n",
    "        A_inv = ...\n",
    "        \n",
    "        # Find theta_arm with beta_hat input\n",
    "        self.theta = ...\n",
    "        \n",
    "        # std deviation -> UCB = mean + alpha* sqrt(s)\n",
    "        s = ...\n",
    "        \n",
    "        \n",
    "        # UCB\n",
    "        p = ...\n",
    "        \n",
    "        return p\n",
    "    \n",
    "    def reward_update(self, reward, x_array, z_array):\n",
    "        \n",
    "        # Update A which is (d * d) matrix.\n",
    "        self.A += ...\n",
    "        \n",
    "        # Update B which is (d * k) matrix.\n",
    "        self.B += ...\n",
    "        \n",
    "        # Update b which is (d * 1) vector\n",
    "        # reward is scalar\n",
    "        self.b += ...                       \n",
    "        "
   ]
  },
  {
   "cell_type": "markdown",
   "metadata": {},
   "source": [
    "linucb_hybrid_policy содержит 5 методов\n",
    "* init: linucb_arms - лист из объектов класса linucb_hybrid_arm (см семинар)\n",
    "* НИЧЕГО МЕНЯТЬ НЕ НУЖНО store_arm_features - вызывает метод init_arm_features класса linucb_hybrid_arm, чтобы сохранить новуюб информацию\n",
    "* select_arm - полностью реализовать самому, возвращает индекс выбранной ручки по аналогии с тем же методом из семинара (но не забывай, следовать другому алгоритму)\n",
    "* update_shared_features_matrices_phase1: обновить информаию для выбранной руки до того, как будет получен фидбек о вознаграждении для этой руки.\n",
    "* update_shared_features_matrices_phase2: обновить информаию для выбранной руки после того, как будет получен фидбек о вознаграждении для этой руки.."
   ]
  },
  {
   "cell_type": "code",
   "execution_count": null,
   "metadata": {},
   "outputs": [],
   "source": [
    "class linucb_hybrid_policy():\n",
    "    \n",
    "    def __init__(self, K_arms, d, k, alpha):\n",
    "        self.K_arms = ...\n",
    "        self.linucb_arms = ...\n",
    "        \n",
    "        # shared A_node: (k * k) matrix\n",
    "        self.A_node = ...\n",
    "        \n",
    "        # shared b_node: (k * 1) corresponding response vector. \n",
    "        self.b_node = ...\n",
    "        \n",
    "    def store_arm_features(self, arms_features_array):\n",
    "        # Arms_features_array is multidimension array of shape (K_arms, 1+arm_dimensions), where 1 is for arm_index\n",
    "    \n",
    "        # Loop through all arms to store the individual arms\n",
    "        for i in range(self.K_arms):\n",
    "        \n",
    "            self.linucb_arms[i].init_arm_features(arm_index = arms_features_array[i,0], \n",
    "                                                  arm_features_array = arms_features_array[i,1:])\n",
    "        \n",
    "    def select_arm(self, x_array):\n",
    "        pass\n",
    "        \n",
    "        return \n",
    "    \n",
    "    def update_shared_features_matrices_phase1(self, chosen_arm_B, chosen_arm_A, chosen_arm_b):\n",
    "        # Use chosen arm's B (d*k), A(d*d), b(k*1) for update of shared feature matrices\n",
    "        \n",
    "        chosen_arm_A_inv = ...\n",
    "        \n",
    "        self.A_node += ...\n",
    "        self.b_node += ...\n",
    "        \n",
    "    def update_shared_features_matrices_phase2(self, z_array, reward, chosen_arm_B, chosen_arm_A, chosen_arm_b):\n",
    "        \n",
    "        chosen_arm_A_inv = ...\n",
    "        \n",
    "        self.A_node += ...\n",
    "        self.b_node += ..."
   ]
  },
  {
   "cell_type": "markdown",
   "metadata": {},
   "source": [
    "в ctr_simulator НИЧЕГО МЕНЯТЬ НЕ НУЖНО - отвечает за запуск процесса на выбранных данных"
   ]
  },
  {
   "cell_type": "code",
   "execution_count": null,
   "metadata": {},
   "outputs": [],
   "source": [
    "def ctr_simulator(K_arms, d, k, alpha, top_movies_index, top_movies_features, steps_printout):\n",
    "    # Initiate policy\n",
    "    linucb_hybrid_policy_object = linucb_hybrid_policy(K_arms = K_arms, d = d, k = k, alpha = alpha)\n",
    "    \n",
    "    # Store arm specific features\n",
    "    linucb_hybrid_policy_object.store_arm_features(top_movies_features.to_numpy())\n",
    "    \n",
    "    # Instantiate trackers\n",
    "    aligned_time_steps = 0\n",
    "    cumulative_rewards = 0\n",
    "    aligned_ctr = []\n",
    "    unaligned_ctr = [] # for unaligned time steps\n",
    "    \n",
    "  \n",
    "    data = filtered_data.copy()\n",
    "            # Initiate unused_data df\n",
    "    unused_data = pd.DataFrame(columns = [\"user_id\", \"movie_id\",\"rating\",\"reward\"])\n",
    "\n",
    "    for i in range(len(data)):\n",
    "\n",
    "            user_id = data.loc[i,\"user_id\"]\n",
    "            movie_id = data.loc[i, \"movie_id\"]\n",
    "\n",
    "            # x_array: User features\n",
    "            data_x_array = np.array(user_features.query(\"user_id == @user_id\").drop(\"user_id\", axis = 1)) # Shape (1 * 29), d = 29\n",
    "            data_x_array = data_x_array.reshape(29,1)\n",
    "\n",
    "            # Obtain rewards\n",
    "            data_reward = data.loc[i, \"reward\"]\n",
    "\n",
    "            if i%steps_printout == 0:\n",
    "                print(\"step \"+str(i))\n",
    "\n",
    "            # Find policy's chosen arm based on input covariates at current time step\n",
    "            chosen_arm_index = linucb_hybrid_policy_object.select_arm(data_x_array)\n",
    "\n",
    "\n",
    "            # Check if arm_index is the same as data_arm (ie same actions were chosen)\n",
    "            # Note that data_arms index range from 1 to 10 while policy arms index range from 0 to 9.\n",
    "            if linucb_hybrid_policy_object.linucb_arms[chosen_arm_index].index  == movie_id:\n",
    "\n",
    "\n",
    "                # Phase 1: Update shared feature matrices A_node, b_node in policy object\n",
    "                linucb_hybrid_policy_object.update_shared_features_matrices_phase1(linucb_hybrid_policy_object.linucb_arms[chosen_arm_index].B,\n",
    "                                                                                   linucb_hybrid_policy_object.linucb_arms[chosen_arm_index].A,\n",
    "                                                                                   linucb_hybrid_policy_object.linucb_arms[chosen_arm_index].b)\n",
    "                \n",
    "                # Extract chosen_arm arm_features to create z_array\n",
    "                data_z_array = np.outer(linucb_hybrid_policy_object.linucb_arms[chosen_arm_index].arm_features, data_x_array).reshape(-1,1)\n",
    "                \n",
    "                # Use reward information for the chosen arm to update\n",
    "                linucb_hybrid_policy_object.linucb_arms[chosen_arm_index].reward_update(data_reward, data_x_array, data_z_array)\n",
    "\n",
    "                # Phase 2: Update shared feature matrices A_node, b_node in policy object\n",
    "                linucb_hybrid_policy_object.update_shared_features_matrices_phase2(data_z_array,\n",
    "                                                                                   data_reward,\n",
    "                                                                                   linucb_hybrid_policy_object.linucb_arms[chosen_arm_index].B,\n",
    "                                                                                   linucb_hybrid_policy_object.linucb_arms[chosen_arm_index].A,\n",
    "                                                                                   linucb_hybrid_policy_object.linucb_arms[chosen_arm_index].b)\n",
    "\n",
    "                # For CTR calculation\n",
    "                aligned_time_steps += 1\n",
    "                cumulative_rewards += data_reward\n",
    "                aligned_ctr.append(cumulative_rewards/aligned_time_steps)\n",
    "            \n",
    "            else:\n",
    "                # Recycle data\n",
    "                unused_data = pd.concat([unused_data, data.iloc[i]])\n",
    "        \n",
    " \n",
    "\n",
    "    return {\"aligned_time_steps\": aligned_time_steps, \n",
    "            \"cumulative_rewards\": cumulative_rewards, \n",
    "            \"aligned_ctr\":aligned_ctr, \n",
    "            \"policy\":linucb_hybrid_policy_object}"
   ]
  },
  {
   "cell_type": "markdown",
   "metadata": {},
   "source": [
    "# Data Preprocessing"
   ]
  },
  {
   "cell_type": "code",
   "execution_count": 5,
   "metadata": {},
   "outputs": [],
   "source": [
    "from sklearn.preprocessing import OneHotEncoder"
   ]
  },
  {
   "cell_type": "markdown",
   "metadata": {},
   "source": [
    "## User data "
   ]
  },
  {
   "cell_type": "code",
   "execution_count": 6,
   "metadata": {},
   "outputs": [],
   "source": [
    "user = pd.read_csv(\"../data/ml-100k/u.user\", header = None, sep = \"|\")\n",
    "user.columns = [\"user_id\",\"age\",\"gender\",\"occupation\",\"zipcode\"]\n",
    "user = user.drop([\"zipcode\"], axis = 1)"
   ]
  },
  {
   "cell_type": "code",
   "execution_count": 7,
   "metadata": {},
   "outputs": [
    {
     "data": {
      "text/html": [
       "<div>\n",
       "<style scoped>\n",
       "    .dataframe tbody tr th:only-of-type {\n",
       "        vertical-align: middle;\n",
       "    }\n",
       "\n",
       "    .dataframe tbody tr th {\n",
       "        vertical-align: top;\n",
       "    }\n",
       "\n",
       "    .dataframe thead th {\n",
       "        text-align: right;\n",
       "    }\n",
       "</style>\n",
       "<table border=\"1\" class=\"dataframe\">\n",
       "  <thead>\n",
       "    <tr style=\"text-align: right;\">\n",
       "      <th></th>\n",
       "      <th>user_id</th>\n",
       "      <th>gender</th>\n",
       "      <th>occupation</th>\n",
       "      <th>agegroup</th>\n",
       "    </tr>\n",
       "  </thead>\n",
       "  <tbody>\n",
       "    <tr>\n",
       "      <th>0</th>\n",
       "      <td>1</td>\n",
       "      <td>M</td>\n",
       "      <td>technician</td>\n",
       "      <td>20-29</td>\n",
       "    </tr>\n",
       "    <tr>\n",
       "      <th>1</th>\n",
       "      <td>2</td>\n",
       "      <td>F</td>\n",
       "      <td>other</td>\n",
       "      <td>51-60</td>\n",
       "    </tr>\n",
       "    <tr>\n",
       "      <th>2</th>\n",
       "      <td>3</td>\n",
       "      <td>M</td>\n",
       "      <td>writer</td>\n",
       "      <td>20-29</td>\n",
       "    </tr>\n",
       "    <tr>\n",
       "      <th>3</th>\n",
       "      <td>4</td>\n",
       "      <td>M</td>\n",
       "      <td>technician</td>\n",
       "      <td>20-29</td>\n",
       "    </tr>\n",
       "    <tr>\n",
       "      <th>4</th>\n",
       "      <td>5</td>\n",
       "      <td>F</td>\n",
       "      <td>other</td>\n",
       "      <td>30-39</td>\n",
       "    </tr>\n",
       "  </tbody>\n",
       "</table>\n",
       "</div>"
      ],
      "text/plain": [
       "   user_id gender  occupation agegroup\n",
       "0        1      M  technician    20-29\n",
       "1        2      F       other    51-60\n",
       "2        3      M      writer    20-29\n",
       "3        4      M  technician    20-29\n",
       "4        5      F       other    30-39"
      ]
     },
     "execution_count": 7,
     "metadata": {},
     "output_type": "execute_result"
    }
   ],
   "source": [
    "bins = [0, 20, 30, 40, 50, 60, np.inf]\n",
    "names = ['<20', '20-29', '30-39','40-49', '51-60', '60+']\n",
    "\n",
    "user['agegroup'] = pd.cut(user['age'], bins, labels=names)\n",
    "user = user.drop([\"age\"], axis = 1)\n",
    "user.head()"
   ]
  },
  {
   "cell_type": "code",
   "execution_count": 8,
   "metadata": {},
   "outputs": [],
   "source": [
    "columnsToEncode = [\"agegroup\",\"gender\",\"occupation\"]\n",
    "myEncoder = OneHotEncoder(sparse_output=False, handle_unknown='ignore')\n",
    "myEncoder.fit(user[columnsToEncode])\n",
    "\n",
    "user_features = pd.concat([user.drop(columnsToEncode, axis = 1),\n",
    "                           pd.DataFrame(myEncoder.transform(user[columnsToEncode]), \n",
    "                                        columns = myEncoder.get_feature_names_out(columnsToEncode))], axis=1).reindex()"
   ]
  },
  {
   "cell_type": "code",
   "execution_count": 9,
   "metadata": {},
   "outputs": [
    {
     "data": {
      "text/html": [
       "<div>\n",
       "<style scoped>\n",
       "    .dataframe tbody tr th:only-of-type {\n",
       "        vertical-align: middle;\n",
       "    }\n",
       "\n",
       "    .dataframe tbody tr th {\n",
       "        vertical-align: top;\n",
       "    }\n",
       "\n",
       "    .dataframe thead th {\n",
       "        text-align: right;\n",
       "    }\n",
       "</style>\n",
       "<table border=\"1\" class=\"dataframe\">\n",
       "  <thead>\n",
       "    <tr style=\"text-align: right;\">\n",
       "      <th></th>\n",
       "      <th>user_id</th>\n",
       "      <th>agegroup_20-29</th>\n",
       "      <th>agegroup_30-39</th>\n",
       "      <th>agegroup_40-49</th>\n",
       "      <th>agegroup_51-60</th>\n",
       "      <th>agegroup_60+</th>\n",
       "      <th>agegroup_&lt;20</th>\n",
       "      <th>gender_F</th>\n",
       "      <th>gender_M</th>\n",
       "      <th>occupation_administrator</th>\n",
       "      <th>...</th>\n",
       "      <th>occupation_marketing</th>\n",
       "      <th>occupation_none</th>\n",
       "      <th>occupation_other</th>\n",
       "      <th>occupation_programmer</th>\n",
       "      <th>occupation_retired</th>\n",
       "      <th>occupation_salesman</th>\n",
       "      <th>occupation_scientist</th>\n",
       "      <th>occupation_student</th>\n",
       "      <th>occupation_technician</th>\n",
       "      <th>occupation_writer</th>\n",
       "    </tr>\n",
       "  </thead>\n",
       "  <tbody>\n",
       "    <tr>\n",
       "      <th>0</th>\n",
       "      <td>1</td>\n",
       "      <td>1.0</td>\n",
       "      <td>0.0</td>\n",
       "      <td>0.0</td>\n",
       "      <td>0.0</td>\n",
       "      <td>0.0</td>\n",
       "      <td>0.0</td>\n",
       "      <td>0.0</td>\n",
       "      <td>1.0</td>\n",
       "      <td>0.0</td>\n",
       "      <td>...</td>\n",
       "      <td>0.0</td>\n",
       "      <td>0.0</td>\n",
       "      <td>0.0</td>\n",
       "      <td>0.0</td>\n",
       "      <td>0.0</td>\n",
       "      <td>0.0</td>\n",
       "      <td>0.0</td>\n",
       "      <td>0.0</td>\n",
       "      <td>1.0</td>\n",
       "      <td>0.0</td>\n",
       "    </tr>\n",
       "    <tr>\n",
       "      <th>1</th>\n",
       "      <td>2</td>\n",
       "      <td>0.0</td>\n",
       "      <td>0.0</td>\n",
       "      <td>0.0</td>\n",
       "      <td>1.0</td>\n",
       "      <td>0.0</td>\n",
       "      <td>0.0</td>\n",
       "      <td>1.0</td>\n",
       "      <td>0.0</td>\n",
       "      <td>0.0</td>\n",
       "      <td>...</td>\n",
       "      <td>0.0</td>\n",
       "      <td>0.0</td>\n",
       "      <td>1.0</td>\n",
       "      <td>0.0</td>\n",
       "      <td>0.0</td>\n",
       "      <td>0.0</td>\n",
       "      <td>0.0</td>\n",
       "      <td>0.0</td>\n",
       "      <td>0.0</td>\n",
       "      <td>0.0</td>\n",
       "    </tr>\n",
       "    <tr>\n",
       "      <th>2</th>\n",
       "      <td>3</td>\n",
       "      <td>1.0</td>\n",
       "      <td>0.0</td>\n",
       "      <td>0.0</td>\n",
       "      <td>0.0</td>\n",
       "      <td>0.0</td>\n",
       "      <td>0.0</td>\n",
       "      <td>0.0</td>\n",
       "      <td>1.0</td>\n",
       "      <td>0.0</td>\n",
       "      <td>...</td>\n",
       "      <td>0.0</td>\n",
       "      <td>0.0</td>\n",
       "      <td>0.0</td>\n",
       "      <td>0.0</td>\n",
       "      <td>0.0</td>\n",
       "      <td>0.0</td>\n",
       "      <td>0.0</td>\n",
       "      <td>0.0</td>\n",
       "      <td>0.0</td>\n",
       "      <td>1.0</td>\n",
       "    </tr>\n",
       "    <tr>\n",
       "      <th>3</th>\n",
       "      <td>4</td>\n",
       "      <td>1.0</td>\n",
       "      <td>0.0</td>\n",
       "      <td>0.0</td>\n",
       "      <td>0.0</td>\n",
       "      <td>0.0</td>\n",
       "      <td>0.0</td>\n",
       "      <td>0.0</td>\n",
       "      <td>1.0</td>\n",
       "      <td>0.0</td>\n",
       "      <td>...</td>\n",
       "      <td>0.0</td>\n",
       "      <td>0.0</td>\n",
       "      <td>0.0</td>\n",
       "      <td>0.0</td>\n",
       "      <td>0.0</td>\n",
       "      <td>0.0</td>\n",
       "      <td>0.0</td>\n",
       "      <td>0.0</td>\n",
       "      <td>1.0</td>\n",
       "      <td>0.0</td>\n",
       "    </tr>\n",
       "    <tr>\n",
       "      <th>4</th>\n",
       "      <td>5</td>\n",
       "      <td>0.0</td>\n",
       "      <td>1.0</td>\n",
       "      <td>0.0</td>\n",
       "      <td>0.0</td>\n",
       "      <td>0.0</td>\n",
       "      <td>0.0</td>\n",
       "      <td>1.0</td>\n",
       "      <td>0.0</td>\n",
       "      <td>0.0</td>\n",
       "      <td>...</td>\n",
       "      <td>0.0</td>\n",
       "      <td>0.0</td>\n",
       "      <td>1.0</td>\n",
       "      <td>0.0</td>\n",
       "      <td>0.0</td>\n",
       "      <td>0.0</td>\n",
       "      <td>0.0</td>\n",
       "      <td>0.0</td>\n",
       "      <td>0.0</td>\n",
       "      <td>0.0</td>\n",
       "    </tr>\n",
       "  </tbody>\n",
       "</table>\n",
       "<p>5 rows × 30 columns</p>\n",
       "</div>"
      ],
      "text/plain": [
       "   user_id  agegroup_20-29  agegroup_30-39  agegroup_40-49  agegroup_51-60  \\\n",
       "0        1             1.0             0.0             0.0             0.0   \n",
       "1        2             0.0             0.0             0.0             1.0   \n",
       "2        3             1.0             0.0             0.0             0.0   \n",
       "3        4             1.0             0.0             0.0             0.0   \n",
       "4        5             0.0             1.0             0.0             0.0   \n",
       "\n",
       "   agegroup_60+  agegroup_<20  gender_F  gender_M  occupation_administrator  \\\n",
       "0           0.0           0.0       0.0       1.0                       0.0   \n",
       "1           0.0           0.0       1.0       0.0                       0.0   \n",
       "2           0.0           0.0       0.0       1.0                       0.0   \n",
       "3           0.0           0.0       0.0       1.0                       0.0   \n",
       "4           0.0           0.0       1.0       0.0                       0.0   \n",
       "\n",
       "   ...  occupation_marketing  occupation_none  occupation_other  \\\n",
       "0  ...                   0.0              0.0               0.0   \n",
       "1  ...                   0.0              0.0               1.0   \n",
       "2  ...                   0.0              0.0               0.0   \n",
       "3  ...                   0.0              0.0               0.0   \n",
       "4  ...                   0.0              0.0               1.0   \n",
       "\n",
       "   occupation_programmer  occupation_retired  occupation_salesman  \\\n",
       "0                    0.0                 0.0                  0.0   \n",
       "1                    0.0                 0.0                  0.0   \n",
       "2                    0.0                 0.0                  0.0   \n",
       "3                    0.0                 0.0                  0.0   \n",
       "4                    0.0                 0.0                  0.0   \n",
       "\n",
       "   occupation_scientist  occupation_student  occupation_technician  \\\n",
       "0                   0.0                 0.0                    1.0   \n",
       "1                   0.0                 0.0                    0.0   \n",
       "2                   0.0                 0.0                    0.0   \n",
       "3                   0.0                 0.0                    1.0   \n",
       "4                   0.0                 0.0                    0.0   \n",
       "\n",
       "   occupation_writer  \n",
       "0                0.0  \n",
       "1                0.0  \n",
       "2                1.0  \n",
       "3                0.0  \n",
       "4                0.0  \n",
       "\n",
       "[5 rows x 30 columns]"
      ]
     },
     "execution_count": 9,
     "metadata": {},
     "output_type": "execute_result"
    }
   ],
   "source": [
    "user_features.head()"
   ]
  },
  {
   "cell_type": "markdown",
   "metadata": {},
   "source": [
    "## Movie Data (Arm)"
   ]
  },
  {
   "cell_type": "code",
   "execution_count": 10,
   "metadata": {},
   "outputs": [],
   "source": [
    "movie = pd.read_csv(\"../data/ml-100k/u.item\", header = None, sep = \"|\", encoding='latin-1')\n",
    "movie.columns = [\"movie_id\", \"movie_title\", \"release_date\", \"video_release_date\", \"IMDb_URL\", \n",
    "                  \"unknown\", \"Action\", \"Adventure\",\"Animation\",\"Children's\",\"Comedy\",\"Crime\",\"Documentary\",\"Drama\",\"Fantasy\",\n",
    "                  \"Film-Noir\",\"Horror\", \"Musical\", \"Mystery\",\"Romance\",\"Sci-Fi\",\"Thriller\", \"War\",\"Western\"]"
   ]
  },
  {
   "cell_type": "code",
   "execution_count": 11,
   "metadata": {},
   "outputs": [
    {
     "data": {
      "text/html": [
       "<div>\n",
       "<style scoped>\n",
       "    .dataframe tbody tr th:only-of-type {\n",
       "        vertical-align: middle;\n",
       "    }\n",
       "\n",
       "    .dataframe tbody tr th {\n",
       "        vertical-align: top;\n",
       "    }\n",
       "\n",
       "    .dataframe thead th {\n",
       "        text-align: right;\n",
       "    }\n",
       "</style>\n",
       "<table border=\"1\" class=\"dataframe\">\n",
       "  <thead>\n",
       "    <tr style=\"text-align: right;\">\n",
       "      <th></th>\n",
       "      <th>movie_id</th>\n",
       "      <th>unknown</th>\n",
       "      <th>Action</th>\n",
       "      <th>Adventure</th>\n",
       "      <th>Animation</th>\n",
       "      <th>Children's</th>\n",
       "      <th>Comedy</th>\n",
       "      <th>Crime</th>\n",
       "      <th>Documentary</th>\n",
       "      <th>Drama</th>\n",
       "      <th>Fantasy</th>\n",
       "      <th>Film-Noir</th>\n",
       "      <th>Horror</th>\n",
       "      <th>Musical</th>\n",
       "      <th>Mystery</th>\n",
       "      <th>Romance</th>\n",
       "      <th>Sci-Fi</th>\n",
       "      <th>Thriller</th>\n",
       "      <th>War</th>\n",
       "      <th>Western</th>\n",
       "    </tr>\n",
       "  </thead>\n",
       "  <tbody>\n",
       "    <tr>\n",
       "      <th>0</th>\n",
       "      <td>1</td>\n",
       "      <td>0</td>\n",
       "      <td>0</td>\n",
       "      <td>0</td>\n",
       "      <td>1</td>\n",
       "      <td>1</td>\n",
       "      <td>1</td>\n",
       "      <td>0</td>\n",
       "      <td>0</td>\n",
       "      <td>0</td>\n",
       "      <td>0</td>\n",
       "      <td>0</td>\n",
       "      <td>0</td>\n",
       "      <td>0</td>\n",
       "      <td>0</td>\n",
       "      <td>0</td>\n",
       "      <td>0</td>\n",
       "      <td>0</td>\n",
       "      <td>0</td>\n",
       "      <td>0</td>\n",
       "    </tr>\n",
       "    <tr>\n",
       "      <th>1</th>\n",
       "      <td>2</td>\n",
       "      <td>0</td>\n",
       "      <td>1</td>\n",
       "      <td>1</td>\n",
       "      <td>0</td>\n",
       "      <td>0</td>\n",
       "      <td>0</td>\n",
       "      <td>0</td>\n",
       "      <td>0</td>\n",
       "      <td>0</td>\n",
       "      <td>0</td>\n",
       "      <td>0</td>\n",
       "      <td>0</td>\n",
       "      <td>0</td>\n",
       "      <td>0</td>\n",
       "      <td>0</td>\n",
       "      <td>0</td>\n",
       "      <td>1</td>\n",
       "      <td>0</td>\n",
       "      <td>0</td>\n",
       "    </tr>\n",
       "    <tr>\n",
       "      <th>2</th>\n",
       "      <td>3</td>\n",
       "      <td>0</td>\n",
       "      <td>0</td>\n",
       "      <td>0</td>\n",
       "      <td>0</td>\n",
       "      <td>0</td>\n",
       "      <td>0</td>\n",
       "      <td>0</td>\n",
       "      <td>0</td>\n",
       "      <td>0</td>\n",
       "      <td>0</td>\n",
       "      <td>0</td>\n",
       "      <td>0</td>\n",
       "      <td>0</td>\n",
       "      <td>0</td>\n",
       "      <td>0</td>\n",
       "      <td>0</td>\n",
       "      <td>1</td>\n",
       "      <td>0</td>\n",
       "      <td>0</td>\n",
       "    </tr>\n",
       "    <tr>\n",
       "      <th>3</th>\n",
       "      <td>4</td>\n",
       "      <td>0</td>\n",
       "      <td>1</td>\n",
       "      <td>0</td>\n",
       "      <td>0</td>\n",
       "      <td>0</td>\n",
       "      <td>1</td>\n",
       "      <td>0</td>\n",
       "      <td>0</td>\n",
       "      <td>1</td>\n",
       "      <td>0</td>\n",
       "      <td>0</td>\n",
       "      <td>0</td>\n",
       "      <td>0</td>\n",
       "      <td>0</td>\n",
       "      <td>0</td>\n",
       "      <td>0</td>\n",
       "      <td>0</td>\n",
       "      <td>0</td>\n",
       "      <td>0</td>\n",
       "    </tr>\n",
       "    <tr>\n",
       "      <th>4</th>\n",
       "      <td>5</td>\n",
       "      <td>0</td>\n",
       "      <td>0</td>\n",
       "      <td>0</td>\n",
       "      <td>0</td>\n",
       "      <td>0</td>\n",
       "      <td>0</td>\n",
       "      <td>1</td>\n",
       "      <td>0</td>\n",
       "      <td>1</td>\n",
       "      <td>0</td>\n",
       "      <td>0</td>\n",
       "      <td>0</td>\n",
       "      <td>0</td>\n",
       "      <td>0</td>\n",
       "      <td>0</td>\n",
       "      <td>0</td>\n",
       "      <td>1</td>\n",
       "      <td>0</td>\n",
       "      <td>0</td>\n",
       "    </tr>\n",
       "    <tr>\n",
       "      <th>...</th>\n",
       "      <td>...</td>\n",
       "      <td>...</td>\n",
       "      <td>...</td>\n",
       "      <td>...</td>\n",
       "      <td>...</td>\n",
       "      <td>...</td>\n",
       "      <td>...</td>\n",
       "      <td>...</td>\n",
       "      <td>...</td>\n",
       "      <td>...</td>\n",
       "      <td>...</td>\n",
       "      <td>...</td>\n",
       "      <td>...</td>\n",
       "      <td>...</td>\n",
       "      <td>...</td>\n",
       "      <td>...</td>\n",
       "      <td>...</td>\n",
       "      <td>...</td>\n",
       "      <td>...</td>\n",
       "      <td>...</td>\n",
       "    </tr>\n",
       "    <tr>\n",
       "      <th>1677</th>\n",
       "      <td>1678</td>\n",
       "      <td>0</td>\n",
       "      <td>0</td>\n",
       "      <td>0</td>\n",
       "      <td>0</td>\n",
       "      <td>0</td>\n",
       "      <td>0</td>\n",
       "      <td>0</td>\n",
       "      <td>0</td>\n",
       "      <td>1</td>\n",
       "      <td>0</td>\n",
       "      <td>0</td>\n",
       "      <td>0</td>\n",
       "      <td>0</td>\n",
       "      <td>0</td>\n",
       "      <td>0</td>\n",
       "      <td>0</td>\n",
       "      <td>0</td>\n",
       "      <td>0</td>\n",
       "      <td>0</td>\n",
       "    </tr>\n",
       "    <tr>\n",
       "      <th>1678</th>\n",
       "      <td>1679</td>\n",
       "      <td>0</td>\n",
       "      <td>0</td>\n",
       "      <td>0</td>\n",
       "      <td>0</td>\n",
       "      <td>0</td>\n",
       "      <td>0</td>\n",
       "      <td>0</td>\n",
       "      <td>0</td>\n",
       "      <td>0</td>\n",
       "      <td>0</td>\n",
       "      <td>0</td>\n",
       "      <td>0</td>\n",
       "      <td>0</td>\n",
       "      <td>0</td>\n",
       "      <td>1</td>\n",
       "      <td>0</td>\n",
       "      <td>1</td>\n",
       "      <td>0</td>\n",
       "      <td>0</td>\n",
       "    </tr>\n",
       "    <tr>\n",
       "      <th>1679</th>\n",
       "      <td>1680</td>\n",
       "      <td>0</td>\n",
       "      <td>0</td>\n",
       "      <td>0</td>\n",
       "      <td>0</td>\n",
       "      <td>0</td>\n",
       "      <td>0</td>\n",
       "      <td>0</td>\n",
       "      <td>0</td>\n",
       "      <td>1</td>\n",
       "      <td>0</td>\n",
       "      <td>0</td>\n",
       "      <td>0</td>\n",
       "      <td>0</td>\n",
       "      <td>0</td>\n",
       "      <td>1</td>\n",
       "      <td>0</td>\n",
       "      <td>0</td>\n",
       "      <td>0</td>\n",
       "      <td>0</td>\n",
       "    </tr>\n",
       "    <tr>\n",
       "      <th>1680</th>\n",
       "      <td>1681</td>\n",
       "      <td>0</td>\n",
       "      <td>0</td>\n",
       "      <td>0</td>\n",
       "      <td>0</td>\n",
       "      <td>0</td>\n",
       "      <td>1</td>\n",
       "      <td>0</td>\n",
       "      <td>0</td>\n",
       "      <td>0</td>\n",
       "      <td>0</td>\n",
       "      <td>0</td>\n",
       "      <td>0</td>\n",
       "      <td>0</td>\n",
       "      <td>0</td>\n",
       "      <td>0</td>\n",
       "      <td>0</td>\n",
       "      <td>0</td>\n",
       "      <td>0</td>\n",
       "      <td>0</td>\n",
       "    </tr>\n",
       "    <tr>\n",
       "      <th>1681</th>\n",
       "      <td>1682</td>\n",
       "      <td>0</td>\n",
       "      <td>0</td>\n",
       "      <td>0</td>\n",
       "      <td>0</td>\n",
       "      <td>0</td>\n",
       "      <td>0</td>\n",
       "      <td>0</td>\n",
       "      <td>0</td>\n",
       "      <td>1</td>\n",
       "      <td>0</td>\n",
       "      <td>0</td>\n",
       "      <td>0</td>\n",
       "      <td>0</td>\n",
       "      <td>0</td>\n",
       "      <td>0</td>\n",
       "      <td>0</td>\n",
       "      <td>0</td>\n",
       "      <td>0</td>\n",
       "      <td>0</td>\n",
       "    </tr>\n",
       "  </tbody>\n",
       "</table>\n",
       "<p>1682 rows × 20 columns</p>\n",
       "</div>"
      ],
      "text/plain": [
       "      movie_id  unknown  Action  Adventure  Animation  Children's  Comedy  \\\n",
       "0            1        0       0          0          1           1       1   \n",
       "1            2        0       1          1          0           0       0   \n",
       "2            3        0       0          0          0           0       0   \n",
       "3            4        0       1          0          0           0       1   \n",
       "4            5        0       0          0          0           0       0   \n",
       "...        ...      ...     ...        ...        ...         ...     ...   \n",
       "1677      1678        0       0          0          0           0       0   \n",
       "1678      1679        0       0          0          0           0       0   \n",
       "1679      1680        0       0          0          0           0       0   \n",
       "1680      1681        0       0          0          0           0       1   \n",
       "1681      1682        0       0          0          0           0       0   \n",
       "\n",
       "      Crime  Documentary  Drama  Fantasy  Film-Noir  Horror  Musical  Mystery  \\\n",
       "0         0            0      0        0          0       0        0        0   \n",
       "1         0            0      0        0          0       0        0        0   \n",
       "2         0            0      0        0          0       0        0        0   \n",
       "3         0            0      1        0          0       0        0        0   \n",
       "4         1            0      1        0          0       0        0        0   \n",
       "...     ...          ...    ...      ...        ...     ...      ...      ...   \n",
       "1677      0            0      1        0          0       0        0        0   \n",
       "1678      0            0      0        0          0       0        0        0   \n",
       "1679      0            0      1        0          0       0        0        0   \n",
       "1680      0            0      0        0          0       0        0        0   \n",
       "1681      0            0      1        0          0       0        0        0   \n",
       "\n",
       "      Romance  Sci-Fi  Thriller  War  Western  \n",
       "0           0       0         0    0        0  \n",
       "1           0       0         1    0        0  \n",
       "2           0       0         1    0        0  \n",
       "3           0       0         0    0        0  \n",
       "4           0       0         1    0        0  \n",
       "...       ...     ...       ...  ...      ...  \n",
       "1677        0       0         0    0        0  \n",
       "1678        1       0         1    0        0  \n",
       "1679        1       0         0    0        0  \n",
       "1680        0       0         0    0        0  \n",
       "1681        0       0         0    0        0  \n",
       "\n",
       "[1682 rows x 20 columns]"
      ]
     },
     "execution_count": 11,
     "metadata": {},
     "output_type": "execute_result"
    }
   ],
   "source": [
    "movie_features = movie.drop([\"movie_title\",\"release_date\", \"video_release_date\", \"IMDb_URL\"],axis = 1)\n",
    "movie_features"
   ]
  },
  {
   "cell_type": "markdown",
   "metadata": {},
   "source": [
    "## Stream data of users with movie ratings & reward"
   ]
  },
  {
   "cell_type": "code",
   "execution_count": 27,
   "metadata": {},
   "outputs": [],
   "source": [
    "data = pd.read_csv(\"../data/ml-100k/u.data\", sep =\"\\t\", header=None, names = [\"user_id\", \"movie_id\",\"rating\", \"timestamp\"])\n",
    "data = data.drop([\"timestamp\"], axis = 1)"
   ]
  },
  {
   "cell_type": "markdown",
   "metadata": {},
   "source": [
    "На всех данных будет отрабатывать миллион лет)) возьмем первые 10000\n",
    "\n",
    "Для ответа на ДЗ этого достаточно \n",
    "\n",
    "Можете попробовать взять побольше))"
   ]
  },
  {
   "cell_type": "code",
   "execution_count": 28,
   "metadata": {},
   "outputs": [],
   "source": [
    "\n",
    "data = data.head(10000)"
   ]
  },
  {
   "cell_type": "code",
   "execution_count": 29,
   "metadata": {},
   "outputs": [
    {
     "data": {
      "text/plain": [
       "1254"
      ]
     },
     "execution_count": 29,
     "metadata": {},
     "output_type": "execute_result"
    }
   ],
   "source": [
    "n = 30\n",
    "\n",
    "# Find total number of ratings instances for top n movies\n",
    "data.groupby(\"movie_id\").count().sort_values(\"user_id\", ascending = False).head(n)[\"rating\"].sum()"
   ]
  },
  {
   "cell_type": "code",
   "execution_count": 30,
   "metadata": {},
   "outputs": [],
   "source": [
    "# Obtain top movies index\n",
    "top_movies_index = data.groupby(\"movie_id\").count().sort_values(\"user_id\", ascending = False).head(n).reset_index()[\"movie_id\"]"
   ]
  },
  {
   "cell_type": "code",
   "execution_count": 31,
   "metadata": {},
   "outputs": [],
   "source": [
    "top_movies_features = movie_features[movie_features.movie_id.isin(top_movies_index)]"
   ]
  },
  {
   "cell_type": "code",
   "execution_count": 32,
   "metadata": {},
   "outputs": [
    {
     "data": {
      "text/plain": [
       "(30, 20)"
      ]
     },
     "execution_count": 32,
     "metadata": {},
     "output_type": "execute_result"
    }
   ],
   "source": [
    "top_movies_features.to_numpy().shape"
   ]
  },
  {
   "cell_type": "code",
   "execution_count": 33,
   "metadata": {},
   "outputs": [
    {
     "data": {
      "text/html": [
       "<div>\n",
       "<style scoped>\n",
       "    .dataframe tbody tr th:only-of-type {\n",
       "        vertical-align: middle;\n",
       "    }\n",
       "\n",
       "    .dataframe tbody tr th {\n",
       "        vertical-align: top;\n",
       "    }\n",
       "\n",
       "    .dataframe thead th {\n",
       "        text-align: right;\n",
       "    }\n",
       "</style>\n",
       "<table border=\"1\" class=\"dataframe\">\n",
       "  <thead>\n",
       "    <tr style=\"text-align: right;\">\n",
       "      <th></th>\n",
       "      <th>user_id</th>\n",
       "      <th>movie_id</th>\n",
       "      <th>rating</th>\n",
       "    </tr>\n",
       "  </thead>\n",
       "  <tbody>\n",
       "    <tr>\n",
       "      <th>12</th>\n",
       "      <td>200</td>\n",
       "      <td>222</td>\n",
       "      <td>5</td>\n",
       "    </tr>\n",
       "    <tr>\n",
       "      <th>24</th>\n",
       "      <td>308</td>\n",
       "      <td>1</td>\n",
       "      <td>4</td>\n",
       "    </tr>\n",
       "    <tr>\n",
       "      <th>31</th>\n",
       "      <td>301</td>\n",
       "      <td>98</td>\n",
       "      <td>4</td>\n",
       "    </tr>\n",
       "    <tr>\n",
       "      <th>50</th>\n",
       "      <td>251</td>\n",
       "      <td>100</td>\n",
       "      <td>4</td>\n",
       "    </tr>\n",
       "    <tr>\n",
       "      <th>53</th>\n",
       "      <td>25</td>\n",
       "      <td>181</td>\n",
       "      <td>5</td>\n",
       "    </tr>\n",
       "  </tbody>\n",
       "</table>\n",
       "</div>"
      ],
      "text/plain": [
       "    user_id  movie_id  rating\n",
       "12      200       222       5\n",
       "24      308         1       4\n",
       "31      301        98       4\n",
       "50      251       100       4\n",
       "53       25       181       5"
      ]
     },
     "execution_count": 33,
     "metadata": {},
     "output_type": "execute_result"
    }
   ],
   "source": [
    "filtered_data_original = data[data[\"movie_id\"].isin(top_movies_index)]\n",
    "\n",
    "filtered_data_original.head()"
   ]
  },
  {
   "cell_type": "code",
   "execution_count": 34,
   "metadata": {},
   "outputs": [
    {
     "name": "stderr",
     "output_type": "stream",
     "text": [
      "/var/folders/00/dcw8mcnn45533l6035p6_1nw0000gn/T/ipykernel_40177/1568349636.py:1: SettingWithCopyWarning: \n",
      "A value is trying to be set on a copy of a slice from a DataFrame.\n",
      "Try using .loc[row_indexer,col_indexer] = value instead\n",
      "\n",
      "See the caveats in the documentation: https://pandas.pydata.org/pandas-docs/stable/user_guide/indexing.html#returning-a-view-versus-a-copy\n",
      "  filtered_data_original[\"reward\"] = np.where(filtered_data_original[\"rating\"] <5,0,1)\n"
     ]
    }
   ],
   "source": [
    "filtered_data_original[\"reward\"] = np.where(filtered_data_original[\"rating\"] <5,0,1)\n",
    "\n",
    "filtered_data_original = filtered_data_original.reset_index(drop = True)"
   ]
  },
  {
   "cell_type": "code",
   "execution_count": 35,
   "metadata": {},
   "outputs": [
    {
     "data": {
      "text/html": [
       "<div>\n",
       "<style scoped>\n",
       "    .dataframe tbody tr th:only-of-type {\n",
       "        vertical-align: middle;\n",
       "    }\n",
       "\n",
       "    .dataframe tbody tr th {\n",
       "        vertical-align: top;\n",
       "    }\n",
       "\n",
       "    .dataframe thead th {\n",
       "        text-align: right;\n",
       "    }\n",
       "</style>\n",
       "<table border=\"1\" class=\"dataframe\">\n",
       "  <thead>\n",
       "    <tr style=\"text-align: right;\">\n",
       "      <th></th>\n",
       "      <th>user_id</th>\n",
       "      <th>movie_id</th>\n",
       "      <th>rating</th>\n",
       "      <th>reward</th>\n",
       "    </tr>\n",
       "  </thead>\n",
       "  <tbody>\n",
       "    <tr>\n",
       "      <th>0</th>\n",
       "      <td>200</td>\n",
       "      <td>222</td>\n",
       "      <td>5</td>\n",
       "      <td>1</td>\n",
       "    </tr>\n",
       "    <tr>\n",
       "      <th>1</th>\n",
       "      <td>308</td>\n",
       "      <td>1</td>\n",
       "      <td>4</td>\n",
       "      <td>0</td>\n",
       "    </tr>\n",
       "    <tr>\n",
       "      <th>2</th>\n",
       "      <td>301</td>\n",
       "      <td>98</td>\n",
       "      <td>4</td>\n",
       "      <td>0</td>\n",
       "    </tr>\n",
       "    <tr>\n",
       "      <th>3</th>\n",
       "      <td>251</td>\n",
       "      <td>100</td>\n",
       "      <td>4</td>\n",
       "      <td>0</td>\n",
       "    </tr>\n",
       "    <tr>\n",
       "      <th>4</th>\n",
       "      <td>25</td>\n",
       "      <td>181</td>\n",
       "      <td>5</td>\n",
       "      <td>1</td>\n",
       "    </tr>\n",
       "  </tbody>\n",
       "</table>\n",
       "</div>"
      ],
      "text/plain": [
       "   user_id  movie_id  rating  reward\n",
       "0      200       222       5       1\n",
       "1      308         1       4       0\n",
       "2      301        98       4       0\n",
       "3      251       100       4       0\n",
       "4       25       181       5       1"
      ]
     },
     "execution_count": 35,
     "metadata": {},
     "output_type": "execute_result"
    }
   ],
   "source": [
    "filtered_data_original.head()"
   ]
  },
  {
   "cell_type": "code",
   "execution_count": 36,
   "metadata": {},
   "outputs": [
    {
     "data": {
      "text/plain": [
       "<Axes: >"
      ]
     },
     "execution_count": 36,
     "metadata": {},
     "output_type": "execute_result"
    },
    {
     "data": {
      "image/png": "[encoded data removed]",
      "text/plain": [
       "<Figure size 640x480 with 1 Axes>"
      ]
     },
     "metadata": {},
     "output_type": "display_data"
    }
   ],
   "source": [
    "filtered_data_original.reward.hist()"
   ]
  },
  {
   "cell_type": "code",
   "execution_count": 37,
   "metadata": {},
   "outputs": [
    {
     "data": {
      "text/plain": [
       "0.310207336523126"
      ]
     },
     "execution_count": 37,
     "metadata": {},
     "output_type": "execute_result"
    }
   ],
   "source": [
    "reward_mean = filtered_data_original.reward.mean()\n",
    "reward_mean"
   ]
  },
  {
   "cell_type": "code",
   "execution_count": 41,
   "metadata": {},
   "outputs": [],
   "source": [
    "# Reshuffling rows to randomise it\n",
    "np.random.seed(100)\n",
    "filtered_data = filtered_data_original.reindex(np.random.permutation(filtered_data_original.index)).reset_index(drop = True)"
   ]
  },
  {
   "cell_type": "code",
   "execution_count": 54,
   "metadata": {},
   "outputs": [
    {
     "name": "stdout",
     "output_type": "stream",
     "text": [
      "step 0\n",
      "step 200\n",
      "step 400\n",
      "step 600\n",
      "step 800\n",
      "step 1000\n",
      "step 1200\n"
     ]
    },
    {
     "data": {
      "text/plain": [
       "Text(0.5, 1.0, 'alpha = 1.0')"
      ]
     },
     "execution_count": 54,
     "metadata": {},
     "output_type": "execute_result"
    },
    {
     "data": {
      "image/png": "[encoded data removed]",
      "text/plain": [
       "<Figure size 640x480 with 1 Axes>"
      ]
     },
     "metadata": {},
     "output_type": "display_data"
    }
   ],
   "source": [
    "alpha_value = 1.0\n",
    "simulation_hybrid_alpha_10 = ctr_simulator(K_arms = n, \n",
    "                                           d = 29,\n",
    "                                           k = 29*19,\n",
    "                                           alpha = alpha_value, \n",
    "                                           top_movies_index = top_movies_index, \n",
    "                                           top_movies_features=top_movies_features,\n",
    "                                           steps_printout=200)\n",
    "plt.plot(simulation_hybrid_alpha_10[\"aligned_ctr\"])\n",
    "plt.axhline(y=reward_mean, color = \"red\")\n",
    "plt.title(\"alpha = \"+str(alpha_value))"
   ]
  },
  {
   "cell_type": "code",
   "execution_count": 46,
   "metadata": {},
   "outputs": [
    {
     "name": "stdout",
     "output_type": "stream",
     "text": [
      "step 0\n",
      "step 200\n",
      "step 400\n",
      "step 600\n",
      "step 800\n",
      "step 1000\n",
      "step 1200\n"
     ]
    },
    {
     "data": {
      "text/plain": [
       "Text(0.5, 1.0, 'alpha = 0.25')"
      ]
     },
     "execution_count": 46,
     "metadata": {},
     "output_type": "execute_result"
    },
    {
     "data": {
      "image/png": "[encoded data removed]",
      "text/plain": [
       "<Figure size 640x480 with 1 Axes>"
      ]
     },
     "metadata": {},
     "output_type": "display_data"
    }
   ],
   "source": [
    "alpha_value = 0.25\n",
    "simulation_hybrid_alpha_025 = ctr_simulator(K_arms = n, \n",
    "                                           d = 29,\n",
    "                                           k = 29*19,\n",
    "                                           alpha = alpha_value, \n",
    "                                           top_movies_index = top_movies_index, \n",
    "                                           top_movies_features=top_movies_features,\n",
    "                                           steps_printout=200)\n",
    "plt.plot(simulation_hybrid_alpha_025[\"aligned_ctr\"])\n",
    "plt.axhline(y=reward_mean, color = \"red\")\n",
    "plt.title(\"alpha = \"+str(alpha_value))"
   ]
  },
  {
   "cell_type": "markdown",
   "metadata": {},
   "source": [
    "## LinUCB Disjoint Simulation"
   ]
  },
  {
   "cell_type": "markdown",
   "metadata": {},
   "source": [
    "А здесь нужно реализовать простой алгоритм LinUCB (см Algorithm 1 в статье -> https://arxiv.org/pdf/1003.0146 )\n",
    "\n",
    "прям копипаст с семинара))\n",
    "\n"
   ]
  },
  {
   "cell_type": "code",
   "execution_count": null,
   "metadata": {},
   "outputs": [],
   "source": [
    "# Create class object for a single linear ucb disjoint arm\n",
    "class linucb_disjoint_arm():\n",
    "    \n",
    "    def __init__(self, arm_index, d, alpha):\n",
    "        \n",
    "        # Track arm index\n",
    "        self.arm_index = ...\n",
    "        \n",
    "        # Keep track of alpha\n",
    "        self.alpha = ...\n",
    "        \n",
    "        # A: (d x d) matrix = D_a.T * D_a + I_d. \n",
    "        # The inverse of A is used in ridge regression \n",
    "        self.A = ...\n",
    "        \n",
    "        # b: (d x 1) corresponding response vector. \n",
    "        # Equals to D_a.T * c_a in ridge regression formulation\n",
    "        self.b = ...\n",
    "        \n",
    "    def calc_UCB(self, x_array):\n",
    "        # Find A inverse for ridge regression\n",
    "        A_inv = ...\n",
    "        \n",
    "        # Perform ridge regression to obtain estimate of covariate coefficients theta\n",
    "        # theta is (d x 1) dimension vector\n",
    "        self.theta = ...\n",
    "        \n",
    "        # Find ucb based on p formulation (mean + std_dev) \n",
    "        # p is (1 x 1) dimension vector\n",
    "        p = ...\n",
    "        \n",
    "        return p\n",
    "    \n",
    "    def reward_update(self, reward, x_array):\n",
    "        # Update A which is (d * d) matrix.\n",
    "        self.A += ...\n",
    "        # Update b which is (d x 1) vector\n",
    "        # reward is scalar\n",
    "        self.b += ..."
   ]
  },
  {
   "cell_type": "markdown",
   "metadata": {},
   "source": [
    "в linucb_disjoint_policy здесь слудует только реализвать функцию выбора ручки "
   ]
  },
  {
   "cell_type": "code",
   "execution_count": null,
   "metadata": {},
   "outputs": [],
   "source": [
    "class linucb_disjoint_policy():\n",
    "    \n",
    "    def __init__(self, K_arms, d, alpha):\n",
    "        self.K_arms = K_arms\n",
    "        self.linucb_arms = [linucb_disjoint_arm(arm_index = i, d = d, alpha = alpha) for i in range(K_arms)]\n",
    "        \n",
    "    def select_arm(self, x_array):\n",
    "        pass\n",
    "        return\n",
    "    \n",
    "    def store_arm_index(self, arms_index_array):\n",
    "    # Arms_features_array is multidimension array of shape (K_arms, 1+arm_dimensions), where 1 is for arm_index\n",
    "\n",
    "        # Loop through all arms to store the individual arms\n",
    "        for i in range(self.K_arms):\n",
    "\n",
    "            self.linucb_arms[i].arm_index = arms_index_array[i]"
   ]
  },
  {
   "cell_type": "code",
   "execution_count": 50,
   "metadata": {},
   "outputs": [],
   "source": [
    "def ctr_disjoint_simulator(K_arms, d, alpha, top_movies_index, steps_printout):\n",
    "    # Initiate policy\n",
    "    linucb_disjoint_policy_object = linucb_disjoint_policy(K_arms = K_arms, d = d, alpha = alpha)\n",
    "    \n",
    "    # Store specific arm_index\n",
    "    linucb_disjoint_policy_object.store_arm_index(top_movies_index.to_numpy())\n",
    "    \n",
    "    # Instantiate trackers\n",
    "    aligned_time_steps = 0\n",
    "    cumulative_rewards = 0\n",
    "    aligned_ctr = []\n",
    "    unaligned_ctr = [] # for unaligned time steps\n",
    "    \n",
    "    data = filtered_data.copy()\n",
    "            # Initiate unused_data df\n",
    "    unused_data = pd.DataFrame(columns = [\"user_id\", \"movie_id\",\"rating\",\"reward\"])\n",
    "        \n",
    "    for i in range(len(data)):\n",
    "\n",
    "            user_id = data.loc[i,\"user_id\"]\n",
    "            movie_id = data.loc[i, \"movie_id\"]\n",
    "\n",
    "            # x_array: User features\n",
    "            data_x_array = np.array(user_features.query(\"user_id == @user_id\").drop(\"user_id\", axis = 1)) # Shape (1 * 29), d = 29\n",
    "            data_x_array = data_x_array.reshape(29,1)\n",
    "\n",
    "            # Obtain rewards\n",
    "            data_reward = data.loc[i, \"reward\"]\n",
    "\n",
    "            if i%steps_printout == 0:\n",
    "                print(\"step \"+str(i))\n",
    "\n",
    "            # Find policy's chosen arm based on input covariates at current time step\n",
    "            chosen_arm_index = linucb_disjoint_policy_object.select_arm(data_x_array)\n",
    "\n",
    "            # Check if arm_index is the same as data_arm (ie same actions were chosen)\n",
    "            # Note that data_arms index range from 1 to 10 while policy arms index range from 0 to 9.\n",
    "            if linucb_disjoint_policy_object.linucb_arms[chosen_arm_index].arm_index  == movie_id:\n",
    "\n",
    "                # Use reward information for the chosen arm to update\n",
    "                linucb_disjoint_policy_object.linucb_arms[chosen_arm_index].reward_update(data_reward, data_x_array)\n",
    "                \n",
    "                # For CTR calculation\n",
    "                aligned_time_steps += 1\n",
    "                cumulative_rewards += data_reward\n",
    "                aligned_ctr.append(cumulative_rewards/aligned_time_steps)\n",
    "            \n",
    "            else:\n",
    "                # Recycle data\n",
    "                unused_data = pd.concat([unused_data, data.iloc[i]])    \n",
    "        \n",
    "                    \n",
    "    return {\"aligned_time_steps\": aligned_time_steps, \n",
    "            \"cumulative_rewards\": cumulative_rewards, \n",
    "            \"aligned_ctr\":aligned_ctr, \n",
    "            \"policy\":linucb_disjoint_policy_object}"
   ]
  },
  {
   "cell_type": "markdown",
   "metadata": {},
   "source": [
    "# Compare Disjoint vs Hybrid (alpha = 0.25) for a single simulation run"
   ]
  },
  {
   "cell_type": "code",
   "execution_count": 52,
   "metadata": {},
   "outputs": [
    {
     "name": "stdout",
     "output_type": "stream",
     "text": [
      "step 0\n",
      "step 200\n",
      "step 400\n",
      "step 600\n",
      "step 800\n",
      "step 1000\n",
      "step 1200\n"
     ]
    },
    {
     "data": {
      "text/plain": [
       "Text(0.5, 1.0, 'alpha = 0.25')"
      ]
     },
     "execution_count": 52,
     "metadata": {},
     "output_type": "execute_result"
    },
    {
     "data": {
      "image/png": "[encoded data removed]",
      "text/plain": [
       "<Figure size 640x480 with 1 Axes>"
      ]
     },
     "metadata": {},
     "output_type": "display_data"
    }
   ],
   "source": [
    "alpha_value = 0.25\n",
    "simulation_disjoint_alpha_025 = ctr_disjoint_simulator(K_arms = n, \n",
    "                                                       d = 29,\n",
    "                                                       alpha = alpha_value, \n",
    "                                                       top_movies_index = top_movies_index, \n",
    "                                                       steps_printout=200)\n",
    "plt.plot(simulation_disjoint_alpha_025[\"aligned_ctr\"])\n",
    "plt.axhline(y=reward_mean, color = \"red\")\n",
    "plt.title(\"alpha = \"+str(alpha_value))"
   ]
  },
  {
   "cell_type": "code",
   "execution_count": 53,
   "metadata": {},
   "outputs": [
    {
     "data": {
      "text/plain": [
       "<matplotlib.legend.Legend at 0x2b8dc5ed0>"
      ]
     },
     "execution_count": 53,
     "metadata": {},
     "output_type": "execute_result"
    },
    {
     "data": {
      "image/png": "[encoded data removed]",
      "text/plain": [
       "<Figure size 640x480 with 1 Axes>"
      ]
     },
     "metadata": {},
     "output_type": "display_data"
    }
   ],
   "source": [
    "plt.plot(simulation_hybrid_alpha_025[\"aligned_ctr\"], label = \"hybrid alpha = 0.25\")\n",
    "plt.plot(simulation_disjoint_alpha_025[\"aligned_ctr\"], label = \"disjoint alpha = 0.25\")\n",
    "plt.axhline(y=reward_mean, color = \"red\")\n",
    "plt.legend()"
   ]
  },
  {
   "cell_type": "markdown",
   "metadata": {},
   "source": [
    "Почему по оси x здесь всего 50 шагов?"
   ]
  },
  {
   "cell_type": "markdown",
   "metadata": {},
   "source": []
  }
 ],
 "metadata": {
  "kernelspec": {
   "display_name": "srn",
   "language": "python",
   "name": "python3"
  },
  "language_info": {
   "codemirror_mode": {
    "name": "ipython",
    "version": 3
   },
   "file_extension": ".py",
   "mimetype": "text/x-python",
   "name": "python",
   "nbconvert_exporter": "python",
   "pygments_lexer": "ipython3",
   "version": "3.11.10"
  }
 },
 "nbformat": 4,
 "nbformat_minor": 4
}
