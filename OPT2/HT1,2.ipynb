{
  "nbformat": 4,
  "nbformat_minor": 0,
  "metadata": {
    "colab": {
      "provenance": []
    },
    "kernelspec": {
      "name": "python3",
      "display_name": "Python 3"
    },
    "language_info": {
      "name": "python"
    }
  },
  "cells": [
    {
      "cell_type": "markdown",
      "source": [
        "# 1.Multi Armed Bandits"
      ],
      "metadata": {
        "id": "SAGYpWSWbCZq"
      }
    },
    {
      "cell_type": "markdown",
      "source": [
        "### 1.1 Теоретическая задача\n",
        "\n",
        "Epsilon-greedy algorithm with exploration probabilities $\\varepsilon = t^{-1/3} \\cdot (K \\log t)^{1/3}$\n",
        "\n",
        "achieves regret bound $\\mathbb{E} R(t) \\leq t^{2/3} \\cdot O(K \\log t)^{1/3}$ for each round $t$.\n",
        "\n",
        "[см.](https://arxiv.org/pdf/1904.07272) Theorem 1.6 & Algorithm 1.2\n"
      ],
      "metadata": {
        "id": "f7rJmBtCeU9D"
      }
    },
    {
      "cell_type": "markdown",
      "source": [
        "###.\n",
        "###.\n",
        "###.\n",
        "Ячейка для ответа на задачу\n",
        "###.\n",
        "###.\n",
        "###.\n"
      ],
      "metadata": {
        "id": "613QZwiitQe3"
      }
    },
    {
      "cell_type": "markdown",
      "source": [
        "### 1.2 Теоретическая задача\n",
        "\n",
        "Take UCB bandit algorithm $A$ for fixed time horizon $T$ . Convert it to an algorithm $A_{\\infty}$ which runs forever, in phases $i = 1, 2, 3, ...$ of $2^i$ rounds each.\n",
        "\n",
        "In each phase $i$ algorithm $A$ is restarted and run with time horizon $2^i$.\n",
        "\n",
        "State and prove a theorem which converts an instance-independent upper bound on regret for $A$ into similar bound for $A_{\\infty}$.\n",
        "\n",
        "[см.](https://arxiv.org/pdf/1904.07272) Chapter 1 & Algorithm 1.5"
      ],
      "metadata": {
        "id": "A6iCw14gbkKS"
      }
    },
    {
      "cell_type": "markdown",
      "source": [
        "###.\n",
        "###.\n",
        "###.\n",
        "Ячейка для ответа на задачу\n",
        "###.\n",
        "###.\n",
        "###."
      ],
      "metadata": {
        "id": "oh36qcQ8tina"
      }
    },
    {
      "cell_type": "markdown",
      "source": [
        "### 1.3 Практическая задача\n",
        "\n",
        "На первом семинаре разбирали метод $\\varepsilon$ - greedy.\n",
        "\n",
        "В этом задании предстоит дополнить MAB методом UCB в рамках того же класса MAB, что и рассматривали в семинаре.\n",
        "\n",
        "Для определенности алгоритм можно посмотреть здесь **[см.](https://arxiv.org/pdf/1904.07272) Chapter 1 & Algorithm 1.5**\n",
        "\n",
        "$UCB_i(t) = \\sqrt{\\frac{\\delta \\ln (T)}{t_i}}$\n",
        "\n",
        "$\\delta$ - параметр исследования, подберите самостоятельно\n",
        "\n",
        "$T$ - временной горизонт\n",
        "\n",
        "$t_i$ - сколько раз дергали ручку $i$ до шага $t$\n",
        "\n"
      ],
      "metadata": {
        "id": "s_F3AhG9gGUM"
      }
    },
    {
      "cell_type": "code",
      "source": [
        "\"\"\"\n",
        "В ЭТОЙ ЯЧЕЙКЕ НИЧЕГО МЕНЯТЬ НЕ НУЖНО\n",
        "\n",
        "\"\"\"\n",
        "\n",
        "import numpy as np\n",
        "from abc import ABC, abstractmethod\n",
        "\n",
        "class MAB(ABC):\n",
        "    \"\"\"Base class for multi-armed bandit (MAB)\n",
        "\n",
        "    Parameters\n",
        "    ----------\n",
        "    n_arms : int\n",
        "        Number of arms.\n",
        "    \"\"\"\n",
        "    # initialise\n",
        "    def __init__(self, n_arms):\n",
        "        self.n_arms = n_arms\n",
        "\n",
        "    @abstractmethod\n",
        "    def play(self):\n",
        "        \"\"\"Play a round\n",
        "\n",
        "        Returns\n",
        "        -------\n",
        "        arm : int\n",
        "            Integer index of the arm played this round. Should be in the set\n",
        "            {0, ..., n_arms - 1}.\n",
        "        \"\"\"\n",
        "        pass\n",
        "\n",
        "    @abstractmethod\n",
        "    def update(self, arm, reward):\n",
        "        \"\"\"Update the internal state of the MAB after a play\n",
        "\n",
        "        Parameters\n",
        "        ----------\n",
        "        arm : int\n",
        "            Integer index of the played arm in the set {0, ..., n_arms - 1}.\n",
        "\n",
        "        reward : float\n",
        "            Reward received from the arm.\n",
        "\n",
        "        \"\"\"\n",
        "        self.arm = arm\n",
        "        self.reward = reward\n",
        "\n",
        "\n",
        "def offlineEvaluate(mab, true_bandit_probs, n_arms, n_rounds= 100000):\n",
        "    \"\"\"Offline evaluation of a multi-armed bandit\n",
        "\n",
        "    Parameters\n",
        "    ----------\n",
        "    mab : instance of MAB\n",
        "        MAB to evaluate.\n",
        "\n",
        "    n_arms : int\n",
        "        Number of arms.\n",
        "\n",
        "    true_bandit_probs : float numpy.ndarray, shape (n_events,)\n",
        "        Array containing the history of rewards.\n",
        "\n",
        "\n",
        "    n_rounds : int, default=None\n",
        "        Number of matching events to evaluate the MAB on.\n",
        "\n",
        "    Returns\n",
        "    -------\n",
        "    R : float numpy.ndarray\n",
        "        Rewards for the matching events.\n",
        "\n",
        "    H : int numpy.ndarray\n",
        "        Historical events\n",
        "    \"\"\"\n",
        "\n",
        "    R = []          # save the total payoff\n",
        "    H = np.zeros((n_rounds, n_arms)) # save used historical events\n",
        "\n",
        "    for i in range(n_rounds):\n",
        "        arm = mab.play()\n",
        "        reward = np.random.rand() < true_bandit_probs[arm]\n",
        "\n",
        "        R.append(reward)  # append the new rewards\n",
        "        H[i, arm] = 1     # append the used events\n",
        "\n",
        "        mab.update(arm, reward) # update the information\n",
        "\n",
        "    return np.array(R), np.array(H)"
      ],
      "metadata": {
        "id": "D7kJaXehgKEp"
      },
      "execution_count": null,
      "outputs": []
    },
    {
      "cell_type": "code",
      "source": [
        "\"\"\"\n",
        "реализуем класс UCB по аналогии с EpsGreedy(MAB) первого семинара\n",
        "\n",
        "необходимые каунтеры можете использовать такие же как в EpsGreedy или завести свои\n",
        "\n",
        "\"\"\"\n",
        "\n",
        "class UCB(MAB):\n",
        "    \"\"\"UCB multi-armed bandit\n",
        "\n",
        "    Parameters\n",
        "    ----------\n",
        "\n",
        "    \"\"\"\n",
        "    # initialise values\n",
        "    def __init__(self, n_arms, param):\n",
        "        super().__init__(n_arms)\n",
        "        self.param = param\n",
        "        ...\n",
        "\n",
        "\n",
        "    # select a random arm to explore or a arm with best rewards to exploit, then return the arm\n",
        "    def play(self): #, context=None):\n",
        "        super().play()\n",
        "        ...\n",
        "\n",
        "\n",
        "    # update values\n",
        "    def update(self, arm, reward):\n",
        "        super().update(arm, reward)\n",
        "\n",
        "        ..."
      ],
      "metadata": {
        "id": "5dVHSJtFgkzA"
      },
      "execution_count": null,
      "outputs": []
    },
    {
      "cell_type": "code",
      "source": [
        "\"\"\"\n",
        "Заведем бандита с 4 ручками и распределением выигрышей ручек [0.45, 0.35, 0.85, 0.62]\n",
        "\n",
        "На временном горизонте 100000\n",
        "\n",
        "Подбираем параметр исследования (delta), который согласуется с теоретическим в оценке регрета\n",
        "\n",
        "\"\"\"\n",
        "n_arms =\n",
        "n_iterations =\n",
        "true_bandit_probs =\n",
        "param =\n"
      ],
      "metadata": {
        "id": "5aalbshcg7Hz"
      },
      "execution_count": null,
      "outputs": []
    },
    {
      "cell_type": "code",
      "source": [
        "\"\"\"\n",
        "В ЭТОЙ ЯЧЕЙКЕ НИЧЕГО МЕНЯТЬ НЕ НУЖНО\n",
        "\n",
        "запускаем процесс\n",
        "\n",
        "\"\"\"\n",
        "mab = UCB(n_arms, param)\n",
        "results_UCB, history_UCB = offlineEvaluate(mab, true_bandit_probs, n_arms, n_iterations)\n",
        "print('UCB average reward', np.mean(results_UCB))"
      ],
      "metadata": {
        "id": "O1oHX617mBCQ"
      },
      "execution_count": null,
      "outputs": []
    },
    {
      "cell_type": "code",
      "source": [
        "\"\"\"\n",
        "В ЭТОЙ ЯЧЕЙКЕ НИЧЕГО МЕНЯТЬ НЕ НУЖНО\n",
        "\n",
        "посмотрим на динамику выбора ручек\n",
        "\"\"\"\n",
        "\n",
        "selections_percentage = np.cumsum(history_UCB, axis=0) / np.arange(1, n_iterations + 1).reshape(-1, 1)\n",
        "\n",
        "import matplotlib.pyplot as plt\n",
        "for arm in range(n_arms):\n",
        "    plt.plot(selections_percentage[:, arm], label=f'Bandit #{arm+1}')\n",
        "plt.xscale('log')\n",
        "plt.title('Bandit Action Choices Over Time')\n",
        "plt.xlabel('Episode Number')\n",
        "plt.ylabel('Percentage of Bandit Selections (%)')\n",
        "plt.legend()\n",
        "plt.show()\n",
        "for i, prob in enumerate(true_bandit_probs, 1):\n",
        "    print(f\"Bandit #{i} -> {prob:.2f}\")"
      ],
      "metadata": {
        "id": "QSh1BPsCmuMn"
      },
      "execution_count": null,
      "outputs": []
    },
    {
      "cell_type": "markdown",
      "source": [
        "# 2.Expert Advice.\n"
      ],
      "metadata": {
        "id": "t-8zOMXJZtsh"
      }
    },
    {
      "cell_type": "markdown",
      "source": [
        "###2.1 Теоретическая задача\n",
        "\n",
        "Sequences of outcomes on which many experts suffer a small loss are\n",
        "intuitively easier to predict. Show that the **exponentially weighted forecaster** satistifies the following property: for every $n$, for every outcome sequence $y_n$ , and for all $L > 0$,\n",
        "$$\\hat L_n ≤ L + \\frac{1}{\\mu}\\ln\\frac{N}{N_L} + \\frac{\\mu}{8}n$$\n",
        "where $N_L$ is the cardinality of the set $\\{1 \\leq i \\leq N : L_{i,n} \\leq L\\}$\n",
        "### --------------------------------------------------------------------------------------------------------------------------------------------------\n",
        "\n",
        "Exponentially Weighted Forecaster based on the\n",
        "potential $\\Phi_{\\mu}(\\mathbf{u})= \\frac{1}{\\mu} \\ln(\\sum_{i=1}^N e^{\\mu u_i}) $ where $\\mu>0$.\n",
        "\n",
        "$N$ - number of experts.\n",
        "\n",
        "$n$ - number of times.\n",
        "\n",
        "$L_{i, n} = \\sum_{t=1}^n\\ell(f_{i, t}, y_t)$ - cumulative loss of expert $i$\n",
        "\n",
        " $\\hat L_{n} = \\sum_{t=1}^n \\ell(\\hat p_t, y_t)$ - cumulative loss of forecaster.\n",
        "\n",
        "**[см ](https://ece.iisc.ac.in/~aditya/Prediction_Learning_and_Games.pdf)Corollary 2.2.**"
      ],
      "metadata": {
        "id": "JpAYSxp0PGv1"
      }
    },
    {
      "cell_type": "markdown",
      "source": [
        "###.\n",
        "###.\n",
        "###.\n",
        "Ячейка для ответа на задачу\n",
        "###.\n",
        "###.\n",
        "###."
      ],
      "metadata": {
        "id": "C52MgpYGtkrC"
      }
    },
    {
      "cell_type": "markdown",
      "source": [
        "### 2.2 Практическая задача\n",
        "\n",
        "В этом задании предстоит реализовать exponentially weighted forecaster  по аналогии с polynomially-weighted forecaster второго семинара. И сравнить теоретический и реализованный регреты.\n",
        "\n",
        "Нужно определить потенциальную функцию и лосс, подсчитать реализованный и теоретический регреты.\n",
        "\n",
        "**param** выступает в роли параметра метода. Для polynomially-weighted forecaster параметр отвечал за значение степени нормы $p$. Для exponentially weighted forecaster параметр отвечает за $\\mu$.\n",
        "\n",
        "Параметр $\\mu$ подберите самостоятельно.\n",
        "\n",
        "В res функции **step** записываются необходимые результаты для подсчета реализованного регрета\n"
      ],
      "metadata": {
        "id": "Bek_wJ_FcJQN"
      }
    },
    {
      "cell_type": "code",
      "source": [
        "\"\"\"\n",
        "В ЭТОЙ ЯЧЕЙКЕ НИЧЕГО МЕНЯТЬ НЕ НУЖНО\n",
        "\n",
        "\"\"\"\n",
        "import jax\n",
        "import jax.numpy as jnp\n",
        "import seaborn as sns\n",
        "import matplotlib as mpl\n",
        "import matplotlib.pyplot as plt\n",
        "from functools import partial\n",
        "import numpy as np\n",
        "\n",
        "import jax\n",
        "from functools import partial\n",
        "\n",
        "\n",
        "@partial(jax.vmap, in_axes=(0, 0, None), out_axes=-1)\n",
        "def _create_mistakes(key, p, T):\n",
        "    mistakes = jax.random.bernoulli(key, p=p, shape=(T,))\n",
        "    return mistakes\n",
        "\n",
        "\n",
        "def bern_oracle_beta_forecasters(key, n_experts, n_timesteps, a_fcst=2, b_fsct=7, p_oracle=0.5):\n",
        "    \"\"\"\n",
        "    Create a set of forecasters whose probability of being correct is\n",
        "    distributed according to a Beta(a_fcst, b_fcst) distribution.\n",
        "    The oracle is a Bernoulli random variable with p=p_oracle.\n",
        "    \"\"\"\n",
        "    key_oracle, key_noise, key_errs = jax.random.split(key, 3)\n",
        "    keys_noise = jax.random.split(key_noise, n_experts)\n",
        "\n",
        "    oracle = jax.random.bernoulli(key_oracle, p=p_oracle, shape=(n_timesteps,))\n",
        "    ps_mistakes = jax.random.beta(key_errs, a=a_fcst, b=b_fsct, shape=(n_experts,))\n",
        "\n",
        "    mistakes = _create_mistakes(keys_noise, ps_mistakes, n_timesteps)\n",
        "    experts = (mistakes ^ oracle[:, None]).astype(float)\n",
        "\n",
        "    return oracle, experts\n",
        "\n",
        "\n",
        "\n",
        "def forecast_step(experts_curr, regret_prev, param):\n",
        "    weights = gradp(regret_prev, param)\n",
        "    forecast = weights @ experts_curr / weights.sum()\n",
        "    return weights, forecast\n",
        "\n",
        "\n",
        "def step(regret, xs, param):\n",
        "    \"\"\"\n",
        "    At time t, we make a prediction based on the\n",
        "    regret (as defined by the potential) obtained at time\n",
        "    t-1 and the prediction of each forecaster at time t.\n",
        "\n",
        "    After making a new prediction, we update the regret.\n",
        "    \"\"\"\n",
        "    experts, oracle = xs\n",
        "    weights, forecast = forecast_step(experts, regret, param)\n",
        "\n",
        "    loss_forecaster = loss(forecast, oracle)\n",
        "    loss_experts = loss(experts, oracle)\n",
        "\n",
        "    iregret_experts = loss_forecaster - loss_experts\n",
        "\n",
        "    regret_new = regret + iregret_experts\n",
        "\n",
        "    res = {\n",
        "        \"weights\": weights,\n",
        "        \"forecast\": forecast,\n",
        "        \"step-loss-experts\": loss_experts,\n",
        "        \"step-loss-forecaster\": loss_forecaster,\n",
        "    }\n",
        "\n",
        "\n",
        "    return regret_new, res"
      ],
      "metadata": {
        "id": "MEwjW6TPYRzH"
      },
      "execution_count": null,
      "outputs": []
    },
    {
      "cell_type": "code",
      "source": [
        "\"\"\"\n",
        "\n",
        "Определим лосс и потенциал для экспотенциального взвешивания\n",
        "\n",
        "\"\"\"\n",
        "\n",
        "def loss(yhat, y):\n",
        "    ...\n",
        "\n",
        "def potential(x, param):\n",
        "   ...\n",
        "\n",
        "gradp = jax.grad(potential) #функция градиента\n",
        "\n",
        "\n"
      ],
      "metadata": {
        "id": "tC3earM9XPkY"
      },
      "execution_count": null,
      "outputs": []
    },
    {
      "cell_type": "code",
      "source": [
        "\"\"\"\n",
        "генерим ответы природы (oracle) ~ Bernoulli(0.7) и ошибки 10 экспертов (experts) ~  Beta(3,3)\n",
        "c помощью bern_oracle_beta_forecasters()\n",
        "\n",
        "подбираем временной горизонт\n",
        "\n",
        "\"\"\"\n",
        "\n",
        "key = jax.random.PRNGKey(314)\n",
        "\n",
        "param = ...\n",
        "\n",
        "n_experts = ...\n",
        "n_timesteps = ...\n",
        "a, b =  ... #параметры распределения Beta\n",
        "p_oracle = ... #параметры распределения  Bernoulli\n",
        "\n",
        "\n",
        "oracle, experts = bern_oracle_beta_forecasters(...)"
      ],
      "metadata": {
        "id": "QUZb32YyXxjt"
      },
      "execution_count": null,
      "outputs": []
    },
    {
      "cell_type": "code",
      "source": [
        "\"\"\"\n",
        "В ЭТОЙ ЯЧЕЙКЕ НИЧЕГО МЕНЯТЬ НЕ НУЖНО\n",
        "\n",
        "запускаем процесс\n",
        "\"\"\"\n",
        "\n",
        "regret = jnp.ones(n_experts) #инициализация весов(соответственно регрета) экспертов\n",
        "\n",
        "xs = (experts, oracle)\n",
        "\n",
        "part_step = partial(step, param=param)\n",
        "_, res = jax.lax.scan(part_step, regret, xs) #скользим по xs и получаем res для каждого шага (количество шагов - длина oracle)"
      ],
      "metadata": {
        "id": "0wFmBCgRX39l"
      },
      "execution_count": null,
      "outputs": []
    },
    {
      "cell_type": "code",
      "source": [
        "\"\"\"\n",
        "построим  график реализованного и теоретического регретов\n",
        "\n",
        "необходимые значения можно получить из результатов res\n",
        "\"\"\"\n",
        "regret_forecaster = ...\n",
        "regret_ubound = ...\n",
        "\n",
        "plt.plot(regret_forecaster, label=\"Regret\")\n",
        "plt.plot(regret_ubound, label=\"Upper bound regret\")\n",
        "plt.legend()\n",
        "plt.grid(alpha=0.3)"
      ],
      "metadata": {
        "id": "X73dQNFgX8v9"
      },
      "execution_count": null,
      "outputs": []
    }
  ]
}