{
 "cells": [
  {
   "cell_type": "code",
   "execution_count": 1,
   "id": "b90eddea",
   "metadata": {},
   "outputs": [],
   "source": [
    "import polars as pl\n",
    "import numpy as np\n",
    "from datetime import datetime\n",
    "\n",
    "tran_pd = pl.read_parquet(\"data/df_transaction.pa\")\n",
    "tr_pd = pl.read_parquet(\"data/train.pa\")\n"
   ]
  },
  {
   "cell_type": "code",
   "execution_count": 2,
   "id": "59254f6a",
   "metadata": {},
   "outputs": [],
   "source": [
    "train_ids = set(tr_pd[\"client_num\"].unique())\n",
    "all_ids = set(tran_pd[\"client_num\"].unique())\n",
    "test_ids = all_ids - train_ids\n",
    "\n",
    "tran_pd = tran_pd.with_columns([\n",
    "    pl.col(\"client_num\").is_in(list(train_ids)).alias(\"is_train\")\n",
    "])\n",
    "\n",
    "tst_pd = pl.DataFrame({\"client_num\": list(test_ids)})\n"
   ]
  },
  {
   "cell_type": "code",
   "execution_count": 3,
   "id": "3c0a60b2",
   "metadata": {},
   "outputs": [],
   "source": [
    "tran_pd = tran_pd.with_columns([\n",
    "    pl.col(\"date_time\").dt.weekday().alias(\"weekday\"),\n",
    "    pl.col(\"date_time\").dt.hour().alias(\"hour\"),\n",
    "    pl.col(\"date_time\").dt.day().alias(\"month_day\"),\n",
    "    pl.col(\"date_time\").dt.month().alias(\"month\"),\n",
    "    pl.col(\"date_time\").dt.week().alias(\"week\")\n",
    "])\n",
    "\n",
    "tran_pd = tran_pd.with_columns([\n",
    "    pl.col(\"weekday\").is_in([5, 6]).alias(\"is_weekend\"),\n",
    "    pl.when(pl.col(\"hour\").is_between(5, 12)).then(pl.lit(\"morning\"))\n",
    "      .when(pl.col(\"hour\").is_between(12, 17)).then(pl.lit(\"day\"))\n",
    "      .when(pl.col(\"hour\").is_between(17, 22)).then(pl.lit(\"evening\"))\n",
    "      .otherwise(pl.lit(\"night\"))\n",
    "      .alias(\"time_of_day\")\n",
    "])\n",
    "\n"
   ]
  },
  {
   "cell_type": "code",
   "execution_count": 4,
   "id": "62dad177",
   "metadata": {},
   "outputs": [],
   "source": [
    "tran_pd = tran_pd.with_columns([\n",
    "    pl.when(pl.col(\"month_day\") <= 10).then(pl.lit(\"early\"))\n",
    "      .when(pl.col(\"month_day\") <= 20).then(pl.lit(\"middle\"))\n",
    "      .otherwise(pl.lit(\"late\"))\n",
    "      .alias(\"part_of_month\"),\n",
    "    \n",
    "    (pl.col(\"month\") == 7).alias(\"is_july\"),\n",
    "    (pl.col(\"month\") == 8).alias(\"is_august\"),\n",
    "    (pl.col(\"month\") == 9).alias(\"is_september\"),\n",
    "    (pl.col(\"month\") == 10).alias(\"is_october\")\n",
    "])\n"
   ]
  },
  {
   "cell_type": "code",
   "execution_count": 5,
   "id": "a58543e0",
   "metadata": {},
   "outputs": [],
   "source": [
    "from datetime import datetime\n",
    "\n",
    "holidays = [datetime(2024, 7, 1).date(),\n",
    "            datetime(2024, 7, 2).date(),\n",
    "            datetime(2024, 8, 22).date(),\n",
    "            datetime(2024, 9, 1).date(),\n",
    "            datetime(2024, 10, 4).date()]\n",
    "\n",
    "tran_pd = tran_pd.with_columns([\n",
    "    pl.col(\"date_time\").dt.date().is_in(holidays).alias(\"is_holiday\")\n",
    "])\n"
   ]
  },
  {
   "cell_type": "code",
   "execution_count": 6,
   "id": "9e328aef",
   "metadata": {},
   "outputs": [],
   "source": [
    "tran_pd = tran_pd.with_columns([\n",
    "    pl.col(\"mcc_code\").cast(str).str.zfill(4)\n",
    "])\n",
    "\n",
    "for i in range(4):\n",
    "    tran_pd = tran_pd.with_columns([\n",
    "        pl.col(\"mcc_code\").str.slice(i, 1).cast(pl.Int64).alias(f\"mcc_digit_{i}\")\n",
    "    ])\n",
    "\n",
    "tran_pd = tran_pd.with_columns([\n",
    "    pl.col(\"mcc_code\").str.slice(0, 2).alias(\"mcc_pair_01\"),\n",
    "    \n",
    "    pl.concat_str([\n",
    "        pl.col(\"mcc_code\").str.slice(1, 1),\n",
    "        pl.col(\"mcc_code\").str.slice(2, 1)\n",
    "    ]).alias(\"mcc_pair_12\"),\n",
    "\n",
    "    pl.col(\"mcc_code\").str.slice(2, 2).alias(\"mcc_pair_23\"),\n",
    "    pl.col(\"mcc_code\").str.slice(0, 3).alias(\"mcc_triplet_012\"),\n",
    "    pl.col(\"mcc_code\").str.slice(1, 3).alias(\"mcc_triplet_123\")\n",
    "])\n"
   ]
  },
  {
   "cell_type": "code",
   "execution_count": 7,
   "id": "071b0b7e",
   "metadata": {},
   "outputs": [
    {
     "name": "stderr",
     "output_type": "stream",
     "text": [
      "C:\\Users\\Admin\\AppData\\Local\\Temp\\ipykernel_56432\\1365750222.py:1: DeprecationWarning: `pl.count()` is deprecated. Please use `pl.len()` instead.\n",
      "(Deprecated in version 0.20.5)\n",
      "  merchant_freq = tran_pd.group_by(\"merchant_name\").agg(pl.count()).rename({\"count\": \"merchant_freq\"})\n"
     ]
    }
   ],
   "source": [
    "merchant_freq = tran_pd.group_by(\"merchant_name\").agg(pl.count()).rename({\"count\": \"merchant_freq\"})\n",
    "tran_pd = tran_pd.join(merchant_freq, on=\"merchant_name\", how=\"left\")\n",
    "\n",
    "tran_pd = tran_pd.with_columns([\n",
    "    (pl.col(\"merchant_freq\") > 500).alias(\"is_popular_merchant\")\n",
    "])"
   ]
  },
  {
   "cell_type": "code",
   "execution_count": 8,
   "id": "762fc0e4",
   "metadata": {},
   "outputs": [],
   "source": [
    "import numpy as np\n",
    "\n",
    "# Фильтрация null\n",
    "tran_pd = tran_pd.filter(pl.col(\"amount\").is_not_null())\n",
    "\n",
    "# Вычисление бинов\n",
    "min_amount = tran_pd.select(pl.col(\"amount\").min()).item()\n",
    "max_amount = tran_pd.select(pl.col(\"amount\").max()).item()\n",
    "bins = np.linspace(min_amount, max_amount, 11)\n",
    "\n",
    "# digitize возвращает индекс интервала, в который попадает значение\n",
    "bin_indices = np.digitize(tran_pd[\"amount\"].to_numpy(), bins) - 1  # -1 чтобы индексы были от 0 до 9\n",
    "\n",
    "# Ограничиваем значения на случай переполнения последнего интервала\n",
    "bin_indices = np.clip(bin_indices, 0, 9)\n",
    "\n",
    "# Добавляем колонку обратно\n",
    "tran_pd = tran_pd.with_columns([\n",
    "    pl.Series(\"amount_bin\", bin_indices)\n",
    "])\n",
    "\n",
    "# One-hot\n",
    "tran_pd = tran_pd.to_dummies(columns=[\"amount_bin\"])\n"
   ]
  },
  {
   "cell_type": "code",
   "execution_count": 9,
   "id": "53472cd0",
   "metadata": {},
   "outputs": [],
   "source": [
    "tran_pd = tran_pd.sort(by=[\"client_num\", \"date_time\"])\n",
    "\n",
    "tran_pd = tran_pd.with_columns([\n",
    "    pl.col(\"amount\").rolling_mean(window_size=7).over(\"client_num\").alias(\"rolling_mean_7\"),\n",
    "    pl.col(\"amount\").rolling_std(window_size=7).over(\"client_num\").fill_null(0).alias(\"rolling_std_7\"),\n",
    "    pl.col(\"amount\").rolling_mean(window_size=30).over(\"client_num\").alias(\"rolling_mean_30\"),\n",
    "    pl.col(\"amount\").rolling_std(window_size=30).over(\"client_num\").fill_null(0).alias(\"rolling_std_30\")\n",
    "])"
   ]
  },
  {
   "cell_type": "code",
   "execution_count": 10,
   "id": "28b305ce",
   "metadata": {},
   "outputs": [
    {
     "name": "stderr",
     "output_type": "stream",
     "text": [
      "C:\\Users\\Admin\\AppData\\Local\\Temp\\ipykernel_56432\\3897066321.py:1: DeprecationWarning: `GroupBy.count` was renamed; use `GroupBy.len` instead\n",
      "  weekly_counts = tran_pd.group_by([\"client_num\", \"week\"]).count().select([\"client_num\", \"week\", \"count\"])\n"
     ]
    }
   ],
   "source": [
    "weekly_counts = tran_pd.group_by([\"client_num\", \"week\"]).count().select([\"client_num\", \"week\", \"count\"])\n",
    "weekly_stats = weekly_counts.group_by(\"client_num\").agg([\n",
    "    pl.col(\"count\").mean().alias(\"mean_weekly_txn\"),\n",
    "    pl.col(\"count\").std().alias(\"std_weekly_txn\"),\n",
    "    pl.col(\"count\").max().alias(\"max_weekly_txn\")\n",
    "])\n"
   ]
  },
  {
   "cell_type": "code",
   "execution_count": 11,
   "id": "751a132d",
   "metadata": {},
   "outputs": [],
   "source": [
    "# Найдём последнюю дату в таблице\n",
    "max_date = tran_pd.select(pl.col(\"date_time\").max()).item()\n",
    "\n",
    "# Считаем последнюю активность и разницу в днях\n",
    "last_activity = (\n",
    "    tran_pd.group_by(\"client_num\")\n",
    "    .agg(pl.col(\"date_time\").max().alias(\"last_txn_date\"))\n",
    "    .with_columns(\n",
    "        (pl.lit(max_date) - pl.col(\"last_txn_date\")).alias(\"duration\")\n",
    "    )\n",
    "    .with_columns(\n",
    "        (pl.col(\"duration\").cast(pl.Int64) / (86_400_000_000_000)).alias(\"days_since_last_txn\")\n",
    "    )\n",
    "    .drop(\"duration\")\n",
    ")\n"
   ]
  },
  {
   "cell_type": "code",
   "execution_count": 12,
   "id": "3bff160b",
   "metadata": {},
   "outputs": [
    {
     "name": "stderr",
     "output_type": "stream",
     "text": [
      "C:\\Users\\Admin\\AppData\\Local\\Temp\\ipykernel_56432\\4044124985.py:24: DeprecationWarning: DataFrameGroupBy.apply operated on the grouping columns. This behavior is deprecated, and in a future version of pandas the grouping columns will be excluded from the operation. Either pass `include_groups=False` to exclude the groupings or explicitly select the grouping columns after groupby to silence this warning.\n",
      "  trend_df = monthly_pd.groupby(\"client_num\").apply(compute_trend).reset_index()\n"
     ]
    }
   ],
   "source": [
    "import pandas as pd\n",
    "from sklearn.linear_model import LinearRegression\n",
    "\n",
    "monthly = tran_pd.with_columns([\n",
    "    pl.col(\"date_time\").dt.strftime(\"%Y-%m\").alias(\"year_month\")\n",
    "]).group_by([\"client_num\", \"year_month\"]).agg(\n",
    "    pl.col(\"amount\").mean().alias(\"monthly_amount\")\n",
    ")\n",
    "\n",
    "# Переводим в pandas\n",
    "monthly_pd = monthly.to_pandas()\n",
    "\n",
    "# Добавляем month_num по клиенту\n",
    "monthly_pd[\"month_num\"] = monthly_pd.groupby(\"client_num\").cumcount()\n",
    "\n",
    "def compute_trend(group):\n",
    "    if group.shape[0] < 2:\n",
    "        return pd.Series({\"amount_trend\": 0})\n",
    "    model = LinearRegression()\n",
    "    model.fit(group[\"month_num\"].values.reshape(-1, 1), group[\"monthly_amount\"].values)\n",
    "    return pd.Series({\"amount_trend\": model.coef_[0]})\n",
    "\n",
    "# Группируем и применяем регрессию\n",
    "trend_df = monthly_pd.groupby(\"client_num\").apply(compute_trend).reset_index()\n"
   ]
  },
  {
   "cell_type": "code",
   "execution_count": 13,
   "id": "781a8548",
   "metadata": {},
   "outputs": [],
   "source": [
    "# merchant agg\n",
    "agg_merchant = tran_pd.group_by(\"client_num\").agg([\n",
    "    pl.col(\"merchant_name\").n_unique().alias(\"unique_merchants\"),\n",
    "    pl.col(\"merchant_freq\").mean().alias(\"mean_merchant_freq\"),\n",
    "    pl.col(\"merchant_freq\").max().alias(\"max_merchant_freq\"),\n",
    "    pl.col(\"is_popular_merchant\").mean().alias(\"popular_merchant_rate\")\n",
    "])\n",
    "\n",
    "# time agg\n",
    "agg_time = tran_pd.group_by(\"client_num\").agg([\n",
    "    pl.col(\"is_weekend\").mean().alias(\"weekend_rate\"),\n",
    "    pl.col(\"is_holiday\").mean().alias(\"holiday_rate\")\n",
    "])\n",
    "\n",
    "# time-of-day (one-hot)\n",
    "tran_pd = tran_pd.to_dummies(columns=[\"time_of_day\"])\n",
    "agg_tod = tran_pd.group_by(\"client_num\").mean().select([\"client_num\"] + [col for col in tran_pd.columns if col.startswith(\"time_of_day_\")])\n",
    "\n",
    "# mcc\n",
    "agg_mcc = tran_pd.group_by(\"client_num\").agg([\n",
    "    pl.col(\"mcc_pair_01\").n_unique().alias(\"unique_mcc_pairs\"),\n",
    "    pl.col(\"mcc_triplet_012\").n_unique().alias(\"unique_mcc_triplets\")\n",
    "])\n",
    "\n",
    "# amount binned\n",
    "amount_bin_cols = [col for col in tran_pd.columns if col.startswith(\"amount_bin_\")]\n",
    "agg_bins = tran_pd.group_by(\"client_num\").mean().select([\"client_num\"] + amount_bin_cols)\n"
   ]
  },
  {
   "cell_type": "code",
   "execution_count": 14,
   "id": "02876a81",
   "metadata": {},
   "outputs": [],
   "source": [
    "trend_pl = pl.from_pandas(trend_df)\n",
    "\n",
    "\n",
    "client_features = tran_pd.group_by(\"client_num\").agg([\n",
    "    pl.count(\"amount\").alias(\"count_amount\"),\n",
    "    pl.mean(\"amount\").alias(\"avg_amount\"),\n",
    "    pl.sum(\"amount\").alias(\"total_amount\"),\n",
    "    pl.std(\"amount\").alias(\"std_amount\"),\n",
    "    pl.min(\"amount\").alias(\"min_amount\"),\n",
    "    pl.max(\"amount\").alias(\"max_amount\"),\n",
    "    pl.col(\"mcc_code\").n_unique().alias(\"unique_mccs\"),\n",
    "    pl.min(\"date_time\").alias(\"first_txn\"),\n",
    "    pl.max(\"date_time\").alias(\"last_txn\")\n",
    "])\n",
    "\n",
    "client_features_ext = client_features \\\n",
    "    .join(agg_merchant, on=\"client_num\") \\\n",
    "    .join(agg_time, on=\"client_num\") \\\n",
    "    .join(agg_tod, on=\"client_num\") \\\n",
    "    .join(agg_mcc, on=\"client_num\") \\\n",
    "    .join(agg_bins, on=\"client_num\")\n",
    "\n",
    "client_features_final = client_features_ext \\\n",
    "    .join(weekly_stats, on=\"client_num\") \\\n",
    "    .join(last_activity, on=\"client_num\") \\\n",
    "     .join(trend_pl, on=\"client_num\") \\\n",
    "\n",
    "tr_features = tr_pd.join(client_features_final, on=\"client_num\", how=\"left\")\n",
    "tst_features = tst_pd.join(client_features_final, on=\"client_num\", how=\"left\")\n"
   ]
  },
  {
   "cell_type": "code",
   "execution_count": 15,
   "id": "4448f280",
   "metadata": {},
   "outputs": [],
   "source": [
    "tr_features_pd = tr_features.to_pandas()\n",
    "tst_features_pd = tst_features.to_pandas()"
   ]
  },
  {
   "cell_type": "code",
   "execution_count": 16,
   "id": "fc52ea0c",
   "metadata": {},
   "outputs": [],
   "source": [
    "# список pandas-DF\n",
    "dfs = [tr_features_pd, tst_features_pd]\n",
    "\n",
    "for df in dfs:\n",
    "    # находим колонки с типом datetime\n",
    "    datetime_cols = df.select_dtypes(include=[\"datetime64[ns]\"]).columns\n",
    "    for col in datetime_cols:\n",
    "        # 1) конвертация в int64 наносекунд → секунды\n",
    "        df[col] = (df[col].astype(\"int64\") // 10**9).astype(\"int64\")\n",
    "        # 2) нормировка: вычитаем из всех значений min\n",
    "        df[col] = df[col] - df[col].min()\n"
   ]
  },
  {
   "cell_type": "code",
   "execution_count": 19,
   "id": "0037dd74",
   "metadata": {},
   "outputs": [
    {
     "data": {
      "text/plain": [
       "Index(['client_num', 'target', 'count_amount', 'avg_amount', 'total_amount',\n",
       "       'std_amount', 'min_amount', 'max_amount', 'unique_mccs', 'first_txn',\n",
       "       'last_txn', 'unique_merchants', 'mean_merchant_freq',\n",
       "       'max_merchant_freq', 'popular_merchant_rate', 'weekend_rate',\n",
       "       'holiday_rate', 'time_of_day_day', 'time_of_day_evening',\n",
       "       'time_of_day_morning', 'time_of_day_night', 'unique_mcc_pairs',\n",
       "       'unique_mcc_triplets', 'amount_bin_0', 'amount_bin_1', 'amount_bin_2',\n",
       "       'amount_bin_3', 'amount_bin_4', 'amount_bin_5', 'amount_bin_6',\n",
       "       'amount_bin_8', 'amount_bin_9', 'mean_weekly_txn', 'std_weekly_txn',\n",
       "       'max_weekly_txn', 'last_txn_date', 'days_since_last_txn',\n",
       "       'amount_trend'],\n",
       "      dtype='object')"
      ]
     },
     "execution_count": 19,
     "metadata": {},
     "output_type": "execute_result"
    }
   ],
   "source": [
    "tr_features_pd.columns"
   ]
  },
  {
   "cell_type": "code",
   "execution_count": 18,
   "id": "494d4fcb",
   "metadata": {},
   "outputs": [
    {
     "ename": "NameError",
     "evalue": "name 'ы' is not defined",
     "output_type": "error",
     "traceback": [
      "\u001b[1;31m---------------------------------------------------------------------------\u001b[0m",
      "\u001b[1;31mNameError\u001b[0m                                 Traceback (most recent call last)",
      "Cell \u001b[1;32mIn[18], line 1\u001b[0m\n\u001b[1;32m----> 1\u001b[0m ы\n",
      "\u001b[1;31mNameError\u001b[0m: name 'ы' is not defined"
     ]
    }
   ],
   "source": [
    "ы"
   ]
  },
  {
   "cell_type": "code",
   "execution_count": null,
   "id": "949fa0dc",
   "metadata": {},
   "outputs": [
    {
     "name": "stdout",
     "output_type": "stream",
     "text": [
      "Training until validation scores don't improve for 50 rounds\n",
      "Early stopping, best iteration is:\n",
      "[11]\tvalid_0's wmae: 0.952824\n",
      "\n",
      "📊 Validation WMAE: 0.95282\n"
     ]
    }
   ],
   "source": [
    "import lightgbm as lgb\n",
    "from sklearn.model_selection import train_test_split\n",
    "from sklearn.metrics import classification_report\n",
    "import pandas as pd\n",
    "\n",
    "\n",
    "lgb_X = tr_features_pd.drop(columns=[\"target\", \"client_num\"])\n",
    "lgb_y = tr_features_pd[\"target\"]\n",
    "lgb_X_test = tst_features_pd.drop(columns=[\"client_num\"])\n",
    "\n",
    "lgb_categorical_features = tr_features_pd.select_dtypes(include=['category', 'object']).columns.tolist()\n",
    "\n",
    "lgb_X_train, lgb_X_val, lgb_y_train, lgb_y_val = train_test_split(\n",
    "    lgb_X, lgb_y, test_size=0.2, random_state=42, stratify=lgb_y\n",
    ")\n",
    "\n",
    "lgb_train_data = lgb.Dataset(lgb_X_train, label=lgb_y_train, categorical_feature=lgb_categorical_features, free_raw_data=False)\n",
    "lgb_val_data = lgb.Dataset(lgb_X_val, label=lgb_y_val, categorical_feature=lgb_categorical_features, reference=train_data, free_raw_data=False)\n",
    "\n",
    "lgb_params = {\n",
    "    \"objective\": \"multiclass\",\n",
    "    \"num_class\": 8,\n",
    "    \"metric\": \"None\",  # отключаем встроенные метрики\n",
    "    \"learning_rate\": 0.05,\n",
    "    \"num_leaves\": 64,\n",
    "    \"max_depth\": 7,\n",
    "    \"verbosity\": -1,\n",
    "    \"seed\": 42,\n",
    "}\n",
    "\n",
    "weights_by_class = {\n",
    "    0: 1.00,\n",
    "    1: 0.72,\n",
    "    2: 0.52,\n",
    "    3: 0.37,\n",
    "    4: 0.27,\n",
    "    5: 0.19,\n",
    "    6: 0.14,\n",
    "    7: 0.00,\n",
    "}\n",
    "\n",
    "def compute_wmae(y_true, y_pred):\n",
    "    \"\"\"WMAE: y_pred и y_true — 1D numpy-массивы классов\"\"\"\n",
    "    weights = np.vectorize(weights_by_class.get)(y_true)\n",
    "    return np.sum(weights * np.abs(y_true - y_pred)) / np.sum(weights)\n",
    "\n",
    "def feval_wmae(preds, train_data):\n",
    "    \"\"\"LightGBM-compatible WMAE function\"\"\"\n",
    "    y_true = train_data.get_label()\n",
    "    y_pred = preds.reshape(-1, 8).argmax(axis=1)\n",
    "    weights = np.vectorize(weights_by_class.get)(y_true)\n",
    "    error = np.sum(weights * np.abs(y_true - y_pred)) / np.sum(weights)\n",
    "    return \"wmae\", error, False  # False → метрика \"чем меньше, тем лучше\"\n",
    "\n",
    "\n",
    "model = lgb.train(\n",
    "    lgb_params,\n",
    "    lgb_train_data,\n",
    "    valid_sets=[lgb_val_data],\n",
    "    feval=feval_wmae,\n",
    "    callbacks=[\n",
    "        lgb.early_stopping(stopping_rounds=50),\n",
    "        lgb.log_evaluation(period=100),\n",
    "    ],\n",
    ")\n",
    "\n",
    "\n",
    "lgb_val_preds_proba = model.predict(lgb_X_val)\n",
    "lgb_val_preds_class = lgb_val_preds_proba.argmax(axis=1)\n",
    "lgb_y_val_np = lgb_y_val.to_numpy()\n",
    "\n",
    "wmae_score = compute_wmae(lgb_y_val_np, lgb_val_preds_class)\n",
    "print(f\"\\n📊 Validation WMAE: {wmae_score:.5f}\")"
   ]
  },
  {
   "cell_type": "code",
   "execution_count": null,
   "id": "17f1d4e5",
   "metadata": {},
   "outputs": [],
   "source": [
    "test_preds = model.predict(lgb_X_test)\n",
    "test_preds_labels = test_preds.argmax(axis=1)\n",
    "\n",
    "submission = pd.DataFrame({\n",
    "    \"client_num\": tst_features_pd[\"client_num\"],\n",
    "    \"target\": test_preds_labels\n",
    "})\n",
    "\n",
    "submission.to_csv(\"submission.csv\", index=False)"
   ]
  },
  {
   "cell_type": "code",
   "execution_count": null,
   "id": "1a69c119",
   "metadata": {},
   "outputs": [],
   "source": []
  },
  {
   "cell_type": "code",
   "execution_count": null,
   "id": "b14aeb4c",
   "metadata": {},
   "outputs": [],
   "source": []
  },
  {
   "cell_type": "code",
   "execution_count": null,
   "id": "46d175b5",
   "metadata": {},
   "outputs": [],
   "source": []
  },
  {
   "cell_type": "code",
   "execution_count": null,
   "id": "163b102a",
   "metadata": {},
   "outputs": [
    {
     "data": {
      "application/vnd.jupyter.widget-view+json": {
       "model_id": "affe21e671594abb9f8af8535f331c78",
       "version_major": 2,
       "version_minor": 0
      },
      "text/plain": [
       "MetricVisualizer(layout=Layout(align_self='stretch', height='500px'))"
      ]
     },
     "metadata": {},
     "output_type": "display_data"
    },
    {
     "name": "stderr",
     "output_type": "stream",
     "text": [
      "Found only 7 unique classes in the data, but have defined 8 classes. Probably something is wrong with data.\n"
     ]
    },
    {
     "name": "stdout",
     "output_type": "stream",
     "text": [
      "0:\tlearn: 0.3442301\ttest: 0.1718262\tbest: 0.1718262 (0)\ttotal: 44.2ms\tremaining: 44.2s\n",
      "100:\tlearn: 0.3874795\ttest: 0.2132286\tbest: 0.2132286 (100)\ttotal: 4.65s\tremaining: 41.4s\n",
      "200:\tlearn: 0.4107730\ttest: 0.2239916\tbest: 0.2244199 (187)\ttotal: 9.2s\tremaining: 36.6s\n",
      "300:\tlearn: 0.4302942\ttest: 0.2303476\tbest: 0.2303476 (300)\ttotal: 13.7s\tremaining: 31.8s\n",
      "400:\tlearn: 0.4485136\ttest: 0.2349638\tbest: 0.2349977 (397)\ttotal: 18.2s\tremaining: 27.2s\n",
      "500:\tlearn: 0.4661071\ttest: 0.2379759\tbest: 0.2396036 (487)\ttotal: 22.8s\tremaining: 22.7s\n",
      "600:\tlearn: 0.4826988\ttest: 0.2409539\tbest: 0.2410636 (599)\ttotal: 27.3s\tremaining: 18.1s\n",
      "Stopped by overfitting detector  (50 iterations wait)\n",
      "\n",
      "bestTest = 0.2423330965\n",
      "bestIteration = 631\n",
      "\n",
      "Shrink model to first 632 iterations.\n",
      "Валидационные вероятности:\n",
      "       class_0_prob  class_1_prob  class_2_prob  class_3_prob  class_4_prob  \\\n",
      "68034      0.662188      0.243514      0.050917      0.016535      0.013539   \n",
      "60831      0.368353      0.407257      0.133323      0.058248      0.019937   \n",
      "38257      0.590457      0.298755      0.071249      0.018051      0.012292   \n",
      "16129      0.317405      0.377643      0.130235      0.098826      0.028196   \n",
      "33942      0.736667      0.197779      0.030828      0.022861      0.006123   \n",
      "\n",
      "       class_5_prob  class_6_prob   class_7_prob  true_class  \n",
      "68034      0.006822      0.006485  1.473417e-308           0  \n",
      "60831      0.008159      0.004722  9.061775e-309           0  \n",
      "38257      0.005646      0.003549  1.313811e-308           1  \n",
      "16129      0.028079      0.019616  8.402846e-309           6  \n",
      "33942      0.003922      0.001820  1.639139e-308           0  \n",
      "\n",
      "📊 Validation WMAE: 0.95933\n"
     ]
    }
   ],
   "source": [
    "from catboost import CatBoostClassifier, Pool\n",
    "from sklearn.model_selection import train_test_split\n",
    "import pandas as pd\n",
    "import numpy as np\n",
    "\n",
    "# Подготовка данных\n",
    "cat_X = tr_features_pd.drop(columns=[\"target\", \"client_num\"])\n",
    "cat_y = tr_features_pd[\"target\"]\n",
    "cat_X_test = tst_features_pd.drop(columns=[\"client_num\"])\n",
    "\n",
    "# Определение категориальных признаков\n",
    "cat_cat_features = tr_features_pd.select_dtypes(include=['category', 'object']).columns.tolist()\n",
    "\n",
    "# Разделение на train/val\n",
    "cat_X_train, cat_X_val, cat_y_train, cat_y_val = train_test_split(\n",
    "    cat_X, cat_y, test_size=0.2, random_state=42, stratify=cat_y\n",
    ")\n",
    "\n",
    "# Веса классов (аналогично вашему LightGBM примеру)\n",
    "class_weights = {\n",
    "    0: 1.00,\n",
    "    1: 0.72,\n",
    "    2: 0.52,\n",
    "    3: 0.37,\n",
    "    4: 0.27,\n",
    "    5: 0.19,\n",
    "    6: 0.14,\n",
    "    7: 0.00,\n",
    "}\n",
    "\n",
    "# Создание весов для каждого образца\n",
    "sample_weights = cat_y_train.map(class_weights)\n",
    "\n",
    "# Создание Pool объектов (аналог Dataset в LightGBM)\n",
    "cat_train_pool = Pool(cat_X_train, cat_y_train, cat_features=cat_cat_features, weight=sample_weights)\n",
    "cat_val_pool = Pool(cat_X_val, cat_y_val, cat_features=cat_cat_features)\n",
    "\n",
    "# Параметры модели CatBoost\n",
    "cat_params = {\n",
    "    'iterations': 1000,\n",
    "    'learning_rate': 0.05,\n",
    "    'depth': 7,\n",
    "    'loss_function': 'MultiClass',\n",
    "    'classes_count': 8,\n",
    "    'random_seed': 42,\n",
    "    'verbose': 100,\n",
    "    'early_stopping_rounds': 50,\n",
    "    'eval_metric': 'TotalF1',  # Можно изменить на другой подходящий metric\n",
    "    'use_best_model': True\n",
    "}\n",
    "\n",
    "# Инициализация и обучение модели\n",
    "cat_model = CatBoostClassifier(**cat_params)\n",
    "cat_model.fit(\n",
    "    cat_train_pool,\n",
    "    eval_set=cat_val_pool,\n",
    "    plot=True\n",
    ")\n",
    "\n",
    "# Предсказание вероятностей для валидационного набора\n",
    "cat_val_preds_proba = cat_model.predict_proba(cat_X_val)  # Получаем вероятности классов\n",
    "\n",
    "# Предсказание вероятностей для тестового набора\n",
    "cat_test_preds_proba = cat_model.predict_proba(cat_X_test)\n",
    "\n",
    "# Создание DataFrame с вероятностями\n",
    "cat_val_prob_df = pd.DataFrame(cat_val_preds_proba, \n",
    "                          columns=[f\"class_{i}_prob\" for i in range(8)],\n",
    "                          index=cat_X_val.index)\n",
    "cat_val_prob_df['true_class'] = cat_y_val\n",
    "\n",
    "cat_test_prob_df = pd.DataFrame(cat_test_preds_proba,\n",
    "                          columns=[f\"class_{i}_prob\" for i in range(8)],\n",
    "                          index=cat_X_test.index)\n",
    "\n",
    "# Вывод информации о вероятностях\n",
    "print(\"Валидационные вероятности:\")\n",
    "print(cat_val_prob_df.head())\n",
    "\n",
    "# Если нужно вычислить WMAE (аналогично вашему LightGBM примеру)\n",
    "def compute_wmae(y_true, y_pred):\n",
    "    weights = np.vectorize(class_weights.get)(y_true)\n",
    "    return np.sum(weights * np.abs(y_true - y_pred)) / np.sum(weights)\n",
    "\n",
    "val_preds_class = cat_val_preds_proba.argmax(axis=1)\n",
    "wmae_score = compute_wmae(cat_y_val.values, val_preds_class)\n",
    "print(f\"\\n📊 Validation WMAE: {wmae_score:.5f}\")"
   ]
  },
  {
   "cell_type": "code",
   "execution_count": null,
   "id": "6f819199",
   "metadata": {},
   "outputs": [],
   "source": [
    "est_preds_proba = cat_model.predict_proba(cat_X_test)\n",
    "\n",
    "# Получаем предсказанные классы (метки)\n",
    "cat_val_preds_class = cat_test_preds_proba.argmax(axis=1)\n",
    "\n",
    "# Создание submission файла в том же формате, что и в LightGBM\n",
    "submission = pd.DataFrame({\n",
    "    \"client_num\": tst_features_pd[\"client_num\"],\n",
    "    \"target\": cat_val_preds_class\n",
    "})\n",
    "\n",
    "# Сохранение в файл\n",
    "submission.to_csv(\"cat_submission.csv\", index=False)"
   ]
  },
  {
   "cell_type": "code",
   "execution_count": null,
   "id": "3314dbc7",
   "metadata": {},
   "outputs": [
    {
     "data": {
      "text/html": [
       "<div>\n",
       "<style scoped>\n",
       "    .dataframe tbody tr th:only-of-type {\n",
       "        vertical-align: middle;\n",
       "    }\n",
       "\n",
       "    .dataframe tbody tr th {\n",
       "        vertical-align: top;\n",
       "    }\n",
       "\n",
       "    .dataframe thead th {\n",
       "        text-align: right;\n",
       "    }\n",
       "</style>\n",
       "<table border=\"1\" class=\"dataframe\">\n",
       "  <thead>\n",
       "    <tr style=\"text-align: right;\">\n",
       "      <th></th>\n",
       "      <th>lgb_class</th>\n",
       "      <th>cat_class</th>\n",
       "    </tr>\n",
       "  </thead>\n",
       "  <tbody>\n",
       "    <tr>\n",
       "      <th>0</th>\n",
       "      <td>1</td>\n",
       "      <td>1</td>\n",
       "    </tr>\n",
       "    <tr>\n",
       "      <th>1</th>\n",
       "      <td>1</td>\n",
       "      <td>0</td>\n",
       "    </tr>\n",
       "    <tr>\n",
       "      <th>2</th>\n",
       "      <td>1</td>\n",
       "      <td>0</td>\n",
       "    </tr>\n",
       "    <tr>\n",
       "      <th>3</th>\n",
       "      <td>4</td>\n",
       "      <td>4</td>\n",
       "    </tr>\n",
       "    <tr>\n",
       "      <th>4</th>\n",
       "      <td>1</td>\n",
       "      <td>1</td>\n",
       "    </tr>\n",
       "    <tr>\n",
       "      <th>...</th>\n",
       "      <td>...</td>\n",
       "      <td>...</td>\n",
       "    </tr>\n",
       "    <tr>\n",
       "      <th>39138</th>\n",
       "      <td>1</td>\n",
       "      <td>0</td>\n",
       "    </tr>\n",
       "    <tr>\n",
       "      <th>39139</th>\n",
       "      <td>0</td>\n",
       "      <td>0</td>\n",
       "    </tr>\n",
       "    <tr>\n",
       "      <th>39140</th>\n",
       "      <td>1</td>\n",
       "      <td>1</td>\n",
       "    </tr>\n",
       "    <tr>\n",
       "      <th>39141</th>\n",
       "      <td>1</td>\n",
       "      <td>0</td>\n",
       "    </tr>\n",
       "    <tr>\n",
       "      <th>39142</th>\n",
       "      <td>1</td>\n",
       "      <td>0</td>\n",
       "    </tr>\n",
       "  </tbody>\n",
       "</table>\n",
       "<p>39143 rows × 2 columns</p>\n",
       "</div>"
      ],
      "text/plain": [
       "       lgb_class  cat_class\n",
       "0              1          1\n",
       "1              1          0\n",
       "2              1          0\n",
       "3              4          4\n",
       "4              1          1\n",
       "...          ...        ...\n",
       "39138          1          0\n",
       "39139          0          0\n",
       "39140          1          1\n",
       "39141          1          0\n",
       "39142          1          0\n",
       "\n",
       "[39143 rows x 2 columns]"
      ]
     },
     "execution_count": 189,
     "metadata": {},
     "output_type": "execute_result"
    }
   ],
   "source": [
    "res = pd.DataFrame()\n",
    "\n",
    "#res['lgb_prob'] = lgb_val_preds_proba\n",
    "res['lgb_class'] = test_preds_labels\n",
    "#res['cat_prob'] = cat_val_preds_proba\n",
    "res['cat_class'] = cat_val_preds_class\n",
    "\n",
    "res"
   ]
  },
  {
   "cell_type": "code",
   "execution_count": null,
   "id": "892ff49e",
   "metadata": {},
   "outputs": [
    {
     "data": {
      "text/plain": [
       "14000"
      ]
     },
     "execution_count": 187,
     "metadata": {},
     "output_type": "execute_result"
    }
   ],
   "source": [
    "len(lgb_val_preds_class)"
   ]
  },
  {
   "cell_type": "code",
   "execution_count": null,
   "id": "744554c2",
   "metadata": {},
   "outputs": [],
   "source": []
  },
  {
   "cell_type": "code",
   "execution_count": null,
   "id": "7e7cd59e",
   "metadata": {},
   "outputs": [],
   "source": []
  },
  {
   "cell_type": "code",
   "execution_count": null,
   "id": "fd4dd783",
   "metadata": {},
   "outputs": [],
   "source": []
  },
  {
   "cell_type": "code",
   "execution_count": null,
   "id": "d5d609f4",
   "metadata": {},
   "outputs": [],
   "source": []
  },
  {
   "cell_type": "code",
   "execution_count": null,
   "id": "ecc1fee8",
   "metadata": {},
   "outputs": [],
   "source": [
    "ы"
   ]
  },
  {
   "cell_type": "code",
   "execution_count": null,
   "id": "92981dd3",
   "metadata": {},
   "outputs": [
    {
     "data": {
      "image/png": "[encoded data removed]",
      "text/plain": [
       "<Figure size 800x950 with 1 Axes>"
      ]
     },
     "metadata": {},
     "output_type": "display_data"
    }
   ],
   "source": [
    "import shap\n",
    "\n",
    "# Инициализируем explainer с вашей моделью\n",
    "explainer = shap.TreeExplainer(model)\n",
    "\n",
    "# Вычисляем SHAP значения для валидационного набора (можно использовать и тренировочный)\n",
    "shap_values = explainer.shap_values(X_val)\n",
    "\n",
    "# Визуализация важности признаков (среднее абсолютное значение SHAP)\n",
    "shap.summary_plot(shap_values, X_val, plot_type=\"bar\")"
   ]
  },
  {
   "cell_type": "code",
   "execution_count": null,
   "id": "7ddae4bf",
   "metadata": {},
   "outputs": [],
   "source": []
  }
 ],
 "metadata": {
  "kernelspec": {
   "display_name": "base",
   "language": "python",
   "name": "python3"
  },
  "language_info": {
   "codemirror_mode": {
    "name": "ipython",
    "version": 3
   },
   "file_extension": ".py",
   "mimetype": "text/x-python",
   "name": "python",
   "nbconvert_exporter": "python",
   "pygments_lexer": "ipython3",
   "version": "3.12.3"
  }
 },
 "nbformat": 4,
 "nbformat_minor": 5
}
