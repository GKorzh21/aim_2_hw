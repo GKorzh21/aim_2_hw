{
 "cells": [
  {
   "cell_type": "code",
   "execution_count": 31,
   "id": "89bebcda",
   "metadata": {},
   "outputs": [],
   "source": [
    "tran_pd = pd.read_parquet(\"data/df_transaction.pa\")\n",
    "tr_pd = pd.read_parquet(\"data/train.pa\")"
   ]
  },
  {
   "cell_type": "code",
   "execution_count": 36,
   "id": "073aed4d",
   "metadata": {},
   "outputs": [
    {
     "data": {
      "text/plain": [
       "Timestamp('2024-10-01 00:00:00')"
      ]
     },
     "execution_count": 36,
     "metadata": {},
     "output_type": "execute_result"
    }
   ],
   "source": [
    "tran_pd['date_time'].max()"
   ]
  },
  {
   "cell_type": "code",
   "execution_count": null,
   "id": "602c4e94",
   "metadata": {},
   "outputs": [],
   "source": []
  }
 ],
 "metadata": {
  "kernelspec": {
   "display_name": "base",
   "language": "python",
   "name": "python3"
  },
  "language_info": {
   "codemirror_mode": {
    "name": "ipython",
    "version": 3
   },
   "file_extension": ".py",
   "mimetype": "text/x-python",
   "name": "python",
   "nbconvert_exporter": "python",
   "pygments_lexer": "ipython3",
   "version": "3.12.3"
  }
 },
 "nbformat": 4,
 "nbformat_minor": 5
}
