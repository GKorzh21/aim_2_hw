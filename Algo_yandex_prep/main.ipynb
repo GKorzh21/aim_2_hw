{
 "cells": [
  {
   "cell_type": "code",
   "execution_count": 21,
   "id": "4578a8bd",
   "metadata": {},
   "outputs": [
    {
     "data": {
      "text/plain": [
       "[1, 2]"
      ]
     },
     "execution_count": 21,
     "metadata": {},
     "output_type": "execute_result"
    }
   ],
   "source": [
    "# 1\n",
    "def twoSum(nums, target):\n",
    "    diff = {}\n",
    "\n",
    "    for i, num in enumerate(nums):\n",
    "        comp = target - num\n",
    "\n",
    "        if comp in diff:\n",
    "            return [diff[comp], i]\n",
    "        \n",
    "        if (num) not in diff:\n",
    "            diff[num] = i\n",
    "                \n",
    "twoSum([3,2,4], 6)"
   ]
  },
  {
   "cell_type": "code",
   "execution_count": 22,
   "id": "0be6542b",
   "metadata": {},
   "outputs": [
    {
     "data": {
      "text/plain": [
       "False"
      ]
     },
     "execution_count": 22,
     "metadata": {},
     "output_type": "execute_result"
    }
   ],
   "source": [
    "#2\n",
    "def isValid(s):\n",
    "    stack = []\n",
    "\n",
    "    for i in s:\n",
    "        \n",
    "        if i in ['(', '{', '[']:\n",
    "            stack.append(i)\n",
    "\n",
    "        elif stack:\n",
    "            if (i == ')' and stack[-1] == '(') or (i == '}' and stack[-1] == '{') or (i == ']' and stack[-1] == '['):\n",
    "                stack.pop()\n",
    "            else:\n",
    "                return False\n",
    "        else:\n",
    "            \n",
    "            return False\n",
    "\n",
    "    if stack:\n",
    "        return False\n",
    "    return True\n",
    "\n",
    "\n",
    "isValid(\"(])\")"
   ]
  },
  {
   "cell_type": "code",
   "execution_count": 23,
   "id": "d4ea8fb8",
   "metadata": {},
   "outputs": [],
   "source": [
    "#3\n",
    "def reverseList(head):\n",
    "    prev = None\n",
    "    curr = head\n",
    "    while curr:\n",
    "        next_node = curr.next\n",
    "        curr.next = prev\n",
    "        prev = curr\n",
    "        curr = next_node\n",
    "\n",
    "    return prev"
   ]
  },
  {
   "cell_type": "code",
   "execution_count": 24,
   "id": "42cf2d37",
   "metadata": {},
   "outputs": [
    {
     "ename": "AttributeError",
     "evalue": "'list' object has no attribute 'val'",
     "output_type": "error",
     "traceback": [
      "\u001b[1;31m---------------------------------------------------------------------------\u001b[0m",
      "\u001b[1;31mAttributeError\u001b[0m                            Traceback (most recent call last)",
      "Cell \u001b[1;32mIn[24], line 31\u001b[0m\n\u001b[0;32m     28\u001b[0m list1 \u001b[38;5;241m=\u001b[39m [\u001b[38;5;241m1\u001b[39m,\u001b[38;5;241m2\u001b[39m,\u001b[38;5;241m4\u001b[39m]\n\u001b[0;32m     29\u001b[0m list2 \u001b[38;5;241m=\u001b[39m [\u001b[38;5;241m1\u001b[39m,\u001b[38;5;241m3\u001b[39m,\u001b[38;5;241m4\u001b[39m]\n\u001b[1;32m---> 31\u001b[0m mergeTwoLists(list1,list2)\n",
      "Cell \u001b[1;32mIn[24], line 13\u001b[0m, in \u001b[0;36mmergeTwoLists\u001b[1;34m(list1, list2)\u001b[0m\n\u001b[0;32m     10\u001b[0m tail \u001b[38;5;241m=\u001b[39m dummy\n\u001b[0;32m     12\u001b[0m \u001b[38;5;28;01mwhile\u001b[39;00m(list1 \u001b[38;5;129;01mand\u001b[39;00m list2):\n\u001b[1;32m---> 13\u001b[0m     \u001b[38;5;28;01mif\u001b[39;00m list1\u001b[38;5;241m.\u001b[39mval \u001b[38;5;241m<\u001b[39m\u001b[38;5;241m=\u001b[39m list2\u001b[38;5;241m.\u001b[39mval:\n\u001b[0;32m     14\u001b[0m         tail\u001b[38;5;241m.\u001b[39mnext \u001b[38;5;241m=\u001b[39m list1\n\u001b[0;32m     15\u001b[0m         list1 \u001b[38;5;241m=\u001b[39m list1\u001b[38;5;241m.\u001b[39mnext\n",
      "\u001b[1;31mAttributeError\u001b[0m: 'list' object has no attribute 'val'"
     ]
    }
   ],
   "source": [
    "#4\n",
    "\n",
    "class ListNode:\n",
    "    def __init__(self, val=0, next=None):\n",
    "        self.val = val\n",
    "        self.next = next\n",
    "\n",
    "def mergeTwoLists(list1, list2):\n",
    "    dummy = ListNode()\n",
    "    tail = dummy\n",
    "\n",
    "    while(list1 and list2):\n",
    "        if list1.val <= list2.val:\n",
    "            tail.next = list1\n",
    "            list1 = list1.next\n",
    "        else:\n",
    "            tail.next = list2\n",
    "            list2 = list2.next\n",
    "        tail = tail.next\n",
    "\n",
    "    if list1:\n",
    "        tail.next = list1\n",
    "    elif list2:\n",
    "        tail.next = list2\n",
    "\n",
    "    return dummy.next\n",
    "\n",
    "list1 = [1,2,4]\n",
    "list2 = [1,3,4]\n",
    "\n",
    "mergeTwoLists(list1,list2)"
   ]
  },
  {
   "cell_type": "code",
   "execution_count": null,
   "id": "9839477f",
   "metadata": {},
   "outputs": [
    {
     "data": {
      "text/plain": [
       "6"
      ]
     },
     "execution_count": 16,
     "metadata": {},
     "output_type": "execute_result"
    }
   ],
   "source": [
    "#5\n",
    "\n",
    "def maxSubArray(nums):\n",
    "    cur_sum = nums[0]\n",
    "    max_sum = nums[0]\n",
    "\n",
    "    for n in nums[1:]:\n",
    "        if cur_sum > 0:\n",
    "            cur_sum += n\n",
    "        else:\n",
    "            cur_sum = n\n",
    "\n",
    "        max_sum = max(max_sum, cur_sum)\n",
    "\n",
    "    return max_sum\n",
    "\n",
    "nums = [-2,1,-3,4,-1,2,1,-5,4]\n",
    "\n",
    "maxSubArray(nums)"
   ]
  },
  {
   "cell_type": "code",
   "execution_count": null,
   "id": "d97560da",
   "metadata": {},
   "outputs": [
    {
     "data": {
      "text/plain": [
       "0"
      ]
     },
     "execution_count": 18,
     "metadata": {},
     "output_type": "execute_result"
    }
   ],
   "source": [
    "#6\n",
    "\n",
    "def maxProfit(prices):\n",
    "    minp = prices[0]\n",
    "    maxp = 0\n",
    "    \n",
    "    for p in prices[1:]:\n",
    "        minp = min(p, minp)\n",
    "        maxp = max(maxp, p - minp)\n",
    "\n",
    "    return maxp\n",
    "\n",
    "\n",
    "\n",
    "prices = [7,1,5,3,6,4]\n",
    "maxProfit([7,6,4,3,1])"
   ]
  },
  {
   "cell_type": "code",
   "execution_count": 29,
   "id": "32e6424b",
   "metadata": {},
   "outputs": [
    {
     "name": "stdout",
     "output_type": "stream",
     "text": [
      "3 4\n",
      "4 4\n"
     ]
    },
    {
     "data": {
      "text/plain": [
       "4"
      ]
     },
     "execution_count": 29,
     "metadata": {},
     "output_type": "execute_result"
    }
   ],
   "source": [
    "#7\n",
    "\n",
    "def searchInsert(nums, target):\n",
    "    l = 0\n",
    "    r = len(nums)\n",
    "\n",
    "    while l < r:\n",
    "        mid = (l+r) // 2\n",
    "\n",
    "        if nums[mid] == target:\n",
    "            return mid\n",
    "        \n",
    "        if nums[mid] < target:\n",
    "            l = mid + 1\n",
    "\n",
    "        if nums[mid] > target:\n",
    "            r = mid\n",
    "\n",
    "        print(l, r)\n",
    "\n",
    "    return r\n",
    "\n",
    "\n",
    "nums = [1,3,5,6]\n",
    "target = 5\n",
    "\n",
    "searchInsert(nums = [1,3,5,6], target = 7)"
   ]
  },
  {
   "cell_type": "code",
   "execution_count": 5,
   "id": "932b150f",
   "metadata": {},
   "outputs": [
    {
     "data": {
      "text/plain": [
       "False"
      ]
     },
     "execution_count": 5,
     "metadata": {},
     "output_type": "execute_result"
    }
   ],
   "source": [
    "#8 \n",
    "\n",
    "def containsDuplicate(nums):\n",
    "    d = {}\n",
    "\n",
    "    for n in nums:\n",
    "        d[n] = d.get(n, 0) + 1\n",
    "\n",
    "    for i in d.values():\n",
    "        if i != 1:\n",
    "            return False\n",
    "        \n",
    "    return True\n",
    "\n",
    "containsDuplicate([1,2,3,1])"
   ]
  },
  {
   "cell_type": "code",
   "execution_count": 18,
   "id": "c5088baf",
   "metadata": {},
   "outputs": [
    {
     "data": {
      "text/plain": [
       "[1, 3, 12, 0, 0]"
      ]
     },
     "execution_count": 18,
     "metadata": {},
     "output_type": "execute_result"
    }
   ],
   "source": [
    "#9 \n",
    "\n",
    "def moveZeroes(nums):\n",
    "    insert_pos = 0\n",
    "\n",
    "    # Переносим все ненули вперед\n",
    "    for i in range(len(nums)):\n",
    "        if nums[i] != 0:\n",
    "            nums[insert_pos] = nums[i]\n",
    "            insert_pos += 1\n",
    "\n",
    "    # Заполняем хвост нулями\n",
    "    for i in range(insert_pos, len(nums)):\n",
    "        nums[i] = 0\n",
    "nums = [0, 1,0,3,12]\n",
    "moveZeroes(nums)\n",
    "nums"
   ]
  },
  {
   "cell_type": "code",
   "execution_count": 1,
   "id": "b0b64e70",
   "metadata": {},
   "outputs": [
    {
     "data": {
      "text/plain": [
       "1024.0"
      ]
     },
     "execution_count": 1,
     "metadata": {},
     "output_type": "execute_result"
    }
   ],
   "source": [
    "#10\n",
    "\n",
    "def myPow(x, n):\n",
    "    res = 1\n",
    "    while n > 0:\n",
    "        res *= x\n",
    "        n -= 1\n",
    "    return res\n",
    "\n",
    "myPow(x = 2.00000, n = 10)"
   ]
  },
  {
   "cell_type": "code",
   "execution_count": 6,
   "id": "cb6750e6",
   "metadata": {},
   "outputs": [
    {
     "data": {
      "text/plain": [
       "89"
      ]
     },
     "execution_count": 6,
     "metadata": {},
     "output_type": "execute_result"
    }
   ],
   "source": [
    "#11\n",
    "\n",
    "def climbStairs(n):\n",
    "    res = [1, 2]\n",
    "    orig = n\n",
    "    \n",
    "    while n > 2:\n",
    "        res.append(res[-1] + res[-2])\n",
    "\n",
    "        n -= 1\n",
    "    return res[orig-1]\n",
    "\n",
    "climbStairs(10)"
   ]
  },
  {
   "cell_type": "code",
   "execution_count": 14,
   "id": "a0d6c307",
   "metadata": {},
   "outputs": [
    {
     "data": {
      "text/plain": [
       "28"
      ]
     },
     "execution_count": 14,
     "metadata": {},
     "output_type": "execute_result"
    }
   ],
   "source": [
    "#12\n",
    "\n",
    "def uniquePaths(m, n):\n",
    "    \n",
    "    if n == 1 or m == 1:\n",
    "        return 1\n",
    "    \n",
    "    return uniquePaths(m-1, n) + uniquePaths(m, n-1)\n",
    "\n",
    "uniquePaths(3, 7)"
   ]
  },
  {
   "cell_type": "code",
   "execution_count": null,
   "id": "e0d7d9b3",
   "metadata": {},
   "outputs": [
    {
     "data": {
      "text/plain": [
       "False"
      ]
     },
     "execution_count": 17,
     "metadata": {},
     "output_type": "execute_result"
    }
   ],
   "source": [
    "#13\n",
    "\n",
    "def isSubsequence(s, t):\n",
    "    i = 0\n",
    "    for l in t:\n",
    "        if len(s) <= i:\n",
    "            break\n",
    "\n",
    "        if l == s[i]:\n",
    "            i += 1\n",
    "\n",
    "    if i == len(s):\n",
    "        return True\n",
    "    return False\n",
    "\n",
    "isSubsequence(s = \"aec\", t = \"ahbgdc\")"
   ]
  },
  {
   "cell_type": "code",
   "execution_count": 19,
   "id": "280e636f",
   "metadata": {},
   "outputs": [
    {
     "data": {
      "text/plain": [
       "[2]"
      ]
     },
     "execution_count": 19,
     "metadata": {},
     "output_type": "execute_result"
    }
   ],
   "source": [
    "#14\n",
    "\n",
    "def intersection(nums1, nums2):\n",
    "    return list(set(nums1) & set(nums2))\n",
    "\n",
    "intersection(nums1 = [1,2,2,1], nums2 = [2,2])"
   ]
  },
  {
   "cell_type": "code",
   "execution_count": null,
   "id": "e0799604",
   "metadata": {},
   "outputs": [
    {
     "data": {
      "text/plain": [
       "2"
      ]
     },
     "execution_count": 21,
     "metadata": {},
     "output_type": "execute_result"
    }
   ],
   "source": [
    "#15\n",
    "\n",
    "def firstUniqChar(s):\n",
    "    count = {}\n",
    "\n",
    "    for l in s:\n",
    "        count[l] = count.get(l, 0) + 1\n",
    "\n",
    "    for i, l in enumerate(s):\n",
    "        if count[l] == 1:\n",
    "            return i\n",
    "        \n",
    "    return -1\n",
    "\n",
    "firstUniqChar(\"loveleetcode\")"
   ]
  },
  {
   "cell_type": "code",
   "execution_count": null,
   "id": "4929dca5",
   "metadata": {},
   "outputs": [],
   "source": [
    "#16\n",
    "\n",
    "class ListNode:\n",
    "    def __init__(self, val=0, next=None):\n",
    "        self.val = val\n",
    "        self.next = next\n",
    "\n",
    "def addTwoNumbers(l1, l2):\n",
    "    dummy = ListNode()\n",
    "    cur = dummy\n",
    "    carry = 0\n",
    "\n",
    "    while l1 or l2 or carry:\n",
    "        val1 = l1.val if l1 else 0\n",
    "        val2 = l2.val if l2 else 0\n",
    "\n",
    "        total = val1 + val2 + carry\n",
    "        carry = total // 10\n",
    "        digit = total % 10\n",
    "\n",
    "        cur.next = ListNode(digit)\n",
    "        cur = cur.next\n",
    "\n",
    "        if l1:\n",
    "            l1 = l1.next\n",
    "        if l2:\n",
    "            l2 = l2.next\n",
    "\n",
    "    return dummy.next"
   ]
  },
  {
   "cell_type": "code",
   "execution_count": null,
   "id": "0365f75f",
   "metadata": {},
   "outputs": [],
   "source": [
    "class ListNode:\n",
    "    def __init__(self, x):\n",
    "        self.val = x\n",
    "        self.next = None\n",
    "\n",
    "class Solution:\n",
    "    def detectCycle(head):\n",
    "        slow = head\n",
    "        fast = head\n",
    "\n",
    "        while fast and fast.next:\n",
    "            slow = slow.next\n",
    "            fast = fast.next.next\n",
    "\n",
    "            if fast == slow:\n",
    "                break\n",
    "\n",
    "        if fast != slow:\n",
    "            return None\n",
    "        \n",
    "        slow = head\n",
    "\n",
    "        while slow != fast:\n",
    "            slow = slow.next\n",
    "            fast = fast.next\n",
    "\n",
    "        return slow"
   ]
  },
  {
   "cell_type": "code",
   "execution_count": 14,
   "id": "5e3afac6",
   "metadata": {},
   "outputs": [
    {
     "data": {
      "text/plain": [
       "True"
      ]
     },
     "execution_count": 14,
     "metadata": {},
     "output_type": "execute_result"
    }
   ],
   "source": [
    "# line reflection\n",
    "\n",
    "def  line_reflection(p):\n",
    "    points = set()\n",
    "    min_x = float('inf')\n",
    "    max_x = float('-inf')\n",
    "\n",
    "    for x, y in p:\n",
    "        points.add((x, y))  \n",
    "        max_x = max(max_x, x)   \n",
    "        min_x = min(min_x, x)\n",
    "\n",
    "    cond = (max_x + min_x) / 2\n",
    "\n",
    "    for x, y in points:\n",
    "        if (2* cond - x, y) not in points:\n",
    "            return False\n",
    "        \n",
    "    return True\n",
    "\n",
    "points = [[0, 0], [1, 1], [-1, 1]]\n",
    "line_reflection(points)"
   ]
  },
  {
   "cell_type": "code",
   "execution_count": 35,
   "id": "672ad8ff",
   "metadata": {},
   "outputs": [
    {
     "data": {
      "text/plain": [
       "'app'"
      ]
     },
     "execution_count": 35,
     "metadata": {},
     "output_type": "execute_result"
    }
   ],
   "source": [
    "#Longest Common Prefix\n",
    "\n",
    "def longest_common_prefix(strs):\n",
    "    if not strs:\n",
    "        return ''\n",
    "\n",
    "    for i in range(len(strs[0])):\n",
    "        cur = strs[0][i]\n",
    "        for s in strs[1:]:\n",
    "            if i >= len(s) or s[i] != cur:\n",
    "                return s[:i]\n",
    "            \n",
    "    return strs[0]\n",
    "\n",
    "s = [\"app\", \"apple\"]\n",
    "longest_common_prefix(s)"
   ]
  },
  {
   "cell_type": "code",
   "execution_count": null,
   "id": "60d87563",
   "metadata": {},
   "outputs": [
    {
     "name": "stdout",
     "output_type": "stream",
     "text": [
      "0 4 2\n",
      "4 8 2\n",
      "8 10 2\n",
      "4 0\n"
     ]
    },
    {
     "data": {
      "text/plain": [
       "4"
      ]
     },
     "execution_count": 54,
     "metadata": {},
     "output_type": "execute_result"
    }
   ],
   "source": [
    "#Maximize Distance to Closest Person\n",
    "def maxDistToClosest(seats):\n",
    "    l_dist = -1\n",
    "    mid_dist = 0\n",
    "    \n",
    "    l = -1\n",
    "    r = 0\n",
    "\n",
    "    for pos, i in enumerate(seats):\n",
    "        if l_dist == -1 and i == 1:\n",
    "            l_dist = pos\n",
    "\n",
    "        if i == 1:\n",
    "            l = r\n",
    "            r = pos\n",
    "            mid_dist = max(mid_dist, (r - l) // 2)\n",
    "            \n",
    "    r_dist = len(seats) - r - 1\n",
    "    return max(l_dist, mid_dist, r_dist)\n",
    "\n",
    "\n",
    "maxDistToClosest([0,0,0,0,1,0,0,0,1,0,1])"
   ]
  },
  {
   "cell_type": "code",
   "execution_count": null,
   "id": "82c3deef",
   "metadata": {},
   "outputs": [
    {
     "data": {
      "text/plain": [
       "0"
      ]
     },
     "execution_count": 66,
     "metadata": {},
     "output_type": "execute_result"
    }
   ],
   "source": [
    "#Max Consecutive Ones\n",
    "\n",
    "def max_consecutive_ones(nums):\n",
    "    l = 0\n",
    "    r = 0\n",
    "    res = 0\n",
    "\n",
    "    for i in nums:\n",
    "\n",
    "        if i == 1:\n",
    "            r += 1\n",
    "        if i == 0:\n",
    "            res = max(res, r + l + 1)\n",
    "            l = r\n",
    "            r = 0\n",
    "\n",
    "    res = max(res, l + r + (1 if 0 in nums else 0))\n",
    "\n",
    "    return min(res, len(nums)) if res!= 0 else len(nums)\n",
    "\n",
    "max_consecutive_ones([])"
   ]
  },
  {
   "cell_type": "code",
   "execution_count": 75,
   "id": "63d0609f",
   "metadata": {},
   "outputs": [
    {
     "data": {
      "text/plain": [
       "(2, 3)"
      ]
     },
     "execution_count": 75,
     "metadata": {},
     "output_type": "execute_result"
    }
   ],
   "source": [
    "#Target Sum Subarray\n",
    "\n",
    "def target_sum_subarray(nums, target):\n",
    "    prom = 0\n",
    "    l = 0\n",
    "\n",
    "    for r, num in enumerate(nums):\n",
    "        prom += num\n",
    "\n",
    "        while prom > target and l <= r:\n",
    "            prom -= nums[l]\n",
    "            l += 1\n",
    "\n",
    "        if prom == target:\n",
    "            return (l, r)\n",
    "\n",
    "     \n",
    "    left = 0\n",
    "    current_sum = 0\n",
    "    for right, num in enumerate(nums):\n",
    "        current_sum += num\n",
    "        while current_sum < target and left <= right:  # Теперь проверяем на \"меньше\"\n",
    "            current_sum -= nums[left]\n",
    "            left += 1\n",
    "        if current_sum == target:\n",
    "            return (left, right)\n",
    "        \n",
    "    return (-1, -1)\n",
    "\n",
    "target_sum_subarray([1, -1, 5, -2, 3], 3)"
   ]
  },
  {
   "cell_type": "code",
   "execution_count": 76,
   "id": "47ceb073",
   "metadata": {},
   "outputs": [
    {
     "data": {
      "text/plain": [
       "(2, 3)"
      ]
     },
     "execution_count": 76,
     "metadata": {},
     "output_type": "execute_result"
    }
   ],
   "source": [
    "#Target Sum Subarray\n",
    "\n",
    "def target_sum_subarray(nums, target):\n",
    "    pref_sum = 0\n",
    "    pref_map = {0: -1}\n",
    "\n",
    "    for i, num in enumerate(nums):\n",
    "        pref_sum += num\n",
    "\n",
    "        if pref_sum - target in pref_map:\n",
    "            return (pref_map[pref_sum - target] + 1, i)\n",
    "        \n",
    "        pref_map[pref_sum] = i\n",
    "\n",
    "target_sum_subarray([1, -1, 5, -2, 3], 3)"
   ]
  },
  {
   "cell_type": "code",
   "execution_count": 84,
   "id": "d9468136",
   "metadata": {},
   "outputs": [
    {
     "data": {
      "text/plain": [
       "2"
      ]
     },
     "execution_count": 84,
     "metadata": {},
     "output_type": "execute_result"
    }
   ],
   "source": [
    "#XY\n",
    "\n",
    "def min_distance(string):\n",
    "    X_pos = -1\n",
    "    Y_pos = -1\n",
    "    min_dist = float('inf')\n",
    "\n",
    "    for i, l in enumerate(string):\n",
    "        if l == 'X':\n",
    "            X_pos = i\n",
    "            if Y_pos != -1:\n",
    "                min_dist = min(min_dist, X_pos - Y_pos)\n",
    "\n",
    "        if l == 'Y':\n",
    "            Y_pos = i\n",
    "            if X_pos != -1:\n",
    "                min_dist = min(min_dist, Y_pos - X_pos)\n",
    "\n",
    "    return min_dist if min_dist != float('inf') else 0\n",
    "\n",
    "min_distance('OOOXXOY')"
   ]
  },
  {
   "cell_type": "code",
   "execution_count": null,
   "id": "e0112b2d",
   "metadata": {},
   "outputs": [
    {
     "name": "stdout",
     "output_type": "stream",
     "text": [
      "['0', '2->4', '6', '8->9']\n",
      "['5->7']\n",
      "[]\n",
      "['1']\n"
     ]
    }
   ],
   "source": [
    "#[1, 2, 3] -> ['1->3'] \n",
    "    \n",
    "def summaryRanges(nums):\n",
    "    if not nums:\n",
    "        return []\n",
    "\n",
    "    l = nums[0]\n",
    "    res = []\n",
    "\n",
    "    for i, r in enumerate(nums):\n",
    "        if i+1 < len(nums) and nums[i+1] != nums[i] + 1:\n",
    "            res.append(f\"{r}\" if l == r else f\"{l}->{r}\")\n",
    "            l = nums[i+1]\n",
    "\n",
    "    res.append(f\"{r}\" if l == r else f\"{l}->{r}\")\n",
    "\n",
    "    return res\n",
    "\n",
    "print(summaryRanges([0,2,3,4,6,8,9]))  # ['0', '2->4', '6', '8->9']\n",
    "print(summaryRanges([5,6,7]))          # ['5->7']\n",
    "print(summaryRanges([]))              # []\n",
    "print(summaryRanges([1]))             # ['1']\n"
   ]
  },
  {
   "cell_type": "code",
   "execution_count": null,
   "id": "677ce162",
   "metadata": {},
   "outputs": [],
   "source": [
    "#findDuplicateSubtrees\n",
    "\n",
    "# Definition for a binary tree node.\n",
    "class TreeNode:\n",
    "    def __init__(self, val=0, left=None, right=None):\n",
    "        self.val = val\n",
    "        self.left = left\n",
    "        self.right = right\n",
    "\n",
    "from collections import defaultdict\n",
    "\n",
    "class Solution:\n",
    "    def findDuplicateSubtrees(root):\n",
    "        ser_dict = {}\n",
    "        res = []\n",
    "\n",
    "        def serialize(node):\n",
    "            if not node:\n",
    "                return '#'\n",
    "            serial = f\"{node.val}, {serialize(node.left)}, {serialize(node.right)}\"\n",
    "            ser_dict[serial] = ser_dict.get(serial, 0) + 1\n",
    "\n",
    "            if ser_dict[serial] == 2:\n",
    "                res.append(node)\n",
    "            return serial\n",
    "        serialize(root)\n",
    "\n",
    "        return res"
   ]
  },
  {
   "cell_type": "code",
   "execution_count": 21,
   "id": "6a815fc1",
   "metadata": {},
   "outputs": [
    {
     "name": "stdout",
     "output_type": "stream",
     "text": [
      "['1', ' ', '1', ' ', '1', '', '', '', '']\n",
      "['1', '%', '2', '0', '1', '%', '2', '0', '1']\n"
     ]
    }
   ],
   "source": [
    "#replaceSpaces\n",
    "\n",
    "def replaceSpaces(s, length):\n",
    "    space_num = 0\n",
    "\n",
    "    for i in s:\n",
    "        if i == ' ':\n",
    "            space_num += 1\n",
    "\n",
    "    index = length + 2 * space_num-1\n",
    "\n",
    "    for i in reversed(range(length)):\n",
    "        if s[i] == ' ':\n",
    "            s[index-2: index+1] = ['%', '2', '0']\n",
    "            index -= 3\n",
    "        else:\n",
    "            s[index] = s[i]\n",
    "            index -= 1 \n",
    "\n",
    "s = ['1', ' ', '1', ' ', '1', '', '', '', '']\n",
    "l = 5\n",
    "print(s)\n",
    "replaceSpaces(s, l)\n",
    "print(s)"
   ]
  },
  {
   "cell_type": "code",
   "execution_count": null,
   "id": "b88b277a",
   "metadata": {},
   "outputs": [
    {
     "data": {
      "text/plain": [
       "[(1, 7), (2, 4), (4, 1)]"
      ]
     },
     "execution_count": 76,
     "metadata": {},
     "output_type": "execute_result"
    }
   ],
   "source": [
    "#ступеньки\n",
    "\n",
    "def steps(a, b):\n",
    "    res = set()\n",
    "    for pos, _ in a:\n",
    "        res.add(pos)\n",
    "\n",
    "    for pos, _ in b:\n",
    "        res.add(pos)\n",
    "\n",
    "    res = list(res)\n",
    "\n",
    "    def make_arr(a, res):\n",
    "        new_a = []\n",
    "        index = 1\n",
    "\n",
    "        for i, (pos, val) in enumerate(a):\n",
    "            l = pos\n",
    "            while index < len(res):\n",
    "                if i+1 < len(a) and res[index] <= a[i+1][0]:\n",
    "                    new_a.append((l,  res[index], val))\n",
    "                    l = res[index]\n",
    "                    index += 1\n",
    "                else:\n",
    "                    if i+1 == len(a):\n",
    "                        new_a.append((l,  res[index], val))\n",
    "                        l = res[index]\n",
    "                    break\n",
    "\n",
    "            new_a.append((l, float('inf'), val)) if i+1 == len(a) else ...\n",
    "\n",
    "        return new_a\n",
    "\n",
    "    new_a = make_arr(a, res)\n",
    "    new_b = make_arr(b, res)\n",
    "\n",
    "    new_res = []\n",
    "\n",
    "    for i in range(len(new_a)):\n",
    "        cur = (new_a[i][0], new_a[i][1], new_a[i][2] + new_b[i][2])\n",
    "        new_res.append(cur)\n",
    "\n",
    "        if new_res and new_res[-1][2] == new_a[i][2] + new_b[i][2]:\n",
    "            new_res[-1][1] = new_a[i][1]\n",
    "\n",
    "    ans = []\n",
    "    for i in range(len(new_res)):\n",
    "        ans.append((new_res[i][0], new_res[i][2]))\n",
    "            \n",
    "    return ans\n",
    "\n",
    "\n",
    "a = [(1, 3), (4, 0)]\n",
    "b = [(1, 4), (2, 1)]\n",
    "\n",
    "steps(a, b)"
   ]
  },
  {
   "cell_type": "code",
   "execution_count": 10,
   "id": "b601d55f",
   "metadata": {},
   "outputs": [
    {
     "name": "stdout",
     "output_type": "stream",
     "text": [
      "c e {'c': 1, 'b': 1, 'a': 1}\n",
      "b b {'b': 1, 'a': 1, 'e': 1}\n",
      "a a {'a': 1, 'e': 1, 'b': 1}\n",
      "e b {'e': 1, 'b': 1, 'a': 1}\n",
      "b a {'b': 2, 'a': 1}\n",
      "a c {'b': 1, 'a': 2}\n",
      "b d {'b': 1, 'a': 1, 'c': 1}\n"
     ]
    },
    {
     "data": {
      "text/plain": [
       "[0, 6]"
      ]
     },
     "execution_count": 10,
     "metadata": {},
     "output_type": "execute_result"
    }
   ],
   "source": [
    "def count_letters(s):\n",
    "    d = {}\n",
    "\n",
    "    for i in s:\n",
    "        d[i] = d.get(i, 0) + 1\n",
    "\n",
    "    return d\n",
    "\n",
    "def findAnagrams(s, p):\n",
    "    cur = count_letters(s[:len(p)])\n",
    "    pattern = count_letters(p)\n",
    "    last_letter = s[0]\n",
    "    res = []\n",
    "\n",
    "    if cur == pattern:\n",
    "        res.append(0)\n",
    "\n",
    "    for i in range(len(p), len(s)):\n",
    "        print(last_letter, s[i], cur)\n",
    "        cur[last_letter] -= 1\n",
    "        if cur[last_letter] == 0:\n",
    "            del cur[last_letter]\n",
    "\n",
    "        cur[s[i]] = cur.get(s[i], 0) + 1\n",
    "\n",
    "        if cur == pattern:\n",
    "            res.append(i - len(p) + 1)\n",
    "\n",
    "        last_letter = s[i - len(p) + 1]\n",
    "\n",
    "    return res\n",
    "\n",
    "findAnagrams(\"cbaebabacd\", 'abc')"
   ]
  },
  {
   "cell_type": "code",
   "execution_count": 18,
   "id": "4b3ec2ad",
   "metadata": {},
   "outputs": [
    {
     "data": {
      "text/plain": [
       "[1, 2, 3, 4]"
      ]
     },
     "execution_count": 18,
     "metadata": {},
     "output_type": "execute_result"
    }
   ],
   "source": [
    "def findClosestElements(arr, k, x):\n",
    "    l, r = 0, len(arr) - k\n",
    "    while l < r:\n",
    "        mid = (l + r) // 2\n",
    "        if x - arr[mid] > arr[mid+k] - x:\n",
    "            l = mid+1\n",
    "        else:\n",
    "            r = mid\n",
    "\n",
    "    return arr[l:l+k]\n",
    "\n",
    "\n",
    "findClosestElements([1,2,3,4,5], 4, 3)"
   ]
  },
  {
   "cell_type": "code",
   "execution_count": 31,
   "id": "17b82620",
   "metadata": {},
   "outputs": [
    {
     "data": {
      "text/plain": [
       "')))\"), \"()))'"
      ]
     },
     "execution_count": 31,
     "metadata": {},
     "output_type": "execute_result"
    }
   ],
   "source": [
    "#смайлик\n",
    "#dd:-))((())\n",
    "\n",
    "\n",
    "def remove_smileys(text):\n",
    "    res = ''\n",
    "    r = 0\n",
    "\n",
    "    while r < len(text):\n",
    "        if r + 2 < len(text) and text[r:r+2] == ':-' and text[r+2] in '()':\n",
    "            ch = text[r+2]\n",
    "            r += 2\n",
    "\n",
    "            while r < len(text) and text[r] == ch:\n",
    "                r += 1\n",
    "\n",
    "        else:\n",
    "            res += text[r]\n",
    "            r += 1\n",
    "\n",
    "    return res\n",
    "\n",
    "\n",
    "remove_smileys(':-((()))\"), \"()))')"
   ]
  },
  {
   "cell_type": "code",
   "execution_count": 37,
   "id": "fe8959eb",
   "metadata": {},
   "outputs": [
    {
     "data": {
      "text/plain": [
       "26"
      ]
     },
     "execution_count": 37,
     "metadata": {},
     "output_type": "execute_result"
    }
   ],
   "source": [
    "#скалярное произведение для сжатых массивов\n",
    "\n",
    "def dotProductRLE(a, b):\n",
    "    i, j = 0, 0\n",
    "    res = 0\n",
    "\n",
    "    while i < len(a) and j < len(b):\n",
    "        val1, cnt1 = a[i]\n",
    "        val2, cnt2 = b[j]\n",
    "\n",
    "        take = min(cnt1, cnt2)\n",
    "        res += val1 * val2 * take\n",
    "\n",
    "        cnt1 -= take\n",
    "        cnt2 -= take\n",
    "\n",
    "        if cnt1 == 0:\n",
    "            i += 1\n",
    "        else:\n",
    "            a[i] = (val1, cnt1)  # можно сохранить, если хочешь\n",
    "        if cnt2 == 0:\n",
    "            j += 1\n",
    "        else:\n",
    "            b[j] = (val2, cnt2)\n",
    "\n",
    "    return res\n",
    "\n",
    "encoded1 = [(1,3), (2,1), (3,2)]\n",
    "encoded2 = [(1,2), (2,2), (3,2)]\n",
    "\n",
    "dotProductRLE(encoded1, encoded2)"
   ]
  },
  {
   "cell_type": "code",
   "execution_count": 39,
   "id": "d13f3f51",
   "metadata": {},
   "outputs": [
    {
     "name": "stdout",
     "output_type": "stream",
     "text": [
      "✅ Все тесты прошли.\n"
     ]
    }
   ],
   "source": [
    "def test_dotProductRLE():\n",
    "    # Базовый пример\n",
    "    assert dotProductRLE([(1,3), (2,1), (3,2)], [(1,2), (2,2), (3,2)]) == 26\n",
    "    # Расширенные блоки\n",
    "    assert dotProductRLE([(2,5)], [(3,5)]) == 2*3*5 == 30\n",
    "    # Несовпадающие длины\n",
    "    assert dotProductRLE([(1,2)], [(5,1), (1,1)]) == 1*5 + 1*1 == 6\n",
    "    # Один массив пустой\n",
    "    assert dotProductRLE([], [(1,5)]) == 0\n",
    "    assert dotProductRLE([(2,3)], []) == 0\n",
    "    # Несовпадающие значения (всё умножается на 0)\n",
    "    assert dotProductRLE([(0, 3)], [(1, 3)]) == 0\n",
    "    assert dotProductRLE([(5, 2)], [(0, 2)]) == 0\n",
    "    # Длинный случай\n",
    "    assert dotProductRLE([(1,1000)], [(1,1000)]) == 1000\n",
    "    # Смешанные блоки\n",
    "    assert dotProductRLE([(1,2), (2,2)], [(3,1), (4,3)]) == (1*3 + 1*4 + 2*4 + 2*4) == 23\n",
    "    print(\"✅ Все тесты прошли.\")\n",
    "\n",
    "test_dotProductRLE()\n"
   ]
  },
  {
   "cell_type": "code",
   "execution_count": 2,
   "id": "8a8ef142",
   "metadata": {},
   "outputs": [
    {
     "name": "stdout",
     "output_type": "stream",
     "text": [
      "0\n"
     ]
    }
   ],
   "source": [
    "n, k = 4, 1\n",
    "\n",
    "a = [-1, -2, -3, -4]\n",
    "\n",
    "dp = [[-10**18] * (k + 1) for _ in range(n + 1)]\n",
    "dp[0][0] = 0\n",
    "\n",
    "for i in range(n):\n",
    "    for j in range(k + 1):\n",
    "        if dp[i][j] == -10**18:\n",
    "            continue\n",
    "        # Обычные прыжки\n",
    "        if i + 1 <= n:\n",
    "            dp[i + 1][j] = max(dp[i + 1][j], dp[i][j] + a[i])\n",
    "        if i + 2 <= n:\n",
    "            dp[i + 2][j] = max(dp[i + 2][j], dp[i][j] + a[i])\n",
    "        # Пропуск ступенек (но только если это выгодно)\n",
    "        if j + 1 <= k:\n",
    "            # Прыжок на любую ступеньку, но не обязательно до конца\n",
    "            for m in [i + 3, n]:  # Оптимизация: проверяем только ближайшие варианты\n",
    "                if m <= n:\n",
    "                    dp[m][j + 1] = max(dp[m][j + 1], dp[i][j])\n",
    "\n",
    "print(max(dp[n]))"
   ]
  },
  {
   "cell_type": "code",
   "execution_count": null,
   "id": "85fcf54e",
   "metadata": {},
   "outputs": [
    {
     "name": "stdout",
     "output_type": "stream",
     "text": [
      "4\n"
     ]
    }
   ],
   "source": [
    "s = input().strip()\n",
    "n = len(s)\n",
    "\n",
    "# prefix_a[i] = число 'a' в s[0..i-1]\n",
    "prefix_a = [0] * n\n",
    "cnt = 0\n",
    "for i, ch in enumerate(s):\n",
    "    prefix_a[i] = cnt\n",
    "    if ch == 'a':\n",
    "        cnt += 1\n",
    "\n",
    "# suffix_c[i] = число 'c' в s[i+1..n-1]\n",
    "suffix_c = [0] * n\n",
    "cnt = 0\n",
    "for i in range(n-1, -1, -1):\n",
    "    suffix_c[i] = cnt\n",
    "    if s[i] == 'c':\n",
    "        cnt += 1\n",
    "\n",
    "res = 0\n",
    "for i, ch in enumerate(s):\n",
    "    if ch == 'b':\n",
    "        res += prefix_a[i] * suffix_c[i]\n",
    "\n",
    "print(res)\n"
   ]
  },
  {
   "cell_type": "code",
   "execution_count": 10,
   "id": "51889555",
   "metadata": {},
   "outputs": [
    {
     "name": "stdout",
     "output_type": "stream",
     "text": [
      "0\n"
     ]
    }
   ],
   "source": [
    "import sys\n",
    "\n",
    "def main():\n",
    "    n = 0\n",
    "    s = ''\n",
    "\n",
    "    left = {}\n",
    "    right = {}\n",
    "\n",
    "    left[0] = -1\n",
    "    right[0] = -1\n",
    "\n",
    "    for i in range(1, n + 1):\n",
    "        prev = i - 1\n",
    "        if s[i - 1] == 'L':\n",
    "            left_neighbor = left.get(prev, -1)\n",
    "            left[i] = left_neighbor\n",
    "            right[i] = prev\n",
    "            if left_neighbor != -1:\n",
    "                right[left_neighbor] = i\n",
    "            left[prev] = i\n",
    "        else:\n",
    "            right_neighbor = right.get(prev, -1)\n",
    "            right[i] = right_neighbor\n",
    "            left[i] = prev\n",
    "            if right_neighbor != -1:\n",
    "                left[right_neighbor] = i\n",
    "            right[prev] = i\n",
    "\n",
    "    current = 0\n",
    "    while left.get(current, -1) != -1:\n",
    "        current = left[current]\n",
    "\n",
    "    sequence = []\n",
    "    while current != -1:\n",
    "        sequence.append(str(current))\n",
    "        current = right.get(current, -1)\n",
    "\n",
    "    print(' '.join(sequence))\n",
    "\n",
    "if __name__ == \"__main__\":\n",
    "    main()"
   ]
  },
  {
   "cell_type": "code",
   "execution_count": 15,
   "id": "710803bf",
   "metadata": {},
   "outputs": [
    {
     "name": "stdout",
     "output_type": "stream",
     "text": [
      "10\n"
     ]
    }
   ],
   "source": [
    "n, k = 4, 0\n",
    "a = [1, 2, 3, 4]\n",
    "\n",
    "INF = 10**18\n",
    "# dp[i][j] = максимальное настроение на ступеньке i, использовав j абстрагирований\n",
    "dp = [[-INF] * (k + 1) for _ in range(n + 1)]\n",
    "dp[0][0] = 0  # перед первой ступенькой, настроение = 0\n",
    "\n",
    "for j in range(k + 1):\n",
    "    # 1) Из текущих состояний (i,j) сделаем все обычные ходы:\n",
    "    for i in range(n):\n",
    "        cur = dp[i][j]\n",
    "        if cur == -INF:\n",
    "            continue\n",
    "        # шаг на i+1\n",
    "        dp[i + 1][j] = max(dp[i + 1][j], cur + a[i])\n",
    "        # прыжок через одну (i → i+2)\n",
    "        if i + 2 <= n:\n",
    "            dp[i + 2][j] = max(dp[i + 2][j], cur + a[i + 1])\n",
    "    # 2) Абстрагирование → заполняем dp[*][j+1] одним проходом за O(n)\n",
    "    if j < k:\n",
    "        best_prefix = -INF\n",
    "        # best_prefix = max(dp[0][j], dp[1][j], …, dp[m-1][j])\n",
    "        for m in range(1, n + 1):\n",
    "            best_prefix = max(best_prefix, dp[m - 1][j])\n",
    "            # при абстрагировании он не вспоминает ВСЕ ПРОПУЩЕННЫЕ ступеньки,\n",
    "            # но при посадке на m-ю ступеньку он всё равно \"вспомнит\" момент a[m-1]\n",
    "            dp[m][j + 1] = max(dp[m][j + 1], best_prefix + a[m - 1])\n",
    "\n",
    "# Ответ — максимум dp[n][*]\n",
    "print(max(dp[n]))\n"
   ]
  },
  {
   "cell_type": "code",
   "execution_count": null,
   "id": "4884b089",
   "metadata": {},
   "outputs": [],
   "source": [
    "import sys\n",
    "from collections import deque\n",
    "\n",
    "def main():\n",
    "    input = sys.stdin.read\n",
    "    data = input().split()\n",
    "    idx = 0\n",
    "    N = int(data[idx])\n",
    "    idx += 1\n",
    "    Q = int(data[idx])\n",
    "    idx += 1\n",
    "\n",
    "    parent = [i for i in range(N + 1)]\n",
    "    rank = [0] * (N + 1)\n",
    "\n",
    "    def find(u):\n",
    "        while parent[u] != u:\n",
    "            parent[u] = parent[parent[u]]\n",
    "            u = parent[u]\n",
    "        return u\n",
    "\n",
    "    def union(u, v):\n",
    "        u_root = find(u)\n",
    "        v_root = find(v)\n",
    "        if u_root == v_root:\n",
    "            return False\n",
    "        if rank[u_root] > rank[v_root]:\n",
    "            parent[v_root] = u_root\n",
    "        else:\n",
    "            parent[u_root] = v_root\n",
    "            if rank[u_root] == rank[v_root]:\n",
    "                rank[v_root] += 1\n",
    "        return True\n",
    "\n",
    "    edges = []\n",
    "    for _ in range(Q):\n",
    "        l = int(data[idx])\n",
    "        idx += 1\n",
    "        r = int(data[idx])\n",
    "        idx += 1\n",
    "        edges.append((l - 1, r))\n",
    "\n",
    "\n",
    "    for l, r in edges:\n",
    "        union(l, r)\n",
    "\n",
    "    if find(0) != find(N):\n",
    "        print(\"No\")\n",
    "        return\n",
    "\n",
    "\n",
    "    adj = [[] for _ in range(N + 1)]\n",
    "    for i, (l, r) in enumerate(edges):\n",
    "        adj[l].append((r, i))\n",
    "        adj[r].append((l, i))\n",
    "\n",
    "    visited = [False] * (N + 1)\n",
    "    prev = [-1] * (N + 1)\n",
    "    edge_used = [-1] * (N + 1)\n",
    "    q = deque()\n",
    "    q.append(0)\n",
    "    visited[0] = True\n",
    "\n",
    "    while q:\n",
    "        u = q.popleft()\n",
    "        if u == N:\n",
    "            break\n",
    "        for (v, idx_edge) in adj[u]:\n",
    "            if not visited[v]:\n",
    "                visited[v] = True\n",
    "                prev[v] = u\n",
    "                edge_used[v] = idx_edge\n",
    "                q.append(v)\n",
    "\n",
    "\n",
    "    path = []\n",
    "    u = N\n",
    "    while u != 0:\n",
    "        path.append(edge_used[u])\n",
    "        u = prev[u]\n",
    "    path.reverse()\n",
    "\n",
    "    print(\"Yes\")\n",
    "    print(len(path))\n",
    "\n",
    "if __name__ == \"__main__\":\n",
    "    main()"
   ]
  },
  {
   "cell_type": "code",
   "execution_count": 6,
   "id": "8bfc5a62",
   "metadata": {},
   "outputs": [
    {
     "name": "stdout",
     "output_type": "stream",
     "text": [
      "0\n"
     ]
    }
   ],
   "source": [
    "def is_honestly_even(n: int) -> int:\n",
    "    while n > 0:\n",
    "        digit = n % 10\n",
    "        # Проверяем младший бит: если он установлен (1), значит цифра нечетная\n",
    "        if digit & 1:\n",
    "            return 0\n",
    "        n //= 10\n",
    "    return 1\n",
    "\n",
    "# Пример использования:\n",
    "n = 30\n",
    "print(is_honestly_even(n))\n"
   ]
  },
  {
   "cell_type": "code",
   "execution_count": null,
   "id": "bf4c1181",
   "metadata": {},
   "outputs": [
    {
     "name": "stdout",
     "output_type": "stream",
     "text": [
      "23\n"
     ]
    }
   ],
   "source": [
    "def find_last_sunday(n, m):\n",
    "    if n - 7 > 0:\n",
    "        return n - 7\n",
    "    else:\n",
    "        return m + 7\n",
    "\n",
    "n, m = map(int, input().split())\n",
    "print(find_last_sunday(n, m))\n"
   ]
  },
  {
   "cell_type": "code",
   "execution_count": null,
   "id": "18b145fa",
   "metadata": {},
   "outputs": [
    {
     "name": "stdout",
     "output_type": "stream",
     "text": [
      "2 1\n"
     ]
    }
   ],
   "source": [
    "import math\n",
    "\n",
    "a, b, c, d = map(int, input().split())\n",
    "\n",
    "numerator = a * d + c * b\n",
    "denominator = b * d\n",
    "\n",
    "gcd = math.gcd(numerator, denominator)\n",
    "numerator //= gcd\n",
    "denominator //= gcd\n",
    "\n",
    "print(numerator, denominator)\n"
   ]
  },
  {
   "cell_type": "code",
   "execution_count": 20,
   "id": "4d8afeab",
   "metadata": {},
   "outputs": [
    {
     "name": "stderr",
     "output_type": "stream",
     "text": [
      ".......\n",
      "----------------------------------------------------------------------\n",
      "Ran 7 tests in 0.009s\n",
      "\n",
      "OK\n"
     ]
    }
   ],
   "source": [
    "import math\n",
    "\n",
    "def add_and_simplify_fractions(a, b, c, d):\n",
    "    numerator = a * d + c * b\n",
    "    denominator = b * d\n",
    "    gcd = math.gcd(numerator, denominator)\n",
    "    return numerator // gcd, denominator // gcd\n",
    "\n",
    "import unittest\n",
    "\n",
    "class TestFractionAddition(unittest.TestCase):\n",
    "    def test_example_1(self):\n",
    "        self.assertEqual(add_and_simplify_fractions(1, 3, 1, 2), (5, 6))\n",
    "\n",
    "    def test_same_denominator(self):\n",
    "        self.assertEqual(add_and_simplify_fractions(1, 4, 1, 4), (1, 2))\n",
    "\n",
    "    def test_needs_simplification(self):\n",
    "        self.assertEqual(add_and_simplify_fractions(2, 6, 1, 3), (2, 3))\n",
    "\n",
    "    def test_no_simplification(self):\n",
    "        self.assertEqual(add_and_simplify_fractions(1, 5, 1, 6), (11, 30))\n",
    "\n",
    "    def test_large_numbers(self):\n",
    "        self.assertEqual(add_and_simplify_fractions(100, 100, 100, 100), (2, 1))\n",
    "\n",
    "    def test_one_is_zero(self):\n",
    "        self.assertEqual(add_and_simplify_fractions(0, 1, 1, 2), (1, 2))\n",
    "\n",
    "    def test_result_is_integer(self):\n",
    "        self.assertEqual(add_and_simplify_fractions(2, 3, 4, 6), (4, 3))\n",
    "\n",
    "if __name__ == '__main__':\n",
    "    unittest.main(argv=[''], exit=False)\n"
   ]
  },
  {
   "cell_type": "code",
   "execution_count": 25,
   "id": "69326f8c",
   "metadata": {},
   "outputs": [
    {
     "name": "stdout",
     "output_type": "stream",
     "text": [
      "5 1 0 2 3 4\n"
     ]
    }
   ],
   "source": [
    "from collections import deque\n",
    "\n",
    "n = int(input())\n",
    "s = input().strip()\n",
    "\n",
    "result = deque([0])  # начальная последовательность\n",
    "\n",
    "for i in range(1, n + 1):\n",
    "    if s[i - 1] == 'L':\n",
    "        result.appendleft(i)\n",
    "    else:\n",
    "        result.append(i)\n",
    "\n",
    "print(' '.join(map(str, result)))\n"
   ]
  },
  {
   "cell_type": "code",
   "execution_count": null,
   "id": "3157cacf",
   "metadata": {},
   "outputs": [
    {
     "name": "stdout",
     "output_type": "stream",
     "text": [
      "0 1 4 5 6 3 2\n"
     ]
    }
   ],
   "source": [
    "n = int(input())\n",
    "s = input().strip() \n",
    "\n",
    "left = {}\n",
    "right = {}\n",
    "\n",
    "left[0] = -1\n",
    "right[0] = -1\n",
    "\n",
    "for i in range(1, n + 1):\n",
    "    prev = i - 1\n",
    "    if s[i - 1] == 'L':\n",
    "        left_neighbor = left.get(prev, -1)\n",
    "        left[i] = left_neighbor\n",
    "        right[i] = prev\n",
    "        if left_neighbor != -1:\n",
    "            right[left_neighbor] = i\n",
    "        left[prev] = i\n",
    "    else:\n",
    "        right_neighbor = right.get(prev, -1)\n",
    "        right[i] = right_neighbor\n",
    "        left[i] = prev\n",
    "        if right_neighbor != -1:\n",
    "            left[right_neighbor] = i\n",
    "        right[prev] = i\n",
    "\n",
    "current = 0\n",
    "while left.get(current, -1) != -1:\n",
    "    current = left[current]\n",
    "\n",
    "sequence = []\n",
    "while current != -1:\n",
    "    sequence.append(str(current))\n",
    "    current = right.get(current, -1)\n",
    "\n",
    "print(' '.join(sequence))"
   ]
  },
  {
   "cell_type": "code",
   "execution_count": 28,
   "id": "95e2f291",
   "metadata": {},
   "outputs": [
    {
     "name": "stdout",
     "output_type": "stream",
     "text": [
      "-7\n",
      "10\n"
     ]
    }
   ],
   "source": [
    "def max_mood(n, k, a):\n",
    "    dp = [[-float('inf')] * (k + 1) for _ in range(n)]\n",
    "    \n",
    "    dp[0][0] = a[0]\n",
    "    \n",
    "    for i in range(1, n):\n",
    "        for j in range(k + 1):\n",
    "\n",
    "            dp[i][j] = max(dp[i][j], dp[i - 1][j] + a[i])\n",
    "            \n",
    "            if i >= 2 and j >= 1:\n",
    "                dp[i][j] = max(dp[i][j], dp[i - 2][j - 1] + a[i])\n",
    "    \n",
    "    return max(dp[n - 1])\n",
    "\n",
    "\n",
    "# Пример 1\n",
    "n, k = 4, 1\n",
    "a = [-1, -2, -3, -4]\n",
    "print(max_mood(n, k, a))  # Вывод: -4\n",
    "\n",
    "# Пример 2\n",
    "n, k = 4, 0\n",
    "a = [1, 2, 3, 4]\n",
    "print(max_mood(n, k, a))  # Вывод: 10\n"
   ]
  },
  {
   "cell_type": "code",
   "execution_count": 34,
   "id": "35c16a08",
   "metadata": {},
   "outputs": [
    {
     "name": "stdout",
     "output_type": "stream",
     "text": [
      "-4\n"
     ]
    }
   ],
   "source": [
    "def max_mood(n, k, a):\n",
    "    INF = 10**18\n",
    "    # dp[i][j] = max настроение, оказавшись на i-й ступени\n",
    "    #   с использованием ровно j абстракций\n",
    "    dp = [[-INF] * (k + 1) for _ in range(n)]\n",
    "\n",
    "    # best[j] = max_{p=-1..i-1} dp[p][j], при запуске best[0]=0, остальные = -INF\n",
    "    best = [-INF] * (k + 1)\n",
    "    best[0] = 0\n",
    "\n",
    "    for i in range(n):\n",
    "        for j in range(k + 1):\n",
    "            # 3) Абстрагирование: из best[j-1] → i\n",
    "            if j >= 1 and best[j - 1] != -INF:\n",
    "                dp[i][j] = max(dp[i][j], best[j - 1] + a[i])\n",
    "\n",
    "            # 1) Шаг с предыдущей\n",
    "            if i >= 1 and dp[i - 1][j] != -INF:\n",
    "                dp[i][j] = max(dp[i][j], dp[i - 1][j] + a[i])\n",
    "\n",
    "            # 2) Перепрыгнуть через одну\n",
    "            if i >= 2 and dp[i - 2][j] != -INF:\n",
    "                dp[i][j] = max(dp[i][j], dp[i - 2][j] + a[i])\n",
    "\n",
    "            # инициализация для i=0, j=0 (шаг на первую ступеньку)\n",
    "            if i == 0 and j == 0:\n",
    "                dp[i][j] = a[i]\n",
    "\n",
    "        # обновляем prefix‐max для абстрагирования в следующих итерациях\n",
    "        for j in range(k + 1):\n",
    "            if dp[i][j] > best[j]:\n",
    "                best[j] = dp[i][j]\n",
    "\n",
    "    # ответ — лучший из dp[n-1][*]\n",
    "    return max(dp[n - 1])\n",
    "\n",
    "n, k = 4, 1 #map(int, input().split())\n",
    "a = [-1, -2, -3, -4] #list(map(int, input().split()))\n",
    "print(max_mood(n, k, a))"
   ]
  },
  {
   "cell_type": "code",
   "execution_count": 4,
   "id": "8ff4e50e",
   "metadata": {},
   "outputs": [
    {
     "data": {
      "text/plain": [
       "3"
      ]
     },
     "execution_count": 4,
     "metadata": {},
     "output_type": "execute_result"
    }
   ],
   "source": [
    "def longestSubarray(nums):\n",
    "    count_p = -1\n",
    "    count = 0\n",
    "    max_count = 0\n",
    "\n",
    "    for r in range(len(nums)):\n",
    "        if nums[r] == 0:\n",
    "            if count_p != -1:\n",
    "                max_count = max(max_count, count_p + count)\n",
    "            count_p = count\n",
    "            count = 0\n",
    "        else:\n",
    "            count += 1\n",
    "\n",
    "    if count_p == -1:\n",
    "        return count - 1\n",
    "\n",
    "    return max(max_count, count_p + count)\n",
    "\n",
    "\n",
    "longestSubarray([1,1,0,1])"
   ]
  },
  {
   "cell_type": "code",
   "execution_count": 42,
   "id": "7a76a538",
   "metadata": {},
   "outputs": [
    {
     "name": "stdout",
     "output_type": "stream",
     "text": [
      "6\n",
      "['a', '2', 'b', '2', 'c', '3', 'c']\n"
     ]
    }
   ],
   "source": [
    "def compress(chars):\n",
    "    if not chars:\n",
    "        return 0\n",
    "    \n",
    "    write_ptr = 0\n",
    "    read_ptr = 0\n",
    "    n = len(chars)\n",
    "    \n",
    "    while read_ptr < n:\n",
    "        current_char = chars[read_ptr]\n",
    "        count = 0\n",
    "        \n",
    "        while read_ptr < n and chars[read_ptr] == current_char:\n",
    "            read_ptr += 1\n",
    "            count += 1\n",
    "        \n",
    "        chars[write_ptr] = current_char\n",
    "        write_ptr += 1\n",
    "        \n",
    "        if count > 1:\n",
    "            for digit in str(count):\n",
    "                chars[write_ptr] = digit\n",
    "                write_ptr += 1\n",
    "    \n",
    "    return write_ptr\n",
    "            \n",
    "a = [\"a\",\"a\",\"b\",\"b\",\"c\",\"c\",\"c\"]\n",
    "print(compress(a))\n",
    "print(a)"
   ]
  },
  {
   "cell_type": "code",
   "execution_count": 41,
   "id": "fea16d7f",
   "metadata": {},
   "outputs": [
    {
     "name": "stdout",
     "output_type": "stream",
     "text": [
      "6\n",
      "['a', '2', 'b', '2', 'c', '3', 'c']\n"
     ]
    }
   ],
   "source": [
    "def compress(chars):\n",
    "    n = len(chars)\n",
    "    write_ptr = 0\n",
    "    read_ptr = 0\n",
    "\n",
    "    while read_ptr < n:\n",
    "        cur = chars[read_ptr]\n",
    "        count = 0\n",
    "\n",
    "        while read_ptr < n and chars[read_ptr] == cur:\n",
    "            read_ptr += 1\n",
    "            count += 1\n",
    "\n",
    "        chars[write_ptr] = cur\n",
    "        write_ptr += 1\n",
    "\n",
    "        if count > 1:\n",
    "            for digit in str(count):\n",
    "                chars[write_ptr] = digit\n",
    "                write_ptr += 1\n",
    "\n",
    "    return write_ptr\n",
    "\n",
    "a = [\"a\",\"a\",\"b\",\"b\",\"c\",\"c\",\"c\"]\n",
    "print(compress(a))\n",
    "print(a)"
   ]
  },
  {
   "cell_type": "code",
   "execution_count": 16,
   "id": "8d113caa",
   "metadata": {},
   "outputs": [
    {
     "name": "stdout",
     "output_type": "stream",
     "text": [
      "{}\n",
      "{'a': 0}\n",
      "{'a': 0, 'b': 1}\n",
      "{'a': 0, 'b': 1, 'c': 2}\n",
      "{'a': 3, 'b': 1, 'c': 2}\n",
      "{'a': 3, 'b': 4, 'c': 2}\n",
      "{'a': 3, 'b': 4, 'c': 5}\n",
      "{'a': 3, 'b': 6, 'c': 5}\n"
     ]
    },
    {
     "data": {
      "text/plain": [
       "3"
      ]
     },
     "execution_count": 16,
     "metadata": {},
     "output_type": "execute_result"
    }
   ],
   "source": [
    "def lengthOfLongestSubstring(s):\n",
    "    d = {}\n",
    "    max_l = 0\n",
    "    l = 0\n",
    "\n",
    "    for r in range(len(s)):\n",
    "        print(d)\n",
    "        if s[r] in d:\n",
    "            l = max(l, d[s[r]] + 1)\n",
    "        d[s[r]] = r\n",
    "\n",
    "        max_l = max(max_l, r - l + 1)\n",
    "\n",
    "    return max_l\n",
    "\n",
    "lengthOfLongestSubstring('abcabcbb')\n"
   ]
  },
  {
   "cell_type": "code",
   "execution_count": 14,
   "id": "29552963",
   "metadata": {},
   "outputs": [
    {
     "data": {
      "text/plain": [
       "3"
      ]
     },
     "execution_count": 14,
     "metadata": {},
     "output_type": "execute_result"
    }
   ],
   "source": [
    "def lengthOfLongestSubstring(s):\n",
    "    d = {}\n",
    "    max_l = 0\n",
    "    l = 0\n",
    "\n",
    "    for r in range(len(s)):\n",
    "        if s[r] in d:\n",
    "            l = d[s[r]] + 1\n",
    "        d[s[r]] = r\n",
    "\n",
    "        max_l = max(max_l, r - l + 1)\n",
    "\n",
    "    return max_l\n",
    "\n",
    "lengthOfLongestSubstring('abcabcbb')\n"
   ]
  },
  {
   "cell_type": "code",
   "execution_count": 17,
   "id": "19736365",
   "metadata": {},
   "outputs": [
    {
     "data": {
      "text/plain": [
       "'BANC'"
      ]
     },
     "execution_count": 17,
     "metadata": {},
     "output_type": "execute_result"
    }
   ],
   "source": [
    "def minWindow(s, t):\n",
    "    need = {}\n",
    "\n",
    "    for i in t:\n",
    "        need[i] = need.get(i, 0) + 1\n",
    "\n",
    "    window = {}\n",
    "    have, need_count = 0, len(need)\n",
    "    res, res_len = [-1, -1], float('inf')\n",
    "\n",
    "    l = 0\n",
    "    for r in range(len(s)):\n",
    "        c = s[r]\n",
    "        window[c] = window.get(c, 0) + 1\n",
    "\n",
    "        if c in need and window[c] == need[c]:\n",
    "            have += 1\n",
    "\n",
    "        while need_count == have:\n",
    "            if (r - l + 1) < res_len:\n",
    "                res = [l, r]\n",
    "                res_len = (r - l + 1)\n",
    "\n",
    "            window[s[l]] -= 1\n",
    "            if s[l] in need and window[s[l]] < need[s[l]]:\n",
    "                have -= 1\n",
    "\n",
    "            l += 1\n",
    "\n",
    "    l, r = res\n",
    "\n",
    "    return s[l:r+1] if res_len != float('inf') else \"\"\n",
    "    \n",
    "\n",
    "s = \"ADOBECODEBANC\"\n",
    "t = \"ABC\"\n",
    "\n",
    "minWindow(s, t)"
   ]
  },
  {
   "cell_type": "code",
   "execution_count": 18,
   "id": "6b12708a",
   "metadata": {},
   "outputs": [
    {
     "data": {
      "text/plain": [
       "4"
      ]
     },
     "execution_count": 18,
     "metadata": {},
     "output_type": "execute_result"
    }
   ],
   "source": [
    "def characterReplacement(s, k):\n",
    "    l = 0\n",
    "    d = {}\n",
    "    max_freq = 0\n",
    "    max_count = 0\n",
    "\n",
    "    for r in range(len(s)):\n",
    "        d[s[r]] = d.get(s[r], 0) + 1\n",
    "        max_freq = max(max_freq, d[s[r]])\n",
    "\n",
    "        while (r - l + 1) - max_freq > k:\n",
    "            d[s[l]] -=1     \n",
    "            l += 1\n",
    "\n",
    "        max_count = max(max_count, r - l + 1)\n",
    "\n",
    "    return max_count\n",
    "\n",
    "\n",
    "\n",
    "\n",
    "s = \"AABABBA\"\n",
    "k = 1\n",
    "characterReplacement(s, k)"
   ]
  },
  {
   "cell_type": "code",
   "execution_count": 15,
   "id": "5ec126bf",
   "metadata": {},
   "outputs": [
    {
     "data": {
      "text/plain": [
       "True"
      ]
     },
     "execution_count": 15,
     "metadata": {},
     "output_type": "execute_result"
    }
   ],
   "source": [
    "def is_reflected(points):\n",
    "    if not points:\n",
    "        return True\n",
    "    \n",
    "    m = (max(points)[0] + min(points)[0]) / 2\n",
    "\n",
    "    for x, y in points:\n",
    "        if not [2 * m - x, y] in points:\n",
    "            return False\n",
    "        \n",
    "    return True\n",
    "\n",
    "p = [[1, 1], [-1, 1], [0, 2], [2, 0], [-2, 0]]\n",
    "is_reflected(p)"
   ]
  },
  {
   "cell_type": "code",
   "execution_count": 24,
   "id": "c8983ed2",
   "metadata": {},
   "outputs": [
    {
     "data": {
      "text/plain": [
       "2"
      ]
     },
     "execution_count": 24,
     "metadata": {},
     "output_type": "execute_result"
    }
   ],
   "source": [
    "def max_dist_to_closest(seats):\n",
    "    max_d = 0\n",
    "    l = -1\n",
    "\n",
    "    for r in range(len(seats)):\n",
    "        if seats[r] == 1:\n",
    "            if l == -1:\n",
    "                max_d = r\n",
    "            else:\n",
    "                max_d = max(max_d, (r - l) // 2)\n",
    "            l = r\n",
    "\n",
    "    max_d = max(max_d, len(seats) - 1 - l)\n",
    "\n",
    "    return max_d\n",
    "\n",
    "max_dist_to_closest([1, 0, 0, 0, 1])"
   ]
  },
  {
   "cell_type": "code",
   "execution_count": 26,
   "id": "384aadd2",
   "metadata": {},
   "outputs": [
    {
     "data": {
      "text/plain": [
       "5"
      ]
     },
     "execution_count": 26,
     "metadata": {},
     "output_type": "execute_result"
    }
   ],
   "source": [
    "def longest_subarray(nums):\n",
    "    l = 0\n",
    "    max_count = 0\n",
    "    z_count = 0\n",
    "\n",
    "    for r in range(len(nums)):\n",
    "        if nums[r] == 0:\n",
    "            z_count += 1\n",
    "        while z_count > 1:\n",
    "            if nums[l] == 0:\n",
    "                z_count -= 1\n",
    "            l += 1\n",
    "        max_count = max(max_count, r - l)\n",
    "\n",
    "    return max_count          \n",
    "\n",
    "longest_subarray([0, 1, 1, 1, 0, 1, 1, 0, 1])"
   ]
  },
  {
   "cell_type": "code",
   "execution_count": 41,
   "id": "0806e6aa",
   "metadata": {},
   "outputs": [
    {
     "data": {
      "text/plain": [
       "['0->2', '4->5', '7']"
      ]
     },
     "execution_count": 41,
     "metadata": {},
     "output_type": "execute_result"
    }
   ],
   "source": [
    "def summary_ranges(nums):\n",
    "    l = 0\n",
    "    res = []\n",
    "\n",
    "    if not nums:\n",
    "        return []\n",
    "\n",
    "    for r in range(len(nums)-1):\n",
    "        if nums[r] + 1 != nums[r+1]:\n",
    "            res.append(f\"{nums[l]}->{nums[r]}\" if l != r else f\"{nums[l]}\")\n",
    "            l = r + 1\n",
    "\n",
    "    if nums[-1] == nums[-2] + 1:\n",
    "        res.append(f\"{nums[l]}->{nums[-1]}\")\n",
    "    else:\n",
    "        res.append(f\"{nums[-1]}\")\n",
    "\n",
    "    return res\n",
    "\n",
    "summary_ranges([0, 1, 2, 4, 5, 7])"
   ]
  },
  {
   "cell_type": "code",
   "execution_count": 46,
   "id": "672b50a5",
   "metadata": {},
   "outputs": [
    {
     "data": {
      "text/plain": [
       "True"
      ]
     },
     "execution_count": 46,
     "metadata": {},
     "output_type": "execute_result"
    }
   ],
   "source": [
    "def is_one_edit_dist(s, t):\n",
    "    is_eq = 1 if len(s) == len(t) else 0\n",
    "    is_s_greater = 1 if len(s) > len(t) else 0\n",
    "\n",
    "    i, j = 0, 0\n",
    "    count = 0\n",
    "\n",
    "    while i < len(s) and j < len(t):\n",
    "        if count > 1:\n",
    "            return False\n",
    "\n",
    "        if s[i] != t[j]:\n",
    "            count += 1\n",
    "            if is_eq:\n",
    "                i += 1\n",
    "                j += 1\n",
    "            elif is_s_greater:\n",
    "                i += 1\n",
    "            else:\n",
    "                j += 1\n",
    "\n",
    "        else:\n",
    "            i += 1\n",
    "            j += 1\n",
    "\n",
    "    return True\n",
    "\n",
    "\n",
    "\n",
    "is_one_edit_dist('ab', 'ab')"
   ]
  },
  {
   "cell_type": "code",
   "execution_count": 53,
   "id": "9ed6764d",
   "metadata": {},
   "outputs": [
    {
     "name": "stdout",
     "output_type": "stream",
     "text": [
      "['a', '2', 'b', '2', 'c', '3', 'c']\n"
     ]
    }
   ],
   "source": [
    "def compress(chars):\n",
    "    write = 0\n",
    "    read = 0\n",
    "    n = len(chars)\n",
    "\n",
    "    while read < n:\n",
    "        cur = chars[read]\n",
    "        count = 0\n",
    "\n",
    "        while read < n and cur == chars[read]:\n",
    "            read += 1\n",
    "            count += 1\n",
    "\n",
    "        chars[write] = cur\n",
    "        write += 1\n",
    "\n",
    "        if count > 1:\n",
    "            for degit in str(count):\n",
    "                chars[write] = degit\n",
    "                write += 1\n",
    "\n",
    "    return write\n",
    "        \n",
    "    \n",
    "\n",
    "a = ['a', 'a', 'b', 'b', 'c', 'c', 'c']\n",
    "compress(a)\n",
    "print(a)\n",
    "\n"
   ]
  },
  {
   "cell_type": "code",
   "execution_count": 72,
   "id": "6bdb186d",
   "metadata": {},
   "outputs": [
    {
     "data": {
      "text/plain": [
       "3"
      ]
     },
     "execution_count": 72,
     "metadata": {},
     "output_type": "execute_result"
    }
   ],
   "source": [
    "def find_max_cons_ones(nums):\n",
    "    prev = -1\n",
    "    l = 0\n",
    "    max_l = 0\n",
    "\n",
    "    if not nums:\n",
    "        return 0\n",
    "\n",
    "    for r in range(len(nums)):\n",
    "        if nums[r] == 0:\n",
    "            if prev == -1:\n",
    "                prev = r - l\n",
    "                l = r\n",
    "            else:\n",
    "                max_l = max(max_l, prev + r - l)\n",
    "                prev = r - l\n",
    "                l = r\n",
    "\n",
    "    return max(max_l, prev + r - l) + 1\n",
    "\n",
    "find_max_cons_ones([1, 0, 1])"
   ]
  },
  {
   "cell_type": "code",
   "execution_count": 3,
   "id": "9dd499e5",
   "metadata": {},
   "outputs": [
    {
     "name": "stdout",
     "output_type": "stream",
     "text": [
      "[-1]\n"
     ]
    }
   ],
   "source": [
    "def move_zeros(nums):\n",
    "    write = 0\n",
    "\n",
    "    for r in range(len(nums)):\n",
    "        if nums[r] != 0:\n",
    "            nums[write] = nums[r]\n",
    "            write += 1\n",
    "    while write < len(nums):\n",
    "        nums[write] = 0\n",
    "        write += 1\n",
    "\n",
    "a = [-1]\n",
    "move_zeros(a)\n",
    "print(a)"
   ]
  },
  {
   "cell_type": "code",
   "execution_count": 6,
   "id": "659e4617",
   "metadata": {},
   "outputs": [
    {
     "data": {
      "text/plain": [
       "2"
      ]
     },
     "execution_count": 6,
     "metadata": {},
     "output_type": "execute_result"
    }
   ],
   "source": [
    "def subarray_sum(nums, k):\n",
    "    l = 0\n",
    "    cur = 0\n",
    "    count = 0\n",
    "\n",
    "    nums.sort()\n",
    "\n",
    "    for r in range(len(nums)):\n",
    "        cur += nums[r]\n",
    "        if cur == k:\n",
    "            count += 1\n",
    "\n",
    "        while l < len(nums) and cur > k:\n",
    "            cur -= nums[l]\n",
    "            if cur == k:\n",
    "                count += 1\n",
    "\n",
    "            l += 1\n",
    "\n",
    "    return count \n",
    "\n",
    "subarray_sum([1, 2, 3], 3)"
   ]
  },
  {
   "cell_type": "code",
   "execution_count": 10,
   "id": "73ba3018",
   "metadata": {},
   "outputs": [
    {
     "data": {
      "text/plain": [
       "4"
      ]
     },
     "execution_count": 10,
     "metadata": {},
     "output_type": "execute_result"
    }
   ],
   "source": [
    "def subarray_sum(nums, k):\n",
    "    count = 0\n",
    "    pref_sum = {0: 1}\n",
    "    cur_sum = 0\n",
    "\n",
    "    for num in nums:\n",
    "        cur_sum += num\n",
    "\n",
    "        if cur_sum - k in pref_sum:\n",
    "            count += 1\n",
    "        pref_sum[cur_sum] = pref_sum.get(cur_sum, 0) + 1\n",
    "\n",
    "    return count \n",
    "\n",
    "subarray_sum([1, 2, 3, 0, 3], 3)"
   ]
  },
  {
   "cell_type": "code",
   "execution_count": 35,
   "id": "86f74c29",
   "metadata": {},
   "outputs": [
    {
     "name": "stdout",
     "output_type": "stream",
     "text": [
      "{'a': 1, 'b': 1} {'a': 2}\n",
      "{'a': 1, 'b': 1} {'a': 2}\n",
      "{'a': 1, 'b': 1} {'a': 2}\n",
      "{'a': 1, 'b': 1} {'a': 2}\n",
      "{'a': 1, 'b': 1} {'a': 1, 'b': 1}\n"
     ]
    },
    {
     "data": {
      "text/plain": [
       "True"
      ]
     },
     "execution_count": 35,
     "metadata": {},
     "output_type": "execute_result"
    }
   ],
   "source": [
    "def ckeck_inclusion(s1, s2):\n",
    "    d1 = {}\n",
    "    d2 = {}\n",
    "    l = 0\n",
    "\n",
    "    for c in s1:\n",
    "        d1[c] = d1.get(c, 0) + 1\n",
    "\n",
    "    for c in s2[:len(s1)]:\n",
    "        d2[c] = d2.get(c, 0) + 1\n",
    "\n",
    "    if d1 == d2:\n",
    "        return True\n",
    "    \n",
    "    print(d1, d2)\n",
    "        \n",
    "    for r in range(len(s1), len(s2)):\n",
    "        cl = s2[l]\n",
    "        cr = s2[r]\n",
    "\n",
    "        d2[cl] = d2.get(cl, 0) - 1\n",
    "        if d2[cl] == 0:\n",
    "            del d2[cl]\n",
    "\n",
    "        d2[cr] = d2.get(cr, 0) + 1\n",
    "\n",
    "        print(d1, d2)\n",
    "\n",
    "        if d1 == d2:\n",
    "            return True\n",
    "\n",
    "    return False\n",
    "\n",
    "ckeck_inclusion('ab', 'aaaaab')"
   ]
  },
  {
   "cell_type": "code",
   "execution_count": null,
   "id": "41f63f33",
   "metadata": {},
   "outputs": [],
   "source": [
    "import random\n",
    "\n",
    "class Struct:\n",
    "    def __init__(self):\n",
    "        self.list = []\n",
    "        self.dict = {}\n",
    "\n",
    "    def insert(self, val):\n",
    "        if val in self.dict:\n",
    "            return False\n",
    "        \n",
    "        self.dict[val] = len(self.lict)\n",
    "        self.list.append(val)\n",
    "        return True\n",
    "    \n",
    "    def remove(self, val):\n",
    "        if val not in dict:\n",
    "            return False\n",
    "        \n",
    "        last_elem = self.list[-1]\n",
    "        idx = self.dict[val]\n",
    "\n",
    "        self.list[idx] = last_elem\n",
    "        self.dict[last_elem] = idx\n",
    "        self.list.pop()\n",
    "        del self.dict[val]\n",
    "        return True\n",
    "    \n",
    "    def getRandom(self):\n",
    "        return random.choice(self.list)"
   ]
  },
  {
   "cell_type": "code",
   "execution_count": null,
   "id": "a048797c",
   "metadata": {},
   "outputs": [
    {
     "data": {
      "text/plain": [
       "['(((())))',\n",
       " '((()()))',\n",
       " '((())())',\n",
       " '((()))()',\n",
       " '(()(()))',\n",
       " '(()()())',\n",
       " '(()())()',\n",
       " '(())(())',\n",
       " '(())()()',\n",
       " '()((()))',\n",
       " '()(()())',\n",
       " '()(())()',\n",
       " '()()(())',\n",
       " '()()()()']"
      ]
     },
     "execution_count": 39,
     "metadata": {},
     "output_type": "execute_result"
    }
   ],
   "source": [
    "def generateParenthesis(n):\n",
    "    def bb(s, open, close):\n",
    "        if len(s) == 2*n:\n",
    "            res.append(s)\n",
    "            return \n",
    "        if open < n:\n",
    "            bb(s + '(', open + 1, close)\n",
    "        if close < open:\n",
    "            bb(s + ')', open, close + 1)\n",
    "\n",
    "    res = []\n",
    "    bb('', 0, 0)\n",
    "    return res\n",
    "\n",
    "generateParenthesis(4)"
   ]
  },
  {
   "cell_type": "code",
   "execution_count": 42,
   "id": "5cb277dd",
   "metadata": {},
   "outputs": [
    {
     "data": {
      "text/plain": [
       "[['eat', 'tea', 'ate'], ['tan', 'nat'], ['bat']]"
      ]
     },
     "execution_count": 42,
     "metadata": {},
     "output_type": "execute_result"
    }
   ],
   "source": [
    "from collections import defaultdict\n",
    "\n",
    "def groupAnagrams(strs):\n",
    "    d = defaultdict(list)\n",
    "\n",
    "    for s in strs:\n",
    "        key = ''.join(sorted(s))\n",
    "        d[key].append(s)\n",
    "    return list(d.values())\n",
    "\n",
    "groupAnagrams(['eat', 'tea', 'tan', 'ate', 'nat', 'bat'])"
   ]
  },
  {
   "cell_type": "code",
   "execution_count": 49,
   "id": "8a6b5a7c",
   "metadata": {},
   "outputs": [
    {
     "data": {
      "text/plain": [
       "True"
      ]
     },
     "execution_count": 49,
     "metadata": {},
     "output_type": "execute_result"
    }
   ],
   "source": [
    "def isPalindrome(s):\n",
    "    l, r = 0, len(s) - 1\n",
    "\n",
    "    while l < r:\n",
    "        while l < r and not s[l].isalnum():\n",
    "            l += 1\n",
    "\n",
    "        while l < r and not s[r].isalnum():\n",
    "            r += 1\n",
    "\n",
    "        if s[l] != s[r]:\n",
    "            return False\n",
    "        l += 1\n",
    "        r -=1\n",
    "\n",
    "    return True\n",
    "\n",
    "isPalindrome('a???abbaa')"
   ]
  },
  {
   "cell_type": "code",
   "execution_count": null,
   "id": "3a320ebe",
   "metadata": {},
   "outputs": [],
   "source": [
    "class ListNode:\n",
    "    def __init__(self, val, next):\n",
    "        self.val = val\n",
    "        self.next = next\n",
    "\n",
    "    def reverseList(head):\n",
    "        prev = None\n",
    "        cur = head\n",
    "\n",
    "        while cur:\n",
    "            next_node = cur.next\n",
    "            cur.next = prev\n",
    "            prev = cur\n",
    "            cur = next_node\n",
    "        return prev"
   ]
  },
  {
   "cell_type": "code",
   "execution_count": null,
   "id": "23046226",
   "metadata": {},
   "outputs": [],
   "source": []
  },
  {
   "cell_type": "markdown",
   "id": "ba5a4a48",
   "metadata": {},
   "source": [
    "## Задачи"
   ]
  },
  {
   "cell_type": "markdown",
   "id": "df6ac206",
   "metadata": {},
   "source": [
    "1. Generate Parentheses\n",
    "Условие:\n",
    "Сгенерировать все корректные комбинации скобок, состоящие из n пар. Например, для n = 3 результат будет [\"((()))\", \"(()())\", \"(())()\", \"()(())\", \"()()()\"].\n",
    "\n",
    "Уточняющие вопросы:\n",
    "\n",
    "Что значит \"корректная\" комбинация? (должны открываться и закрываться в правильном порядке)\n",
    "\n",
    "Нужно ли возвращать в определённом порядке? (обычно лексикографическом)\n",
    "\n",
    "Какой диапазон n? (обычно до ~8–9, чтобы контролировать количество решений)\n",
    "\n",
    "Идея решения:\n",
    "Генерировать рекурсивно, отслеживая количество открытых и закрытых скобок, следить чтобы закрывающих не было больше, чем открытых."
   ]
  },
  {
   "cell_type": "code",
   "execution_count": null,
   "id": "4dcd02f7",
   "metadata": {},
   "outputs": [],
   "source": [
    "def generate_parentheses(n):\n",
    "    res = []\n",
    "    def backtrack(s, open_count, close_count):\n",
    "        if len(s) == 2 * n:\n",
    "            res.append(s)\n",
    "            return\n",
    "        if open_count < n:\n",
    "            backtrack(s + '(', open_count + 1, close_count)\n",
    "        if close_count < open_count:\n",
    "            backtrack(s + ')', open_count, close_count + 1)\n",
    "    backtrack('', 0, 0)\n",
    "    return res\n"
   ]
  },
  {
   "cell_type": "markdown",
   "id": "62cd010c",
   "metadata": {},
   "source": [
    "2. Group Anagrams\n",
    "🔗 https://leetcode.com/problems/group-anagrams/description/\n",
    "\n",
    "Условие:\n",
    "Дан список строк. Нужно сгруппировать слова, являющиеся анаграммами (т.е. те, что состоят из одинаковых символов в другом порядке).\n",
    "\n",
    "Уточняющие вопросы:\n",
    "\n",
    "Нужно ли сортировать группы или порядок слов?\n",
    "\n",
    "Можно ли использовать словари и сортировку?\n",
    "\n",
    "Строки всегда строчные?\n",
    "\n",
    "Идея решения:\n",
    "Отсортировать каждую строку — отсортированная строка будет ключом в словаре. Значением будет список анаграмм с таким ключом."
   ]
  },
  {
   "cell_type": "code",
   "execution_count": null,
   "id": "5f08c25a",
   "metadata": {},
   "outputs": [],
   "source": [
    "from collections import defaultdict\n",
    "\n",
    "def groupAnagrams(strs):\n",
    "    res = defaultdict(list)\n",
    "    for s in strs:\n",
    "        key = tuple(sorted(s))\n",
    "        res[key].append(s)\n",
    "    return list(res.values())\n"
   ]
  },
  {
   "cell_type": "markdown",
   "id": "13d9e364",
   "metadata": {},
   "source": [
    "3. Valid Palindrome\n",
    "🔗 https://leetcode.com/problems/valid-palindrome/description/\n",
    "\n",
    "Условие:\n",
    "Проверить, является ли строка палиндромом, игнорируя регистр и неалфавитные символы.\n",
    "\n",
    "Уточняющие вопросы:\n",
    "\n",
    "Учитываем только буквы и цифры?\n",
    "\n",
    "Можно ли использовать дополнительную память?\n",
    "\n",
    "Идея решения:\n",
    "Фильтруем строку (оставляем только буквы и цифры), приводим к нижнему регистру и сравниваем с её обратной."
   ]
  },
  {
   "cell_type": "code",
   "execution_count": null,
   "id": "517b603d",
   "metadata": {},
   "outputs": [],
   "source": [
    "def isPalindrome(s):\n",
    "    filtered = [c.lower() for c in s if c.isalnum()]\n",
    "    return filtered == filtered[::-1]\n"
   ]
  },
  {
   "cell_type": "markdown",
   "id": "68b1e5db",
   "metadata": {},
   "source": [
    "4. Reverse Linked List\n",
    "🔗 https://leetcode.com/problems/reverse-linked-list/description/\n",
    "\n",
    "Условие:\n",
    "Развернуть связанный список.\n",
    "\n",
    "Уточняющие вопросы:\n",
    "\n",
    "Нужно ли создавать новый список или можно менять указатели?\n",
    "\n",
    "Список может быть пустым?\n",
    "\n",
    "Идея решения:\n",
    "Проход по списку с сохранением предыдущего узла. Меняем ссылки next."
   ]
  },
  {
   "cell_type": "code",
   "execution_count": null,
   "id": "1475c687",
   "metadata": {},
   "outputs": [],
   "source": [
    "class ListNode:\n",
    "    def __init__(self, val=0, next=None):\n",
    "        self.val = val\n",
    "        self.next = next\n",
    "\n",
    "def reverseList(head):\n",
    "    prev = None\n",
    "    current = head\n",
    "    while current:\n",
    "        next_node = current.next\n",
    "        current.next = prev\n",
    "        prev = current\n",
    "        current = next_node\n",
    "    return prev\n"
   ]
  },
  {
   "cell_type": "markdown",
   "id": "f2c4124c",
   "metadata": {},
   "source": [
    "5. Meeting Rooms II\n",
    "🔗 https://leetcode.com/problems/meeting-rooms-ii/description/\n",
    "\n",
    "Условие:\n",
    "Дан список встреч как интервалов [start, end]. Вернуть минимальное количество переговорных комнат, чтобы все встречи прошли.\n",
    "\n",
    "Уточняющие вопросы:\n",
    "\n",
    "Можно ли использовать сортировку?\n",
    "\n",
    "Какие границы данных?\n",
    "\n",
    "Идея решения:\n",
    "Отдельно отсортировать начала и концы встреч, пройти двумя указателями — если новая встреча раньше самой ранней завершившейся, нужна новая комната."
   ]
  },
  {
   "cell_type": "code",
   "execution_count": null,
   "id": "a27342ae",
   "metadata": {},
   "outputs": [],
   "source": [
    "def minMeetingRooms(intervals):\n",
    "    if not intervals:\n",
    "        return 0\n",
    "\n",
    "    starts = sorted(i[0] for i in intervals)\n",
    "    ends = sorted(i[1] for i in intervals)\n",
    "\n",
    "    used_rooms = 0\n",
    "    end_ptr = 0\n",
    "\n",
    "    for start in starts:\n",
    "        if start < ends[end_ptr]:\n",
    "            used_rooms += 1\n",
    "        else:\n",
    "            end_ptr += 1\n",
    "\n",
    "    return used_rooms\n"
   ]
  },
  {
   "cell_type": "markdown",
   "id": "972d15c9",
   "metadata": {},
   "source": [
    "6. Interval List Intersections\n",
    "🔗 https://leetcode.com/problems/interval-list-intersections/description/\n",
    "\n",
    "Условие:\n",
    "Даны два списка отсортированных непересекающихся интервалов. Найти все их пересечения.\n",
    "\n",
    "Уточняющие вопросы:\n",
    "\n",
    "Интервалы не пересекаются внутри одного списка?\n",
    "\n",
    "Можно ли использовать два указателя?\n",
    "\n",
    "Идея решения:\n",
    "Используем два указателя, сравниваем текущие интервалы и ищем пересечение."
   ]
  },
  {
   "cell_type": "code",
   "execution_count": null,
   "id": "620d4e60",
   "metadata": {},
   "outputs": [],
   "source": [
    "def intervalIntersection(A, B):\n",
    "    i = j = 0\n",
    "    res = []\n",
    "\n",
    "    while i < len(A) and j < len(B):\n",
    "        start = max(A[i][0], B[j][0])\n",
    "        end = min(A[i][1], B[j][1])\n",
    "\n",
    "        if start <= end:\n",
    "            res.append([start, end])\n",
    "\n",
    "        if A[i][1] < B[j][1]:\n",
    "            i += 1\n",
    "        else:\n",
    "            j += 1\n",
    "\n",
    "    return res\n"
   ]
  },
  {
   "cell_type": "markdown",
   "id": "36c77222",
   "metadata": {},
   "source": [
    "7. Merge Intervals\n",
    "🔗 https://leetcode.com/problems/merge-intervals/description/\n",
    "\n",
    "Условие:\n",
    "Слить перекрывающиеся интервалы в списке.\n",
    "\n",
    "Уточняющие вопросы:\n",
    "\n",
    "Входной список отсортирован?\n",
    "\n",
    "Какой диапазон значений?\n",
    "\n",
    "Идея решения:\n",
    "Отсортировать интервалы по началу, затем итерироваться и сливать, если пересекаются."
   ]
  },
  {
   "cell_type": "code",
   "execution_count": null,
   "id": "2a86e621",
   "metadata": {},
   "outputs": [],
   "source": [
    "def merge(intervals):\n",
    "    intervals.sort(key=lambda x: x[0])\n",
    "    merged = []\n",
    "\n",
    "    for interval in intervals:\n",
    "        if not merged or merged[-1][1] < interval[0]:\n",
    "            merged.append(interval)\n",
    "        else:\n",
    "            merged[-1][1] = max(merged[-1][1], interval[1])\n",
    "\n",
    "    return merged\n"
   ]
  },
  {
   "cell_type": "markdown",
   "id": "727c8de0",
   "metadata": {},
   "source": [
    "8. Find All Anagrams in a String\n",
    "🔗 https://leetcode.com/problems/find-all-anagrams-in-a-string/description/\n",
    "\n",
    "Условие:\n",
    "Найти все стартовые индексы анаграмм строки p в строке s.\n",
    "\n",
    "Уточняющие вопросы:\n",
    "\n",
    "Строки состоят только из строчных букв?\n",
    "\n",
    "Размеры строк?\n",
    "\n",
    "Идея решения:\n",
    "Sliding window с подсчётом частот символов и сравнением окон с шаблоном."
   ]
  },
  {
   "cell_type": "code",
   "execution_count": null,
   "id": "d987eec9",
   "metadata": {},
   "outputs": [],
   "source": [
    "from collections import Counter\n",
    "\n",
    "def findAnagrams(s, p):\n",
    "    res = []\n",
    "    p_count = Counter(p)\n",
    "    s_count = Counter()\n",
    "\n",
    "    for i in range(len(s)):\n",
    "        s_count[s[i]] += 1\n",
    "        if i >= len(p):\n",
    "            if s_count[s[i - len(p)]] == 1:\n",
    "                del s_count[s[i - len(p)]]\n",
    "            else:\n",
    "                s_count[s[i - len(p)]] -= 1\n",
    "        if s_count == p_count:\n",
    "            res.append(i)\n",
    "    return res\n"
   ]
  },
  {
   "cell_type": "markdown",
   "id": "6feca522",
   "metadata": {},
   "source": [
    "9. Design Hit Counter\n",
    "🔗 https://leetcode.com/problems/design-hit-counter/description/\n",
    "\n",
    "Условие:\n",
    "Спроектировать счетчик запросов. hit(timestamp) фиксирует удар, getHits(timestamp) — число ударов за последние 5 минут (300 секунд).\n",
    "\n",
    "Уточняющие вопросы:\n",
    "\n",
    "Нужно ли удалять старые записи?\n",
    "\n",
    "Что делать при большом потоке?\n",
    "\n",
    "Идея решения:\n",
    "Очередь с парами (timestamp, count), при getHits удалять старые."
   ]
  },
  {
   "cell_type": "code",
   "execution_count": null,
   "id": "dedc2829",
   "metadata": {},
   "outputs": [],
   "source": [
    "from collections import deque\n",
    "\n",
    "class HitCounter:\n",
    "    def __init__(self):\n",
    "        self.hits = deque()\n",
    "\n",
    "    def hit(self, timestamp):\n",
    "        if self.hits and self.hits[-1][0] == timestamp:\n",
    "            self.hits[-1][1] += 1\n",
    "        else:\n",
    "            self.hits.append([timestamp, 1])\n",
    "\n",
    "    def getHits(self, timestamp):\n",
    "        while self.hits and self.hits[0][0] <= timestamp - 300:\n",
    "            self.hits.popleft()\n",
    "        return sum(count for _, count in self.hits)\n"
   ]
  },
  {
   "cell_type": "markdown",
   "id": "b41bf725",
   "metadata": {},
   "source": [
    "10. Trapping Rain Water\n",
    "🔗 https://leetcode.com/problems/trapping-rain-water/description/\n",
    "\n",
    "Условие:\n",
    "Дан массив высот. Посчитать, сколько воды удерживается после дождя.\n",
    "\n",
    "Уточняющие вопросы:\n",
    "\n",
    "Можно ли использовать O(n) память и время?\n",
    "\n",
    "Что если все высоты равны?\n",
    "\n",
    "Идея решения:\n",
    "Два указателя с текущим максимумом слева и справа. Вода = мин(left_max, right_max) - height[i]."
   ]
  },
  {
   "cell_type": "code",
   "execution_count": null,
   "id": "c928eea1",
   "metadata": {},
   "outputs": [],
   "source": [
    "def trap(height):\n",
    "    left = 0\n",
    "    right = len(height) - 1\n",
    "    left_max = right_max = 0\n",
    "    res = 0\n",
    "\n",
    "    while left < right:\n",
    "        if height[left] < height[right]:\n",
    "            left_max = max(left_max, height[left])\n",
    "            res += left_max - height[left]\n",
    "            left += 1\n",
    "        else:\n",
    "            right_max = max(right_max, height[right])\n",
    "            res += right_max - height[right]\n",
    "            right -= 1\n",
    "    return res\n"
   ]
  },
  {
   "cell_type": "markdown",
   "id": "2f6ff1f6",
   "metadata": {},
   "source": [
    "11. Flatten Nested List Iterator\n",
    "🔗 https://leetcode.com/problems/flatten-nested-list-iterator/description/\n",
    "\n",
    "Условие:\n",
    "Сделать итератор по вложенному списку целых чисел.\n",
    "\n",
    "Уточняющие вопросы:\n",
    "\n",
    "Можно ли развернуть всё заранее?\n",
    "\n",
    "Насколько глубоко может быть вложенность?\n",
    "\n",
    "Идея решения:\n",
    "Использовать стек, рекурсивно или итеративно разворачивая вложенность."
   ]
  },
  {
   "cell_type": "code",
   "execution_count": null,
   "id": "974631b8",
   "metadata": {},
   "outputs": [],
   "source": [
    "class NestedIterator:\n",
    "    def __init__(self, nestedList):\n",
    "        self.stack = []\n",
    "        self.flatten(nestedList)\n",
    "\n",
    "    def flatten(self, lst):\n",
    "        for el in reversed(lst):\n",
    "            self.stack.append(el)\n",
    "\n",
    "    def next(self):\n",
    "        return self.stack.pop().getInteger()\n",
    "\n",
    "    def hasNext(self):\n",
    "        while self.stack:\n",
    "            top = self.stack[-1]\n",
    "            if top.isInteger():\n",
    "                return True\n",
    "            self.stack.pop()\n",
    "            self.flatten(top.getList())\n",
    "        return False\n"
   ]
  },
  {
   "cell_type": "markdown",
   "id": "5cd2a83e",
   "metadata": {},
   "source": [
    "12. Valid Parentheses\n",
    "🔗 https://leetcode.com/problems/valid-parentheses/description/\n",
    "\n",
    "Условие:\n",
    "Проверить, является ли строка из скобок (()[]{}) корректной.\n",
    "\n",
    "Уточняющие вопросы:\n",
    "\n",
    "Можно ли использовать стек?\n",
    "\n",
    "Строка может быть пустой?\n",
    "\n",
    "Идея решения:\n",
    "Стек — добавляем открывающие скобки, при закрывающей — проверяем верхушку стека."
   ]
  },
  {
   "cell_type": "code",
   "execution_count": null,
   "id": "dd92b9b0",
   "metadata": {},
   "outputs": [],
   "source": [
    "def isValid(s):\n",
    "    stack = []\n",
    "    mapping = {')': '(', ']': '[', '}': '{'}\n",
    "    for char in s:\n",
    "        if char in mapping.values():\n",
    "            stack.append(char)\n",
    "        else:\n",
    "            if not stack or mapping[char] != stack.pop():\n",
    "                return False\n",
    "    return not stack\n"
   ]
  },
  {
   "cell_type": "markdown",
   "id": "2c562673",
   "metadata": {},
   "source": [
    "1. Line Reflection (LeetCode 358)\n",
    "Условие:\n",
    "Даны n точек на плоскости. Проверьте, существует ли вертикальная прямая, такая что все точки симметричны относительно неё. Если такая прямая существует, верните True, иначе False.\n",
    "\n",
    "Пример:\n",
    "\n",
    "Вход: [[1, 1], [-1, 1]]\n",
    "Выход: True (прямая x = 0 отражает точки симметрично).\n",
    "\n",
    "Вход: [[1, 1], [-1, -1]]\n",
    "Выход: False (нет такой прямой).\n",
    "\n",
    "Уточняющие вопросы:\n",
    "\n",
    "Могут ли точки дублироваться?\n",
    "\n",
    "Как обрабатывать случай, когда точек нет или одна точка?\n",
    "\n",
    "Должна ли прямая проходить через начало координат?\n",
    "\n",
    "Подсказки:\n",
    "\n",
    "Найдите минимальную и максимальную x-координату: прямая должна быть посередине.\n",
    "\n",
    "Для каждой точки проверьте, есть ли симметричная ей точка относительно этой прямой.\n",
    "\n",
    "Решение:"
   ]
  },
  {
   "cell_type": "code",
   "execution_count": null,
   "id": "bba39e68",
   "metadata": {},
   "outputs": [],
   "source": [
    "def is_reflected(points):\n",
    "    if not points:\n",
    "        return True\n",
    "    x_coords = [x for x, y in points]\n",
    "    min_x, max_x = min(x_coords), max(x_coords)\n",
    "    mirror = (min_x + max_x) / 2\n",
    "    point_set = {(x, y) for x, y in points}\n",
    "    for x, y in points:\n",
    "        mirrored_x = 2 * mirror - x\n",
    "        if (mirrored_x, y) not in point_set:\n",
    "            return False\n",
    "    return True"
   ]
  },
  {
   "cell_type": "markdown",
   "id": "15a9600b",
   "metadata": {},
   "source": [
    "2. Maximize Distance to Closest Person (LeetCode 840)\n",
    "Условие:\n",
    "В ряду мест некоторые заняты (1), некоторые свободны (0). Найдите место, где расстояние до ближайшего занятого места максимально. Верните это расстояние.\n",
    "\n",
    "Пример:\n",
    "\n",
    "Вход: [1, 0, 0, 0, 1, 0, 1]\n",
    "Выход: 2 (место 2 или 4).\n",
    "\n",
    "Вход: [1, 0, 0, 0]\n",
    "Выход: 3 (место 3).\n",
    "\n",
    "Уточняющие вопросы:\n",
    "\n",
    "Могут ли места быть пустыми?\n",
    "\n",
    "Гарантируется ли, что есть хотя бы одно занятое место?\n",
    "\n",
    "Как обрабатывать края ряда?\n",
    "\n",
    "Подсказки:\n",
    "\n",
    "Пройдитесь по массиву, запоминая последнее занятое место.\n",
    "\n",
    "Для каждого свободного места вычислите расстояние до ближайшего занятого."
   ]
  },
  {
   "cell_type": "code",
   "execution_count": null,
   "id": "8395a0de",
   "metadata": {},
   "outputs": [],
   "source": [
    "def max_dist_to_closest(seats):\n",
    "    left = -1\n",
    "    max_dist = 0\n",
    "    for i, seat in enumerate(seats):\n",
    "        if seat == 1:\n",
    "            if left == -1:\n",
    "                max_dist = i\n",
    "            else:\n",
    "                max_dist = max(max_dist, (i - left) // 2)\n",
    "            left = i\n",
    "    max_dist = max(max_dist, len(seats) - 1 - left)\n",
    "    return max_dist"
   ]
  },
  {
   "cell_type": "markdown",
   "id": "c8c5438e",
   "metadata": {},
   "source": [
    "3. Longest Subarray of 1's After Deleting One Element (LeetCode 1493)\n",
    "Условие:\n",
    "Дан бинарный массив. Удалите один элемент так, чтобы длина самого длинного подмассива из 1 была максимальной. Верните эту длину.\n",
    "\n",
    "Пример:\n",
    "\n",
    "Вход: [1, 1, 0, 1]\n",
    "Выход: 3 (удаляем 0).\n",
    "\n",
    "Вход: [0, 1, 1, 1, 0, 1, 1, 0, 1]\n",
    "Выход: 5 (удаляем предпоследний 0).\n",
    "\n",
    "Уточняющие вопросы:\n",
    "\n",
    "Может ли массив состоять только из 0?\n",
    "\n",
    "Нужно ли удалять ровно один элемент?\n",
    "\n",
    "Как обрабатывать пустой массив?\n",
    "\n",
    "Подсказки:\n",
    "\n",
    "Используйте sliding window с одним \"разрешенным\" 0.\n",
    "\n",
    "Расширяйте окно, пока количество 0 не превышает 1."
   ]
  },
  {
   "cell_type": "code",
   "execution_count": null,
   "id": "893f8137",
   "metadata": {},
   "outputs": [],
   "source": [
    "def longest_subarray(nums):\n",
    "    left = 0\n",
    "    zero_count = 0\n",
    "    max_len = 0\n",
    "    for right in range(len(nums)):\n",
    "        if nums[right] == 0:\n",
    "            zero_count += 1\n",
    "        while zero_count > 1:\n",
    "            if nums[left] == 0:\n",
    "                zero_count -= 1\n",
    "            left += 1\n",
    "        max_len = max(max_len, right - left)\n",
    "    return max_len"
   ]
  },
  {
   "cell_type": "markdown",
   "id": "ea602555",
   "metadata": {},
   "source": [
    "4. Summary Ranges (LeetCode 225)\n",
    "Условие:\n",
    "Дан отсортированный уникальный массив целых чисел. Верните список диапазонов, покрывающих все числа.\n",
    "Диапазон [a, b] должен быть записан как \"a->b\", если a != b, иначе как \"a\".\n",
    "\n",
    "Пример:\n",
    "\n",
    "Вход: [0, 1, 2, 4, 5, 7]\n",
    "Выход: [\"0->2\", \"4->5\", \"7\"].\n",
    "\n",
    "Вход: [] → [].\n",
    "\n",
    "Уточняющие вопросы:\n",
    "\n",
    "Могут ли числа быть отрицательными?\n",
    "\n",
    "Гарантируется ли уникальность и сортировка?\n",
    "\n",
    "Как обрабатывать пустой массив?\n",
    "\n",
    "Подсказки:\n",
    "\n",
    "Проходите по массиву, запоминая начало текущего диапазона.\n",
    "\n",
    "Если следующее число не продолжает диапазон, сохраните текущий диапазон."
   ]
  },
  {
   "cell_type": "code",
   "execution_count": null,
   "id": "365abde7",
   "metadata": {},
   "outputs": [],
   "source": [
    "def summary_ranges(nums):\n",
    "    if not nums:\n",
    "        return []\n",
    "    res = []\n",
    "    start = nums[0]\n",
    "    for i in range(1, len(nums)):\n",
    "        if nums[i] != nums[i-1] + 1:\n",
    "            res.append(f\"{start}->{nums[i-1]}\" if start != nums[i-1] else str(start))\n",
    "            start = nums[i]\n",
    "    res.append(f\"{start}->{nums[-1]}\" if start != nums[-1] else str(start))\n",
    "    return res"
   ]
  },
  {
   "cell_type": "markdown",
   "id": "d53f471b",
   "metadata": {},
   "source": [
    "5. One Edit Distance (LeetCode 161)\n",
    "Условие:\n",
    "Даны две строки. Проверьте, можно ли превратить первую во вторую за одно действие: вставка, удаление или замена символа. Верните True или False.\n",
    "\n",
    "Пример:\n",
    "\n",
    "Вход: \"ab\", \"acb\" → True (вставка 'c').\n",
    "\n",
    "Вход: \"cab\", \"ad\" → False.\n",
    "\n",
    "Уточняющие вопросы:\n",
    "\n",
    "Могут ли строки быть пустыми?\n",
    "\n",
    "Учитывается ли регистр символов?\n",
    "\n",
    "Как обрабатывать одинаковые строки?\n",
    "\n",
    "Подсказки:\n",
    "\n",
    "Сравнивайте строки посимвольно.\n",
    "\n",
    "При первом несовпадении проверяйте варианты: пропуск символа в одной из строк или замена"
   ]
  },
  {
   "cell_type": "code",
   "execution_count": null,
   "id": "1ceb2f03",
   "metadata": {},
   "outputs": [],
   "source": [
    "def is_one_edit_distance(s, t):\n",
    "    ns, nt = len(s), len(t)\n",
    "    if abs(ns - nt) > 1:\n",
    "        return False\n",
    "    for i in range(min(ns, nt)):\n",
    "        if s[i] != t[i]:\n",
    "            if ns == nt:\n",
    "                return s[i+1:] == t[i+1:]\n",
    "            elif ns < nt:\n",
    "                return s[i:] == t[i+1:]\n",
    "            else:\n",
    "                return s[i+1:] == t[i:]\n",
    "    return abs(ns - nt) == 1"
   ]
  },
  {
   "cell_type": "markdown",
   "id": "e4476e88",
   "metadata": {},
   "source": [
    "6. String Compression (LeetCode 443)\n",
    "Условие:\n",
    "Дан массив символов. Сожмите его, заменяя повторяющиеся символы на символ и количество повторений. Если длина последовательности равна 1, число опускается. Верните новую длину массива.\n",
    "Важно: Изменения нужно провести in-place.\n",
    "\n",
    "Пример:\n",
    "\n",
    "Вход: [\"a\", \"a\", \"b\", \"b\", \"c\", \"c\", \"c\"]\n",
    "Выход: 6 (массив преобразуется в [\"a\", \"2\", \"b\", \"2\", \"c\", \"3\"]).\n",
    "\n",
    "Вход: [\"a\"] → 1 (массив остаётся [\"a\"]).\n",
    "\n",
    "Уточняющие вопросы:\n",
    "\n",
    "Может ли массив быть пустым?\n",
    "\n",
    "Учитывается ли регистр символов?\n",
    "\n",
    "Нужно ли возвращать преобразованный массив или только длину?\n",
    "\n",
    "Подсказки:\n",
    "\n",
    "Используйте два указателя: один для записи, другой для чтения.\n",
    "\n",
    "Подсчитывайте количество повторений каждого символа."
   ]
  },
  {
   "cell_type": "code",
   "execution_count": null,
   "id": "4cc924c8",
   "metadata": {},
   "outputs": [],
   "source": [
    "def compress(chars):\n",
    "    write = 0\n",
    "    read = 0\n",
    "    n = len(chars)\n",
    "    while read < n:\n",
    "        current_char = chars[read]\n",
    "        count = 0\n",
    "        while read < n and chars[read] == current_char:\n",
    "            read += 1\n",
    "            count += 1\n",
    "        chars[write] = current_char\n",
    "        write += 1\n",
    "        if count > 1:\n",
    "            for digit in str(count):\n",
    "                chars[write] = digit\n",
    "                write += 1\n",
    "    return write"
   ]
  },
  {
   "cell_type": "markdown",
   "id": "b6be5d98",
   "metadata": {},
   "source": [
    "7. Max Consecutive Ones II (LeetCode 487)\n",
    "Условие:\n",
    "Дан бинарный массив. Можно заменить один 0 на 1. Найдите максимальную длину последовательности из 1, которую можно получить.\n",
    "\n",
    "Пример:\n",
    "\n",
    "Вход: [1, 0, 1, 1, 0]\n",
    "Выход: 4 (заменяем второй 0).\n",
    "\n",
    "Вход: [1, 1, 1] → 3 (нечего заменять).\n",
    "\n",
    "Уточняющие вопросы:\n",
    "\n",
    "Может ли массив состоять только из 0?\n",
    "\n",
    "Нужно ли возвращать позицию замены?\n",
    "\n",
    "Как обрабатывать пустой массив?\n",
    "\n",
    "Подсказки:\n",
    "\n",
    "Используйте sliding window с одним \"разрешенным\" 0.\n",
    "\n",
    "Расширяйте окно, пока количество 0 не превышает 1."
   ]
  },
  {
   "cell_type": "code",
   "execution_count": null,
   "id": "d8f9a77c",
   "metadata": {},
   "outputs": [],
   "source": [
    "def find_max_consecutive_ones(nums):\n",
    "    left = 0\n",
    "    zero_count = 0\n",
    "    max_len = 0\n",
    "    for right in range(len(nums)):\n",
    "        if nums[right] == 0:\n",
    "            zero_count += 1\n",
    "        while zero_count > 1:\n",
    "            if nums[left] == 0:\n",
    "                zero_count -= 1\n",
    "            left += 1\n",
    "        max_len = max(max_len, right - left + 1)\n",
    "    return max_len"
   ]
  },
  {
   "cell_type": "markdown",
   "id": "f3f570ec",
   "metadata": {},
   "source": [
    "8. Move Zeroes (LeetCode 283)\n",
    "Условие:\n",
    "Дан массив чисел. Переместите все 0 в конец, сохраняя порядок остальных элементов.\n",
    "Важно: Сделайте это in-place.\n",
    "\n",
    "Пример:\n",
    "\n",
    "Вход: [0, 1, 0, 3, 12]\n",
    "Выход: [1, 3, 12, 0, 0].\n",
    "\n",
    "Вход: [0] → [0].\n",
    "\n",
    "Уточняющие вопросы:\n",
    "\n",
    "Могут ли элементы быть отрицательными?\n",
    "\n",
    "Нужно ли возвращать массив?\n",
    "\n",
    "Как обрабатывать пустой массив?\n",
    "\n",
    "Подсказки:\n",
    "\n",
    "Используйте указатель для записи ненулевых элементов.\n",
    "\n",
    "Заполните оставшуюся часть массива нулями."
   ]
  },
  {
   "cell_type": "code",
   "execution_count": null,
   "id": "719a2ace",
   "metadata": {},
   "outputs": [],
   "source": [
    "def move_zeroes(nums):\n",
    "    write = 0\n",
    "    for num in nums:\n",
    "        if num != 0:\n",
    "            nums[write] = num\n",
    "            write += 1\n",
    "    for i in range(write, len(nums)):\n",
    "        nums[i] = 0"
   ]
  },
  {
   "cell_type": "markdown",
   "id": "79767c68",
   "metadata": {},
   "source": [
    "9. Subarray Sum Equals K (LeetCode 560)\n",
    "Условие:\n",
    "Дан массив целых чисел и число k. Найдите количество подмассивов, сумма которых равна k.\n",
    "\n",
    "Пример:\n",
    "\n",
    "Вход: nums = [1, 1, 1], k = 2\n",
    "Выход: 2 (подмассивы [1, 1] и [1, 1]).\n",
    "\n",
    "Вход: nums = [1, 2, 3], k = 3 → 2.\n",
    "\n",
    "Уточняющие вопросы:\n",
    "\n",
    "Могут ли числа быть отрицательными?\n",
    "\n",
    "Нужно ли учитывать пустые подмассивы?\n",
    "\n",
    "Как обрабатывать случай, когда k = 0?\n",
    "\n",
    "Подсказки:\n",
    "\n",
    "Используйте хэш-таблицу для хранения префиксных сумм.\n",
    "\n",
    "Для каждой префиксной суммы проверяйте, есть ли sum - k в таблице."
   ]
  },
  {
   "cell_type": "code",
   "execution_count": null,
   "id": "3077152d",
   "metadata": {},
   "outputs": [],
   "source": [
    "def subarray_sum(nums, k):\n",
    "    from collections import defaultdict\n",
    "    prefix_sum = defaultdict(int)\n",
    "    prefix_sum[0] = 1\n",
    "    current_sum = 0\n",
    "    count = 0\n",
    "    for num in nums:\n",
    "        current_sum += num\n",
    "        count += prefix_sum.get(current_sum - k, 0)\n",
    "        prefix_sum[current_sum] += 1\n",
    "    return count"
   ]
  },
  {
   "cell_type": "markdown",
   "id": "bc9bdb46",
   "metadata": {},
   "source": [
    "10. Permutation in String (LeetCode 567)\n",
    "Условие:\n",
    "Даны две строки s1 и s2. Проверьте, содержит ли s2 перестановку s1.\n",
    "\n",
    "Пример:\n",
    "\n",
    "Вход: s1 = \"ab\", s2 = \"eidbaooo\"\n",
    "Выход: True (\"ba\" — перестановка \"ab\").\n",
    "\n",
    "Вход: s1 = \"abc\", s2 = \"eidboaoo\" → False.\n",
    "\n",
    "Уточняющие вопросы:\n",
    "\n",
    "Могут ли строки содержать пробелы?\n",
    "\n",
    "Учитывается ли регистр символов?\n",
    "\n",
    "Как обрабатывать пустые строки?\n",
    "\n",
    "Подсказки:\n",
    "\n",
    "Используйте sliding window и сравнение частот символов.\n",
    "\n",
    "Оптимизируйте проверку с помощью хэш-таблицы."
   ]
  },
  {
   "cell_type": "code",
   "execution_count": null,
   "id": "a7c8f95b",
   "metadata": {},
   "outputs": [],
   "source": [
    "def check_inclusion(s1, s2):\n",
    "    from collections import defaultdict\n",
    "    if len(s1) > len(s2):\n",
    "        return False\n",
    "    s1_count = defaultdict(int)\n",
    "    s2_count = defaultdict(int)\n",
    "    for char in s1:\n",
    "        s1_count[char] += 1\n",
    "    for i in range(len(s2)):\n",
    "        s2_count[s2[i]] += 1\n",
    "        if i >= len(s1):\n",
    "            left_char = s2[i - len(s1)]\n",
    "            if s2_count[left_char] == 1:\n",
    "                del s2_count[left_char]\n",
    "            else:\n",
    "                s2_count[left_char] -= 1\n",
    "        if s1_count == s2_count:\n",
    "            return True\n",
    "    return False"
   ]
  },
  {
   "cell_type": "markdown",
   "id": "eaf2228e",
   "metadata": {},
   "source": [
    "11. Insert Delete GetRandom O(1) (LeetCode 380)\n",
    "Условие:\n",
    "Реализуйте структуру данных, поддерживающую операции:\n",
    "\n",
    "insert(val): Добавляет элемент.\n",
    "\n",
    "remove(val): Удаляет элемент.\n",
    "\n",
    "getRandom(): Возвращает случайный элемент.\n",
    "Все операции должны работать за O(1) в среднем.\n",
    "\n",
    "Пример:\n",
    "\n",
    "insert(1) → True.\n",
    "\n",
    "remove(2) → False.\n",
    "\n",
    "getRandom() → 1.\n",
    "\n",
    "Уточняющие вопросы:\n",
    "\n",
    "Могут ли элементы повторяться?\n",
    "\n",
    "Как обрабатывать пустую структуру при getRandom()?\n",
    "\n",
    "Нужно ли учитывать порядок элементов?\n",
    "\n",
    "Подсказки:\n",
    "\n",
    "Используйте список для хранения элементов и хэш-таблицу для индексов.\n",
    "\n",
    "При удалении заменяйте элемент последним в списке."
   ]
  },
  {
   "cell_type": "code",
   "execution_count": null,
   "id": "38296502",
   "metadata": {},
   "outputs": [],
   "source": [
    "import random\n",
    "\n",
    "class RandomizedSet:\n",
    "    def __init__(self):\n",
    "        self.list = []\n",
    "        self.dict = {}\n",
    "\n",
    "    def insert(self, val):\n",
    "        if val in self.dict:\n",
    "            return False\n",
    "        self.dict[val] = len(self.list)\n",
    "        self.list.append(val)\n",
    "        return True\n",
    "\n",
    "    def remove(self, val):\n",
    "        if val not in self.dict:\n",
    "            return False\n",
    "        last_element = self.list[-1]\n",
    "        idx = self.dict[val]\n",
    "        self.list[idx] = last_element\n",
    "        self.dict[last_element] = idx\n",
    "        self.list.pop()\n",
    "        del self.dict[val]\n",
    "        return True\n",
    "\n",
    "    def getRandom(self):\n",
    "        return random.choice(self.list)"
   ]
  },
  {
   "cell_type": "markdown",
   "id": "7eae2ac3",
   "metadata": {},
   "source": [
    "12. LRU Cache (LeetCode 146)\n",
    "Условие:\n",
    "Реализуйте структуру LRUCache с методами:\n",
    "\n",
    "get(key): Возвращает значение по ключу или -1.\n",
    "\n",
    "put(key, value): Вставляет или обновляет значение.\n",
    "При превышении ёмкости удаляется самый давно использованный элемент.\n",
    "\n",
    "Пример:\n",
    "\n",
    "cache = LRUCache(2)\n",
    "cache.put(1, 1)\n",
    "cache.put(2, 2)\n",
    "cache.get(1) → 1\n",
    "cache.put(3, 3)\n",
    "cache.get(2) → -1.\n",
    "\n",
    "Уточняющие вопросы:\n",
    "\n",
    "Могут ли ключи и значения быть null?\n",
    "\n",
    "Как обрабатывать дублирование ключей?\n",
    "\n",
    "Нужно ли учитывать порядок при выводе?\n",
    "\n",
    "Подсказки:\n",
    "\n",
    "Используйте двусвязный список для порядка элементов и хэш-таблицу для быстрого доступа.\n",
    "\n",
    "При каждом обращении перемещайте элемент в голову списка."
   ]
  },
  {
   "cell_type": "code",
   "execution_count": null,
   "id": "7c921c7e",
   "metadata": {},
   "outputs": [],
   "source": [
    "class ListNode:\n",
    "    def __init__(self, key=0, val=0):\n",
    "        self.key = key\n",
    "        self.val = val\n",
    "        self.prev = None\n",
    "        self.next = None\n",
    "\n",
    "class LRUCache:\n",
    "    def __init__(self, capacity):\n",
    "        self.capacity = capacity\n",
    "        self.cache = {}\n",
    "        self.head = ListNode()\n",
    "        self.tail = ListNode()\n",
    "        self.head.next = self.tail\n",
    "        self.tail.prev = self.head\n",
    "\n",
    "    def _remove_node(self, node):\n",
    "        node.prev.next = node.next\n",
    "        node.next.prev = node.prev\n",
    "\n",
    "    def _add_to_head(self, node):\n",
    "        node.next = self.head.next\n",
    "        node.prev = self.head\n",
    "        self.head.next.prev = node\n",
    "        self.head.next = node\n",
    "\n",
    "    def get(self, key):\n",
    "        if key not in self.cache:\n",
    "            return -1\n",
    "        node = self.cache[key]\n",
    "        self._remove_node(node)\n",
    "        self._add_to_head(node)\n",
    "        return node.val\n",
    "\n",
    "    def put(self, key, value):\n",
    "        if key in self.cache:\n",
    "            node = self.cache[key]\n",
    "            node.val = value\n",
    "            self._remove_node(node)\n",
    "            self._add_to_head(node)\n",
    "        else:\n",
    "            if len(self.cache) >= self.capacity:\n",
    "                lru = self.tail.prev\n",
    "                self._remove_node(lru)\n",
    "                del self.cache[lru.key]\n",
    "            new_node = ListNode(key, value)\n",
    "            self.cache[key] = new_node\n",
    "            self._add_to_head(new_node)"
   ]
  },
  {
   "cell_type": "markdown",
   "id": "b5f12de7",
   "metadata": {},
   "source": [
    "1. Validate Binary Search Tree\n",
    "🔗 https://leetcode.com/problems/validate-binary-search-tree/description/\n",
    "\n",
    "Условие:\n",
    "Проверить, является ли бинарное дерево корректным бинарным деревом поиска (BST).\n",
    "\n",
    "Уточняющие вопросы:\n",
    "\n",
    "Значения уникальны?\n",
    "\n",
    "Можно ли использовать рекурсию?\n",
    "\n",
    "Идея:\n",
    "Инвариант BST — все значения в левом поддереве < текущего, а в правом > текущего. Проверяется рекурсией с границами min/max."
   ]
  },
  {
   "cell_type": "code",
   "execution_count": null,
   "id": "a8c8a933",
   "metadata": {},
   "outputs": [],
   "source": [
    "def isValidBST(root):\n",
    "    def helper(node, low=float('-inf'), high=float('inf')):\n",
    "        if not node:\n",
    "            return True\n",
    "        if not (low < node.val < high):\n",
    "            return False\n",
    "        return (helper(node.left, low, node.val) and\n",
    "                helper(node.right, node.val, high))\n",
    "    return helper(root)\n"
   ]
  },
  {
   "cell_type": "markdown",
   "id": "03e3f361",
   "metadata": {},
   "source": [
    "2. Implement rand10() using rand7()\n",
    "🔗 https://leetcode.com/problems/implement-rand10-using-rand7/description/\n",
    "\n",
    "Условие:\n",
    "Имея только rand7() (возвращает 1..7), реализовать rand10().\n",
    "\n",
    "Уточняющие вопросы:\n",
    "\n",
    "Можно ли использовать модуль и повторно вызывать rand7?\n",
    "\n",
    "Что если попадём в зону > 40?\n",
    "\n",
    "Идея:\n",
    "Сгенерировать равномерно число от 1 до 49, и отбросить > 40, затем взять res % 10 + 1."
   ]
  },
  {
   "cell_type": "code",
   "execution_count": null,
   "id": "66c50bbe",
   "metadata": {},
   "outputs": [],
   "source": [
    "def rand10():\n",
    "    while True:\n",
    "        row = rand7()\n",
    "        col = rand7()\n",
    "        idx = (row - 1) * 7 + col\n",
    "        if idx <= 40:\n",
    "            return 1 + (idx - 1) % 10\n"
   ]
  },
  {
   "cell_type": "markdown",
   "id": "ef88b2c0",
   "metadata": {},
   "source": [
    "3. Longest Substring Without Repeating Characters\n",
    "🔗 https://leetcode.com/problems/longest-substring-without-repeating-characters/description/\n",
    "\n",
    "Условие:\n",
    "Найти длину самой длинной подстроки без повторяющихся символов.\n",
    "\n",
    "Уточняющие вопросы:\n",
    "\n",
    "Регистр важен?\n",
    "\n",
    "Все символы ASCII?\n",
    "\n",
    "Идея:\n",
    "Sliding window с множеством или словарём."
   ]
  },
  {
   "cell_type": "code",
   "execution_count": null,
   "id": "6ed8d646",
   "metadata": {},
   "outputs": [],
   "source": [
    "def lengthOfLongestSubstring(s):\n",
    "    char_index = {}\n",
    "    left = max_len = 0\n",
    "    for right, c in enumerate(s):\n",
    "        if c in char_index and char_index[c] >= left:\n",
    "            left = char_index[c] + 1\n",
    "        char_index[c] = right\n",
    "        max_len = max(max_len, right - left + 1)\n",
    "    return max_len\n"
   ]
  },
  {
   "cell_type": "markdown",
   "id": "f9d04e38",
   "metadata": {},
   "source": [
    "4. Max Stack\n",
    "🔗 https://leetcode.com/problems/max-stack/description/\n",
    "\n",
    "Условие:\n",
    "Реализовать стек с поддержкой операции popMax() — удалить и вернуть максимум.\n",
    "\n",
    "Уточняющие вопросы:\n",
    "\n",
    "Можно ли использовать две структуры данных?\n",
    "\n",
    "Могут ли быть дубликаты?\n",
    "\n",
    "Идея:\n",
    "Использовать обычный стек и отсортированный список (или heap + map), либо два стека."
   ]
  },
  {
   "cell_type": "code",
   "execution_count": null,
   "id": "cb7caaae",
   "metadata": {},
   "outputs": [],
   "source": [
    "class MaxStack:\n",
    "    def __init__(self):\n",
    "        self.stack = []\n",
    "    \n",
    "    def push(self, x):\n",
    "        self.stack.append(x)\n",
    "    \n",
    "    def pop(self):\n",
    "        return self.stack.pop()\n",
    "    \n",
    "    def top(self):\n",
    "        return self.stack[-1]\n",
    "    \n",
    "    def peekMax(self):\n",
    "        return max(self.stack)\n",
    "    \n",
    "    def popMax(self):\n",
    "        max_val = max(self.stack)\n",
    "        buffer = []\n",
    "        while self.stack[-1] != max_val:\n",
    "            buffer.append(self.stack.pop())\n",
    "        self.stack.pop()\n",
    "        while buffer:\n",
    "            self.stack.append(buffer.pop())\n",
    "        return max_val\n"
   ]
  },
  {
   "cell_type": "markdown",
   "id": "b17e90e6",
   "metadata": {},
   "source": [
    "5. Two Sum\n",
    "🔗 https://leetcode.com/problems/two-sum/description/\n",
    "\n",
    "Условие:\n",
    "Найти индексы двух чисел, сумма которых равна target.\n",
    "\n",
    "Уточняющие вопросы:\n",
    "\n",
    "Может ли быть несколько решений?\n",
    "\n",
    "Можно ли использовать словарь?\n",
    "\n",
    "Идея:\n",
    "Хеш-таблица, сохраняем target - num на каждом шаге."
   ]
  },
  {
   "cell_type": "code",
   "execution_count": null,
   "id": "4f84e96a",
   "metadata": {},
   "outputs": [],
   "source": [
    "def twoSum(nums, target):\n",
    "    lookup = {}\n",
    "    for i, num in enumerate(nums):\n",
    "        if target - num in lookup:\n",
    "            return [lookup[target - num], i]\n",
    "        lookup[num] = i\n"
   ]
  },
  {
   "cell_type": "markdown",
   "id": "b53ccbf1",
   "metadata": {},
   "source": [
    "6. Number of Islands\n",
    "🔗 https://leetcode.com/problems/number-of-islands/description/\n",
    "\n",
    "Условие:\n",
    "Посчитать количество \"островов\" (связных участков из '1') на 2D карте.\n",
    "\n",
    "Уточняющие вопросы:\n",
    "\n",
    "Можно ли изменять входной массив?\n",
    "\n",
    "Диагонали считаются?\n",
    "\n",
    "Идея:\n",
    "DFS или BFS. Модифицируем массив, чтобы не посещать снова."
   ]
  },
  {
   "cell_type": "code",
   "execution_count": null,
   "id": "e58ba1f2",
   "metadata": {},
   "outputs": [],
   "source": [
    "def numIslands(grid):\n",
    "    def dfs(i, j):\n",
    "        if i < 0 or i >= len(grid) or j < 0 or j >= len(grid[0]) or grid[i][j] == '0':\n",
    "            return\n",
    "        grid[i][j] = '0'\n",
    "        for dx, dy in [(1,0), (-1,0), (0,1), (0,-1)]:\n",
    "            dfs(i + dx, j + dy)\n",
    "\n",
    "    count = 0\n",
    "    for i in range(len(grid)):\n",
    "        for j in range(len(grid[0])):\n",
    "            if grid[i][j] == '1':\n",
    "                dfs(i, j)\n",
    "                count += 1\n",
    "    return count\n"
   ]
  },
  {
   "cell_type": "markdown",
   "id": "b8ec7c96",
   "metadata": {},
   "source": [
    "7. Shortest Unsorted Continuous Subarray\n",
    "🔗 https://leetcode.com/problems/shortest-unsorted-continuous-subarray/description/\n",
    "\n",
    "Условие:\n",
    "Найти минимальный по длине подмассив, сортировка которого делает весь массив отсортированным.\n",
    "\n",
    "Уточняющие вопросы:\n",
    "\n",
    "Можно ли использовать сортировку для сравнения?\n",
    "\n",
    "Какова длина массива?\n",
    "\n",
    "Идея:\n",
    "Сравнить с отсортированной версией и найти границы расхождения."
   ]
  },
  {
   "cell_type": "code",
   "execution_count": null,
   "id": "bc82eb9b",
   "metadata": {},
   "outputs": [],
   "source": [
    "def findUnsortedSubarray(nums):\n",
    "    sorted_nums = sorted(nums)\n",
    "    left, right = 0, len(nums) - 1\n",
    "    while left < len(nums) and nums[left] == sorted_nums[left]:\n",
    "        left += 1\n",
    "    while right > left and nums[right] == sorted_nums[right]:\n",
    "        right -= 1\n",
    "    return right - left + 1 if right > left else 0\n"
   ]
  },
  {
   "cell_type": "markdown",
   "id": "3d3530ce",
   "metadata": {},
   "source": [
    "8. Lowest Common Ancestor of a Binary Tree\n",
    "🔗 https://leetcode.com/problems/lowest-common-ancestor-of-a-binary-tree/description/\n",
    "\n",
    "Условие:\n",
    "Найти LCA (наименьшего общего предка) двух узлов в бинарном дереве.\n",
    "\n",
    "Уточняющие вопросы:\n",
    "\n",
    "Узлы гарантированно присутствуют?\n",
    "\n",
    "Что если один узел — предок другого?\n",
    "\n",
    "Идея:\n",
    "Рекурсивный обход: если текущий узел равен одному из двух или найден в разных поддеревьях — это LCA."
   ]
  },
  {
   "cell_type": "code",
   "execution_count": null,
   "id": "2e874792",
   "metadata": {},
   "outputs": [],
   "source": [
    "def lowestCommonAncestor(root, p, q):\n",
    "    if not root or root == p or root == q:\n",
    "        return root\n",
    "    left = lowestCommonAncestor(root.left, p, q)\n",
    "    right = lowestCommonAncestor(root.right, p, q)\n",
    "    if left and right:\n",
    "        return root\n",
    "    return left or right\n"
   ]
  },
  {
   "cell_type": "markdown",
   "id": "ec032427",
   "metadata": {},
   "source": [
    "9. Longest Substring with At Most Two Distinct Characters\n",
    "🔗 https://leetcode.com/problems/longest-substring-with-at-most-two-distinct-characters/description/\n",
    "\n",
    "Условие:\n",
    "Найти длину самой длинной подстроки, содержащей не более двух различных символов.\n",
    "\n",
    "Уточняющие вопросы:\n",
    "\n",
    "Можно ли использовать sliding window?\n",
    "\n",
    "Какой диапазон строки?\n",
    "\n",
    "Идея:\n",
    "Словарь + указатели левого и правого конца окна."
   ]
  },
  {
   "cell_type": "code",
   "execution_count": null,
   "id": "9a323be6",
   "metadata": {},
   "outputs": [],
   "source": [
    "def lengthOfLongestSubstringTwoDistinct(s):\n",
    "    from collections import defaultdict\n",
    "    left = max_len = 0\n",
    "    count = defaultdict(int)\n",
    "\n",
    "    for right, c in enumerate(s):\n",
    "        count[c] += 1\n",
    "        while len(count) > 2:\n",
    "            count[s[left]] -= 1\n",
    "            if count[s[left]] == 0:\n",
    "                del count[s[left]]\n",
    "            left += 1\n",
    "        max_len = max(max_len, right - left + 1)\n",
    "    return max_len\n"
   ]
  },
  {
   "cell_type": "markdown",
   "id": "c6be0b9d",
   "metadata": {},
   "source": [
    "10. Minimum Window Substring\n",
    "🔗 https://leetcode.com/problems/minimum-window-substring/description/\n",
    "\n",
    "Условие:\n",
    "Найти минимальное по длине окно в s, содержащее все символы t.\n",
    "\n",
    "Уточняющие вопросы:\n",
    "\n",
    "Учитываются повторы символов в t?\n",
    "\n",
    "Можно ли использовать два указателя?\n",
    "\n",
    "Идея:\n",
    "Словари с частотами + sliding window."
   ]
  },
  {
   "cell_type": "code",
   "execution_count": null,
   "id": "df8ff86e",
   "metadata": {},
   "outputs": [],
   "source": [
    "from collections import Counter\n",
    "\n",
    "def minWindow(s, t):\n",
    "    if not t or not s:\n",
    "        return \"\"\n",
    "\n",
    "    t_count = Counter(t)\n",
    "    window = {}\n",
    "    have = need = len(t_count)\n",
    "    res = (float(\"inf\"), 0, 0)\n",
    "    left = 0\n",
    "\n",
    "    for right, c in enumerate(s):\n",
    "        window[c] = window.get(c, 0) + 1\n",
    "        if c in t_count and window[c] == t_count[c]:\n",
    "            have -= 1\n",
    "        while have == 0:\n",
    "            if (right - left + 1) < res[0]:\n",
    "                res = (right - left + 1, left, right)\n",
    "            window[s[left]] -= 1\n",
    "            if s[left] in t_count and window[s[left]] < t_count[s[left]]:\n",
    "                have += 1\n",
    "            left += 1\n",
    "\n",
    "    return s[res[1]:res[2]+1] if res[0] != float(\"inf\") else \"\"\n"
   ]
  },
  {
   "cell_type": "markdown",
   "id": "2035bcfa",
   "metadata": {},
   "source": [
    "11. Simplify Path\n",
    "🔗 https://leetcode.com/problems/simplify-path/description/\n",
    "\n",
    "Условие:\n",
    "Упростить Unix-путь (/home/../a/./b//c/) до канонического (/a/b/c).\n",
    "\n",
    "Уточняющие вопросы:\n",
    "\n",
    "Нужно ли учитывать .., . и //?\n",
    "\n",
    "Есть ли ограничения по глубине?\n",
    "\n",
    "Идея:\n",
    "Разделить путь по /, использовать стек, игнорировать . и обрабатывать ..."
   ]
  },
  {
   "cell_type": "code",
   "execution_count": null,
   "id": "bd5823a7",
   "metadata": {},
   "outputs": [],
   "source": [
    "def simplifyPath(path):\n",
    "    parts = path.split('/')\n",
    "    stack = []\n",
    "    for part in parts:\n",
    "        if part == '' or part == '.':\n",
    "            continue\n",
    "        elif part == '..':\n",
    "            if stack:\n",
    "                stack.pop()\n",
    "        else:\n",
    "            stack.append(part)\n",
    "    return '/' + '/'.join(stack)\n"
   ]
  },
  {
   "cell_type": "markdown",
   "id": "1d291198",
   "metadata": {},
   "source": [
    "12. Squares of a Sorted Array\n",
    "🔗 https://leetcode.com/problems/squares-of-a-sorted-array/description/\n",
    "\n",
    "Условие:\n",
    "Возвести числа в отсортированном массиве в квадрат и вернуть также отсортированный результат.\n",
    "\n",
    "Уточняющие вопросы:\n",
    "\n",
    "Есть ли отрицательные числа?\n",
    "\n",
    "Можно ли использовать доп. массив?\n",
    "\n",
    "Идея:\n",
    "Два указателя — на левый и правый край. Больше квадрат идёт в конец."
   ]
  },
  {
   "cell_type": "code",
   "execution_count": null,
   "id": "942ef173",
   "metadata": {},
   "outputs": [],
   "source": [
    "def sortedSquares(nums):\n",
    "    res = [0] * len(nums)\n",
    "    left, right = 0, len(nums) - 1\n",
    "    pos = len(nums) - 1\n",
    "\n",
    "    while left <= right:\n",
    "        if abs(nums[left]) > abs(nums[right]):\n",
    "            res[pos] = nums[left] ** 2\n",
    "            left += 1\n",
    "        else:\n",
    "            res[pos] = nums[right] ** 2\n",
    "            right -= 1\n",
    "        pos -= 1\n",
    "    return res\n"
   ]
  },
  {
   "cell_type": "markdown",
   "id": "d36e66c8",
   "metadata": {},
   "source": [
    "13. Add Two Numbers\n",
    "🔗 https://leetcode.com/problems/add-two-numbers/description/\n",
    "\n",
    "Условие:\n",
    "Сложить два числа, представленные как связные списки, где каждая цифра в отдельном узле (обратный порядок).\n",
    "\n",
    "Уточняющие вопросы:\n",
    "\n",
    "Можно ли изменять входные списки?\n",
    "\n",
    "Числа могут быть разной длины?\n",
    "\n",
    "Идея:\n",
    "Пробегаем оба списка, складываем значения + перенос."
   ]
  },
  {
   "cell_type": "code",
   "execution_count": null,
   "id": "5190767e",
   "metadata": {},
   "outputs": [],
   "source": [
    "class ListNode:\n",
    "    def __init__(self, val=0, next=None):\n",
    "        self.val = val\n",
    "        self.next = next\n",
    "\n",
    "def addTwoNumbers(l1, l2):\n",
    "    dummy = ListNode()\n",
    "    current = dummy\n",
    "    carry = 0\n",
    "\n",
    "    while l1 or l2 or carry:\n",
    "        total = carry\n",
    "        if l1: total += l1.val; l1 = l1.next\n",
    "        if l2: total += l2.val; l2 = l2.next\n",
    "        carry, val = divmod(total, 10)\n",
    "        current.next = ListNode(val)\n",
    "        current = current.next\n",
    "\n",
    "    return dummy.next\n"
   ]
  },
  {
   "cell_type": "markdown",
   "id": "4d19706b",
   "metadata": {},
   "source": [
    "14. Single Number\n",
    "🔗 https://leetcode.com/problems/single-number/description/\n",
    "\n",
    "Условие:\n",
    "Найти число, которое встречается один раз, все остальные — по два раза.\n",
    "\n",
    "Уточняющие вопросы:\n",
    "\n",
    "Можно ли использовать XOR?\n",
    "\n",
    "Все числа целые и в пределах int?\n",
    "\n",
    "Идея:\n",
    "Все числа в XOR сократятся, кроме одного.\n",
    "\n",
    "Как XOR помогает решить задачу?\n",
    "В задаче все числа встречаются дважды, кроме одного. XOR идеально подходит, потому что:\n",
    "\n",
    "Если число встречается дважды, то при XOR оно \"аннигилирует\" себя:\n",
    "\n",
    "a ^ a = 0\n",
    "\n",
    "Если число встречается один раз, оно останется в результате:\n",
    "\n",
    "0 ^ a = a\n",
    "\n",
    "Порядок чисел не важен благодаря коммутативности и ассоциативности:\n",
    "\n",
    "a ^ b ^ a ^ c ^ b = (a ^ a) ^ (b ^ b) ^ c = 0 ^ 0 ^ c = c"
   ]
  },
  {
   "cell_type": "code",
   "execution_count": null,
   "id": "4dc9f7bf",
   "metadata": {},
   "outputs": [],
   "source": [
    "def singleNumber(nums):\n",
    "    result = 0\n",
    "    for num in nums:\n",
    "        result ^= num\n",
    "    return result\n"
   ]
  },
  {
   "cell_type": "markdown",
   "id": "d1a69f08",
   "metadata": {},
   "source": [
    "15. Evaluate Reverse Polish Notation\n",
    "🔗 https://leetcode.com/problems/evaluate-reverse-polish-notation/description/\n",
    "\n",
    "Условие:\n",
    "Посчитать значение выражения в обратной польской записи.\n",
    "\n",
    "Уточняющие вопросы:\n",
    "\n",
    "Все ли операнды целые?\n",
    "\n",
    "Только стандартные операторы?\n",
    "\n",
    "Идея:\n",
    "Стек: при встрече оператора извлекаем два числа и кладём результат."
   ]
  },
  {
   "cell_type": "code",
   "execution_count": null,
   "id": "861e5c32",
   "metadata": {},
   "outputs": [],
   "source": [
    "def evalRPN(tokens):\n",
    "    stack = []\n",
    "    for token in tokens:\n",
    "        if token in \"+-*/\":\n",
    "            b = stack.pop()\n",
    "            a = stack.pop()\n",
    "            if token == '+': stack.append(a + b)\n",
    "            elif token == '-': stack.append(a - b)\n",
    "            elif token == '*': stack.append(a * b)\n",
    "            elif token == '/': stack.append(int(a / b))  # truncate toward zero\n",
    "        else:\n",
    "            stack.append(int(token))\n",
    "    return stack[0]\n"
   ]
  },
  {
   "cell_type": "markdown",
   "id": "98848b5e",
   "metadata": {},
   "source": [
    "16. Merge Two Sorted Lists\n",
    "🔗 https://leetcode.com/problems/merge-two-sorted-lists/description/\n",
    "\n",
    "Условие:\n",
    "Слить два отсортированных связных списка в один отсортированный.\n",
    "\n",
    "Уточняющие вопросы:\n",
    "\n",
    "Можно ли менять оригинальные списки?\n",
    "\n",
    "Что если один из них пуст?\n",
    "\n",
    "Идея:\n",
    "Итеративно проходить оба списка и сравнивать текущие значения."
   ]
  },
  {
   "cell_type": "code",
   "execution_count": null,
   "id": "02c32a85",
   "metadata": {},
   "outputs": [],
   "source": [
    "def mergeTwoLists(l1, l2):\n",
    "    dummy = ListNode()\n",
    "    current = dummy\n",
    "\n",
    "    while l1 and l2:\n",
    "        if l1.val < l2.val:\n",
    "            current.next = l1\n",
    "            l1 = l1.next\n",
    "        else:\n",
    "            current.next = l2\n",
    "            l2 = l2.next\n",
    "        current = current.next\n",
    "\n",
    "    current.next = l1 if l1 else l2\n",
    "    return dummy.next\n"
   ]
  },
  {
   "cell_type": "markdown",
   "id": "e0452a2e",
   "metadata": {},
   "source": [
    "17. Binary Tree Maximum Path Sum\n",
    "🔗 https://leetcode.com/problems/binary-tree-maximum-path-sum/description/\n",
    "\n",
    "Условие:\n",
    "Найти путь в бинарном дереве с максимальной суммой (путь может начинаться и заканчиваться в любом узле).\n",
    "\n",
    "Уточняющие вопросы:\n",
    "\n",
    "Могут ли быть отрицательные значения?\n",
    "\n",
    "Можно ли использовать глобальную переменную?\n",
    "\n",
    "Идея:\n",
    "DFS, на каждом узле считаем максимум из левого и правого пути, глобально обновляем максимум."
   ]
  },
  {
   "cell_type": "code",
   "execution_count": null,
   "id": "7eec8c09",
   "metadata": {},
   "outputs": [],
   "source": [
    "def maxPathSum(root):\n",
    "    max_sum = float('-inf')\n",
    "\n",
    "    def dfs(node):\n",
    "        nonlocal max_sum\n",
    "        if not node:\n",
    "            return 0\n",
    "        left = max(dfs(node.left), 0)\n",
    "        right = max(dfs(node.right), 0)\n",
    "        max_sum = max(max_sum, node.val + left + right)\n",
    "        return node.val + max(left, right)\n",
    "\n",
    "    dfs(root)\n",
    "    return max_sum\n"
   ]
  },
  {
   "cell_type": "markdown",
   "id": "21224193",
   "metadata": {},
   "source": [
    "18. Intersection of Two Arrays II\n",
    "🔗 https://leetcode.com/problems/intersection-of-two-arrays-ii/description/\n",
    "\n",
    "Условие:\n",
    "Найти пересечение двух массивов, включая повторяющиеся элементы.\n",
    "\n",
    "Уточняющие вопросы:\n",
    "\n",
    "Учитываются ли дубликаты?\n",
    "\n",
    "Можно ли использовать хеш-таблицу?\n",
    "\n",
    "Идея:\n",
    "Считаем частоты одного массива и проходим по второму."
   ]
  },
  {
   "cell_type": "code",
   "execution_count": null,
   "id": "ada7ff9a",
   "metadata": {},
   "outputs": [],
   "source": [
    "from collections import Counter\n",
    "\n",
    "def intersect(nums1, nums2):\n",
    "    count = Counter(nums1)\n",
    "    res = []\n",
    "    for num in nums2:\n",
    "        if count[num] > 0:\n",
    "            res.append(num)\n",
    "            count[num] -= 1\n",
    "    return res\n"
   ]
  },
  {
   "cell_type": "markdown",
   "id": "cff10f0a",
   "metadata": {},
   "source": [
    "19. Median of Two Sorted Arrays\n",
    "🔗 https://leetcode.com/problems/median-of-two-sorted-arrays/description/\n",
    "\n",
    "Условие:\n",
    "Найти медиану двух отсортированных массивов за O(log(min(n, m))).\n",
    "\n",
    "Уточняющие вопросы:\n",
    "\n",
    "Можно ли использовать бинарный поиск?\n",
    "\n",
    "Массивы могут быть пустыми?\n",
    "\n",
    "Идея:\n",
    "Ищем правильное разбиение двух массивов бинарным поиском по меньшему из них.\n",
    "\n",
    "✍️ Пусть:\n",
    "A и B — два массива, где A короче либо равен по длине B.\n",
    "\n",
    "i — количество элементов из A в левой части.\n",
    "\n",
    "j = (n + m) // 2 - i — количество элементов из B в левой части (чтобы всего в левой части было half = (n + m) // 2 элементов).\n",
    "\n",
    "Найдем такой i и j, чтобы:\n",
    "\n",
    "A[:i]      | A[i:]\n",
    "-----------|-----------\n",
    "B[:j]      | B[j:]\n",
    "и условие:\n",
    "\n",
    "max(A[i - 1], B[j - 1]) <= min(A[i], B[j])\n",
    "Если это так, то:\n",
    "\n",
    "Если общее количество элементов чётное → медиана = среднее из max(left) и min(right)\n",
    "\n",
    "Если нечётное → медиана = min(right)\n",
    "\n"
   ]
  },
  {
   "cell_type": "code",
   "execution_count": null,
   "id": "7fca8b37",
   "metadata": {},
   "outputs": [
    {
     "data": {
      "text/plain": [
       "3.5"
      ]
     },
     "execution_count": 6,
     "metadata": {},
     "output_type": "execute_result"
    }
   ],
   "source": [
    "def findMedianSortedArrays(nums1, nums2):\n",
    "    A, B = nums1, nums2\n",
    "    if len(A) > len(B):\n",
    "        A, B = B, A\n",
    "    total = len(A) + len(B)\n",
    "    half = total // 2\n",
    "\n",
    "    l, r = 0, len(A)\n",
    "    while l <= r: # важно именно <=\n",
    "        i = (l + r) // 2\n",
    "        j = half - i\n",
    "        \n",
    "        Aleft = A[i - 1] if i > 0 else float('-inf')\n",
    "        Aright = A[i] if i < len(A) else float('inf')\n",
    "        Bleft = B[j - 1] if j > 0 else float('-inf')\n",
    "        Bright = B[j] if j < len(B) else float('inf')\n",
    "\n",
    "        # A[:i]      | A[i:]\n",
    "        # -----------|-----------\n",
    "        # B[:j]      | B[j:]\n",
    "\n",
    "        if max(Aleft, Bleft) <= min(Aright, Bright): # важно именно <=\n",
    "            if total % 2:\n",
    "                return min(Aright, Bright)\n",
    "            return (max(Aleft, Bleft) + min(Aright, Bright)) / 2\n",
    "        elif Aleft > Bright:\n",
    "            r = i - 1\n",
    "        else:\n",
    "            l = i + 1\n",
    "\n",
    "findMedianSortedArrays([1, 3, 5], [2, 4, 6])"
   ]
  },
  {
   "cell_type": "markdown",
   "id": "1c14d308",
   "metadata": {},
   "source": [
    "20. Maximum Subarray\n",
    "🔗 https://leetcode.com/problems/maximum-subarray/description/\n",
    "\n",
    "Условие:\n",
    "Найти подмассив с максимальной суммой (не обязательно непрерывный).\n",
    "\n",
    "Уточняющие вопросы:\n",
    "\n",
    "Элементы могут быть отрицательными?\n",
    "\n",
    "Можно ли использовать O(1) памяти?\n",
    "\n",
    "Идея:\n",
    "Классический алгоритм Кадане (Kadane's algorithm)."
   ]
  },
  {
   "cell_type": "code",
   "execution_count": null,
   "id": "da9c0896",
   "metadata": {},
   "outputs": [],
   "source": [
    "def maxSubArray(nums):\n",
    "    max_sum = current_sum = nums[0]\n",
    "    for n in nums[1:]:\n",
    "        current_sum = max(n, current_sum + n)\n",
    "        max_sum = max(max_sum, current_sum)\n",
    "    return max_sum\n"
   ]
  },
  {
   "cell_type": "markdown",
   "id": "db9ee193",
   "metadata": {},
   "source": [
    "21. Range Sum of BST\n",
    "🔗 https://leetcode.com/problems/range-sum-of-bst/description/\n",
    "\n",
    "Условие:\n",
    "Дан BST и диапазон [low, high]. Найти сумму всех узлов, попадающих в диапазон.\n",
    "\n",
    "Уточняющие вопросы:\n",
    "\n",
    "Гарантируется ли корректность дерева?\n",
    "\n",
    "Можно ли использовать DFS?\n",
    "\n",
    "Идея:\n",
    "Рекурсивный DFS с проверкой: если узел < low — идём вправо, если > high — влево."
   ]
  },
  {
   "cell_type": "code",
   "execution_count": null,
   "id": "9cf68a1f",
   "metadata": {},
   "outputs": [],
   "source": [
    "def rangeSumBST(root, low, high):\n",
    "    if not root:\n",
    "        return 0\n",
    "    if root.val < low:\n",
    "        return rangeSumBST(root.right, low, high)\n",
    "    if root.val > high:\n",
    "        return rangeSumBST(root.left, low, high)\n",
    "    return root.val + rangeSumBST(root.left, low, high) + rangeSumBST(root.right, low, high)\n"
   ]
  },
  {
   "cell_type": "markdown",
   "id": "b2170b43",
   "metadata": {},
   "source": [
    "22. Reverse Words in a String III\n",
    "🔗 https://leetcode.com/problems/reverse-words-in-a-string-iii/description/\n",
    "\n",
    "Условие:\n",
    "Развернуть каждое слово в строке, сохранив порядок слов.\n",
    "\n",
    "Уточняющие вопросы:\n",
    "\n",
    "Можно ли использовать .split()?\n",
    "\n",
    "Гарантируется ли корректное разделение пробелами?\n",
    "\n",
    "Идея:\n",
    "Разделить строку по пробелам, перевернуть каждое слово, соединить обратно."
   ]
  },
  {
   "cell_type": "code",
   "execution_count": null,
   "id": "411ed816",
   "metadata": {},
   "outputs": [],
   "source": [
    "def reverseWords(s):\n",
    "    return ' '.join(word[::-1] for word in s.split())"
   ]
  },
  {
   "cell_type": "markdown",
   "id": "10fd3f31",
   "metadata": {},
   "source": [
    "23. Symmetric Tree\n",
    "🔗 https://leetcode.com/problems/symmetric-tree/description/\n",
    "\n",
    "Условие:\n",
    "Проверить, является ли дерево зеркальным.\n",
    "\n",
    "Уточняющие вопросы:\n",
    "\n",
    "Корректность входного дерева?\n",
    "\n",
    "Пустое дерево — симметрично?\n",
    "\n",
    "Идея:\n",
    "Рекурсивно сравниваем левое и правое поддерево как зеркальные."
   ]
  },
  {
   "cell_type": "code",
   "execution_count": null,
   "id": "4b8c9ef5",
   "metadata": {},
   "outputs": [],
   "source": [
    "def isSymmetric(root):\n",
    "    def isMirror(t1, t2):\n",
    "        if not t1 and not t2: return True\n",
    "        if not t1 or not t2: return False\n",
    "        return (t1.val == t2.val and\n",
    "                isMirror(t1.left, t2.right) and\n",
    "                isMirror(t1.right, t2.left))\n",
    "    return isMirror(root, root)\n"
   ]
  },
  {
   "cell_type": "markdown",
   "id": "b1eea77c",
   "metadata": {},
   "source": [
    "24. Is Subsequence\n",
    "🔗 https://leetcode.com/problems/is-subsequence/description/\n",
    "\n",
    "Условие:\n",
    "Проверить, является ли строка s подпоследовательностью строки t.\n",
    "\n",
    "Уточняющие вопросы:\n",
    "\n",
    "Символы только ASCII?\n",
    "\n",
    "Какова длина строк?\n",
    "\n",
    "Идея:\n",
    "Итерироваться по t, продвигая указатель s."
   ]
  },
  {
   "cell_type": "code",
   "execution_count": null,
   "id": "d37e321f",
   "metadata": {},
   "outputs": [],
   "source": [
    "def isSubsequence(s, t):\n",
    "    i = 0\n",
    "    for c in t:\n",
    "        if i < len(s) and s[i] == c:\n",
    "            i += 1\n",
    "    return i == len(s)\n"
   ]
  },
  {
   "cell_type": "markdown",
   "id": "1a63fb1f",
   "metadata": {},
   "source": [
    "25. Remove Nth Node From End of List\n",
    "🔗 https://leetcode.com/problems/remove-nth-node-from-end-of-list/description/\n",
    "\n",
    "Условие:\n",
    "Удалить n-й узел с конца списка.\n",
    "\n",
    "Уточняющие вопросы:\n",
    "\n",
    "Можно ли проходить список дважды?\n",
    "\n",
    "Нужно ли удалять голову?\n",
    "\n",
    "Идея:\n",
    "Два указателя с расстоянием n между ними."
   ]
  },
  {
   "cell_type": "code",
   "execution_count": null,
   "id": "2b19d247",
   "metadata": {},
   "outputs": [],
   "source": [
    "def removeNthFromEnd(head, n):\n",
    "    dummy = ListNode(0, head)\n",
    "    slow = fast = dummy\n",
    "    for _ in range(n):\n",
    "        fast = fast.next\n",
    "    while fast.next:\n",
    "        fast = fast.next\n",
    "        slow = slow.next\n",
    "    slow.next = slow.next.next\n",
    "    return dummy.next\n"
   ]
  },
  {
   "cell_type": "markdown",
   "id": "747c3a9f",
   "metadata": {},
   "source": [
    "26. Binary Tree Zigzag Level Order Traversal\n",
    "🔗 https://leetcode.com/problems/binary-tree-zigzag-level-order-traversal/description/\n",
    "\n",
    "Условие:\n",
    "Вывести уровни дерева зигзагом: слева направо, затем справа налево и так далее.\n",
    "\n",
    "Уточняющие вопросы:\n",
    "\n",
    "Можно ли использовать очередь?\n",
    "\n",
    "Какой формат вывода?\n",
    "\n",
    "Идея:\n",
    "BFS + флаг “в каком направлении” на каждом уровне."
   ]
  },
  {
   "cell_type": "code",
   "execution_count": null,
   "id": "8b62b133",
   "metadata": {},
   "outputs": [],
   "source": [
    "def zigzagLevelOrder(root):\n",
    "    if not root:\n",
    "        return []\n",
    "    res, queue, left_to_right = [], [root], True\n",
    "    while queue:\n",
    "        level = []\n",
    "        next_queue = []\n",
    "        for node in queue:\n",
    "            level.append(node.val)\n",
    "            if node.left: next_queue.append(node.left)\n",
    "            if node.right: next_queue.append(node.right)\n",
    "        res.append(level if left_to_right else level[::-1])\n",
    "        queue = next_queue\n",
    "        left_to_right = not left_to_right\n",
    "    return res\n"
   ]
  },
  {
   "cell_type": "markdown",
   "id": "800d2a9e",
   "metadata": {},
   "source": [
    "27. Number of Students Doing Homework at a Given Time\n",
    "🔗 https://leetcode.com/problems/number-of-students-doing-homework-at-a-given-time/description/\n",
    "\n",
    "Условие:\n",
    "Дан список начальных и конечных времён выполнения д/з студентами. Вернуть, сколько студентов делают д/з в момент queryTime.\n",
    "\n",
    "Уточняющие вопросы:\n",
    "\n",
    "Включительно ли время?\n",
    "\n",
    "Всегда ли startTime <= endTime?\n",
    "\n",
    "Идея:\n",
    "Проход по списку, считаем если start <= query <= end."
   ]
  },
  {
   "cell_type": "code",
   "execution_count": null,
   "id": "120f5aaf",
   "metadata": {},
   "outputs": [],
   "source": [
    "def busyStudent(startTime, endTime, queryTime):\n",
    "    return sum(start <= queryTime <= end for start, end in zip(startTime, endTime))\n"
   ]
  },
  {
   "cell_type": "markdown",
   "id": "84580bf4",
   "metadata": {},
   "source": [
    "28. Partition Labels\n",
    "🔗 https://leetcode.com/problems/partition-labels/description/\n",
    "\n",
    "Условие:\n",
    "Разделить строку на как можно больше частей так, чтобы каждый символ встречался только в одной части.\n",
    "\n",
    "Уточняющие вопросы:\n",
    "\n",
    "Можно ли менять порядок символов?\n",
    "\n",
    "Какой размер строки?\n",
    "\n",
    "Идея:\n",
    "Сначала определить последний индекс каждого символа. Затем итерироваться и определять границы блока.\n",
    "\n",
    "Решение:"
   ]
  },
  {
   "cell_type": "code",
   "execution_count": null,
   "id": "8a7b065d",
   "metadata": {},
   "outputs": [],
   "source": [
    "def partitionLabels(s):\n",
    "    last = {c: i for i, c in enumerate(s)}\n",
    "    res = []\n",
    "    start = end = 0\n",
    "    for i, c in enumerate(s):\n",
    "        end = max(end, last[c])\n",
    "        if i == end:\n",
    "            res.append(end - start + 1)\n",
    "            start = i + 1\n",
    "    return res"
   ]
  },
  {
   "cell_type": "markdown",
   "id": "48627f17",
   "metadata": {},
   "source": [
    "29. Merge K Sorted Lists\n",
    "🔗 https://leetcode.com/problems/merge-k-sorted-lists/description/\n",
    "\n",
    "Условие:\n",
    "Слить k отсортированных списков в один отсортированный список.\n",
    "\n",
    "Уточняющие вопросы:\n",
    "\n",
    "Можно ли использовать приоритетную очередь (heap)?\n",
    "\n",
    "Может ли список быть пустым?\n",
    "\n",
    "Идея:\n",
    "Min-heap + трек текущих узлов."
   ]
  },
  {
   "cell_type": "code",
   "execution_count": null,
   "id": "150cfc0b",
   "metadata": {},
   "outputs": [],
   "source": [
    "import heapq\n",
    "\n",
    "def mergeKLists(lists):\n",
    "    heap = []\n",
    "    for i, l in enumerate(lists):\n",
    "        if l:\n",
    "            heapq.heappush(heap, (l.val, i, l))\n",
    "    dummy = ListNode()\n",
    "    curr = dummy\n",
    "    while heap:\n",
    "        val, i, node = heapq.heappop(heap)\n",
    "        curr.next = node\n",
    "        curr = curr.next\n",
    "        if node.next:\n",
    "            heapq.heappush(heap, (node.next.val, i, node.next))\n",
    "    return dummy.next\n"
   ]
  },
  {
   "cell_type": "markdown",
   "id": "539177d9",
   "metadata": {},
   "source": [
    "30. Valid Anagram\n",
    "🔗 https://leetcode.com/problems/valid-anagram/description/\n",
    "\n",
    "Условие:\n",
    "Проверить, являются ли две строки анаграммами.\n",
    "\n",
    "Уточняющие вопросы:\n",
    "\n",
    "Все буквы строчные?\n",
    "\n",
    "Учитываются ли пробелы или регистр?\n",
    "\n",
    "Идея:\n",
    "Сравнить отсортированные строки или использовать счётчики."
   ]
  },
  {
   "cell_type": "code",
   "execution_count": null,
   "id": "a11bff69",
   "metadata": {},
   "outputs": [],
   "source": [
    "def isAnagram(s, t):\n",
    "    from collections import Counter\n",
    "    return Counter(s) == Counter(t)\n"
   ]
  },
  {
   "cell_type": "markdown",
   "id": "87f0c938",
   "metadata": {},
   "source": [
    "31. Sum of Left Leaves\n",
    "🔗 https://leetcode.com/problems/sum-of-left-leaves/description/\n",
    "\n",
    "Условие:\n",
    "Найти сумму всех левых листьев в бинарном дереве. Левым считается лист, который является левым дочерним узлом своего родителя и не имеет потомков.\n",
    "\n",
    "Уточняющие вопросы:\n",
    "\n",
    "Можно ли использовать рекурсию?\n",
    "\n",
    "Дерево может быть пустым?\n",
    "\n",
    "Идея решения:\n",
    "Пройтись по дереву в глубину (DFS). На каждом узле проверить, есть ли у него левый дочерний элемент, который является листом (то есть не имеет потомков). Если да — прибавляем его значение к сумме. Рекурсивно продолжаем обход дерева влево и вправо. Важно явно проверять, что левый узел — именно лист, иначе можно учесть промежуточные узлы."
   ]
  },
  {
   "cell_type": "code",
   "execution_count": null,
   "id": "3e14b103",
   "metadata": {},
   "outputs": [],
   "source": [
    "def sumOfLeftLeaves(root):\n",
    "    if not root:\n",
    "        return 0\n",
    "    total = 0\n",
    "    if root.left and not root.left.left and not root.left.right:\n",
    "        total += root.left.val\n",
    "    return total + sumOfLeftLeaves(root.left) + sumOfLeftLeaves(root.right)\n"
   ]
  },
  {
   "cell_type": "markdown",
   "id": "ada204fb",
   "metadata": {},
   "source": [
    "32. Two Sum II – Input Array Is Sorted\n",
    "🔗 https://leetcode.com/problems/two-sum-ii-input-array-is-sorted/description/\n",
    "\n",
    "Условие:\n",
    "Дан отсортированный массив и целевое значение target. Найти два числа, сумма которых равна target, и вернуть их индексы (1-based).\n",
    "\n",
    "Уточняющие вопросы:\n",
    "\n",
    "Есть ли гарантированное решение?\n",
    "\n",
    "Можно ли использовать два указателя?\n",
    "\n",
    "Идея решения:\n",
    "Поскольку массив отсортирован, эффективно использовать два указателя: один указывает на начало массива, другой — на конец. Если сумма элементов на указателях меньше цели — сдвигаем левый указатель вправо. Если больше — правый указатель влево. Если равна — возвращаем индексы. Этот подход работает за O(n) времени и не требует дополнительной памяти."
   ]
  },
  {
   "cell_type": "code",
   "execution_count": null,
   "id": "18343ac6",
   "metadata": {},
   "outputs": [],
   "source": [
    "def twoSum(numbers, target):\n",
    "    left, right = 0, len(numbers) - 1\n",
    "    while left < right:\n",
    "        curr = numbers[left] + numbers[right]\n",
    "        if curr == target:\n",
    "            return [left + 1, right + 1]\n",
    "        elif curr < target:\n",
    "            left += 1\n",
    "        else:\n",
    "            right -= 1\n"
   ]
  },
  {
   "cell_type": "markdown",
   "id": "7c9973d1",
   "metadata": {},
   "source": [
    "33. Multiply Strings\n",
    "🔗 https://leetcode.com/problems/multiply-strings/description/\n",
    "\n",
    "Условие:\n",
    "Умножить два неотрицательных числа, представленных в виде строк, и вернуть результат также в виде строки. Нельзя использовать встроенные типы для работы с большими числами.\n",
    "\n",
    "Уточняющие вопросы:\n",
    "\n",
    "Можно ли использовать массивы для промежуточных вычислений?\n",
    "\n",
    "Числа могут быть очень длинными?\n",
    "\n",
    "Идея решения:\n",
    "Имплементировать классическое умножение столбиком: для каждой цифры второго числа (справа налево) умножаем на каждую цифру первого, сохраняем произведение в соответствующую позицию массива (в зависимости от индексов), затем обрабатываем переносы (carry). В конце формируем строку из результата, пропуская ведущие нули."
   ]
  },
  {
   "cell_type": "code",
   "execution_count": null,
   "id": "cb0f78ae",
   "metadata": {},
   "outputs": [],
   "source": [
    "def multiply(num1, num2):\n",
    "    if num1 == \"0\" or num2 == \"0\":\n",
    "        return \"0\"\n",
    "    res = [0] * (len(num1) + len(num2))\n",
    "    for i in reversed(range(len(num1))):\n",
    "        for j in reversed(range(len(num2))):\n",
    "            mul = int(num1[i]) * int(num2[j])\n",
    "            pos1, pos2 = i + j, i + j + 1\n",
    "            total = mul + res[pos2]\n",
    "            res[pos1] += total // 10\n",
    "            res[pos2] = total % 10\n",
    "    result = ''.join(map(str, res)).lstrip('0')\n",
    "    return result\n"
   ]
  },
  {
   "cell_type": "markdown",
   "id": "32df3b90",
   "metadata": {},
   "source": [
    "34. Remove Duplicates from Sorted Array\n",
    "🔗 https://leetcode.com/problems/remove-duplicates-from-sorted-array/description/\n",
    "\n",
    "Условие:\n",
    "Удалить дубликаты из отсортированного массива in-place и вернуть длину новой части с уникальными элементами.\n",
    "\n",
    "Уточняющие вопросы:\n",
    "\n",
    "Можно ли использовать дополнительную память? (ответ — нет)\n",
    "\n",
    "Что возвращать: длину или сам список?\n",
    "\n",
    "Идея решения:\n",
    "Используем два указателя: один для текущей позиции вставки (write), другой проходит по массиву (read). Если текущий элемент отличается от предыдущего — записываем его в write и увеличиваем счётчик. В итоге все уникальные элементы оказываются в начале массива."
   ]
  },
  {
   "cell_type": "code",
   "execution_count": null,
   "id": "a026cb52",
   "metadata": {},
   "outputs": [],
   "source": [
    "def removeDuplicates(nums):\n",
    "    if not nums:\n",
    "        return 0\n",
    "    write = 1\n",
    "    for read in range(1, len(nums)):\n",
    "        if nums[read] != nums[read - 1]:\n",
    "            nums[write] = nums[read]\n",
    "            write += 1\n",
    "    return write\n"
   ]
  },
  {
   "cell_type": "markdown",
   "id": "03dfed9e",
   "metadata": {},
   "source": [
    "35. Same Tree\n",
    "🔗 https://leetcode.com/problems/same-tree/description/\n",
    "\n",
    "Условие:\n",
    "Проверить, одинаковы ли два бинарных дерева.\n",
    "\n",
    "Уточняющие вопросы:\n",
    "\n",
    "Нужно ли учитывать структуру дерева? (да)\n",
    "\n",
    "Значения могут дублироваться?\n",
    "\n",
    "Идея решения:\n",
    "Рекурсивно сравниваем корни деревьев, затем левое и правое поддерево. Деревья одинаковы, если значения текущих узлов равны и обе пары поддеревьев равны. Также учитываем базовые случаи — оба узла пусты или один из них пуст."
   ]
  },
  {
   "cell_type": "code",
   "execution_count": null,
   "id": "36b79175",
   "metadata": {},
   "outputs": [],
   "source": [
    "def isSameTree(p, q):\n",
    "    if not p and not q:\n",
    "        return True\n",
    "    if not p or not q or p.val != q.val:\n",
    "        return False\n",
    "    return isSameTree(p.left, q.left) and isSameTree(p.right, q.right)\n"
   ]
  },
  {
   "cell_type": "markdown",
   "id": "0d4131e9",
   "metadata": {},
   "source": [
    "36. Roman to Integer\n",
    "🔗 https://leetcode.com/problems/roman-to-integer/description/\n",
    "\n",
    "Условие:\n",
    "Преобразовать римское число в целое.\n",
    "\n",
    "Уточняющие вопросы:\n",
    "\n",
    "Будут ли некорректные комбинации?\n",
    "\n",
    "Все символы в верхнем регистре?\n",
    "\n",
    "Идея решения:\n",
    "Пройтись по строке и складывать значения символов, но если текущий символ меньше следующего — это вычитание (например, IV = 5 - 1). Используем словарь для хранения значений и обычный цикл."
   ]
  },
  {
   "cell_type": "code",
   "execution_count": null,
   "id": "269e567b",
   "metadata": {},
   "outputs": [],
   "source": [
    "def romanToInt(s):\n",
    "    roman = {'I': 1, 'V': 5, 'X': 10, 'L': 50, 'C': 100, 'D': 500, 'M': 1000}\n",
    "    res = 0\n",
    "    for i in range(len(s)):\n",
    "        if i + 1 < len(s) and roman[s[i]] < roman[s[i + 1]]:\n",
    "            res -= roman[s[i]]\n",
    "        else:\n",
    "            res += roman[s[i]]\n",
    "    return res\n"
   ]
  },
  {
   "cell_type": "markdown",
   "id": "eaabe6e6",
   "metadata": {},
   "source": [
    "37. Binary Search\n",
    "🔗 http://leetcode.com/problems/binary-search/description/\n",
    "\n",
    "Условие:\n",
    "Реализовать бинарный поиск в отсортированном массиве.\n",
    "\n",
    "Уточняющие вопросы:\n",
    "\n",
    "Массив отсортирован по возрастанию?\n",
    "\n",
    "Есть ли дубликаты?\n",
    "\n",
    "Идея решения:\n",
    "Классический бинарный поиск: задаем границы left и right, находим mid, сравниваем с целевым значением и сдвигаем границы соответствующим образом."
   ]
  },
  {
   "cell_type": "code",
   "execution_count": null,
   "id": "3921b23c",
   "metadata": {},
   "outputs": [],
   "source": [
    "def search(nums, target):\n",
    "    l, r = 0, len(nums)\n",
    "    \n",
    "    while l < r:\n",
    "        mid = (l + r) // 2\n",
    "\n",
    "        if nums[mid] == target:\n",
    "            return mid\n",
    "        elif nums[mid] < target:\n",
    "            l = mid + 1\n",
    "        else:\n",
    "            r = mid\n",
    "    return -1\n"
   ]
  },
  {
   "cell_type": "markdown",
   "id": "c0c8ca1d",
   "metadata": {},
   "source": [
    "38. Maximum Depth of Binary Tree\n",
    "🔗 https://leetcode.com/problems/maximum-depth-of-binary-tree/description/\n",
    "\n",
    "Условие:\n",
    "Найти максимальную глубину бинарного дерева.\n",
    "\n",
    "Уточняющие вопросы:\n",
    "\n",
    "Пустое дерево — глубина 0?\n",
    "\n",
    "Можно ли использовать рекурсию?\n",
    "\n",
    "Идея решения:\n",
    "Рекурсивно вычисляем глубину левого и правого поддеревьев, берём максимум и добавляем 1 (текущий узел). Базовый случай — если узел None, глубина 0."
   ]
  },
  {
   "cell_type": "code",
   "execution_count": null,
   "id": "02fbda58",
   "metadata": {},
   "outputs": [],
   "source": [
    "def maxDepth(root):\n",
    "    if not root:\n",
    "        return 0\n",
    "    return 1 + max(maxDepth(root.left), maxDepth(root.right))\n"
   ]
  }
 ],
 "metadata": {
  "kernelspec": {
   "display_name": "base",
   "language": "python",
   "name": "python3"
  },
  "language_info": {
   "codemirror_mode": {
    "name": "ipython",
    "version": 3
   },
   "file_extension": ".py",
   "mimetype": "text/x-python",
   "name": "python",
   "nbconvert_exporter": "python",
   "pygments_lexer": "ipython3",
   "version": "3.12.3"
  }
 },
 "nbformat": 4,
 "nbformat_minor": 5
}
