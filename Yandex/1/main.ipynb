{
 "cells": [
  {
   "cell_type": "code",
   "execution_count": null,
   "id": "f8a66749",
   "metadata": {},
   "outputs": [
    {
     "name": "stdout",
     "output_type": "stream",
     "text": [
      "-1\n"
     ]
    }
   ],
   "source": [
    "#1\n",
    "n = int(input())\n",
    "\n",
    "a = list(map(int, input().split()))\n",
    "\n",
    "\n",
    "dist = {}\n",
    "min_dist = float('inf')\n",
    "\n",
    "for i in range(n):\n",
    "    if a[i] in dist:\n",
    "        d = i - dist[a[i]] - 1\n",
    "        min_dist = min(min_dist, d)\n",
    "    dist[a[i]] = i\n",
    "\n",
    "if min_dist == float('inf'):\n",
    "    print(-1)\n",
    "\n",
    "else:\n",
    "    print(min_dist)\n"
   ]
  },
  {
   "cell_type": "code",
   "execution_count": null,
   "id": "b6b6576a",
   "metadata": {},
   "outputs": [
    {
     "name": "stdout",
     "output_type": "stream",
     "text": [
      "8\n"
     ]
    }
   ],
   "source": [
    "#2\n",
    "import sys\n",
    "sys.setrecursionlimit(1 << 25)\n",
    "input = sys.stdin.readline\n",
    "\n",
    "n = int(input())\n",
    "graph = [[] for _ in range(n)]\n",
    "\n",
    "for _ in range(n - 1):\n",
    "    u, v, t = map(int, input().split())\n",
    "    u -= 1\n",
    "    v -= 1\n",
    "    graph[u].append((v, t))\n",
    "    graph[v].append((u, t))\n",
    "\n",
    "def dfs(node, parent, dist, dists):\n",
    "    dists[node] = dist\n",
    "    for neighbor, weight in graph[node]:\n",
    "        if neighbor != parent:\n",
    "            dfs(neighbor, node, dist + weight, dists)\n",
    "\n",
    "d1 = [-1] * n\n",
    "dfs(0, -1, 0, d1)\n",
    "far1 = d1.index(max(d1))\n",
    "\n",
    "d2 = [-1] * n\n",
    "dfs(far1, -1, 0, d2)\n",
    "far2 = d2.index(max(d2))\n",
    "\n",
    "d3 = [-1] * n\n",
    "dfs(far2, -1, 0, d3)\n",
    "\n",
    "best_node = min(range(n), key=lambda i: max(d2[i], d3[i]))\n",
    "print(best_node + 1)\n"
   ]
  },
  {
   "cell_type": "code",
   "execution_count": 5,
   "id": "3cc1b2c6",
   "metadata": {},
   "outputs": [
    {
     "name": "stdout",
     "output_type": "stream",
     "text": [
      "YES\n",
      "0.36578263136179245 -0.45332928270792583 0.0728834737922226\n"
     ]
    }
   ],
   "source": [
    "import numpy as np\n",
    "\n",
    "def main():\n",
    "    n = 3\n",
    "    m = 3\n",
    "\n",
    "    A = np.array([\n",
    "        [1, 0, 0],\n",
    "        [0, 1, 0],\n",
    "        [0, 0, 1]\n",
    "    ])\n",
    "\n",
    "    B = np.array([\n",
    "        [1, 1, 1],\n",
    "        [1, 1, 1],\n",
    "        [1, 1, 0]\n",
    "    ])\n",
    "\n",
    "    for _ in range(10000):  # пробуем много случайных векторов\n",
    "        x = np.random.uniform(-1, 1, n)\n",
    "        if np.all(np.abs(x) < 1e-8):\n",
    "            continue\n",
    "\n",
    "        x1 = A @ x\n",
    "        x2 = np.maximum(0, x1)\n",
    "        if np.all(np.abs(x2) < 1e-8):\n",
    "            continue\n",
    "\n",
    "        x3 = B @ x2\n",
    "        mx = np.max(x3)\n",
    "        count = np.sum(np.abs(x3 - mx) < 1e-8)\n",
    "\n",
    "        if count >= 2:\n",
    "            print(\"YES\")\n",
    "            print(' '.join(map(str, x)))\n",
    "            return\n",
    "\n",
    "    print(\"NO\")\n",
    "\n",
    "if __name__ == \"__main__\":\n",
    "    main()\n"
   ]
  },
  {
   "cell_type": "code",
   "execution_count": 11,
   "id": "6015a5bc",
   "metadata": {},
   "outputs": [
    {
     "name": "stdout",
     "output_type": "stream",
     "text": [
      "Requirement already satisfied: hmmlearn in c:\\users\\admin\\appdata\\local\\programs\\python\\python312\\lib\\site-packages (0.3.3)\n",
      "Requirement already satisfied: numpy>=1.10 in c:\\users\\admin\\appdata\\local\\programs\\python\\python312\\lib\\site-packages (from hmmlearn) (2.3.1)\n",
      "Requirement already satisfied: scikit-learn!=0.22.0,>=0.16 in c:\\users\\admin\\appdata\\local\\programs\\python\\python312\\lib\\site-packages (from hmmlearn) (1.7.0)\n",
      "Requirement already satisfied: scipy>=0.19 in c:\\users\\admin\\appdata\\local\\programs\\python\\python312\\lib\\site-packages (from hmmlearn) (1.16.0)\n",
      "Requirement already satisfied: joblib>=1.2.0 in c:\\users\\admin\\appdata\\local\\programs\\python\\python312\\lib\\site-packages (from scikit-learn!=0.22.0,>=0.16->hmmlearn) (1.5.1)\n",
      "Requirement already satisfied: threadpoolctl>=3.1.0 in c:\\users\\admin\\appdata\\local\\programs\\python\\python312\\lib\\site-packages (from scikit-learn!=0.22.0,>=0.16->hmmlearn) (3.6.0)\n"
     ]
    },
    {
     "name": "stderr",
     "output_type": "stream",
     "text": [
      "\n",
      "[notice] A new release of pip is available: 24.3.1 -> 25.1.1\n",
      "[notice] To update, run: C:\\Users\\Admin\\AppData\\Local\\Programs\\Python\\Python312\\python.exe -m pip install --upgrade pip\n"
     ]
    }
   ],
   "source": [
    "!pip install hmmlearn"
   ]
  },
  {
   "cell_type": "code",
   "execution_count": 1,
   "id": "dbae8b06",
   "metadata": {},
   "outputs": [
    {
     "ename": "ModuleNotFoundError",
     "evalue": "No module named 'hmmlearn'",
     "output_type": "error",
     "traceback": [
      "\u001b[1;31m---------------------------------------------------------------------------\u001b[0m",
      "\u001b[1;31mModuleNotFoundError\u001b[0m                       Traceback (most recent call last)",
      "Cell \u001b[1;32mIn[1], line 4\u001b[0m\n\u001b[0;32m      1\u001b[0m \u001b[38;5;66;03m#4\u001b[39;00m\n\u001b[0;32m      3\u001b[0m \u001b[38;5;28;01mimport\u001b[39;00m \u001b[38;5;21;01mnumpy\u001b[39;00m \u001b[38;5;28;01mas\u001b[39;00m \u001b[38;5;21;01mnp\u001b[39;00m\n\u001b[1;32m----> 4\u001b[0m \u001b[38;5;28;01mfrom\u001b[39;00m \u001b[38;5;21;01mhmmlearn\u001b[39;00m \u001b[38;5;28;01mimport\u001b[39;00m hmm\n\u001b[0;32m      6\u001b[0m observations_ \u001b[38;5;241m=\u001b[39m \u001b[38;5;124m'\u001b[39m\u001b[38;5;124mLMMHMLMMLLHMMHL\u001b[39m\u001b[38;5;124m'\u001b[39m\n\u001b[0;32m      7\u001b[0m to_int \u001b[38;5;241m=\u001b[39m {\u001b[38;5;124m'\u001b[39m\u001b[38;5;124mL\u001b[39m\u001b[38;5;124m'\u001b[39m: \u001b[38;5;241m0\u001b[39m, \u001b[38;5;124m'\u001b[39m\u001b[38;5;124mM\u001b[39m\u001b[38;5;124m'\u001b[39m: \u001b[38;5;241m1\u001b[39m, \u001b[38;5;124m'\u001b[39m\u001b[38;5;124mH\u001b[39m\u001b[38;5;124m'\u001b[39m: \u001b[38;5;241m2\u001b[39m}\n",
      "\u001b[1;31mModuleNotFoundError\u001b[0m: No module named 'hmmlearn'"
     ]
    }
   ],
   "source": [
    "#4\n",
    "\n",
    "import numpy as np\n",
    "from hmmlearn import hmm\n",
    "\n",
    "observations_ = 'LMMHMLMMLLHMMHL'\n",
    "to_int = {'L': 0, 'M': 1, 'H': 2}\n",
    "obs = np.array([to_int[char] for char in observations_])\n",
    "\n",
    "model = hmm.CategoricalHMM(\n",
    "    n_components=2, \n",
    "    n_features=3,\n",
    "    n_iter=1000,\n",
    "    tol=1e-6,\n",
    "    verbose=True,\n",
    "    init_params=\"\",\n",
    "    params=\"\",\n",
    "    algorithm=\"map\", \n",
    ")\n",
    "model.startprob_ = np.array([1, 0])\n",
    "model.transmat_ = np.array([\n",
    "    [0.5, 0.5],\n",
    "    [0.5, 0.5],\n",
    "])\n",
    "model.emissionprob_ = np.array([\n",
    "    [0.6, 0.3, 0.1],\n",
    "    [0.2, 0.3, 0.5],\n",
    "])\n",
    "obs_2d = obs.reshape(-1, 1)\n",
    "model.fit(obs_2d)\n",
    "hidden_states = model.predict(obs_2d)\n",
    "int_to_state = {0: 'G', 1: 'B'}\n",
    "''.join([int_to_state[st] for st in hidden_states])"
   ]
  },
  {
   "cell_type": "code",
   "execution_count": 3,
   "id": "c26e1e49",
   "metadata": {},
   "outputs": [
    {
     "ename": "ModuleNotFoundError",
     "evalue": "No module named 'sklearn'",
     "output_type": "error",
     "traceback": [
      "\u001b[1;31m---------------------------------------------------------------------------\u001b[0m",
      "\u001b[1;31mModuleNotFoundError\u001b[0m                       Traceback (most recent call last)",
      "Cell \u001b[1;32mIn[3], line 4\u001b[0m\n\u001b[0;32m      1\u001b[0m \u001b[38;5;66;03m#5\u001b[39;00m\n\u001b[0;32m      3\u001b[0m \u001b[38;5;28;01mimport\u001b[39;00m \u001b[38;5;21;01mpandas\u001b[39;00m \u001b[38;5;28;01mas\u001b[39;00m \u001b[38;5;21;01mpd\u001b[39;00m\n\u001b[1;32m----> 4\u001b[0m \u001b[38;5;28;01mfrom\u001b[39;00m \u001b[38;5;21;01msklearn\u001b[39;00m\u001b[38;5;21;01m.\u001b[39;00m\u001b[38;5;21;01mfeature_extraction\u001b[39;00m\u001b[38;5;21;01m.\u001b[39;00m\u001b[38;5;21;01mtext\u001b[39;00m \u001b[38;5;28;01mimport\u001b[39;00m TfidfVectorizer\n\u001b[0;32m      5\u001b[0m \u001b[38;5;28;01mfrom\u001b[39;00m \u001b[38;5;21;01msklearn\u001b[39;00m\u001b[38;5;21;01m.\u001b[39;00m\u001b[38;5;21;01mpipeline\u001b[39;00m \u001b[38;5;28;01mimport\u001b[39;00m Pipeline\n\u001b[0;32m      6\u001b[0m \u001b[38;5;28;01mfrom\u001b[39;00m \u001b[38;5;21;01msklearn\u001b[39;00m\u001b[38;5;21;01m.\u001b[39;00m\u001b[38;5;21;01mlinear_model\u001b[39;00m \u001b[38;5;28;01mimport\u001b[39;00m LogisticRegression\n",
      "\u001b[1;31mModuleNotFoundError\u001b[0m: No module named 'sklearn'"
     ]
    }
   ],
   "source": [
    "#5\n",
    "\n",
    "import pandas as pd\n",
    "from sklearn.feature_extraction.text import TfidfVectorizer\n",
    "from sklearn.pipeline import Pipeline\n",
    "from sklearn.linear_model import LogisticRegression\n",
    "\n",
    "# 1. Загрузка данных\n",
    "train = pd.read_csv('data/train.csv')\n",
    "test = pd.read_csv('data/test.csv')\n",
    "\n",
    "# 2. Обучающие признаки и метки\n",
    "X_train = train['word_name']\n",
    "y_train = train['class_name']\n",
    "X_test = test['word_name']\n",
    "\n",
    "# 3. Векторизация + Классификатор\n",
    "model = Pipeline([\n",
    "    ('tfidf', TfidfVectorizer(analyzer='char', ngram_range=(2, 4))),\n",
    "    ('clf', LogisticRegression(max_iter=1000, random_state=42))\n",
    "])\n"
   ]
  },
  {
   "cell_type": "code",
   "execution_count": null,
   "id": "afcc29fb",
   "metadata": {},
   "outputs": [],
   "source": [
    "train"
   ]
  },
  {
   "cell_type": "code",
   "execution_count": null,
   "id": "8711f08e",
   "metadata": {},
   "outputs": [],
   "source": [
    "# 4. Обучение\n",
    "model.fit(X_train, y_train)\n",
    "\n",
    "# 5. Предсказание\n",
    "predictions = model.predict(X_test)\n",
    "\n",
    "# 6. Сохранение результата\n",
    "output = test.copy()\n",
    "output['class_name'] = predictions\n",
    "output.to_csv('submission.csv', index=False, line_terminator='\\n')"
   ]
  }
 ],
 "metadata": {
  "kernelspec": {
   "display_name": "Python 3",
   "language": "python",
   "name": "python3"
  },
  "language_info": {
   "codemirror_mode": {
    "name": "ipython",
    "version": 3
   },
   "file_extension": ".py",
   "mimetype": "text/x-python",
   "name": "python",
   "nbconvert_exporter": "python",
   "pygments_lexer": "ipython3",
   "version": "3.10.7"
  }
 },
 "nbformat": 4,
 "nbformat_minor": 5
}
