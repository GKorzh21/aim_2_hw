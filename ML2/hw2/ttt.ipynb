{
 "cells": [
  {
   "cell_type": "code",
   "execution_count": 1,
   "id": "2357d852",
   "metadata": {},
   "outputs": [
    {
     "data": {
      "text/html": [
       "<div><style>\n",
       ".dataframe > thead > tr,\n",
       ".dataframe > tbody > tr {\n",
       "  text-align: right;\n",
       "  white-space: pre-wrap;\n",
       "}\n",
       "</style>\n",
       "<small>shape: (77_958_181, 6)</small><table border=\"1\" class=\"dataframe\"><thead><tr><th>user_id</th><th>timestamp</th><th>search_query</th><th>action_type_id</th><th>widget_name_id</th><th>cluster</th></tr><tr><td>i32</td><td>datetime[ns]</td><td>str</td><td>i8</td><td>i8</td><td>i64</td></tr></thead><tbody><tr><td>1403825</td><td>2024-03-02 19:16:19</td><td>&quot;колонка алиса&quot;</td><td>4</td><td>23</td><td>15</td></tr><tr><td>10278224</td><td>2024-07-29 12:10:06</td><td>&quot;батончик&quot;</td><td>4</td><td>23</td><td>6</td></tr><tr><td>8162261</td><td>2024-04-24 06:27:10</td><td>&quot;hipp combiotic 1&quot;</td><td>4</td><td>23</td><td>13</td></tr><tr><td>10909038</td><td>2024-07-12 04:00:02</td><td>&quot;бриошь&quot;</td><td>4</td><td>23</td><td>7</td></tr><tr><td>9148523</td><td>2024-04-28 06:58:12</td><td>&quot;нарезка&quot;</td><td>4</td><td>23</td><td>9</td></tr><tr><td>&hellip;</td><td>&hellip;</td><td>&hellip;</td><td>&hellip;</td><td>&hellip;</td><td>&hellip;</td></tr><tr><td>2180647</td><td>2024-04-29 13:37:09</td><td>&quot;курица&quot;</td><td>4</td><td>2</td><td>9</td></tr><tr><td>608362</td><td>2024-03-21 07:28:36</td><td>&quot;мыло&quot;</td><td>4</td><td>2</td><td>10</td></tr><tr><td>1632238</td><td>2024-05-22 17:42:56</td><td>&quot;фасоль&quot;</td><td>4</td><td>2</td><td>18</td></tr><tr><td>9102289</td><td>2024-06-18 19:10:08</td><td>&quot;торт чистая линия&quot;</td><td>4</td><td>2</td><td>19</td></tr><tr><td>1311776</td><td>2024-07-03 08:35:11</td><td>&quot;сосиски&quot;</td><td>4</td><td>2</td><td>9</td></tr></tbody></table></div>"
      ],
      "text/plain": [
       "shape: (77_958_181, 6)\n",
       "┌──────────┬─────────────────────┬───────────────────┬────────────────┬────────────────┬─────────┐\n",
       "│ user_id  ┆ timestamp           ┆ search_query      ┆ action_type_id ┆ widget_name_id ┆ cluster │\n",
       "│ ---      ┆ ---                 ┆ ---               ┆ ---            ┆ ---            ┆ ---     │\n",
       "│ i32      ┆ datetime[ns]        ┆ str               ┆ i8             ┆ i8             ┆ i64     │\n",
       "╞══════════╪═════════════════════╪═══════════════════╪════════════════╪════════════════╪═════════╡\n",
       "│ 1403825  ┆ 2024-03-02 19:16:19 ┆ колонка алиса     ┆ 4              ┆ 23             ┆ 15      │\n",
       "│ 10278224 ┆ 2024-07-29 12:10:06 ┆ батончик          ┆ 4              ┆ 23             ┆ 6       │\n",
       "│ 8162261  ┆ 2024-04-24 06:27:10 ┆ hipp combiotic 1  ┆ 4              ┆ 23             ┆ 13      │\n",
       "│ 10909038 ┆ 2024-07-12 04:00:02 ┆ бриошь            ┆ 4              ┆ 23             ┆ 7       │\n",
       "│ 9148523  ┆ 2024-04-28 06:58:12 ┆ нарезка           ┆ 4              ┆ 23             ┆ 9       │\n",
       "│ …        ┆ …                   ┆ …                 ┆ …              ┆ …              ┆ …       │\n",
       "│ 2180647  ┆ 2024-04-29 13:37:09 ┆ курица            ┆ 4              ┆ 2              ┆ 9       │\n",
       "│ 608362   ┆ 2024-03-21 07:28:36 ┆ мыло              ┆ 4              ┆ 2              ┆ 10      │\n",
       "│ 1632238  ┆ 2024-05-22 17:42:56 ┆ фасоль            ┆ 4              ┆ 2              ┆ 18      │\n",
       "│ 9102289  ┆ 2024-06-18 19:10:08 ┆ торт чистая линия ┆ 4              ┆ 2              ┆ 19      │\n",
       "│ 1311776  ┆ 2024-07-03 08:35:11 ┆ сосиски           ┆ 4              ┆ 2              ┆ 9       │\n",
       "└──────────┴─────────────────────┴───────────────────┴────────────────┴────────────────┴─────────┘"
      ]
     },
     "execution_count": 1,
     "metadata": {},
     "output_type": "execute_result"
    }
   ],
   "source": [
    "import polars as pl\n",
    "import pandas as pd\n",
    "import numpy as np\n",
    "import catboost\n",
    "import os\n",
    "from datetime import date, timedelta\n",
    "from itertools import combinations\n",
    "\n",
    "from local_utils import *\n",
    "import lightgbm as lg\n",
    "\n",
    "test_start_date = date(2024, 8, 1)\n",
    "val_start_date = date(2024, 7, 1)\n",
    "val_end_date = date(2024, 7, 31)\n",
    "train_end_date = date(2024, 6, 30)\n",
    "data_path = \"C:\\\\Users\\\\Admin\\\\Desktop\\\\AIM 2сем\\\\ML2\\\\hw2\"\n",
    "\n",
    "search_history = pl.scan_parquet(os.path.join(data_path, 'cluster_search_full/*.parquet')).collect()\n",
    "search_history"
   ]
  },
  {
   "cell_type": "code",
   "execution_count": null,
   "id": "6e9eba9b",
   "metadata": {},
   "outputs": [],
   "source": []
  }
 ],
 "metadata": {
  "kernelspec": {
   "display_name": "base",
   "language": "python",
   "name": "python3"
  },
  "language_info": {
   "codemirror_mode": {
    "name": "ipython",
    "version": 3
   },
   "file_extension": ".py",
   "mimetype": "text/x-python",
   "name": "python",
   "nbconvert_exporter": "python",
   "pygments_lexer": "ipython3",
   "version": "3.12.3"
  }
 },
 "nbformat": 4,
 "nbformat_minor": 5
}
