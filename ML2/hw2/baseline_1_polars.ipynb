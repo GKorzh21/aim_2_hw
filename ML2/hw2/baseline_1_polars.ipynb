{
 "cells": [
  {
   "cell_type": "code",
   "execution_count": 1,
   "id": "8dd61847-b601-4712-a864-2aca5f52e4cd",
   "metadata": {},
   "outputs": [],
   "source": [
    "import polars as pl\n",
    "import pandas as pd\n",
    "import numpy as np\n",
    "import catboost\n",
    "import os\n",
    "from datetime import date, timedelta"
   ]
  },
  {
   "cell_type": "code",
   "execution_count": 2,
   "id": "f9c09b33",
   "metadata": {},
   "outputs": [],
   "source": [
    "test_start_date = date(2024, 8, 1)\n",
    "val_start_date = date(2024, 7, 1)\n",
    "val_end_date = date(2024, 7, 31)\n",
    "train_end_date = date(2024, 6, 30)\n",
    "data_path = './contest_1_data'"
   ]
  },
  {
   "cell_type": "markdown",
   "id": "18d547e5",
   "metadata": {},
   "source": [
    "# Read data"
   ]
  },
  {
   "cell_type": "code",
   "execution_count": 3,
   "id": "501ed599",
   "metadata": {},
   "outputs": [],
   "source": [
    "actions_history = pl.read_parquet(os.path.join(data_path, 'actions_history'))\n",
    "search_history = pl.read_parquet(os.path.join(data_path, 'search_history'))\n",
    "product_information = pl.read_csv(os.path.join(data_path, 'product_information.csv'))"
   ]
  },
  {
   "cell_type": "code",
   "execution_count": 4,
   "id": "1c4fefc2",
   "metadata": {},
   "outputs": [
    {
     "data": {
      "text/html": [
       "<div><style>\n",
       ".dataframe > thead > tr,\n",
       ".dataframe > tbody > tr {\n",
       "  text-align: right;\n",
       "  white-space: pre-wrap;\n",
       "}\n",
       "</style>\n",
       "<small>shape: (6, 2)</small><table border=\"1\" class=\"dataframe\"><thead><tr><th>action_type</th><th>action_type_id</th></tr><tr><td>str</td><td>i64</td></tr></thead><tbody><tr><td>&quot;click&quot;</td><td>1</td></tr><tr><td>&quot;favorite&quot;</td><td>2</td></tr><tr><td>&quot;order&quot;</td><td>3</td></tr><tr><td>&quot;search&quot;</td><td>4</td></tr><tr><td>&quot;to_cart&quot;</td><td>5</td></tr><tr><td>&quot;view&quot;</td><td>6</td></tr></tbody></table></div>"
      ],
      "text/plain": [
       "shape: (6, 2)\n",
       "┌─────────────┬────────────────┐\n",
       "│ action_type ┆ action_type_id │\n",
       "│ ---         ┆ ---            │\n",
       "│ str         ┆ i64            │\n",
       "╞═════════════╪════════════════╡\n",
       "│ click       ┆ 1              │\n",
       "│ favorite    ┆ 2              │\n",
       "│ order       ┆ 3              │\n",
       "│ search      ┆ 4              │\n",
       "│ to_cart     ┆ 5              │\n",
       "│ view        ┆ 6              │\n",
       "└─────────────┴────────────────┘"
      ]
     },
     "execution_count": 4,
     "metadata": {},
     "output_type": "execute_result"
    }
   ],
   "source": [
    "pl.read_csv(os.path.join(data_path, 'action_type_info.csv'))"
   ]
  },
  {
   "cell_type": "code",
   "execution_count": 5,
   "id": "5d6028b1",
   "metadata": {},
   "outputs": [],
   "source": [
    "val_target = (\n",
    "    actions_history\n",
    "    .filter(pl.col('timestamp').dt.date() >= val_start_date)\n",
    "    .filter(pl.col('timestamp').dt.date() <= val_end_date)\n",
    "    .select('user_id', (pl.col('action_type_id') == 3).alias('has_order'))\n",
    "    .group_by('user_id')\n",
    "    .agg(pl.max('has_order').cast(pl.Int32).alias('target'))\n",
    ")"
   ]
  },
  {
   "cell_type": "code",
   "execution_count": 6,
   "id": "1667f5bf",
   "metadata": {},
   "outputs": [
    {
     "data": {
      "text/html": [
       "<div><style>\n",
       ".dataframe > thead > tr,\n",
       ".dataframe > tbody > tr {\n",
       "  text-align: right;\n",
       "  white-space: pre-wrap;\n",
       "}\n",
       "</style>\n",
       "<small>shape: (2, 2)</small><table border=\"1\" class=\"dataframe\"><thead><tr><th>target</th><th>user_id</th></tr><tr><td>i32</td><td>u32</td></tr></thead><tbody><tr><td>0</td><td>1227381</td></tr><tr><td>1</td><td>647575</td></tr></tbody></table></div>"
      ],
      "text/plain": [
       "shape: (2, 2)\n",
       "┌────────┬─────────┐\n",
       "│ target ┆ user_id │\n",
       "│ ---    ┆ ---     │\n",
       "│ i32    ┆ u32     │\n",
       "╞════════╪═════════╡\n",
       "│ 0      ┆ 1227381 │\n",
       "│ 1      ┆ 647575  │\n",
       "└────────┴─────────┘"
      ]
     },
     "execution_count": 6,
     "metadata": {},
     "output_type": "execute_result"
    }
   ],
   "source": [
    "val_target.group_by('target').agg(pl.count('user_id'))"
   ]
  },
  {
   "cell_type": "markdown",
   "id": "ff4eb9d7",
   "metadata": {},
   "source": [
    "# Simple pipeline"
   ]
  },
  {
   "cell_type": "markdown",
   "id": "2f6da3e2",
   "metadata": {},
   "source": [
    "## Feats"
   ]
  },
  {
   "cell_type": "code",
   "execution_count": 7,
   "id": "ca04d6c0",
   "metadata": {},
   "outputs": [],
   "source": [
    "actions_aggs = {}\n",
    "actions_id_to_suf = {\n",
    "    1: \"click\",\n",
    "    2: \"favorite\",\n",
    "    3: \"order\",\n",
    "    5: \"to_cart\",\n",
    "}\n",
    "for id_, suf in actions_id_to_suf.items():\n",
    "    aggs = (\n",
    "        actions_history\n",
    "        .filter(pl.col('timestamp').dt.date() <= train_end_date)\n",
    "        .filter(pl.col('timestamp').dt.date() >= train_end_date - timedelta(days=30 * 4))\n",
    "        .filter(pl.col('action_type_id') == id_)\n",
    "        .join(\n",
    "            product_information\n",
    "            .select('product_id', 'discount_price'),\n",
    "            on='product_id',\n",
    "        )\n",
    "        .group_by('user_id')\n",
    "        .agg(\n",
    "            pl.count('product_id').cast(pl.Int32).alias(f'num_products_{suf}'),\n",
    "            pl.sum('discount_price').cast(pl.Float32).alias(f'sum_discount_price_{suf}'),\n",
    "            pl.max('discount_price').cast(pl.Float32).alias(f'max_discount_price_{suf}'),\n",
    "            pl.max('timestamp').alias(f'last_{suf}_time'),\n",
    "            pl.min('timestamp').alias(f'first_{suf}_time'),\n",
    "        )\n",
    "        .with_columns([\n",
    "            (pl.lit(val_start_date) - pl.col(f'last_{suf}_time'))\n",
    "            .dt.total_days()\n",
    "            .cast(pl.Int32)\n",
    "            .alias(f'days_since_last_{suf}'),\n",
    "            \n",
    "            (pl.lit(val_start_date) - pl.col(f'first_{suf}_time'))\n",
    "            .dt.total_days()\n",
    "            .cast(pl.Int32)\n",
    "            .alias(f'days_since_first_{suf}'),\n",
    "        ])\n",
    "        .select(\n",
    "            'user_id',\n",
    "            f'num_products_{suf}',\n",
    "            f'sum_discount_price_{suf}',\n",
    "            f'max_discount_price_{suf}',\n",
    "            f'days_since_last_{suf}',\n",
    "            f'days_since_first_{suf}',\n",
    "        )\n",
    "    )\n",
    "    actions_aggs[id_] = aggs"
   ]
  },
  {
   "cell_type": "code",
   "execution_count": 8,
   "id": "cd88f106",
   "metadata": {},
   "outputs": [],
   "source": [
    "# search_aggs\n",
    "id_ = 4\n",
    "suf = 'search'\n",
    "actions_aggs[id_] = (\n",
    "    search_history\n",
    "    .filter(pl.col('action_type_id') == id_)\n",
    "    .filter(pl.col('timestamp').dt.date() <= train_end_date)\n",
    "    .filter(pl.col('timestamp').dt.date() >= train_end_date - timedelta(days=30 * 4))\n",
    "    .group_by('user_id')\n",
    "    .agg(\n",
    "        pl.count('search_query').cast(pl.Int32).alias(f'num_{suf}'),\n",
    "        pl.max('timestamp').alias(f'last_{suf}_time'),\n",
    "        pl.min('timestamp').alias(f'first_{suf}_time'),\n",
    "    )\n",
    "    .with_columns([\n",
    "        (pl.lit(val_start_date) - pl.col(f'last_{suf}_time'))\n",
    "        .dt.total_days()\n",
    "        .cast(pl.Int32)\n",
    "        .alias(f'days_since_last_{suf}'),\n",
    "\n",
    "        (pl.lit(val_start_date) - pl.col(f'first_{suf}_time'))\n",
    "        .dt.total_days()\n",
    "        .cast(pl.Int32)\n",
    "        .alias(f'days_since_first_{suf}'),\n",
    "    ])\n",
    "    .select(\n",
    "        'user_id',\n",
    "        f'num_{suf}',\n",
    "        f'days_since_last_{suf}',\n",
    "        f'days_since_first_{suf}',\n",
    "    )\n",
    ")"
   ]
  },
  {
   "cell_type": "code",
   "execution_count": 9,
   "id": "82b7d027",
   "metadata": {},
   "outputs": [
    {
     "data": {
      "text/plain": [
       "dict_keys([1, 2, 3, 5, 4])"
      ]
     },
     "execution_count": 9,
     "metadata": {},
     "output_type": "execute_result"
    }
   ],
   "source": [
    "actions_aggs.keys()"
   ]
  },
  {
   "cell_type": "code",
   "execution_count": 10,
   "id": "fe1726c6",
   "metadata": {},
   "outputs": [],
   "source": [
    "df = val_target\n",
    "for _, actions_aggs_df in actions_aggs.items():\n",
    "    df = (\n",
    "        df\n",
    "        .join(actions_aggs_df, on='user_id', how='left')\n",
    "    )"
   ]
  },
  {
   "cell_type": "code",
   "execution_count": 11,
   "id": "37ea1e99",
   "metadata": {},
   "outputs": [
    {
     "data": {
      "text/html": [
       "<div><style>\n",
       ".dataframe > thead > tr,\n",
       ".dataframe > tbody > tr {\n",
       "  text-align: right;\n",
       "  white-space: pre-wrap;\n",
       "}\n",
       "</style>\n",
       "<small>shape: (1_874_956, 25)</small><table border=\"1\" class=\"dataframe\"><thead><tr><th>user_id</th><th>target</th><th>num_products_click</th><th>sum_discount_price_click</th><th>max_discount_price_click</th><th>days_since_last_click</th><th>days_since_first_click</th><th>num_products_favorite</th><th>sum_discount_price_favorite</th><th>max_discount_price_favorite</th><th>days_since_last_favorite</th><th>days_since_first_favorite</th><th>num_products_order</th><th>sum_discount_price_order</th><th>max_discount_price_order</th><th>days_since_last_order</th><th>days_since_first_order</th><th>num_products_to_cart</th><th>sum_discount_price_to_cart</th><th>max_discount_price_to_cart</th><th>days_since_last_to_cart</th><th>days_since_first_to_cart</th><th>num_search</th><th>days_since_last_search</th><th>days_since_first_search</th></tr><tr><td>i32</td><td>i32</td><td>i32</td><td>f32</td><td>f32</td><td>i32</td><td>i32</td><td>i32</td><td>f32</td><td>f32</td><td>i32</td><td>i32</td><td>i32</td><td>f32</td><td>f32</td><td>i32</td><td>i32</td><td>i32</td><td>f32</td><td>f32</td><td>i32</td><td>i32</td><td>i32</td><td>i32</td><td>i32</td></tr></thead><tbody><tr><td>8396630</td><td>1</td><td>40</td><td>5929.0</td><td>1573.0</td><td>32</td><td>77</td><td>null</td><td>null</td><td>null</td><td>null</td><td>null</td><td>48</td><td>5357.0</td><td>469.0</td><td>25</td><td>62</td><td>100</td><td>11175.0</td><td>366.0</td><td>25</td><td>77</td><td>109</td><td>25</td><td>77</td></tr><tr><td>4002134</td><td>0</td><td>null</td><td>null</td><td>null</td><td>null</td><td>null</td><td>null</td><td>null</td><td>null</td><td>null</td><td>null</td><td>null</td><td>null</td><td>null</td><td>null</td><td>null</td><td>null</td><td>null</td><td>null</td><td>null</td><td>null</td><td>null</td><td>null</td><td>null</td></tr><tr><td>7471569</td><td>0</td><td>8</td><td>3274.0</td><td>884.0</td><td>2</td><td>104</td><td>5</td><td>1141.0</td><td>431.0</td><td>2</td><td>15</td><td>null</td><td>null</td><td>null</td><td>null</td><td>null</td><td>null</td><td>null</td><td>null</td><td>null</td><td>null</td><td>8</td><td>2</td><td>104</td></tr><tr><td>2215920</td><td>1</td><td>23</td><td>6856.0</td><td>690.0</td><td>8</td><td>52</td><td>null</td><td>null</td><td>null</td><td>null</td><td>null</td><td>5</td><td>1859.0</td><td>999.0</td><td>8</td><td>8</td><td>17</td><td>4679.0</td><td>999.0</td><td>8</td><td>52</td><td>5</td><td>52</td><td>52</td></tr><tr><td>5604459</td><td>0</td><td>2</td><td>864.0</td><td>555.0</td><td>32</td><td>32</td><td>null</td><td>null</td><td>null</td><td>null</td><td>null</td><td>null</td><td>null</td><td>null</td><td>null</td><td>null</td><td>null</td><td>null</td><td>null</td><td>null</td><td>null</td><td>2</td><td>32</td><td>32</td></tr><tr><td>&hellip;</td><td>&hellip;</td><td>&hellip;</td><td>&hellip;</td><td>&hellip;</td><td>&hellip;</td><td>&hellip;</td><td>&hellip;</td><td>&hellip;</td><td>&hellip;</td><td>&hellip;</td><td>&hellip;</td><td>&hellip;</td><td>&hellip;</td><td>&hellip;</td><td>&hellip;</td><td>&hellip;</td><td>&hellip;</td><td>&hellip;</td><td>&hellip;</td><td>&hellip;</td><td>&hellip;</td><td>&hellip;</td><td>&hellip;</td><td>&hellip;</td></tr><tr><td>7009223</td><td>0</td><td>null</td><td>null</td><td>null</td><td>null</td><td>null</td><td>null</td><td>null</td><td>null</td><td>null</td><td>null</td><td>null</td><td>null</td><td>null</td><td>null</td><td>null</td><td>null</td><td>null</td><td>null</td><td>null</td><td>null</td><td>null</td><td>null</td><td>null</td></tr><tr><td>10870981</td><td>0</td><td>null</td><td>null</td><td>null</td><td>null</td><td>null</td><td>null</td><td>null</td><td>null</td><td>null</td><td>null</td><td>null</td><td>null</td><td>null</td><td>null</td><td>null</td><td>null</td><td>null</td><td>null</td><td>null</td><td>null</td><td>null</td><td>null</td><td>null</td></tr><tr><td>5620956</td><td>1</td><td>56</td><td>32253.0</td><td>2406.0</td><td>54</td><td>120</td><td>null</td><td>null</td><td>null</td><td>null</td><td>null</td><td>null</td><td>null</td><td>null</td><td>null</td><td>null</td><td>38</td><td>10697.0</td><td>1541.0</td><td>54</td><td>120</td><td>104</td><td>11</td><td>120</td></tr><tr><td>2145367</td><td>1</td><td>19</td><td>8635.0</td><td>1525.0</td><td>0</td><td>117</td><td>null</td><td>null</td><td>null</td><td>null</td><td>null</td><td>2</td><td>1858.0</td><td>1390.0</td><td>0</td><td>0</td><td>29</td><td>15475.0</td><td>1390.0</td><td>0</td><td>116</td><td>56</td><td>0</td><td>117</td></tr><tr><td>2950431</td><td>0</td><td>null</td><td>null</td><td>null</td><td>null</td><td>null</td><td>null</td><td>null</td><td>null</td><td>null</td><td>null</td><td>null</td><td>null</td><td>null</td><td>null</td><td>null</td><td>null</td><td>null</td><td>null</td><td>null</td><td>null</td><td>null</td><td>null</td><td>null</td></tr></tbody></table></div>"
      ],
      "text/plain": [
       "shape: (1_874_956, 25)\n",
       "┌──────────┬────────┬────────────┬────────────┬───┬────────────┬───────────┬───────────┬───────────┐\n",
       "│ user_id  ┆ target ┆ num_produc ┆ sum_discou ┆ … ┆ days_since ┆ num_searc ┆ days_sinc ┆ days_sinc │\n",
       "│ ---      ┆ ---    ┆ ts_click   ┆ nt_price_c ┆   ┆ _first_to_ ┆ h         ┆ e_last_se ┆ e_first_s │\n",
       "│ i32      ┆ i32    ┆ ---        ┆ lick       ┆   ┆ cart       ┆ ---       ┆ arch      ┆ earch     │\n",
       "│          ┆        ┆ i32        ┆ ---        ┆   ┆ ---        ┆ i32       ┆ ---       ┆ ---       │\n",
       "│          ┆        ┆            ┆ f32        ┆   ┆ i32        ┆           ┆ i32       ┆ i32       │\n",
       "╞══════════╪════════╪════════════╪════════════╪═══╪════════════╪═══════════╪═══════════╪═══════════╡\n",
       "│ 8396630  ┆ 1      ┆ 40         ┆ 5929.0     ┆ … ┆ 77         ┆ 109       ┆ 25        ┆ 77        │\n",
       "│ 4002134  ┆ 0      ┆ null       ┆ null       ┆ … ┆ null       ┆ null      ┆ null      ┆ null      │\n",
       "│ 7471569  ┆ 0      ┆ 8          ┆ 3274.0     ┆ … ┆ null       ┆ 8         ┆ 2         ┆ 104       │\n",
       "│ 2215920  ┆ 1      ┆ 23         ┆ 6856.0     ┆ … ┆ 52         ┆ 5         ┆ 52        ┆ 52        │\n",
       "│ 5604459  ┆ 0      ┆ 2          ┆ 864.0      ┆ … ┆ null       ┆ 2         ┆ 32        ┆ 32        │\n",
       "│ …        ┆ …      ┆ …          ┆ …          ┆ … ┆ …          ┆ …         ┆ …         ┆ …         │\n",
       "│ 7009223  ┆ 0      ┆ null       ┆ null       ┆ … ┆ null       ┆ null      ┆ null      ┆ null      │\n",
       "│ 10870981 ┆ 0      ┆ null       ┆ null       ┆ … ┆ null       ┆ null      ┆ null      ┆ null      │\n",
       "│ 5620956  ┆ 1      ┆ 56         ┆ 32253.0    ┆ … ┆ 120        ┆ 104       ┆ 11        ┆ 120       │\n",
       "│ 2145367  ┆ 1      ┆ 19         ┆ 8635.0     ┆ … ┆ 116        ┆ 56        ┆ 0         ┆ 117       │\n",
       "│ 2950431  ┆ 0      ┆ null       ┆ null       ┆ … ┆ null       ┆ null      ┆ null      ┆ null      │\n",
       "└──────────┴────────┴────────────┴────────────┴───┴────────────┴───────────┴───────────┴───────────┘"
      ]
     },
     "execution_count": 11,
     "metadata": {},
     "output_type": "execute_result"
    }
   ],
   "source": [
    "df"
   ]
  },
  {
   "cell_type": "code",
   "execution_count": 12,
   "id": "ecc97ffe",
   "metadata": {},
   "outputs": [],
   "source": [
    "df_pd = df.to_pandas()"
   ]
  },
  {
   "cell_type": "code",
   "execution_count": 13,
   "id": "8727426f",
   "metadata": {},
   "outputs": [],
   "source": [
    "mask = df_pd.user_id % 10 <= 6"
   ]
  },
  {
   "cell_type": "code",
   "execution_count": 14,
   "id": "111d1355",
   "metadata": {},
   "outputs": [
    {
     "data": {
      "text/plain": [
       "Index(['user_id', 'target', 'num_products_click', 'sum_discount_price_click',\n",
       "       'max_discount_price_click', 'days_since_last_click',\n",
       "       'days_since_first_click', 'num_products_favorite',\n",
       "       'sum_discount_price_favorite', 'max_discount_price_favorite',\n",
       "       'days_since_last_favorite', 'days_since_first_favorite',\n",
       "       'num_products_order', 'sum_discount_price_order',\n",
       "       'max_discount_price_order', 'days_since_last_order',\n",
       "       'days_since_first_order', 'num_products_to_cart',\n",
       "       'sum_discount_price_to_cart', 'max_discount_price_to_cart',\n",
       "       'days_since_last_to_cart', 'days_since_first_to_cart', 'num_search',\n",
       "       'days_since_last_search', 'days_since_first_search'],\n",
       "      dtype='object')"
      ]
     },
     "execution_count": 14,
     "metadata": {},
     "output_type": "execute_result"
    }
   ],
   "source": [
    "df_pd.columns"
   ]
  },
  {
   "cell_type": "code",
   "execution_count": 15,
   "id": "12c2a743",
   "metadata": {},
   "outputs": [],
   "source": [
    "cols = [\n",
    "    'num_products_click', \n",
    "    'sum_discount_price_click', 'max_discount_price_click',\n",
    "    'days_since_last_click', 'days_since_first_click',\n",
    "    'num_products_favorite', 'sum_discount_price_favorite',\n",
    "    'max_discount_price_favorite', 'days_since_last_favorite',\n",
    "    'days_since_first_favorite', 'num_products_order',\n",
    "    'sum_discount_price_order', 'max_discount_price_order',\n",
    "    'days_since_last_order', 'days_since_first_order',\n",
    "    'num_products_to_cart', 'sum_discount_price_to_cart',\n",
    "    'max_discount_price_to_cart', 'days_since_last_to_cart',\n",
    "    'days_since_first_to_cart', 'num_search', 'days_since_last_search',\n",
    "    'days_since_first_search'\n",
    "]"
   ]
  },
  {
   "cell_type": "code",
   "execution_count": 16,
   "id": "0dbbe123",
   "metadata": {},
   "outputs": [],
   "source": [
    "train_pool = catboost.Pool(\n",
    "    df_pd.loc[mask, cols],\n",
    "    label=df_pd.loc[mask].target,\n",
    ")\n",
    "eval_pool = catboost.Pool(\n",
    "    df_pd.loc[~mask, cols],\n",
    "    label=df_pd.loc[~mask].target,\n",
    ")"
   ]
  },
  {
   "cell_type": "code",
   "execution_count": 17,
   "id": "561b37c7",
   "metadata": {},
   "outputs": [
    {
     "data": {
      "text/plain": [
       "((1311636, 23), (563320, 23))"
      ]
     },
     "execution_count": 17,
     "metadata": {},
     "output_type": "execute_result"
    }
   ],
   "source": [
    "train_pool.shape, eval_pool.shape"
   ]
  },
  {
   "cell_type": "code",
   "execution_count": 18,
   "id": "5e30798a",
   "metadata": {},
   "outputs": [],
   "source": [
    "params = {\n",
    "    'iterations': 200,\n",
    "    'depth': 7, \n",
    "    'learning_rate': 0.1, \n",
    "    'random_state': 1,\n",
    "    'eval_metric': 'AUC',\n",
    "    'loss_function': 'Logloss',\n",
    "    'task_type': 'CPU',\n",
    "}"
   ]
  },
  {
   "cell_type": "code",
   "execution_count": 19,
   "id": "f051518e",
   "metadata": {},
   "outputs": [
    {
     "name": "stdout",
     "output_type": "stream",
     "text": [
      "0:\ttest: 0.7434360\tbest: 0.7434360 (0)\ttotal: 148ms\tremaining: 29.4s\n",
      "10:\ttest: 0.7529930\tbest: 0.7529930 (10)\ttotal: 1s\tremaining: 17.3s\n",
      "20:\ttest: 0.7545880\tbest: 0.7545880 (20)\ttotal: 1.94s\tremaining: 16.5s\n",
      "30:\ttest: 0.7556178\tbest: 0.7556178 (30)\ttotal: 2.82s\tremaining: 15.4s\n",
      "40:\ttest: 0.7562415\tbest: 0.7562415 (40)\ttotal: 3.79s\tremaining: 14.7s\n",
      "50:\ttest: 0.7566539\tbest: 0.7566539 (50)\ttotal: 4.64s\tremaining: 13.6s\n",
      "60:\ttest: 0.7570755\tbest: 0.7570755 (60)\ttotal: 5.52s\tremaining: 12.6s\n",
      "70:\ttest: 0.7573763\tbest: 0.7573763 (70)\ttotal: 6.51s\tremaining: 11.8s\n",
      "80:\ttest: 0.7576114\tbest: 0.7576114 (80)\ttotal: 7.5s\tremaining: 11s\n",
      "90:\ttest: 0.7577298\tbest: 0.7577298 (90)\ttotal: 8.64s\tremaining: 10.4s\n",
      "100:\ttest: 0.7578923\tbest: 0.7578923 (100)\ttotal: 9.71s\tremaining: 9.52s\n",
      "110:\ttest: 0.7579738\tbest: 0.7579738 (110)\ttotal: 10.6s\tremaining: 8.5s\n",
      "120:\ttest: 0.7581052\tbest: 0.7581100 (119)\ttotal: 11.6s\tremaining: 7.58s\n",
      "130:\ttest: 0.7581896\tbest: 0.7581896 (130)\ttotal: 12.5s\tremaining: 6.58s\n",
      "140:\ttest: 0.7583120\tbest: 0.7583120 (140)\ttotal: 13.4s\tremaining: 5.62s\n",
      "150:\ttest: 0.7583956\tbest: 0.7584046 (149)\ttotal: 14.4s\tremaining: 4.67s\n",
      "160:\ttest: 0.7584832\tbest: 0.7584832 (159)\ttotal: 15.2s\tremaining: 3.69s\n",
      "170:\ttest: 0.7586299\tbest: 0.7586299 (170)\ttotal: 16.1s\tremaining: 2.74s\n",
      "180:\ttest: 0.7586707\tbest: 0.7586707 (180)\ttotal: 17s\tremaining: 1.79s\n",
      "190:\ttest: 0.7587066\tbest: 0.7587223 (188)\ttotal: 18s\tremaining: 846ms\n",
      "199:\ttest: 0.7588182\tbest: 0.7588224 (198)\ttotal: 18.8s\tremaining: 0us\n",
      "\n",
      "bestTest = 0.7588223572\n",
      "bestIteration = 198\n",
      "\n",
      "Shrink model to first 199 iterations.\n"
     ]
    },
    {
     "data": {
      "text/plain": [
       "<catboost.core.CatBoost at 0x5c5e0eee0>"
      ]
     },
     "execution_count": 19,
     "metadata": {},
     "output_type": "execute_result"
    }
   ],
   "source": [
    "model = catboost.CatBoost(params)\n",
    "model.fit(\n",
    "    train_pool, \n",
    "    eval_set=eval_pool,\n",
    "    use_best_model=True,\n",
    "    verbose=10,\n",
    "    early_stopping_rounds=50,\n",
    ")"
   ]
  },
  {
   "cell_type": "code",
   "execution_count": 20,
   "id": "a1d74a8e",
   "metadata": {},
   "outputs": [],
   "source": [
    "name = 'baseline_1'\n",
    "model.save_model(f\"{name}.bin\")"
   ]
  },
  {
   "cell_type": "code",
   "execution_count": 21,
   "id": "f668478c",
   "metadata": {},
   "outputs": [
    {
     "data": {
      "text/html": [
       "<div>\n",
       "<style scoped>\n",
       "    .dataframe tbody tr th:only-of-type {\n",
       "        vertical-align: middle;\n",
       "    }\n",
       "\n",
       "    .dataframe tbody tr th {\n",
       "        vertical-align: top;\n",
       "    }\n",
       "\n",
       "    .dataframe thead th {\n",
       "        text-align: right;\n",
       "    }\n",
       "</style>\n",
       "<table border=\"1\" class=\"dataframe\">\n",
       "  <thead>\n",
       "    <tr style=\"text-align: right;\">\n",
       "      <th></th>\n",
       "      <th>Feature Id</th>\n",
       "      <th>Importances</th>\n",
       "    </tr>\n",
       "  </thead>\n",
       "  <tbody>\n",
       "    <tr>\n",
       "      <th>0</th>\n",
       "      <td>sum_discount_price_order</td>\n",
       "      <td>21.308621</td>\n",
       "    </tr>\n",
       "    <tr>\n",
       "      <th>1</th>\n",
       "      <td>days_since_last_order</td>\n",
       "      <td>13.264524</td>\n",
       "    </tr>\n",
       "    <tr>\n",
       "      <th>2</th>\n",
       "      <td>num_products_order</td>\n",
       "      <td>11.837515</td>\n",
       "    </tr>\n",
       "    <tr>\n",
       "      <th>3</th>\n",
       "      <td>days_since_first_order</td>\n",
       "      <td>10.314186</td>\n",
       "    </tr>\n",
       "    <tr>\n",
       "      <th>4</th>\n",
       "      <td>num_products_to_cart</td>\n",
       "      <td>5.783077</td>\n",
       "    </tr>\n",
       "    <tr>\n",
       "      <th>5</th>\n",
       "      <td>max_discount_price_order</td>\n",
       "      <td>5.602779</td>\n",
       "    </tr>\n",
       "    <tr>\n",
       "      <th>6</th>\n",
       "      <td>sum_discount_price_to_cart</td>\n",
       "      <td>5.341387</td>\n",
       "    </tr>\n",
       "    <tr>\n",
       "      <th>7</th>\n",
       "      <td>num_products_click</td>\n",
       "      <td>4.140900</td>\n",
       "    </tr>\n",
       "    <tr>\n",
       "      <th>8</th>\n",
       "      <td>num_search</td>\n",
       "      <td>4.033538</td>\n",
       "    </tr>\n",
       "    <tr>\n",
       "      <th>9</th>\n",
       "      <td>days_since_last_to_cart</td>\n",
       "      <td>3.528571</td>\n",
       "    </tr>\n",
       "    <tr>\n",
       "      <th>10</th>\n",
       "      <td>max_discount_price_to_cart</td>\n",
       "      <td>2.828080</td>\n",
       "    </tr>\n",
       "    <tr>\n",
       "      <th>11</th>\n",
       "      <td>days_since_first_search</td>\n",
       "      <td>2.314417</td>\n",
       "    </tr>\n",
       "    <tr>\n",
       "      <th>12</th>\n",
       "      <td>days_since_last_search</td>\n",
       "      <td>2.263236</td>\n",
       "    </tr>\n",
       "    <tr>\n",
       "      <th>13</th>\n",
       "      <td>days_since_first_to_cart</td>\n",
       "      <td>2.234805</td>\n",
       "    </tr>\n",
       "    <tr>\n",
       "      <th>14</th>\n",
       "      <td>days_since_last_click</td>\n",
       "      <td>1.081505</td>\n",
       "    </tr>\n",
       "    <tr>\n",
       "      <th>15</th>\n",
       "      <td>days_since_first_click</td>\n",
       "      <td>0.962968</td>\n",
       "    </tr>\n",
       "    <tr>\n",
       "      <th>16</th>\n",
       "      <td>sum_discount_price_click</td>\n",
       "      <td>0.765000</td>\n",
       "    </tr>\n",
       "    <tr>\n",
       "      <th>17</th>\n",
       "      <td>max_discount_price_click</td>\n",
       "      <td>0.556826</td>\n",
       "    </tr>\n",
       "    <tr>\n",
       "      <th>18</th>\n",
       "      <td>num_products_favorite</td>\n",
       "      <td>0.507014</td>\n",
       "    </tr>\n",
       "    <tr>\n",
       "      <th>19</th>\n",
       "      <td>max_discount_price_favorite</td>\n",
       "      <td>0.475329</td>\n",
       "    </tr>\n",
       "    <tr>\n",
       "      <th>20</th>\n",
       "      <td>days_since_last_favorite</td>\n",
       "      <td>0.397651</td>\n",
       "    </tr>\n",
       "    <tr>\n",
       "      <th>21</th>\n",
       "      <td>days_since_first_favorite</td>\n",
       "      <td>0.341977</td>\n",
       "    </tr>\n",
       "    <tr>\n",
       "      <th>22</th>\n",
       "      <td>sum_discount_price_favorite</td>\n",
       "      <td>0.116094</td>\n",
       "    </tr>\n",
       "  </tbody>\n",
       "</table>\n",
       "</div>"
      ],
      "text/plain": [
       "                     Feature Id  Importances\n",
       "0      sum_discount_price_order    21.308621\n",
       "1         days_since_last_order    13.264524\n",
       "2            num_products_order    11.837515\n",
       "3        days_since_first_order    10.314186\n",
       "4          num_products_to_cart     5.783077\n",
       "5      max_discount_price_order     5.602779\n",
       "6    sum_discount_price_to_cart     5.341387\n",
       "7            num_products_click     4.140900\n",
       "8                    num_search     4.033538\n",
       "9       days_since_last_to_cart     3.528571\n",
       "10   max_discount_price_to_cart     2.828080\n",
       "11      days_since_first_search     2.314417\n",
       "12       days_since_last_search     2.263236\n",
       "13     days_since_first_to_cart     2.234805\n",
       "14        days_since_last_click     1.081505\n",
       "15       days_since_first_click     0.962968\n",
       "16     sum_discount_price_click     0.765000\n",
       "17     max_discount_price_click     0.556826\n",
       "18        num_products_favorite     0.507014\n",
       "19  max_discount_price_favorite     0.475329\n",
       "20     days_since_last_favorite     0.397651\n",
       "21    days_since_first_favorite     0.341977\n",
       "22  sum_discount_price_favorite     0.116094"
      ]
     },
     "execution_count": 21,
     "metadata": {},
     "output_type": "execute_result"
    }
   ],
   "source": [
    "fi = model.get_feature_importance(eval_pool, prettified=True)\n",
    "fi.head(50)"
   ]
  },
  {
   "cell_type": "code",
   "execution_count": null,
   "id": "41a54da8",
   "metadata": {},
   "outputs": [],
   "source": []
  },
  {
   "cell_type": "code",
   "execution_count": 31,
   "id": "fbef95c1",
   "metadata": {},
   "outputs": [],
   "source": [
    "test_users_submission = (\n",
    "    pl.read_csv(os.path.join(data_path, 'test_users.csv'))\n",
    ")"
   ]
  },
  {
   "cell_type": "code",
   "execution_count": 32,
   "id": "0d0beb27",
   "metadata": {},
   "outputs": [],
   "source": [
    "actions_aggs = {}\n",
    "actions_id_to_suf = {\n",
    "    1: \"click\",\n",
    "    2: \"favorite\",\n",
    "    3: \"order\",\n",
    "    5: \"to_cart\",\n",
    "}\n",
    "for id_, suf in actions_id_to_suf.items():\n",
    "    aggs = (\n",
    "        actions_history\n",
    "        .filter(pl.col('timestamp').dt.date() <= val_end_date)\n",
    "        .filter(pl.col('timestamp').dt.date() >= val_end_date - timedelta(days=30 * 4))\n",
    "        .filter(pl.col('action_type_id') == id_)\n",
    "        .join(\n",
    "            product_information\n",
    "            .select('product_id', 'discount_price'),\n",
    "            on='product_id',\n",
    "        )\n",
    "        .group_by('user_id')\n",
    "        .agg(\n",
    "            pl.count('product_id').cast(pl.Int32).alias(f'num_products_{suf}'),\n",
    "            pl.sum('discount_price').cast(pl.Float32).alias(f'sum_discount_price_{suf}'),\n",
    "            pl.max('discount_price').cast(pl.Float32).alias(f'max_discount_price_{suf}'),\n",
    "            pl.max('timestamp').alias(f'last_{suf}_time'),\n",
    "            pl.min('timestamp').alias(f'first_{suf}_time'),\n",
    "        )\n",
    "        .with_columns([\n",
    "            (pl.lit(test_start_date) - pl.col(f'last_{suf}_time'))\n",
    "            .dt.total_days()\n",
    "            .cast(pl.Int32)\n",
    "            .alias(f'days_since_last_{suf}'),\n",
    "            \n",
    "            (pl.lit(test_start_date) - pl.col(f'first_{suf}_time'))\n",
    "            .dt.total_days()\n",
    "            .cast(pl.Int32)\n",
    "            .alias(f'days_since_first_{suf}'),\n",
    "        ])\n",
    "        .select(\n",
    "            'user_id',\n",
    "            f'num_products_{suf}',\n",
    "            f'sum_discount_price_{suf}',\n",
    "            f'max_discount_price_{suf}',\n",
    "            f'days_since_last_{suf}',\n",
    "            f'days_since_first_{suf}',\n",
    "        )\n",
    "    )\n",
    "    actions_aggs[id_] = aggs"
   ]
  },
  {
   "cell_type": "code",
   "execution_count": 33,
   "id": "4e8ff0f7",
   "metadata": {},
   "outputs": [],
   "source": [
    "# search_aggs\n",
    "id_ = 4\n",
    "suf = 'search'\n",
    "actions_aggs[id_] = (\n",
    "    search_history\n",
    "    .filter(pl.col('action_type_id') == id_)\n",
    "    .filter(pl.col('timestamp').dt.date() <= val_end_date)\n",
    "    .filter(pl.col('timestamp').dt.date() >= val_end_date - timedelta(days=30 * 4))\n",
    "    .group_by('user_id')\n",
    "    .agg(\n",
    "        pl.count('search_query').cast(pl.Int32).alias(f'num_{suf}'),\n",
    "        pl.max('timestamp').alias(f'last_{suf}_time'),\n",
    "        pl.min('timestamp').alias(f'first_{suf}_time'),\n",
    "    )\n",
    "    .with_columns([\n",
    "        (pl.lit(test_start_date) - pl.col(f'last_{suf}_time'))\n",
    "        .dt.total_days()\n",
    "        .cast(pl.Int32)\n",
    "        .alias(f'days_since_last_{suf}'),\n",
    "\n",
    "        (pl.lit(test_start_date) - pl.col(f'first_{suf}_time'))\n",
    "        .dt.total_days()\n",
    "        .cast(pl.Int32)\n",
    "        .alias(f'days_since_first_{suf}'),\n",
    "    ])\n",
    "    .select(\n",
    "        'user_id',\n",
    "        f'num_{suf}',\n",
    "        f'days_since_last_{suf}',\n",
    "        f'days_since_first_{suf}',\n",
    "    )\n",
    ")"
   ]
  },
  {
   "cell_type": "code",
   "execution_count": 34,
   "id": "084f82fd",
   "metadata": {},
   "outputs": [],
   "source": [
    "df = test_users_submission\n",
    "for _, actions_aggs_df in actions_aggs.items():\n",
    "    df = (\n",
    "        df\n",
    "        .join(actions_aggs_df, on='user_id', how='left')\n",
    "    )"
   ]
  },
  {
   "cell_type": "code",
   "execution_count": 37,
   "id": "d08f588f",
   "metadata": {},
   "outputs": [],
   "source": [
    "df_pd = df.to_pandas()"
   ]
  },
  {
   "cell_type": "code",
   "execution_count": 38,
   "id": "3b68cce8",
   "metadata": {},
   "outputs": [
    {
     "data": {
      "text/plain": [
       "(2068424, 24)"
      ]
     },
     "execution_count": 38,
     "metadata": {},
     "output_type": "execute_result"
    }
   ],
   "source": [
    "df_pd.shape"
   ]
  },
  {
   "cell_type": "code",
   "execution_count": 39,
   "id": "d103230a",
   "metadata": {},
   "outputs": [],
   "source": [
    "df_pd['predict'] = model.predict(df_pd[cols], prediction_type=\"Probability\")[:, 1]"
   ]
  },
  {
   "cell_type": "code",
   "execution_count": 40,
   "id": "ad82a799",
   "metadata": {},
   "outputs": [
    {
     "data": {
      "text/html": [
       "<div>\n",
       "<style scoped>\n",
       "    .dataframe tbody tr th:only-of-type {\n",
       "        vertical-align: middle;\n",
       "    }\n",
       "\n",
       "    .dataframe tbody tr th {\n",
       "        vertical-align: top;\n",
       "    }\n",
       "\n",
       "    .dataframe thead th {\n",
       "        text-align: right;\n",
       "    }\n",
       "</style>\n",
       "<table border=\"1\" class=\"dataframe\">\n",
       "  <thead>\n",
       "    <tr style=\"text-align: right;\">\n",
       "      <th></th>\n",
       "      <th>user_id</th>\n",
       "      <th>predict</th>\n",
       "    </tr>\n",
       "  </thead>\n",
       "  <tbody>\n",
       "    <tr>\n",
       "      <th>0</th>\n",
       "      <td>1342</td>\n",
       "      <td>0.172991</td>\n",
       "    </tr>\n",
       "    <tr>\n",
       "      <th>1</th>\n",
       "      <td>9852</td>\n",
       "      <td>0.792784</td>\n",
       "    </tr>\n",
       "    <tr>\n",
       "      <th>2</th>\n",
       "      <td>10206</td>\n",
       "      <td>0.221881</td>\n",
       "    </tr>\n",
       "    <tr>\n",
       "      <th>3</th>\n",
       "      <td>11317</td>\n",
       "      <td>0.219705</td>\n",
       "    </tr>\n",
       "    <tr>\n",
       "      <th>4</th>\n",
       "      <td>13289</td>\n",
       "      <td>0.604132</td>\n",
       "    </tr>\n",
       "    <tr>\n",
       "      <th>...</th>\n",
       "      <td>...</td>\n",
       "      <td>...</td>\n",
       "    </tr>\n",
       "    <tr>\n",
       "      <th>2068419</th>\n",
       "      <td>11157283</td>\n",
       "      <td>0.220257</td>\n",
       "    </tr>\n",
       "    <tr>\n",
       "      <th>2068420</th>\n",
       "      <td>11160395</td>\n",
       "      <td>0.145901</td>\n",
       "    </tr>\n",
       "    <tr>\n",
       "      <th>2068421</th>\n",
       "      <td>11165052</td>\n",
       "      <td>0.640764</td>\n",
       "    </tr>\n",
       "    <tr>\n",
       "      <th>2068422</th>\n",
       "      <td>11168218</td>\n",
       "      <td>0.544457</td>\n",
       "    </tr>\n",
       "    <tr>\n",
       "      <th>2068423</th>\n",
       "      <td>11172313</td>\n",
       "      <td>0.480608</td>\n",
       "    </tr>\n",
       "  </tbody>\n",
       "</table>\n",
       "<p>2068424 rows × 2 columns</p>\n",
       "</div>"
      ],
      "text/plain": [
       "          user_id   predict\n",
       "0            1342  0.172991\n",
       "1            9852  0.792784\n",
       "2           10206  0.221881\n",
       "3           11317  0.219705\n",
       "4           13289  0.604132\n",
       "...           ...       ...\n",
       "2068419  11157283  0.220257\n",
       "2068420  11160395  0.145901\n",
       "2068421  11165052  0.640764\n",
       "2068422  11168218  0.544457\n",
       "2068423  11172313  0.480608\n",
       "\n",
       "[2068424 rows x 2 columns]"
      ]
     },
     "execution_count": 40,
     "metadata": {},
     "output_type": "execute_result"
    }
   ],
   "source": [
    "df_pd[['user_id', 'predict']]"
   ]
  },
  {
   "cell_type": "code",
   "execution_count": 30,
   "id": "a756e7da",
   "metadata": {},
   "outputs": [],
   "source": [
    "df_pd[['user_id', 'predict']].to_csv('baseline_1_submission.csv', index=False)"
   ]
  },
  {
   "cell_type": "code",
   "execution_count": null,
   "id": "a74f5ad1",
   "metadata": {},
   "outputs": [],
   "source": []
  }
 ],
 "metadata": {
  "kernelspec": {
   "display_name": "AM_ML_env",
   "language": "python",
   "name": "am_ml_env"
  },
  "language_info": {
   "codemirror_mode": {
    "name": "ipython",
    "version": 3
   },
   "file_extension": ".py",
   "mimetype": "text/x-python",
   "name": "python",
   "nbconvert_exporter": "python",
   "pygments_lexer": "ipython3",
   "version": "3.9.18"
  }
 },
 "nbformat": 4,
 "nbformat_minor": 5
}
