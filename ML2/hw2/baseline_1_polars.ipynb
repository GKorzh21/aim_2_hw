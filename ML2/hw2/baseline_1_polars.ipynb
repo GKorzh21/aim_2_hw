{
 "cells": [
  {
   "cell_type": "code",
   "execution_count": 7,
   "id": "8dd61847-b601-4712-a864-2aca5f52e4cd",
   "metadata": {},
   "outputs": [],
   "source": [
    "import polars as pl\n",
    "import pandas as pd\n",
    "import numpy as np\n",
    "import catboost\n",
    "import os\n",
    "from datetime import date, timedelta"
   ]
  },
  {
   "cell_type": "code",
   "execution_count": 8,
   "id": "f9c09b33",
   "metadata": {},
   "outputs": [],
   "source": [
    "test_start_date = date(2024, 8, 1)\n",
    "val_start_date = date(2024, 7, 1)\n",
    "val_end_date = date(2024, 7, 31)\n",
    "train_end_date = date(2024, 6, 30)\n",
    "data_path = \"C:\\\\Users\\\\Admin\\\\Desktop\\\\AIM 2сем\\\\ML2\\\\hw2\""
   ]
  },
  {
   "cell_type": "markdown",
   "id": "18d547e5",
   "metadata": {},
   "source": [
    "# Read data"
   ]
  },
  {
   "cell_type": "code",
   "execution_count": 9,
   "id": "501ed599",
   "metadata": {},
   "outputs": [],
   "source": [
    "actions_history = pl.scan_parquet(os.path.join(data_path, 'actions_history/*.parquet')).collect()\n",
    "search_history = pl.scan_parquet(os.path.join(data_path, 'search_history/*.parquet')).collect()\n",
    "product_information = pl.read_csv(\n",
    "    os.path.join(data_path, 'product_information.csv'),\n",
    "    ignore_errors=True\n",
    ")"
   ]
  },
  {
   "cell_type": "code",
   "execution_count": 10,
   "id": "1c4fefc2",
   "metadata": {},
   "outputs": [
    {
     "data": {
      "text/html": [
       "<div><style>\n",
       ".dataframe > thead > tr,\n",
       ".dataframe > tbody > tr {\n",
       "  text-align: right;\n",
       "  white-space: pre-wrap;\n",
       "}\n",
       "</style>\n",
       "<small>shape: (6, 2)</small><table border=\"1\" class=\"dataframe\"><thead><tr><th>action_type</th><th>action_type_id</th></tr><tr><td>str</td><td>i64</td></tr></thead><tbody><tr><td>&quot;click&quot;</td><td>1</td></tr><tr><td>&quot;favorite&quot;</td><td>2</td></tr><tr><td>&quot;order&quot;</td><td>3</td></tr><tr><td>&quot;search&quot;</td><td>4</td></tr><tr><td>&quot;to_cart&quot;</td><td>5</td></tr><tr><td>&quot;view&quot;</td><td>6</td></tr></tbody></table></div>"
      ],
      "text/plain": [
       "shape: (6, 2)\n",
       "┌─────────────┬────────────────┐\n",
       "│ action_type ┆ action_type_id │\n",
       "│ ---         ┆ ---            │\n",
       "│ str         ┆ i64            │\n",
       "╞═════════════╪════════════════╡\n",
       "│ click       ┆ 1              │\n",
       "│ favorite    ┆ 2              │\n",
       "│ order       ┆ 3              │\n",
       "│ search      ┆ 4              │\n",
       "│ to_cart     ┆ 5              │\n",
       "│ view        ┆ 6              │\n",
       "└─────────────┴────────────────┘"
      ]
     },
     "execution_count": 10,
     "metadata": {},
     "output_type": "execute_result"
    }
   ],
   "source": [
    "pl.read_csv(os.path.join(data_path, 'action_type_info.csv'))"
   ]
  },
  {
   "cell_type": "code",
   "execution_count": 11,
   "id": "5d6028b1",
   "metadata": {},
   "outputs": [],
   "source": [
    "val_target = (\n",
    "    actions_history\n",
    "    .filter(pl.col('timestamp').dt.date() >= val_start_date)\n",
    "    .filter(pl.col('timestamp').dt.date() <= val_end_date)\n",
    "    .select('user_id', (pl.col('action_type_id') == 3).alias('has_order'))\n",
    "    .group_by('user_id')\n",
    "    .agg(pl.max('has_order').cast(pl.Int32).alias('target'))\n",
    ")"
   ]
  },
  {
   "cell_type": "code",
   "execution_count": 12,
   "id": "1667f5bf",
   "metadata": {},
   "outputs": [
    {
     "data": {
      "text/html": [
       "<div><style>\n",
       ".dataframe > thead > tr,\n",
       ".dataframe > tbody > tr {\n",
       "  text-align: right;\n",
       "  white-space: pre-wrap;\n",
       "}\n",
       "</style>\n",
       "<small>shape: (2, 2)</small><table border=\"1\" class=\"dataframe\"><thead><tr><th>target</th><th>user_id</th></tr><tr><td>i32</td><td>u32</td></tr></thead><tbody><tr><td>0</td><td>1227381</td></tr><tr><td>1</td><td>647575</td></tr></tbody></table></div>"
      ],
      "text/plain": [
       "shape: (2, 2)\n",
       "┌────────┬─────────┐\n",
       "│ target ┆ user_id │\n",
       "│ ---    ┆ ---     │\n",
       "│ i32    ┆ u32     │\n",
       "╞════════╪═════════╡\n",
       "│ 0      ┆ 1227381 │\n",
       "│ 1      ┆ 647575  │\n",
       "└────────┴─────────┘"
      ]
     },
     "execution_count": 12,
     "metadata": {},
     "output_type": "execute_result"
    }
   ],
   "source": [
    "val_target.group_by('target').agg(pl.count('user_id'))"
   ]
  },
  {
   "cell_type": "markdown",
   "id": "ff4eb9d7",
   "metadata": {},
   "source": [
    "# Simple pipeline"
   ]
  },
  {
   "cell_type": "markdown",
   "id": "2f6da3e2",
   "metadata": {},
   "source": [
    "## Feats"
   ]
  },
  {
   "cell_type": "code",
   "execution_count": 13,
   "id": "ca04d6c0",
   "metadata": {},
   "outputs": [],
   "source": [
    "actions_aggs = {}\n",
    "actions_id_to_suf = {\n",
    "    1: \"click\",\n",
    "    2: \"favorite\",\n",
    "    3: \"order\",\n",
    "    5: \"to_cart\",\n",
    "}\n",
    "for id_, suf in actions_id_to_suf.items():\n",
    "    aggs = (\n",
    "        actions_history\n",
    "        .filter(pl.col('timestamp').dt.date() <= train_end_date)\n",
    "        .filter(pl.col('timestamp').dt.date() >= train_end_date - timedelta(days=30 * 4))\n",
    "        .filter(pl.col('action_type_id') == id_)\n",
    "        .join(\n",
    "            product_information\n",
    "            .select('product_id', 'discount_price'),\n",
    "            on='product_id',\n",
    "        )\n",
    "        .group_by('user_id')\n",
    "        .agg(\n",
    "            pl.count('product_id').cast(pl.Int32).alias(f'num_products_{suf}'),\n",
    "            pl.sum('discount_price').cast(pl.Float32).alias(f'sum_discount_price_{suf}'),\n",
    "            pl.max('discount_price').cast(pl.Float32).alias(f'max_discount_price_{suf}'),\n",
    "            pl.max('timestamp').alias(f'last_{suf}_time'),\n",
    "            pl.min('timestamp').alias(f'first_{suf}_time'),\n",
    "        )\n",
    "        .with_columns([\n",
    "            (pl.lit(val_start_date) - pl.col(f'last_{suf}_time'))\n",
    "            .dt.total_days()\n",
    "            .cast(pl.Int32)\n",
    "            .alias(f'days_since_last_{suf}'),\n",
    "            \n",
    "            (pl.lit(val_start_date) - pl.col(f'first_{suf}_time'))\n",
    "            .dt.total_days()\n",
    "            .cast(pl.Int32)\n",
    "            .alias(f'days_since_first_{suf}'),\n",
    "        ])\n",
    "        .select(\n",
    "            'user_id',\n",
    "            f'num_products_{suf}',\n",
    "            f'sum_discount_price_{suf}',\n",
    "            f'max_discount_price_{suf}',\n",
    "            f'days_since_last_{suf}',\n",
    "            f'days_since_first_{suf}',\n",
    "        )\n",
    "    )\n",
    "    actions_aggs[id_] = aggs"
   ]
  },
  {
   "cell_type": "code",
   "execution_count": 14,
   "id": "cd88f106",
   "metadata": {},
   "outputs": [],
   "source": [
    "# search_aggs\n",
    "id_ = 4\n",
    "suf = 'search'\n",
    "actions_aggs[id_] = (\n",
    "    search_history\n",
    "    .filter(pl.col('action_type_id') == id_)\n",
    "    .filter(pl.col('timestamp').dt.date() <= train_end_date)\n",
    "    .filter(pl.col('timestamp').dt.date() >= train_end_date - timedelta(days=30 * 4))\n",
    "    .group_by('user_id')\n",
    "    .agg(\n",
    "        pl.count('search_query').cast(pl.Int32).alias(f'num_{suf}'),\n",
    "        pl.max('timestamp').alias(f'last_{suf}_time'),\n",
    "        pl.min('timestamp').alias(f'first_{suf}_time'),\n",
    "    )\n",
    "    .with_columns([\n",
    "        (pl.lit(val_start_date) - pl.col(f'last_{suf}_time'))\n",
    "        .dt.total_days()\n",
    "        .cast(pl.Int32)\n",
    "        .alias(f'days_since_last_{suf}'),\n",
    "\n",
    "        (pl.lit(val_start_date) - pl.col(f'first_{suf}_time'))\n",
    "        .dt.total_days()\n",
    "        .cast(pl.Int32)\n",
    "        .alias(f'days_since_first_{suf}'),\n",
    "    ])\n",
    "    .select(\n",
    "        'user_id',\n",
    "        f'num_{suf}',\n",
    "        f'days_since_last_{suf}',\n",
    "        f'days_since_first_{suf}',\n",
    "    )\n",
    ")"
   ]
  },
  {
   "cell_type": "code",
   "execution_count": 15,
   "id": "82b7d027",
   "metadata": {},
   "outputs": [
    {
     "data": {
      "text/plain": [
       "dict_keys([1, 2, 3, 5, 4])"
      ]
     },
     "execution_count": 15,
     "metadata": {},
     "output_type": "execute_result"
    }
   ],
   "source": [
    "actions_aggs.keys()"
   ]
  },
  {
   "cell_type": "code",
   "execution_count": 16,
   "id": "fe1726c6",
   "metadata": {},
   "outputs": [],
   "source": [
    "df = val_target\n",
    "for _, actions_aggs_df in actions_aggs.items():\n",
    "    df = (\n",
    "        df\n",
    "        .join(actions_aggs_df, on='user_id', how='left')\n",
    "    )"
   ]
  },
  {
   "cell_type": "code",
   "execution_count": 17,
   "id": "37ea1e99",
   "metadata": {},
   "outputs": [
    {
     "data": {
      "text/html": [
       "<div><style>\n",
       ".dataframe > thead > tr,\n",
       ".dataframe > tbody > tr {\n",
       "  text-align: right;\n",
       "  white-space: pre-wrap;\n",
       "}\n",
       "</style>\n",
       "<small>shape: (1_874_956, 25)</small><table border=\"1\" class=\"dataframe\"><thead><tr><th>user_id</th><th>target</th><th>num_products_click</th><th>sum_discount_price_click</th><th>max_discount_price_click</th><th>days_since_last_click</th><th>days_since_first_click</th><th>num_products_favorite</th><th>sum_discount_price_favorite</th><th>max_discount_price_favorite</th><th>days_since_last_favorite</th><th>days_since_first_favorite</th><th>num_products_order</th><th>sum_discount_price_order</th><th>max_discount_price_order</th><th>days_since_last_order</th><th>days_since_first_order</th><th>num_products_to_cart</th><th>sum_discount_price_to_cart</th><th>max_discount_price_to_cart</th><th>days_since_last_to_cart</th><th>days_since_first_to_cart</th><th>num_search</th><th>days_since_last_search</th><th>days_since_first_search</th></tr><tr><td>i32</td><td>i32</td><td>i32</td><td>f32</td><td>f32</td><td>i32</td><td>i32</td><td>i32</td><td>f32</td><td>f32</td><td>i32</td><td>i32</td><td>i32</td><td>f32</td><td>f32</td><td>i32</td><td>i32</td><td>i32</td><td>f32</td><td>f32</td><td>i32</td><td>i32</td><td>i32</td><td>i32</td><td>i32</td></tr></thead><tbody><tr><td>4224466</td><td>1</td><td>null</td><td>null</td><td>null</td><td>null</td><td>null</td><td>null</td><td>null</td><td>null</td><td>null</td><td>null</td><td>null</td><td>null</td><td>null</td><td>null</td><td>null</td><td>null</td><td>null</td><td>null</td><td>null</td><td>null</td><td>null</td><td>null</td><td>null</td></tr><tr><td>9094357</td><td>0</td><td>null</td><td>null</td><td>null</td><td>null</td><td>null</td><td>null</td><td>null</td><td>null</td><td>null</td><td>null</td><td>null</td><td>null</td><td>null</td><td>null</td><td>null</td><td>null</td><td>null</td><td>null</td><td>null</td><td>null</td><td>1</td><td>107</td><td>107</td></tr><tr><td>6475634</td><td>1</td><td>null</td><td>null</td><td>null</td><td>null</td><td>null</td><td>null</td><td>null</td><td>null</td><td>null</td><td>null</td><td>1</td><td>119.0</td><td>119.0</td><td>54</td><td>54</td><td>2</td><td>189.0</td><td>119.0</td><td>54</td><td>54</td><td>null</td><td>null</td><td>null</td></tr><tr><td>3647837</td><td>0</td><td>109</td><td>44386.0</td><td>6890.0</td><td>26</td><td>119</td><td>null</td><td>null</td><td>null</td><td>null</td><td>null</td><td>183</td><td>37590.0</td><td>1219.0</td><td>27</td><td>119</td><td>187</td><td>39598.0</td><td>1219.0</td><td>26</td><td>119</td><td>120</td><td>0</td><td>119</td></tr><tr><td>139355</td><td>0</td><td>null</td><td>null</td><td>null</td><td>null</td><td>null</td><td>null</td><td>null</td><td>null</td><td>null</td><td>null</td><td>null</td><td>null</td><td>null</td><td>null</td><td>null</td><td>null</td><td>null</td><td>null</td><td>null</td><td>null</td><td>null</td><td>null</td><td>null</td></tr><tr><td>&hellip;</td><td>&hellip;</td><td>&hellip;</td><td>&hellip;</td><td>&hellip;</td><td>&hellip;</td><td>&hellip;</td><td>&hellip;</td><td>&hellip;</td><td>&hellip;</td><td>&hellip;</td><td>&hellip;</td><td>&hellip;</td><td>&hellip;</td><td>&hellip;</td><td>&hellip;</td><td>&hellip;</td><td>&hellip;</td><td>&hellip;</td><td>&hellip;</td><td>&hellip;</td><td>&hellip;</td><td>&hellip;</td><td>&hellip;</td><td>&hellip;</td></tr><tr><td>4396142</td><td>0</td><td>null</td><td>null</td><td>null</td><td>null</td><td>null</td><td>null</td><td>null</td><td>null</td><td>null</td><td>null</td><td>null</td><td>null</td><td>null</td><td>null</td><td>null</td><td>3</td><td>454.0</td><td>196.0</td><td>71</td><td>119</td><td>null</td><td>null</td><td>null</td></tr><tr><td>5726590</td><td>1</td><td>71</td><td>33563.0</td><td>3376.0</td><td>13</td><td>119</td><td>null</td><td>null</td><td>null</td><td>null</td><td>null</td><td>74</td><td>23390.0</td><td>3781.0</td><td>6</td><td>32</td><td>344</td><td>102801.0</td><td>3781.0</td><td>1</td><td>119</td><td>279</td><td>1</td><td>119</td></tr><tr><td>6573253</td><td>1</td><td>287</td><td>98493.0</td><td>6176.0</td><td>3</td><td>120</td><td>1</td><td>950.0</td><td>950.0</td><td>76</td><td>76</td><td>117</td><td>17266.0</td><td>550.0</td><td>6</td><td>33</td><td>596</td><td>115608.0</td><td>1599.0</td><td>3</td><td>120</td><td>723</td><td>3</td><td>120</td></tr><tr><td>3016908</td><td>0</td><td>null</td><td>null</td><td>null</td><td>null</td><td>null</td><td>null</td><td>null</td><td>null</td><td>null</td><td>null</td><td>null</td><td>null</td><td>null</td><td>null</td><td>null</td><td>null</td><td>null</td><td>null</td><td>null</td><td>null</td><td>null</td><td>null</td><td>null</td></tr><tr><td>5846158</td><td>0</td><td>5</td><td>1890.0</td><td>794.0</td><td>5</td><td>119</td><td>null</td><td>null</td><td>null</td><td>null</td><td>null</td><td>null</td><td>null</td><td>null</td><td>null</td><td>null</td><td>null</td><td>null</td><td>null</td><td>null</td><td>null</td><td>1</td><td>86</td><td>86</td></tr></tbody></table></div>"
      ],
      "text/plain": [
       "shape: (1_874_956, 25)\n",
       "┌─────────┬────────┬────────────┬────────────┬───┬────────────┬────────────┬───────────┬───────────┐\n",
       "│ user_id ┆ target ┆ num_produc ┆ sum_discou ┆ … ┆ days_since ┆ num_search ┆ days_sinc ┆ days_sinc │\n",
       "│ ---     ┆ ---    ┆ ts_click   ┆ nt_price_c ┆   ┆ _first_to_ ┆ ---        ┆ e_last_se ┆ e_first_s │\n",
       "│ i32     ┆ i32    ┆ ---        ┆ lick       ┆   ┆ cart       ┆ i32        ┆ arch      ┆ earch     │\n",
       "│         ┆        ┆ i32        ┆ ---        ┆   ┆ ---        ┆            ┆ ---       ┆ ---       │\n",
       "│         ┆        ┆            ┆ f32        ┆   ┆ i32        ┆            ┆ i32       ┆ i32       │\n",
       "╞═════════╪════════╪════════════╪════════════╪═══╪════════════╪════════════╪═══════════╪═══════════╡\n",
       "│ 4224466 ┆ 1      ┆ null       ┆ null       ┆ … ┆ null       ┆ null       ┆ null      ┆ null      │\n",
       "│ 9094357 ┆ 0      ┆ null       ┆ null       ┆ … ┆ null       ┆ 1          ┆ 107       ┆ 107       │\n",
       "│ 6475634 ┆ 1      ┆ null       ┆ null       ┆ … ┆ 54         ┆ null       ┆ null      ┆ null      │\n",
       "│ 3647837 ┆ 0      ┆ 109        ┆ 44386.0    ┆ … ┆ 119        ┆ 120        ┆ 0         ┆ 119       │\n",
       "│ 139355  ┆ 0      ┆ null       ┆ null       ┆ … ┆ null       ┆ null       ┆ null      ┆ null      │\n",
       "│ …       ┆ …      ┆ …          ┆ …          ┆ … ┆ …          ┆ …          ┆ …         ┆ …         │\n",
       "│ 4396142 ┆ 0      ┆ null       ┆ null       ┆ … ┆ 119        ┆ null       ┆ null      ┆ null      │\n",
       "│ 5726590 ┆ 1      ┆ 71         ┆ 33563.0    ┆ … ┆ 119        ┆ 279        ┆ 1         ┆ 119       │\n",
       "│ 6573253 ┆ 1      ┆ 287        ┆ 98493.0    ┆ … ┆ 120        ┆ 723        ┆ 3         ┆ 120       │\n",
       "│ 3016908 ┆ 0      ┆ null       ┆ null       ┆ … ┆ null       ┆ null       ┆ null      ┆ null      │\n",
       "│ 5846158 ┆ 0      ┆ 5          ┆ 1890.0     ┆ … ┆ null       ┆ 1          ┆ 86        ┆ 86        │\n",
       "└─────────┴────────┴────────────┴────────────┴───┴────────────┴────────────┴───────────┴───────────┘"
      ]
     },
     "execution_count": 17,
     "metadata": {},
     "output_type": "execute_result"
    }
   ],
   "source": [
    "df"
   ]
  },
  {
   "cell_type": "code",
   "execution_count": 18,
   "id": "ecc97ffe",
   "metadata": {},
   "outputs": [],
   "source": [
    "df_pd = df.to_pandas()"
   ]
  },
  {
   "cell_type": "code",
   "execution_count": 19,
   "id": "8727426f",
   "metadata": {},
   "outputs": [],
   "source": [
    "mask = df_pd.user_id % 10 <= 6"
   ]
  },
  {
   "cell_type": "code",
   "execution_count": 20,
   "id": "111d1355",
   "metadata": {},
   "outputs": [
    {
     "data": {
      "text/plain": [
       "Index(['user_id', 'target', 'num_products_click', 'sum_discount_price_click',\n",
       "       'max_discount_price_click', 'days_since_last_click',\n",
       "       'days_since_first_click', 'num_products_favorite',\n",
       "       'sum_discount_price_favorite', 'max_discount_price_favorite',\n",
       "       'days_since_last_favorite', 'days_since_first_favorite',\n",
       "       'num_products_order', 'sum_discount_price_order',\n",
       "       'max_discount_price_order', 'days_since_last_order',\n",
       "       'days_since_first_order', 'num_products_to_cart',\n",
       "       'sum_discount_price_to_cart', 'max_discount_price_to_cart',\n",
       "       'days_since_last_to_cart', 'days_since_first_to_cart', 'num_search',\n",
       "       'days_since_last_search', 'days_since_first_search'],\n",
       "      dtype='object')"
      ]
     },
     "execution_count": 20,
     "metadata": {},
     "output_type": "execute_result"
    }
   ],
   "source": [
    "df_pd.columns"
   ]
  },
  {
   "cell_type": "code",
   "execution_count": 21,
   "id": "12c2a743",
   "metadata": {},
   "outputs": [],
   "source": [
    "cols = [\n",
    "    'num_products_click', \n",
    "    'sum_discount_price_click', 'max_discount_price_click',\n",
    "    'days_since_last_click', 'days_since_first_click',\n",
    "    'num_products_favorite', 'sum_discount_price_favorite',\n",
    "    'max_discount_price_favorite', 'days_since_last_favorite',\n",
    "    'days_since_first_favorite', 'num_products_order',\n",
    "    'sum_discount_price_order', 'max_discount_price_order',\n",
    "    'days_since_last_order', 'days_since_first_order',\n",
    "    'num_products_to_cart', 'sum_discount_price_to_cart',\n",
    "    'max_discount_price_to_cart', 'days_since_last_to_cart',\n",
    "    'days_since_first_to_cart', 'num_search', 'days_since_last_search',\n",
    "    'days_since_first_search'\n",
    "]"
   ]
  },
  {
   "cell_type": "code",
   "execution_count": 22,
   "id": "0dbbe123",
   "metadata": {},
   "outputs": [],
   "source": [
    "train_pool = catboost.Pool(\n",
    "    df_pd.loc[mask, cols],\n",
    "    label=df_pd.loc[mask].target,\n",
    ")\n",
    "eval_pool = catboost.Pool(\n",
    "    df_pd.loc[~mask, cols],\n",
    "    label=df_pd.loc[~mask].target,\n",
    ")"
   ]
  },
  {
   "cell_type": "code",
   "execution_count": 23,
   "id": "561b37c7",
   "metadata": {},
   "outputs": [
    {
     "data": {
      "text/plain": [
       "((1311636, 23), (563320, 23))"
      ]
     },
     "execution_count": 23,
     "metadata": {},
     "output_type": "execute_result"
    }
   ],
   "source": [
    "train_pool.shape, eval_pool.shape"
   ]
  },
  {
   "cell_type": "code",
   "execution_count": 24,
   "id": "5e30798a",
   "metadata": {},
   "outputs": [],
   "source": [
    "params = {\n",
    "    'iterations': 200,\n",
    "    'depth': 7, \n",
    "    'learning_rate': 0.1, \n",
    "    'random_state': 1,\n",
    "    'eval_metric': 'AUC',\n",
    "    'loss_function': 'Logloss',\n",
    "    'task_type': 'CPU',\n",
    "}"
   ]
  },
  {
   "cell_type": "code",
   "execution_count": 25,
   "id": "f051518e",
   "metadata": {},
   "outputs": [
    {
     "name": "stdout",
     "output_type": "stream",
     "text": [
      "0:\ttest: 0.7434443\tbest: 0.7434443 (0)\ttotal: 223ms\tremaining: 44.3s\n",
      "10:\ttest: 0.7525499\tbest: 0.7525499 (10)\ttotal: 944ms\tremaining: 16.2s\n",
      "20:\ttest: 0.7545399\tbest: 0.7545399 (20)\ttotal: 1.65s\tremaining: 14s\n",
      "30:\ttest: 0.7556496\tbest: 0.7556496 (30)\ttotal: 2.35s\tremaining: 12.8s\n",
      "40:\ttest: 0.7565117\tbest: 0.7565117 (40)\ttotal: 3.07s\tremaining: 11.9s\n",
      "50:\ttest: 0.7568010\tbest: 0.7568010 (50)\ttotal: 3.73s\tremaining: 10.9s\n",
      "60:\ttest: 0.7570516\tbest: 0.7570516 (60)\ttotal: 4.4s\tremaining: 10s\n",
      "70:\ttest: 0.7573709\tbest: 0.7573709 (70)\ttotal: 5.08s\tremaining: 9.23s\n",
      "80:\ttest: 0.7575356\tbest: 0.7575356 (80)\ttotal: 5.74s\tremaining: 8.43s\n",
      "90:\ttest: 0.7577282\tbest: 0.7577347 (87)\ttotal: 6.45s\tremaining: 7.72s\n",
      "100:\ttest: 0.7578065\tbest: 0.7578072 (99)\ttotal: 7.12s\tremaining: 6.98s\n",
      "110:\ttest: 0.7579406\tbest: 0.7579466 (109)\ttotal: 7.82s\tremaining: 6.27s\n",
      "120:\ttest: 0.7580705\tbest: 0.7580705 (120)\ttotal: 8.54s\tremaining: 5.58s\n",
      "130:\ttest: 0.7581572\tbest: 0.7581572 (130)\ttotal: 9.21s\tremaining: 4.85s\n",
      "140:\ttest: 0.7582357\tbest: 0.7582357 (140)\ttotal: 9.87s\tremaining: 4.13s\n",
      "150:\ttest: 0.7583483\tbest: 0.7583695 (148)\ttotal: 10.6s\tremaining: 3.44s\n",
      "160:\ttest: 0.7584843\tbest: 0.7584843 (160)\ttotal: 11.3s\tremaining: 2.74s\n",
      "170:\ttest: 0.7586107\tbest: 0.7586107 (170)\ttotal: 12s\tremaining: 2.04s\n",
      "180:\ttest: 0.7587324\tbest: 0.7587324 (180)\ttotal: 12.7s\tremaining: 1.33s\n",
      "190:\ttest: 0.7588108\tbest: 0.7588176 (189)\ttotal: 13.4s\tremaining: 632ms\n",
      "199:\ttest: 0.7588463\tbest: 0.7588463 (199)\ttotal: 14s\tremaining: 0us\n",
      "\n",
      "bestTest = 0.7588462831\n",
      "bestIteration = 199\n",
      "\n"
     ]
    },
    {
     "data": {
      "text/plain": [
       "<catboost.core.CatBoost at 0x222800719d0>"
      ]
     },
     "execution_count": 25,
     "metadata": {},
     "output_type": "execute_result"
    }
   ],
   "source": [
    "model = catboost.CatBoost(params)\n",
    "model.fit(\n",
    "    train_pool, \n",
    "    eval_set=eval_pool,\n",
    "    use_best_model=True,\n",
    "    verbose=10,\n",
    "    early_stopping_rounds=50,\n",
    ")"
   ]
  },
  {
   "cell_type": "code",
   "execution_count": 26,
   "id": "a1d74a8e",
   "metadata": {},
   "outputs": [],
   "source": [
    "name = 'baseline_1'\n",
    "model.save_model(f\"{name}.bin\")"
   ]
  },
  {
   "cell_type": "code",
   "execution_count": 27,
   "id": "f668478c",
   "metadata": {},
   "outputs": [
    {
     "data": {
      "text/html": [
       "<div>\n",
       "<style scoped>\n",
       "    .dataframe tbody tr th:only-of-type {\n",
       "        vertical-align: middle;\n",
       "    }\n",
       "\n",
       "    .dataframe tbody tr th {\n",
       "        vertical-align: top;\n",
       "    }\n",
       "\n",
       "    .dataframe thead th {\n",
       "        text-align: right;\n",
       "    }\n",
       "</style>\n",
       "<table border=\"1\" class=\"dataframe\">\n",
       "  <thead>\n",
       "    <tr style=\"text-align: right;\">\n",
       "      <th></th>\n",
       "      <th>Feature Id</th>\n",
       "      <th>Importances</th>\n",
       "    </tr>\n",
       "  </thead>\n",
       "  <tbody>\n",
       "    <tr>\n",
       "      <th>0</th>\n",
       "      <td>num_products_order</td>\n",
       "      <td>16.167307</td>\n",
       "    </tr>\n",
       "    <tr>\n",
       "      <th>1</th>\n",
       "      <td>sum_discount_price_order</td>\n",
       "      <td>14.697948</td>\n",
       "    </tr>\n",
       "    <tr>\n",
       "      <th>2</th>\n",
       "      <td>days_since_last_order</td>\n",
       "      <td>14.113620</td>\n",
       "    </tr>\n",
       "    <tr>\n",
       "      <th>3</th>\n",
       "      <td>max_discount_price_order</td>\n",
       "      <td>8.943784</td>\n",
       "    </tr>\n",
       "    <tr>\n",
       "      <th>4</th>\n",
       "      <td>sum_discount_price_to_cart</td>\n",
       "      <td>7.512843</td>\n",
       "    </tr>\n",
       "    <tr>\n",
       "      <th>5</th>\n",
       "      <td>days_since_first_order</td>\n",
       "      <td>6.315378</td>\n",
       "    </tr>\n",
       "    <tr>\n",
       "      <th>6</th>\n",
       "      <td>num_products_to_cart</td>\n",
       "      <td>5.345242</td>\n",
       "    </tr>\n",
       "    <tr>\n",
       "      <th>7</th>\n",
       "      <td>num_search</td>\n",
       "      <td>4.614047</td>\n",
       "    </tr>\n",
       "    <tr>\n",
       "      <th>8</th>\n",
       "      <td>num_products_click</td>\n",
       "      <td>4.212619</td>\n",
       "    </tr>\n",
       "    <tr>\n",
       "      <th>9</th>\n",
       "      <td>days_since_last_to_cart</td>\n",
       "      <td>3.714896</td>\n",
       "    </tr>\n",
       "    <tr>\n",
       "      <th>10</th>\n",
       "      <td>days_since_first_search</td>\n",
       "      <td>2.722766</td>\n",
       "    </tr>\n",
       "    <tr>\n",
       "      <th>11</th>\n",
       "      <td>max_discount_price_to_cart</td>\n",
       "      <td>2.399271</td>\n",
       "    </tr>\n",
       "    <tr>\n",
       "      <th>12</th>\n",
       "      <td>days_since_last_search</td>\n",
       "      <td>1.990265</td>\n",
       "    </tr>\n",
       "    <tr>\n",
       "      <th>13</th>\n",
       "      <td>days_since_last_click</td>\n",
       "      <td>1.334578</td>\n",
       "    </tr>\n",
       "    <tr>\n",
       "      <th>14</th>\n",
       "      <td>days_since_first_to_cart</td>\n",
       "      <td>1.262957</td>\n",
       "    </tr>\n",
       "    <tr>\n",
       "      <th>15</th>\n",
       "      <td>days_since_first_click</td>\n",
       "      <td>1.066957</td>\n",
       "    </tr>\n",
       "    <tr>\n",
       "      <th>16</th>\n",
       "      <td>sum_discount_price_click</td>\n",
       "      <td>0.723591</td>\n",
       "    </tr>\n",
       "    <tr>\n",
       "      <th>17</th>\n",
       "      <td>max_discount_price_click</td>\n",
       "      <td>0.643779</td>\n",
       "    </tr>\n",
       "    <tr>\n",
       "      <th>18</th>\n",
       "      <td>num_products_favorite</td>\n",
       "      <td>0.623229</td>\n",
       "    </tr>\n",
       "    <tr>\n",
       "      <th>19</th>\n",
       "      <td>days_since_last_favorite</td>\n",
       "      <td>0.486974</td>\n",
       "    </tr>\n",
       "    <tr>\n",
       "      <th>20</th>\n",
       "      <td>max_discount_price_favorite</td>\n",
       "      <td>0.456602</td>\n",
       "    </tr>\n",
       "    <tr>\n",
       "      <th>21</th>\n",
       "      <td>days_since_first_favorite</td>\n",
       "      <td>0.428605</td>\n",
       "    </tr>\n",
       "    <tr>\n",
       "      <th>22</th>\n",
       "      <td>sum_discount_price_favorite</td>\n",
       "      <td>0.222741</td>\n",
       "    </tr>\n",
       "  </tbody>\n",
       "</table>\n",
       "</div>"
      ],
      "text/plain": [
       "                     Feature Id  Importances\n",
       "0            num_products_order    16.167307\n",
       "1      sum_discount_price_order    14.697948\n",
       "2         days_since_last_order    14.113620\n",
       "3      max_discount_price_order     8.943784\n",
       "4    sum_discount_price_to_cart     7.512843\n",
       "5        days_since_first_order     6.315378\n",
       "6          num_products_to_cart     5.345242\n",
       "7                    num_search     4.614047\n",
       "8            num_products_click     4.212619\n",
       "9       days_since_last_to_cart     3.714896\n",
       "10      days_since_first_search     2.722766\n",
       "11   max_discount_price_to_cart     2.399271\n",
       "12       days_since_last_search     1.990265\n",
       "13        days_since_last_click     1.334578\n",
       "14     days_since_first_to_cart     1.262957\n",
       "15       days_since_first_click     1.066957\n",
       "16     sum_discount_price_click     0.723591\n",
       "17     max_discount_price_click     0.643779\n",
       "18        num_products_favorite     0.623229\n",
       "19     days_since_last_favorite     0.486974\n",
       "20  max_discount_price_favorite     0.456602\n",
       "21    days_since_first_favorite     0.428605\n",
       "22  sum_discount_price_favorite     0.222741"
      ]
     },
     "execution_count": 27,
     "metadata": {},
     "output_type": "execute_result"
    }
   ],
   "source": [
    "fi = model.get_feature_importance(eval_pool, prettified=True)\n",
    "fi.head(50)"
   ]
  },
  {
   "cell_type": "code",
   "execution_count": null,
   "id": "41a54da8",
   "metadata": {},
   "outputs": [],
   "source": []
  },
  {
   "cell_type": "code",
   "execution_count": 28,
   "id": "fbef95c1",
   "metadata": {},
   "outputs": [],
   "source": [
    "test_users_submission = (\n",
    "    pl.read_csv(os.path.join(data_path, 'test_users.csv'))\n",
    ")"
   ]
  },
  {
   "cell_type": "code",
   "execution_count": 29,
   "id": "0d0beb27",
   "metadata": {},
   "outputs": [],
   "source": [
    "actions_aggs = {}\n",
    "actions_id_to_suf = {\n",
    "    1: \"click\",\n",
    "    2: \"favorite\",\n",
    "    3: \"order\",\n",
    "    5: \"to_cart\",\n",
    "}\n",
    "for id_, suf in actions_id_to_suf.items():\n",
    "    aggs = (\n",
    "        actions_history\n",
    "        .filter(pl.col('timestamp').dt.date() <= val_end_date)\n",
    "        .filter(pl.col('timestamp').dt.date() >= val_end_date - timedelta(days=30 * 4))\n",
    "        .filter(pl.col('action_type_id') == id_)\n",
    "        .join(\n",
    "            product_information\n",
    "            .select('product_id', 'discount_price'),\n",
    "            on='product_id',\n",
    "        )\n",
    "        .group_by('user_id')\n",
    "        .agg(\n",
    "            pl.count('product_id').cast(pl.Int32).alias(f'num_products_{suf}'),\n",
    "            pl.sum('discount_price').cast(pl.Float32).alias(f'sum_discount_price_{suf}'),\n",
    "            pl.max('discount_price').cast(pl.Float32).alias(f'max_discount_price_{suf}'),\n",
    "            pl.max('timestamp').alias(f'last_{suf}_time'),\n",
    "            pl.min('timestamp').alias(f'first_{suf}_time'),\n",
    "        )\n",
    "        .with_columns([\n",
    "            (pl.lit(test_start_date) - pl.col(f'last_{suf}_time'))\n",
    "            .dt.total_days()\n",
    "            .cast(pl.Int32)\n",
    "            .alias(f'days_since_last_{suf}'),\n",
    "            \n",
    "            (pl.lit(test_start_date) - pl.col(f'first_{suf}_time'))\n",
    "            .dt.total_days()\n",
    "            .cast(pl.Int32)\n",
    "            .alias(f'days_since_first_{suf}'),\n",
    "        ])\n",
    "        .select(\n",
    "            'user_id',\n",
    "            f'num_products_{suf}',\n",
    "            f'sum_discount_price_{suf}',\n",
    "            f'max_discount_price_{suf}',\n",
    "            f'days_since_last_{suf}',\n",
    "            f'days_since_first_{suf}',\n",
    "        )\n",
    "    )\n",
    "    actions_aggs[id_] = aggs"
   ]
  },
  {
   "cell_type": "code",
   "execution_count": 30,
   "id": "4e8ff0f7",
   "metadata": {},
   "outputs": [],
   "source": [
    "# search_aggs\n",
    "id_ = 4\n",
    "suf = 'search'\n",
    "actions_aggs[id_] = (\n",
    "    search_history\n",
    "    .filter(pl.col('action_type_id') == id_)\n",
    "    .filter(pl.col('timestamp').dt.date() <= val_end_date)\n",
    "    .filter(pl.col('timestamp').dt.date() >= val_end_date - timedelta(days=30 * 4))\n",
    "    .group_by('user_id')\n",
    "    .agg(\n",
    "        pl.count('search_query').cast(pl.Int32).alias(f'num_{suf}'),\n",
    "        pl.max('timestamp').alias(f'last_{suf}_time'),\n",
    "        pl.min('timestamp').alias(f'first_{suf}_time'),\n",
    "    )\n",
    "    .with_columns([\n",
    "        (pl.lit(test_start_date) - pl.col(f'last_{suf}_time'))\n",
    "        .dt.total_days()\n",
    "        .cast(pl.Int32)\n",
    "        .alias(f'days_since_last_{suf}'),\n",
    "\n",
    "        (pl.lit(test_start_date) - pl.col(f'first_{suf}_time'))\n",
    "        .dt.total_days()\n",
    "        .cast(pl.Int32)\n",
    "        .alias(f'days_since_first_{suf}'),\n",
    "    ])\n",
    "    .select(\n",
    "        'user_id',\n",
    "        f'num_{suf}',\n",
    "        f'days_since_last_{suf}',\n",
    "        f'days_since_first_{suf}',\n",
    "    )\n",
    ")"
   ]
  },
  {
   "cell_type": "code",
   "execution_count": 31,
   "id": "084f82fd",
   "metadata": {},
   "outputs": [],
   "source": [
    "df = test_users_submission\n",
    "for _, actions_aggs_df in actions_aggs.items():\n",
    "    df = (\n",
    "        df\n",
    "        .join(actions_aggs_df, on='user_id', how='left')\n",
    "    )"
   ]
  },
  {
   "cell_type": "code",
   "execution_count": 32,
   "id": "d08f588f",
   "metadata": {},
   "outputs": [],
   "source": [
    "df_pd = df.to_pandas()"
   ]
  },
  {
   "cell_type": "code",
   "execution_count": 33,
   "id": "3b68cce8",
   "metadata": {},
   "outputs": [
    {
     "data": {
      "text/plain": [
       "(2068424, 24)"
      ]
     },
     "execution_count": 33,
     "metadata": {},
     "output_type": "execute_result"
    }
   ],
   "source": [
    "df_pd.shape"
   ]
  },
  {
   "cell_type": "code",
   "execution_count": 34,
   "id": "d103230a",
   "metadata": {},
   "outputs": [],
   "source": [
    "df_pd['predict'] = model.predict(df_pd[cols], prediction_type=\"Probability\")[:, 1]"
   ]
  },
  {
   "cell_type": "code",
   "execution_count": 35,
   "id": "ad82a799",
   "metadata": {},
   "outputs": [
    {
     "data": {
      "text/html": [
       "<div>\n",
       "<style scoped>\n",
       "    .dataframe tbody tr th:only-of-type {\n",
       "        vertical-align: middle;\n",
       "    }\n",
       "\n",
       "    .dataframe tbody tr th {\n",
       "        vertical-align: top;\n",
       "    }\n",
       "\n",
       "    .dataframe thead th {\n",
       "        text-align: right;\n",
       "    }\n",
       "</style>\n",
       "<table border=\"1\" class=\"dataframe\">\n",
       "  <thead>\n",
       "    <tr style=\"text-align: right;\">\n",
       "      <th></th>\n",
       "      <th>user_id</th>\n",
       "      <th>predict</th>\n",
       "    </tr>\n",
       "  </thead>\n",
       "  <tbody>\n",
       "    <tr>\n",
       "      <th>0</th>\n",
       "      <td>1342</td>\n",
       "      <td>0.179307</td>\n",
       "    </tr>\n",
       "    <tr>\n",
       "      <th>1</th>\n",
       "      <td>9852</td>\n",
       "      <td>0.776654</td>\n",
       "    </tr>\n",
       "    <tr>\n",
       "      <th>2</th>\n",
       "      <td>10206</td>\n",
       "      <td>0.222919</td>\n",
       "    </tr>\n",
       "    <tr>\n",
       "      <th>3</th>\n",
       "      <td>11317</td>\n",
       "      <td>0.220442</td>\n",
       "    </tr>\n",
       "    <tr>\n",
       "      <th>4</th>\n",
       "      <td>13289</td>\n",
       "      <td>0.629701</td>\n",
       "    </tr>\n",
       "    <tr>\n",
       "      <th>...</th>\n",
       "      <td>...</td>\n",
       "      <td>...</td>\n",
       "    </tr>\n",
       "    <tr>\n",
       "      <th>2068419</th>\n",
       "      <td>11157283</td>\n",
       "      <td>0.224564</td>\n",
       "    </tr>\n",
       "    <tr>\n",
       "      <th>2068420</th>\n",
       "      <td>11160395</td>\n",
       "      <td>0.142664</td>\n",
       "    </tr>\n",
       "    <tr>\n",
       "      <th>2068421</th>\n",
       "      <td>11165052</td>\n",
       "      <td>0.593136</td>\n",
       "    </tr>\n",
       "    <tr>\n",
       "      <th>2068422</th>\n",
       "      <td>11168218</td>\n",
       "      <td>0.532514</td>\n",
       "    </tr>\n",
       "    <tr>\n",
       "      <th>2068423</th>\n",
       "      <td>11172313</td>\n",
       "      <td>0.492040</td>\n",
       "    </tr>\n",
       "  </tbody>\n",
       "</table>\n",
       "<p>2068424 rows × 2 columns</p>\n",
       "</div>"
      ],
      "text/plain": [
       "          user_id   predict\n",
       "0            1342  0.179307\n",
       "1            9852  0.776654\n",
       "2           10206  0.222919\n",
       "3           11317  0.220442\n",
       "4           13289  0.629701\n",
       "...           ...       ...\n",
       "2068419  11157283  0.224564\n",
       "2068420  11160395  0.142664\n",
       "2068421  11165052  0.593136\n",
       "2068422  11168218  0.532514\n",
       "2068423  11172313  0.492040\n",
       "\n",
       "[2068424 rows x 2 columns]"
      ]
     },
     "execution_count": 35,
     "metadata": {},
     "output_type": "execute_result"
    }
   ],
   "source": [
    "df_pd[['user_id', 'predict']]"
   ]
  },
  {
   "cell_type": "code",
   "execution_count": 36,
   "id": "a756e7da",
   "metadata": {},
   "outputs": [],
   "source": [
    "df_pd[['user_id', 'predict']].to_csv('polar_sub.csv', index=False)"
   ]
  },
  {
   "cell_type": "code",
   "execution_count": null,
   "id": "a74f5ad1",
   "metadata": {},
   "outputs": [],
   "source": []
  }
 ],
 "metadata": {
  "kernelspec": {
   "display_name": "base",
   "language": "python",
   "name": "python3"
  },
  "language_info": {
   "codemirror_mode": {
    "name": "ipython",
    "version": 3
   },
   "file_extension": ".py",
   "mimetype": "text/x-python",
   "name": "python",
   "nbconvert_exporter": "python",
   "pygments_lexer": "ipython3",
   "version": "3.12.7"
  }
 },
 "nbformat": 4,
 "nbformat_minor": 5
}
