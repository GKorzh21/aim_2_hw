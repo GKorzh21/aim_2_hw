{
 "cells": [
  {
   "cell_type": "markdown",
   "metadata": {},
   "source": [
    "# Дорогой дневник"
   ]
  },
  {
   "cell_type": "markdown",
   "metadata": {},
   "source": [
    "--------------------------------------------"
   ]
  },
  {
   "cell_type": "markdown",
   "metadata": {},
   "source": [
    "1) Сначала я решил попробовать без генерации новых фичей и без подкрутки параметров запустить LightGBM и посмотреть, что будет. Скор 0.720\n",
    "При этом пока еще нет ни генерации новых признаков, ни использования таблицы поиска и тд. Попробуем добавить.\n",
    "\n",
    "2) Просто запускаем код из \"baseline_1_pandas.ipynb\" и получаем обещаный скор 0.817\n",
    "\n",
    "3) Оптюнил 10 минут, безрезультатно. Буду придумывать новые признаки. Думаю начать с кластеризации и knn. \n",
    "\n",
    "4) Сначала решил просто расширить плавающее окно с 4 до 5 месяцев, результат 0.8192.\n",
    "\n",
    "    Есть огромное количество идей, только что заменил пандас на поларс, потому что он реально на порядок быстрее. В первую очередь хочется применить знания с семинара по интерпретации бустингов, но сначала заменить катбуст на lgbm, ибо Илья утверждал, что при должном обращении он рвет и мечет.\n",
    "\n",
    "5) Провел маштабное расследование в данных. Сначала просто обучил lgbm со скором примерно 0.817 и применил на нам всю информацию из семинара про интерпретацию бустингов. Пока что не совсем понятно как это оформиать и как интерпретировать некотрые вещи, но что точно ясно это то, что модель досточно устойчива и надежна, она не реазирует на теневые фичи, а это значит что местами можно делать бред не боясь за последствия. Например сделать полиномиальные фичи - всео со всеми. \n",
    "\n",
    "6) Это я и сделал. Паралельно с этим убрад один выбрас user_id = 2346229. У человека были абсолютно неадекватные зхначения. Есть еще большое количество таких людей, но у них значения не такие радикальные и я боюсь что они могут оказаться просто очень активными пользователями, выкидывать их значит лишать себя бесценной информации. После добавления пачуи полиномиальных фичей скор стал 0.8210. Дальше планирую применить кластеризацию на поиске и заказах. Мне кажется очень логичным, что если человек совершал покупки одной категории, то он вероятнее купит еще, чем другой человек с та4ким же числом покупок, но разных категорий. "
   ]
  },
  {
   "cell_type": "markdown",
   "metadata": {},
   "source": [
    "--------------------------------------------"
   ]
  },
  {
   "cell_type": "code",
   "execution_count": 47,
   "metadata": {},
   "outputs": [
    {
     "name": "stdout",
     "output_type": "stream",
     "text": [
      "The autoreload extension is already loaded. To reload it, use:\n",
      "  %reload_ext autoreload\n"
     ]
    }
   ],
   "source": [
    "import polars as pl\n",
    "import pandas as pd\n",
    "import numpy as np\n",
    "import catboost\n",
    "import os\n",
    "from datetime import date, timedelta\n",
    "from itertools import combinations\n",
    "\n",
    "from local_utils import *\n",
    "import lightgbm as lgb\n",
    "\n",
    "%load_ext autoreload\n",
    "%autoreload 2\n"
   ]
  },
  {
   "cell_type": "code",
   "execution_count": 48,
   "metadata": {},
   "outputs": [],
   "source": [
    "test_start_date = date(2024, 8, 1)\n",
    "val_start_date = date(2024, 7, 1)\n",
    "val_end_date = date(2024, 7, 31)\n",
    "train_end_date = date(2024, 6, 30)\n",
    "data_path = \"C:\\\\Users\\\\Admin\\\\Desktop\\\\AIM 2сем\\\\ML2\\\\hw2\""
   ]
  },
  {
   "cell_type": "code",
   "execution_count": 49,
   "metadata": {},
   "outputs": [],
   "source": [
    "actions_history = pl.scan_parquet(os.path.join(data_path, 'actions_history/*.parquet')).collect()\n",
    "search_history = pl.scan_parquet(os.path.join(data_path, 'search_history/*.parquet')).collect()\n",
    "product_information = pl.read_csv(\n",
    "    os.path.join(data_path, 'product_information.csv'),\n",
    "    ignore_errors=True\n",
    ")"
   ]
  },
  {
   "cell_type": "code",
   "execution_count": 50,
   "metadata": {},
   "outputs": [],
   "source": [
    "val_target = (\n",
    "    actions_history\n",
    "    .filter(pl.col('timestamp').dt.date() >= val_start_date)\n",
    "    .filter(pl.col('timestamp').dt.date() <= val_end_date)\n",
    "    .select('user_id', (pl.col('action_type_id') == 3).alias('has_order'))\n",
    "    .group_by('user_id')\n",
    "    .agg(pl.max('has_order').cast(pl.Int32).alias('target'))\n",
    ")"
   ]
  },
  {
   "cell_type": "code",
   "execution_count": 51,
   "metadata": {},
   "outputs": [
    {
     "data": {
      "text/html": [
       "<div><style>\n",
       ".dataframe > thead > tr,\n",
       ".dataframe > tbody > tr {\n",
       "  text-align: right;\n",
       "  white-space: pre-wrap;\n",
       "}\n",
       "</style>\n",
       "<small>shape: (2, 2)</small><table border=\"1\" class=\"dataframe\"><thead><tr><th>target</th><th>user_id</th></tr><tr><td>i32</td><td>u32</td></tr></thead><tbody><tr><td>0</td><td>1227381</td></tr><tr><td>1</td><td>647575</td></tr></tbody></table></div>"
      ],
      "text/plain": [
       "shape: (2, 2)\n",
       "┌────────┬─────────┐\n",
       "│ target ┆ user_id │\n",
       "│ ---    ┆ ---     │\n",
       "│ i32    ┆ u32     │\n",
       "╞════════╪═════════╡\n",
       "│ 0      ┆ 1227381 │\n",
       "│ 1      ┆ 647575  │\n",
       "└────────┴─────────┘"
      ]
     },
     "execution_count": 51,
     "metadata": {},
     "output_type": "execute_result"
    }
   ],
   "source": [
    "val_target.group_by('target').agg(pl.count('user_id'))"
   ]
  },
  {
   "cell_type": "code",
   "execution_count": 52,
   "metadata": {},
   "outputs": [],
   "source": [
    "actions_aggs = {}\n",
    "actions_id_to_suf = {\n",
    "    1: \"click\",\n",
    "    2: \"favorite\", \n",
    "    3: \"order\",\n",
    "    5: \"to_cart\",\n",
    "}\n",
    "\n",
    "# Сначала соберем все агрегированные данные\n",
    "all_aggs = []\n",
    "numeric_features = []\n",
    "\n",
    "for id_, suf in actions_id_to_suf.items():\n",
    "    aggs = (\n",
    "        actions_history\n",
    "        .filter(pl.col('timestamp').dt.date() <= train_end_date)\n",
    "        .filter(pl.col('timestamp').dt.date() >= train_end_date - timedelta(days=30 * 4))\n",
    "        .filter(pl.col('action_type_id') == id_)\n",
    "        .join(\n",
    "            product_information.select('product_id', 'discount_price'),\n",
    "            on='product_id',\n",
    "        )\n",
    "        .group_by('user_id')\n",
    "        .agg(\n",
    "            pl.count('product_id').cast(pl.Int32).alias(f'num_products_{suf}'),\n",
    "            pl.sum('discount_price').cast(pl.Float32).alias(f'sum_discount_price_{suf}'),\n",
    "            pl.max('discount_price').cast(pl.Float32).alias(f'max_discount_price_{suf}'),\n",
    "            pl.max('timestamp').alias(f'last_{suf}_time'),\n",
    "            pl.min('timestamp').alias(f'first_{suf}_time'),\n",
    "        )\n",
    "        .with_columns([\n",
    "            (pl.lit(val_start_date) - pl.col(f'last_{suf}_time'))\n",
    "            .dt.total_days()\n",
    "            .cast(pl.Int32)\n",
    "            .alias(f'days_since_last_{suf}'),\n",
    "            \n",
    "            (pl.lit(val_start_date) - pl.col(f'first_{suf}_time'))\n",
    "            .dt.total_days()\n",
    "            .cast(pl.Int32)\n",
    "            .alias(f'days_since_first_{suf}'),\n",
    "        ])\n",
    "    )\n",
    "    \n",
    "    # Сохраняем имена числовых фичей для последующего создания полиномов\n",
    "    numeric_features.extend([\n",
    "        f'num_products_{suf}',\n",
    "        f'sum_discount_price_{suf}', \n",
    "        f'max_discount_price_{suf}',\n",
    "        f'days_since_last_{suf}',\n",
    "        f'days_since_first_{suf}',\n",
    "    ])\n",
    "    \n",
    "    actions_aggs[id_] = aggs\n",
    "    all_aggs.append(aggs)\n",
    "\n",
    "# Объединяем все агрегации по user_id с указанием суффиксов\n",
    "combined = all_aggs[0]\n",
    "for i, agg in enumerate(all_aggs[1:], 1):\n",
    "    combined = combined.join(\n",
    "        agg, \n",
    "        on='user_id', \n",
    "        how='left',\n",
    "        suffix=f\"_{i}\"  # Добавляем уникальный суффикс для каждого соединения\n",
    "    )\n",
    "\n",
    "# Альтернативный вариант - переименовываем столбцы перед соединением\n",
    "# combined = all_aggs[0]\n",
    "# for agg in all_aggs[1:]:\n",
    "#     # Переименовываем все столбцы кроме user_id\n",
    "#     cols_to_rename = [col for col in agg.columns if col != 'user_id']\n",
    "#     agg = agg.rename({col: f\"{col}_new\" for col in cols_to_rename})\n",
    "#     combined = combined.join(agg, on='user_id', how='outer')\n",
    "\n",
    "# Функция для создания полиномиальных фичей с исправлением\n",
    "def add_polynomial_features(df, features, degree=2):\n",
    "    \"\"\"\n",
    "    Добавляет полиномиальные комбинации фичей до указанной степени\n",
    "    \"\"\"\n",
    "    # Создаем копию датафрейма для модификации\n",
    "    result_df = df.clone()\n",
    "    \n",
    "    # Создаем все комбинации фичей для полиномов\n",
    "    for feat1, feat2 in combinations(features, 2):\n",
    "        # Умножение фичей (взаимодействие)\n",
    "        result_df = result_df.with_columns(\n",
    "            (pl.col(feat1) * pl.col(feat2)).alias(f'{feat1}_x_{feat2}')\n",
    "        )\n",
    "        \n",
    "        # Можно добавить другие степени при необходимости\n",
    "        if degree > 2:\n",
    "            result_df = result_df.with_columns(\n",
    "                (pl.col(feat1)**2 * pl.col(feat2)).alias(f'{feat1}^2_x_{feat2}'),\n",
    "                (pl.col(feat1) * pl.col(feat2)**2).alias(f'{feat1}_x_{feat2}^2')\n",
    "            )\n",
    "    \n",
    "    # Добавляем квадраты фичей\n",
    "    for feat in features:\n",
    "        result_df = result_df.with_columns(\n",
    "            (pl.col(feat)**2).alias(f'{feat}^2')\n",
    "        )\n",
    "        if degree > 2:\n",
    "            result_df = result_df.with_columns((pl.col(feat)**3).alias(f'{feat}^3'))\n",
    "    \n",
    "    return result_df\n",
    "\n",
    "# Добавляем полиномиальные фичи 2-й степени\n",
    "try:\n",
    "    combined_with_poly = add_polynomial_features(combined, numeric_features, degree=2)\n",
    "except Exception as e:\n",
    "    print(f\"Ошибка при создании полиномиальных фичей: {e}\")\n",
    "    # Выводим список столбцов для отладки\n",
    "    print(\"Доступные столбцы:\", combined.columns)\n",
    "    print(\"Числовые фичи для полиномов:\", numeric_features)\n",
    "    # Фильтруем только существующие фичи\n",
    "    existing_features = [f for f in numeric_features if f in combined.columns]\n",
    "    print(\"Существующие числовые фичи:\", existing_features)\n",
    "    combined_with_poly = add_polynomial_features(combined, existing_features, degree=2)"
   ]
  },
  {
   "cell_type": "code",
   "execution_count": 53,
   "metadata": {},
   "outputs": [
    {
     "data": {
      "text/html": [
       "<div><style>\n",
       ".dataframe > thead > tr,\n",
       ".dataframe > tbody > tr {\n",
       "  text-align: right;\n",
       "  white-space: pre-wrap;\n",
       "}\n",
       "</style>\n",
       "<small>shape: (3_821_124, 239)</small><table border=\"1\" class=\"dataframe\"><thead><tr><th>user_id</th><th>num_products_click</th><th>sum_discount_price_click</th><th>max_discount_price_click</th><th>last_click_time</th><th>first_click_time</th><th>days_since_last_click</th><th>days_since_first_click</th><th>num_products_favorite</th><th>sum_discount_price_favorite</th><th>max_discount_price_favorite</th><th>last_favorite_time</th><th>first_favorite_time</th><th>days_since_last_favorite</th><th>days_since_first_favorite</th><th>num_products_order</th><th>sum_discount_price_order</th><th>max_discount_price_order</th><th>last_order_time</th><th>first_order_time</th><th>days_since_last_order</th><th>days_since_first_order</th><th>num_products_to_cart</th><th>sum_discount_price_to_cart</th><th>max_discount_price_to_cart</th><th>last_to_cart_time</th><th>first_to_cart_time</th><th>days_since_last_to_cart</th><th>days_since_first_to_cart</th><th>num_products_click_x_sum_discount_price_click</th><th>num_products_click_x_max_discount_price_click</th><th>num_products_click_x_days_since_last_click</th><th>num_products_click_x_days_since_first_click</th><th>num_products_click_x_num_products_favorite</th><th>num_products_click_x_sum_discount_price_favorite</th><th>num_products_click_x_max_discount_price_favorite</th><th>num_products_click_x_days_since_last_favorite</th><th>&hellip;</th><th>days_since_last_order_x_days_since_last_to_cart</th><th>days_since_last_order_x_days_since_first_to_cart</th><th>days_since_first_order_x_num_products_to_cart</th><th>days_since_first_order_x_sum_discount_price_to_cart</th><th>days_since_first_order_x_max_discount_price_to_cart</th><th>days_since_first_order_x_days_since_last_to_cart</th><th>days_since_first_order_x_days_since_first_to_cart</th><th>num_products_to_cart_x_sum_discount_price_to_cart</th><th>num_products_to_cart_x_max_discount_price_to_cart</th><th>num_products_to_cart_x_days_since_last_to_cart</th><th>num_products_to_cart_x_days_since_first_to_cart</th><th>sum_discount_price_to_cart_x_max_discount_price_to_cart</th><th>sum_discount_price_to_cart_x_days_since_last_to_cart</th><th>sum_discount_price_to_cart_x_days_since_first_to_cart</th><th>max_discount_price_to_cart_x_days_since_last_to_cart</th><th>max_discount_price_to_cart_x_days_since_first_to_cart</th><th>days_since_last_to_cart_x_days_since_first_to_cart</th><th>num_products_click^2</th><th>sum_discount_price_click^2</th><th>max_discount_price_click^2</th><th>days_since_last_click^2</th><th>days_since_first_click^2</th><th>num_products_favorite^2</th><th>sum_discount_price_favorite^2</th><th>max_discount_price_favorite^2</th><th>days_since_last_favorite^2</th><th>days_since_first_favorite^2</th><th>num_products_order^2</th><th>sum_discount_price_order^2</th><th>max_discount_price_order^2</th><th>days_since_last_order^2</th><th>days_since_first_order^2</th><th>num_products_to_cart^2</th><th>sum_discount_price_to_cart^2</th><th>max_discount_price_to_cart^2</th><th>days_since_last_to_cart^2</th><th>days_since_first_to_cart^2</th></tr><tr><td>i32</td><td>i32</td><td>f32</td><td>f32</td><td>datetime[ns]</td><td>datetime[ns]</td><td>i32</td><td>i32</td><td>i32</td><td>f32</td><td>f32</td><td>datetime[ns]</td><td>datetime[ns]</td><td>i32</td><td>i32</td><td>i32</td><td>f32</td><td>f32</td><td>datetime[ns]</td><td>datetime[ns]</td><td>i32</td><td>i32</td><td>i32</td><td>f32</td><td>f32</td><td>datetime[ns]</td><td>datetime[ns]</td><td>i32</td><td>i32</td><td>f64</td><td>f64</td><td>i32</td><td>i32</td><td>i32</td><td>f64</td><td>f64</td><td>i32</td><td>&hellip;</td><td>i32</td><td>i32</td><td>i32</td><td>f64</td><td>f64</td><td>i32</td><td>i32</td><td>f64</td><td>f64</td><td>i32</td><td>i32</td><td>f32</td><td>f64</td><td>f64</td><td>f64</td><td>f64</td><td>i32</td><td>i32</td><td>f32</td><td>f32</td><td>i32</td><td>i32</td><td>i32</td><td>f32</td><td>f32</td><td>i32</td><td>i32</td><td>i32</td><td>f32</td><td>f32</td><td>i32</td><td>i32</td><td>i32</td><td>f32</td><td>f32</td><td>i32</td><td>i32</td></tr></thead><tbody><tr><td>2663183</td><td>2</td><td>1394.0</td><td>828.0</td><td>2024-05-12 14:21:45</td><td>2024-05-12 14:21:34</td><td>49</td><td>49</td><td>null</td><td>null</td><td>null</td><td>null</td><td>null</td><td>null</td><td>null</td><td>2</td><td>962.0</td><td>949.0</td><td>2024-05-12 14:21:23</td><td>2024-05-12 14:21:23</td><td>49</td><td>49</td><td>1</td><td>828.0</td><td>828.0</td><td>2024-05-12 14:21:53</td><td>2024-05-12 14:21:53</td><td>49</td><td>49</td><td>2788.0</td><td>1656.0</td><td>98</td><td>98</td><td>null</td><td>null</td><td>null</td><td>null</td><td>&hellip;</td><td>2401</td><td>2401</td><td>49</td><td>40572.0</td><td>40572.0</td><td>2401</td><td>2401</td><td>828.0</td><td>828.0</td><td>49</td><td>49</td><td>685584.0</td><td>40572.0</td><td>40572.0</td><td>40572.0</td><td>40572.0</td><td>2401</td><td>4</td><td>1.943236e6</td><td>685584.0</td><td>2401</td><td>2401</td><td>null</td><td>null</td><td>null</td><td>null</td><td>null</td><td>4</td><td>925444.0</td><td>900601.0</td><td>2401</td><td>2401</td><td>1</td><td>685584.0</td><td>685584.0</td><td>2401</td><td>2401</td></tr><tr><td>6051052</td><td>1</td><td>352.0</td><td>352.0</td><td>2024-05-28 20:53:13</td><td>2024-05-28 20:53:13</td><td>33</td><td>33</td><td>null</td><td>null</td><td>null</td><td>null</td><td>null</td><td>null</td><td>null</td><td>null</td><td>null</td><td>null</td><td>null</td><td>null</td><td>null</td><td>null</td><td>null</td><td>null</td><td>null</td><td>null</td><td>null</td><td>null</td><td>null</td><td>352.0</td><td>352.0</td><td>33</td><td>33</td><td>null</td><td>null</td><td>null</td><td>null</td><td>&hellip;</td><td>null</td><td>null</td><td>null</td><td>null</td><td>null</td><td>null</td><td>null</td><td>null</td><td>null</td><td>null</td><td>null</td><td>null</td><td>null</td><td>null</td><td>null</td><td>null</td><td>null</td><td>1</td><td>123904.0</td><td>123904.0</td><td>1089</td><td>1089</td><td>null</td><td>null</td><td>null</td><td>null</td><td>null</td><td>null</td><td>null</td><td>null</td><td>null</td><td>null</td><td>null</td><td>null</td><td>null</td><td>null</td><td>null</td></tr><tr><td>9113346</td><td>1</td><td>171.0</td><td>171.0</td><td>2024-06-25 04:28:52</td><td>2024-06-25 04:28:52</td><td>5</td><td>5</td><td>null</td><td>null</td><td>null</td><td>null</td><td>null</td><td>null</td><td>null</td><td>null</td><td>null</td><td>null</td><td>null</td><td>null</td><td>null</td><td>null</td><td>null</td><td>null</td><td>null</td><td>null</td><td>null</td><td>null</td><td>null</td><td>171.0</td><td>171.0</td><td>5</td><td>5</td><td>null</td><td>null</td><td>null</td><td>null</td><td>&hellip;</td><td>null</td><td>null</td><td>null</td><td>null</td><td>null</td><td>null</td><td>null</td><td>null</td><td>null</td><td>null</td><td>null</td><td>null</td><td>null</td><td>null</td><td>null</td><td>null</td><td>null</td><td>1</td><td>29241.0</td><td>29241.0</td><td>25</td><td>25</td><td>null</td><td>null</td><td>null</td><td>null</td><td>null</td><td>null</td><td>null</td><td>null</td><td>null</td><td>null</td><td>null</td><td>null</td><td>null</td><td>null</td><td>null</td></tr><tr><td>2928593</td><td>1</td><td>268.0</td><td>268.0</td><td>2024-05-04 19:37:00</td><td>2024-05-04 19:37:00</td><td>57</td><td>57</td><td>null</td><td>null</td><td>null</td><td>null</td><td>null</td><td>null</td><td>null</td><td>null</td><td>null</td><td>null</td><td>null</td><td>null</td><td>null</td><td>null</td><td>null</td><td>null</td><td>null</td><td>null</td><td>null</td><td>null</td><td>null</td><td>268.0</td><td>268.0</td><td>57</td><td>57</td><td>null</td><td>null</td><td>null</td><td>null</td><td>&hellip;</td><td>null</td><td>null</td><td>null</td><td>null</td><td>null</td><td>null</td><td>null</td><td>null</td><td>null</td><td>null</td><td>null</td><td>null</td><td>null</td><td>null</td><td>null</td><td>null</td><td>null</td><td>1</td><td>71824.0</td><td>71824.0</td><td>3249</td><td>3249</td><td>null</td><td>null</td><td>null</td><td>null</td><td>null</td><td>null</td><td>null</td><td>null</td><td>null</td><td>null</td><td>null</td><td>null</td><td>null</td><td>null</td><td>null</td></tr><tr><td>4678797</td><td>1</td><td>3149.0</td><td>3149.0</td><td>2024-06-20 12:36:26</td><td>2024-06-20 12:36:26</td><td>10</td><td>10</td><td>null</td><td>null</td><td>null</td><td>null</td><td>null</td><td>null</td><td>null</td><td>1</td><td>3149.0</td><td>3149.0</td><td>2024-06-23 19:39:07</td><td>2024-06-23 19:39:07</td><td>7</td><td>7</td><td>null</td><td>null</td><td>null</td><td>null</td><td>null</td><td>null</td><td>null</td><td>3149.0</td><td>3149.0</td><td>10</td><td>10</td><td>null</td><td>null</td><td>null</td><td>null</td><td>&hellip;</td><td>null</td><td>null</td><td>null</td><td>null</td><td>null</td><td>null</td><td>null</td><td>null</td><td>null</td><td>null</td><td>null</td><td>null</td><td>null</td><td>null</td><td>null</td><td>null</td><td>null</td><td>1</td><td>9.916201e6</td><td>9.916201e6</td><td>100</td><td>100</td><td>null</td><td>null</td><td>null</td><td>null</td><td>null</td><td>1</td><td>9.916201e6</td><td>9.916201e6</td><td>49</td><td>49</td><td>null</td><td>null</td><td>null</td><td>null</td><td>null</td></tr><tr><td>&hellip;</td><td>&hellip;</td><td>&hellip;</td><td>&hellip;</td><td>&hellip;</td><td>&hellip;</td><td>&hellip;</td><td>&hellip;</td><td>&hellip;</td><td>&hellip;</td><td>&hellip;</td><td>&hellip;</td><td>&hellip;</td><td>&hellip;</td><td>&hellip;</td><td>&hellip;</td><td>&hellip;</td><td>&hellip;</td><td>&hellip;</td><td>&hellip;</td><td>&hellip;</td><td>&hellip;</td><td>&hellip;</td><td>&hellip;</td><td>&hellip;</td><td>&hellip;</td><td>&hellip;</td><td>&hellip;</td><td>&hellip;</td><td>&hellip;</td><td>&hellip;</td><td>&hellip;</td><td>&hellip;</td><td>&hellip;</td><td>&hellip;</td><td>&hellip;</td><td>&hellip;</td><td>&hellip;</td><td>&hellip;</td><td>&hellip;</td><td>&hellip;</td><td>&hellip;</td><td>&hellip;</td><td>&hellip;</td><td>&hellip;</td><td>&hellip;</td><td>&hellip;</td><td>&hellip;</td><td>&hellip;</td><td>&hellip;</td><td>&hellip;</td><td>&hellip;</td><td>&hellip;</td><td>&hellip;</td><td>&hellip;</td><td>&hellip;</td><td>&hellip;</td><td>&hellip;</td><td>&hellip;</td><td>&hellip;</td><td>&hellip;</td><td>&hellip;</td><td>&hellip;</td><td>&hellip;</td><td>&hellip;</td><td>&hellip;</td><td>&hellip;</td><td>&hellip;</td><td>&hellip;</td><td>&hellip;</td><td>&hellip;</td><td>&hellip;</td><td>&hellip;</td><td>&hellip;</td><td>&hellip;</td></tr><tr><td>10295787</td><td>10</td><td>3459.0</td><td>598.0</td><td>2024-05-18 18:58:22</td><td>2024-05-18 11:04:39</td><td>43</td><td>43</td><td>null</td><td>null</td><td>null</td><td>null</td><td>null</td><td>null</td><td>null</td><td>null</td><td>null</td><td>null</td><td>null</td><td>null</td><td>null</td><td>null</td><td>3</td><td>1056.0</td><td>598.0</td><td>2024-05-18 19:01:51</td><td>2024-05-18 11:08:03</td><td>43</td><td>43</td><td>34590.0</td><td>5980.0</td><td>430</td><td>430</td><td>null</td><td>null</td><td>null</td><td>null</td><td>&hellip;</td><td>null</td><td>null</td><td>null</td><td>null</td><td>null</td><td>null</td><td>null</td><td>3168.0</td><td>1794.0</td><td>129</td><td>129</td><td>631488.0</td><td>45408.0</td><td>45408.0</td><td>25714.0</td><td>25714.0</td><td>1849</td><td>100</td><td>1.1964681e7</td><td>357604.0</td><td>1849</td><td>1849</td><td>null</td><td>null</td><td>null</td><td>null</td><td>null</td><td>null</td><td>null</td><td>null</td><td>null</td><td>null</td><td>9</td><td>1.115136e6</td><td>357604.0</td><td>1849</td><td>1849</td></tr><tr><td>6333510</td><td>1</td><td>229.0</td><td>229.0</td><td>2024-06-11 18:34:07</td><td>2024-06-11 18:34:07</td><td>19</td><td>19</td><td>null</td><td>null</td><td>null</td><td>null</td><td>null</td><td>null</td><td>null</td><td>null</td><td>null</td><td>null</td><td>null</td><td>null</td><td>null</td><td>null</td><td>null</td><td>null</td><td>null</td><td>null</td><td>null</td><td>null</td><td>null</td><td>229.0</td><td>229.0</td><td>19</td><td>19</td><td>null</td><td>null</td><td>null</td><td>null</td><td>&hellip;</td><td>null</td><td>null</td><td>null</td><td>null</td><td>null</td><td>null</td><td>null</td><td>null</td><td>null</td><td>null</td><td>null</td><td>null</td><td>null</td><td>null</td><td>null</td><td>null</td><td>null</td><td>1</td><td>52441.0</td><td>52441.0</td><td>361</td><td>361</td><td>null</td><td>null</td><td>null</td><td>null</td><td>null</td><td>null</td><td>null</td><td>null</td><td>null</td><td>null</td><td>null</td><td>null</td><td>null</td><td>null</td><td>null</td></tr><tr><td>6371265</td><td>1</td><td>1026.0</td><td>1026.0</td><td>2024-05-09 15:57:25</td><td>2024-05-09 15:57:25</td><td>52</td><td>52</td><td>null</td><td>null</td><td>null</td><td>null</td><td>null</td><td>null</td><td>null</td><td>null</td><td>null</td><td>null</td><td>null</td><td>null</td><td>null</td><td>null</td><td>null</td><td>null</td><td>null</td><td>null</td><td>null</td><td>null</td><td>null</td><td>1026.0</td><td>1026.0</td><td>52</td><td>52</td><td>null</td><td>null</td><td>null</td><td>null</td><td>&hellip;</td><td>null</td><td>null</td><td>null</td><td>null</td><td>null</td><td>null</td><td>null</td><td>null</td><td>null</td><td>null</td><td>null</td><td>null</td><td>null</td><td>null</td><td>null</td><td>null</td><td>null</td><td>1</td><td>1.052676e6</td><td>1.052676e6</td><td>2704</td><td>2704</td><td>null</td><td>null</td><td>null</td><td>null</td><td>null</td><td>null</td><td>null</td><td>null</td><td>null</td><td>null</td><td>null</td><td>null</td><td>null</td><td>null</td><td>null</td></tr><tr><td>5943804</td><td>5</td><td>8245.0</td><td>2009.0</td><td>2024-06-13 13:46:04</td><td>2024-06-13 13:40:16</td><td>17</td><td>17</td><td>null</td><td>null</td><td>null</td><td>null</td><td>null</td><td>null</td><td>null</td><td>null</td><td>null</td><td>null</td><td>null</td><td>null</td><td>null</td><td>null</td><td>null</td><td>null</td><td>null</td><td>null</td><td>null</td><td>null</td><td>null</td><td>41225.0</td><td>10045.0</td><td>85</td><td>85</td><td>null</td><td>null</td><td>null</td><td>null</td><td>&hellip;</td><td>null</td><td>null</td><td>null</td><td>null</td><td>null</td><td>null</td><td>null</td><td>null</td><td>null</td><td>null</td><td>null</td><td>null</td><td>null</td><td>null</td><td>null</td><td>null</td><td>null</td><td>25</td><td>6.7980024e7</td><td>4.036081e6</td><td>289</td><td>289</td><td>null</td><td>null</td><td>null</td><td>null</td><td>null</td><td>null</td><td>null</td><td>null</td><td>null</td><td>null</td><td>null</td><td>null</td><td>null</td><td>null</td><td>null</td></tr><tr><td>4940506</td><td>1</td><td>85.0</td><td>85.0</td><td>2024-04-08 12:23:28</td><td>2024-04-08 12:23:28</td><td>83</td><td>83</td><td>null</td><td>null</td><td>null</td><td>null</td><td>null</td><td>null</td><td>null</td><td>null</td><td>null</td><td>null</td><td>null</td><td>null</td><td>null</td><td>null</td><td>null</td><td>null</td><td>null</td><td>null</td><td>null</td><td>null</td><td>null</td><td>85.0</td><td>85.0</td><td>83</td><td>83</td><td>null</td><td>null</td><td>null</td><td>null</td><td>&hellip;</td><td>null</td><td>null</td><td>null</td><td>null</td><td>null</td><td>null</td><td>null</td><td>null</td><td>null</td><td>null</td><td>null</td><td>null</td><td>null</td><td>null</td><td>null</td><td>null</td><td>null</td><td>1</td><td>7225.0</td><td>7225.0</td><td>6889</td><td>6889</td><td>null</td><td>null</td><td>null</td><td>null</td><td>null</td><td>null</td><td>null</td><td>null</td><td>null</td><td>null</td><td>null</td><td>null</td><td>null</td><td>null</td><td>null</td></tr></tbody></table></div>"
      ],
      "text/plain": [
       "shape: (3_821_124, 239)\n",
       "┌──────────┬───────────┬───────────┬───────────┬───┬───────────┬───────────┬───────────┬───────────┐\n",
       "│ user_id  ┆ num_produ ┆ sum_disco ┆ max_disco ┆ … ┆ sum_disco ┆ max_disco ┆ days_sinc ┆ days_sinc │\n",
       "│ ---      ┆ cts_click ┆ unt_price ┆ unt_price ┆   ┆ unt_price ┆ unt_price ┆ e_last_to ┆ e_first_t │\n",
       "│ i32      ┆ ---       ┆ _click    ┆ _click    ┆   ┆ _to_cart^ ┆ _to_cart^ ┆ _cart^2   ┆ o_cart^2  │\n",
       "│          ┆ i32       ┆ ---       ┆ ---       ┆   ┆ 2         ┆ 2         ┆ ---       ┆ ---       │\n",
       "│          ┆           ┆ f32       ┆ f32       ┆   ┆ ---       ┆ ---       ┆ i32       ┆ i32       │\n",
       "│          ┆           ┆           ┆           ┆   ┆ f32       ┆ f32       ┆           ┆           │\n",
       "╞══════════╪═══════════╪═══════════╪═══════════╪═══╪═══════════╪═══════════╪═══════════╪═══════════╡\n",
       "│ 2663183  ┆ 2         ┆ 1394.0    ┆ 828.0     ┆ … ┆ 685584.0  ┆ 685584.0  ┆ 2401      ┆ 2401      │\n",
       "│ 6051052  ┆ 1         ┆ 352.0     ┆ 352.0     ┆ … ┆ null      ┆ null      ┆ null      ┆ null      │\n",
       "│ 9113346  ┆ 1         ┆ 171.0     ┆ 171.0     ┆ … ┆ null      ┆ null      ┆ null      ┆ null      │\n",
       "│ 2928593  ┆ 1         ┆ 268.0     ┆ 268.0     ┆ … ┆ null      ┆ null      ┆ null      ┆ null      │\n",
       "│ 4678797  ┆ 1         ┆ 3149.0    ┆ 3149.0    ┆ … ┆ null      ┆ null      ┆ null      ┆ null      │\n",
       "│ …        ┆ …         ┆ …         ┆ …         ┆ … ┆ …         ┆ …         ┆ …         ┆ …         │\n",
       "│ 10295787 ┆ 10        ┆ 3459.0    ┆ 598.0     ┆ … ┆ 1.115136e ┆ 357604.0  ┆ 1849      ┆ 1849      │\n",
       "│          ┆           ┆           ┆           ┆   ┆ 6         ┆           ┆           ┆           │\n",
       "│ 6333510  ┆ 1         ┆ 229.0     ┆ 229.0     ┆ … ┆ null      ┆ null      ┆ null      ┆ null      │\n",
       "│ 6371265  ┆ 1         ┆ 1026.0    ┆ 1026.0    ┆ … ┆ null      ┆ null      ┆ null      ┆ null      │\n",
       "│ 5943804  ┆ 5         ┆ 8245.0    ┆ 2009.0    ┆ … ┆ null      ┆ null      ┆ null      ┆ null      │\n",
       "│ 4940506  ┆ 1         ┆ 85.0      ┆ 85.0      ┆ … ┆ null      ┆ null      ┆ null      ┆ null      │\n",
       "└──────────┴───────────┴───────────┴───────────┴───┴───────────┴───────────┴───────────┴───────────┘"
      ]
     },
     "execution_count": 53,
     "metadata": {},
     "output_type": "execute_result"
    }
   ],
   "source": [
    "combined_with_poly"
   ]
  },
  {
   "cell_type": "code",
   "execution_count": 54,
   "metadata": {},
   "outputs": [],
   "source": [
    "# search_aggs\n",
    "id_ = 4\n",
    "suf = 'search'\n",
    "actions_aggs[id_] = (\n",
    "    search_history\n",
    "    .filter(pl.col('action_type_id') == id_)\n",
    "    .filter(pl.col('timestamp').dt.date() <= train_end_date)\n",
    "    .filter(pl.col('timestamp').dt.date() >= train_end_date - timedelta(days=30 * 5))\n",
    "    .group_by('user_id')\n",
    "    .agg(\n",
    "        # Общее количество поисков за 5 месяцев\n",
    "        pl.count('search_query').cast(pl.Int32).alias(f'num_{suf}'),\n",
    "        \n",
    "        # Количество поисков за последний месяц (30 дней)\n",
    "        pl.col('search_query')\n",
    "            .filter(pl.col('timestamp').dt.date() >= train_end_date - timedelta(days=30))\n",
    "            .count()\n",
    "            .cast(pl.Int32)\n",
    "            .alias(f'num_{suf}_last_month'),\n",
    "        \n",
    "        # Количество поисков за последнюю неделю (7 дней)\n",
    "        pl.col('search_query')\n",
    "            .filter(pl.col('timestamp').dt.date() >= train_end_date - timedelta(days=7))\n",
    "            .count()\n",
    "            .cast(pl.Int32)\n",
    "            .alias(f'num_{suf}_last_week'),\n",
    "        \n",
    "        # Временные метки\n",
    "        pl.max('timestamp').alias(f'last_{suf}_time'),\n",
    "        pl.min('timestamp').alias(f'first_{suf}_time'),\n",
    "    )\n",
    "    .with_columns([\n",
    "        (pl.lit(val_start_date) - pl.col(f'last_{suf}_time'))\n",
    "            .dt.total_days()\n",
    "            .cast(pl.Int32)\n",
    "            .alias(f'days_since_last_{suf}'),\n",
    "\n",
    "        (pl.lit(val_start_date) - pl.col(f'first_{suf}_time'))\n",
    "            .dt.total_days()\n",
    "            .cast(pl.Int32)\n",
    "            .alias(f'days_since_first_{suf}'),\n",
    "    ])\n",
    "    .select(\n",
    "        'user_id',\n",
    "        f'num_{suf}',                # Всего поисков за 5 месяцев\n",
    "        f'num_{suf}_last_month',     # Поисков за последний месяц\n",
    "        f'num_{suf}_last_week',      # Поисков за последнюю неделю\n",
    "        f'days_since_last_{suf}',\n",
    "        f'days_since_first_{suf}',\n",
    "    )\n",
    ")"
   ]
  },
  {
   "cell_type": "code",
   "execution_count": 55,
   "metadata": {},
   "outputs": [],
   "source": [
    "df = val_target\n",
    "for _, actions_aggs_df in actions_aggs.items():\n",
    "    df = (\n",
    "        df\n",
    "        .join(actions_aggs_df, on='user_id', how='left')\n",
    "    )"
   ]
  },
  {
   "cell_type": "code",
   "execution_count": 56,
   "metadata": {},
   "outputs": [],
   "source": [
    "df_pd = df.to_pandas()"
   ]
  },
  {
   "cell_type": "code",
   "execution_count": 57,
   "metadata": {},
   "outputs": [],
   "source": [
    "df_pd = df_pd[df_pd['user_id'] != 2346229]"
   ]
  },
  {
   "cell_type": "code",
   "execution_count": 58,
   "metadata": {},
   "outputs": [],
   "source": [
    "tr, val = get_split(df_pd, val_size=0.3)"
   ]
  },
  {
   "cell_type": "code",
   "execution_count": 59,
   "metadata": {},
   "outputs": [],
   "source": [
    "cols = [\n",
    "    'num_products_click', \n",
    "    'sum_discount_price_click', 'max_discount_price_click',\n",
    "    'days_since_last_click', 'days_since_first_click',\n",
    "    'num_products_favorite', 'sum_discount_price_favorite',\n",
    "    'max_discount_price_favorite', 'days_since_last_favorite',\n",
    "    'days_since_first_favorite', 'num_products_order',\n",
    "    'sum_discount_price_order', 'max_discount_price_order',\n",
    "    'days_since_last_order', 'days_since_first_order',\n",
    "    'num_products_to_cart', 'sum_discount_price_to_cart',\n",
    "    'max_discount_price_to_cart', 'days_since_last_to_cart',\n",
    "    'days_since_first_to_cart', 'num_search', 'days_since_last_search',\n",
    "    'days_since_first_search'\n",
    "]"
   ]
  },
  {
   "cell_type": "code",
   "execution_count": 60,
   "metadata": {},
   "outputs": [
    {
     "name": "stdout",
     "output_type": "stream",
     "text": [
      "[LightGBM] [Warning] early_stopping_round is set=60, early_stopping_rounds=60 will be ignored. Current value: early_stopping_round=60\n",
      "[LightGBM] [Info] Number of positive: 453208, number of negative: 859260\n",
      "[LightGBM] [Info] Auto-choosing row-wise multi-threading, the overhead of testing was 0.023157 seconds.\n",
      "You can set `force_row_wise=true` to remove the overhead.\n",
      "And if memory is not enough, you can set `force_col_wise=true`.\n",
      "[LightGBM] [Info] Total Bins 4421\n",
      "[LightGBM] [Info] Number of data points in the train set: 1312468, number of used features: 23\n",
      "[LightGBM] [Warning] early_stopping_round is set=60, early_stopping_rounds=60 will be ignored. Current value: early_stopping_round=60\n",
      "[LightGBM] [Info] [binary:BoostFromScore]: pavg=0.345310 -> initscore=-0.639720\n",
      "[LightGBM] [Info] Start training from score -0.639720\n",
      "Training until validation scores don't improve for 60 rounds\n",
      "Training until validation scores don't improve for 100 rounds\n",
      "Did not meet early stopping. Best iteration is:\n",
      "[699]\tvalid_0's auc: 0.757669\n"
     ]
    }
   ],
   "source": [
    "params={\n",
    "        'objective': 'binary',\n",
    "        'metric': 'auc',\n",
    "        'learning_rate': 0.01,\n",
    "        'max_depth': 100,\n",
    "        'num_iterations': 700,\n",
    "        'early_stopping_rounds': 60,\n",
    "        'verbose': 1,\n",
    "        'importance_type': 'split'\n",
    "    }\n",
    "\n",
    "model = train_model(tr, val, cols, 'target', params=params, shadow_features=False, sklearn_style=True)\n"
   ]
  },
  {
   "cell_type": "code",
   "execution_count": 61,
   "metadata": {},
   "outputs": [
    {
     "name": "stdout",
     "output_type": "stream",
     "text": [
      "feature_importance: [2068  622  549  626  371  476   75  324  201  270 1311 1458  722 1652\n",
      " 2152 1405 1248  692  856  927 1314  787  864] \n",
      "\n"
     ]
    },
    {
     "data": {
      "image/png": "[encoded data removed]",
      "text/plain": [
       "<Figure size 500x433.333 with 1 Axes>"
      ]
     },
     "metadata": {},
     "output_type": "display_data"
    }
   ],
   "source": [
    "from local_utils import *\n",
    "\n",
    "print('feature_importance:', model.feature_importances_, '\\n')\n",
    "\n",
    "plot_lgbm_importance(model, cols, importance_type='split', top_k=20, sklearn_style=True)"
   ]
  },
  {
   "cell_type": "code",
   "execution_count": 62,
   "metadata": {},
   "outputs": [],
   "source": [
    "test_users_submission = (\n",
    "    pl.read_csv(os.path.join(data_path, 'test_users.csv'))\n",
    ")"
   ]
  },
  {
   "cell_type": "code",
   "execution_count": 70,
   "metadata": {},
   "outputs": [
    {
     "name": "stderr",
     "output_type": "stream",
     "text": [
      "C:\\Users\\Admin\\AppData\\Local\\Temp\\ipykernel_32712\\263249201.py:59: DeprecationWarning: Use of `how='outer'` should be replaced with `how='full'`.\n",
      "  combined_val = combined_val.join(\n"
     ]
    }
   ],
   "source": [
    "actions_aggs = {}\n",
    "actions_id_to_suf = {\n",
    "    1: \"click\",\n",
    "    2: \"favorite\", \n",
    "    3: \"order\",\n",
    "    5: \"to_cart\",\n",
    "}\n",
    "\n",
    "# Сначала соберем все агрегированные данные\n",
    "all_aggs = []\n",
    "numeric_features = []\n",
    "\n",
    "for id_, suf in actions_id_to_suf.items():\n",
    "    aggs = (\n",
    "        actions_history\n",
    "        .filter(pl.col('timestamp').dt.date() <= val_end_date)\n",
    "        .filter(pl.col('timestamp').dt.date() >= val_end_date - timedelta(days=30 * 5))\n",
    "        .filter(pl.col('action_type_id') == id_)\n",
    "        .join(\n",
    "            product_information.select('product_id', 'discount_price'),\n",
    "            on='product_id',\n",
    "        )\n",
    "        .group_by('user_id')\n",
    "        .agg(\n",
    "            pl.count('product_id').cast(pl.Int32).alias(f'num_products_{suf}'),\n",
    "            pl.sum('discount_price').cast(pl.Float32).alias(f'sum_discount_price_{suf}'),\n",
    "            pl.max('discount_price').cast(pl.Float32).alias(f'max_discount_price_{suf}'),\n",
    "            pl.max('timestamp').alias(f'last_{suf}_time'),\n",
    "            pl.min('timestamp').alias(f'first_{suf}_time'),\n",
    "        )\n",
    "        .with_columns([\n",
    "            (pl.lit(test_start_date) - pl.col(f'last_{suf}_time'))\n",
    "            .dt.total_days()\n",
    "            .cast(pl.Int32)\n",
    "            .alias(f'days_since_last_{suf}'),\n",
    "            \n",
    "            (pl.lit(test_start_date) - pl.col(f'first_{suf}_time'))\n",
    "            .dt.total_days()\n",
    "            .cast(pl.Int32)\n",
    "            .alias(f'days_since_first_{suf}'),\n",
    "        ])\n",
    "    )\n",
    "    \n",
    "    # Сохраняем имена числовых фичей для создания полиномов\n",
    "    numeric_features.extend([\n",
    "        f'num_products_{suf}',\n",
    "        f'sum_discount_price_{suf}', \n",
    "        f'max_discount_price_{suf}',\n",
    "        f'days_since_last_{suf}',\n",
    "        f'days_since_first_{suf}',\n",
    "    ])\n",
    "    \n",
    "    actions_aggs[id_] = aggs\n",
    "    all_aggs.append(aggs)\n",
    "\n",
    "# Объединяем все агрегации по user_id с суффиксами\n",
    "combined_val = all_aggs[0]\n",
    "for i, agg in enumerate(all_aggs[1:], 1):\n",
    "    combined_val = combined_val.join(\n",
    "        agg, \n",
    "        on='user_id', \n",
    "        how='outer',\n",
    "        suffix=f\"_{i}\"\n",
    "    )\n",
    "\n",
    "# Функция для добавления полиномиальных фичей (такая же как для трейна)\n",
    "def add_polynomial_features(df, features, degree=2):\n",
    "    \"\"\"\n",
    "    Добавляет полиномиальные комбинации фичей до указанной степени\n",
    "    \"\"\"\n",
    "    # Создаем копию датафрейма для модификации\n",
    "    result_df = df.clone()\n",
    "    \n",
    "    # Создаем все комбинации фичей для полиномов\n",
    "    for feat1, feat2 in combinations(features, 2):\n",
    "        # Умножение фичей (взаимодействие)\n",
    "        result_df = result_df.with_columns(\n",
    "            (pl.col(feat1) * pl.col(feat2)).alias(f'{feat1}_x_{feat2}')\n",
    "        )\n",
    "        \n",
    "        # Можно добавить другие степени при необходимости\n",
    "        if degree > 2:\n",
    "            result_df = result_df.with_columns(\n",
    "                (pl.col(feat1)**2 * pl.col(feat2)).alias(f'{feat1}^2_x_{feat2}'),\n",
    "                (pl.col(feat1) * pl.col(feat2)**2).alias(f'{feat1}_x_{feat2}^2')\n",
    "            )\n",
    "    \n",
    "    # Добавляем квадраты фичей\n",
    "    for feat in features:\n",
    "        result_df = result_df.with_columns(\n",
    "            (pl.col(feat)**2).alias(f'{feat}^2')\n",
    "        )\n",
    "        if degree > 2:\n",
    "            result_df = result_df.with_columns(\n",
    "                (pl.col(feat)**3).alias(f'{feat}^3')\n",
    "            )\n",
    "    \n",
    "    return result_df\n",
    "\n",
    "# Добавляем полиномиальные фичи к валидационной выборке\n",
    "# Используем только существующие фичи\n",
    "existing_features = [f for f in numeric_features if f in combined_val.columns]\n",
    "combined_val_with_poly = add_polynomial_features(combined_val, existing_features, degree=2)"
   ]
  },
  {
   "cell_type": "code",
   "execution_count": 71,
   "metadata": {},
   "outputs": [],
   "source": [
    "id_ = 4\n",
    "suf = 'search'\n",
    "actions_aggs[id_] = (\n",
    "    search_history\n",
    "    .filter(pl.col('action_type_id') == id_)\n",
    "    .filter(pl.col('timestamp').dt.date() <= val_end_date)\n",
    "    .filter(pl.col('timestamp').dt.date() >= val_end_date - timedelta(days=30 * 5))\n",
    "    .group_by('user_id')\n",
    "    .agg(\n",
    "        # Общее количество поисков за 5 месяцев\n",
    "        pl.count('search_query').cast(pl.Int32).alias(f'num_{suf}'),\n",
    "        \n",
    "        # Количество поисков за последний месяц (30 дней)\n",
    "        pl.col('search_query')\n",
    "            .filter(pl.col('timestamp').dt.date() >= val_end_date - timedelta(days=30))\n",
    "            .count()\n",
    "            .cast(pl.Int32)\n",
    "            .alias(f'num_{suf}_last_month'),\n",
    "        \n",
    "        # Количество поисков за последнюю неделю (7 дней)\n",
    "        pl.col('search_query')\n",
    "            .filter(pl.col('timestamp').dt.date() >= val_end_date - timedelta(days=7))\n",
    "            .count()\n",
    "            .cast(pl.Int32)\n",
    "            .alias(f'num_{suf}_last_week'),\n",
    "        \n",
    "        # Временные метки\n",
    "        pl.max('timestamp').alias(f'last_{suf}_time'),\n",
    "        pl.min('timestamp').alias(f'first_{suf}_time'),\n",
    "    )\n",
    "    .with_columns([\n",
    "        (pl.lit(test_start_date) - pl.col(f'last_{suf}_time'))\n",
    "        .dt.total_days()\n",
    "        .cast(pl.Int32)\n",
    "        .alias(f'days_since_last_{suf}'),\n",
    "\n",
    "        (pl.lit(test_start_date) - pl.col(f'first_{suf}_time'))\n",
    "        .dt.total_days()\n",
    "        .cast(pl.Int32)\n",
    "        .alias(f'days_since_first_{suf}'),\n",
    "    ])\n",
    "    .select(\n",
    "        'user_id',\n",
    "        f'num_{suf}',                # Всего поисков за 5 месяцев\n",
    "        f'num_{suf}_last_month',     # Поисков за последний месяц\n",
    "        f'num_{suf}_last_week',      # Поисков за последнюю неделю\n",
    "        f'days_since_last_{suf}',\n",
    "        f'days_since_first_{suf}',\n",
    "    )\n",
    ")"
   ]
  },
  {
   "cell_type": "code",
   "execution_count": 72,
   "metadata": {},
   "outputs": [],
   "source": [
    "df = test_users_submission\n",
    "for _, actions_aggs_df in actions_aggs.items():\n",
    "    df = (\n",
    "        df\n",
    "        .join(actions_aggs_df, on='user_id', how='left')\n",
    "    )"
   ]
  },
  {
   "cell_type": "code",
   "execution_count": 73,
   "metadata": {},
   "outputs": [],
   "source": [
    "df_pd = df.to_pandas()"
   ]
  },
  {
   "cell_type": "code",
   "execution_count": 74,
   "metadata": {},
   "outputs": [],
   "source": [
    "df_pd['predict'] = model.predict_proba(df_pd[cols])[:, 1]"
   ]
  },
  {
   "cell_type": "code",
   "execution_count": 75,
   "metadata": {},
   "outputs": [
    {
     "data": {
      "text/html": [
       "<div>\n",
       "<style scoped>\n",
       "    .dataframe tbody tr th:only-of-type {\n",
       "        vertical-align: middle;\n",
       "    }\n",
       "\n",
       "    .dataframe tbody tr th {\n",
       "        vertical-align: top;\n",
       "    }\n",
       "\n",
       "    .dataframe thead th {\n",
       "        text-align: right;\n",
       "    }\n",
       "</style>\n",
       "<table border=\"1\" class=\"dataframe\">\n",
       "  <thead>\n",
       "    <tr style=\"text-align: right;\">\n",
       "      <th></th>\n",
       "      <th>user_id</th>\n",
       "      <th>predict</th>\n",
       "    </tr>\n",
       "  </thead>\n",
       "  <tbody>\n",
       "    <tr>\n",
       "      <th>0</th>\n",
       "      <td>1342</td>\n",
       "      <td>0.159223</td>\n",
       "    </tr>\n",
       "    <tr>\n",
       "      <th>1</th>\n",
       "      <td>9852</td>\n",
       "      <td>0.758693</td>\n",
       "    </tr>\n",
       "    <tr>\n",
       "      <th>2</th>\n",
       "      <td>10206</td>\n",
       "      <td>0.217444</td>\n",
       "    </tr>\n",
       "    <tr>\n",
       "      <th>3</th>\n",
       "      <td>11317</td>\n",
       "      <td>0.215378</td>\n",
       "    </tr>\n",
       "    <tr>\n",
       "      <th>4</th>\n",
       "      <td>13289</td>\n",
       "      <td>0.578743</td>\n",
       "    </tr>\n",
       "    <tr>\n",
       "      <th>...</th>\n",
       "      <td>...</td>\n",
       "      <td>...</td>\n",
       "    </tr>\n",
       "    <tr>\n",
       "      <th>2068419</th>\n",
       "      <td>11157283</td>\n",
       "      <td>0.223528</td>\n",
       "    </tr>\n",
       "    <tr>\n",
       "      <th>2068420</th>\n",
       "      <td>11160395</td>\n",
       "      <td>0.148461</td>\n",
       "    </tr>\n",
       "    <tr>\n",
       "      <th>2068421</th>\n",
       "      <td>11165052</td>\n",
       "      <td>0.591139</td>\n",
       "    </tr>\n",
       "    <tr>\n",
       "      <th>2068422</th>\n",
       "      <td>11168218</td>\n",
       "      <td>0.482935</td>\n",
       "    </tr>\n",
       "    <tr>\n",
       "      <th>2068423</th>\n",
       "      <td>11172313</td>\n",
       "      <td>0.469889</td>\n",
       "    </tr>\n",
       "  </tbody>\n",
       "</table>\n",
       "<p>2068424 rows × 2 columns</p>\n",
       "</div>"
      ],
      "text/plain": [
       "          user_id   predict\n",
       "0            1342  0.159223\n",
       "1            9852  0.758693\n",
       "2           10206  0.217444\n",
       "3           11317  0.215378\n",
       "4           13289  0.578743\n",
       "...           ...       ...\n",
       "2068419  11157283  0.223528\n",
       "2068420  11160395  0.148461\n",
       "2068421  11165052  0.591139\n",
       "2068422  11168218  0.482935\n",
       "2068423  11172313  0.469889\n",
       "\n",
       "[2068424 rows x 2 columns]"
      ]
     },
     "execution_count": 75,
     "metadata": {},
     "output_type": "execute_result"
    }
   ],
   "source": [
    "df_pd[['user_id', 'predict']]"
   ]
  },
  {
   "cell_type": "code",
   "execution_count": 77,
   "metadata": {},
   "outputs": [],
   "source": [
    "df_pd[['user_id', 'predict']].to_csv('res.csv', index=False)"
   ]
  },
  {
   "cell_type": "code",
   "execution_count": null,
   "metadata": {},
   "outputs": [],
   "source": []
  }
 ],
 "metadata": {
  "kernelspec": {
   "display_name": "base",
   "language": "python",
   "name": "python3"
  },
  "language_info": {
   "codemirror_mode": {
    "name": "ipython",
    "version": 3
   },
   "file_extension": ".py",
   "mimetype": "text/x-python",
   "name": "python",
   "nbconvert_exporter": "python",
   "pygments_lexer": "ipython3",
   "version": "3.12.7"
  }
 },
 "nbformat": 4,
 "nbformat_minor": 2
}
