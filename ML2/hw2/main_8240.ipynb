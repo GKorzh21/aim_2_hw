{
 "cells": [
  {
   "cell_type": "markdown",
   "id": "8c2d3475",
   "metadata": {},
   "source": [
    "# Дорогой дневник"
   ]
  },
  {
   "cell_type": "markdown",
   "id": "9e2e3f73",
   "metadata": {},
   "source": [
    "--------------------------------------------"
   ]
  },
  {
   "cell_type": "markdown",
   "id": "ff8676fd",
   "metadata": {},
   "source": [
    "1) Сначала я решил попробовать без генерации новых фичей и без подкрутки параметров запустить LightGBM и посмотреть, что будет. Скор 0.720\n",
    "При этом пока еще нет ни генерации новых признаков, ни использования таблицы поиска и тд. Попробуем добавить.\n",
    "\n",
    "2) Просто запускаем код из \"baseline_1_pandas.ipynb\" и получаем обещаный скор 0.817\n",
    "\n",
    "3) Оптюнил 10 минут, безрезультатно. Буду придумывать новые признаки. Думаю начать с кластеризации и knn. \n",
    "\n",
    "4) Сначала решил просто расширить плавающее окно с 4 до 5 месяцев, результат 0.8192.\n",
    "\n",
    "    Есть огромное количество идей, только что заменил пандас на поларс, потому что он реально на порядок быстрее. В первую очередь хочется применить знания с семинара по интерпретации бустингов, но сначала заменить катбуст на lgbm, ибо Илья утверждал, что при должном обращении он рвет и мечет."
   ]
  },
  {
   "cell_type": "markdown",
   "id": "77dcb1b5",
   "metadata": {},
   "source": [
    "--------------------------------------------"
   ]
  },
  {
   "cell_type": "markdown",
   "id": "63b591fa",
   "metadata": {},
   "source": [
    "# Другой подход к кластеризации"
   ]
  },
  {
   "cell_type": "markdown",
   "id": "0b705cb0",
   "metadata": {},
   "source": [
    "Пробуем новую идею, если не получается кластеризовать все обьекты, будем делать так: мы же уже знаем какие есть кластеры, просто раздадим метки по ключевым словам, олценим сколько осталось и проведем еще одну кластеризацию. "
   ]
  },
  {
   "cell_type": "code",
   "execution_count": 56,
   "id": "7cfafca9",
   "metadata": {},
   "outputs": [
    {
     "name": "stdout",
     "output_type": "stream",
     "text": [
      "The autoreload extension is already loaded. To reload it, use:\n",
      "  %reload_ext autoreload\n"
     ]
    },
    {
     "data": {
      "text/html": [
       "<div><style>\n",
       ".dataframe > thead > tr,\n",
       ".dataframe > tbody > tr {\n",
       "  text-align: right;\n",
       "  white-space: pre-wrap;\n",
       "}\n",
       "</style>\n",
       "<small>shape: (2, 2)</small><table border=\"1\" class=\"dataframe\"><thead><tr><th>target</th><th>user_id</th></tr><tr><td>i32</td><td>u32</td></tr></thead><tbody><tr><td>0</td><td>1227381</td></tr><tr><td>1</td><td>647575</td></tr></tbody></table></div>"
      ],
      "text/plain": [
       "shape: (2, 2)\n",
       "┌────────┬─────────┐\n",
       "│ target ┆ user_id │\n",
       "│ ---    ┆ ---     │\n",
       "│ i32    ┆ u32     │\n",
       "╞════════╪═════════╡\n",
       "│ 0      ┆ 1227381 │\n",
       "│ 1      ┆ 647575  │\n",
       "└────────┴─────────┘"
      ]
     },
     "execution_count": 56,
     "metadata": {},
     "output_type": "execute_result"
    }
   ],
   "source": [
    "import polars as pl\n",
    "import pandas as pd\n",
    "import numpy as np\n",
    "import catboost\n",
    "import os\n",
    "from datetime import date, timedelta\n",
    "from itertools import combinations\n",
    "\n",
    "from local_utils import *\n",
    "import lightgbm as lgb\n",
    "\n",
    "%load_ext autoreload\n",
    "%autoreload 2\n",
    "\n",
    "test_start_date = date(2024, 8, 1)\n",
    "val_start_date = date(2024, 7, 1)\n",
    "val_end_date = date(2024, 7, 31)\n",
    "train_end_date = date(2024, 6, 30)\n",
    "data_path = \"C:\\\\Users\\\\Admin\\\\Desktop\\\\AIM 2сем\\\\ML2\\\\hw2\"\n",
    "\n",
    "actions_history = pl.scan_parquet(os.path.join(data_path, 'actions_history/*.parquet')).collect()\n",
    "search_history = pl.scan_parquet(os.path.join(data_path, 'cluster_search/*.parquet')).collect()\n",
    "product_information = pl.read_csv(\n",
    "    os.path.join(data_path, 'cluster_product_information.csv'),\n",
    "    ignore_errors=True\n",
    ")\n",
    "\n",
    "val_target = (\n",
    "    actions_history\n",
    "    .filter(pl.col('timestamp').dt.date() >= val_start_date)\n",
    "    .filter(pl.col('timestamp').dt.date() <= val_end_date)\n",
    "    .select('user_id', (pl.col('action_type_id') == 3).alias('has_order'))\n",
    "    .group_by('user_id')\n",
    "    .agg(pl.max('has_order').cast(pl.Int32).alias('target'))\n",
    ")\n",
    "\n",
    "val_target.group_by('target').agg(pl.count('user_id'))"
   ]
  },
  {
   "cell_type": "code",
   "execution_count": 57,
   "id": "5f61834d",
   "metadata": {},
   "outputs": [],
   "source": [
    "actions_aggs = {}\n",
    "actions_id_to_suf = {\n",
    "    1: \"click\",\n",
    "    2: \"favorite\", \n",
    "    3: \"order\",\n",
    "    5: \"to_cart\",\n",
    "}\n",
    "\n",
    "# Сначала соберем все агрегированные данные\n",
    "all_aggs = []\n",
    "numeric_features = []\n",
    "\n",
    "for id_, suf in actions_id_to_suf.items():\n",
    "    aggs = (\n",
    "        actions_history\n",
    "        .filter(pl.col('timestamp').dt.date() <= train_end_date)\n",
    "        .filter(pl.col('timestamp').dt.date() >= train_end_date - timedelta(days=30 * 4))\n",
    "        .filter(pl.col('action_type_id') == id_)\n",
    "        .join(\n",
    "            product_information.select('product_id', 'discount_price'),\n",
    "            on='product_id',\n",
    "        )\n",
    "        .group_by('user_id')\n",
    "        .agg(\n",
    "            pl.count('product_id').cast(pl.Int32).alias(f'num_products_{suf}'),\n",
    "            pl.sum('discount_price').cast(pl.Float32).alias(f'sum_discount_price_{suf}'),\n",
    "            pl.max('discount_price').cast(pl.Float32).alias(f'max_discount_price_{suf}'),\n",
    "            pl.max('timestamp').alias(f'last_{suf}_time'),\n",
    "            pl.min('timestamp').alias(f'first_{suf}_time'),\n",
    "        )\n",
    "        .with_columns([\n",
    "            (pl.lit(val_start_date) - pl.col(f'last_{suf}_time'))\n",
    "            .dt.total_days()\n",
    "            .cast(pl.Int32)\n",
    "            .alias(f'days_since_last_{suf}'),\n",
    "            \n",
    "            (pl.lit(val_start_date) - pl.col(f'first_{suf}_time'))\n",
    "            .dt.total_days()\n",
    "            .cast(pl.Int32)\n",
    "            .alias(f'days_since_first_{suf}'),\n",
    "        ])\n",
    "    )\n",
    "    \n",
    "    # Сохраняем имена числовых фичей для последующего создания полиномов\n",
    "    numeric_features.extend([\n",
    "        f'num_products_{suf}',\n",
    "        f'sum_discount_price_{suf}', \n",
    "        f'max_discount_price_{suf}',\n",
    "        f'days_since_last_{suf}',\n",
    "        f'days_since_first_{suf}',\n",
    "    ])\n",
    "    \n",
    "    actions_aggs[id_] = aggs\n",
    "    all_aggs.append(aggs)\n",
    "\n",
    "# Объединяем все агрегации по user_id с указанием суффиксов\n",
    "combined = all_aggs[0]\n",
    "for i, agg in enumerate(all_aggs[1:], 1):\n",
    "    combined = combined.join(\n",
    "        agg, \n",
    "        on='user_id', \n",
    "        how='left',\n",
    "        suffix=f\"_{i}\"  # Добавляем уникальный суффикс для каждого соединения\n",
    "    )"
   ]
  },
  {
   "cell_type": "code",
   "execution_count": 58,
   "id": "df901c78",
   "metadata": {},
   "outputs": [
    {
     "name": "stderr",
     "output_type": "stream",
     "text": [
      "C:\\Users\\Admin\\AppData\\Local\\Temp\\ipykernel_17812\\276488151.py:52: DeprecationWarning: `pl.count()` is deprecated. Please use `pl.len()` instead.\n",
      "  (pl.count() / (pl.max('timestamp') - pl.min('timestamp')).dt.total_days()).alias(f'{suf}_daily_rate'),\n"
     ]
    }
   ],
   "source": [
    "# search_aggs\n",
    "id_ = 4\n",
    "suf = 'search'\n",
    "\n",
    "# Сначала вычислим value_counts отдельно и развернем их в плоскую структуру\n",
    "cluster_counts = (\n",
    "    search_history\n",
    "    .filter(pl.col('action_type_id') == id_)\n",
    "    .filter(pl.col('timestamp').dt.date() <= train_end_date)\n",
    "    .filter(pl.col('timestamp').dt.date() >= train_end_date - timedelta(days=30 * 5))\n",
    "    .group_by('user_id')\n",
    "    .agg(\n",
    "        pl.col('cluster').value_counts().alias('cluster_counts')\n",
    "    )\n",
    "    .explode('cluster_counts')\n",
    "    .with_columns(\n",
    "        pl.col('cluster_counts').struct.field('cluster').alias('cluster_name'),\n",
    "        pl.col('cluster_counts').struct.field('count').alias('cluster_count')\n",
    "    )\n",
    "    .group_by('user_id')\n",
    "    .agg(\n",
    "        pl.col('cluster_name').sort_by('cluster_count', descending=True).head(3).alias('top3_clusters'),\n",
    "        pl.col('cluster_count').sort(descending=True).head(3).alias('top3_counts')\n",
    "    )\n",
    ")\n",
    "\n",
    "actions_aggs[id_] = (\n",
    "    search_history\n",
    "    .filter(pl.col('action_type_id') == id_)\n",
    "    .filter(pl.col('timestamp').dt.date() <= train_end_date)\n",
    "    .filter(pl.col('timestamp').dt.date() >= train_end_date - timedelta(days=30 * 5))\n",
    "    .group_by('user_id')\n",
    "    .agg(\n",
    "        # Общее количество поисков за 5 месяцев\n",
    "        pl.count('search_query').cast(pl.Int32).alias(f'num_{suf}'),\n",
    "        pl.col('search_query').n_unique().alias(f'unique_{suf}_queries'),\n",
    "        \n",
    "        # Количество поисков за последний месяц (30 дней)\n",
    "        pl.col('search_query')\n",
    "            .filter(pl.col('timestamp').dt.date() >= train_end_date - timedelta(days=30))\n",
    "            .count()\n",
    "            .cast(pl.Int32)\n",
    "            .alias(f'num_{suf}_last_month'),\n",
    "        \n",
    "        # Количество поисков за последнюю неделю (7 дней)\n",
    "        pl.col('search_query')\n",
    "            .filter(pl.col('timestamp').dt.date() >= train_end_date - timedelta(days=7))\n",
    "            .count()\n",
    "            .cast(pl.Int32)\n",
    "            .alias(f'num_{suf}_last_week'),\n",
    "\n",
    "        (pl.count() / (pl.max('timestamp') - pl.min('timestamp')).dt.total_days()).alias(f'{suf}_daily_rate'),\n",
    "\n",
    "        pl.col('cluster').n_unique().alias(f'num_{suf}_clusters'),\n",
    "        pl.col('cluster').mode().first().alias(f'main_{suf}_cluster'),\n",
    "        \n",
    "        # Динамика кластеров\n",
    "        pl.col('cluster')\n",
    "            .filter(pl.col('timestamp').dt.date() >= train_end_date - timedelta(days=30))\n",
    "            .mode().first()\n",
    "            .alias(f'recent_{suf}_cluster'),\n",
    "\n",
    "        (pl.col('cluster').value_counts().struct.field('count').max() / pl.col('cluster').count()).alias(f'{suf}_cluster_concentration'),\n",
    "        \n",
    "        # Энтропия кластеров (мера разнообразия)\n",
    "        (-(pl.col('cluster').value_counts().struct.field('count') / pl.col('cluster').count()).log()\n",
    "            * (pl.col('cluster').value_counts().struct.field('count') / pl.col('cluster').count())\n",
    "            .sum()).alias(f'{suf}_cluster_entropy'),\n",
    "        \n",
    "        # Переключения между кластерами\n",
    "        pl.col('cluster').diff().fill_null(0).abs().sum().alias(f'{suf}_cluster_switches'),\n",
    "        \n",
    "        # Стабильность кластеров (процент повторяющихся)\n",
    "        ((pl.col('cluster').count() - pl.col('cluster').n_unique()) / pl.col('cluster').count())\n",
    "            .alias(f'{suf}_cluster_stability'),\n",
    "        \n",
    "        # Время в основном кластере\n",
    "        (pl.col('timestamp')\n",
    "            .filter(pl.col('cluster') == pl.col('cluster').mode().first())\n",
    "            .count() / pl.col('timestamp').count())\n",
    "            .alias(f'main_{suf}_cluster_time_ratio'),\n",
    "\n",
    "        pl.col('timestamp').filter(pl.col('cluster').diff().fill_null(0) != 0)\n",
    "            .diff()\n",
    "            .dt.total_days()\n",
    "            .mean()\n",
    "            .alias(f'{suf}_mean_cluster_switch_days'),\n",
    "\n",
    "        pl.col('search_query').str.len_chars().mean().alias(f'{suf}_mean_query_len'),\n",
    "        \n",
    "        (pl.col('search_query').str.len_chars()\n",
    "            .filter(pl.col('cluster') == pl.col('cluster').mode().first()).mean() - \n",
    "            pl.col('search_query').str.len_chars()\n",
    "                .filter(pl.col('cluster') != pl.col('cluster').mode().first()).mean())\n",
    "                .alias(f'{suf}_main_cluster_query_len_diff'),\n",
    "\n",
    "        pl.max('timestamp').alias(f'last_{suf}_time'),\n",
    "        pl.min('timestamp').alias(f'first_{suf}_time'),\n",
    "    )\n",
    "    .join(cluster_counts, on='user_id', how='left')\n",
    "    .with_columns([\n",
    "        (pl.lit(val_start_date) - pl.col(f'last_{suf}_time'))\n",
    "            .dt.total_days()\n",
    "            .cast(pl.Int32)\n",
    "            .alias(f'days_since_last_{suf}'),\n",
    "\n",
    "        (pl.lit(val_start_date) - pl.col(f'first_{suf}_time'))\n",
    "            .dt.total_days()\n",
    "            .cast(pl.Int32)\n",
    "            .alias(f'days_since_first_{suf}'),\n",
    "    ])\n",
    "    .select(\n",
    "        'user_id',\n",
    "        f'num_{suf}',\n",
    "        f'unique_{suf}_queries',\n",
    "        f'num_{suf}_last_month',\n",
    "        f'num_{suf}_last_week',\n",
    "        f'{suf}_daily_rate',\n",
    "        f'num_{suf}_clusters',\n",
    "        f'main_{suf}_cluster',\n",
    "        pl.col('top3_clusters').alias(f'top3_{suf}_clusters'),\n",
    "        pl.col('top3_counts').alias(f'top3_{suf}_counts'),\n",
    "        f'recent_{suf}_cluster',\n",
    "        f'{suf}_cluster_concentration',\n",
    "        f'{suf}_cluster_entropy',\n",
    "        f'{suf}_cluster_switches',\n",
    "        f'{suf}_cluster_stability',\n",
    "        f'main_{suf}_cluster_time_ratio',\n",
    "        f'{suf}_mean_cluster_switch_days',\n",
    "        f'{suf}_mean_query_len',\n",
    "        f'{suf}_main_cluster_query_len_diff',\n",
    "        f'days_since_last_{suf}',\n",
    "        f'days_since_first_{suf}',\n",
    "        f'last_{suf}_time',\n",
    "        f'first_{suf}_time',\n",
    "    )\n",
    ")"
   ]
  },
  {
   "cell_type": "code",
   "execution_count": 59,
   "id": "88399248",
   "metadata": {},
   "outputs": [],
   "source": [
    "product_cluster_aggs = (\n",
    "    actions_history\n",
    "    .filter(pl.col('timestamp').dt.date() <= train_end_date)\n",
    "    .filter(pl.col('timestamp').dt.date() >= train_end_date - timedelta(days=30 * 5))\n",
    "    .join(\n",
    "        product_information.select('product_id', 'cluster'),\n",
    "        on='product_id'\n",
    "    )\n",
    "    .group_by('user_id')\n",
    "    .agg(\n",
    "        # Общие агрегаты по кластерам продуктов\n",
    "        pl.col('cluster').n_unique().alias('num_product_clusters'),\n",
    "        pl.col('cluster').mode().first().alias('main_product_cluster'),\n",
    "        \n",
    "        # Аналогичные агрегаты как для search\n",
    "        (pl.col('cluster').value_counts().struct.field('count').max() / pl.col('cluster').count()).alias('product_cluster_concentration'),\n",
    "        \n",
    "        # Энтропия кластеров продуктов\n",
    "        (-(pl.col('cluster').value_counts().struct.field('count') / pl.col('cluster').count()).log()\n",
    "            * (pl.col('cluster').value_counts().struct.field('count') / pl.col('cluster').count())\n",
    "            .sum()).alias('product_cluster_entropy'),\n",
    "        \n",
    "        # Стабильность кластеров продуктов\n",
    "        ((pl.col('cluster').count() - pl.col('cluster').n_unique()) / pl.col('cluster').count())\n",
    "            .alias('product_cluster_stability'),\n",
    "        \n",
    "        # Время в основном кластере продуктов\n",
    "        (pl.col('timestamp')\n",
    "            .filter(pl.col('cluster') == pl.col('cluster').mode().first())\n",
    "            .count() / pl.col('timestamp').count()\n",
    "        ).alias('main_product_cluster_time_ratio'),\n",
    "            \n",
    "        # Top 3 кластеров продуктов\n",
    "        pl.col('cluster').value_counts().struct.field('cluster').alias('top_product_clusters'),\n",
    "        pl.col('cluster').value_counts().struct.field('count').alias('top_product_counts')\n",
    "    )\n",
    "    .with_columns(\n",
    "        pl.col('top_product_clusters').list.head(3).alias('top3_product_clusters'),\n",
    "        pl.col('top_product_counts').list.head(3).alias('top3_product_counts')\n",
    "    )\n",
    "    .drop(['top_product_clusters', 'top_product_counts'])\n",
    ")"
   ]
  },
  {
   "cell_type": "code",
   "execution_count": 60,
   "id": "582ce0de",
   "metadata": {},
   "outputs": [
    {
     "name": "stderr",
     "output_type": "stream",
     "text": [
      "C:\\Users\\Admin\\AppData\\Local\\Temp\\ipykernel_17812\\1964511306.py:14: DeprecationWarning: `pl.count()` is deprecated. Please use `pl.len()` instead.\n",
      "  pl.count().alias('total_actions_30d'),\n",
      "C:\\Users\\Admin\\AppData\\Local\\Temp\\ipykernel_17812\\1964511306.py:31: DeprecationWarning: `pl.count()` is deprecated. Please use `pl.len()` instead.\n",
      "  (pl.col('cluster').value_counts().struct.field('count').max() / pl.count()).alias('main_cluster_ratio_30d')\n"
     ]
    }
   ],
   "source": [
    "train_last_month_features = (\n",
    "    actions_history\n",
    "    .filter(\n",
    "        (pl.col('timestamp').dt.date() < val_start_date) &  # до валидации\n",
    "        (pl.col('timestamp').dt.date() >= val_start_date - timedelta(days=30))  # последние 30 дней\n",
    "    )\n",
    "    .join(\n",
    "        product_information.select('product_id', 'discount_price', 'cluster'),\n",
    "        on='product_id'\n",
    "    )\n",
    "    .group_by('user_id')\n",
    "    .agg(\n",
    "        # Общая активность\n",
    "        pl.count().alias('total_actions_30d'),\n",
    "        \n",
    "        # Разбивка по типам действий\n",
    "        (pl.col('action_type_id') == 1).sum().alias('clicks_30d'),\n",
    "        (pl.col('action_type_id') == 2).sum().alias('favorites_30d'),\n",
    "        (pl.col('action_type_id') == 5).sum().alias('cart_adds_30d'),\n",
    "        \n",
    "        # Финансовые метрики\n",
    "        pl.sum('discount_price').alias('total_spent_30d'),\n",
    "        pl.mean('discount_price').alias('avg_price_30d'),\n",
    "        \n",
    "        # Временные характеристики (исправлено!)\n",
    "        (val_start_date - pl.col('timestamp').max().dt.date()).dt.total_days().alias('days_since_last_action'),\n",
    "        (pl.col('timestamp').max() - pl.col('timestamp').min()).dt.total_days().alias('active_days_30d'),\n",
    "        \n",
    "        # Метрики кластеров\n",
    "        pl.col('cluster').n_unique().alias('unique_clusters_30d'),\n",
    "        (pl.col('cluster').value_counts().struct.field('count').max() / pl.count()).alias('main_cluster_ratio_30d')\n",
    "    )\n",
    "    .with_columns(\n",
    "        # Производные признаки\n",
    "        (pl.col('total_actions_30d') / pl.col('active_days_30d')).alias('daily_actions_rate_30d'),\n",
    "        (pl.col('cart_adds_30d') / pl.col('total_actions_30d')).alias('cart_add_ratio_30d'),\n",
    "        (pl.col('favorites_30d') / pl.col('total_actions_30d')).alias('favorite_ratio_30d')\n",
    "    )\n",
    ")"
   ]
  },
  {
   "cell_type": "code",
   "execution_count": 61,
   "id": "c6a83618",
   "metadata": {},
   "outputs": [],
   "source": [
    "df_main = val_target\n",
    "for _, actions_aggs_df in actions_aggs.items():\n",
    "    df_main = (\n",
    "        df_main\n",
    "        .join(actions_aggs_df, on='user_id', how='left')\n",
    "    )\n",
    "\n",
    "df_main = df_main.join(product_cluster_aggs, on='user_id', how='left')\n",
    "df_main = df_main.join(train_last_month_features, on='user_id', how='left')\n",
    "    \n",
    "df_pd = df_main.to_pandas()\n",
    "\n",
    "columns_to_log = ['max_discount_price_click', 'num_products_favorite', 'sum_discount_price_favorite', 'max_discount_price_favorite',  'num_products_order', 'sum_discount_price_order', 'sum_discount_price_order',  'num_products_to_cart', 'max_discount_price_to_cart', 'num_search', 'unique_search_queries', 'num_search_last_month', 'num_search_last_week', 'search_daily_rate', 'search_cluster_switches', 'search_mean_query_len', 'search_main_cluster_query_len_diff']\n",
    "\n",
    "df_pd = apply_log_transform(df_pd, columns_to_log, drop_original=True)"
   ]
  },
  {
   "cell_type": "code",
   "execution_count": 62,
   "id": "b9a90335",
   "metadata": {},
   "outputs": [
    {
     "name": "stdout",
     "output_type": "stream",
     "text": [
      "Nans filled\n",
      "Data scaled\n",
      "Using CPU\n",
      "FAISS index built\n",
      "KNN search done\n"
     ]
    },
    {
     "name": "stderr",
     "output_type": "stream",
     "text": [
      "c:\\Users\\Admin\\anaconda3\\Lib\\site-packages\\numpy\\core\\_methods.py:118: RuntimeWarning: overflow encountered in reduce\n",
      "  ret = umr_sum(arr, axis, dtype, out, keepdims, where=where)\n",
      "c:\\Users\\Admin\\anaconda3\\Lib\\site-packages\\numpy\\core\\_methods.py:152: RuntimeWarning: overflow encountered in reduce\n",
      "  arrmean = umr_sum(arr, axis, dtype, keepdims=True, where=where)\n"
     ]
    },
    {
     "name": "stdout",
     "output_type": "stream",
     "text": [
      "KNN features created\n"
     ]
    }
   ],
   "source": [
    "knn_cols = ['days_since_first_order', 'days_since_last_order', 'sum_discount_price_to_cart', 'num_products_click', 'main_search_cluster', 'search_cluster_stability', 'product_cluster_stability']\n",
    "\n",
    "df_pd = add_knn_features_faiss(df_pd, knn_cols, n_neighbors=5, use_gpu=True)"
   ]
  },
  {
   "cell_type": "code",
   "execution_count": 65,
   "id": "1ec31b0d",
   "metadata": {},
   "outputs": [
    {
     "data": {
      "text/plain": [
       "'from sklearn.model_selection import TimeSeriesSplit\\nfrom sklearn.metrics import roc_auc_score\\nimport numpy as np\\n\\n# Параметры кросс-валидации\\nn_splits = 3  # количество фолдов\\ntscv = TimeSeriesSplit(n_splits=n_splits)\\n\\nparams={\\n        \\'objective\\': \\'binary\\',\\n        \\'metric\\': \\'auc\\',\\n        \\'learning_rate\\': 0.01,\\n        \\'max_depth\\': 100,\\n        \\'num_iterations\\': 700,\\n        \\'early_stopping_rounds\\': 60,\\n        \\'verbose\\': 1,\\n        \\'importance_type\\': \\'split\\'\\n}\\n\\n# Подготовка данных\\nX = df_pd[cols].fillna(0)\\ny = df_pd[\\'target\\']\\n\\nauc_scores = []\\nfeature_importances = []\\n\\nfor train_index, val_index in tscv.split(X):\\n    X_train, X_val = X.iloc[train_index], X.iloc[val_index]\\n    y_train, y_val = y.iloc[train_index], y.iloc[val_index]\\n    \\n    # Создаем датасеты для LightGBM\\n    train_data = lgb.Dataset(X_train, label=y_train)\\n    val_data = lgb.Dataset(X_val, label=y_val)\\n    \\n    # Обучение модели\\n    model = lgb.train(\\n        params,\\n        train_data,\\n        valid_sets=[val_data],\\n        callbacks=[lgb.early_stopping(stopping_rounds=60)]\\n    )\\n    \\n    # Оценка качества\\n    val_pred = model.predict(X_val)\\n    auc_score = roc_auc_score(y_val, val_pred)\\n    auc_scores.append(auc_score)\\n    feature_importances.append(model.feature_importance(importance_type=\\'split\\'))\\n    \\n    print(f\"Fold AUC: {auc_score:.4f}\")\\n\\nprint(f\"\\nMean AUC: {np.mean(auc_scores):.4f} (+/- {np.std(auc_scores):.4f})\")'"
      ]
     },
     "execution_count": 65,
     "metadata": {},
     "output_type": "execute_result"
    }
   ],
   "source": [
    "#time series cv\n",
    "'''from sklearn.model_selection import TimeSeriesSplit\n",
    "from sklearn.metrics import roc_auc_score\n",
    "import numpy as np\n",
    "\n",
    "# Параметры кросс-валидации\n",
    "n_splits = 3  # количество фолдов\n",
    "tscv = TimeSeriesSplit(n_splits=n_splits)\n",
    "\n",
    "params={\n",
    "        'objective': 'binary',\n",
    "        'metric': 'auc',\n",
    "        'learning_rate': 0.01,\n",
    "        'max_depth': 100,\n",
    "        'num_iterations': 700,\n",
    "        'early_stopping_rounds': 60,\n",
    "        'verbose': 1,\n",
    "        'importance_type': 'split'\n",
    "}\n",
    "\n",
    "# Подготовка данных\n",
    "X = df_pd[cols].fillna(0)\n",
    "y = df_pd['target']\n",
    "\n",
    "auc_scores = []\n",
    "feature_importances = []\n",
    "\n",
    "for train_index, val_index in tscv.split(X):\n",
    "    X_train, X_val = X.iloc[train_index], X.iloc[val_index]\n",
    "    y_train, y_val = y.iloc[train_index], y.iloc[val_index]\n",
    "    \n",
    "    # Создаем датасеты для LightGBM\n",
    "    train_data = lgb.Dataset(X_train, label=y_train)\n",
    "    val_data = lgb.Dataset(X_val, label=y_val)\n",
    "    \n",
    "    # Обучение модели\n",
    "    model = lgb.train(\n",
    "        params,\n",
    "        train_data,\n",
    "        valid_sets=[val_data],\n",
    "        callbacks=[lgb.early_stopping(stopping_rounds=60)]\n",
    "    )\n",
    "    \n",
    "    # Оценка качества\n",
    "    val_pred = model.predict(X_val)\n",
    "    auc_score = roc_auc_score(y_val, val_pred)\n",
    "    auc_scores.append(auc_score)\n",
    "    feature_importances.append(model.feature_importance(importance_type='split'))\n",
    "    \n",
    "    print(f\"Fold AUC: {auc_score:.4f}\")\n",
    "\n",
    "print(f\"\\nMean AUC: {np.mean(auc_scores):.4f} (+/- {np.std(auc_scores):.4f})\")'''"
   ]
  },
  {
   "cell_type": "code",
   "execution_count": 66,
   "id": "0f6fd4ef",
   "metadata": {},
   "outputs": [
    {
     "data": {
      "text/plain": [
       "'from sklearn.model_selection import GroupKFold\\nfrom sklearn.metrics import roc_auc_score\\nimport lightgbm as lgb\\nimport numpy as np\\n\\n# Параметры модели\\nparams = {\\n    \\'objective\\': \\'binary\\',\\n    \\'metric\\': \\'auc\\',\\n    \\'learning_rate\\': 0.05,\\n    \\'max_depth\\': 100,\\n    \\'num_iterations\\': 900,\\n    \\'early_stopping_rounds\\': 60,\\n    \\'verbose\\': 1,\\n    \\'importance_type\\': \\'split\\'\\n}\\n\\n# Подготовка данных\\ngroups = df_pd[\\'user_id\\'].values\\nX = df_pd[cols].fillna(0)\\ny = df_pd[\\'target\\']\\n\\n# Кросс-валидация\\ngkf = GroupKFold(n_splits=3)\\nauc_scores = []\\n\\nfor train_idx, val_idx in gkf.split(X, y, groups):\\n    X_train, X_val = X.iloc[train_idx], X.iloc[val_idx]\\n    y_train, y_val = y.iloc[train_idx], y.iloc[val_idx]\\n    \\n    # Создаем датасеты с явным указанием валидационного набора\\n    train_data = lgb.Dataset(X_train, label=y_train)\\n    val_data = lgb.Dataset(X_val, label=y_val)\\n    \\n    # Обучаем с валидацией для ранней остановки\\n    model = lgb.train(\\n        params,\\n        train_data,\\n        valid_sets=[val_data],  # Важно: передаем валидационный набор\\n        callbacks=[lgb.log_evaluation(50)]  # Логи каждые 50 итераций\\n    )\\n    \\n    val_pred = model.predict(X_val)\\n    auc_scores.append(roc_auc_score(y_val, val_pred))\\n\\nprint(\"AUC scores per fold:\", auc_scores)\\nprint(f\"Mean AUC: {np.mean(auc_scores):.4f} (±{np.std(auc_scores):.4f})\")'"
      ]
     },
     "execution_count": 66,
     "metadata": {},
     "output_type": "execute_result"
    }
   ],
   "source": [
    "#cv group\n",
    "'''from sklearn.model_selection import GroupKFold\n",
    "from sklearn.metrics import roc_auc_score\n",
    "import lightgbm as lgb\n",
    "import numpy as np\n",
    "\n",
    "# Параметры модели\n",
    "params = {\n",
    "    'objective': 'binary',\n",
    "    'metric': 'auc',\n",
    "    'learning_rate': 0.05,\n",
    "    'max_depth': 100,\n",
    "    'num_iterations': 900,\n",
    "    'early_stopping_rounds': 60,\n",
    "    'verbose': 1,\n",
    "    'importance_type': 'split'\n",
    "}\n",
    "\n",
    "# Подготовка данных\n",
    "groups = df_pd['user_id'].values\n",
    "X = df_pd[cols].fillna(0)\n",
    "y = df_pd['target']\n",
    "\n",
    "# Кросс-валидация\n",
    "gkf = GroupKFold(n_splits=3)\n",
    "auc_scores = []\n",
    "\n",
    "for train_idx, val_idx in gkf.split(X, y, groups):\n",
    "    X_train, X_val = X.iloc[train_idx], X.iloc[val_idx]\n",
    "    y_train, y_val = y.iloc[train_idx], y.iloc[val_idx]\n",
    "    \n",
    "    # Создаем датасеты с явным указанием валидационного набора\n",
    "    train_data = lgb.Dataset(X_train, label=y_train)\n",
    "    val_data = lgb.Dataset(X_val, label=y_val)\n",
    "    \n",
    "    # Обучаем с валидацией для ранней остановки\n",
    "    model = lgb.train(\n",
    "        params,\n",
    "        train_data,\n",
    "        valid_sets=[val_data],  # Важно: передаем валидационный набор\n",
    "        callbacks=[lgb.log_evaluation(50)]  # Логи каждые 50 итераций\n",
    "    )\n",
    "    \n",
    "    val_pred = model.predict(X_val)\n",
    "    auc_scores.append(roc_auc_score(y_val, val_pred))\n",
    "\n",
    "print(\"AUC scores per fold:\", auc_scores)\n",
    "print(f\"Mean AUC: {np.mean(auc_scores):.4f} (±{np.std(auc_scores):.4f})\")'''"
   ]
  },
  {
   "cell_type": "code",
   "execution_count": null,
   "id": "4ad760db",
   "metadata": {},
   "outputs": [
    {
     "name": "stderr",
     "output_type": "stream",
     "text": [
      "[I 2025-04-02 15:55:11,236] A new study created in memory with name: no-name-e51b484d-6e0f-4c72-b260-799198ff8732\n"
     ]
    },
    {
     "name": "stdout",
     "output_type": "stream",
     "text": [
      "Training until validation scores don't improve for 50 rounds\n",
      "Did not meet early stopping. Best iteration is:\n",
      "[100]\tvalid_0's auc: 0.758794\n"
     ]
    },
    {
     "name": "stderr",
     "output_type": "stream",
     "text": [
      "[I 2025-04-02 15:55:45,134] Trial 0 finished with value: 0.7587943142738409 and parameters: {'eta': 0.005753976130815857, 'max_leaves': 203, 'linear_lambda': 0.27910849984183583}. Best is trial 0 with value: 0.7587943142738409.\n"
     ]
    },
    {
     "name": "stdout",
     "output_type": "stream",
     "text": [
      "Remaining optimization time: 566.1 seconds\n",
      "Training until validation scores don't improve for 50 rounds\n"
     ]
    },
    {
     "name": "stderr",
     "output_type": "stream",
     "text": [
      "[I 2025-04-02 15:56:15,670] Trial 1 finished with value: 0.7571385020825124 and parameters: {'eta': 0.0010245355878322105, 'max_leaves': 221, 'linear_lambda': 8.536168864845472}. Best is trial 0 with value: 0.7587943142738409.\n"
     ]
    },
    {
     "name": "stdout",
     "output_type": "stream",
     "text": [
      "Remaining optimization time: 535.6 seconds\n",
      "Training until validation scores don't improve for 50 rounds\n",
      "Did not meet early stopping. Best iteration is:\n",
      "[100]\tvalid_0's auc: 0.760913\n"
     ]
    },
    {
     "name": "stderr",
     "output_type": "stream",
     "text": [
      "[I 2025-04-02 15:56:45,156] Trial 2 finished with value: 0.7609132309587046 and parameters: {'eta': 0.03338298818076295, 'max_leaves': 186, 'linear_lambda': 0.7411072226125393}. Best is trial 2 with value: 0.7609132309587046.\n"
     ]
    },
    {
     "name": "stdout",
     "output_type": "stream",
     "text": [
      "Remaining optimization time: 506.1 seconds\n",
      "Training until validation scores don't improve for 50 rounds\n",
      "Did not meet early stopping. Best iteration is:\n",
      "[99]\tvalid_0's auc: 0.758269\n"
     ]
    },
    {
     "name": "stderr",
     "output_type": "stream",
     "text": [
      "[I 2025-04-02 15:57:16,525] Trial 3 finished with value: 0.7582686657129613 and parameters: {'eta': 0.0036316226595143274, 'max_leaves': 192, 'linear_lambda': 3.9085294848524743}. Best is trial 2 with value: 0.7609132309587046.\n"
     ]
    },
    {
     "name": "stdout",
     "output_type": "stream",
     "text": [
      "Remaining optimization time: 474.7 seconds\n",
      "Training until validation scores don't improve for 50 rounds\n",
      "Did not meet early stopping. Best iteration is:\n",
      "[99]\tvalid_0's auc: 0.76148\n"
     ]
    },
    {
     "name": "stderr",
     "output_type": "stream",
     "text": [
      "[I 2025-04-02 15:57:44,897] Trial 4 finished with value: 0.7614798618522485 and parameters: {'eta': 0.058489285577714066, 'max_leaves': 250, 'linear_lambda': 2.016487773061969}. Best is trial 4 with value: 0.7614798618522485.\n"
     ]
    },
    {
     "name": "stdout",
     "output_type": "stream",
     "text": [
      "Remaining optimization time: 446.3 seconds\n",
      "Training until validation scores don't improve for 50 rounds\n"
     ]
    },
    {
     "name": "stderr",
     "output_type": "stream",
     "text": [
      "[I 2025-04-02 15:58:17,434] Trial 5 finished with value: 0.7594493355581672 and parameters: {'eta': 0.009802049444213578, 'max_leaves': 229, 'linear_lambda': 6.0526416967835726}. Best is trial 4 with value: 0.7614798618522485.\n"
     ]
    },
    {
     "name": "stdout",
     "output_type": "stream",
     "text": [
      "Remaining optimization time: 413.8 seconds\n",
      "Training until validation scores don't improve for 50 rounds\n"
     ]
    },
    {
     "name": "stderr",
     "output_type": "stream",
     "text": [
      "[I 2025-04-02 15:58:39,233] Trial 6 finished with value: 0.7562383644117345 and parameters: {'eta': 0.002175059675050819, 'max_leaves': 61, 'linear_lambda': 4.505777069815896}. Best is trial 4 with value: 0.7614798618522485.\n"
     ]
    },
    {
     "name": "stdout",
     "output_type": "stream",
     "text": [
      "Remaining optimization time: 392.0 seconds\n",
      "Training until validation scores don't improve for 50 rounds\n",
      "Did not meet early stopping. Best iteration is:\n",
      "[82]\tvalid_0's auc: 0.76144\n"
     ]
    },
    {
     "name": "stderr",
     "output_type": "stream",
     "text": [
      "[I 2025-04-02 15:59:00,591] Trial 7 finished with value: 0.7614399614483105 and parameters: {'eta': 0.08589480855780353, 'max_leaves': 156, 'linear_lambda': 0.16223969578818775}. Best is trial 4 with value: 0.7614798618522485.\n"
     ]
    },
    {
     "name": "stdout",
     "output_type": "stream",
     "text": [
      "Remaining optimization time: 370.6 seconds\n",
      "Training until validation scores don't improve for 50 rounds\n"
     ]
    },
    {
     "name": "stderr",
     "output_type": "stream",
     "text": [
      "[I 2025-04-02 15:59:22,793] Trial 8 finished with value: 0.7615299437616896 and parameters: {'eta': 0.07461707429193765, 'max_leaves': 126, 'linear_lambda': 1.1476341440232518}. Best is trial 8 with value: 0.7615299437616896.\n"
     ]
    },
    {
     "name": "stdout",
     "output_type": "stream",
     "text": [
      "Remaining optimization time: 348.4 seconds\n",
      "Training until validation scores don't improve for 50 rounds\n"
     ]
    },
    {
     "name": "stderr",
     "output_type": "stream",
     "text": [
      "[I 2025-04-02 15:59:33,748] Trial 9 finished with value: 0.7469954200336574 and parameters: {'eta': 0.003443886951657655, 'max_leaves': 10, 'linear_lambda': 1.694159731143291}. Best is trial 8 with value: 0.7615299437616896.\n"
     ]
    },
    {
     "name": "stdout",
     "output_type": "stream",
     "text": [
      "Remaining optimization time: 337.5 seconds\n",
      "Training until validation scores don't improve for 50 rounds\n"
     ]
    },
    {
     "name": "stderr",
     "output_type": "stream",
     "text": [
      "[I 2025-04-02 15:59:59,427] Trial 10 finished with value: 0.7603840429028537 and parameters: {'eta': 0.029024461473570132, 'max_leaves': 106, 'linear_lambda': 6.643940931290837}. Best is trial 8 with value: 0.7615299437616896.\n"
     ]
    },
    {
     "name": "stdout",
     "output_type": "stream",
     "text": [
      "Remaining optimization time: 311.8 seconds\n",
      "Training until validation scores don't improve for 50 rounds\n",
      "Did not meet early stopping. Best iteration is:\n",
      "[93]\tvalid_0's auc: 0.761411\n"
     ]
    },
    {
     "name": "stderr",
     "output_type": "stream",
     "text": [
      "[I 2025-04-02 16:00:18,480] Trial 11 finished with value: 0.7614110347059256 and parameters: {'eta': 0.09929560074074607, 'max_leaves': 117, 'linear_lambda': 2.5435972027784635}. Best is trial 8 with value: 0.7615299437616896.\n"
     ]
    },
    {
     "name": "stdout",
     "output_type": "stream",
     "text": [
      "Remaining optimization time: 292.8 seconds\n",
      "Training until validation scores don't improve for 50 rounds\n",
      "Did not meet early stopping. Best iteration is:\n",
      "[100]\tvalid_0's auc: 0.761276\n"
     ]
    },
    {
     "name": "stderr",
     "output_type": "stream",
     "text": [
      "[I 2025-04-02 16:00:45,252] Trial 12 finished with value: 0.7612759974476149 and parameters: {'eta': 0.04483569133583914, 'max_leaves': 151, 'linear_lambda': 2.412381016646569}. Best is trial 8 with value: 0.7615299437616896.\n"
     ]
    },
    {
     "name": "stdout",
     "output_type": "stream",
     "text": [
      "Remaining optimization time: 266.0 seconds\n",
      "Training until validation scores don't improve for 50 rounds\n",
      "Did not meet early stopping. Best iteration is:\n",
      "[100]\tvalid_0's auc: 0.759106\n"
     ]
    },
    {
     "name": "stderr",
     "output_type": "stream",
     "text": [
      "[I 2025-04-02 16:01:09,294] Trial 13 finished with value: 0.7591060797751168 and parameters: {'eta': 0.01668992925232527, 'max_leaves': 80, 'linear_lambda': 3.366742147560524}. Best is trial 8 with value: 0.7615299437616896.\n"
     ]
    },
    {
     "name": "stdout",
     "output_type": "stream",
     "text": [
      "Remaining optimization time: 241.9 seconds\n",
      "Training until validation scores don't improve for 50 rounds\n",
      "Did not meet early stopping. Best iteration is:\n",
      "[100]\tvalid_0's auc: 0.76148\n"
     ]
    },
    {
     "name": "stderr",
     "output_type": "stream",
     "text": [
      "[I 2025-04-02 16:01:34,964] Trial 14 finished with value: 0.7614798468527246 and parameters: {'eta': 0.054775106237588495, 'max_leaves': 156, 'linear_lambda': 1.815349221395318}. Best is trial 8 with value: 0.7615299437616896.\n"
     ]
    },
    {
     "name": "stdout",
     "output_type": "stream",
     "text": [
      "Remaining optimization time: 216.3 seconds\n",
      "Training until validation scores don't improve for 50 rounds\n"
     ]
    },
    {
     "name": "stderr",
     "output_type": "stream",
     "text": [
      "[I 2025-04-02 16:02:08,025] Trial 15 finished with value: 0.7604164736346261 and parameters: {'eta': 0.020931863843343584, 'max_leaves': 248, 'linear_lambda': 5.710755491483637}. Best is trial 8 with value: 0.7615299437616896.\n"
     ]
    },
    {
     "name": "stdout",
     "output_type": "stream",
     "text": [
      "Remaining optimization time: 183.2 seconds\n",
      "Training until validation scores don't improve for 50 rounds\n"
     ]
    },
    {
     "name": "stderr",
     "output_type": "stream",
     "text": [
      "[I 2025-04-02 16:02:27,756] Trial 16 finished with value: 0.7610474986407854 and parameters: {'eta': 0.06082166860447112, 'max_leaves': 54, 'linear_lambda': 8.010129149443532}. Best is trial 8 with value: 0.7615299437616896.\n"
     ]
    },
    {
     "name": "stdout",
     "output_type": "stream",
     "text": [
      "Remaining optimization time: 163.5 seconds\n",
      "Training until validation scores don't improve for 50 rounds\n",
      "Did not meet early stopping. Best iteration is:\n",
      "[99]\tvalid_0's auc: 0.758941\n"
     ]
    },
    {
     "name": "stderr",
     "output_type": "stream",
     "text": [
      "[I 2025-04-02 16:02:53,877] Trial 17 finished with value: 0.7589409104066623 and parameters: {'eta': 0.01306232565758967, 'max_leaves': 98, 'linear_lambda': 3.22849406485317}. Best is trial 8 with value: 0.7615299437616896.\n"
     ]
    },
    {
     "name": "stdout",
     "output_type": "stream",
     "text": [
      "Remaining optimization time: 137.4 seconds\n",
      "Training until validation scores don't improve for 50 rounds\n"
     ]
    },
    {
     "name": "stderr",
     "output_type": "stream",
     "text": [
      "[I 2025-04-02 16:03:22,883] Trial 18 finished with value: 0.7607176707936911 and parameters: {'eta': 0.030710006571678064, 'max_leaves': 143, 'linear_lambda': 1.3402992099016808}. Best is trial 8 with value: 0.7615299437616896.\n"
     ]
    },
    {
     "name": "stdout",
     "output_type": "stream",
     "text": [
      "Remaining optimization time: 108.4 seconds\n",
      "Training until validation scores don't improve for 50 rounds\n",
      "Did not meet early stopping. Best iteration is:\n",
      "[100]\tvalid_0's auc: 0.75624\n"
     ]
    },
    {
     "name": "stderr",
     "output_type": "stream",
     "text": [
      "[I 2025-04-02 16:03:38,186] Trial 19 finished with value: 0.7562404300978078 and parameters: {'eta': 0.007657733467544287, 'max_leaves': 23, 'linear_lambda': 9.532939350964652}. Best is trial 8 with value: 0.7615299437616896.\n"
     ]
    },
    {
     "name": "stdout",
     "output_type": "stream",
     "text": [
      "Remaining optimization time: 93.1 seconds\n",
      "Training until validation scores don't improve for 50 rounds\n"
     ]
    },
    {
     "name": "stderr",
     "output_type": "stream",
     "text": [
      "[I 2025-04-02 16:04:03,734] Trial 20 finished with value: 0.7615808228001764 and parameters: {'eta': 0.06804300332125043, 'max_leaves': 177, 'linear_lambda': 4.8874458472638995}. Best is trial 20 with value: 0.7615808228001764.\n"
     ]
    },
    {
     "name": "stdout",
     "output_type": "stream",
     "text": [
      "Remaining optimization time: 67.5 seconds\n",
      "Training until validation scores don't improve for 50 rounds\n",
      "Did not meet early stopping. Best iteration is:\n",
      "[83]\tvalid_0's auc: 0.761492\n"
     ]
    },
    {
     "name": "stderr",
     "output_type": "stream",
     "text": [
      "[I 2025-04-02 16:04:28,877] Trial 21 finished with value: 0.7614920014297927 and parameters: {'eta': 0.08162408960638788, 'max_leaves': 255, 'linear_lambda': 4.677513823142757}. Best is trial 20 with value: 0.7615808228001764.\n"
     ]
    },
    {
     "name": "stdout",
     "output_type": "stream",
     "text": [
      "Remaining optimization time: 42.4 seconds\n",
      "Training until validation scores don't improve for 50 rounds\n"
     ]
    },
    {
     "name": "stderr",
     "output_type": "stream",
     "text": [
      "[I 2025-04-02 16:04:52,779] Trial 22 finished with value: 0.7616819412531695 and parameters: {'eta': 0.07949490935365787, 'max_leaves': 180, 'linear_lambda': 5.351622966131136}. Best is trial 22 with value: 0.7616819412531695.\n"
     ]
    },
    {
     "name": "stdout",
     "output_type": "stream",
     "text": [
      "Remaining optimization time: 18.5 seconds\n",
      "Training until validation scores don't improve for 50 rounds\n",
      "Did not meet early stopping. Best iteration is:\n",
      "[100]\tvalid_0's auc: 0.761208\n"
     ]
    },
    {
     "name": "stderr",
     "output_type": "stream",
     "text": [
      "[I 2025-04-02 16:05:21,499] Trial 23 finished with value: 0.7612082258751505 and parameters: {'eta': 0.039558030258354, 'max_leaves': 180, 'linear_lambda': 7.305592115798058}. Best is trial 22 with value: 0.7616819412531695.\n"
     ]
    },
    {
     "name": "stdout",
     "output_type": "stream",
     "text": [
      "Best trial:\n",
      "  AUC: 0.7616819412531695\n",
      "  Params: \n",
      "    eta: 0.07949490935365787\n",
      "    max_leaves: 180\n",
      "    linear_lambda: 5.351622966131136\n",
      "[LightGBM] [Warning] num_leaves is set=31, max_leaves=180 will be ignored. Current value: num_leaves=31\n",
      "[LightGBM] [Warning] learning_rate is set=0.1, eta=0.07949490935365787 will be ignored. Current value: learning_rate=0.1\n",
      "[LightGBM] [Warning] early_stopping_round is set=50, early_stopping_rounds=50 will be ignored. Current value: early_stopping_round=50\n",
      "[LightGBM] [Warning] num_leaves is set=31, max_leaves=180 will be ignored. Current value: num_leaves=31\n",
      "[LightGBM] [Warning] learning_rate is set=0.1, eta=0.07949490935365787 will be ignored. Current value: learning_rate=0.1\n",
      "[LightGBM] [Info] Number of positive: 647575, number of negative: 1227380\n",
      "[LightGBM] [Info] Auto-choosing col-wise multi-threading, the overhead of testing was 0.315425 seconds.\n",
      "You can set `force_col_wise=true` to remove the overhead.\n",
      "[LightGBM] [Info] Total Bins 21268\n",
      "[LightGBM] [Info] Number of data points in the train set: 1874955, number of used features: 109\n",
      "[LightGBM] [Info] [binary:BoostFromScore]: pavg=0.345382 -> initscore=-0.639402\n",
      "[LightGBM] [Info] Start training from score -0.639402\n"
     ]
    },
    {
     "ename": "ValueError",
     "evalue": "For early stopping, at least one dataset and eval metric is required for evaluation",
     "output_type": "error",
     "traceback": [
      "\u001b[1;31m---------------------------------------------------------------------------\u001b[0m",
      "\u001b[1;31mValueError\u001b[0m                                Traceback (most recent call last)",
      "Cell \u001b[1;32mIn[84], line 92\u001b[0m\n\u001b[0;32m     89\u001b[0m y_train \u001b[38;5;241m=\u001b[39m full_train[\u001b[38;5;124m'\u001b[39m\u001b[38;5;124mtarget\u001b[39m\u001b[38;5;124m'\u001b[39m]\n\u001b[0;32m     91\u001b[0m final_model \u001b[38;5;241m=\u001b[39m lgb\u001b[38;5;241m.\u001b[39mLGBMClassifier(\u001b[38;5;241m*\u001b[39m\u001b[38;5;241m*\u001b[39mbest_params)\n\u001b[1;32m---> 92\u001b[0m final_model\u001b[38;5;241m.\u001b[39mfit(X_train, y_train)\n\u001b[0;32m     94\u001b[0m \u001b[38;5;66;03m# Прогноз на тестовых данных\u001b[39;00m\n\u001b[0;32m     95\u001b[0m df_pd[\u001b[38;5;124m'\u001b[39m\u001b[38;5;124mpredict\u001b[39m\u001b[38;5;124m'\u001b[39m] \u001b[38;5;241m=\u001b[39m final_model\u001b[38;5;241m.\u001b[39mpredict_proba(df_pd[cols_test])[:, \u001b[38;5;241m1\u001b[39m]\n",
      "File \u001b[1;32mc:\\Users\\Admin\\anaconda3\\Lib\\site-packages\\lightgbm\\sklearn.py:1560\u001b[0m, in \u001b[0;36mLGBMClassifier.fit\u001b[1;34m(self, X, y, sample_weight, init_score, eval_set, eval_names, eval_sample_weight, eval_class_weight, eval_init_score, eval_metric, feature_name, categorical_feature, callbacks, init_model)\u001b[0m\n\u001b[0;32m   1557\u001b[0m         \u001b[38;5;28;01melse\u001b[39;00m:\n\u001b[0;32m   1558\u001b[0m             valid_sets\u001b[38;5;241m.\u001b[39mappend((valid_x, \u001b[38;5;28mself\u001b[39m\u001b[38;5;241m.\u001b[39m_le\u001b[38;5;241m.\u001b[39mtransform(valid_y)))\n\u001b[1;32m-> 1560\u001b[0m \u001b[38;5;28msuper\u001b[39m()\u001b[38;5;241m.\u001b[39mfit(\n\u001b[0;32m   1561\u001b[0m     X,\n\u001b[0;32m   1562\u001b[0m     _y,\n\u001b[0;32m   1563\u001b[0m     sample_weight\u001b[38;5;241m=\u001b[39msample_weight,\n\u001b[0;32m   1564\u001b[0m     init_score\u001b[38;5;241m=\u001b[39minit_score,\n\u001b[0;32m   1565\u001b[0m     eval_set\u001b[38;5;241m=\u001b[39mvalid_sets,\n\u001b[0;32m   1566\u001b[0m     eval_names\u001b[38;5;241m=\u001b[39meval_names,\n\u001b[0;32m   1567\u001b[0m     eval_sample_weight\u001b[38;5;241m=\u001b[39meval_sample_weight,\n\u001b[0;32m   1568\u001b[0m     eval_class_weight\u001b[38;5;241m=\u001b[39meval_class_weight,\n\u001b[0;32m   1569\u001b[0m     eval_init_score\u001b[38;5;241m=\u001b[39meval_init_score,\n\u001b[0;32m   1570\u001b[0m     eval_metric\u001b[38;5;241m=\u001b[39meval_metric,\n\u001b[0;32m   1571\u001b[0m     feature_name\u001b[38;5;241m=\u001b[39mfeature_name,\n\u001b[0;32m   1572\u001b[0m     categorical_feature\u001b[38;5;241m=\u001b[39mcategorical_feature,\n\u001b[0;32m   1573\u001b[0m     callbacks\u001b[38;5;241m=\u001b[39mcallbacks,\n\u001b[0;32m   1574\u001b[0m     init_model\u001b[38;5;241m=\u001b[39minit_model,\n\u001b[0;32m   1575\u001b[0m )\n\u001b[0;32m   1576\u001b[0m \u001b[38;5;28;01mreturn\u001b[39;00m \u001b[38;5;28mself\u001b[39m\n",
      "File \u001b[1;32mc:\\Users\\Admin\\anaconda3\\Lib\\site-packages\\lightgbm\\sklearn.py:1049\u001b[0m, in \u001b[0;36mLGBMModel.fit\u001b[1;34m(self, X, y, sample_weight, init_score, group, eval_set, eval_names, eval_sample_weight, eval_class_weight, eval_init_score, eval_group, eval_metric, feature_name, categorical_feature, callbacks, init_model)\u001b[0m\n\u001b[0;32m   1046\u001b[0m evals_result: _EvalResultDict \u001b[38;5;241m=\u001b[39m {}\n\u001b[0;32m   1047\u001b[0m callbacks\u001b[38;5;241m.\u001b[39mappend(record_evaluation(evals_result))\n\u001b[1;32m-> 1049\u001b[0m \u001b[38;5;28mself\u001b[39m\u001b[38;5;241m.\u001b[39m_Booster \u001b[38;5;241m=\u001b[39m train(\n\u001b[0;32m   1050\u001b[0m     params\u001b[38;5;241m=\u001b[39mparams,\n\u001b[0;32m   1051\u001b[0m     train_set\u001b[38;5;241m=\u001b[39mtrain_set,\n\u001b[0;32m   1052\u001b[0m     num_boost_round\u001b[38;5;241m=\u001b[39m\u001b[38;5;28mself\u001b[39m\u001b[38;5;241m.\u001b[39mn_estimators,\n\u001b[0;32m   1053\u001b[0m     valid_sets\u001b[38;5;241m=\u001b[39mvalid_sets,\n\u001b[0;32m   1054\u001b[0m     valid_names\u001b[38;5;241m=\u001b[39meval_names,\n\u001b[0;32m   1055\u001b[0m     feval\u001b[38;5;241m=\u001b[39meval_metrics_callable,  \u001b[38;5;66;03m# type: ignore[arg-type]\u001b[39;00m\n\u001b[0;32m   1056\u001b[0m     init_model\u001b[38;5;241m=\u001b[39minit_model,\n\u001b[0;32m   1057\u001b[0m     callbacks\u001b[38;5;241m=\u001b[39mcallbacks,\n\u001b[0;32m   1058\u001b[0m )\n\u001b[0;32m   1060\u001b[0m \u001b[38;5;66;03m# This populates the property self.n_features_, the number of features in the fitted model,\u001b[39;00m\n\u001b[0;32m   1061\u001b[0m \u001b[38;5;66;03m# and so should only be set after fitting.\u001b[39;00m\n\u001b[0;32m   1062\u001b[0m \u001b[38;5;66;03m#\u001b[39;00m\n\u001b[0;32m   1063\u001b[0m \u001b[38;5;66;03m# The related property self._n_features_in, which populates self.n_features_in_,\u001b[39;00m\n\u001b[0;32m   1064\u001b[0m \u001b[38;5;66;03m# is set BEFORE fitting.\u001b[39;00m\n\u001b[0;32m   1065\u001b[0m \u001b[38;5;28mself\u001b[39m\u001b[38;5;241m.\u001b[39m_n_features \u001b[38;5;241m=\u001b[39m \u001b[38;5;28mself\u001b[39m\u001b[38;5;241m.\u001b[39m_Booster\u001b[38;5;241m.\u001b[39mnum_feature()\n",
      "File \u001b[1;32mc:\\Users\\Admin\\anaconda3\\Lib\\site-packages\\lightgbm\\engine.py:332\u001b[0m, in \u001b[0;36mtrain\u001b[1;34m(params, train_set, num_boost_round, valid_sets, valid_names, feval, init_model, keep_training_booster, callbacks)\u001b[0m\n\u001b[0;32m    330\u001b[0m \u001b[38;5;28;01mtry\u001b[39;00m:\n\u001b[0;32m    331\u001b[0m     \u001b[38;5;28;01mfor\u001b[39;00m cb \u001b[38;5;129;01min\u001b[39;00m callbacks_after_iter:\n\u001b[1;32m--> 332\u001b[0m         cb(\n\u001b[0;32m    333\u001b[0m             callback\u001b[38;5;241m.\u001b[39mCallbackEnv(\n\u001b[0;32m    334\u001b[0m                 model\u001b[38;5;241m=\u001b[39mbooster,\n\u001b[0;32m    335\u001b[0m                 params\u001b[38;5;241m=\u001b[39mparams,\n\u001b[0;32m    336\u001b[0m                 iteration\u001b[38;5;241m=\u001b[39mi,\n\u001b[0;32m    337\u001b[0m                 begin_iteration\u001b[38;5;241m=\u001b[39minit_iteration,\n\u001b[0;32m    338\u001b[0m                 end_iteration\u001b[38;5;241m=\u001b[39minit_iteration \u001b[38;5;241m+\u001b[39m num_boost_round,\n\u001b[0;32m    339\u001b[0m                 evaluation_result_list\u001b[38;5;241m=\u001b[39mevaluation_result_list,\n\u001b[0;32m    340\u001b[0m             )\n\u001b[0;32m    341\u001b[0m         )\n\u001b[0;32m    342\u001b[0m \u001b[38;5;28;01mexcept\u001b[39;00m callback\u001b[38;5;241m.\u001b[39mEarlyStopException \u001b[38;5;28;01mas\u001b[39;00m earlyStopException:\n\u001b[0;32m    343\u001b[0m     booster\u001b[38;5;241m.\u001b[39mbest_iteration \u001b[38;5;241m=\u001b[39m earlyStopException\u001b[38;5;241m.\u001b[39mbest_iteration \u001b[38;5;241m+\u001b[39m \u001b[38;5;241m1\u001b[39m\n",
      "File \u001b[1;32mc:\\Users\\Admin\\anaconda3\\Lib\\site-packages\\lightgbm\\callback.py:404\u001b[0m, in \u001b[0;36m_EarlyStoppingCallback.__call__\u001b[1;34m(self, env)\u001b[0m\n\u001b[0;32m    402\u001b[0m \u001b[38;5;28;01mdef\u001b[39;00m \u001b[38;5;21m__call__\u001b[39m(\u001b[38;5;28mself\u001b[39m, env: CallbackEnv) \u001b[38;5;241m-\u001b[39m\u001b[38;5;241m>\u001b[39m \u001b[38;5;28;01mNone\u001b[39;00m:\n\u001b[0;32m    403\u001b[0m     \u001b[38;5;28;01mif\u001b[39;00m env\u001b[38;5;241m.\u001b[39miteration \u001b[38;5;241m==\u001b[39m env\u001b[38;5;241m.\u001b[39mbegin_iteration:\n\u001b[1;32m--> 404\u001b[0m         \u001b[38;5;28mself\u001b[39m\u001b[38;5;241m.\u001b[39m_init(env)\n\u001b[0;32m    405\u001b[0m     \u001b[38;5;28;01mif\u001b[39;00m \u001b[38;5;129;01mnot\u001b[39;00m \u001b[38;5;28mself\u001b[39m\u001b[38;5;241m.\u001b[39menabled:\n\u001b[0;32m    406\u001b[0m         \u001b[38;5;28;01mreturn\u001b[39;00m\n",
      "File \u001b[1;32mc:\\Users\\Admin\\anaconda3\\Lib\\site-packages\\lightgbm\\callback.py:328\u001b[0m, in \u001b[0;36m_EarlyStoppingCallback._init\u001b[1;34m(self, env)\u001b[0m\n\u001b[0;32m    326\u001b[0m \u001b[38;5;28;01mdef\u001b[39;00m \u001b[38;5;21m_init\u001b[39m(\u001b[38;5;28mself\u001b[39m, env: CallbackEnv) \u001b[38;5;241m-\u001b[39m\u001b[38;5;241m>\u001b[39m \u001b[38;5;28;01mNone\u001b[39;00m:\n\u001b[0;32m    327\u001b[0m     \u001b[38;5;28;01mif\u001b[39;00m env\u001b[38;5;241m.\u001b[39mevaluation_result_list \u001b[38;5;129;01mis\u001b[39;00m \u001b[38;5;28;01mNone\u001b[39;00m \u001b[38;5;129;01mor\u001b[39;00m env\u001b[38;5;241m.\u001b[39mevaluation_result_list \u001b[38;5;241m==\u001b[39m []:\n\u001b[1;32m--> 328\u001b[0m         \u001b[38;5;28;01mraise\u001b[39;00m \u001b[38;5;167;01mValueError\u001b[39;00m(\u001b[38;5;124m\"\u001b[39m\u001b[38;5;124mFor early stopping, at least one dataset and eval metric is required for evaluation\u001b[39m\u001b[38;5;124m\"\u001b[39m)\n\u001b[0;32m    330\u001b[0m     is_dart \u001b[38;5;241m=\u001b[39m \u001b[38;5;28many\u001b[39m(env\u001b[38;5;241m.\u001b[39mparams\u001b[38;5;241m.\u001b[39mget(alias, \u001b[38;5;124m\"\u001b[39m\u001b[38;5;124m\"\u001b[39m) \u001b[38;5;241m==\u001b[39m \u001b[38;5;124m\"\u001b[39m\u001b[38;5;124mdart\u001b[39m\u001b[38;5;124m\"\u001b[39m \u001b[38;5;28;01mfor\u001b[39;00m alias \u001b[38;5;129;01min\u001b[39;00m _ConfigAliases\u001b[38;5;241m.\u001b[39mget(\u001b[38;5;124m\"\u001b[39m\u001b[38;5;124mboosting\u001b[39m\u001b[38;5;124m\"\u001b[39m))\n\u001b[0;32m    331\u001b[0m     \u001b[38;5;28;01mif\u001b[39;00m is_dart:\n",
      "\u001b[1;31mValueError\u001b[0m: For early stopping, at least one dataset and eval metric is required for evaluation"
     ]
    }
   ],
   "source": [
    "#optuna\n",
    "\n",
    "import optuna\n",
    "from sklearn.model_selection import train_test_split\n",
    "from sklearn.metrics import roc_auc_score\n",
    "import time\n",
    "\n",
    "from local_utils import *\n",
    "\n",
    "df_pd = df_pd[df_pd['user_id'] != 2346229]\n",
    "\n",
    "df_pd_tttest = df_pd\n",
    "\n",
    "tr, val = get_split(df_pd_tttest, val_size=0.25)\n",
    "\n",
    "cols = list(set(df_pd_tttest.columns) - {'user_id', 'target', 'last_click_time', 'first_click_time', 'last_favorite_time', 'first_favorite_time', \n",
    "                                  'last_order_time', 'first_order_time', 'last_to_cart_time', 'first_to_cart_time', 'last_search_time', 'first_search_time',\n",
    "                                  'top3_search_clusters', 'top3_search_counts', 'search_cluster_entropy', 'top3_product_counts', 'product_cluster_entropy', 'top3_product_clusters'})\n",
    "\n",
    "cols_test = [s for s in cols if \"_x_\" not in s and \"^2\" not in s]\n",
    "\n",
    "# Функция для оптимизации\n",
    "def objective(trial):\n",
    "    # Параметры для оптимизации\n",
    "    params = {\n",
    "        'objective': 'binary',\n",
    "        'metric': 'auc',\n",
    "        'boosting_type': 'gbdt',  # или 'goss'/'dart', но не меняем в оптимизации\n",
    "        'learning_rate': trial.suggest_float('eta', 0.001, 0.1, log=True),\n",
    "        'num_leaves': trial.suggest_int('max_leaves', 7, 255),\n",
    "        'reg_lambda': trial.suggest_float('linear_lambda', 0.0, 10.0),\n",
    "        'verbose': -1,\n",
    "        'importance_type': 'split',\n",
    "        'early_stopping_rounds': 50  # Добавлено значение по умолчанию для early_stopping_rounds\n",
    "    }\n",
    "    \n",
    "    # Разделение на train и validation (используем ваше исходное разделение)\n",
    "    X_train = tr[cols_test]\n",
    "    y_train = tr['target']\n",
    "    X_val = val[cols_test]\n",
    "    y_val = val['target']\n",
    "    \n",
    "    # Обучение модели\n",
    "    model = lgb.LGBMClassifier(**params)\n",
    "    model.fit(\n",
    "        X_train, y_train,\n",
    "        eval_set=[(X_val, y_val)],\n",
    "        eval_metric='auc',\n",
    "        callbacks=[lgb.early_stopping(params['early_stopping_rounds'])]\n",
    "    )\n",
    "    \n",
    "    # Прогноз на валидации\n",
    "    y_pred = model.predict_proba(X_val)[:, 1]\n",
    "    auc = roc_auc_score(y_val, y_pred)\n",
    "    \n",
    "    return auc\n",
    "\n",
    "# Оптимизация с ограничением времени\n",
    "study = optuna.create_study(direction='maximize')\n",
    "start_time = time.time()\n",
    "timeout = 600  # 10 минут в секундах\n",
    "\n",
    "while time.time() - start_time < timeout:\n",
    "    study.optimize(objective, n_trials=1)\n",
    "    remaining_time = timeout - (time.time() - start_time)\n",
    "    if remaining_time <= 0:\n",
    "        break\n",
    "    print(f\"Remaining optimization time: {remaining_time:.1f} seconds\")\n",
    "\n",
    "# Лучшие параметры\n",
    "print(\"Best trial:\")\n",
    "trial = study.best_trial\n",
    "print(f\"  AUC: {trial.value}\")\n",
    "print(\"  Params: \")\n",
    "for key, value in trial.params.items():\n",
    "    print(f\"    {key}: {value}\")\n",
    "\n",
    "# Обучение финальной модели с лучшими параметрами\n",
    "best_params = trial.params\n",
    "best_params.update({\n",
    "    'objective': 'binary',\n",
    "    'metric': 'auc',\n",
    "    'verbose': 1,\n",
    "    'importance_type': 'split',\n",
    "    'early_stopping_rounds': 50  # Добавлено значение по умолчанию\n",
    "})\n",
    "\n",
    "# Используем полное обучение (train + val) для финальной модели\n",
    "full_train = pd.concat([tr, val])\n",
    "X_train = full_train[cols_test]\n",
    "y_train = full_train['target']\n",
    "\n",
    "final_model = lgb.LGBMClassifier(**best_params)\n",
    "final_model.fit(X_train, y_train)\n",
    "\n",
    "# Прогноз на тестовых данных\n",
    "df_pd['predict'] = final_model.predict_proba(df_pd[cols_test])[:, 1]\n",
    "df_pd[['user_id', 'predict']].to_csv('optimized_prod_clust.csv', index=False)\n",
    "\n",
    "# Вывод важности фичей\n",
    "plot_lgbm_importance(final_model, cols_test, importance_type='split', top_k=30, sklearn_style=True)"
   ]
  },
  {
   "cell_type": "code",
   "execution_count": null,
   "id": "91f5d0e5",
   "metadata": {},
   "outputs": [
    {
     "name": "stdout",
     "output_type": "stream",
     "text": [
      "[LightGBM] [Warning] early_stopping_round is set=60, early_stopping_rounds=60 will be ignored. Current value: early_stopping_round=60\n",
      "[LightGBM] [Info] Number of positive: 485658, number of negative: 920558\n",
      "[LightGBM] [Info] Auto-choosing row-wise multi-threading, the overhead of testing was 0.102304 seconds.\n",
      "You can set `force_row_wise=true` to remove the overhead.\n",
      "And if memory is not enough, you can set `force_col_wise=true`.\n",
      "[LightGBM] [Info] Total Bins 21289\n",
      "[LightGBM] [Info] Number of data points in the train set: 1406216, number of used features: 109\n",
      "[LightGBM] [Warning] early_stopping_round is set=60, early_stopping_rounds=60 will be ignored. Current value: early_stopping_round=60\n",
      "[LightGBM] [Info] [binary:BoostFromScore]: pavg=0.345365 -> initscore=-0.639475\n",
      "[LightGBM] [Info] Start training from score -0.639475\n",
      "Training until validation scores don't improve for 100 rounds\n",
      "Training until validation scores don't improve for 60 rounds\n",
      "Did not meet early stopping. Best iteration is:\n",
      "[900]\tvalid_0's auc: 0.761761\n"
     ]
    }
   ],
   "source": [
    "from local_utils import *\n",
    "\n",
    "df_pd = df_pd[df_pd['user_id'] != 2346229]\n",
    "\n",
    "tr, val = get_split(df_pd_tttest, val_size=0.25)\n",
    "\n",
    "cols = list(set(df_pd_tttest.columns) - {'user_id', 'target', 'last_click_time', 'first_click_time', 'last_favorite_time', 'first_favorite_time', \n",
    "                                  'last_order_time', 'first_order_time', 'last_to_cart_time', 'first_to_cart_time', 'last_search_time', 'first_search_time',\n",
    "                                  'top3_search_clusters', 'top3_search_counts', 'search_cluster_entropy', 'top3_product_counts', 'product_cluster_entropy', 'top3_product_clusters'})\n",
    "\n",
    "params={\n",
    "        'objective': 'binary',\n",
    "        'metric': 'auc',\n",
    "        'learning_rate': 0.01,\n",
    "        'max_depth': 100,\n",
    "        'num_iterations': 900,\n",
    "        'early_stopping_rounds': 60,\n",
    "        'verbose': 1,\n",
    "        'importance_type': 'split'\n",
    "    }\n",
    "\n",
    "model = train_model(tr, val, cols_test, 'target', params=params, shadow_features=False, sklearn_style=True)\n"
   ]
  },
  {
   "cell_type": "code",
   "execution_count": 94,
   "id": "93d86343",
   "metadata": {},
   "outputs": [
    {
     "name": "stdout",
     "output_type": "stream",
     "text": [
      "feature_importance: [ 201   60  566   93  302  157  325  667  504  486 1477  174  119  509\n",
      "   54  798  327  248  163   46  238 1521   67   50   62  211   76  214\n",
      "   50    0   71  503   85  350   59    8  283    0  136  123   17   49\n",
      "  122  271   41   38   98   61   26  707  222  131  690   88   54  128\n",
      "  404  222  375  759  520  224  232  400  284  132  158   69  199  732\n",
      "   11  144  353  329   41   20   53  258    0  909   11  888   98   40\n",
      "   40  193  546  155    0    4  105  662   29   69   12   53  302   52\n",
      "    0  473  373   51    0   63 1297   23    0  457   50] \n",
      "\n"
     ]
    },
    {
     "data": {
      "image/png": "[encoded data removed]",
      "text/plain": [
       "<Figure size 500x600 with 1 Axes>"
      ]
     },
     "metadata": {},
     "output_type": "display_data"
    }
   ],
   "source": [
    "from local_utils import *\n",
    "\n",
    "print('feature_importance:', model.feature_importances_, '\\n')\n",
    "\n",
    "plot_lgbm_importance(model, cols, importance_type='split', top_k=30, sklearn_style=True)\n",
    "\n",
    "test_users_submission = (\n",
    "    pl.read_csv(os.path.join(data_path, 'test_users.csv'))\n",
    ")"
   ]
  },
  {
   "cell_type": "code",
   "execution_count": 70,
   "id": "b9ad191a",
   "metadata": {},
   "outputs": [
    {
     "name": "stderr",
     "output_type": "stream",
     "text": [
      "C:\\Users\\Admin\\AppData\\Local\\Temp\\ipykernel_17812\\2116881979.py:59: DeprecationWarning: Use of `how='outer'` should be replaced with `how='full'`.\n",
      "  combined_val = combined_val.join(\n"
     ]
    }
   ],
   "source": [
    "actions_aggs = {}\n",
    "actions_id_to_suf = {\n",
    "    1: \"click\",\n",
    "    2: \"favorite\", \n",
    "    3: \"order\",\n",
    "    5: \"to_cart\",\n",
    "}\n",
    "\n",
    "# Сначала соберем все агрегированные данные\n",
    "all_aggs = []\n",
    "numeric_features = []\n",
    "\n",
    "for id_, suf in actions_id_to_suf.items():\n",
    "    aggs = (\n",
    "        actions_history\n",
    "        .filter(pl.col('timestamp').dt.date() <= val_end_date)\n",
    "        .filter(pl.col('timestamp').dt.date() >= val_end_date - timedelta(days=30 * 5))\n",
    "        .filter(pl.col('action_type_id') == id_)\n",
    "        .join(\n",
    "            product_information.select('product_id', 'discount_price'),\n",
    "            on='product_id',\n",
    "        )\n",
    "        .group_by('user_id')\n",
    "        .agg(\n",
    "            pl.count('product_id').cast(pl.Int32).alias(f'num_products_{suf}'),\n",
    "            pl.sum('discount_price').cast(pl.Float32).alias(f'sum_discount_price_{suf}'),\n",
    "            pl.max('discount_price').cast(pl.Float32).alias(f'max_discount_price_{suf}'),\n",
    "            pl.max('timestamp').alias(f'last_{suf}_time'),\n",
    "            pl.min('timestamp').alias(f'first_{suf}_time'),\n",
    "        )\n",
    "        .with_columns([\n",
    "            (pl.lit(test_start_date) - pl.col(f'last_{suf}_time'))\n",
    "            .dt.total_days()\n",
    "            .cast(pl.Int32)\n",
    "            .alias(f'days_since_last_{suf}'),\n",
    "            \n",
    "            (pl.lit(test_start_date) - pl.col(f'first_{suf}_time'))\n",
    "            .dt.total_days()\n",
    "            .cast(pl.Int32)\n",
    "            .alias(f'days_since_first_{suf}'),\n",
    "        ])\n",
    "    )\n",
    "    \n",
    "    # Сохраняем имена числовых фичей для создания полиномов\n",
    "    numeric_features.extend([\n",
    "        f'num_products_{suf}',\n",
    "        f'sum_discount_price_{suf}', \n",
    "        f'max_discount_price_{suf}',\n",
    "        f'days_since_last_{suf}',\n",
    "        f'days_since_first_{suf}',\n",
    "    ])\n",
    "    \n",
    "    actions_aggs[id_] = aggs\n",
    "    all_aggs.append(aggs)\n",
    "\n",
    "# Объединяем все агрегации по user_id с суффиксами\n",
    "combined_val = all_aggs[0]\n",
    "for i, agg in enumerate(all_aggs[1:], 1):\n",
    "    combined_val = combined_val.join(\n",
    "        agg, \n",
    "        on='user_id', \n",
    "        how='outer',\n",
    "        suffix=f\"_{i}\"\n",
    "    )"
   ]
  },
  {
   "cell_type": "code",
   "execution_count": 71,
   "id": "81add27c",
   "metadata": {},
   "outputs": [
    {
     "name": "stderr",
     "output_type": "stream",
     "text": [
      "C:\\Users\\Admin\\AppData\\Local\\Temp\\ipykernel_17812\\555555092.py:51: DeprecationWarning: `pl.count()` is deprecated. Please use `pl.len()` instead.\n",
      "  (pl.count() / (pl.max('timestamp') - pl.min('timestamp')).dt.total_days()).alias(f'{suf}_daily_rate'),\n"
     ]
    }
   ],
   "source": [
    "id_ = 4\n",
    "suf = 'search'\n",
    "\n",
    "# Вычисляем top3 кластеров для валидации (аналогично трейну)\n",
    "val_cluster_counts = (\n",
    "    search_history\n",
    "    .filter(pl.col('action_type_id') == id_)\n",
    "    .filter(pl.col('timestamp').dt.date() <= val_end_date)\n",
    "    .filter(pl.col('timestamp').dt.date() >= val_end_date - timedelta(days=30 * 5))\n",
    "    .group_by('user_id')\n",
    "    .agg(\n",
    "        pl.col('cluster').value_counts().alias('cluster_counts')\n",
    "    )\n",
    "    .explode('cluster_counts')\n",
    "    .with_columns(\n",
    "        pl.col('cluster_counts').struct.field('cluster').alias('cluster_name'),\n",
    "        pl.col('cluster_counts').struct.field('count').alias('cluster_count')\n",
    "    )\n",
    "    .group_by('user_id')\n",
    "    .agg(\n",
    "        pl.col('cluster_name').sort_by('cluster_count', descending=True).head(3).alias('top3_clusters'),\n",
    "        pl.col('cluster_count').sort(descending=True).head(3).alias('top3_counts')\n",
    "    )\n",
    ")\n",
    "\n",
    "actions_aggs[id_] = (\n",
    "    search_history\n",
    "    .filter(pl.col('action_type_id') == id_)\n",
    "    .filter(pl.col('timestamp').dt.date() <= val_end_date)\n",
    "    .filter(pl.col('timestamp').dt.date() >= val_end_date - timedelta(days=30 * 5))\n",
    "    .group_by('user_id')\n",
    "    .agg(\n",
    "        # Общее количество поисков за 5 месяцев\n",
    "        pl.count('search_query').cast(pl.Int32).alias(f'num_{suf}'),\n",
    "        pl.col('search_query').n_unique().alias(f'unique_{suf}_queries'),\n",
    "        \n",
    "        # Количество поисков за последний месяц (30 дней)\n",
    "        pl.col('search_query')\n",
    "            .filter(pl.col('timestamp').dt.date() >= val_end_date - timedelta(days=30))\n",
    "            .count()\n",
    "            .cast(pl.Int32)\n",
    "            .alias(f'num_{suf}_last_month'),\n",
    "        \n",
    "        # Количество поисков за последнюю неделю (7 дней)\n",
    "        pl.col('search_query')\n",
    "            .filter(pl.col('timestamp').dt.date() >= val_end_date - timedelta(days=7))\n",
    "            .count()\n",
    "            .cast(pl.Int32)\n",
    "            .alias(f'num_{suf}_last_week'),\n",
    "\n",
    "        (pl.count() / (pl.max('timestamp') - pl.min('timestamp')).dt.total_days()).alias(f'{suf}_daily_rate'),\n",
    "\n",
    "        pl.col('cluster').n_unique().alias(f'num_{suf}_clusters'),\n",
    "        pl.col('cluster').mode().first().alias(f'main_{suf}_cluster'),\n",
    "        \n",
    "        # Динамика кластеров\n",
    "        pl.col('cluster')\n",
    "            .filter(pl.col('timestamp').dt.date() >= val_end_date - timedelta(days=30))\n",
    "            .mode().first()\n",
    "            .alias(f'recent_{suf}_cluster'),\n",
    "\n",
    "        (pl.col('cluster').value_counts().struct.field('count').max() / pl.col('cluster').count()).alias(f'{suf}_cluster_concentration'),\n",
    "        \n",
    "        # Энтропия кластеров\n",
    "        (-(pl.col('cluster').value_counts().struct.field('count') / pl.col('cluster').count()).log()\n",
    "            * (pl.col('cluster').value_counts().struct.field('count') / pl.col('cluster').count())\n",
    "            .sum()).alias(f'{suf}_cluster_entropy'),\n",
    "        \n",
    "        # Переключения между кластерами\n",
    "        pl.col('cluster').diff().fill_null(0).abs().sum().alias(f'{suf}_cluster_switches'),\n",
    "        \n",
    "        # Стабильность кластеров\n",
    "        ((pl.col('cluster').count() - pl.col('cluster').n_unique()) / pl.col('cluster').count())\n",
    "            .alias(f'{suf}_cluster_stability'),\n",
    "        \n",
    "        # Время в основном кластере\n",
    "        (pl.col('timestamp')\n",
    "            .filter(pl.col('cluster') == pl.col('cluster').mode().first())\n",
    "            .count() / pl.col('timestamp').count())\n",
    "            .alias(f'main_{suf}_cluster_time_ratio'),\n",
    "\n",
    "        pl.col('timestamp').filter(pl.col('cluster').diff().fill_null(0) != 0)\n",
    "            .diff()\n",
    "            .dt.total_days()\n",
    "            .mean()\n",
    "            .alias(f'{suf}_mean_cluster_switch_days'),\n",
    "\n",
    "        pl.col('search_query').str.len_chars().mean().alias(f'{suf}_mean_query_len'),\n",
    "        \n",
    "        (pl.col('search_query').str.len_chars()\n",
    "            .filter(pl.col('cluster') == pl.col('cluster').mode().first()).mean() - \n",
    "            pl.col('search_query').str.len_chars()\n",
    "                .filter(pl.col('cluster') != pl.col('cluster').mode().first()).mean())\n",
    "                .alias(f'{suf}_main_cluster_query_len_diff'),\n",
    "\n",
    "        pl.max('timestamp').alias(f'last_{suf}_time'),\n",
    "        pl.min('timestamp').alias(f'first_{suf}_time'),\n",
    "    )\n",
    "    .join(val_cluster_counts, on='user_id', how='left')\n",
    "    .with_columns([\n",
    "        (pl.lit(test_start_date) - pl.col(f'last_{suf}_time'))\n",
    "            .dt.total_days()\n",
    "            .cast(pl.Int32)\n",
    "            .alias(f'days_since_last_{suf}'),\n",
    "\n",
    "        (pl.lit(test_start_date) - pl.col(f'first_{suf}_time'))\n",
    "            .dt.total_days()\n",
    "            .cast(pl.Int32)\n",
    "            .alias(f'days_since_first_{suf}'),\n",
    "    ])\n",
    "    .select(\n",
    "        'user_id',\n",
    "        f'num_{suf}',\n",
    "        f'unique_{suf}_queries',\n",
    "        f'num_{suf}_last_month',\n",
    "        f'num_{suf}_last_week',\n",
    "        f'{suf}_daily_rate',\n",
    "        f'num_{suf}_clusters',\n",
    "        f'main_{suf}_cluster',\n",
    "        pl.col('top3_clusters').alias(f'top3_{suf}_clusters'),\n",
    "        pl.col('top3_counts').alias(f'top3_{suf}_counts'),\n",
    "        f'recent_{suf}_cluster',\n",
    "        f'{suf}_cluster_concentration',\n",
    "        f'{suf}_cluster_entropy',\n",
    "        f'{suf}_cluster_switches',\n",
    "        f'{suf}_cluster_stability',\n",
    "        f'main_{suf}_cluster_time_ratio',\n",
    "        f'{suf}_mean_cluster_switch_days',\n",
    "        f'{suf}_mean_query_len',\n",
    "        f'{suf}_main_cluster_query_len_diff',\n",
    "        f'days_since_last_{suf}',\n",
    "        f'days_since_first_{suf}',\n",
    "        f'last_{suf}_time',\n",
    "        f'first_{suf}_time',\n",
    "    )\n",
    ")"
   ]
  },
  {
   "cell_type": "code",
   "execution_count": 72,
   "id": "1a829d78",
   "metadata": {},
   "outputs": [],
   "source": [
    "val_product_cluster_aggs = (\n",
    "    actions_history\n",
    "    .filter(pl.col('timestamp').dt.date() <= val_end_date)\n",
    "    .filter(pl.col('timestamp').dt.date() >= val_end_date - timedelta(days=30 * 5))\n",
    "    .join(\n",
    "        product_information.select('product_id', 'cluster'),\n",
    "        on='product_id'\n",
    "    )\n",
    "    .group_by('user_id')\n",
    "    .agg(\n",
    "        # Общие агрегаты по кластерам продуктов\n",
    "        pl.col('cluster').n_unique().alias('num_product_clusters'),\n",
    "        pl.col('cluster').mode().first().alias('main_product_cluster'),\n",
    "        \n",
    "        # Аналогичные агрегаты как для search\n",
    "        (pl.col('cluster').value_counts().struct.field('count').max() / pl.col('cluster').count()).alias('product_cluster_concentration'),\n",
    "        \n",
    "        # Энтропия кластеров продуктов\n",
    "        (-(pl.col('cluster').value_counts().struct.field('count') / pl.col('cluster').count()).log()\n",
    "            * (pl.col('cluster').value_counts().struct.field('count') / pl.col('cluster').count())\n",
    "            .sum()).alias('product_cluster_entropy'),\n",
    "        \n",
    "        # Стабильность кластеров продуктов\n",
    "        ((pl.col('cluster').count() - pl.col('cluster').n_unique()) / pl.col('cluster').count())\n",
    "            .alias('product_cluster_stability'),\n",
    "        \n",
    "        # Время в основном кластере продуктов\n",
    "        (pl.col('timestamp')\n",
    "            .filter(pl.col('cluster') == pl.col('cluster').mode().first())\n",
    "            .count() / pl.col('timestamp').count()\n",
    "        ).alias('main_product_cluster_time_ratio'),\n",
    "            \n",
    "        # Top 3 кластеров продуктов\n",
    "        pl.col('cluster').value_counts().struct.field('cluster').alias('top_product_clusters'),\n",
    "        pl.col('cluster').value_counts().struct.field('count').alias('top_product_counts')\n",
    "    )\n",
    "    .with_columns(\n",
    "        pl.col('top_product_clusters').list.head(3).alias('top3_product_clusters'),\n",
    "        pl.col('top_product_counts').list.head(3).alias('top3_product_counts')\n",
    "    )\n",
    "    .drop(['top_product_clusters', 'top_product_counts'])\n",
    ")"
   ]
  },
  {
   "cell_type": "code",
   "execution_count": 73,
   "id": "9872e1e2",
   "metadata": {},
   "outputs": [
    {
     "name": "stderr",
     "output_type": "stream",
     "text": [
      "C:\\Users\\Admin\\AppData\\Local\\Temp\\ipykernel_17812\\4126633476.py:14: DeprecationWarning: `pl.count()` is deprecated. Please use `pl.len()` instead.\n",
      "  pl.count().alias('total_actions_30d'),\n",
      "C:\\Users\\Admin\\AppData\\Local\\Temp\\ipykernel_17812\\4126633476.py:26: DeprecationWarning: `pl.count()` is deprecated. Please use `pl.len()` instead.\n",
      "  (pl.col('cluster').value_counts().struct.field('count').max() / pl.count()).alias('main_cluster_ratio_30d')\n"
     ]
    }
   ],
   "source": [
    "test_last_month_features = (\n",
    "    actions_history\n",
    "    .filter(\n",
    "        (pl.col('timestamp').dt.date() < test_start_date) &  # до теста\n",
    "        (pl.col('timestamp').dt.date() >= test_start_date - timedelta(days=30))  # последние 30 дней\n",
    "    )\n",
    "    .join(\n",
    "        product_information.select('product_id', 'discount_price', 'cluster'),\n",
    "        on='product_id'\n",
    "    )\n",
    "    .group_by('user_id')\n",
    "    .agg(\n",
    "        # Те же метрики, что и для трейна\n",
    "        pl.count().alias('total_actions_30d'),\n",
    "        (pl.col('action_type_id') == 1).sum().alias('clicks_30d'),\n",
    "        (pl.col('action_type_id') == 2).sum().alias('favorites_30d'),\n",
    "        (pl.col('action_type_id') == 5).sum().alias('cart_adds_30d'),\n",
    "        \n",
    "        pl.sum('discount_price').alias('total_spent_30d'),\n",
    "        pl.mean('discount_price').alias('avg_price_30d'),\n",
    "        \n",
    "        (test_start_date - pl.col('timestamp').max().dt.date()).dt.total_days().alias('days_since_last_action'),\n",
    "        (pl.col('timestamp').max() - pl.col('timestamp').min()).dt.total_days().alias('active_days_30d'),\n",
    "        \n",
    "        pl.col('cluster').n_unique().alias('unique_clusters_30d'),\n",
    "        (pl.col('cluster').value_counts().struct.field('count').max() / pl.count()).alias('main_cluster_ratio_30d')\n",
    "    )\n",
    "    .with_columns(\n",
    "        (pl.col('total_actions_30d') / pl.col('active_days_30d')).alias('daily_actions_rate_30d'),\n",
    "        (pl.col('cart_adds_30d') / pl.col('total_actions_30d')).alias('cart_add_ratio_30d'),\n",
    "        (pl.col('favorites_30d') / pl.col('total_actions_30d')).alias('favorite_ratio_30d')\n",
    "    )\n",
    ")"
   ]
  },
  {
   "cell_type": "code",
   "execution_count": 74,
   "id": "67c2ae70",
   "metadata": {},
   "outputs": [],
   "source": [
    "from local_utils import *\n",
    "\n",
    "test_df_main = test_users_submission\n",
    "for _, actions_aggs_df in actions_aggs.items():\n",
    "    test_df_main = (\n",
    "        test_df_main\n",
    "        .join(actions_aggs_df, on='user_id', how='left')\n",
    "    )\n",
    "test_df_main = test_df_main.join(val_product_cluster_aggs, on='user_id', how='left')\n",
    "test_df_main = test_df_main.join(test_last_month_features, on='user_id', how='left')\n",
    "\n",
    "test_df_pd = test_df_main.to_pandas()\n",
    "\n",
    "test_df_pd = apply_log_transform(test_df_pd, columns_to_log, drop_original=True)"
   ]
  },
  {
   "cell_type": "code",
   "execution_count": 75,
   "id": "95d7ef87",
   "metadata": {},
   "outputs": [
    {
     "name": "stdout",
     "output_type": "stream",
     "text": [
      "Nans filled\n",
      "Data scaled\n",
      "Using CPU\n",
      "FAISS index built\n",
      "KNN search done\n"
     ]
    },
    {
     "name": "stderr",
     "output_type": "stream",
     "text": [
      "c:\\Users\\Admin\\anaconda3\\Lib\\site-packages\\numpy\\core\\_methods.py:118: RuntimeWarning: overflow encountered in reduce\n",
      "  ret = umr_sum(arr, axis, dtype, out, keepdims, where=where)\n",
      "c:\\Users\\Admin\\anaconda3\\Lib\\site-packages\\numpy\\core\\_methods.py:152: RuntimeWarning: overflow encountered in reduce\n",
      "  arrmean = umr_sum(arr, axis, dtype, keepdims=True, where=where)\n"
     ]
    },
    {
     "name": "stdout",
     "output_type": "stream",
     "text": [
      "KNN features created\n"
     ]
    }
   ],
   "source": [
    "test_df_pd = add_knn_features_faiss(test_df_pd, knn_cols, n_neighbors=5, use_gpu=True)"
   ]
  },
  {
   "cell_type": "code",
   "execution_count": 97,
   "id": "da2b44ca",
   "metadata": {},
   "outputs": [],
   "source": [
    "test_df_pd['predict'] = model.predict_proba(test_df_pd[cols_test])[:, 1]\n",
    "#test_df_pd['predict'] = model.predict(test_df_pd[cols])"
   ]
  },
  {
   "cell_type": "code",
   "execution_count": 98,
   "id": "74826201",
   "metadata": {},
   "outputs": [
    {
     "data": {
      "text/html": [
       "<div>\n",
       "<style scoped>\n",
       "    .dataframe tbody tr th:only-of-type {\n",
       "        vertical-align: middle;\n",
       "    }\n",
       "\n",
       "    .dataframe tbody tr th {\n",
       "        vertical-align: top;\n",
       "    }\n",
       "\n",
       "    .dataframe thead th {\n",
       "        text-align: right;\n",
       "    }\n",
       "</style>\n",
       "<table border=\"1\" class=\"dataframe\">\n",
       "  <thead>\n",
       "    <tr style=\"text-align: right;\">\n",
       "      <th></th>\n",
       "      <th>user_id</th>\n",
       "      <th>predict</th>\n",
       "    </tr>\n",
       "  </thead>\n",
       "  <tbody>\n",
       "    <tr>\n",
       "      <th>0</th>\n",
       "      <td>1342</td>\n",
       "      <td>0.166272</td>\n",
       "    </tr>\n",
       "    <tr>\n",
       "      <th>1</th>\n",
       "      <td>9852</td>\n",
       "      <td>0.782111</td>\n",
       "    </tr>\n",
       "    <tr>\n",
       "      <th>2</th>\n",
       "      <td>10206</td>\n",
       "      <td>0.226123</td>\n",
       "    </tr>\n",
       "    <tr>\n",
       "      <th>3</th>\n",
       "      <td>11317</td>\n",
       "      <td>0.228409</td>\n",
       "    </tr>\n",
       "    <tr>\n",
       "      <th>4</th>\n",
       "      <td>13289</td>\n",
       "      <td>0.653483</td>\n",
       "    </tr>\n",
       "    <tr>\n",
       "      <th>...</th>\n",
       "      <td>...</td>\n",
       "      <td>...</td>\n",
       "    </tr>\n",
       "    <tr>\n",
       "      <th>2068419</th>\n",
       "      <td>11157283</td>\n",
       "      <td>0.198232</td>\n",
       "    </tr>\n",
       "    <tr>\n",
       "      <th>2068420</th>\n",
       "      <td>11160395</td>\n",
       "      <td>0.148807</td>\n",
       "    </tr>\n",
       "    <tr>\n",
       "      <th>2068421</th>\n",
       "      <td>11165052</td>\n",
       "      <td>0.626269</td>\n",
       "    </tr>\n",
       "    <tr>\n",
       "      <th>2068422</th>\n",
       "      <td>11168218</td>\n",
       "      <td>0.464322</td>\n",
       "    </tr>\n",
       "    <tr>\n",
       "      <th>2068423</th>\n",
       "      <td>11172313</td>\n",
       "      <td>0.513421</td>\n",
       "    </tr>\n",
       "  </tbody>\n",
       "</table>\n",
       "<p>2068424 rows × 2 columns</p>\n",
       "</div>"
      ],
      "text/plain": [
       "          user_id   predict\n",
       "0            1342  0.166272\n",
       "1            9852  0.782111\n",
       "2           10206  0.226123\n",
       "3           11317  0.228409\n",
       "4           13289  0.653483\n",
       "...           ...       ...\n",
       "2068419  11157283  0.198232\n",
       "2068420  11160395  0.148807\n",
       "2068421  11165052  0.626269\n",
       "2068422  11168218  0.464322\n",
       "2068423  11172313  0.513421\n",
       "\n",
       "[2068424 rows x 2 columns]"
      ]
     },
     "execution_count": 98,
     "metadata": {},
     "output_type": "execute_result"
    }
   ],
   "source": [
    "test_df_pd[['user_id', 'predict']]"
   ]
  },
  {
   "cell_type": "code",
   "execution_count": 99,
   "id": "07d338b1",
   "metadata": {},
   "outputs": [],
   "source": [
    "test_df_pd[['user_id', 'predict']].to_csv('all_together.csv', index=False)"
   ]
  },
  {
   "cell_type": "code",
   "execution_count": null,
   "id": "03df6299",
   "metadata": {},
   "outputs": [],
   "source": []
  },
  {
   "cell_type": "code",
   "execution_count": null,
   "id": "ecbd8845",
   "metadata": {},
   "outputs": [],
   "source": []
  },
  {
   "cell_type": "code",
   "execution_count": null,
   "id": "a9713219",
   "metadata": {},
   "outputs": [],
   "source": []
  },
  {
   "cell_type": "code",
   "execution_count": null,
   "id": "c6b4ab1e",
   "metadata": {},
   "outputs": [],
   "source": []
  },
  {
   "cell_type": "code",
   "execution_count": null,
   "id": "c19490b6",
   "metadata": {},
   "outputs": [],
   "source": []
  },
  {
   "cell_type": "code",
   "execution_count": null,
   "id": "1849f6e6",
   "metadata": {},
   "outputs": [],
   "source": []
  }
 ],
 "metadata": {
  "kernelspec": {
   "display_name": "base",
   "language": "python",
   "name": "python3"
  },
  "language_info": {
   "codemirror_mode": {
    "name": "ipython",
    "version": 3
   },
   "file_extension": ".py",
   "mimetype": "text/x-python",
   "name": "python",
   "nbconvert_exporter": "python",
   "pygments_lexer": "ipython3",
   "version": "3.12.3"
  }
 },
 "nbformat": 4,
 "nbformat_minor": 5
}
