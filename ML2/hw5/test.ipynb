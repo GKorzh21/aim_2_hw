{
 "cells": [
  {
   "cell_type": "code",
   "execution_count": 2,
   "id": "6184789f",
   "metadata": {},
   "outputs": [],
   "source": [
    "import pandas as pd\n",
    "import matplotlib.pyplot as plt\n"
   ]
  },
  {
   "cell_type": "code",
   "execution_count": 3,
   "id": "24301c26",
   "metadata": {},
   "outputs": [
    {
     "data": {
      "text/html": [
       "<div>\n",
       "<style scoped>\n",
       "    .dataframe tbody tr th:only-of-type {\n",
       "        vertical-align: middle;\n",
       "    }\n",
       "\n",
       "    .dataframe tbody tr th {\n",
       "        vertical-align: top;\n",
       "    }\n",
       "\n",
       "    .dataframe thead th {\n",
       "        text-align: right;\n",
       "    }\n",
       "</style>\n",
       "<table border=\"1\" class=\"dataframe\">\n",
       "  <thead>\n",
       "    <tr style=\"text-align: right;\">\n",
       "      <th></th>\n",
       "      <th>order_id</th>\n",
       "      <th>pred</th>\n",
       "    </tr>\n",
       "  </thead>\n",
       "  <tbody>\n",
       "    <tr>\n",
       "      <th>0</th>\n",
       "      <td>1350922</td>\n",
       "      <td>0.012834</td>\n",
       "    </tr>\n",
       "    <tr>\n",
       "      <th>1</th>\n",
       "      <td>1354989</td>\n",
       "      <td>0.031103</td>\n",
       "    </tr>\n",
       "    <tr>\n",
       "      <th>2</th>\n",
       "      <td>1352637</td>\n",
       "      <td>0.345774</td>\n",
       "    </tr>\n",
       "    <tr>\n",
       "      <th>3</th>\n",
       "      <td>1350050</td>\n",
       "      <td>0.134905</td>\n",
       "    </tr>\n",
       "    <tr>\n",
       "      <th>4</th>\n",
       "      <td>1341733</td>\n",
       "      <td>0.017275</td>\n",
       "    </tr>\n",
       "    <tr>\n",
       "      <th>...</th>\n",
       "      <td>...</td>\n",
       "      <td>...</td>\n",
       "    </tr>\n",
       "    <tr>\n",
       "      <th>17191</th>\n",
       "      <td>1358397</td>\n",
       "      <td>0.188590</td>\n",
       "    </tr>\n",
       "    <tr>\n",
       "      <th>17192</th>\n",
       "      <td>1357968</td>\n",
       "      <td>0.012967</td>\n",
       "    </tr>\n",
       "    <tr>\n",
       "      <th>17193</th>\n",
       "      <td>1358835</td>\n",
       "      <td>0.989820</td>\n",
       "    </tr>\n",
       "    <tr>\n",
       "      <th>17194</th>\n",
       "      <td>1365692</td>\n",
       "      <td>0.155214</td>\n",
       "    </tr>\n",
       "    <tr>\n",
       "      <th>17195</th>\n",
       "      <td>1365429</td>\n",
       "      <td>0.015950</td>\n",
       "    </tr>\n",
       "  </tbody>\n",
       "</table>\n",
       "<p>17196 rows × 2 columns</p>\n",
       "</div>"
      ],
      "text/plain": [
       "       order_id      pred\n",
       "0       1350922  0.012834\n",
       "1       1354989  0.031103\n",
       "2       1352637  0.345774\n",
       "3       1350050  0.134905\n",
       "4       1341733  0.017275\n",
       "...         ...       ...\n",
       "17191   1358397  0.188590\n",
       "17192   1357968  0.012967\n",
       "17193   1358835  0.989820\n",
       "17194   1365692  0.155214\n",
       "17195   1365429  0.015950\n",
       "\n",
       "[17196 rows x 2 columns]"
      ]
     },
     "execution_count": 3,
     "metadata": {},
     "output_type": "execute_result"
    }
   ],
   "source": [
    "ans = pd.read_csv('400_th.csv')\n",
    "\n",
    "ans"
   ]
  },
  {
   "cell_type": "code",
   "execution_count": 4,
   "id": "bea1dc0d",
   "metadata": {},
   "outputs": [
    {
     "data": {
      "text/plain": [
       "(array([5491.,  980.,  883., 1035.,  714.,  319.,  203.,  154.,  125.,\n",
       "         137.,  142.,  146.,  191.,  206.,  233.,  253.,  280.,  279.,\n",
       "         235.,  240.,  218.,  185.,  178.,  141.,  124.,  109.,  109.,\n",
       "          98.,   88.,   60.,   45.,   34.,   36.,   30.,   20.,   13.,\n",
       "          11.,    9.,    9.,   10.,    8.,    6.,   14.,   19.,   29.,\n",
       "          42.,   50.,  115.,  341., 2799.]),\n",
       " array([ 0.18623223,  2.1790967 ,  4.17196117,  6.16482564,  8.15769011,\n",
       "        10.15055458, 12.14341905, 14.13628352, 16.12914799, 18.12201246,\n",
       "        20.11487693, 22.1077414 , 24.10060587, 26.09347034, 28.08633481,\n",
       "        30.07919929, 32.07206376, 34.06492823, 36.0577927 , 38.05065717,\n",
       "        40.04352164, 42.03638611, 44.02925058, 46.02211505, 48.01497952,\n",
       "        50.00784399, 52.00070846, 53.99357293, 55.9864374 , 57.97930187,\n",
       "        59.97216634, 61.96503081, 63.95789528, 65.95075975, 67.94362423,\n",
       "        69.9364887 , 71.92935317, 73.92221764, 75.91508211, 77.90794658,\n",
       "        79.90081105, 81.89367552, 83.88653999, 85.87940446, 87.87226893,\n",
       "        89.8651334 , 91.85799787, 93.85086234, 95.84372681, 97.83659128,\n",
       "        99.82945575]),\n",
       " <BarContainer object of 50 artists>)"
      ]
     },
     "execution_count": 4,
     "metadata": {},
     "output_type": "execute_result"
    },
    {
     "data": {
      "image/png": "[encoded data removed]",
      "text/plain": [
       "<Figure size 640x480 with 1 Axes>"
      ]
     },
     "metadata": {},
     "output_type": "display_data"
    }
   ],
   "source": [
    "plt.hist(ans['pred'] * 100, 50)"
   ]
  },
  {
   "cell_type": "code",
   "execution_count": null,
   "id": "985401bd",
   "metadata": {},
   "outputs": [],
   "source": []
  }
 ],
 "metadata": {
  "kernelspec": {
   "display_name": "base",
   "language": "python",
   "name": "python3"
  },
  "language_info": {
   "codemirror_mode": {
    "name": "ipython",
    "version": 3
   },
   "file_extension": ".py",
   "mimetype": "text/x-python",
   "name": "python",
   "nbconvert_exporter": "python",
   "pygments_lexer": "ipython3",
   "version": "3.12.3"
  }
 },
 "nbformat": 4,
 "nbformat_minor": 5
}
