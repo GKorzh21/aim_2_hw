{
 "cells": [
  {
   "cell_type": "code",
   "execution_count": 6,
   "id": "1e9fe076",
   "metadata": {},
   "outputs": [],
   "source": [
    "import pandas as pd\n",
    "import numpy as np\n",
    "from sklearn.model_selection import train_test_split\n",
    "from sklearn.preprocessing import LabelEncoder\n",
    "from sklearn.ensemble import RandomForestRegressor, GradientBoostingRegressor\n",
    "from sklearn.linear_model import Ridge\n",
    "from sklearn.preprocessing import StandardScaler\n",
    "import lightgbm as lgb\n",
    "from xgboost import XGBRegressor\n",
    "from sklearn.linear_model import LinearRegression\n",
    "import warnings\n",
    "\n",
    "warnings.filterwarnings('ignore')"
   ]
  },
  {
   "cell_type": "code",
   "execution_count": 7,
   "id": "08cb2abd",
   "metadata": {},
   "outputs": [],
   "source": [
    "# Загрузка данных\n",
    "train = pd.read_csv('train_contest.csv')\n",
    "test = pd.read_csv('test_contest.csv')\n",
    "features = list(train.drop('target', axis=1).columns)\n",
    "cat_features = train.select_dtypes(include=['object', 'category']).columns.tolist()\n",
    "\n",
    "# Простое Label Encoding для всех категориальных признаков\n",
    "le = LabelEncoder()\n",
    "for col in cat_features:\n",
    "    # Объединяем train и test для консистентного кодирования\n",
    "    combined = pd.concat([train[col], test[col]], axis=0)\n",
    "    le.fit(combined)\n",
    "    train[col] = le.transform(train[col])\n",
    "    test[col] = le.transform(test[col])\n",
    "    # Для LightGBM явно указываем категориальный тип\n",
    "    train[col] = train[col].astype('category')\n",
    "    test[col] = test[col].astype('category')"
   ]
  },
  {
   "cell_type": "code",
   "execution_count": 19,
   "id": "4ffb1e94",
   "metadata": {},
   "outputs": [
    {
     "name": "stdout",
     "output_type": "stream",
     "text": [
      "[LightGBM] [Info] Auto-choosing row-wise multi-threading, the overhead of testing was 0.007230 seconds.\n",
      "You can set `force_row_wise=true` to remove the overhead.\n",
      "And if memory is not enough, you can set `force_col_wise=true`.\n",
      "[LightGBM] [Info] Total Bins 3609\n",
      "[LightGBM] [Info] Number of data points in the train set: 96075, number of used features: 128\n",
      "[LightGBM] [Info] Start training from score 3040.124976\n"
     ]
    }
   ],
   "source": [
    "# Разделение данных\n",
    "X_train, X_val, y_train, y_val = train_test_split(\n",
    "    train[features], train['target'], test_size=0.2, random_state=42\n",
    ")\n",
    "\n",
    "# Альтернативный вариант с Dataset\n",
    "train_data = lgb.Dataset(X_train, label=y_train, categorical_feature=cat_features)\n",
    "val_data = lgb.Dataset(X_val, label=y_val, categorical_feature=cat_features)\n",
    "\n",
    "params = {\n",
    "    'objective': 'regression',\n",
    "    'metric': 'rmse',\n",
    "    'num_leaves': 31,\n",
    "    'learning_rate': 0.05,\n",
    "    'feature_fraction': 0.9\n",
    "}\n",
    "\n",
    "# LightGBM без ранней остановки\n",
    "lgb_model = lgb.train(\n",
    "    params,\n",
    "    train_data,\n",
    "    num_boost_round=1000,\n",
    "    valid_sets=[val_data],\n",
    ")\n",
    "\n",
    "# XGBoost без ранней остановки\n",
    "xgb_model = XGBRegressor(\n",
    "    n_estimators=1000,\n",
    "    learning_rate=0.05,\n",
    "    random_state=42,\n",
    "    tree_method='hist',\n",
    "\tenable_categorical=True  # Включаем поддержку категориальных признаков\n",
    ")\n",
    "xgb_model.fit(X_train, y_train)\n",
    "\n",
    "# Random Forest\n",
    "rf_model = RandomForestRegressor(\n",
    "    n_estimators=300,\n",
    "    max_depth=10,\n",
    "    random_state=42,\n",
    "    n_jobs=-1\n",
    ")\n",
    "rf_model.fit(X_train, y_train)\n",
    "\n",
    "# Ridge Regression (требует масштабирования)\n",
    "scaler = StandardScaler()\n",
    "X_train_scaled = scaler.fit_transform(X_train)\n",
    "X_val_scaled = scaler.transform(X_val)\n",
    "\n",
    "ridge_model = Ridge(alpha=1.0, random_state=42)\n",
    "ridge_model.fit(X_train_scaled, y_train)\n",
    "\n",
    "# Создаем мета-признаки\n",
    "val_preds = np.column_stack([\n",
    "    lgb_model.predict(X_val),\n",
    "    xgb_model.predict(X_val),\n",
    "    rf_model.predict(X_val),\n",
    "    ridge_model.predict(X_val_scaled)\n",
    "])"
   ]
  },
  {
   "cell_type": "code",
   "execution_count": 20,
   "id": "4de14163",
   "metadata": {},
   "outputs": [
    {
     "name": "stdout",
     "output_type": "stream",
     "text": [
      "Ансамбль успешно обучен! Результаты сохранены в ensemble_test.csv\n"
     ]
    }
   ],
   "source": [
    "\n",
    "# Мета-модель\n",
    "meta_model = LinearRegression()\n",
    "meta_model.fit(val_preds, y_val)\n",
    "\n",
    "# Предсказание на тесте\n",
    "test_preds = np.column_stack([\n",
    "    lgb_model.predict(test[features]),\n",
    "    xgb_model.predict(test[features]),\n",
    "    rf_model.predict(test[features]),\n",
    "    ridge_model.predict(scaler.transform(test[features]))\n",
    "])\n",
    "\n",
    "# Финальное предсказание\n",
    "test['target'] = meta_model.predict(test_preds)\n",
    "test[['index', 'target']].to_csv('ensemble_test.csv', index=False)\n",
    "\n",
    "print(\"Ансамбль успешно обучен! Результаты сохранены в ensemble_test.csv\")"
   ]
  },
  {
   "cell_type": "code",
   "execution_count": null,
   "id": "820ec906",
   "metadata": {},
   "outputs": [],
   "source": []
  },
  {
   "cell_type": "code",
   "execution_count": null,
   "id": "6b2496c9",
   "metadata": {},
   "outputs": [],
   "source": []
  }
 ],
 "metadata": {
  "kernelspec": {
   "display_name": "base",
   "language": "python",
   "name": "python3"
  },
  "language_info": {
   "codemirror_mode": {
    "name": "ipython",
    "version": 3
   },
   "file_extension": ".py",
   "mimetype": "text/x-python",
   "name": "python",
   "nbconvert_exporter": "python",
   "pygments_lexer": "ipython3",
   "version": "3.12.3"
  }
 },
 "nbformat": 4,
 "nbformat_minor": 5
}
