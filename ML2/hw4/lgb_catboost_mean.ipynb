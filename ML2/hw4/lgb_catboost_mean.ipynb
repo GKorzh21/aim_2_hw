{
 "cells": [
  {
   "cell_type": "code",
   "execution_count": 5,
   "id": "a80cb6a2",
   "metadata": {},
   "outputs": [
    {
     "name": "stdout",
     "output_type": "stream",
     "text": [
      "0        1724.984743\n",
      "1        1862.065188\n",
      "2        1873.078740\n",
      "3        2598.265693\n",
      "4        4596.599238\n",
      "            ...     \n",
      "51764    3380.907108\n",
      "51765    1926.256093\n",
      "51766    1777.651624\n",
      "51767    1712.984904\n",
      "51768    2240.617805\n",
      "Name: target, Length: 51769, dtype: float64\n",
      "0        1629.908238\n",
      "1        1824.968757\n",
      "2        1813.098693\n",
      "3        2481.206961\n",
      "4        4515.791076\n",
      "            ...     \n",
      "51764    3125.264935\n",
      "51765    2017.732902\n",
      "51766    1890.060439\n",
      "51767    1703.544152\n",
      "51768    1915.953506\n",
      "Name: target, Length: 51769, dtype: float64\n"
     ]
    }
   ],
   "source": [
    "import pandas as pd\n",
    "import numpy as np\n",
    "\n",
    "lgb_df = pd.read_csv('sub_1917_lgb_cv_after_opt_custom_loss.csv')\n",
    "cat_df = pd.read_csv('catboost_cv_after_opt.csv')\n",
    "\n",
    "print(lgb_df['target'])\n",
    "\n",
    "lgb_weight = 0.50\n",
    "cat_weight = 0.50\n",
    "lgb_df['target'] = (lgb_df['target'] * lgb_weight + cat_df['target'] * cat_weight)\n",
    "\n",
    "print(lgb_df['target'])\n",
    "\n",
    "lgb_df[['index', 'target']].to_csv(f'custom_loss_mean_cv_lgb_cat_{int(lgb_weight*100)}_{int(cat_weight*100)}.csv', index=False)"
   ]
  },
  {
   "cell_type": "markdown",
   "id": "62e3a721",
   "metadata": {},
   "source": [
    "В итоге лучший срок это кроссвалидация лгбм "
   ]
  }
 ],
 "metadata": {
  "kernelspec": {
   "display_name": "base",
   "language": "python",
   "name": "python3"
  },
  "language_info": {
   "codemirror_mode": {
    "name": "ipython",
    "version": 3
   },
   "file_extension": ".py",
   "mimetype": "text/x-python",
   "name": "python",
   "nbconvert_exporter": "python",
   "pygments_lexer": "ipython3",
   "version": "3.12.3"
  }
 },
 "nbformat": 4,
 "nbformat_minor": 5
}
