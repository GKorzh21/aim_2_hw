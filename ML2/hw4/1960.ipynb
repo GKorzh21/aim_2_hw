{
 "cells": [
  {
   "cell_type": "code",
   "execution_count": 6,
   "id": "c5bb64c6",
   "metadata": {},
   "outputs": [],
   "source": [
    "import pandas as pd\n",
    "import numpy as np\n",
    "import matplotlib.pyplot as plt \n",
    "from sklearn.model_selection import KFold\n",
    "from sklearn.preprocessing import TargetEncoder\n",
    "from sklearn.model_selection import train_test_split\n",
    "from sklearn.preprocessing import LabelEncoder\n",
    "import lightgbm as lgb\n",
    "import seaborn as sns\n",
    "\n",
    "import warnings\n",
    "warnings.filterwarnings('ignore', category=pd.errors.SettingWithCopyWarning)"
   ]
  },
  {
   "cell_type": "code",
   "execution_count": null,
   "id": "400443d6",
   "metadata": {},
   "outputs": [
    {
     "name": "stdout",
     "output_type": "stream",
     "text": [
      "[LightGBM] [Info] Auto-choosing row-wise multi-threading, the overhead of testing was 0.009630 seconds.\n",
      "You can set `force_row_wise=true` to remove the overhead.\n",
      "And if memory is not enough, you can set `force_col_wise=true`.\n",
      "[LightGBM] [Info] Total Bins 3648\n",
      "[LightGBM] [Info] Number of data points in the train set: 120094, number of used features: 129\n",
      "[LightGBM] [Info] Start training from score 7.688378\n"
     ]
    }
   ],
   "source": [
    "train = pd.read_csv('train_contest.csv')\n",
    "features = list(train.drop('target', axis=1).columns)\n",
    "\n",
    "cat_features = train.select_dtypes(include=['object', 'category']).columns.tolist()\n",
    "\n",
    "for feat in cat_features:\n",
    "    train[feat] = train[feat].astype('category')\n",
    "\n",
    "lgb_df = lgb.Dataset(data=train[features], label=train.target, categorical_feature=cat_features)\n",
    "\n",
    "params = {\n",
    "    'objective': 'regression'\n",
    "}\n",
    "\n",
    "model = lgb.train(train_set=lgb_df, params=params)"
   ]
  },
  {
   "cell_type": "code",
   "execution_count": null,
   "id": "6958a93a",
   "metadata": {},
   "outputs": [],
   "source": [
    "test = pd.read_csv('test_contest.csv')\n",
    "\n",
    "for feat in cat_features:\n",
    "    test[feat] = test[feat].astype('category')\n",
    "\n",
    "test['target'] = model.predict(test[features])\n",
    "\n",
    "test[['index', 'target']].to_csv('test.csv', index=False)"
   ]
  },
  {
   "cell_type": "code",
   "execution_count": null,
   "id": "4f7277c0",
   "metadata": {},
   "outputs": [],
   "source": []
  }
 ],
 "metadata": {
  "kernelspec": {
   "display_name": "base",
   "language": "python",
   "name": "python3"
  },
  "language_info": {
   "codemirror_mode": {
    "name": "ipython",
    "version": 3
   },
   "file_extension": ".py",
   "mimetype": "text/x-python",
   "name": "python",
   "nbconvert_exporter": "python",
   "pygments_lexer": "ipython3",
   "version": "3.12.3"
  }
 },
 "nbformat": 4,
 "nbformat_minor": 5
}
