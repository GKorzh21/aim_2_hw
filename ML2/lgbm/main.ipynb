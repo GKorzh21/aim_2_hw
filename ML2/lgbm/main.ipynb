{
 "cells": [
  {
   "cell_type": "markdown",
   "id": "9fb741a0-9793-461e-9080-e4865b3c66cc",
   "metadata": {},
   "source": [
    "# LightGBM"
   ]
  },
  {
   "cell_type": "code",
   "execution_count": 49,
   "id": "11b8e28f-9c57-4473-b8fa-deb50d0d7d08",
   "metadata": {},
   "outputs": [
    {
     "name": "stdout",
     "output_type": "stream",
     "text": [
      "4.6.0\n",
      "The autoreload extension is already loaded. To reload it, use:\n",
      "  %reload_ext autoreload\n"
     ]
    }
   ],
   "source": [
    "import lightgbm as lgb\n",
    "\n",
    "print(lgb.__version__) \n",
    "\n",
    "%load_ext autoreload\n",
    "%autoreload 2"
   ]
  },
  {
   "cell_type": "code",
   "execution_count": 50,
   "id": "a59d785f-7bff-4e75-bf14-a47b4ca30e73",
   "metadata": {},
   "outputs": [
    {
     "name": "stdout",
     "output_type": "stream",
     "text": [
      "<class 'pandas.core.frame.DataFrame'>\n",
      "RangeIndex: 7700 entries, 0 to 7699\n",
      "Columns: 101 entries, f_0 to target\n",
      "dtypes: float32(100), int32(1)\n",
      "memory usage: 3.0 MB\n"
     ]
    },
    {
     "data": {
      "text/html": [
       "<div>\n",
       "<style scoped>\n",
       "    .dataframe tbody tr th:only-of-type {\n",
       "        vertical-align: middle;\n",
       "    }\n",
       "\n",
       "    .dataframe tbody tr th {\n",
       "        vertical-align: top;\n",
       "    }\n",
       "\n",
       "    .dataframe thead th {\n",
       "        text-align: right;\n",
       "    }\n",
       "</style>\n",
       "<table border=\"1\" class=\"dataframe\">\n",
       "  <thead>\n",
       "    <tr style=\"text-align: right;\">\n",
       "      <th></th>\n",
       "      <th>f_0</th>\n",
       "      <th>f_1</th>\n",
       "      <th>f_2</th>\n",
       "      <th>f_3</th>\n",
       "      <th>f_4</th>\n",
       "      <th>f_5</th>\n",
       "      <th>f_6</th>\n",
       "      <th>f_7</th>\n",
       "      <th>f_8</th>\n",
       "      <th>f_9</th>\n",
       "      <th>...</th>\n",
       "      <th>f_91</th>\n",
       "      <th>f_92</th>\n",
       "      <th>f_93</th>\n",
       "      <th>f_94</th>\n",
       "      <th>f_95</th>\n",
       "      <th>f_96</th>\n",
       "      <th>f_97</th>\n",
       "      <th>f_98</th>\n",
       "      <th>f_99</th>\n",
       "      <th>target</th>\n",
       "    </tr>\n",
       "  </thead>\n",
       "  <tbody>\n",
       "    <tr>\n",
       "      <th>0</th>\n",
       "      <td>-7.693210</td>\n",
       "      <td>-2.307856</td>\n",
       "      <td>1.330482</td>\n",
       "      <td>1.956519</td>\n",
       "      <td>-4.737048</td>\n",
       "      <td>-0.808857</td>\n",
       "      <td>-0.083493</td>\n",
       "      <td>-0.652450</td>\n",
       "      <td>-0.827025</td>\n",
       "      <td>2.895884</td>\n",
       "      <td>...</td>\n",
       "      <td>1.932500</td>\n",
       "      <td>-2.487015</td>\n",
       "      <td>0.531025</td>\n",
       "      <td>0.015999</td>\n",
       "      <td>3.841881</td>\n",
       "      <td>2.944531</td>\n",
       "      <td>-5.108033</td>\n",
       "      <td>-3.738099</td>\n",
       "      <td>0.668487</td>\n",
       "      <td>1</td>\n",
       "    </tr>\n",
       "    <tr>\n",
       "      <th>1</th>\n",
       "      <td>3.562736</td>\n",
       "      <td>2.726196</td>\n",
       "      <td>0.833317</td>\n",
       "      <td>0.382781</td>\n",
       "      <td>3.403235</td>\n",
       "      <td>0.835908</td>\n",
       "      <td>1.004829</td>\n",
       "      <td>2.453187</td>\n",
       "      <td>0.384746</td>\n",
       "      <td>0.400144</td>\n",
       "      <td>...</td>\n",
       "      <td>0.999936</td>\n",
       "      <td>0.831185</td>\n",
       "      <td>-8.842968</td>\n",
       "      <td>0.722457</td>\n",
       "      <td>6.440717</td>\n",
       "      <td>7.990329</td>\n",
       "      <td>-6.200291</td>\n",
       "      <td>2.575604</td>\n",
       "      <td>0.239539</td>\n",
       "      <td>0</td>\n",
       "    </tr>\n",
       "    <tr>\n",
       "      <th>2</th>\n",
       "      <td>1.181314</td>\n",
       "      <td>5.904849</td>\n",
       "      <td>0.574240</td>\n",
       "      <td>-1.499972</td>\n",
       "      <td>-2.565058</td>\n",
       "      <td>1.321400</td>\n",
       "      <td>-0.385923</td>\n",
       "      <td>4.773221</td>\n",
       "      <td>-0.879839</td>\n",
       "      <td>0.423675</td>\n",
       "      <td>...</td>\n",
       "      <td>-12.167426</td>\n",
       "      <td>-0.476589</td>\n",
       "      <td>-4.122464</td>\n",
       "      <td>-0.155873</td>\n",
       "      <td>-7.015498</td>\n",
       "      <td>0.609455</td>\n",
       "      <td>0.688230</td>\n",
       "      <td>-10.570615</td>\n",
       "      <td>-0.753206</td>\n",
       "      <td>1</td>\n",
       "    </tr>\n",
       "  </tbody>\n",
       "</table>\n",
       "<p>3 rows × 101 columns</p>\n",
       "</div>"
      ],
      "text/plain": [
       "        f_0       f_1       f_2       f_3       f_4       f_5       f_6  \\\n",
       "0 -7.693210 -2.307856  1.330482  1.956519 -4.737048 -0.808857 -0.083493   \n",
       "1  3.562736  2.726196  0.833317  0.382781  3.403235  0.835908  1.004829   \n",
       "2  1.181314  5.904849  0.574240 -1.499972 -2.565058  1.321400 -0.385923   \n",
       "\n",
       "        f_7       f_8       f_9  ...       f_91      f_92      f_93      f_94  \\\n",
       "0 -0.652450 -0.827025  2.895884  ...   1.932500 -2.487015  0.531025  0.015999   \n",
       "1  2.453187  0.384746  0.400144  ...   0.999936  0.831185 -8.842968  0.722457   \n",
       "2  4.773221 -0.879839  0.423675  ... -12.167426 -0.476589 -4.122464 -0.155873   \n",
       "\n",
       "       f_95      f_96      f_97       f_98      f_99  target  \n",
       "0  3.841881  2.944531 -5.108033  -3.738099  0.668487       1  \n",
       "1  6.440717  7.990329 -6.200291   2.575604  0.239539       0  \n",
       "2 -7.015498  0.609455  0.688230 -10.570615 -0.753206       1  \n",
       "\n",
       "[3 rows x 101 columns]"
      ]
     },
     "execution_count": 50,
     "metadata": {},
     "output_type": "execute_result"
    }
   ],
   "source": [
    "# создаем dummy-dataset\n",
    "import numpy as np, pandas as pd\n",
    "from sklearn.datasets import make_classification\n",
    "from sklearn.model_selection import train_test_split\n",
    "\n",
    "X, y = make_classification(n_samples=10_000, n_features=100, n_informative=60, random_state=911)\n",
    "X_tr, X_val, y_tr, y_val = train_test_split(X, y, test_size=0.23, shuffle=True, random_state=911)\n",
    "\n",
    "tr = pd.DataFrame(X_tr, columns=['f_' + str(i) for i in range(X_tr.shape[1])], dtype=np.float32).assign(target=y_tr)\n",
    "val = pd.DataFrame(X_val, columns=['f_' + str(i) for i in range(X_val.shape[1])], dtype=np.float32).assign(target=y_val)\n",
    "\n",
    "features = tr.columns.drop('target')\n",
    "\n",
    "tr.info()\n",
    "tr.head(3)"
   ]
  },
  {
   "cell_type": "code",
   "execution_count": null,
   "id": "f8f130a0-5b9c-40ef-ae06-883994b75cfe",
   "metadata": {},
   "outputs": [],
   "source": []
  },
  {
   "cell_type": "markdown",
   "id": "7b6cdf1b-4f40-4b69-9427-bccde8d90fd4",
   "metadata": {},
   "source": [
    "### 1. sample code - делаем модельку"
   ]
  },
  {
   "cell_type": "code",
   "execution_count": 51,
   "id": "16a07db7-e4be-412b-8e47-4c0a8572eace",
   "metadata": {},
   "outputs": [
    {
     "name": "stdout",
     "output_type": "stream",
     "text": [
      "Training until validation scores don't improve for 20 rounds\n",
      "[41]\tvalid_0's auc: 0.965945\n",
      "[82]\tvalid_0's auc: 0.976337\n",
      "[123]\tvalid_0's auc: 0.981041\n",
      "[164]\tvalid_0's auc: 0.98365\n",
      "[205]\tvalid_0's auc: 0.984564\n",
      "[246]\tvalid_0's auc: 0.985468\n",
      "[287]\tvalid_0's auc: 0.986568\n",
      "[328]\tvalid_0's auc: 0.986944\n",
      "Early stopping, best iteration is:\n",
      "[347]\tvalid_0's auc: 0.98721\n",
      "y_raw: [-9.84991786  5.5639161  -6.75092681 16.05469397 -7.47068601] \n",
      "y_prob: [0.    0.996 0.001 1.    0.001 1.    0.    0.    0.    0.022]\n"
     ]
    }
   ],
   "source": [
    "tr_lgb = lgb.Dataset(tr[features], tr.target)\n",
    "val_lgb = lgb.Dataset(val[features], val.target)\n",
    "\n",
    "params = {\n",
    "    'objective': 'binary',\n",
    "    'eta': 0.2,\n",
    "    \n",
    "    'metric': 'auc',\n",
    "    'nthread': 32,\n",
    "    'verbose': 0,\n",
    "    'seed': 911\n",
    "}\n",
    "\n",
    "model = lgb.train(\n",
    "    params, tr_lgb, num_boost_round=600,\n",
    "    valid_sets=[val_lgb], callbacks=[lgb.early_stopping(20), lgb.log_evaluation(41)] # настройка early_stopping\n",
    ")\n",
    "\n",
    "y_raw = model.predict(val[features], raw_score=True) # так делать надо\n",
    "y_prob = model.predict(val[features], raw_score=False) # по умолчанию False, но так делать не надо\n",
    "print('y_raw:', y_raw[:5], '\\ny_prob:', y_prob[:10].round(3))"
   ]
  },
  {
   "cell_type": "code",
   "execution_count": 52,
   "id": "07691104-4f11-4fdd-b04f-860609f84f92",
   "metadata": {},
   "outputs": [
    {
     "data": {
      "image/png": "[encoded data removed]",
      "text/plain": [
       "<Figure size 1200x400 with 2 Axes>"
      ]
     },
     "metadata": {},
     "output_type": "display_data"
    }
   ],
   "source": [
    "import seaborn as sns\n",
    "import matplotlib.pyplot as plt\n",
    "\n",
    "fig, ax = plt.subplots(1, 2, figsize=(12, 4))\n",
    "ax[0].set_title('raw_score=True', fontsize=15)\n",
    "sns.histplot(x=y_raw, hue=val.target, bins=33, ax=ax[0])\n",
    "ax[1].set_title('raw_score=False', fontsize=15)\n",
    "_ = sns.histplot(x=y_prob, hue=val.target, bins=33, ax=ax[1]) # log шкала спасает?\n"
   ]
  },
  {
   "cell_type": "code",
   "execution_count": null,
   "id": "0fd9fc8c-7802-4fad-a401-cc3eefe87afa",
   "metadata": {},
   "outputs": [],
   "source": []
  },
  {
   "cell_type": "markdown",
   "id": "0637cde0-0b3f-4c90-bccc-2b9ee373b2ef",
   "metadata": {},
   "source": [
    "### 2. GOSS - работает ли?"
   ]
  },
  {
   "cell_type": "code",
   "execution_count": 53,
   "id": "45f73416-1276-4fdc-b79d-e6cfe72d5cfe",
   "metadata": {},
   "outputs": [
    {
     "name": "stdout",
     "output_type": "stream",
     "text": [
      "The autoreload extension is already loaded. To reload it, use:\n",
      "  %reload_ext autoreload\n"
     ]
    },
    {
     "name": "stderr",
     "output_type": "stream",
     "text": [
      "100%|██████████| 6/6 [00:51<00:00,  8.63s/it]\n"
     ]
    },
    {
     "name": "stdout",
     "output_type": "stream",
     "text": [
      "n_trees = 9, plain = 13.870652198791504, goss = 16.608830213546753\n"
     ]
    },
    {
     "name": "stderr",
     "output_type": "stream",
     "text": [
      " 67%|██████▋   | 4/6 [00:10<00:05,  2.61s/it]\n"
     ]
    },
    {
     "ename": "KeyboardInterrupt",
     "evalue": "",
     "output_type": "error",
     "traceback": [
      "\u001b[1;31m---------------------------------------------------------------------------\u001b[0m",
      "\u001b[1;31mKeyboardInterrupt\u001b[0m                         Traceback (most recent call last)",
      "Cell \u001b[1;32mIn[53], line 9\u001b[0m\n\u001b[0;32m      6\u001b[0m dif \u001b[38;5;241m=\u001b[39m []\n\u001b[0;32m      8\u001b[0m \u001b[38;5;28;01mfor\u001b[39;00m i \u001b[38;5;129;01min\u001b[39;00m n_trees:\n\u001b[1;32m----> 9\u001b[0m     plain, goss \u001b[38;5;241m=\u001b[39m make_subsample_test_fair(i)\n\u001b[0;32m     10\u001b[0m     dif\u001b[38;5;241m.\u001b[39mappend(plain \u001b[38;5;241m-\u001b[39m goss)\n\u001b[0;32m     11\u001b[0m     \u001b[38;5;28mprint\u001b[39m(\u001b[38;5;124mf\u001b[39m\u001b[38;5;124m\"\u001b[39m\u001b[38;5;124mn_trees = \u001b[39m\u001b[38;5;132;01m{\u001b[39;00mi\u001b[38;5;132;01m}\u001b[39;00m\u001b[38;5;124m, plain = \u001b[39m\u001b[38;5;132;01m{\u001b[39;00mplain\u001b[38;5;132;01m}\u001b[39;00m\u001b[38;5;124m, goss = \u001b[39m\u001b[38;5;132;01m{\u001b[39;00mgoss\u001b[38;5;132;01m}\u001b[39;00m\u001b[38;5;124m\"\u001b[39m)\n",
      "File \u001b[1;32mc:\\Users\\Admin\\Desktop\\AIM 2сем\\ML2\\lgbm\\local_utils.py:263\u001b[0m, in \u001b[0;36mmake_subsample_test_fair\u001b[1;34m(n_t)\u001b[0m\n\u001b[0;32m      0\u001b[0m <Error retrieving source code with stack_data see ipython/ipython#13598>\n",
      "File \u001b[1;32mc:\\Users\\Admin\\anaconda3\\Lib\\site-packages\\lightgbm\\engine.py:322\u001b[0m, in \u001b[0;36mtrain\u001b[1;34m(params, train_set, num_boost_round, valid_sets, valid_names, feval, init_model, keep_training_booster, callbacks)\u001b[0m\n\u001b[0;32m    310\u001b[0m \u001b[38;5;28;01mfor\u001b[39;00m cb \u001b[38;5;129;01min\u001b[39;00m callbacks_before_iter:\n\u001b[0;32m    311\u001b[0m     cb(\n\u001b[0;32m    312\u001b[0m         callback\u001b[38;5;241m.\u001b[39mCallbackEnv(\n\u001b[0;32m    313\u001b[0m             model\u001b[38;5;241m=\u001b[39mbooster,\n\u001b[1;32m   (...)\u001b[0m\n\u001b[0;32m    319\u001b[0m         )\n\u001b[0;32m    320\u001b[0m     )\n\u001b[1;32m--> 322\u001b[0m booster\u001b[38;5;241m.\u001b[39mupdate(fobj\u001b[38;5;241m=\u001b[39mfobj)\n\u001b[0;32m    324\u001b[0m evaluation_result_list: List[_LGBM_BoosterEvalMethodResultType] \u001b[38;5;241m=\u001b[39m []\n\u001b[0;32m    325\u001b[0m \u001b[38;5;66;03m# check evaluation result.\u001b[39;00m\n",
      "File \u001b[1;32mc:\\Users\\Admin\\anaconda3\\Lib\\site-packages\\lightgbm\\basic.py:4155\u001b[0m, in \u001b[0;36mBooster.update\u001b[1;34m(self, train_set, fobj)\u001b[0m\n\u001b[0;32m   4152\u001b[0m \u001b[38;5;28;01mif\u001b[39;00m \u001b[38;5;28mself\u001b[39m\u001b[38;5;241m.\u001b[39m__set_objective_to_none:\n\u001b[0;32m   4153\u001b[0m     \u001b[38;5;28;01mraise\u001b[39;00m LightGBMError(\u001b[38;5;124m\"\u001b[39m\u001b[38;5;124mCannot update due to null objective function.\u001b[39m\u001b[38;5;124m\"\u001b[39m)\n\u001b[0;32m   4154\u001b[0m _safe_call(\n\u001b[1;32m-> 4155\u001b[0m     _LIB\u001b[38;5;241m.\u001b[39mLGBM_BoosterUpdateOneIter(\n\u001b[0;32m   4156\u001b[0m         \u001b[38;5;28mself\u001b[39m\u001b[38;5;241m.\u001b[39m_handle,\n\u001b[0;32m   4157\u001b[0m         ctypes\u001b[38;5;241m.\u001b[39mbyref(is_finished),\n\u001b[0;32m   4158\u001b[0m     )\n\u001b[0;32m   4159\u001b[0m )\n\u001b[0;32m   4160\u001b[0m \u001b[38;5;28mself\u001b[39m\u001b[38;5;241m.\u001b[39m__is_predicted_cur_iter \u001b[38;5;241m=\u001b[39m [\u001b[38;5;28;01mFalse\u001b[39;00m \u001b[38;5;28;01mfor\u001b[39;00m _ \u001b[38;5;129;01min\u001b[39;00m \u001b[38;5;28mrange\u001b[39m(\u001b[38;5;28mself\u001b[39m\u001b[38;5;241m.\u001b[39m__num_dataset)]\n\u001b[0;32m   4161\u001b[0m \u001b[38;5;28;01mreturn\u001b[39;00m is_finished\u001b[38;5;241m.\u001b[39mvalue \u001b[38;5;241m==\u001b[39m \u001b[38;5;241m1\u001b[39m\n",
      "\u001b[1;31mKeyboardInterrupt\u001b[0m: "
     ]
    }
   ],
   "source": [
    "from local_utils import make_subsample_test_fair\n",
    "%load_ext autoreload\n",
    "%autoreload 2\n",
    "\n",
    "n_trees = [9, 10, 11, 12, 13, 14, 15, 17, 19, 21, 25]\n",
    "dif = []\n",
    "\n",
    "for i in n_trees:\n",
    "    plain, goss = make_subsample_test_fair(i)\n",
    "    dif.append(plain - goss)\n",
    "    print(f\"n_trees = {i}, plain = {plain}, goss = {goss}\")"
   ]
  },
  {
   "cell_type": "code",
   "execution_count": null,
   "id": "19b791d8",
   "metadata": {},
   "outputs": [
    {
     "name": "stdout",
     "output_type": "stream",
     "text": [
      "Первое положительное значение в dif соответствует n_trees = 19\n"
     ]
    },
    {
     "name": "stderr",
     "output_type": "stream",
     "text": [
      "C:\\Users\\Admin\\AppData\\Local\\Temp\\ipykernel_54668\\990372723.py:10: UserWarning: No artists with labels found to put in legend.  Note that artists whose label start with an underscore are ignored when legend() is called with no argument.\n",
      "  plt.legend(fontsize=15)\n"
     ]
    },
    {
     "data": {
      "image/png": "[encoded data removed]",
      "text/plain": [
       "<Figure size 800x500 with 1 Axes>"
      ]
     },
     "metadata": {},
     "output_type": "display_data"
    }
   ],
   "source": [
    "import matplotlib.pyplot as plt\n",
    "\n",
    "first_positive_index = next((index for index, value in enumerate(dif) if value > 0), None)\n",
    "\n",
    "first_positive_n_trees = n_trees[first_positive_index]\n",
    "print(f\"Первое положительное значение в dif соответствует n_trees = {first_positive_n_trees}\")\n",
    "\n",
    "\n",
    "plt.plot(n_trees, dif)\n",
    "plt.legend(fontsize=15)\n",
    "plt.title('Difference in training time (plain - goss) vs number of trees', fontsize=16)\n",
    "plt.gca().tick_params('both', labelsize=15)\n",
    "plt.xlabel('Number of trees', fontsize=15)\n",
    "plt.axhline(0, color='red', linestyle='--', linewidth=1, label='Zero line')\n",
    "plt.ylabel('Time difference (plain - goss), sec', fontsize=15)\n",
    "plt.gcf().set_size_inches(8, 5)"
   ]
  },
  {
   "cell_type": "markdown",
   "id": "28b54732-f353-496b-807e-56b7cbe67334",
   "metadata": {},
   "source": [
    "И так уже третий год =)"
   ]
  },
  {
   "cell_type": "markdown",
   "id": "9a8727f9-81e9-404e-b2ef-80bede9d1610",
   "metadata": {},
   "source": [
    "### 3. linear_tree=True - насколько это быстро?"
   ]
  },
  {
   "cell_type": "code",
   "execution_count": null,
   "id": "cea1fe30-fa7f-4842-8345-2fd712db5eac",
   "metadata": {},
   "outputs": [
    {
     "name": "stderr",
     "output_type": "stream",
     "text": [
      "100%|████████████████████████████████████████████████████████████████████████████████████| 6/6 [00:09<00:00,  1.53s/it]\n"
     ]
    },
    {
     "data": {
      "image/png": "[encoded data removed]",
      "text/plain": [
       "<Figure size 800x500 with 1 Axes>"
      ]
     },
     "metadata": {},
     "output_type": "display_data"
    }
   ],
   "source": [
    "from local_utils import make_linear_tree_test\n",
    "\n",
    "make_linear_tree_test()"
   ]
  },
  {
   "cell_type": "markdown",
   "id": "0535a116-5ffb-4877-b802-427361fc5f1c",
   "metadata": {},
   "source": [
    "Это быстро)"
   ]
  },
  {
   "cell_type": "code",
   "execution_count": null,
   "id": "3ce7cd79-dd72-4cd9-8e3e-60d9f313d9bd",
   "metadata": {},
   "outputs": [],
   "source": []
  },
  {
   "cell_type": "markdown",
   "id": "5e85c597-da69-4344-a5cb-6826f93b69c5",
   "metadata": {},
   "source": [
    "### 4. quantized_grad=True - работает ли?"
   ]
  },
  {
   "cell_type": "code",
   "execution_count": null,
   "id": "b0ebfbc0-c512-44bb-9d70-e94ed328caf4",
   "metadata": {},
   "outputs": [
    {
     "name": "stderr",
     "output_type": "stream",
     "text": [
      "100%|██████████| 6/6 [00:06<00:00,  1.06s/it]\n"
     ]
    },
    {
     "data": {
      "image/png": "[encoded data removed]",
      "text/plain": [
       "<Figure size 800x500 with 1 Axes>"
      ]
     },
     "metadata": {},
     "output_type": "display_data"
    }
   ],
   "source": [
    "from local_utils import make_quantized_grad_test\n",
    "\n",
    "make_quantized_grad_test()"
   ]
  },
  {
   "cell_type": "code",
   "execution_count": null,
   "id": "8216cde0",
   "metadata": {},
   "outputs": [
    {
     "name": "stdout",
     "output_type": "stream",
     "text": [
      "The autoreload extension is already loaded. To reload it, use:\n",
      "  %reload_ext autoreload\n"
     ]
    },
    {
     "name": "stderr",
     "output_type": "stream",
     "text": [
      "100%|██████████| 6/6 [00:20<00:00,  3.35s/it]\n"
     ]
    },
    {
     "name": "stdout",
     "output_type": "stream",
     "text": [
      "n_trees = 10, max_leaves = 80, plain_time = 6.436177492141724, quant_time = 7.451940059661865\n"
     ]
    },
    {
     "name": "stderr",
     "output_type": "stream",
     "text": [
      "100%|██████████| 6/6 [00:21<00:00,  3.61s/it]\n"
     ]
    },
    {
     "name": "stdout",
     "output_type": "stream",
     "text": [
      "n_trees = 10, max_leaves = 100, plain_time = 7.060253381729126, quant_time = 7.873751401901245\n"
     ]
    },
    {
     "name": "stderr",
     "output_type": "stream",
     "text": [
      "100%|██████████| 6/6 [00:23<00:00,  3.84s/it]\n"
     ]
    },
    {
     "name": "stdout",
     "output_type": "stream",
     "text": [
      "n_trees = 10, max_leaves = 128, plain_time = 7.530299425125122, quant_time = 8.529762744903564\n"
     ]
    },
    {
     "name": "stderr",
     "output_type": "stream",
     "text": [
      "100%|██████████| 6/6 [00:24<00:00,  4.14s/it]\n"
     ]
    },
    {
     "name": "stdout",
     "output_type": "stream",
     "text": [
      "n_trees = 10, max_leaves = 175, plain_time = 8.25061559677124, quant_time = 9.18243932723999\n"
     ]
    },
    {
     "name": "stderr",
     "output_type": "stream",
     "text": [
      "100%|██████████| 6/6 [00:25<00:00,  4.21s/it]\n"
     ]
    },
    {
     "name": "stdout",
     "output_type": "stream",
     "text": [
      "n_trees = 10, max_leaves = 200, plain_time = 8.361320972442627, quant_time = 9.383837938308716\n"
     ]
    },
    {
     "name": "stderr",
     "output_type": "stream",
     "text": [
      "100%|██████████| 6/6 [00:47<00:00,  7.87s/it]\n"
     ]
    },
    {
     "name": "stdout",
     "output_type": "stream",
     "text": [
      "n_trees = 25, max_leaves = 80, plain_time = 15.52425503730774, quant_time = 17.98030948638916\n"
     ]
    },
    {
     "name": "stderr",
     "output_type": "stream",
     "text": [
      "100%|██████████| 6/6 [00:51<00:00,  8.59s/it]\n"
     ]
    },
    {
     "name": "stdout",
     "output_type": "stream",
     "text": [
      "n_trees = 25, max_leaves = 100, plain_time = 17.049917936325073, quant_time = 19.930124521255493\n"
     ]
    },
    {
     "name": "stderr",
     "output_type": "stream",
     "text": [
      "100%|██████████| 6/6 [01:01<00:00, 10.19s/it]\n"
     ]
    },
    {
     "name": "stdout",
     "output_type": "stream",
     "text": [
      "n_trees = 25, max_leaves = 128, plain_time = 19.153998374938965, quant_time = 24.98650074005127\n"
     ]
    },
    {
     "name": "stderr",
     "output_type": "stream",
     "text": [
      "100%|██████████| 6/6 [01:13<00:00, 12.20s/it]\n"
     ]
    },
    {
     "name": "stdout",
     "output_type": "stream",
     "text": [
      "n_trees = 25, max_leaves = 175, plain_time = 25.188501119613647, quant_time = 25.60800051689148\n"
     ]
    },
    {
     "name": "stderr",
     "output_type": "stream",
     "text": [
      "100%|██████████| 6/6 [01:10<00:00, 11.82s/it]\n"
     ]
    },
    {
     "name": "stdout",
     "output_type": "stream",
     "text": [
      "n_trees = 25, max_leaves = 200, plain_time = 25.04850172996521, quant_time = 28.193500518798828\n"
     ]
    },
    {
     "name": "stderr",
     "output_type": "stream",
     "text": [
      "100%|██████████| 6/6 [01:45<00:00, 17.59s/it]\n"
     ]
    },
    {
     "name": "stdout",
     "output_type": "stream",
     "text": [
      "n_trees = 50, max_leaves = 80, plain_time = 35.43300151824951, quant_time = 37.98399901390076\n"
     ]
    },
    {
     "name": "stderr",
     "output_type": "stream",
     "text": [
      "100%|██████████| 6/6 [01:45<00:00, 17.61s/it]\n"
     ]
    },
    {
     "name": "stdout",
     "output_type": "stream",
     "text": [
      "n_trees = 50, max_leaves = 100, plain_time = 35.84900188446045, quant_time = 43.359498500823975\n"
     ]
    },
    {
     "name": "stderr",
     "output_type": "stream",
     "text": [
      "100%|██████████| 6/6 [01:52<00:00, 18.76s/it]\n"
     ]
    },
    {
     "name": "stdout",
     "output_type": "stream",
     "text": [
      "n_trees = 50, max_leaves = 128, plain_time = 37.708499908447266, quant_time = 41.7594997882843\n"
     ]
    },
    {
     "name": "stderr",
     "output_type": "stream",
     "text": [
      "100%|██████████| 6/6 [02:10<00:00, 21.73s/it]\n"
     ]
    },
    {
     "name": "stdout",
     "output_type": "stream",
     "text": [
      "n_trees = 50, max_leaves = 175, plain_time = 44.458497762680054, quant_time = 48.85800004005432\n"
     ]
    },
    {
     "name": "stderr",
     "output_type": "stream",
     "text": [
      "100%|██████████| 6/6 [02:10<00:00, 21.75s/it]\n"
     ]
    },
    {
     "name": "stdout",
     "output_type": "stream",
     "text": [
      "n_trees = 50, max_leaves = 200, plain_time = 46.63400101661682, quant_time = 51.42849826812744\n"
     ]
    },
    {
     "name": "stderr",
     "output_type": "stream",
     "text": [
      "100%|██████████| 6/6 [02:06<00:00, 21.08s/it]\n"
     ]
    },
    {
     "name": "stdout",
     "output_type": "stream",
     "text": [
      "n_trees = 75, max_leaves = 80, plain_time = 40.74549984931946, quant_time = 46.45349979400635\n"
     ]
    },
    {
     "name": "stderr",
     "output_type": "stream",
     "text": [
      "100%|██████████| 6/6 [02:22<00:00, 23.82s/it]\n"
     ]
    },
    {
     "name": "stdout",
     "output_type": "stream",
     "text": [
      "n_trees = 75, max_leaves = 100, plain_time = 48.6915020942688, quant_time = 51.08649969100952\n"
     ]
    },
    {
     "name": "stderr",
     "output_type": "stream",
     "text": [
      "100%|██████████| 6/6 [02:26<00:00, 24.33s/it]\n"
     ]
    },
    {
     "name": "stdout",
     "output_type": "stream",
     "text": [
      "n_trees = 75, max_leaves = 128, plain_time = 51.75100350379944, quant_time = 57.46599769592285\n"
     ]
    },
    {
     "name": "stderr",
     "output_type": "stream",
     "text": [
      "100%|██████████| 6/6 [02:41<00:00, 26.89s/it]\n"
     ]
    },
    {
     "name": "stdout",
     "output_type": "stream",
     "text": [
      "n_trees = 75, max_leaves = 175, plain_time = 52.86400079727173, quant_time = 65.59000015258789\n"
     ]
    },
    {
     "name": "stderr",
     "output_type": "stream",
     "text": [
      "100%|██████████| 6/6 [03:01<00:00, 30.19s/it]\n"
     ]
    },
    {
     "name": "stdout",
     "output_type": "stream",
     "text": [
      "n_trees = 75, max_leaves = 200, plain_time = 61.29400086402893, quant_time = 68.09849905967712\n"
     ]
    },
    {
     "name": "stderr",
     "output_type": "stream",
     "text": [
      "100%|██████████| 6/6 [02:30<00:00, 25.16s/it]\n"
     ]
    },
    {
     "name": "stdout",
     "output_type": "stream",
     "text": [
      "n_trees = 100, max_leaves = 80, plain_time = 52.45350217819214, quant_time = 50.21705675125122\n"
     ]
    },
    {
     "name": "stderr",
     "output_type": "stream",
     "text": [
      "100%|██████████| 6/6 [02:18<00:00, 23.16s/it]\n"
     ]
    },
    {
     "name": "stdout",
     "output_type": "stream",
     "text": [
      "n_trees = 100, max_leaves = 100, plain_time = 47.41397476196289, quant_time = 53.41790056228638\n"
     ]
    },
    {
     "name": "stderr",
     "output_type": "stream",
     "text": [
      "100%|██████████| 6/6 [02:25<00:00, 24.29s/it]\n"
     ]
    },
    {
     "name": "stdout",
     "output_type": "stream",
     "text": [
      "n_trees = 100, max_leaves = 128, plain_time = 50.19312572479248, quant_time = 55.8273241519928\n"
     ]
    },
    {
     "name": "stderr",
     "output_type": "stream",
     "text": [
      "100%|██████████| 6/6 [02:40<00:00, 26.71s/it]\n"
     ]
    },
    {
     "name": "stdout",
     "output_type": "stream",
     "text": [
      "n_trees = 100, max_leaves = 175, plain_time = 55.792908668518066, quant_time = 61.533976793289185\n"
     ]
    },
    {
     "name": "stderr",
     "output_type": "stream",
     "text": [
      "100%|██████████| 6/6 [02:44<00:00, 27.40s/it]"
     ]
    },
    {
     "name": "stdout",
     "output_type": "stream",
     "text": [
      "n_trees = 100, max_leaves = 200, plain_time = 56.53719139099121, quant_time = 62.895665645599365\n"
     ]
    },
    {
     "name": "stderr",
     "output_type": "stream",
     "text": [
      "\n"
     ]
    }
   ],
   "source": [
    "from local_utils import make_quantized_grad_test_fair\n",
    "%load_ext autoreload\n",
    "%autoreload 2\n",
    "\n",
    "n_trees_list = [10, 25, 50, 75, 100]\n",
    "max_leaves_list = [80, 100, 128, 175, 200]\n",
    "\n",
    "results = []\n",
    "\n",
    "for n_trees in n_trees_list:\n",
    "    for max_leaves in max_leaves_list:\n",
    "        plain_time, quant_time = make_quantized_grad_test_fair(n_trees, max_leaves)\n",
    "        \n",
    "        results.append({\n",
    "            'n_trees': n_trees,\n",
    "            'max_leaves': max_leaves,\n",
    "            'plain_time': plain_time,\n",
    "            'quant_time': quant_time\n",
    "        })\n",
    "        \n",
    "        print(f\"n_trees = {n_trees}, max_leaves = {max_leaves}, plain_time = {plain_time}, quant_time = {quant_time}\")"
   ]
  },
  {
   "cell_type": "code",
   "execution_count": 56,
   "id": "b6723375",
   "metadata": {},
   "outputs": [
    {
     "name": "stdout",
     "output_type": "stream",
     "text": [
      "The autoreload extension is already loaded. To reload it, use:\n",
      "  %reload_ext autoreload\n"
     ]
    },
    {
     "name": "stderr",
     "output_type": "stream",
     "text": [
      "100%|██████████| 6/6 [00:05<00:00,  1.07it/s]\n"
     ]
    },
    {
     "name": "stdout",
     "output_type": "stream",
     "text": [
      "n_trees = 3, max_leaves = 10, plain_time = 1.292027235031128, quant_time = 1.7060353755950928\n"
     ]
    },
    {
     "name": "stderr",
     "output_type": "stream",
     "text": [
      "100%|██████████| 6/6 [00:06<00:00,  1.03s/it]\n"
     ]
    },
    {
     "name": "stdout",
     "output_type": "stream",
     "text": [
      "n_trees = 3, max_leaves = 20, plain_time = 1.548044204711914, quant_time = 1.945000410079956\n"
     ]
    },
    {
     "name": "stderr",
     "output_type": "stream",
     "text": [
      "100%|██████████| 6/6 [00:07<00:00,  1.19s/it]\n"
     ]
    },
    {
     "name": "stdout",
     "output_type": "stream",
     "text": [
      "n_trees = 3, max_leaves = 40, plain_time = 1.832077980041504, quant_time = 2.2831053733825684\n"
     ]
    },
    {
     "name": "stderr",
     "output_type": "stream",
     "text": [
      "100%|██████████| 6/6 [00:07<00:00,  1.26s/it]\n"
     ]
    },
    {
     "name": "stdout",
     "output_type": "stream",
     "text": [
      "n_trees = 3, max_leaves = 60, plain_time = 2.051898956298828, quant_time = 2.5245518684387207\n"
     ]
    },
    {
     "name": "stderr",
     "output_type": "stream",
     "text": [
      "100%|██████████| 6/6 [00:08<00:00,  1.35s/it]\n"
     ]
    },
    {
     "name": "stdout",
     "output_type": "stream",
     "text": [
      "n_trees = 3, max_leaves = 80, plain_time = 2.2211086750030518, quant_time = 2.6655941009521484\n"
     ]
    },
    {
     "name": "stderr",
     "output_type": "stream",
     "text": [
      "100%|██████████| 6/6 [00:08<00:00,  1.41s/it]\n"
     ]
    },
    {
     "name": "stdout",
     "output_type": "stream",
     "text": [
      "n_trees = 3, max_leaves = 100, plain_time = 2.3695690631866455, quant_time = 2.850975275039673\n"
     ]
    },
    {
     "name": "stderr",
     "output_type": "stream",
     "text": [
      "100%|██████████| 6/6 [00:08<00:00,  1.50s/it]\n"
     ]
    },
    {
     "name": "stdout",
     "output_type": "stream",
     "text": [
      "n_trees = 3, max_leaves = 128, plain_time = 2.5640645027160645, quant_time = 3.0576202869415283\n"
     ]
    },
    {
     "name": "stderr",
     "output_type": "stream",
     "text": [
      "100%|██████████| 6/6 [00:09<00:00,  1.56s/it]\n"
     ]
    },
    {
     "name": "stdout",
     "output_type": "stream",
     "text": [
      "n_trees = 3, max_leaves = 175, plain_time = 2.7500414848327637, quant_time = 3.2522103786468506\n"
     ]
    },
    {
     "name": "stderr",
     "output_type": "stream",
     "text": [
      "100%|██████████| 6/6 [00:09<00:00,  1.63s/it]\n"
     ]
    },
    {
     "name": "stdout",
     "output_type": "stream",
     "text": [
      "n_trees = 3, max_leaves = 200, plain_time = 2.900353193283081, quant_time = 3.328115940093994\n"
     ]
    },
    {
     "name": "stderr",
     "output_type": "stream",
     "text": [
      "100%|██████████| 6/6 [00:07<00:00,  1.33s/it]\n"
     ]
    },
    {
     "name": "stdout",
     "output_type": "stream",
     "text": [
      "n_trees = 6, max_leaves = 10, plain_time = 2.088132381439209, quant_time = 2.6756680011749268\n"
     ]
    },
    {
     "name": "stderr",
     "output_type": "stream",
     "text": [
      "100%|██████████| 6/6 [00:09<00:00,  1.55s/it]\n"
     ]
    },
    {
     "name": "stdout",
     "output_type": "stream",
     "text": [
      "n_trees = 6, max_leaves = 20, plain_time = 2.592834711074829, quant_time = 3.1548609733581543\n"
     ]
    },
    {
     "name": "stderr",
     "output_type": "stream",
     "text": [
      "100%|██████████| 6/6 [00:11<00:00,  1.85s/it]\n"
     ]
    },
    {
     "name": "stdout",
     "output_type": "stream",
     "text": [
      "n_trees = 6, max_leaves = 40, plain_time = 3.202951431274414, quant_time = 3.848979949951172\n"
     ]
    },
    {
     "name": "stderr",
     "output_type": "stream",
     "text": [
      "100%|██████████| 6/6 [00:12<00:00,  2.06s/it]\n"
     ]
    },
    {
     "name": "stdout",
     "output_type": "stream",
     "text": [
      "n_trees = 6, max_leaves = 60, plain_time = 3.6572728157043457, quant_time = 4.298186779022217\n"
     ]
    },
    {
     "name": "stderr",
     "output_type": "stream",
     "text": [
      "100%|██████████| 6/6 [00:13<00:00,  2.20s/it]\n"
     ]
    },
    {
     "name": "stdout",
     "output_type": "stream",
     "text": [
      "n_trees = 6, max_leaves = 80, plain_time = 4.045776844024658, quant_time = 4.693345308303833\n"
     ]
    },
    {
     "name": "stderr",
     "output_type": "stream",
     "text": [
      "100%|██████████| 6/6 [00:14<00:00,  2.34s/it]\n"
     ]
    },
    {
     "name": "stdout",
     "output_type": "stream",
     "text": [
      "n_trees = 6, max_leaves = 100, plain_time = 4.346059322357178, quant_time = 4.969632387161255\n"
     ]
    },
    {
     "name": "stderr",
     "output_type": "stream",
     "text": [
      "100%|██████████| 6/6 [00:14<00:00,  2.47s/it]\n"
     ]
    },
    {
     "name": "stdout",
     "output_type": "stream",
     "text": [
      "n_trees = 6, max_leaves = 128, plain_time = 4.6430504322052, quant_time = 5.314716100692749\n"
     ]
    },
    {
     "name": "stderr",
     "output_type": "stream",
     "text": [
      "100%|██████████| 6/6 [00:15<00:00,  2.62s/it]\n"
     ]
    },
    {
     "name": "stdout",
     "output_type": "stream",
     "text": [
      "n_trees = 6, max_leaves = 175, plain_time = 5.0190110206604, quant_time = 5.719496011734009\n"
     ]
    },
    {
     "name": "stderr",
     "output_type": "stream",
     "text": [
      "100%|██████████| 6/6 [00:16<00:00,  2.71s/it]\n"
     ]
    },
    {
     "name": "stdout",
     "output_type": "stream",
     "text": [
      "n_trees = 6, max_leaves = 200, plain_time = 5.195663690567017, quant_time = 5.8771584033966064\n"
     ]
    },
    {
     "name": "stderr",
     "output_type": "stream",
     "text": [
      "100%|██████████| 6/6 [00:11<00:00,  1.87s/it]\n"
     ]
    },
    {
     "name": "stdout",
     "output_type": "stream",
     "text": [
      "n_trees = 10, max_leaves = 10, plain_time = 3.0886707305908203, quant_time = 3.839092969894409\n"
     ]
    },
    {
     "name": "stderr",
     "output_type": "stream",
     "text": [
      "100%|██████████| 6/6 [00:13<00:00,  2.25s/it]\n"
     ]
    },
    {
     "name": "stdout",
     "output_type": "stream",
     "text": [
      "n_trees = 10, max_leaves = 20, plain_time = 3.9799962043762207, quant_time = 4.73236870765686\n"
     ]
    },
    {
     "name": "stderr",
     "output_type": "stream",
     "text": [
      "100%|██████████| 6/6 [00:16<00:00,  2.76s/it]\n"
     ]
    },
    {
     "name": "stdout",
     "output_type": "stream",
     "text": [
      "n_trees = 10, max_leaves = 40, plain_time = 5.0966103076934814, quant_time = 5.838779449462891\n"
     ]
    },
    {
     "name": "stderr",
     "output_type": "stream",
     "text": [
      "100%|██████████| 6/6 [00:18<00:00,  3.08s/it]\n"
     ]
    },
    {
     "name": "stdout",
     "output_type": "stream",
     "text": [
      "n_trees = 10, max_leaves = 60, plain_time = 5.772879123687744, quant_time = 6.616817951202393\n",
      "n_trees = 10, max_leaves = 80 уже есть в results, пропускаем.\n",
      "n_trees = 10, max_leaves = 100 уже есть в results, пропускаем.\n",
      "n_trees = 10, max_leaves = 128 уже есть в results, пропускаем.\n",
      "n_trees = 10, max_leaves = 175 уже есть в results, пропускаем.\n",
      "n_trees = 10, max_leaves = 200 уже есть в results, пропускаем.\n"
     ]
    },
    {
     "name": "stderr",
     "output_type": "stream",
     "text": [
      "100%|██████████| 6/6 [00:23<00:00,  3.89s/it]\n"
     ]
    },
    {
     "name": "stdout",
     "output_type": "stream",
     "text": [
      "n_trees = 25, max_leaves = 10, plain_time = 7.171550512313843, quant_time = 8.30661654472351\n"
     ]
    },
    {
     "name": "stderr",
     "output_type": "stream",
     "text": [
      "100%|██████████| 6/6 [00:29<00:00,  4.91s/it]\n"
     ]
    },
    {
     "name": "stdout",
     "output_type": "stream",
     "text": [
      "n_trees = 25, max_leaves = 20, plain_time = 9.164865255355835, quant_time = 10.625464916229248\n"
     ]
    },
    {
     "name": "stderr",
     "output_type": "stream",
     "text": [
      "100%|██████████| 6/6 [00:37<00:00,  6.18s/it]\n"
     ]
    },
    {
     "name": "stdout",
     "output_type": "stream",
     "text": [
      "n_trees = 25, max_leaves = 40, plain_time = 12.073386430740356, quant_time = 13.637546062469482\n"
     ]
    },
    {
     "name": "stderr",
     "output_type": "stream",
     "text": [
      "100%|██████████| 6/6 [00:41<00:00,  6.94s/it]\n"
     ]
    },
    {
     "name": "stdout",
     "output_type": "stream",
     "text": [
      "n_trees = 25, max_leaves = 60, plain_time = 13.79229187965393, quant_time = 15.467484474182129\n",
      "n_trees = 25, max_leaves = 80 уже есть в results, пропускаем.\n",
      "n_trees = 25, max_leaves = 100 уже есть в results, пропускаем.\n",
      "n_trees = 25, max_leaves = 128 уже есть в results, пропускаем.\n",
      "n_trees = 25, max_leaves = 175 уже есть в results, пропускаем.\n",
      "n_trees = 25, max_leaves = 200 уже есть в results, пропускаем.\n"
     ]
    },
    {
     "name": "stderr",
     "output_type": "stream",
     "text": [
      "100%|██████████| 6/6 [00:39<00:00,  6.58s/it]\n"
     ]
    },
    {
     "name": "stdout",
     "output_type": "stream",
     "text": [
      "n_trees = 50, max_leaves = 10, plain_time = 12.069431781768799, quant_time = 14.520569324493408\n"
     ]
    },
    {
     "name": "stderr",
     "output_type": "stream",
     "text": [
      "100%|██████████| 6/6 [00:50<00:00,  8.40s/it]\n"
     ]
    },
    {
     "name": "stdout",
     "output_type": "stream",
     "text": [
      "n_trees = 50, max_leaves = 20, plain_time = 15.873018741607666, quant_time = 18.887187957763672\n"
     ]
    },
    {
     "name": "stderr",
     "output_type": "stream",
     "text": [
      "100%|██████████| 6/6 [01:06<00:00, 11.04s/it]\n"
     ]
    },
    {
     "name": "stdout",
     "output_type": "stream",
     "text": [
      "n_trees = 50, max_leaves = 40, plain_time = 21.515958309173584, quant_time = 25.168501377105713\n"
     ]
    },
    {
     "name": "stderr",
     "output_type": "stream",
     "text": [
      "100%|██████████| 6/6 [01:14<00:00, 12.48s/it]\n"
     ]
    },
    {
     "name": "stdout",
     "output_type": "stream",
     "text": [
      "n_trees = 50, max_leaves = 60, plain_time = 25.25861167907715, quant_time = 28.085801124572754\n",
      "n_trees = 50, max_leaves = 80 уже есть в results, пропускаем.\n",
      "n_trees = 50, max_leaves = 100 уже есть в results, пропускаем.\n",
      "n_trees = 50, max_leaves = 128 уже есть в results, пропускаем.\n",
      "n_trees = 50, max_leaves = 175 уже есть в results, пропускаем.\n",
      "n_trees = 50, max_leaves = 200 уже есть в results, пропускаем.\n"
     ]
    },
    {
     "name": "stderr",
     "output_type": "stream",
     "text": [
      "100%|██████████| 6/6 [00:54<00:00,  9.06s/it]\n"
     ]
    },
    {
     "name": "stdout",
     "output_type": "stream",
     "text": [
      "n_trees = 75, max_leaves = 10, plain_time = 16.29876685142517, quant_time = 20.567856073379517\n"
     ]
    },
    {
     "name": "stderr",
     "output_type": "stream",
     "text": [
      "100%|██████████| 6/6 [01:09<00:00, 11.63s/it]\n"
     ]
    },
    {
     "name": "stdout",
     "output_type": "stream",
     "text": [
      "n_trees = 75, max_leaves = 20, plain_time = 22.206629276275635, quant_time = 26.171393156051636\n"
     ]
    },
    {
     "name": "stderr",
     "output_type": "stream",
     "text": [
      "100%|██████████| 6/6 [01:29<00:00, 14.93s/it]\n"
     ]
    },
    {
     "name": "stdout",
     "output_type": "stream",
     "text": [
      "n_trees = 75, max_leaves = 40, plain_time = 28.831730604171753, quant_time = 34.62727355957031\n"
     ]
    },
    {
     "name": "stderr",
     "output_type": "stream",
     "text": [
      "100%|██████████| 6/6 [01:39<00:00, 16.51s/it]\n"
     ]
    },
    {
     "name": "stdout",
     "output_type": "stream",
     "text": [
      "n_trees = 75, max_leaves = 60, plain_time = 33.55137658119202, quant_time = 37.39239525794983\n",
      "n_trees = 75, max_leaves = 80 уже есть в results, пропускаем.\n",
      "n_trees = 75, max_leaves = 100 уже есть в results, пропускаем.\n",
      "n_trees = 75, max_leaves = 128 уже есть в results, пропускаем.\n",
      "n_trees = 75, max_leaves = 175 уже есть в results, пропускаем.\n",
      "n_trees = 75, max_leaves = 200 уже есть в results, пропускаем.\n"
     ]
    },
    {
     "name": "stderr",
     "output_type": "stream",
     "text": [
      "100%|██████████| 6/6 [01:08<00:00, 11.41s/it]\n"
     ]
    },
    {
     "name": "stdout",
     "output_type": "stream",
     "text": [
      "n_trees = 100, max_leaves = 10, plain_time = 20.685139894485474, quant_time = 26.14901089668274\n"
     ]
    },
    {
     "name": "stderr",
     "output_type": "stream",
     "text": [
      "100%|██████████| 6/6 [01:28<00:00, 14.69s/it]\n"
     ]
    },
    {
     "name": "stdout",
     "output_type": "stream",
     "text": [
      "n_trees = 100, max_leaves = 20, plain_time = 28.008750438690186, quant_time = 33.37085938453674\n"
     ]
    },
    {
     "name": "stderr",
     "output_type": "stream",
     "text": [
      "100%|██████████| 6/6 [01:50<00:00, 18.36s/it]\n"
     ]
    },
    {
     "name": "stdout",
     "output_type": "stream",
     "text": [
      "n_trees = 100, max_leaves = 40, plain_time = 35.71024775505066, quant_time = 42.17641067504883\n"
     ]
    },
    {
     "name": "stderr",
     "output_type": "stream",
     "text": [
      "100%|██████████| 6/6 [02:00<00:00, 20.12s/it]\n"
     ]
    },
    {
     "name": "stdout",
     "output_type": "stream",
     "text": [
      "n_trees = 100, max_leaves = 60, plain_time = 40.18769454956055, quant_time = 45.56388854980469\n",
      "n_trees = 100, max_leaves = 80 уже есть в results, пропускаем.\n",
      "n_trees = 100, max_leaves = 100 уже есть в results, пропускаем.\n",
      "n_trees = 100, max_leaves = 128 уже есть в results, пропускаем.\n",
      "n_trees = 100, max_leaves = 175 уже есть в results, пропускаем.\n",
      "n_trees = 100, max_leaves = 200 уже есть в results, пропускаем.\n"
     ]
    },
    {
     "name": "stderr",
     "output_type": "stream",
     "text": [
      "100%|██████████| 6/6 [01:19<00:00, 13.26s/it]\n"
     ]
    },
    {
     "name": "stdout",
     "output_type": "stream",
     "text": [
      "n_trees = 120, max_leaves = 10, plain_time = 24.099398136138916, quant_time = 30.512290239334106\n"
     ]
    },
    {
     "name": "stderr",
     "output_type": "stream",
     "text": [
      "100%|██████████| 6/6 [01:41<00:00, 16.93s/it]\n"
     ]
    },
    {
     "name": "stdout",
     "output_type": "stream",
     "text": [
      "n_trees = 120, max_leaves = 20, plain_time = 31.612367153167725, quant_time = 39.07298278808594\n"
     ]
    },
    {
     "name": "stderr",
     "output_type": "stream",
     "text": [
      "100%|██████████| 6/6 [02:05<00:00, 20.90s/it]\n"
     ]
    },
    {
     "name": "stdout",
     "output_type": "stream",
     "text": [
      "n_trees = 120, max_leaves = 40, plain_time = 40.72549510002136, quant_time = 48.60200834274292\n"
     ]
    },
    {
     "name": "stderr",
     "output_type": "stream",
     "text": [
      "100%|██████████| 6/6 [02:15<00:00, 22.65s/it]\n"
     ]
    },
    {
     "name": "stdout",
     "output_type": "stream",
     "text": [
      "n_trees = 120, max_leaves = 60, plain_time = 45.65988326072693, quant_time = 51.7196261882782\n"
     ]
    },
    {
     "name": "stderr",
     "output_type": "stream",
     "text": [
      "100%|██████████| 6/6 [02:25<00:00, 24.21s/it]\n"
     ]
    },
    {
     "name": "stdout",
     "output_type": "stream",
     "text": [
      "n_trees = 120, max_leaves = 80, plain_time = 48.45807957649231, quant_time = 56.07017421722412\n"
     ]
    },
    {
     "name": "stderr",
     "output_type": "stream",
     "text": [
      "100%|██████████| 6/6 [02:27<00:00, 24.60s/it]\n"
     ]
    },
    {
     "name": "stdout",
     "output_type": "stream",
     "text": [
      "n_trees = 120, max_leaves = 100, plain_time = 52.566025257110596, quant_time = 52.2754442691803\n"
     ]
    },
    {
     "name": "stderr",
     "output_type": "stream",
     "text": [
      "100%|██████████| 6/6 [02:43<00:00, 27.22s/it]\n"
     ]
    },
    {
     "name": "stdout",
     "output_type": "stream",
     "text": [
      "n_trees = 120, max_leaves = 128, plain_time = 56.28394937515259, quant_time = 62.173504114151\n"
     ]
    },
    {
     "name": "stderr",
     "output_type": "stream",
     "text": [
      "100%|██████████| 6/6 [03:00<00:00, 30.02s/it]\n"
     ]
    },
    {
     "name": "stdout",
     "output_type": "stream",
     "text": [
      "n_trees = 120, max_leaves = 175, plain_time = 62.52360820770264, quant_time = 69.49019646644592\n"
     ]
    },
    {
     "name": "stderr",
     "output_type": "stream",
     "text": [
      "100%|██████████| 6/6 [03:03<00:00, 30.66s/it]\n"
     ]
    },
    {
     "name": "stdout",
     "output_type": "stream",
     "text": [
      "n_trees = 120, max_leaves = 200, plain_time = 64.58102083206177, quant_time = 69.49878334999084\n"
     ]
    },
    {
     "name": "stderr",
     "output_type": "stream",
     "text": [
      "100%|██████████| 6/6 [01:31<00:00, 15.30s/it]\n"
     ]
    },
    {
     "name": "stdout",
     "output_type": "stream",
     "text": [
      "n_trees = 140, max_leaves = 10, plain_time = 27.67845606803894, quant_time = 34.73307180404663\n"
     ]
    },
    {
     "name": "stderr",
     "output_type": "stream",
     "text": [
      "100%|██████████| 6/6 [01:55<00:00, 19.21s/it]\n"
     ]
    },
    {
     "name": "stdout",
     "output_type": "stream",
     "text": [
      "n_trees = 140, max_leaves = 20, plain_time = 36.11359357833862, quant_time = 44.33028984069824\n"
     ]
    },
    {
     "name": "stderr",
     "output_type": "stream",
     "text": [
      "100%|██████████| 6/6 [02:20<00:00, 23.39s/it]\n"
     ]
    },
    {
     "name": "stdout",
     "output_type": "stream",
     "text": [
      "n_trees = 140, max_leaves = 40, plain_time = 45.56844234466553, quant_time = 54.375587463378906\n"
     ]
    },
    {
     "name": "stderr",
     "output_type": "stream",
     "text": [
      "100%|██████████| 6/6 [02:33<00:00, 25.53s/it]\n"
     ]
    },
    {
     "name": "stdout",
     "output_type": "stream",
     "text": [
      "n_trees = 140, max_leaves = 60, plain_time = 51.40450716018677, quant_time = 58.57874035835266\n"
     ]
    },
    {
     "name": "stderr",
     "output_type": "stream",
     "text": [
      "100%|██████████| 6/6 [02:42<00:00, 27.03s/it]\n"
     ]
    },
    {
     "name": "stdout",
     "output_type": "stream",
     "text": [
      "n_trees = 140, max_leaves = 80, plain_time = 54.93507385253906, quant_time = 61.5609176158905\n"
     ]
    },
    {
     "name": "stderr",
     "output_type": "stream",
     "text": [
      "100%|██████████| 6/6 [02:51<00:00, 28.63s/it]\n"
     ]
    },
    {
     "name": "stdout",
     "output_type": "stream",
     "text": [
      "n_trees = 140, max_leaves = 100, plain_time = 57.927289724349976, quant_time = 66.43492460250854\n"
     ]
    },
    {
     "name": "stderr",
     "output_type": "stream",
     "text": [
      "100%|██████████| 6/6 [03:01<00:00, 30.28s/it]\n"
     ]
    },
    {
     "name": "stdout",
     "output_type": "stream",
     "text": [
      "n_trees = 140, max_leaves = 128, plain_time = 61.74124836921692, quant_time = 70.4201889038086\n"
     ]
    },
    {
     "name": "stderr",
     "output_type": "stream",
     "text": [
      "100%|██████████| 6/6 [03:17<00:00, 32.89s/it]\n"
     ]
    },
    {
     "name": "stdout",
     "output_type": "stream",
     "text": [
      "n_trees = 140, max_leaves = 175, plain_time = 68.33524346351624, quant_time = 75.85500359535217\n"
     ]
    },
    {
     "name": "stderr",
     "output_type": "stream",
     "text": [
      "100%|██████████| 6/6 [03:19<00:00, 33.26s/it]\n"
     ]
    },
    {
     "name": "stdout",
     "output_type": "stream",
     "text": [
      "n_trees = 140, max_leaves = 200, plain_time = 68.30190420150757, quant_time = 76.23863625526428\n"
     ]
    },
    {
     "name": "stderr",
     "output_type": "stream",
     "text": [
      "100%|██████████| 6/6 [01:43<00:00, 17.18s/it]\n"
     ]
    },
    {
     "name": "stdout",
     "output_type": "stream",
     "text": [
      "n_trees = 160, max_leaves = 10, plain_time = 31.266358852386475, quant_time = 39.73415732383728\n"
     ]
    },
    {
     "name": "stderr",
     "output_type": "stream",
     "text": [
      "100%|██████████| 6/6 [02:08<00:00, 21.42s/it]\n"
     ]
    },
    {
     "name": "stdout",
     "output_type": "stream",
     "text": [
      "n_trees = 160, max_leaves = 20, plain_time = 40.1337411403656, quant_time = 49.28756904602051\n"
     ]
    },
    {
     "name": "stderr",
     "output_type": "stream",
     "text": [
      "100%|██████████| 6/6 [02:34<00:00, 25.76s/it]\n"
     ]
    },
    {
     "name": "stdout",
     "output_type": "stream",
     "text": [
      "n_trees = 160, max_leaves = 40, plain_time = 49.10459303855896, quant_time = 59.46491813659668\n"
     ]
    },
    {
     "name": "stderr",
     "output_type": "stream",
     "text": [
      "100%|██████████| 6/6 [02:49<00:00, 28.17s/it]\n"
     ]
    },
    {
     "name": "stdout",
     "output_type": "stream",
     "text": [
      "n_trees = 160, max_leaves = 60, plain_time = 56.373374938964844, quant_time = 64.90625\n"
     ]
    },
    {
     "name": "stderr",
     "output_type": "stream",
     "text": [
      "100%|██████████| 6/6 [03:04<00:00, 30.77s/it]\n"
     ]
    },
    {
     "name": "stdout",
     "output_type": "stream",
     "text": [
      "n_trees = 160, max_leaves = 80, plain_time = 61.88138794898987, quant_time = 71.86687278747559\n"
     ]
    },
    {
     "name": "stderr",
     "output_type": "stream",
     "text": [
      " 83%|████████▎ | 5/6 [01:44<00:20, 20.88s/it]\n"
     ]
    },
    {
     "ename": "KeyboardInterrupt",
     "evalue": "",
     "output_type": "error",
     "traceback": [
      "\u001b[1;31m---------------------------------------------------------------------------\u001b[0m",
      "\u001b[1;31mKeyboardInterrupt\u001b[0m                         Traceback (most recent call last)",
      "Cell \u001b[1;32mIn[56], line 11\u001b[0m\n\u001b[0;32m      9\u001b[0m \u001b[38;5;28;01mfor\u001b[39;00m max_leaves \u001b[38;5;129;01min\u001b[39;00m max_leaves_list:\n\u001b[0;32m     10\u001b[0m     \u001b[38;5;28;01mif\u001b[39;00m \u001b[38;5;129;01mnot\u001b[39;00m \u001b[38;5;28many\u001b[39m(result[\u001b[38;5;124m'\u001b[39m\u001b[38;5;124mn_trees\u001b[39m\u001b[38;5;124m'\u001b[39m] \u001b[38;5;241m==\u001b[39m n_trees \u001b[38;5;129;01mand\u001b[39;00m result[\u001b[38;5;124m'\u001b[39m\u001b[38;5;124mmax_leaves\u001b[39m\u001b[38;5;124m'\u001b[39m] \u001b[38;5;241m==\u001b[39m max_leaves \u001b[38;5;28;01mfor\u001b[39;00m result \u001b[38;5;129;01min\u001b[39;00m results):\n\u001b[1;32m---> 11\u001b[0m         plain_time, quant_time \u001b[38;5;241m=\u001b[39m make_quantized_grad_test_fair(n_trees, max_leaves)\n\u001b[0;32m     13\u001b[0m         results\u001b[38;5;241m.\u001b[39mappend({\n\u001b[0;32m     14\u001b[0m             \u001b[38;5;124m'\u001b[39m\u001b[38;5;124mn_trees\u001b[39m\u001b[38;5;124m'\u001b[39m: n_trees,\n\u001b[0;32m     15\u001b[0m             \u001b[38;5;124m'\u001b[39m\u001b[38;5;124mmax_leaves\u001b[39m\u001b[38;5;124m'\u001b[39m: max_leaves,\n\u001b[0;32m     16\u001b[0m             \u001b[38;5;124m'\u001b[39m\u001b[38;5;124mplain_time\u001b[39m\u001b[38;5;124m'\u001b[39m: plain_time,\n\u001b[0;32m     17\u001b[0m             \u001b[38;5;124m'\u001b[39m\u001b[38;5;124mquant_time\u001b[39m\u001b[38;5;124m'\u001b[39m: quant_time\n\u001b[0;32m     18\u001b[0m         })\n\u001b[0;32m     20\u001b[0m         \u001b[38;5;28mprint\u001b[39m(\u001b[38;5;124mf\u001b[39m\u001b[38;5;124m\"\u001b[39m\u001b[38;5;124mn_trees = \u001b[39m\u001b[38;5;132;01m{\u001b[39;00mn_trees\u001b[38;5;132;01m}\u001b[39;00m\u001b[38;5;124m, max_leaves = \u001b[39m\u001b[38;5;132;01m{\u001b[39;00mmax_leaves\u001b[38;5;132;01m}\u001b[39;00m\u001b[38;5;124m, plain_time = \u001b[39m\u001b[38;5;132;01m{\u001b[39;00mplain_time\u001b[38;5;132;01m}\u001b[39;00m\u001b[38;5;124m, quant_time = \u001b[39m\u001b[38;5;132;01m{\u001b[39;00mquant_time\u001b[38;5;132;01m}\u001b[39;00m\u001b[38;5;124m\"\u001b[39m)\n",
      "File \u001b[1;32mc:\\Users\\Admin\\Desktop\\AIM 2сем\\ML2\\lgbm\\local_utils.py:311\u001b[0m, in \u001b[0;36mmake_quantized_grad_test_fair\u001b[1;34m(n_t, max_leaves)\u001b[0m\n\u001b[0;32m      0\u001b[0m <Error retrieving source code with stack_data see ipython/ipython#13598>\n",
      "File \u001b[1;32mc:\\Users\\Admin\\anaconda3\\Lib\\site-packages\\lightgbm\\engine.py:322\u001b[0m, in \u001b[0;36mtrain\u001b[1;34m(params, train_set, num_boost_round, valid_sets, valid_names, feval, init_model, keep_training_booster, callbacks)\u001b[0m\n\u001b[0;32m    310\u001b[0m \u001b[38;5;28;01mfor\u001b[39;00m cb \u001b[38;5;129;01min\u001b[39;00m callbacks_before_iter:\n\u001b[0;32m    311\u001b[0m     cb(\n\u001b[0;32m    312\u001b[0m         callback\u001b[38;5;241m.\u001b[39mCallbackEnv(\n\u001b[0;32m    313\u001b[0m             model\u001b[38;5;241m=\u001b[39mbooster,\n\u001b[1;32m   (...)\u001b[0m\n\u001b[0;32m    319\u001b[0m         )\n\u001b[0;32m    320\u001b[0m     )\n\u001b[1;32m--> 322\u001b[0m booster\u001b[38;5;241m.\u001b[39mupdate(fobj\u001b[38;5;241m=\u001b[39mfobj)\n\u001b[0;32m    324\u001b[0m evaluation_result_list: List[_LGBM_BoosterEvalMethodResultType] \u001b[38;5;241m=\u001b[39m []\n\u001b[0;32m    325\u001b[0m \u001b[38;5;66;03m# check evaluation result.\u001b[39;00m\n",
      "File \u001b[1;32mc:\\Users\\Admin\\anaconda3\\Lib\\site-packages\\lightgbm\\basic.py:4155\u001b[0m, in \u001b[0;36mBooster.update\u001b[1;34m(self, train_set, fobj)\u001b[0m\n\u001b[0;32m   4152\u001b[0m \u001b[38;5;28;01mif\u001b[39;00m \u001b[38;5;28mself\u001b[39m\u001b[38;5;241m.\u001b[39m__set_objective_to_none:\n\u001b[0;32m   4153\u001b[0m     \u001b[38;5;28;01mraise\u001b[39;00m LightGBMError(\u001b[38;5;124m\"\u001b[39m\u001b[38;5;124mCannot update due to null objective function.\u001b[39m\u001b[38;5;124m\"\u001b[39m)\n\u001b[0;32m   4154\u001b[0m _safe_call(\n\u001b[1;32m-> 4155\u001b[0m     _LIB\u001b[38;5;241m.\u001b[39mLGBM_BoosterUpdateOneIter(\n\u001b[0;32m   4156\u001b[0m         \u001b[38;5;28mself\u001b[39m\u001b[38;5;241m.\u001b[39m_handle,\n\u001b[0;32m   4157\u001b[0m         ctypes\u001b[38;5;241m.\u001b[39mbyref(is_finished),\n\u001b[0;32m   4158\u001b[0m     )\n\u001b[0;32m   4159\u001b[0m )\n\u001b[0;32m   4160\u001b[0m \u001b[38;5;28mself\u001b[39m\u001b[38;5;241m.\u001b[39m__is_predicted_cur_iter \u001b[38;5;241m=\u001b[39m [\u001b[38;5;28;01mFalse\u001b[39;00m \u001b[38;5;28;01mfor\u001b[39;00m _ \u001b[38;5;129;01min\u001b[39;00m \u001b[38;5;28mrange\u001b[39m(\u001b[38;5;28mself\u001b[39m\u001b[38;5;241m.\u001b[39m__num_dataset)]\n\u001b[0;32m   4161\u001b[0m \u001b[38;5;28;01mreturn\u001b[39;00m is_finished\u001b[38;5;241m.\u001b[39mvalue \u001b[38;5;241m==\u001b[39m \u001b[38;5;241m1\u001b[39m\n",
      "\u001b[1;31mKeyboardInterrupt\u001b[0m: "
     ]
    }
   ],
   "source": [
    "from local_utils import make_quantized_grad_test_fair\n",
    "%load_ext autoreload\n",
    "%autoreload 2\n",
    "\n",
    "n_trees_list = [3, 6, 10, 25, 50, 75, 100, 120, 140, 160, 200]\n",
    "max_leaves_list = [10, 20, 40, 60, 80, 100, 128, 175, 200]\n",
    "\n",
    "for n_trees in n_trees_list:\n",
    "    for max_leaves in max_leaves_list:\n",
    "        if not any(result['n_trees'] == n_trees and result['max_leaves'] == max_leaves for result in results):\n",
    "            plain_time, quant_time = make_quantized_grad_test_fair(n_trees, max_leaves)\n",
    "            \n",
    "            results.append({\n",
    "                'n_trees': n_trees,\n",
    "                'max_leaves': max_leaves,\n",
    "                'plain_time': plain_time,\n",
    "                'quant_time': quant_time\n",
    "            })\n",
    "            \n",
    "            print(f\"n_trees = {n_trees}, max_leaves = {max_leaves}, plain_time = {plain_time}, quant_time = {quant_time}\")\n",
    "        else:\n",
    "            print(f\"n_trees = {n_trees}, max_leaves = {max_leaves} уже есть в results, пропускаем.\")"
   ]
  },
  {
   "cell_type": "code",
   "execution_count": null,
   "id": "e3817ba7",
   "metadata": {},
   "outputs": [
    {
     "data": {
      "image/png": "[encoded data removed]",
      "text/plain": [
       "<Figure size 1000x800 with 2 Axes>"
      ]
     },
     "metadata": {},
     "output_type": "display_data"
    }
   ],
   "source": [
    "import seaborn as sns\n",
    "import pandas as pd\n",
    "import matplotlib.pyplot as plt\n",
    "\n",
    "df = pd.DataFrame(results)\n",
    "\n",
    "df['time_diff'] = df['plain_time'] - df['quant_time']\n",
    "\n",
    "pivot_table = df.pivot(index='max_leaves', columns='n_trees', values='time_diff')\n",
    "\n",
    "plt.figure(figsize=(10, 8))\n",
    "sns.heatmap(pivot_table, annot=True, fmt=\".2f\", cmap=\"coolwarm\", center=0, linewidths=0.5)\n",
    "plt.title('Разница во времени (plain - quantized_grad)', fontsize=16)\n",
    "plt.xlabel('Количество деревьев (n_trees)', fontsize=14)\n",
    "plt.ylabel('Максимальное количество листьев (max_leaves)', fontsize=14)\n",
    "plt.show()"
   ]
  },
  {
   "cell_type": "markdown",
   "id": "53b03a3b-5230-4f94-afab-a5b7ab2139c8",
   "metadata": {},
   "source": [
    "Не особо)"
   ]
  },
  {
   "cell_type": "code",
   "execution_count": null,
   "id": "71b00c8b-8b0b-4f8d-bd3d-14838982c698",
   "metadata": {},
   "outputs": [],
   "source": [
    "1"
   ]
  },
  {
   "cell_type": "markdown",
   "id": "f3239f51-a3c8-4b4d-9e6e-32862b5b5c73",
   "metadata": {},
   "source": [
    "### 5. DART - насколько это быстро?"
   ]
  },
  {
   "cell_type": "code",
   "execution_count": null,
   "id": "7a954496-765a-4633-bd59-1a947afd355c",
   "metadata": {},
   "outputs": [
    {
     "name": "stderr",
     "output_type": "stream",
     "text": [
      "100%|████████████████████████████████████████████████████████████████████████████████████| 6/6 [01:13<00:00, 12.31s/it]\n"
     ]
    },
    {
     "data": {
      "image/png": "[encoded data removed]",
      "text/plain": [
       "<Figure size 800x500 with 1 Axes>"
      ]
     },
     "metadata": {},
     "output_type": "display_data"
    }
   ],
   "source": [
    "from local_utils import make_dart_test\n",
    "\n",
    "make_dart_test()"
   ]
  },
  {
   "cell_type": "markdown",
   "id": "a6cb93f3-5067-458b-a3fc-c2eda4e1219d",
   "metadata": {},
   "source": [
    "Не особо)"
   ]
  },
  {
   "cell_type": "code",
   "execution_count": null,
   "id": "eddea4a9-724d-4433-9edc-5439da8b979a",
   "metadata": {},
   "outputs": [],
   "source": []
  },
  {
   "cell_type": "markdown",
   "id": "69282be5-962c-49ba-85fc-9b02b6dc7755",
   "metadata": {},
   "source": [
    "### 6. eta - шокирующая правда!"
   ]
  },
  {
   "cell_type": "code",
   "execution_count": null,
   "id": "d4a474e3-ac9a-4597-a80f-3c267c91a197",
   "metadata": {},
   "outputs": [
    {
     "data": {
      "application/vnd.plotly.v1+json": {
       "config": {
        "plotlyServerURL": "https://plot.ly"
       },
       "data": [
        {
         "marker": {
          "color": [
           0,
           1,
           2,
           3,
           4,
           5,
           6,
           7,
           8,
           9,
           10,
           11,
           12,
           13,
           14,
           15,
           16,
           17,
           18,
           19,
           20,
           21,
           22,
           23,
           24,
           25,
           26,
           27,
           28,
           29,
           30,
           31,
           32,
           33,
           34,
           35,
           36,
           37,
           38,
           39,
           40,
           41,
           42,
           43,
           44,
           45,
           46,
           47,
           48,
           49,
           50,
           51,
           52,
           53,
           54,
           55,
           56,
           57,
           58,
           59,
           60,
           61,
           62,
           63,
           64,
           65,
           66,
           67,
           68,
           69,
           70,
           71,
           72,
           73,
           74,
           75,
           76,
           77,
           78,
           79,
           80,
           81,
           82,
           83,
           84,
           85,
           86,
           87,
           88,
           89,
           90,
           91,
           92,
           93,
           94,
           95,
           96,
           97,
           98,
           99,
           100,
           101,
           102,
           103,
           104,
           105,
           106,
           107,
           108,
           109,
           110,
           111,
           112,
           113,
           114,
           115,
           116,
           117,
           118,
           119,
           120,
           121,
           122,
           123,
           124,
           125,
           126,
           127,
           128,
           129,
           130,
           131,
           132,
           133,
           134,
           135,
           136,
           137,
           138,
           139,
           140,
           141,
           142,
           143,
           144,
           145,
           146,
           147,
           148,
           149,
           150,
           151,
           152,
           153,
           154,
           155,
           156,
           157,
           158,
           159,
           160,
           161,
           162,
           163,
           164,
           165,
           166,
           167,
           168,
           169,
           170,
           171,
           172,
           173,
           174,
           175,
           176,
           177,
           178,
           179,
           180,
           181,
           182,
           183,
           184,
           185,
           186,
           187,
           188,
           189,
           190,
           191,
           192,
           193,
           194,
           195,
           196,
           197,
           198,
           199,
           200,
           201,
           202,
           203,
           204,
           205,
           206,
           207,
           208,
           209,
           210,
           211,
           212,
           213,
           214,
           215,
           216,
           217,
           218,
           219,
           220,
           221,
           222,
           223,
           224,
           225,
           226,
           227,
           228,
           229,
           230,
           231,
           232,
           233,
           234,
           235,
           236,
           237,
           238,
           239,
           240,
           241,
           242,
           243,
           244,
           245,
           246,
           247,
           248,
           249,
           250,
           251,
           252,
           253,
           254,
           255,
           256,
           257,
           258,
           259,
           260,
           261,
           262,
           263,
           264,
           265,
           266,
           267,
           268,
           269,
           270,
           271,
           272,
           273,
           274,
           275,
           276,
           277,
           278,
           279,
           280,
           281,
           282,
           283,
           284,
           285,
           286,
           287,
           288,
           289,
           290,
           291,
           292,
           293,
           294,
           295,
           296,
           297,
           298,
           299
          ],
          "colorbar": {
           "title": {
            "text": "Trial"
           },
           "x": 1,
           "xpad": 40,
           "y": 0.5
          },
          "colorscale": [
           [
            0,
            "rgb(247,251,255)"
           ],
           [
            0.125,
            "rgb(222,235,247)"
           ],
           [
            0.25,
            "rgb(198,219,239)"
           ],
           [
            0.375,
            "rgb(158,202,225)"
           ],
           [
            0.5,
            "rgb(107,174,214)"
           ],
           [
            0.625,
            "rgb(66,146,198)"
           ],
           [
            0.75,
            "rgb(33,113,181)"
           ],
           [
            0.875,
            "rgb(8,81,156)"
           ],
           [
            1,
            "rgb(8,48,107)"
           ]
          ],
          "line": {
           "color": "Grey",
           "width": 0.5
          }
         },
         "mode": "markers",
         "name": "Feasible Trial",
         "showlegend": false,
         "type": "scatter",
         "x": [
          1.3504835192418694e-7,
          0.000013443645566027788,
          0.001946784633936366,
          0.19377060521337852,
          0.000014813098827050656,
          0.0018998518908220786,
          0.0013605914530803826,
          0.00000485658665183786,
          7.10931076518825e-7,
          0.00015602565425344253,
          1.990424759906483e-7,
          0.00003190201990009892,
          0.00018630511185970588,
          0.000595363139616584,
          0.6359495549638351,
          8.888806887605096e-7,
          0.0017497491942365074,
          0.014151012036557992,
          0.0009303402861481193,
          0.9955282390102856,
          0.00005706477095974464,
          4.6046698258174964e-7,
          0.19687049962291117,
          0.00012535647333611214,
          0.000006171814121936445,
          0.0000014312418051438676,
          0.3349426482962604,
          0.00002653878084571177,
          0.16131776581226615,
          1.088771895736122,
          0.025192169114753964,
          0.00039865326096691383,
          0.000005428633032254628,
          0.00004702066337817759,
          4.126677342970103,
          0.0000027562949763288522,
          0.00005277486531085676,
          0.011517660187710128,
          0.0000010503691356932487,
          2.6367395028810052,
          0.04891815472468618,
          3.2524246977548277,
          5.804088803371357,
          3.490416327681658,
          0.000009283627160111901,
          0.0000026817251515756804,
          0.00002045377351513648,
          0.0003165424854757177,
          3.760492368215136e-7,
          0.00001680899161239132,
          0.0000019627426522052107,
          4.2679953399436325e-7,
          2.5857704292593375,
          0.43382225577213707,
          8.340060412717097,
          0.00006798937921532344,
          2.4206146937494024,
          4.17700946398972,
          0.0000021229530677234906,
          0.000023003114868262905,
          0.000011764129202672386,
          9.289485239602094,
          0.010760166197601178,
          0.009469497900660973,
          2.931297958156208,
          4.3996493574494656e-7,
          0.0009881851403397157,
          0.044229534587078685,
          0.00015875969178136374,
          0.0000011581633858196903,
          0.4073221364136635,
          0.00012518274940959297,
          0.000002197625029029686,
          0.15208864020605856,
          0.000133401778045805,
          3.572009273767626e-7,
          0.0017336867895647679,
          0.0005435342126837582,
          0.000007779197830759493,
          0.00000866177560551458,
          0.5051212217072386,
          0.000006417161054965748,
          0.005817517857377608,
          0.0001850611353549906,
          0.31988009286638325,
          0.004470531723523782,
          0.029795010026671814,
          0.000002769069686275685,
          0.003295646009974477,
          8.925943522998868,
          6.553288756920235e-7,
          0.026337364422447846,
          0.0005778927958098236,
          0.00004493185423835886,
          0.6994843458940343,
          0.122821946915399,
          0.00017179881859167456,
          0.00006663641982754308,
          3.3216619813017862,
          0.000002554575864708907,
          0.0006933496319502239,
          7.51795004683563e-7,
          0.00005160409759450646,
          0.000013725408939948763,
          0.000020333499522495335,
          4.920984799119607e-7,
          6.252180515380466e-7,
          0.00018881966954193726,
          8.508091852579672e-7,
          0.00004385919005933503,
          1.7539545616494474,
          0.39694156622161597,
          0.0119404544852701,
          1.5181882384896266,
          0.00004995849289475804,
          6.498103958125017e-7,
          0.7393402235622848,
          0.00039845595697857427,
          0.7428539152753248,
          0.00001393204696783887,
          0.000028240733745237994,
          4.227692943037917e-7,
          0.0000012326280506509033,
          0.0000732063396141995,
          0.9824873628793157,
          0.0000024758846987176314,
          0.015567774547566991,
          0.00006932683367000015,
          0.00011892271434762453,
          4.4146098055778294e-7,
          0.029638441146598544,
          3.086258430972739e-7,
          0.000043218038828861776,
          0.0034518918352572097,
          0.0008883343591107087,
          0.010217241380267859,
          0.0000040403658218371336,
          0.00004210592855403515,
          0.000005686139088858966,
          0.000018196513029289678,
          5.493273747414901e-7,
          0.0008788706885407853,
          0.000022614436033371743,
          0.001043656074053297,
          0.06837085927492526,
          2.5287292063227263e-7,
          0.03603806259811784,
          2.2874042507302925e-7,
          0.000004860262889012472,
          6.459521494889182,
          0.3482758620763051,
          0.06337819699585409,
          0.000037832016379194956,
          1.479797691427761,
          0.0126339393203947,
          4.767604821896517,
          0.000004189937955012736,
          0.00005137539194874712,
          1.2564934237729212e-7,
          0.00002518589394204232,
          0.045901895970819305,
          0.09174553396602193,
          0.00044705988463137486,
          2.1795705518606665,
          8.966468353975499,
          0.0000058352419228143,
          0.00009424303156992091,
          0.000002680789115888219,
          0.00007948044861900504,
          0.49682720272073516,
          0.0020986524595137863,
          5.690809809955293e-7,
          3.495051121681416e-7,
          0.005522439706404244,
          1.1497093549759887e-7,
          0.00010621902299383633,
          0.000005758121038716901,
          0.0000010256742834118147,
          0.03810576819481936,
          6.509139133262576,
          0.34565289905544966,
          0.0025176408042719336,
          5.16721062380371e-7,
          0.08771955485878355,
          0.15412717155718336,
          1.3948541257663716,
          0.00007869140624868004,
          1.2657156297315102e-7,
          0.00001349187470718169,
          0.043865607424268614,
          0.13175797893682525,
          3.2553039305023596e-7,
          0.9869027991367377,
          0.0000885735881224032,
          0.14972380373072786,
          6.382086009070978e-7,
          0.017258125776155535,
          7.553980696257769e-7,
          1.0128043304377694e-7,
          0.0005537446515424846,
          0.00008500472955855466,
          0.010039192229080377,
          0.661493770230003,
          1.0539283412258644e-7,
          0.00001879246030862417,
          2.0884470195827036e-7,
          0.0006697945331205767,
          0.00001839931398713043,
          0.0033948763211163486,
          0.0013991553961676488,
          1.5188300865771104e-7,
          0.00020930942405173115,
          0.6357017025331765,
          0.0002481037816435986,
          0.11133399689645501,
          0.06189927383392879,
          2.0335735217533366,
          0.000007797373325325562,
          0.005533232886037691,
          0.0000030374013851924905,
          0.000008717852724293508,
          0.00000740928458014791,
          0.1469302229659871,
          0.002677530231305982,
          1.838475103558875,
          0.00000469812965575656,
          3.050730553220981,
          0.011594123790413781,
          0.000049237426968639775,
          0.9997335242786238,
          0.1592472319225829,
          1.0833223151480504e-7,
          2.1294722653986486,
          6.237297995864616,
          0.000239693359501307,
          0.00001805057391461161,
          2.789292766446871e-7,
          0.000014071596417102974,
          0.0000017901191530513507,
          0.051545567528745534,
          0.35830656438971187,
          0.000002241672362992466,
          0.000006162636026244629,
          0.03970553215628104,
          0.00007527255602420158,
          0.00027448871976077754,
          0.0010545769308203134,
          0.00009250648440416679,
          0.000007672975525538374,
          0.000004534296091906795,
          0.000004858085974824815,
          0.00014396583194337535,
          5.598310888761866e-7,
          0.000001346852977025064,
          0.0000012761099714678896,
          0.000009714954383128484,
          9.298179363055302,
          0.33969532145960535,
          0.000001410335510203091,
          0.774769860785591,
          0.16758726457960563,
          0.00016408300787105427,
          0.00250317080728326,
          0.005037530102912435,
          0.0000012494166569507239,
          0.000049538986520739,
          0.015076525858109055,
          1.0527284160524004,
          0.000005154912279849147,
          1.540600825983843e-7,
          0.004281977458664455,
          0.000020227807314783354,
          0.00031838758711290284,
          0.011397087407186595,
          0.0032747234573059893,
          0.0000535315798587701,
          0.000006029115728856598,
          2.6024030290422074e-7,
          0.07063432075278221,
          1.1691889225946204,
          0.0002969713649069352,
          0.0000040522903183101165,
          0.000006819041202321925,
          0.1349944745142207,
          0.000001931245207102658,
          0.000031097850715428844,
          3.617000686393985,
          3.5234784611038155e-7,
          0.0003926351932726375,
          0.0011222305330092263,
          4.214195503700333e-7,
          0.00188152573498706,
          1.0984953153367955e-7,
          1.246792350951249,
          0.023990958901986666,
          0.0031760630807008495,
          0.014117775079156304,
          0.000001791875584164542,
          0.01118060188215846,
          0.0904072376753292
         ],
         "y": [
          2.6749985218048096,
          2.604999542236328,
          2.603999137878418,
          2.3980000019073486,
          2.6909964084625244,
          2.6219980716705322,
          2.6209983825683594,
          2.772998332977295,
          2.727318048477173,
          2.5943193435668945,
          2.5963211059570312,
          2.6923201084136963,
          2.553002119064331,
          2.5260000228881836,
          1.9920015335083008,
          2.4869987964630127,
          2.463996410369873,
          2.458998203277588,
          2.501997947692871,
          2.0029985904693604,
          2.5229997634887695,
          2.605998992919922,
          2.2229998111724854,
          2.60499906539917,
          2.4728400707244873,
          2.496917247772217,
          2.0682966709136963,
          2.5110583305358887,
          2.11411714553833,
          2.0366320610046387,
          2.4303295612335205,
          2.6145737171173096,
          2.8820955753326416,
          2.8030648231506348,
          0.6746363639831543,
          2.686253786087036,
          2.6284103393554688,
          3.111846685409546,
          3.1577515602111816,
          0.8006148338317871,
          3.3979122638702393,
          0.6887381076812744,
          0.7056586742401123,
          0.7895729541778564,
          2.8852522373199463,
          2.762883424758911,
          2.634749412536621,
          2.6907427310943604,
          2.635039806365967,
          2.698552370071411,
          2.702470302581787,
          2.9883463382720947,
          0.7610197067260742,
          2.7455761432647705,
          0.6644771099090576,
          2.9122636318206787,
          1.2349274158477783,
          0.6715211868286133,
          2.7686986923217773,
          2.7650859355926514,
          2.823992967605591,
          0.5570087432861328,
          2.8451921939849854,
          2.893961191177368,
          0.8140594959259033,
          2.777430295944214,
          2.6629505157470703,
          2.6340246200561523,
          2.5862622261047363,
          2.549124002456665,
          2.0566675662994385,
          2.5390000343322754,
          2.653999090194702,
          2.2959980964660645,
          2.7180001735687256,
          2.6409966945648193,
          2.6959986686706543,
          2.776998281478882,
          2.7239973545074463,
          2.571777105331421,
          2.0978269577026367,
          2.575596809387207,
          2.5300889015197754,
          2.4447808265686035,
          2.0367319583892822,
          2.526151657104492,
          2.8170344829559326,
          2.938028335571289,
          2.938028335571289,
          0.6193842887878418,
          2.826254367828369,
          2.84492826461792,
          2.6367175579071045,
          2.631716728210449,
          2.0333995819091797,
          2.272195339202881,
          2.7066149711608887,
          2.7066173553466797,
          0.7358555793762207,
          2.861304998397827,
          2.7276229858398438,
          2.6574995517730713,
          2.6505014896392822,
          2.728001117706299,
          2.6489970684051514,
          2.642998695373535,
          2.6619980335235596,
          2.570646286010742,
          2.5646464824676514,
          2.492642879486084,
          2.0436456203460693,
          1.9820003509521484,
          2.4039995670318604,
          1.9660000801086426,
          2.3779985904693604,
          2.3649978637695312,
          1.9039990901947021,
          2.3272957801818848,
          1.847449779510498,
          2.6334478855133057,
          2.6114461421966553,
          2.661149263381958,
          2.6359972953796387,
          2.5979979038238525,
          2.0970005989074707,
          2.4760007858276367,
          2.5560007095336914,
          2.7120018005371094,
          2.711000919342041,
          2.6839962005615234,
          2.688997268676758,
          2.7040011882781982,
          2.699000120162964,
          2.604997158050537,
          2.617995262145996,
          2.7021422386169434,
          2.685966730117798,
          2.636655807495117,
          2.6422410011291504,
          2.6983351707458496,
          2.7031004428863525,
          2.595625162124634,
          2.6454977989196777,
          2.734189748764038,
          2.600569725036621,
          2.6112136840820312,
          2.863790273666382,
          2.8033792972564697,
          2.7511534690856934,
          0.6750128269195557,
          2.0503039360046387,
          2.4220449924468994,
          2.6554460525512695,
          2.2137017250061035,
          2.632537603378296,
          0.6680617332458496,
          2.5426747798919678,
          2.7099995613098145,
          2.626997470855713,
          2.6629951000213623,
          2.69999623298645,
          2.80863618850708,
          2.974635362625122,
          1.6706335544586182,
          0.6886365413665771,
          2.5840039253234863,
          2.5549991130828857,
          2.6590020656585693,
          2.6469979286193848,
          2.044095993041992,
          2.5074398517608643,
          2.552576780319214,
          2.586918354034424,
          2.648275852203369,
          2.6463518142700195,
          2.6800119876861572,
          2.6824426651000977,
          2.815807342529297,
          2.7737603187561035,
          0.7087604999542236,
          2.2431931495666504,
          2.5517308712005615,
          2.4601669311523438,
          2.2849981784820557,
          2.2139956951141357,
          1.9529950618743896,
          2.445000410079956,
          2.5119996070861816,
          2.7009987831115723,
          2.708366870880127,
          2.2158968448638916,
          2.3894002437591553,
          1.986560344696045,
          2.4478061199188232,
          2.224605083465576,
          2.5569064617156982,
          2.6296448707580566,
          2.685704231262207,
          2.6264355182647705,
          2.6043014526367188,
          2.6104142665863037,
          2.5154573917388916,
          1.9575169086456299,
          2.531999111175537,
          2.6160008907318115,
          2.6529977321624756,
          2.6929986476898193,
          2.64394211769104,
          2.690946102142334,
          2.625946044921875,
          2.6279406547546387,
          2.4560022354125977,
          2.037994146347046,
          2.5579981803894043,
          2.3829996585845947,
          2.602997303009033,
          1.2360000610351562,
          2.7062435150146484,
          2.6560781002044678,
          2.6454720497131348,
          2.665560722351074,
          2.547466993331909,
          2.326538562774658,
          2.5681631565093994,
          2.253767251968384,
          2.6815555095672607,
          0.7514276504516602,
          2.6817071437835693,
          2.4941422939300537,
          2.007784605026245,
          2.4899981021881104,
          2.8060030937194824,
          2.222001791000366,
          0.632000207901001,
          2.5789990425109863,
          2.7059950828552246,
          2.6539976596832275,
          2.6899948120117188,
          2.605975389480591,
          2.576913356781006,
          2.077521562576294,
          2.561910629272461,
          2.5777738094329834,
          2.6959409713745117,
          2.742790460586548,
          2.7330212593078613,
          2.673198938369751,
          2.61651611328125,
          2.702279567718506,
          2.7000479698181152,
          2.6240267753601074,
          2.627998113632202,
          2.6939969062805176,
          2.845998525619507,
          2.8056161403656006,
          2.6381592750549316,
          0.538996696472168,
          2.04782772064209,
          2.3542160987854004,
          1.8041059970855713,
          2.1549489498138428,
          2.5654683113098145,
          2.6210856437683105,
          2.499575614929199,
          2.5511953830718994,
          2.508000135421753,
          2.5600006580352783,
          1.976999044418335,
          2.570997953414917,
          2.625993013381958,
          2.693997859954834,
          2.7249996662139893,
          2.615199327468872,
          2.634174346923828,
          2.8246119022369385,
          2.7865495681762695,
          2.6797502040863037,
          2.458873748779297,
          2.4211959838867188,
          2.009132146835327,
          2.4908175468444824,
          2.528718948364258,
          2.645786762237549,
          2.342090129852295,
          2.755971908569336,
          2.8494462966918945,
          0.773188591003418,
          2.842420816421509,
          2.7071874141693115,
          2.620889902114868,
          2.6002426147460938,
          2.6081788539886475,
          2.5617458820343018,
          2.0374104976654053,
          2.5858612060546875,
          2.623122453689575,
          2.68500018119812,
          2.525998115539551,
          1.790994644165039,
          1.4419951438903809
         ]
        }
       ],
       "layout": {
        "autosize": true,
        "template": {
         "data": {
          "bar": [
           {
            "error_x": {
             "color": "#2a3f5f"
            },
            "error_y": {
             "color": "#2a3f5f"
            },
            "marker": {
             "line": {
              "color": "#E5ECF6",
              "width": 0.5
             },
             "pattern": {
              "fillmode": "overlay",
              "size": 10,
              "solidity": 0.2
             }
            },
            "type": "bar"
           }
          ],
          "barpolar": [
           {
            "marker": {
             "line": {
              "color": "#E5ECF6",
              "width": 0.5
             },
             "pattern": {
              "fillmode": "overlay",
              "size": 10,
              "solidity": 0.2
             }
            },
            "type": "barpolar"
           }
          ],
          "carpet": [
           {
            "aaxis": {
             "endlinecolor": "#2a3f5f",
             "gridcolor": "white",
             "linecolor": "white",
             "minorgridcolor": "white",
             "startlinecolor": "#2a3f5f"
            },
            "baxis": {
             "endlinecolor": "#2a3f5f",
             "gridcolor": "white",
             "linecolor": "white",
             "minorgridcolor": "white",
             "startlinecolor": "#2a3f5f"
            },
            "type": "carpet"
           }
          ],
          "choropleth": [
           {
            "colorbar": {
             "outlinewidth": 0,
             "ticks": ""
            },
            "type": "choropleth"
           }
          ],
          "contour": [
           {
            "colorbar": {
             "outlinewidth": 0,
             "ticks": ""
            },
            "colorscale": [
             [
              0,
              "#0d0887"
             ],
             [
              0.1111111111111111,
              "#46039f"
             ],
             [
              0.2222222222222222,
              "#7201a8"
             ],
             [
              0.3333333333333333,
              "#9c179e"
             ],
             [
              0.4444444444444444,
              "#bd3786"
             ],
             [
              0.5555555555555556,
              "#d8576b"
             ],
             [
              0.6666666666666666,
              "#ed7953"
             ],
             [
              0.7777777777777778,
              "#fb9f3a"
             ],
             [
              0.8888888888888888,
              "#fdca26"
             ],
             [
              1,
              "#f0f921"
             ]
            ],
            "type": "contour"
           }
          ],
          "contourcarpet": [
           {
            "colorbar": {
             "outlinewidth": 0,
             "ticks": ""
            },
            "type": "contourcarpet"
           }
          ],
          "heatmap": [
           {
            "colorbar": {
             "outlinewidth": 0,
             "ticks": ""
            },
            "colorscale": [
             [
              0,
              "#0d0887"
             ],
             [
              0.1111111111111111,
              "#46039f"
             ],
             [
              0.2222222222222222,
              "#7201a8"
             ],
             [
              0.3333333333333333,
              "#9c179e"
             ],
             [
              0.4444444444444444,
              "#bd3786"
             ],
             [
              0.5555555555555556,
              "#d8576b"
             ],
             [
              0.6666666666666666,
              "#ed7953"
             ],
             [
              0.7777777777777778,
              "#fb9f3a"
             ],
             [
              0.8888888888888888,
              "#fdca26"
             ],
             [
              1,
              "#f0f921"
             ]
            ],
            "type": "heatmap"
           }
          ],
          "heatmapgl": [
           {
            "colorbar": {
             "outlinewidth": 0,
             "ticks": ""
            },
            "colorscale": [
             [
              0,
              "#0d0887"
             ],
             [
              0.1111111111111111,
              "#46039f"
             ],
             [
              0.2222222222222222,
              "#7201a8"
             ],
             [
              0.3333333333333333,
              "#9c179e"
             ],
             [
              0.4444444444444444,
              "#bd3786"
             ],
             [
              0.5555555555555556,
              "#d8576b"
             ],
             [
              0.6666666666666666,
              "#ed7953"
             ],
             [
              0.7777777777777778,
              "#fb9f3a"
             ],
             [
              0.8888888888888888,
              "#fdca26"
             ],
             [
              1,
              "#f0f921"
             ]
            ],
            "type": "heatmapgl"
           }
          ],
          "histogram": [
           {
            "marker": {
             "pattern": {
              "fillmode": "overlay",
              "size": 10,
              "solidity": 0.2
             }
            },
            "type": "histogram"
           }
          ],
          "histogram2d": [
           {
            "colorbar": {
             "outlinewidth": 0,
             "ticks": ""
            },
            "colorscale": [
             [
              0,
              "#0d0887"
             ],
             [
              0.1111111111111111,
              "#46039f"
             ],
             [
              0.2222222222222222,
              "#7201a8"
             ],
             [
              0.3333333333333333,
              "#9c179e"
             ],
             [
              0.4444444444444444,
              "#bd3786"
             ],
             [
              0.5555555555555556,
              "#d8576b"
             ],
             [
              0.6666666666666666,
              "#ed7953"
             ],
             [
              0.7777777777777778,
              "#fb9f3a"
             ],
             [
              0.8888888888888888,
              "#fdca26"
             ],
             [
              1,
              "#f0f921"
             ]
            ],
            "type": "histogram2d"
           }
          ],
          "histogram2dcontour": [
           {
            "colorbar": {
             "outlinewidth": 0,
             "ticks": ""
            },
            "colorscale": [
             [
              0,
              "#0d0887"
             ],
             [
              0.1111111111111111,
              "#46039f"
             ],
             [
              0.2222222222222222,
              "#7201a8"
             ],
             [
              0.3333333333333333,
              "#9c179e"
             ],
             [
              0.4444444444444444,
              "#bd3786"
             ],
             [
              0.5555555555555556,
              "#d8576b"
             ],
             [
              0.6666666666666666,
              "#ed7953"
             ],
             [
              0.7777777777777778,
              "#fb9f3a"
             ],
             [
              0.8888888888888888,
              "#fdca26"
             ],
             [
              1,
              "#f0f921"
             ]
            ],
            "type": "histogram2dcontour"
           }
          ],
          "mesh3d": [
           {
            "colorbar": {
             "outlinewidth": 0,
             "ticks": ""
            },
            "type": "mesh3d"
           }
          ],
          "parcoords": [
           {
            "line": {
             "colorbar": {
              "outlinewidth": 0,
              "ticks": ""
             }
            },
            "type": "parcoords"
           }
          ],
          "pie": [
           {
            "automargin": true,
            "type": "pie"
           }
          ],
          "scatter": [
           {
            "fillpattern": {
             "fillmode": "overlay",
             "size": 10,
             "solidity": 0.2
            },
            "type": "scatter"
           }
          ],
          "scatter3d": [
           {
            "line": {
             "colorbar": {
              "outlinewidth": 0,
              "ticks": ""
             }
            },
            "marker": {
             "colorbar": {
              "outlinewidth": 0,
              "ticks": ""
             }
            },
            "type": "scatter3d"
           }
          ],
          "scattercarpet": [
           {
            "marker": {
             "colorbar": {
              "outlinewidth": 0,
              "ticks": ""
             }
            },
            "type": "scattercarpet"
           }
          ],
          "scattergeo": [
           {
            "marker": {
             "colorbar": {
              "outlinewidth": 0,
              "ticks": ""
             }
            },
            "type": "scattergeo"
           }
          ],
          "scattergl": [
           {
            "marker": {
             "colorbar": {
              "outlinewidth": 0,
              "ticks": ""
             }
            },
            "type": "scattergl"
           }
          ],
          "scattermapbox": [
           {
            "marker": {
             "colorbar": {
              "outlinewidth": 0,
              "ticks": ""
             }
            },
            "type": "scattermapbox"
           }
          ],
          "scatterpolar": [
           {
            "marker": {
             "colorbar": {
              "outlinewidth": 0,
              "ticks": ""
             }
            },
            "type": "scatterpolar"
           }
          ],
          "scatterpolargl": [
           {
            "marker": {
             "colorbar": {
              "outlinewidth": 0,
              "ticks": ""
             }
            },
            "type": "scatterpolargl"
           }
          ],
          "scatterternary": [
           {
            "marker": {
             "colorbar": {
              "outlinewidth": 0,
              "ticks": ""
             }
            },
            "type": "scatterternary"
           }
          ],
          "surface": [
           {
            "colorbar": {
             "outlinewidth": 0,
             "ticks": ""
            },
            "colorscale": [
             [
              0,
              "#0d0887"
             ],
             [
              0.1111111111111111,
              "#46039f"
             ],
             [
              0.2222222222222222,
              "#7201a8"
             ],
             [
              0.3333333333333333,
              "#9c179e"
             ],
             [
              0.4444444444444444,
              "#bd3786"
             ],
             [
              0.5555555555555556,
              "#d8576b"
             ],
             [
              0.6666666666666666,
              "#ed7953"
             ],
             [
              0.7777777777777778,
              "#fb9f3a"
             ],
             [
              0.8888888888888888,
              "#fdca26"
             ],
             [
              1,
              "#f0f921"
             ]
            ],
            "type": "surface"
           }
          ],
          "table": [
           {
            "cells": {
             "fill": {
              "color": "#EBF0F8"
             },
             "line": {
              "color": "white"
             }
            },
            "header": {
             "fill": {
              "color": "#C8D4E3"
             },
             "line": {
              "color": "white"
             }
            },
            "type": "table"
           }
          ]
         },
         "layout": {
          "annotationdefaults": {
           "arrowcolor": "#2a3f5f",
           "arrowhead": 0,
           "arrowwidth": 1
          },
          "autotypenumbers": "strict",
          "coloraxis": {
           "colorbar": {
            "outlinewidth": 0,
            "ticks": ""
           }
          },
          "colorscale": {
           "diverging": [
            [
             0,
             "#8e0152"
            ],
            [
             0.1,
             "#c51b7d"
            ],
            [
             0.2,
             "#de77ae"
            ],
            [
             0.3,
             "#f1b6da"
            ],
            [
             0.4,
             "#fde0ef"
            ],
            [
             0.5,
             "#f7f7f7"
            ],
            [
             0.6,
             "#e6f5d0"
            ],
            [
             0.7,
             "#b8e186"
            ],
            [
             0.8,
             "#7fbc41"
            ],
            [
             0.9,
             "#4d9221"
            ],
            [
             1,
             "#276419"
            ]
           ],
           "sequential": [
            [
             0,
             "#0d0887"
            ],
            [
             0.1111111111111111,
             "#46039f"
            ],
            [
             0.2222222222222222,
             "#7201a8"
            ],
            [
             0.3333333333333333,
             "#9c179e"
            ],
            [
             0.4444444444444444,
             "#bd3786"
            ],
            [
             0.5555555555555556,
             "#d8576b"
            ],
            [
             0.6666666666666666,
             "#ed7953"
            ],
            [
             0.7777777777777778,
             "#fb9f3a"
            ],
            [
             0.8888888888888888,
             "#fdca26"
            ],
            [
             1,
             "#f0f921"
            ]
           ],
           "sequentialminus": [
            [
             0,
             "#0d0887"
            ],
            [
             0.1111111111111111,
             "#46039f"
            ],
            [
             0.2222222222222222,
             "#7201a8"
            ],
            [
             0.3333333333333333,
             "#9c179e"
            ],
            [
             0.4444444444444444,
             "#bd3786"
            ],
            [
             0.5555555555555556,
             "#d8576b"
            ],
            [
             0.6666666666666666,
             "#ed7953"
            ],
            [
             0.7777777777777778,
             "#fb9f3a"
            ],
            [
             0.8888888888888888,
             "#fdca26"
            ],
            [
             1,
             "#f0f921"
            ]
           ]
          },
          "colorway": [
           "#636efa",
           "#EF553B",
           "#00cc96",
           "#ab63fa",
           "#FFA15A",
           "#19d3f3",
           "#FF6692",
           "#B6E880",
           "#FF97FF",
           "#FECB52"
          ],
          "font": {
           "color": "#2a3f5f"
          },
          "geo": {
           "bgcolor": "white",
           "lakecolor": "white",
           "landcolor": "#E5ECF6",
           "showlakes": true,
           "showland": true,
           "subunitcolor": "white"
          },
          "hoverlabel": {
           "align": "left"
          },
          "hovermode": "closest",
          "mapbox": {
           "style": "light"
          },
          "paper_bgcolor": "white",
          "plot_bgcolor": "#E5ECF6",
          "polar": {
           "angularaxis": {
            "gridcolor": "white",
            "linecolor": "white",
            "ticks": ""
           },
           "bgcolor": "#E5ECF6",
           "radialaxis": {
            "gridcolor": "white",
            "linecolor": "white",
            "ticks": ""
           }
          },
          "scene": {
           "xaxis": {
            "backgroundcolor": "#E5ECF6",
            "gridcolor": "white",
            "gridwidth": 2,
            "linecolor": "white",
            "showbackground": true,
            "ticks": "",
            "zerolinecolor": "white"
           },
           "yaxis": {
            "backgroundcolor": "#E5ECF6",
            "gridcolor": "white",
            "gridwidth": 2,
            "linecolor": "white",
            "showbackground": true,
            "ticks": "",
            "zerolinecolor": "white"
           },
           "zaxis": {
            "backgroundcolor": "#E5ECF6",
            "gridcolor": "white",
            "gridwidth": 2,
            "linecolor": "white",
            "showbackground": true,
            "ticks": "",
            "zerolinecolor": "white"
           }
          },
          "shapedefaults": {
           "line": {
            "color": "#2a3f5f"
           }
          },
          "ternary": {
           "aaxis": {
            "gridcolor": "white",
            "linecolor": "white",
            "ticks": ""
           },
           "baxis": {
            "gridcolor": "white",
            "linecolor": "white",
            "ticks": ""
           },
           "bgcolor": "#E5ECF6",
           "caxis": {
            "gridcolor": "white",
            "linecolor": "white",
            "ticks": ""
           }
          },
          "title": {
           "x": 0.05
          },
          "xaxis": {
           "automargin": true,
           "gridcolor": "white",
           "linecolor": "white",
           "ticks": "",
           "title": {
            "standoff": 15
           },
           "zerolinecolor": "white",
           "zerolinewidth": 2
          },
          "yaxis": {
           "automargin": true,
           "gridcolor": "white",
           "linecolor": "white",
           "ticks": "",
           "title": {
            "standoff": 15
           },
           "zerolinecolor": "white",
           "zerolinewidth": 2
          }
         }
        },
        "title": {
         "text": "Slice Plot"
        },
        "xaxis": {
         "autorange": true,
         "range": [
          -7.469346098797449,
          1.4432695679067808
         ],
         "title": {
          "text": "eta"
         },
         "type": "log"
        },
        "yaxis": {
         "autorange": true,
         "range": [
          0.30306677100727863,
          3.6338421893351285
         ],
         "title": {
          "text": "Objective Value"
         },
         "type": "linear"
        }
       }
      },
      "image/png": "[encoded data removed]",
      "text/html": [
       "<div>                            <div id=\"5bafcff8-c17f-4774-b0dd-2b2d4c3d6ac3\" class=\"plotly-graph-div\" style=\"height:525px; width:100%;\"></div>            <script type=\"text/javascript\">                require([\"plotly\"], function(Plotly) {                    window.PLOTLYENV=window.PLOTLYENV || {};                                    if (document.getElementById(\"5bafcff8-c17f-4774-b0dd-2b2d4c3d6ac3\")) {                    Plotly.newPlot(                        \"5bafcff8-c17f-4774-b0dd-2b2d4c3d6ac3\",                        [{\"marker\":{\"color\":[0,1,2,3,4,5,6,7,8,9,10,11,12,13,14,15,16,17,18,19,20,21,22,23,24,25,26,27,28,29,30,31,32,33,34,35,36,37,38,39,40,41,42,43,44,45,46,47,48,49,50,51,52,53,54,55,56,57,58,59,60,61,62,63,64,65,66,67,68,69,70,71,72,73,74,75,76,77,78,79,80,81,82,83,84,85,86,87,88,89,90,91,92,93,94,95,96,97,98,99,100,101,102,103,104,105,106,107,108,109,110,111,112,113,114,115,116,117,118,119,120,121,122,123,124,125,126,127,128,129,130,131,132,133,134,135,136,137,138,139,140,141,142,143,144,145,146,147,148,149,150,151,152,153,154,155,156,157,158,159,160,161,162,163,164,165,166,167,168,169,170,171,172,173,174,175,176,177,178,179,180,181,182,183,184,185,186,187,188,189,190,191,192,193,194,195,196,197,198,199,200,201,202,203,204,205,206,207,208,209,210,211,212,213,214,215,216,217,218,219,220,221,222,223,224,225,226,227,228,229,230,231,232,233,234,235,236,237,238,239,240,241,242,243,244,245,246,247,248,249,250,251,252,253,254,255,256,257,258,259,260,261,262,263,264,265,266,267,268,269,270,271,272,273,274,275,276,277,278,279,280,281,282,283,284,285,286,287,288,289,290,291,292,293,294,295,296,297,298,299],\"colorbar\":{\"title\":{\"text\":\"Trial\"},\"x\":1.0,\"xpad\":40},\"colorscale\":[[0.0,\"rgb(247,251,255)\"],[0.125,\"rgb(222,235,247)\"],[0.25,\"rgb(198,219,239)\"],[0.375,\"rgb(158,202,225)\"],[0.5,\"rgb(107,174,214)\"],[0.625,\"rgb(66,146,198)\"],[0.75,\"rgb(33,113,181)\"],[0.875,\"rgb(8,81,156)\"],[1.0,\"rgb(8,48,107)\"]],\"line\":{\"color\":\"Grey\",\"width\":0.5}},\"mode\":\"markers\",\"name\":\"Feasible Trial\",\"showlegend\":false,\"x\":[1.3504835192418694e-07,1.3443645566027788e-05,0.001946784633936366,0.19377060521337852,1.4813098827050656e-05,0.0018998518908220786,0.0013605914530803826,4.85658665183786e-06,7.10931076518825e-07,0.00015602565425344253,1.990424759906483e-07,3.190201990009892e-05,0.00018630511185970588,0.000595363139616584,0.6359495549638351,8.888806887605096e-07,0.0017497491942365074,0.014151012036557992,0.0009303402861481193,0.9955282390102856,5.706477095974464e-05,4.6046698258174964e-07,0.19687049962291117,0.00012535647333611214,6.171814121936445e-06,1.4312418051438676e-06,0.3349426482962604,2.653878084571177e-05,0.16131776581226615,1.088771895736122,0.025192169114753964,0.00039865326096691383,5.428633032254628e-06,4.702066337817759e-05,4.126677342970103,2.7562949763288522e-06,5.277486531085676e-05,0.011517660187710128,1.0503691356932487e-06,2.6367395028810052,0.04891815472468618,3.2524246977548277,5.804088803371357,3.490416327681658,9.283627160111901e-06,2.6817251515756804e-06,2.045377351513648e-05,0.0003165424854757177,3.760492368215136e-07,1.680899161239132e-05,1.9627426522052107e-06,4.2679953399436325e-07,2.5857704292593375,0.43382225577213707,8.340060412717097,6.798937921532344e-05,2.4206146937494024,4.17700946398972,2.1229530677234906e-06,2.3003114868262905e-05,1.1764129202672386e-05,9.289485239602094,0.010760166197601178,0.009469497900660973,2.931297958156208,4.3996493574494656e-07,0.0009881851403397157,0.044229534587078685,0.00015875969178136374,1.1581633858196903e-06,0.4073221364136635,0.00012518274940959297,2.197625029029686e-06,0.15208864020605856,0.000133401778045805,3.572009273767626e-07,0.0017336867895647679,0.0005435342126837582,7.779197830759493e-06,8.66177560551458e-06,0.5051212217072386,6.417161054965748e-06,0.005817517857377608,0.0001850611353549906,0.31988009286638325,0.004470531723523782,0.029795010026671814,2.769069686275685e-06,0.003295646009974477,8.925943522998868,6.553288756920235e-07,0.026337364422447846,0.0005778927958098236,4.493185423835886e-05,0.6994843458940343,0.122821946915399,0.00017179881859167456,6.663641982754308e-05,3.3216619813017862,2.554575864708907e-06,0.0006933496319502239,7.51795004683563e-07,5.160409759450646e-05,1.3725408939948763e-05,2.0333499522495335e-05,4.920984799119607e-07,6.252180515380466e-07,0.00018881966954193726,8.508091852579672e-07,4.385919005933503e-05,1.7539545616494474,0.39694156622161597,0.0119404544852701,1.5181882384896266,4.995849289475804e-05,6.498103958125017e-07,0.7393402235622848,0.00039845595697857427,0.7428539152753248,1.393204696783887e-05,2.8240733745237994e-05,4.227692943037917e-07,1.2326280506509033e-06,7.32063396141995e-05,0.9824873628793157,2.4758846987176314e-06,0.015567774547566991,6.932683367000015e-05,0.00011892271434762453,4.4146098055778294e-07,0.029638441146598544,3.086258430972739e-07,4.3218038828861776e-05,0.0034518918352572097,0.0008883343591107087,0.010217241380267859,4.0403658218371336e-06,4.210592855403515e-05,5.686139088858966e-06,1.8196513029289678e-05,5.493273747414901e-07,0.0008788706885407853,2.2614436033371743e-05,0.001043656074053297,0.06837085927492526,2.5287292063227263e-07,0.03603806259811784,2.2874042507302925e-07,4.860262889012472e-06,6.459521494889182,0.3482758620763051,0.06337819699585409,3.7832016379194956e-05,1.479797691427761,0.0126339393203947,4.767604821896517,4.189937955012736e-06,5.137539194874712e-05,1.2564934237729212e-07,2.518589394204232e-05,0.045901895970819305,0.09174553396602193,0.00044705988463137486,2.1795705518606665,8.966468353975499,5.8352419228143e-06,9.424303156992091e-05,2.680789115888219e-06,7.948044861900504e-05,0.49682720272073516,0.0020986524595137863,5.690809809955293e-07,3.495051121681416e-07,0.005522439706404244,1.1497093549759887e-07,0.00010621902299383633,5.758121038716901e-06,1.0256742834118147e-06,0.03810576819481936,6.509139133262576,0.34565289905544966,0.0025176408042719336,5.16721062380371e-07,0.08771955485878355,0.15412717155718336,1.3948541257663716,7.869140624868004e-05,1.2657156297315102e-07,1.349187470718169e-05,0.043865607424268614,0.13175797893682525,3.2553039305023596e-07,0.9869027991367377,8.85735881224032e-05,0.14972380373072786,6.382086009070978e-07,0.017258125776155535,7.553980696257769e-07,1.0128043304377694e-07,0.0005537446515424846,8.500472955855466e-05,0.010039192229080377,0.661493770230003,1.0539283412258644e-07,1.879246030862417e-05,2.0884470195827036e-07,0.0006697945331205767,1.839931398713043e-05,0.0033948763211163486,0.0013991553961676488,1.5188300865771104e-07,0.00020930942405173115,0.6357017025331765,0.0002481037816435986,0.11133399689645501,0.06189927383392879,2.0335735217533366,7.797373325325562e-06,0.005533232886037691,3.0374013851924905e-06,8.717852724293508e-06,7.40928458014791e-06,0.1469302229659871,0.002677530231305982,1.838475103558875,4.69812965575656e-06,3.050730553220981,0.011594123790413781,4.9237426968639775e-05,0.9997335242786238,0.1592472319225829,1.0833223151480504e-07,2.1294722653986486,6.237297995864616,0.000239693359501307,1.805057391461161e-05,2.789292766446871e-07,1.4071596417102974e-05,1.7901191530513507e-06,0.051545567528745534,0.35830656438971187,2.241672362992466e-06,6.162636026244629e-06,0.03970553215628104,7.527255602420158e-05,0.00027448871976077754,0.0010545769308203134,9.250648440416679e-05,7.672975525538374e-06,4.534296091906795e-06,4.858085974824815e-06,0.00014396583194337535,5.598310888761866e-07,1.346852977025064e-06,1.2761099714678896e-06,9.714954383128484e-06,9.298179363055302,0.33969532145960535,1.410335510203091e-06,0.774769860785591,0.16758726457960563,0.00016408300787105427,0.00250317080728326,0.005037530102912435,1.2494166569507239e-06,4.9538986520739e-05,0.015076525858109055,1.0527284160524004,5.154912279849147e-06,1.540600825983843e-07,0.004281977458664455,2.0227807314783354e-05,0.00031838758711290284,0.011397087407186595,0.0032747234573059893,5.35315798587701e-05,6.029115728856598e-06,2.6024030290422074e-07,0.07063432075278221,1.1691889225946204,0.0002969713649069352,4.0522903183101165e-06,6.819041202321925e-06,0.1349944745142207,1.931245207102658e-06,3.1097850715428844e-05,3.617000686393985,3.5234784611038155e-07,0.0003926351932726375,0.0011222305330092263,4.214195503700333e-07,0.00188152573498706,1.0984953153367955e-07,1.246792350951249,0.023990958901986666,0.0031760630807008495,0.014117775079156304,1.791875584164542e-06,0.01118060188215846,0.0904072376753292],\"y\":[2.6749985218048096,2.604999542236328,2.603999137878418,2.3980000019073486,2.6909964084625244,2.6219980716705322,2.6209983825683594,2.772998332977295,2.727318048477173,2.5943193435668945,2.5963211059570312,2.6923201084136963,2.553002119064331,2.5260000228881836,1.9920015335083008,2.4869987964630127,2.463996410369873,2.458998203277588,2.501997947692871,2.0029985904693604,2.5229997634887695,2.605998992919922,2.2229998111724854,2.60499906539917,2.4728400707244873,2.496917247772217,2.0682966709136963,2.5110583305358887,2.11411714553833,2.0366320610046387,2.4303295612335205,2.6145737171173096,2.8820955753326416,2.8030648231506348,0.6746363639831543,2.686253786087036,2.6284103393554688,3.111846685409546,3.1577515602111816,0.8006148338317871,3.3979122638702393,0.6887381076812744,0.7056586742401123,0.7895729541778564,2.8852522373199463,2.762883424758911,2.634749412536621,2.6907427310943604,2.635039806365967,2.698552370071411,2.702470302581787,2.9883463382720947,0.7610197067260742,2.7455761432647705,0.6644771099090576,2.9122636318206787,1.2349274158477783,0.6715211868286133,2.7686986923217773,2.7650859355926514,2.823992967605591,0.5570087432861328,2.8451921939849854,2.893961191177368,0.8140594959259033,2.777430295944214,2.6629505157470703,2.6340246200561523,2.5862622261047363,2.549124002456665,2.0566675662994385,2.5390000343322754,2.653999090194702,2.2959980964660645,2.7180001735687256,2.6409966945648193,2.6959986686706543,2.776998281478882,2.7239973545074463,2.571777105331421,2.0978269577026367,2.575596809387207,2.5300889015197754,2.4447808265686035,2.0367319583892822,2.526151657104492,2.8170344829559326,2.938028335571289,2.938028335571289,0.6193842887878418,2.826254367828369,2.84492826461792,2.6367175579071045,2.631716728210449,2.0333995819091797,2.272195339202881,2.7066149711608887,2.7066173553466797,0.7358555793762207,2.861304998397827,2.7276229858398438,2.6574995517730713,2.6505014896392822,2.728001117706299,2.6489970684051514,2.642998695373535,2.6619980335235596,2.570646286010742,2.5646464824676514,2.492642879486084,2.0436456203460693,1.9820003509521484,2.4039995670318604,1.9660000801086426,2.3779985904693604,2.3649978637695312,1.9039990901947021,2.3272957801818848,1.847449779510498,2.6334478855133057,2.6114461421966553,2.661149263381958,2.6359972953796387,2.5979979038238525,2.0970005989074707,2.4760007858276367,2.5560007095336914,2.7120018005371094,2.711000919342041,2.6839962005615234,2.688997268676758,2.7040011882781982,2.699000120162964,2.604997158050537,2.617995262145996,2.7021422386169434,2.685966730117798,2.636655807495117,2.6422410011291504,2.6983351707458496,2.7031004428863525,2.595625162124634,2.6454977989196777,2.734189748764038,2.600569725036621,2.6112136840820312,2.863790273666382,2.8033792972564697,2.7511534690856934,0.6750128269195557,2.0503039360046387,2.4220449924468994,2.6554460525512695,2.2137017250061035,2.632537603378296,0.6680617332458496,2.5426747798919678,2.7099995613098145,2.626997470855713,2.6629951000213623,2.69999623298645,2.80863618850708,2.974635362625122,1.6706335544586182,0.6886365413665771,2.5840039253234863,2.5549991130828857,2.6590020656585693,2.6469979286193848,2.044095993041992,2.5074398517608643,2.552576780319214,2.586918354034424,2.648275852203369,2.6463518142700195,2.6800119876861572,2.6824426651000977,2.815807342529297,2.7737603187561035,0.7087604999542236,2.2431931495666504,2.5517308712005615,2.4601669311523438,2.2849981784820557,2.2139956951141357,1.9529950618743896,2.445000410079956,2.5119996070861816,2.7009987831115723,2.708366870880127,2.2158968448638916,2.3894002437591553,1.986560344696045,2.4478061199188232,2.224605083465576,2.5569064617156982,2.6296448707580566,2.685704231262207,2.6264355182647705,2.6043014526367188,2.6104142665863037,2.5154573917388916,1.9575169086456299,2.531999111175537,2.6160008907318115,2.6529977321624756,2.6929986476898193,2.64394211769104,2.690946102142334,2.625946044921875,2.6279406547546387,2.4560022354125977,2.037994146347046,2.5579981803894043,2.3829996585845947,2.602997303009033,1.2360000610351562,2.7062435150146484,2.6560781002044678,2.6454720497131348,2.665560722351074,2.547466993331909,2.326538562774658,2.5681631565093994,2.253767251968384,2.6815555095672607,0.7514276504516602,2.6817071437835693,2.4941422939300537,2.007784605026245,2.4899981021881104,2.8060030937194824,2.222001791000366,0.632000207901001,2.5789990425109863,2.7059950828552246,2.6539976596832275,2.6899948120117188,2.605975389480591,2.576913356781006,2.077521562576294,2.561910629272461,2.5777738094329834,2.6959409713745117,2.742790460586548,2.7330212593078613,2.673198938369751,2.61651611328125,2.702279567718506,2.7000479698181152,2.6240267753601074,2.627998113632202,2.6939969062805176,2.845998525619507,2.8056161403656006,2.6381592750549316,0.538996696472168,2.04782772064209,2.3542160987854004,1.8041059970855713,2.1549489498138428,2.5654683113098145,2.6210856437683105,2.499575614929199,2.5511953830718994,2.508000135421753,2.5600006580352783,1.976999044418335,2.570997953414917,2.625993013381958,2.693997859954834,2.7249996662139893,2.615199327468872,2.634174346923828,2.8246119022369385,2.7865495681762695,2.6797502040863037,2.458873748779297,2.4211959838867188,2.009132146835327,2.4908175468444824,2.528718948364258,2.645786762237549,2.342090129852295,2.755971908569336,2.8494462966918945,0.773188591003418,2.842420816421509,2.7071874141693115,2.620889902114868,2.6002426147460938,2.6081788539886475,2.5617458820343018,2.0374104976654053,2.5858612060546875,2.623122453689575,2.68500018119812,2.525998115539551,1.790994644165039,1.4419951438903809],\"type\":\"scatter\"}],                        {\"title\":{\"text\":\"Slice Plot\"},\"template\":{\"data\":{\"histogram2dcontour\":[{\"type\":\"histogram2dcontour\",\"colorbar\":{\"outlinewidth\":0,\"ticks\":\"\"},\"colorscale\":[[0.0,\"#0d0887\"],[0.1111111111111111,\"#46039f\"],[0.2222222222222222,\"#7201a8\"],[0.3333333333333333,\"#9c179e\"],[0.4444444444444444,\"#bd3786\"],[0.5555555555555556,\"#d8576b\"],[0.6666666666666666,\"#ed7953\"],[0.7777777777777778,\"#fb9f3a\"],[0.8888888888888888,\"#fdca26\"],[1.0,\"#f0f921\"]]}],\"choropleth\":[{\"type\":\"choropleth\",\"colorbar\":{\"outlinewidth\":0,\"ticks\":\"\"}}],\"histogram2d\":[{\"type\":\"histogram2d\",\"colorbar\":{\"outlinewidth\":0,\"ticks\":\"\"},\"colorscale\":[[0.0,\"#0d0887\"],[0.1111111111111111,\"#46039f\"],[0.2222222222222222,\"#7201a8\"],[0.3333333333333333,\"#9c179e\"],[0.4444444444444444,\"#bd3786\"],[0.5555555555555556,\"#d8576b\"],[0.6666666666666666,\"#ed7953\"],[0.7777777777777778,\"#fb9f3a\"],[0.8888888888888888,\"#fdca26\"],[1.0,\"#f0f921\"]]}],\"heatmap\":[{\"type\":\"heatmap\",\"colorbar\":{\"outlinewidth\":0,\"ticks\":\"\"},\"colorscale\":[[0.0,\"#0d0887\"],[0.1111111111111111,\"#46039f\"],[0.2222222222222222,\"#7201a8\"],[0.3333333333333333,\"#9c179e\"],[0.4444444444444444,\"#bd3786\"],[0.5555555555555556,\"#d8576b\"],[0.6666666666666666,\"#ed7953\"],[0.7777777777777778,\"#fb9f3a\"],[0.8888888888888888,\"#fdca26\"],[1.0,\"#f0f921\"]]}],\"heatmapgl\":[{\"type\":\"heatmapgl\",\"colorbar\":{\"outlinewidth\":0,\"ticks\":\"\"},\"colorscale\":[[0.0,\"#0d0887\"],[0.1111111111111111,\"#46039f\"],[0.2222222222222222,\"#7201a8\"],[0.3333333333333333,\"#9c179e\"],[0.4444444444444444,\"#bd3786\"],[0.5555555555555556,\"#d8576b\"],[0.6666666666666666,\"#ed7953\"],[0.7777777777777778,\"#fb9f3a\"],[0.8888888888888888,\"#fdca26\"],[1.0,\"#f0f921\"]]}],\"contourcarpet\":[{\"type\":\"contourcarpet\",\"colorbar\":{\"outlinewidth\":0,\"ticks\":\"\"}}],\"contour\":[{\"type\":\"contour\",\"colorbar\":{\"outlinewidth\":0,\"ticks\":\"\"},\"colorscale\":[[0.0,\"#0d0887\"],[0.1111111111111111,\"#46039f\"],[0.2222222222222222,\"#7201a8\"],[0.3333333333333333,\"#9c179e\"],[0.4444444444444444,\"#bd3786\"],[0.5555555555555556,\"#d8576b\"],[0.6666666666666666,\"#ed7953\"],[0.7777777777777778,\"#fb9f3a\"],[0.8888888888888888,\"#fdca26\"],[1.0,\"#f0f921\"]]}],\"surface\":[{\"type\":\"surface\",\"colorbar\":{\"outlinewidth\":0,\"ticks\":\"\"},\"colorscale\":[[0.0,\"#0d0887\"],[0.1111111111111111,\"#46039f\"],[0.2222222222222222,\"#7201a8\"],[0.3333333333333333,\"#9c179e\"],[0.4444444444444444,\"#bd3786\"],[0.5555555555555556,\"#d8576b\"],[0.6666666666666666,\"#ed7953\"],[0.7777777777777778,\"#fb9f3a\"],[0.8888888888888888,\"#fdca26\"],[1.0,\"#f0f921\"]]}],\"mesh3d\":[{\"type\":\"mesh3d\",\"colorbar\":{\"outlinewidth\":0,\"ticks\":\"\"}}],\"scatter\":[{\"fillpattern\":{\"fillmode\":\"overlay\",\"size\":10,\"solidity\":0.2},\"type\":\"scatter\"}],\"parcoords\":[{\"type\":\"parcoords\",\"line\":{\"colorbar\":{\"outlinewidth\":0,\"ticks\":\"\"}}}],\"scatterpolargl\":[{\"type\":\"scatterpolargl\",\"marker\":{\"colorbar\":{\"outlinewidth\":0,\"ticks\":\"\"}}}],\"bar\":[{\"error_x\":{\"color\":\"#2a3f5f\"},\"error_y\":{\"color\":\"#2a3f5f\"},\"marker\":{\"line\":{\"color\":\"#E5ECF6\",\"width\":0.5},\"pattern\":{\"fillmode\":\"overlay\",\"size\":10,\"solidity\":0.2}},\"type\":\"bar\"}],\"scattergeo\":[{\"type\":\"scattergeo\",\"marker\":{\"colorbar\":{\"outlinewidth\":0,\"ticks\":\"\"}}}],\"scatterpolar\":[{\"type\":\"scatterpolar\",\"marker\":{\"colorbar\":{\"outlinewidth\":0,\"ticks\":\"\"}}}],\"histogram\":[{\"marker\":{\"pattern\":{\"fillmode\":\"overlay\",\"size\":10,\"solidity\":0.2}},\"type\":\"histogram\"}],\"scattergl\":[{\"type\":\"scattergl\",\"marker\":{\"colorbar\":{\"outlinewidth\":0,\"ticks\":\"\"}}}],\"scatter3d\":[{\"type\":\"scatter3d\",\"line\":{\"colorbar\":{\"outlinewidth\":0,\"ticks\":\"\"}},\"marker\":{\"colorbar\":{\"outlinewidth\":0,\"ticks\":\"\"}}}],\"scattermapbox\":[{\"type\":\"scattermapbox\",\"marker\":{\"colorbar\":{\"outlinewidth\":0,\"ticks\":\"\"}}}],\"scatterternary\":[{\"type\":\"scatterternary\",\"marker\":{\"colorbar\":{\"outlinewidth\":0,\"ticks\":\"\"}}}],\"scattercarpet\":[{\"type\":\"scattercarpet\",\"marker\":{\"colorbar\":{\"outlinewidth\":0,\"ticks\":\"\"}}}],\"carpet\":[{\"aaxis\":{\"endlinecolor\":\"#2a3f5f\",\"gridcolor\":\"white\",\"linecolor\":\"white\",\"minorgridcolor\":\"white\",\"startlinecolor\":\"#2a3f5f\"},\"baxis\":{\"endlinecolor\":\"#2a3f5f\",\"gridcolor\":\"white\",\"linecolor\":\"white\",\"minorgridcolor\":\"white\",\"startlinecolor\":\"#2a3f5f\"},\"type\":\"carpet\"}],\"table\":[{\"cells\":{\"fill\":{\"color\":\"#EBF0F8\"},\"line\":{\"color\":\"white\"}},\"header\":{\"fill\":{\"color\":\"#C8D4E3\"},\"line\":{\"color\":\"white\"}},\"type\":\"table\"}],\"barpolar\":[{\"marker\":{\"line\":{\"color\":\"#E5ECF6\",\"width\":0.5},\"pattern\":{\"fillmode\":\"overlay\",\"size\":10,\"solidity\":0.2}},\"type\":\"barpolar\"}],\"pie\":[{\"automargin\":true,\"type\":\"pie\"}]},\"layout\":{\"autotypenumbers\":\"strict\",\"colorway\":[\"#636efa\",\"#EF553B\",\"#00cc96\",\"#ab63fa\",\"#FFA15A\",\"#19d3f3\",\"#FF6692\",\"#B6E880\",\"#FF97FF\",\"#FECB52\"],\"font\":{\"color\":\"#2a3f5f\"},\"hovermode\":\"closest\",\"hoverlabel\":{\"align\":\"left\"},\"paper_bgcolor\":\"white\",\"plot_bgcolor\":\"#E5ECF6\",\"polar\":{\"bgcolor\":\"#E5ECF6\",\"angularaxis\":{\"gridcolor\":\"white\",\"linecolor\":\"white\",\"ticks\":\"\"},\"radialaxis\":{\"gridcolor\":\"white\",\"linecolor\":\"white\",\"ticks\":\"\"}},\"ternary\":{\"bgcolor\":\"#E5ECF6\",\"aaxis\":{\"gridcolor\":\"white\",\"linecolor\":\"white\",\"ticks\":\"\"},\"baxis\":{\"gridcolor\":\"white\",\"linecolor\":\"white\",\"ticks\":\"\"},\"caxis\":{\"gridcolor\":\"white\",\"linecolor\":\"white\",\"ticks\":\"\"}},\"coloraxis\":{\"colorbar\":{\"outlinewidth\":0,\"ticks\":\"\"}},\"colorscale\":{\"sequential\":[[0.0,\"#0d0887\"],[0.1111111111111111,\"#46039f\"],[0.2222222222222222,\"#7201a8\"],[0.3333333333333333,\"#9c179e\"],[0.4444444444444444,\"#bd3786\"],[0.5555555555555556,\"#d8576b\"],[0.6666666666666666,\"#ed7953\"],[0.7777777777777778,\"#fb9f3a\"],[0.8888888888888888,\"#fdca26\"],[1.0,\"#f0f921\"]],\"sequentialminus\":[[0.0,\"#0d0887\"],[0.1111111111111111,\"#46039f\"],[0.2222222222222222,\"#7201a8\"],[0.3333333333333333,\"#9c179e\"],[0.4444444444444444,\"#bd3786\"],[0.5555555555555556,\"#d8576b\"],[0.6666666666666666,\"#ed7953\"],[0.7777777777777778,\"#fb9f3a\"],[0.8888888888888888,\"#fdca26\"],[1.0,\"#f0f921\"]],\"diverging\":[[0,\"#8e0152\"],[0.1,\"#c51b7d\"],[0.2,\"#de77ae\"],[0.3,\"#f1b6da\"],[0.4,\"#fde0ef\"],[0.5,\"#f7f7f7\"],[0.6,\"#e6f5d0\"],[0.7,\"#b8e186\"],[0.8,\"#7fbc41\"],[0.9,\"#4d9221\"],[1,\"#276419\"]]},\"xaxis\":{\"gridcolor\":\"white\",\"linecolor\":\"white\",\"ticks\":\"\",\"title\":{\"standoff\":15},\"zerolinecolor\":\"white\",\"automargin\":true,\"zerolinewidth\":2},\"yaxis\":{\"gridcolor\":\"white\",\"linecolor\":\"white\",\"ticks\":\"\",\"title\":{\"standoff\":15},\"zerolinecolor\":\"white\",\"automargin\":true,\"zerolinewidth\":2},\"scene\":{\"xaxis\":{\"backgroundcolor\":\"#E5ECF6\",\"gridcolor\":\"white\",\"linecolor\":\"white\",\"showbackground\":true,\"ticks\":\"\",\"zerolinecolor\":\"white\",\"gridwidth\":2},\"yaxis\":{\"backgroundcolor\":\"#E5ECF6\",\"gridcolor\":\"white\",\"linecolor\":\"white\",\"showbackground\":true,\"ticks\":\"\",\"zerolinecolor\":\"white\",\"gridwidth\":2},\"zaxis\":{\"backgroundcolor\":\"#E5ECF6\",\"gridcolor\":\"white\",\"linecolor\":\"white\",\"showbackground\":true,\"ticks\":\"\",\"zerolinecolor\":\"white\",\"gridwidth\":2}},\"shapedefaults\":{\"line\":{\"color\":\"#2a3f5f\"}},\"annotationdefaults\":{\"arrowcolor\":\"#2a3f5f\",\"arrowhead\":0,\"arrowwidth\":1},\"geo\":{\"bgcolor\":\"white\",\"landcolor\":\"#E5ECF6\",\"subunitcolor\":\"white\",\"showland\":true,\"showlakes\":true,\"lakecolor\":\"white\"},\"title\":{\"x\":0.05},\"mapbox\":{\"style\":\"light\"}}},\"xaxis\":{\"title\":{\"text\":\"eta\"},\"type\":\"log\"},\"yaxis\":{\"title\":{\"text\":\"Objective Value\"}}},                        {\"responsive\": true}                    ).then(function(){\n",
       "                            \n",
       "var gd = document.getElementById('5bafcff8-c17f-4774-b0dd-2b2d4c3d6ac3');\n",
       "var x = new MutationObserver(function (mutations, observer) {{\n",
       "        var display = window.getComputedStyle(gd).display;\n",
       "        if (!display || display === 'none') {{\n",
       "            console.log([gd, 'removed!']);\n",
       "            Plotly.purge(gd);\n",
       "            observer.disconnect();\n",
       "        }}\n",
       "}});\n",
       "\n",
       "// Listen for the removal of the full notebook cells\n",
       "var notebookContainer = gd.closest('#notebook-container');\n",
       "if (notebookContainer) {{\n",
       "    x.observe(notebookContainer, {childList: true});\n",
       "}}\n",
       "\n",
       "// Listen for the clearing of the current output cell\n",
       "var outputEl = gd.closest('.output');\n",
       "if (outputEl) {{\n",
       "    x.observe(outputEl, {childList: true});\n",
       "}}\n",
       "\n",
       "                        })                };                });            </script>        </div>"
      ]
     },
     "metadata": {},
     "output_type": "display_data"
    }
   ],
   "source": [
    "from local_utils import make_eta_test\n",
    "from optuna.visualization import plot_slice\n",
    "\n",
    "# 0.005, 1\n",
    "study = make_eta_test()\n",
    "plot_slice(study)"
   ]
  },
  {
   "cell_type": "code",
   "execution_count": null,
   "id": "4834156d-c06a-4e62-b0a0-978daa4094a8",
   "metadata": {},
   "outputs": [],
   "source": []
  }
 ],
 "metadata": {
  "kernelspec": {
   "display_name": "base",
   "language": "python",
   "name": "python3"
  },
  "language_info": {
   "codemirror_mode": {
    "name": "ipython",
    "version": 3
   },
   "file_extension": ".py",
   "mimetype": "text/x-python",
   "name": "python",
   "nbconvert_exporter": "python",
   "pygments_lexer": "ipython3",
   "version": "3.12.7"
  }
 },
 "nbformat": 4,
 "nbformat_minor": 5
}
