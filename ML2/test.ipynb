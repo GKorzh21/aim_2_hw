{
 "cells": [
  {
   "cell_type": "code",
   "execution_count": 2,
   "id": "f5e3ff73",
   "metadata": {},
   "outputs": [
    {
     "name": "stdout",
     "output_type": "stream",
     "text": [
      "Collecting voyager\n",
      "  Downloading voyager-2.1.0-cp312-cp312-win_amd64.whl.metadata (6.0 kB)\n",
      "Requirement already satisfied: numpy in c:\\users\\admin\\anaconda3\\lib\\site-packages (from voyager) (1.26.4)\n",
      "Downloading voyager-2.1.0-cp312-cp312-win_amd64.whl (207 kB)\n",
      "Installing collected packages: voyager\n",
      "Successfully installed voyager-2.1.0\n"
     ]
    }
   ],
   "source": [
    "!pip install voyager"
   ]
  },
  {
   "cell_type": "code",
   "execution_count": 4,
   "id": "7908861d",
   "metadata": {},
   "outputs": [
    {
     "name": "stdout",
     "output_type": "stream",
     "text": [
      "0\n",
      "1\n",
      "[0 1]\n",
      "[  0. 125.]\n"
     ]
    }
   ],
   "source": [
    "import numpy as np\n",
    "from voyager import Index, Space\n",
    "\n",
    "# Create an empty Index object that can store vectors:\n",
    "index = Index(Space.Euclidean, num_dimensions=5)\n",
    "id_a = index.add_item([1, 2, 3, 4, 5])\n",
    "id_b = index.add_item([6, 7, 8, 9, 10])\n",
    "\n",
    "print(id_a)  # => 0\n",
    "print(id_b)  # => 1\n",
    "\n",
    "# Find the two closest elements:\n",
    "neighbors, distances = index.query([1, 2, 3, 4, 5], k=2)\n",
    "print(neighbors)  # => [0, 1]\n",
    "print(distances)  # => [0.0, 125.0]\n",
    "\n",
    "# Save the index to disk to reload later (or in Java!)\n",
    "index.save(\"output_file.voy\")"
   ]
  },
  {
   "cell_type": "code",
   "execution_count": null,
   "id": "983392ab",
   "metadata": {},
   "outputs": [],
   "source": []
  }
 ],
 "metadata": {
  "kernelspec": {
   "display_name": "base",
   "language": "python",
   "name": "python3"
  },
  "language_info": {
   "codemirror_mode": {
    "name": "ipython",
    "version": 3
   },
   "file_extension": ".py",
   "mimetype": "text/x-python",
   "name": "python",
   "nbconvert_exporter": "python",
   "pygments_lexer": "ipython3",
   "version": "3.12.3"
  }
 },
 "nbformat": 4,
 "nbformat_minor": 5
}
