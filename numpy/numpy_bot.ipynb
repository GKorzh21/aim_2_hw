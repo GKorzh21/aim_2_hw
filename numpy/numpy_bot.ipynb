{
 "cells": [
  {
   "cell_type": "code",
   "execution_count": 1,
   "id": "e02903bd",
   "metadata": {},
   "outputs": [],
   "source": [
    "import numpy as np"
   ]
  },
  {
   "cell_type": "code",
   "execution_count": 7,
   "id": "7ea21547",
   "metadata": {},
   "outputs": [
    {
     "data": {
      "text/plain": [
       "'1.26.4'"
      ]
     },
     "execution_count": 7,
     "metadata": {},
     "output_type": "execute_result"
    }
   ],
   "source": [
    "np.__version__"
   ]
  },
  {
   "cell_type": "code",
   "execution_count": 9,
   "id": "bd7af483",
   "metadata": {},
   "outputs": [
    {
     "name": "stdout",
     "output_type": "stream",
     "text": [
      "Build Dependencies:\n",
      "  blas:\n",
      "    detection method: pkgconfig\n",
      "    found: true\n",
      "    include directory: C:/Users/Admin/anaconda3/Library/include\n",
      "    lib directory: C:/Users/Admin/anaconda3/Library/lib\n",
      "    name: mkl-sdl\n",
      "    openblas configuration: unknown\n",
      "    pc file directory: C:\\b\\abs_c1ywpu18ar\\croot\\numpy_and_numpy_base_1708638681471\\_h_env\\Library\\lib\\pkgconfig\n",
      "    version: '2023.1'\n",
      "  lapack:\n",
      "    detection method: internal\n",
      "    found: true\n",
      "    include directory: unknown\n",
      "    lib directory: unknown\n",
      "    name: dep1583119523984\n",
      "    openblas configuration: unknown\n",
      "    pc file directory: unknown\n",
      "    version: 1.26.4\n",
      "Compilers:\n",
      "  c:\n",
      "    commands: cl.exe\n",
      "    linker: link\n",
      "    name: msvc\n",
      "    version: 19.29.30154\n",
      "  c++:\n",
      "    commands: cl.exe\n",
      "    linker: link\n",
      "    name: msvc\n",
      "    version: 19.29.30154\n",
      "  cython:\n",
      "    commands: cython\n",
      "    linker: cython\n",
      "    name: cython\n",
      "    version: 3.0.8\n",
      "Machine Information:\n",
      "  build:\n",
      "    cpu: x86_64\n",
      "    endian: little\n",
      "    family: x86_64\n",
      "    system: windows\n",
      "  host:\n",
      "    cpu: x86_64\n",
      "    endian: little\n",
      "    family: x86_64\n",
      "    system: windows\n",
      "Python Information:\n",
      "  path: C:\\b\\abs_c1ywpu18ar\\croot\\numpy_and_numpy_base_1708638681471\\_h_env\\python.exe\n",
      "  version: '3.12'\n",
      "SIMD Extensions:\n",
      "  baseline:\n",
      "  - SSE\n",
      "  - SSE2\n",
      "  - SSE3\n",
      "  found:\n",
      "  - SSSE3\n",
      "  - SSE41\n",
      "  - POPCNT\n",
      "  - SSE42\n",
      "  - AVX\n",
      "  - F16C\n",
      "  - FMA3\n",
      "  - AVX2\n",
      "  not found:\n",
      "  - AVX512F\n",
      "  - AVX512CD\n",
      "  - AVX512_SKX\n",
      "  - AVX512_CLX\n",
      "  - AVX512_CNL\n",
      "  - AVX512_ICL\n",
      "\n"
     ]
    }
   ],
   "source": [
    "np.show_config()"
   ]
  },
  {
   "cell_type": "code",
   "execution_count": 10,
   "id": "52605eba",
   "metadata": {},
   "outputs": [
    {
     "name": "stdout",
     "output_type": "stream",
     "text": [
      "[{'numpy_version': '1.26.4',\n",
      "  'python': '3.12.3 | packaged by conda-forge | (main, Apr 15 2024, 18:20:11) '\n",
      "            '[MSC v.1938 64 bit (AMD64)]',\n",
      "  'uname': uname_result(system='Windows', node='LAPTOP-OSEVL9J0', release='10', version='10.0.19045', machine='AMD64')},\n",
      " {'simd_extensions': {'baseline': ['SSE', 'SSE2', 'SSE3'],\n",
      "                      'found': ['SSSE3',\n",
      "                                'SSE41',\n",
      "                                'POPCNT',\n",
      "                                'SSE42',\n",
      "                                'AVX',\n",
      "                                'F16C',\n",
      "                                'FMA3',\n",
      "                                'AVX2'],\n",
      "                      'not_found': ['AVX512F',\n",
      "                                    'AVX512CD',\n",
      "                                    'AVX512_SKX',\n",
      "                                    'AVX512_CLX',\n",
      "                                    'AVX512_CNL',\n",
      "                                    'AVX512_ICL']}},\n",
      " {'filepath': 'C:\\\\Users\\\\Admin\\\\anaconda3\\\\Library\\\\bin\\\\mkl_rt.2.dll',\n",
      "  'internal_api': 'mkl',\n",
      "  'num_threads': 6,\n",
      "  'prefix': 'mkl_rt',\n",
      "  'threading_layer': 'intel',\n",
      "  'user_api': 'blas',\n",
      "  'version': '2023.1-Product'}]\n"
     ]
    }
   ],
   "source": [
    "np.show_runtime()"
   ]
  },
  {
   "cell_type": "code",
   "execution_count": 37,
   "id": "1fbe61bf",
   "metadata": {},
   "outputs": [
    {
     "data": {
      "text/plain": [
       "array([[0., 0., 0., 0., 0., 0., 0., 0., 0., 0.],\n",
       "       [0., 0., 0., 0., 0., 0., 0., 0., 0., 0.],\n",
       "       [0., 0., 0., 0., 0., 0., 0., 0., 0., 0.],\n",
       "       [0., 0., 0., 0., 0., 0., 0., 0., 0., 0.],\n",
       "       [0., 0., 0., 0., 0., 0., 0., 0., 0., 0.],\n",
       "       [0., 0., 0., 0., 0., 0., 0., 0., 0., 0.],\n",
       "       [0., 0., 0., 0., 0., 0., 0., 0., 0., 0.],\n",
       "       [0., 0., 0., 0., 0., 0., 0., 0., 0., 0.],\n",
       "       [0., 0., 0., 0., 0., 0., 0., 0., 0., 0.],\n",
       "       [0., 0., 0., 0., 0., 0., 0., 0., 0., 0.]])"
      ]
     },
     "execution_count": 37,
     "metadata": {},
     "output_type": "execute_result"
    }
   ],
   "source": [
    "z = np.zeros((10, 10), float)\n",
    "z"
   ]
  },
  {
   "cell_type": "code",
   "execution_count": 38,
   "id": "dac745af",
   "metadata": {},
   "outputs": [
    {
     "data": {
      "text/plain": [
       "800"
      ]
     },
     "execution_count": 38,
     "metadata": {},
     "output_type": "execute_result"
    }
   ],
   "source": [
    "z.size * z.itemsize"
   ]
  },
  {
   "cell_type": "code",
   "execution_count": 42,
   "id": "c0dca334",
   "metadata": {},
   "outputs": [
    {
     "name": "stdout",
     "output_type": "stream",
     "text": [
      "Returns the indices of the maximum values along an axis.\n",
      "\n",
      "Parameters\n",
      "----------\n",
      "a : array_like\n",
      "    Input array.\n",
      "axis : int, optional\n",
      "    By default, the index is into the flattened array, otherwise\n",
      "    along the specified axis.\n",
      "out : array, optional\n",
      "    If provided, the result will be inserted into this array. It should\n",
      "    be of the appropriate shape and dtype.\n",
      "keepdims : bool, optional\n",
      "    If this is set to True, the axes which are reduced are left\n",
      "    in the result as dimensions with size one. With this option,\n",
      "    the result will broadcast correctly against the array.\n",
      "\n",
      "    .. versionadded:: 1.22.0\n",
      "\n",
      "Returns\n",
      "-------\n",
      "index_array : ndarray of ints\n",
      "    Array of indices into the array. It has the same shape as `a.shape`\n",
      "    with the dimension along `axis` removed. If `keepdims` is set to True,\n",
      "    then the size of `axis` will be 1 with the resulting array having same\n",
      "    shape as `a.shape`.\n",
      "\n",
      "See Also\n",
      "--------\n",
      "ndarray.argmax, argmin\n",
      "amax : The maximum value along a given axis.\n",
      "unravel_index : Convert a flat index into an index tuple.\n",
      "take_along_axis : Apply ``np.expand_dims(index_array, axis)``\n",
      "                  from argmax to an array as if by calling max.\n",
      "\n",
      "Notes\n",
      "-----\n",
      "In case of multiple occurrences of the maximum values, the indices\n",
      "corresponding to the first occurrence are returned.\n",
      "\n",
      "Examples\n",
      "--------\n",
      ">>> a = np.arange(6).reshape(2,3) + 10\n",
      ">>> a\n",
      "array([[10, 11, 12],\n",
      "       [13, 14, 15]])\n",
      ">>> np.argmax(a)\n",
      "5\n",
      ">>> np.argmax(a, axis=0)\n",
      "array([1, 1, 1])\n",
      ">>> np.argmax(a, axis=1)\n",
      "array([2, 2])\n",
      "\n",
      "Indexes of the maximal elements of a N-dimensional array:\n",
      "\n",
      ">>> ind = np.unravel_index(np.argmax(a, axis=None), a.shape)\n",
      ">>> ind\n",
      "(1, 2)\n",
      ">>> a[ind]\n",
      "15\n",
      "\n",
      ">>> b = np.arange(6)\n",
      ">>> b[1] = 5\n",
      ">>> b\n",
      "array([0, 5, 2, 3, 4, 5])\n",
      ">>> np.argmax(b)  # Only the first occurrence is returned.\n",
      "1\n",
      "\n",
      ">>> x = np.array([[4,2,3], [1,0,3]])\n",
      ">>> index_array = np.argmax(x, axis=-1)\n",
      ">>> # Same as np.amax(x, axis=-1, keepdims=True)\n",
      ">>> np.take_along_axis(x, np.expand_dims(index_array, axis=-1), axis=-1)\n",
      "array([[4],\n",
      "       [3]])\n",
      ">>> # Same as np.amax(x, axis=-1)\n",
      ">>> np.take_along_axis(x, np.expand_dims(index_array, axis=-1), axis=-1).squeeze(axis=-1)\n",
      "array([4, 3])\n",
      "\n",
      "Setting `keepdims` to `True`,\n",
      "\n",
      ">>> x = np.arange(24).reshape((2, 3, 4))\n",
      ">>> res = np.argmax(x, axis=1, keepdims=True)\n",
      ">>> res.shape\n",
      "(2, 1, 4)\n"
     ]
    }
   ],
   "source": [
    "np.info(np.argmax)"
   ]
  },
  {
   "cell_type": "code",
   "execution_count": 43,
   "id": "e018bbb4",
   "metadata": {},
   "outputs": [
    {
     "data": {
      "text/plain": [
       "array([0., 0., 0., 0., 1., 0., 0., 0., 0., 0.])"
      ]
     },
     "execution_count": 43,
     "metadata": {},
     "output_type": "execute_result"
    }
   ],
   "source": [
    "z = np.zeros(10)\n",
    "z[4] = 1\n",
    "z"
   ]
  },
  {
   "cell_type": "code",
   "execution_count": 46,
   "id": "130a9488",
   "metadata": {},
   "outputs": [
    {
     "data": {
      "text/plain": [
       "array([10, 11, 12, 13, 14, 15, 16, 17, 18, 19, 20, 21, 22, 23, 24, 25, 26,\n",
       "       27, 28, 29, 30, 31, 32, 33, 34, 35, 36, 37, 38, 39, 40, 41, 42, 43,\n",
       "       44, 45, 46, 47, 48, 49])"
      ]
     },
     "execution_count": 46,
     "metadata": {},
     "output_type": "execute_result"
    }
   ],
   "source": [
    "a = np.arange(10, 50)\n",
    "a"
   ]
  },
  {
   "cell_type": "code",
   "execution_count": 63,
   "id": "de5f44c6",
   "metadata": {},
   "outputs": [
    {
     "data": {
      "text/plain": [
       "array([49, 48, 47, 46, 45, 44, 43, 42, 41, 40, 39, 38, 37, 36, 35, 34, 33,\n",
       "       32, 31, 30, 29, 28, 27, 26, 25, 24, 23, 22, 21, 20, 19, 18, 17, 16,\n",
       "       15, 14, 13, 12, 11, 10])"
      ]
     },
     "execution_count": 63,
     "metadata": {},
     "output_type": "execute_result"
    }
   ],
   "source": [
    "a[::-1]"
   ]
  },
  {
   "cell_type": "code",
   "execution_count": 83,
   "id": "db15c917",
   "metadata": {},
   "outputs": [
    {
     "data": {
      "text/plain": [
       "array([[0, 1, 2],\n",
       "       [3, 4, 5],\n",
       "       [6, 7, 8]])"
      ]
     },
     "execution_count": 83,
     "metadata": {},
     "output_type": "execute_result"
    }
   ],
   "source": [
    "np.arange(9).reshape(3, -1)"
   ]
  },
  {
   "cell_type": "code",
   "execution_count": 88,
   "id": "6d7eef8a",
   "metadata": {},
   "outputs": [
    {
     "data": {
      "text/plain": [
       "(array([0, 1, 4], dtype=int64),)"
      ]
     },
     "execution_count": 88,
     "metadata": {},
     "output_type": "execute_result"
    }
   ],
   "source": [
    "a = np.array([1,2,0,0,4,0])\n",
    "np.nonzero(a)"
   ]
  },
  {
   "cell_type": "code",
   "execution_count": 114,
   "id": "3944545f",
   "metadata": {},
   "outputs": [
    {
     "data": {
      "text/plain": [
       "array([[0., 0., 1., 0.],\n",
       "       [0., 0., 0., 1.],\n",
       "       [0., 0., 0., 0.]])"
      ]
     },
     "execution_count": 114,
     "metadata": {},
     "output_type": "execute_result"
    }
   ],
   "source": [
    "np.eye(3, 4, 2)"
   ]
  },
  {
   "cell_type": "code",
   "execution_count": 121,
   "id": "9a0c8aa0",
   "metadata": {},
   "outputs": [
    {
     "data": {
      "text/plain": [
       "array([[[0, 1, 2],\n",
       "        [1, 1, 1],\n",
       "        [1, 1, 0]],\n",
       "\n",
       "       [[1, 1, 0],\n",
       "        [1, 1, 2],\n",
       "        [2, 2, 0]],\n",
       "\n",
       "       [[1, 2, 1],\n",
       "        [1, 0, 1],\n",
       "        [1, 1, 0]]])"
      ]
     },
     "execution_count": 121,
     "metadata": {},
     "output_type": "execute_result"
    }
   ],
   "source": [
    "np.random.randint(0, 3, (3, 3, 3))"
   ]
  },
  {
   "cell_type": "code",
   "execution_count": 124,
   "id": "8f3870ca",
   "metadata": {},
   "outputs": [
    {
     "data": {
      "text/plain": [
       "(1, 6)"
      ]
     },
     "execution_count": 124,
     "metadata": {},
     "output_type": "execute_result"
    }
   ],
   "source": [
    "a = np.random.randint((10, 10))\n",
    "a.min(), a.max()"
   ]
  },
  {
   "cell_type": "code",
   "execution_count": 134,
   "id": "3f05940e",
   "metadata": {},
   "outputs": [
    {
     "name": "stdout",
     "output_type": "stream",
     "text": [
      "[0.3149 0.5888 0.4111 0.3148 0.3128 0.5944 0.855  0.3922 0.4398 0.0207 0.7653 0.3901 0.515  0.4198\n",
      " 0.8676 0.2132 0.2175 0.6679 0.2436 0.2192 0.8332 0.6508 0.5648 0.2378 0.4379 0.6688 0.0799 0.8018\n",
      " 0.5486 0.0185]\n"
     ]
    },
    {
     "data": {
      "text/plain": [
       "(0.4535323114011504, 0.24045156847176105)"
      ]
     },
     "execution_count": 134,
     "metadata": {},
     "output_type": "execute_result"
    }
   ],
   "source": [
    "np.set_printoptions(suppress=True, precision=4, linewidth=100)\n",
    "a = np.random.random(30)\n",
    "print(a)\n",
    "a.mean(), a.std()"
   ]
  },
  {
   "cell_type": "code",
   "execution_count": 138,
   "id": "ef16c46c",
   "metadata": {},
   "outputs": [
    {
     "data": {
      "text/plain": [
       "array([[8., 0., 4.],\n",
       "       [6., 4., 9.],\n",
       "       [7., 5., 8.]])"
      ]
     },
     "execution_count": 138,
     "metadata": {},
     "output_type": "execute_result"
    }
   ],
   "source": [
    "(np.random.random(9)*10).round(0).reshape(3, 3)"
   ]
  },
  {
   "cell_type": "code",
   "execution_count": null,
   "id": "4e69ecd4",
   "metadata": {},
   "outputs": [
    {
     "data": {
      "text/plain": [
       "array([[1., 1., 1., 1., 1., 1., 1., 1., 1., 1.],\n",
       "       [1., 0., 0., 0., 0., 0., 0., 0., 0., 1.],\n",
       "       [1., 0., 0., 0., 0., 0., 0., 0., 0., 1.],\n",
       "       [1., 0., 0., 0., 0., 0., 0., 0., 0., 1.],\n",
       "       [1., 0., 0., 0., 0., 0., 0., 0., 0., 1.],\n",
       "       [1., 0., 0., 0., 0., 0., 0., 0., 0., 1.],\n",
       "       [1., 0., 0., 0., 0., 0., 0., 0., 0., 1.],\n",
       "       [1., 0., 0., 0., 0., 0., 0., 0., 0., 1.],\n",
       "       [1., 0., 0., 0., 0., 0., 0., 0., 0., 1.],\n",
       "       [1., 1., 1., 1., 1., 1., 1., 1., 1., 1.]])"
      ]
     },
     "execution_count": 144,
     "metadata": {},
     "output_type": "execute_result"
    }
   ],
   "source": [
    "a = np.ones((10, 10))\n",
    "a[1:-1, 1:-1] = 0\n",
    "a"
   ]
  },
  {
   "cell_type": "code",
   "execution_count": 167,
   "id": "067dc011",
   "metadata": {},
   "outputs": [
    {
     "data": {
      "text/plain": [
       "array([[0., 0., 0., 0., 0., 0., 0., 0., 0., 0.],\n",
       "       [0., 1., 1., 1., 1., 1., 1., 1., 1., 0.],\n",
       "       [0., 1., 1., 1., 1., 1., 1., 1., 1., 0.],\n",
       "       [0., 1., 1., 1., 1., 1., 1., 1., 1., 0.],\n",
       "       [0., 1., 1., 1., 1., 1., 1., 1., 1., 0.],\n",
       "       [0., 1., 1., 1., 1., 1., 1., 1., 1., 0.],\n",
       "       [0., 1., 1., 1., 1., 1., 1., 1., 1., 0.],\n",
       "       [0., 1., 1., 1., 1., 1., 1., 1., 1., 0.],\n",
       "       [0., 1., 1., 1., 1., 1., 1., 1., 1., 0.],\n",
       "       [0., 0., 0., 0., 0., 0., 0., 0., 0., 0.]])"
      ]
     },
     "execution_count": 167,
     "metadata": {},
     "output_type": "execute_result"
    }
   ],
   "source": [
    "b = np.ones((10, 10))\n",
    "b[[0, -1], :] = 0\n",
    "b[:, [0, -1]] = 0\n",
    "b"
   ]
  },
  {
   "cell_type": "code",
   "execution_count": 173,
   "id": "55d843b9",
   "metadata": {},
   "outputs": [
    {
     "name": "stdout",
     "output_type": "stream",
     "text": [
      "Pad an array.\n",
      "\n",
      "Parameters\n",
      "----------\n",
      "array : array_like of rank N\n",
      "    The array to pad.\n",
      "pad_width : {sequence, array_like, int}\n",
      "    Number of values padded to the edges of each axis.\n",
      "    ``((before_1, after_1), ... (before_N, after_N))`` unique pad widths\n",
      "    for each axis.\n",
      "    ``(before, after)`` or ``((before, after),)`` yields same before\n",
      "    and after pad for each axis.\n",
      "    ``(pad,)`` or ``int`` is a shortcut for before = after = pad width\n",
      "    for all axes.\n",
      "mode : str or function, optional\n",
      "    One of the following string values or a user supplied function.\n",
      "\n",
      "    'constant' (default)\n",
      "        Pads with a constant value.\n",
      "    'edge'\n",
      "        Pads with the edge values of array.\n",
      "    'linear_ramp'\n",
      "        Pads with the linear ramp between end_value and the\n",
      "        array edge value.\n",
      "    'maximum'\n",
      "        Pads with the maximum value of all or part of the\n",
      "        vector along each axis.\n",
      "    'mean'\n",
      "        Pads with the mean value of all or part of the\n",
      "        vector along each axis.\n",
      "    'median'\n",
      "        Pads with the median value of all or part of the\n",
      "        vector along each axis.\n",
      "    'minimum'\n",
      "        Pads with the minimum value of all or part of the\n",
      "        vector along each axis.\n",
      "    'reflect'\n",
      "        Pads with the reflection of the vector mirrored on\n",
      "        the first and last values of the vector along each\n",
      "        axis.\n",
      "    'symmetric'\n",
      "        Pads with the reflection of the vector mirrored\n",
      "        along the edge of the array.\n",
      "    'wrap'\n",
      "        Pads with the wrap of the vector along the axis.\n",
      "        The first values are used to pad the end and the\n",
      "        end values are used to pad the beginning.\n",
      "    'empty'\n",
      "        Pads with undefined values.\n",
      "\n",
      "        .. versionadded:: 1.17\n",
      "\n",
      "    <function>\n",
      "        Padding function, see Notes.\n",
      "stat_length : sequence or int, optional\n",
      "    Used in 'maximum', 'mean', 'median', and 'minimum'.  Number of\n",
      "    values at edge of each axis used to calculate the statistic value.\n",
      "\n",
      "    ``((before_1, after_1), ... (before_N, after_N))`` unique statistic\n",
      "    lengths for each axis.\n",
      "\n",
      "    ``(before, after)`` or ``((before, after),)`` yields same before\n",
      "    and after statistic lengths for each axis.\n",
      "\n",
      "    ``(stat_length,)`` or ``int`` is a shortcut for\n",
      "    ``before = after = statistic`` length for all axes.\n",
      "\n",
      "    Default is ``None``, to use the entire axis.\n",
      "constant_values : sequence or scalar, optional\n",
      "    Used in 'constant'.  The values to set the padded values for each\n",
      "    axis.\n",
      "\n",
      "    ``((before_1, after_1), ... (before_N, after_N))`` unique pad constants\n",
      "    for each axis.\n",
      "\n",
      "    ``(before, after)`` or ``((before, after),)`` yields same before\n",
      "    and after constants for each axis.\n",
      "\n",
      "    ``(constant,)`` or ``constant`` is a shortcut for\n",
      "    ``before = after = constant`` for all axes.\n",
      "\n",
      "    Default is 0.\n",
      "end_values : sequence or scalar, optional\n",
      "    Used in 'linear_ramp'.  The values used for the ending value of the\n",
      "    linear_ramp and that will form the edge of the padded array.\n",
      "\n",
      "    ``((before_1, after_1), ... (before_N, after_N))`` unique end values\n",
      "    for each axis.\n",
      "\n",
      "    ``(before, after)`` or ``((before, after),)`` yields same before\n",
      "    and after end values for each axis.\n",
      "\n",
      "    ``(constant,)`` or ``constant`` is a shortcut for\n",
      "    ``before = after = constant`` for all axes.\n",
      "\n",
      "    Default is 0.\n",
      "reflect_type : {'even', 'odd'}, optional\n",
      "    Used in 'reflect', and 'symmetric'.  The 'even' style is the\n",
      "    default with an unaltered reflection around the edge value.  For\n",
      "    the 'odd' style, the extended part of the array is created by\n",
      "    subtracting the reflected values from two times the edge value.\n",
      "\n",
      "Returns\n",
      "-------\n",
      "pad : ndarray\n",
      "    Padded array of rank equal to `array` with shape increased\n",
      "    according to `pad_width`.\n",
      "\n",
      "Notes\n",
      "-----\n",
      ".. versionadded:: 1.7.0\n",
      "\n",
      "For an array with rank greater than 1, some of the padding of later\n",
      "axes is calculated from padding of previous axes.  This is easiest to\n",
      "think about with a rank 2 array where the corners of the padded array\n",
      "are calculated by using padded values from the first axis.\n",
      "\n",
      "The padding function, if used, should modify a rank 1 array in-place. It\n",
      "has the following signature::\n",
      "\n",
      "    padding_func(vector, iaxis_pad_width, iaxis, kwargs)\n",
      "\n",
      "where\n",
      "\n",
      "    vector : ndarray\n",
      "        A rank 1 array already padded with zeros.  Padded values are\n",
      "        vector[:iaxis_pad_width[0]] and vector[-iaxis_pad_width[1]:].\n",
      "    iaxis_pad_width : tuple\n",
      "        A 2-tuple of ints, iaxis_pad_width[0] represents the number of\n",
      "        values padded at the beginning of vector where\n",
      "        iaxis_pad_width[1] represents the number of values padded at\n",
      "        the end of vector.\n",
      "    iaxis : int\n",
      "        The axis currently being calculated.\n",
      "    kwargs : dict\n",
      "        Any keyword arguments the function requires.\n",
      "\n",
      "Examples\n",
      "--------\n",
      ">>> a = [1, 2, 3, 4, 5]\n",
      ">>> np.pad(a, (2, 3), 'constant', constant_values=(4, 6))\n",
      "array([4, 4, 1, ..., 6, 6, 6])\n",
      "\n",
      ">>> np.pad(a, (2, 3), 'edge')\n",
      "array([1, 1, 1, ..., 5, 5, 5])\n",
      "\n",
      ">>> np.pad(a, (2, 3), 'linear_ramp', end_values=(5, -4))\n",
      "array([ 5,  3,  1,  2,  3,  4,  5,  2, -1, -4])\n",
      "\n",
      ">>> np.pad(a, (2,), 'maximum')\n",
      "array([5, 5, 1, 2, 3, 4, 5, 5, 5])\n",
      "\n",
      ">>> np.pad(a, (2,), 'mean')\n",
      "array([3, 3, 1, 2, 3, 4, 5, 3, 3])\n",
      "\n",
      ">>> np.pad(a, (2,), 'median')\n",
      "array([3, 3, 1, 2, 3, 4, 5, 3, 3])\n",
      "\n",
      ">>> a = [[1, 2], [3, 4]]\n",
      ">>> np.pad(a, ((3, 2), (2, 3)), 'minimum')\n",
      "array([[1, 1, 1, 2, 1, 1, 1],\n",
      "       [1, 1, 1, 2, 1, 1, 1],\n",
      "       [1, 1, 1, 2, 1, 1, 1],\n",
      "       [1, 1, 1, 2, 1, 1, 1],\n",
      "       [3, 3, 3, 4, 3, 3, 3],\n",
      "       [1, 1, 1, 2, 1, 1, 1],\n",
      "       [1, 1, 1, 2, 1, 1, 1]])\n",
      "\n",
      ">>> a = [1, 2, 3, 4, 5]\n",
      ">>> np.pad(a, (2, 3), 'reflect')\n",
      "array([3, 2, 1, 2, 3, 4, 5, 4, 3, 2])\n",
      "\n",
      ">>> np.pad(a, (2, 3), 'reflect', reflect_type='odd')\n",
      "array([-1,  0,  1,  2,  3,  4,  5,  6,  7,  8])\n",
      "\n",
      ">>> np.pad(a, (2, 3), 'symmetric')\n",
      "array([2, 1, 1, 2, 3, 4, 5, 5, 4, 3])\n",
      "\n",
      ">>> np.pad(a, (2, 3), 'symmetric', reflect_type='odd')\n",
      "array([0, 1, 1, 2, 3, 4, 5, 5, 6, 7])\n",
      "\n",
      ">>> np.pad(a, (2, 3), 'wrap')\n",
      "array([4, 5, 1, 2, 3, 4, 5, 1, 2, 3])\n",
      "\n",
      ">>> def pad_with(vector, pad_width, iaxis, kwargs):\n",
      "...     pad_value = kwargs.get('padder', 10)\n",
      "...     vector[:pad_width[0]] = pad_value\n",
      "...     vector[-pad_width[1]:] = pad_value\n",
      ">>> a = np.arange(6)\n",
      ">>> a = a.reshape((2, 3))\n",
      ">>> np.pad(a, 2, pad_with)\n",
      "array([[10, 10, 10, 10, 10, 10, 10],\n",
      "       [10, 10, 10, 10, 10, 10, 10],\n",
      "       [10, 10,  0,  1,  2, 10, 10],\n",
      "       [10, 10,  3,  4,  5, 10, 10],\n",
      "       [10, 10, 10, 10, 10, 10, 10],\n",
      "       [10, 10, 10, 10, 10, 10, 10]])\n",
      ">>> np.pad(a, 2, pad_with, padder=100)\n",
      "array([[100, 100, 100, 100, 100, 100, 100],\n",
      "       [100, 100, 100, 100, 100, 100, 100],\n",
      "       [100, 100,   0,   1,   2, 100, 100],\n",
      "       [100, 100,   3,   4,   5, 100, 100],\n",
      "       [100, 100, 100, 100, 100, 100, 100],\n",
      "       [100, 100, 100, 100, 100, 100, 100]])\n"
     ]
    }
   ],
   "source": [
    "np.info(np.pad)"
   ]
  },
  {
   "cell_type": "code",
   "execution_count": 186,
   "id": "ba6164a6",
   "metadata": {},
   "outputs": [
    {
     "data": {
      "text/plain": [
       "array([[ 0,  0,  0,  0,  0,  0,  0,  0],\n",
       "       [ 0,  0,  0,  0,  0,  0,  0,  0],\n",
       "       [ 0,  0,  3,  9,  2,  3,  0,  0],\n",
       "       [ 0,  0,  9,  9,  3,  3,  0,  0],\n",
       "       [ 0,  0, 10,  7,  0,  0,  0,  0],\n",
       "       [ 0,  0,  0,  0,  0,  0,  0,  0],\n",
       "       [ 0,  0,  0,  0,  0,  0,  0,  0]])"
      ]
     },
     "execution_count": 186,
     "metadata": {},
     "output_type": "execute_result"
    }
   ],
   "source": [
    "a = np.random.randint(0, 11, (3, 4))\n",
    "a = np.pad(a, 2, 'constant', constant_values=0)\n",
    "a"
   ]
  },
  {
   "cell_type": "code",
   "execution_count": 34,
   "id": "76df2f90",
   "metadata": {},
   "outputs": [
    {
     "name": "stdout",
     "output_type": "stream",
     "text": [
      "nan\n",
      "False\n",
      "False\n",
      "nan\n",
      "True\n",
      "False\n"
     ]
    }
   ],
   "source": [
    "print(0 * np.nan)\n",
    "print(np.nan == np.nan)\n",
    "print(np.inf > np.nan)\n",
    "print(np.nan - np.nan)\n",
    "print(np.nan in set([np.nan]))\n",
    "print(0.3 == 3 * 0.1)"
   ]
  },
  {
   "cell_type": "code",
   "execution_count": 46,
   "id": "3555c1f0",
   "metadata": {},
   "outputs": [
    {
     "data": {
      "text/plain": [
       "array([[0, 0, 0, 0, 0],\n",
       "       [1, 0, 0, 0, 0],\n",
       "       [0, 2, 0, 0, 0],\n",
       "       [0, 0, 3, 0, 0],\n",
       "       [0, 0, 0, 4, 0]])"
      ]
     },
     "execution_count": 46,
     "metadata": {},
     "output_type": "execute_result"
    }
   ],
   "source": [
    "a = 1 + np.arange(4)\n",
    "\n",
    "A = np.diag(a, -1)\n",
    "A"
   ]
  },
  {
   "cell_type": "code",
   "execution_count": 54,
   "id": "3de8e6ce",
   "metadata": {},
   "outputs": [
    {
     "data": {
      "text/plain": [
       "array([[0., 1., 0., 1., 0., 1., 0., 1.],\n",
       "       [1., 0., 1., 0., 1., 0., 1., 0.],\n",
       "       [0., 1., 0., 1., 0., 1., 0., 1.],\n",
       "       [1., 0., 1., 0., 1., 0., 1., 0.],\n",
       "       [0., 1., 0., 1., 0., 1., 0., 1.],\n",
       "       [1., 0., 1., 0., 1., 0., 1., 0.],\n",
       "       [0., 1., 0., 1., 0., 1., 0., 1.],\n",
       "       [1., 0., 1., 0., 1., 0., 1., 0.]])"
      ]
     },
     "execution_count": 54,
     "metadata": {},
     "output_type": "execute_result"
    }
   ],
   "source": [
    "a = np.zeros((8, 8))\n",
    "a[1::2, ::2] = 1\n",
    "a[::2, 1::2] = 1\n",
    "a"
   ]
  },
  {
   "cell_type": "code",
   "execution_count": 56,
   "id": "754e8f8e",
   "metadata": {},
   "outputs": [
    {
     "data": {
      "text/plain": [
       "array([[1., 0., 1., 0., 1., 0., 1., 0.],\n",
       "       [0., 1., 0., 1., 0., 1., 0., 1.],\n",
       "       [1., 0., 1., 0., 1., 0., 1., 0.],\n",
       "       [0., 1., 0., 1., 0., 1., 0., 1.],\n",
       "       [1., 0., 1., 0., 1., 0., 1., 0.],\n",
       "       [0., 1., 0., 1., 0., 1., 0., 1.],\n",
       "       [1., 0., 1., 0., 1., 0., 1., 0.],\n",
       "       [0., 1., 0., 1., 0., 1., 0., 1.]])"
      ]
     },
     "execution_count": 56,
     "metadata": {},
     "output_type": "execute_result"
    }
   ],
   "source": [
    "a = np.zeros((8, 8))\n",
    "a[1::2, 1::2] = 1\n",
    "a[::2, ::2] = 1\n",
    "a"
   ]
  },
  {
   "cell_type": "code",
   "execution_count": 61,
   "id": "477717ff",
   "metadata": {},
   "outputs": [
    {
     "data": {
      "text/plain": [
       "(1, 5, 3)"
      ]
     },
     "execution_count": 61,
     "metadata": {},
     "output_type": "execute_result"
    }
   ],
   "source": [
    "np.unravel_index(99, (6, 7, 8))\n"
   ]
  },
  {
   "cell_type": "code",
   "execution_count": 75,
   "id": "5f84f422",
   "metadata": {},
   "outputs": [
    {
     "data": {
      "text/plain": [
       "array([[1, 0, 1, 0, 1, 0, 1, 0],\n",
       "       [0, 1, 0, 1, 0, 1, 0, 1],\n",
       "       [1, 0, 1, 0, 1, 0, 1, 0],\n",
       "       [0, 1, 0, 1, 0, 1, 0, 1],\n",
       "       [1, 0, 1, 0, 1, 0, 1, 0],\n",
       "       [0, 1, 0, 1, 0, 1, 0, 1],\n",
       "       [1, 0, 1, 0, 1, 0, 1, 0],\n",
       "       [0, 1, 0, 1, 0, 1, 0, 1]])"
      ]
     },
     "execution_count": 75,
     "metadata": {},
     "output_type": "execute_result"
    }
   ],
   "source": [
    "z = np.eye(2, dtype=int)\n",
    "\n",
    "Z = np.tile(A=z, reps=(4, 4))\n",
    "Z"
   ]
  },
  {
   "cell_type": "code",
   "execution_count": 35,
   "id": "10b706ac",
   "metadata": {},
   "outputs": [
    {
     "data": {
      "text/plain": [
       "array([[3.11323943e-01, 2.48084232e-02, 2.30268541e-01, 3.42272452e-01,\n",
       "        9.13266407e-02],\n",
       "       [3.75515766e-01, 1.01586267e-02, 3.88455404e-01, 2.25554598e-01,\n",
       "        3.15605241e-04],\n",
       "       [3.14211363e-01, 1.64213857e-01, 2.67553533e-01, 2.01082774e-01,\n",
       "        5.29384730e-02],\n",
       "       [2.26224969e-01, 2.69055101e-01, 2.81711626e-01, 6.21659773e-02,\n",
       "        1.60842328e-01],\n",
       "       [3.78568817e-01, 3.04010888e-01, 8.87706663e-02, 1.90643003e-01,\n",
       "        3.80066251e-02]])"
      ]
     },
     "execution_count": 35,
     "metadata": {},
     "output_type": "execute_result"
    }
   ],
   "source": [
    "import numpy as np\n",
    "a = np.random.random((5, 5))\n",
    "\n",
    "a = a / np.sum(a, axis=1)[:, None]\n",
    "a"
   ]
  },
  {
   "cell_type": "code",
   "execution_count": 46,
   "id": "0efdcde6",
   "metadata": {},
   "outputs": [
    {
     "data": {
      "text/plain": [
       "dtype([('red', 'u1'), ('ared', 'u1'), ('bred', 'u1'), ('cred', 'u1')])"
      ]
     },
     "execution_count": 46,
     "metadata": {},
     "output_type": "execute_result"
    }
   ],
   "source": [
    "color = np.dtype([\n",
    "    ('red', np.uint8),\n",
    "    ('ared', np.uint8),\n",
    "    ('bred', np.uint8),\n",
    "    ('cred', np.uint8),\n",
    "])\n",
    "color"
   ]
  },
  {
   "cell_type": "code",
   "execution_count": 48,
   "id": "7ea76832",
   "metadata": {},
   "outputs": [
    {
     "data": {
      "text/plain": [
       "dtype('uint8')"
      ]
     },
     "execution_count": 48,
     "metadata": {},
     "output_type": "execute_result"
    }
   ],
   "source": [
    "color['ared']"
   ]
  },
  {
   "cell_type": "code",
   "execution_count": 54,
   "id": "ddf75add",
   "metadata": {},
   "outputs": [],
   "source": [
    "a = np.ones((5, 3))\n",
    "b = np.ones((3, 2))\n"
   ]
  },
  {
   "cell_type": "code",
   "execution_count": 55,
   "id": "8ac63919",
   "metadata": {},
   "outputs": [
    {
     "data": {
      "text/plain": [
       "array([[3., 3.],\n",
       "       [3., 3.],\n",
       "       [3., 3.],\n",
       "       [3., 3.],\n",
       "       [3., 3.]])"
      ]
     },
     "execution_count": 55,
     "metadata": {},
     "output_type": "execute_result"
    }
   ],
   "source": [
    "a @ b"
   ]
  },
  {
   "cell_type": "code",
   "execution_count": null,
   "id": "24a4a80a",
   "metadata": {},
   "outputs": [
    {
     "data": {
      "text/plain": [
       "array([2, 5, 6, 8, 7, 8, 7, 6, 3, 9, 3, 3, 3, 8, 1, 3, 9, 8, 6, 7])"
      ]
     },
     "execution_count": 59,
     "metadata": {},
     "output_type": "execute_result"
    }
   ],
   "source": [
    "a = np.random.randint(0, 10, 20)\n",
    "a[(a > 3) & (a < 8)] *= -1\n",
    "a"
   ]
  },
  {
   "cell_type": "code",
   "execution_count": 69,
   "id": "919717d0",
   "metadata": {},
   "outputs": [
    {
     "data": {
      "text/plain": [
       "array([0, 1, 2, 3, 4])"
      ]
     },
     "execution_count": 69,
     "metadata": {},
     "output_type": "execute_result"
    }
   ],
   "source": [
    "a = np.arange(5)\n",
    "a"
   ]
  },
  {
   "cell_type": "code",
   "execution_count": 2,
   "id": "4300f935",
   "metadata": {},
   "outputs": [
    {
     "name": "stdout",
     "output_type": "stream",
     "text": [
      "Исходный вектор:\n",
      " [0 1 2 3 4 5 6 7 8 9] \n",
      "\n",
      "z**z:\n",
      " [        1         1         4        27       256      3125     46656\n",
      "    823543  16777216 387420489] \n",
      "\n",
      "2 << z >> 2:\n",
      " [  0   1   2   4   8  16  32  64 128 256] \n",
      "\n",
      "z <- z\n",
      " [False False False False False False False False False False] \n",
      "\n",
      "1j*z\n",
      " [0.+0.j 0.+1.j 0.+2.j 0.+3.j 0.+4.j 0.+5.j 0.+6.j 0.+7.j 0.+8.j 0.+9.j] \n",
      "\n",
      "z/1/1 [0. 1. 2. 3. 4. 5. 6. 7. 8. 9.] \n",
      "\n"
     ]
    }
   ],
   "source": [
    "z=np.arange(10)\n",
    "print('Исходный вектор:\\n',z, '\\n')\n",
    "print('z**z:\\n', z**z, '\\n')\n",
    "print('2 << z >> 2:\\n', 2 << z >> 2, '\\n')\n",
    "print('z <- z\\n', z <- z, '\\n')\n",
    "print('1j*z\\n', 1j*z, '\\n')\n",
    "print('z/1/1', z/1/1, '\\n')"
   ]
  },
  {
   "cell_type": "code",
   "execution_count": 6,
   "id": "51320b01",
   "metadata": {},
   "outputs": [
    {
     "name": "stderr",
     "output_type": "stream",
     "text": [
      "C:\\Users\\Admin\\AppData\\Local\\Temp\\ipykernel_24772\\699728972.py:1: RuntimeWarning: invalid value encountered in cast\n",
      "  np.array([np.nan]).astype(int).astype(float)\n"
     ]
    },
    {
     "data": {
      "text/plain": [
       "array([-2.14748365e+09])"
      ]
     },
     "execution_count": 6,
     "metadata": {},
     "output_type": "execute_result"
    }
   ],
   "source": [
    "np.array([np.nan]).astype(int).astype(float)"
   ]
  },
  {
   "cell_type": "code",
   "execution_count": 8,
   "id": "d90ee072",
   "metadata": {},
   "outputs": [
    {
     "data": {
      "text/plain": [
       "array([-1.75, -1.5 , -1.25, -1.  , -0.75, -0.5 , -0.25,  0.  ,  0.25,\n",
       "        0.5 ,  0.75,  1.  ,  1.25,  1.5 ,  1.75])"
      ]
     },
     "execution_count": 8,
     "metadata": {},
     "output_type": "execute_result"
    }
   ],
   "source": [
    "a = (np.arange(15)-7)/4\n",
    "a"
   ]
  },
  {
   "cell_type": "code",
   "execution_count": 11,
   "id": "eb4b8e34",
   "metadata": {},
   "outputs": [
    {
     "data": {
      "text/plain": [
       "array([-2., -2., -1., -1., -1., -0., -0.,  0.,  0.,  0.,  1.,  1.,  1.,\n",
       "        2.,  2.])"
      ]
     },
     "execution_count": 11,
     "metadata": {},
     "output_type": "execute_result"
    }
   ],
   "source": [
    "a.round()"
   ]
  },
  {
   "cell_type": "code",
   "execution_count": 14,
   "id": "06d58878",
   "metadata": {},
   "outputs": [
    {
     "data": {
      "text/plain": [
       "array([-2., -2., -2., -1., -1., -1., -1.,  0.,  1.,  1.,  1.,  1.,  2.,\n",
       "        2.,  2.])"
      ]
     },
     "execution_count": 14,
     "metadata": {},
     "output_type": "execute_result"
    }
   ],
   "source": [
    "np.copysign(np.ceil(np.abs(a)), a)"
   ]
  },
  {
   "cell_type": "code",
   "execution_count": 17,
   "id": "ac0d16fe",
   "metadata": {},
   "outputs": [
    {
     "data": {
      "text/plain": [
       "array([-2., -2., -2., -1., -1., -1., -1.,  0.,  1.,  1.,  1.,  1.,  2.,\n",
       "        2.,  2.])"
      ]
     },
     "execution_count": 17,
     "metadata": {},
     "output_type": "execute_result"
    }
   ],
   "source": [
    "np.where(a>0, np.ceil(a), np.floor(a))"
   ]
  },
  {
   "cell_type": "code",
   "execution_count": 20,
   "id": "244f1049",
   "metadata": {},
   "outputs": [
    {
     "name": "stdout",
     "output_type": "stream",
     "text": [
      "[2 2 0 9 7 5 3 7 5 2] [4 7 9 8 5 9 2 2 7 6]\n"
     ]
    }
   ],
   "source": [
    "a = np.random.randint(0,10,10)\n",
    "b = np.random.randint(0,10,10)\n",
    "\n",
    "print(a, b)"
   ]
  },
  {
   "cell_type": "code",
   "execution_count": 21,
   "id": "8067e2af",
   "metadata": {},
   "outputs": [
    {
     "data": {
      "text/plain": [
       "array([2, 5, 7, 9])"
      ]
     },
     "execution_count": 21,
     "metadata": {},
     "output_type": "execute_result"
    }
   ],
   "source": [
    "np.intersect1d(a, b)"
   ]
  },
  {
   "cell_type": "code",
   "execution_count": 37,
   "id": "f27f02c2",
   "metadata": {},
   "outputs": [],
   "source": [
    "deafults = np.seterr(all='ignore')\n",
    "#Z = np.ones(1) / 0\n",
    "#Z"
   ]
  },
  {
   "cell_type": "code",
   "execution_count": null,
   "id": "16221316",
   "metadata": {},
   "outputs": [
    {
     "data": {
      "text/plain": [
       "True"
      ]
     },
     "execution_count": 42,
     "metadata": {},
     "output_type": "execute_result"
    }
   ],
   "source": [
    "np.sqrt(-1) == np.emath.sqrt(-1)"
   ]
  },
  {
   "cell_type": "code",
   "execution_count": 47,
   "id": "2e52c673",
   "metadata": {},
   "outputs": [
    {
     "data": {
      "text/plain": [
       "numpy.datetime64('2025-04-20')"
      ]
     },
     "execution_count": 47,
     "metadata": {},
     "output_type": "execute_result"
    }
   ],
   "source": [
    "np.datetime64('today') - np.timedelta64(1)"
   ]
  },
  {
   "cell_type": "code",
   "execution_count": 60,
   "id": "9f73433c",
   "metadata": {},
   "outputs": [
    {
     "data": {
      "text/plain": [
       "array(['2016-07-01', '2016-07-02', '2016-07-03', ..., '2023-07-29',\n",
       "       '2023-07-30', '2023-07-31'], dtype='datetime64[D]')"
      ]
     },
     "execution_count": 60,
     "metadata": {},
     "output_type": "execute_result"
    }
   ],
   "source": [
    "np.arange('2016-07', '2023-08', dtype='datetime64[D]')"
   ]
  },
  {
   "cell_type": "code",
   "execution_count": 69,
   "id": "4d3e6098",
   "metadata": {},
   "outputs": [
    {
     "data": {
      "text/plain": [
       "array([-1.5, -1.5, -1.5])"
      ]
     },
     "execution_count": 69,
     "metadata": {},
     "output_type": "execute_result"
    }
   ],
   "source": [
    "A = np.ones(3)\n",
    "B = np.ones(3) * 2\n",
    "np.add(A, B, out=B)\n",
    "np.divide(A, 2, out=A)\n",
    "np.negative(A, out=A)\n",
    "np.multiply(A, B, out=A)\n",
    "A"
   ]
  },
  {
   "cell_type": "code",
   "execution_count": 73,
   "id": "b6ca4c0b",
   "metadata": {},
   "outputs": [
    {
     "data": {
      "text/plain": [
       "array([5.12861085, 4.94221522, 4.27128298, 6.57207591, 5.02466218,\n",
       "       5.46404857, 5.83790598, 1.99628124, 4.5185145 , 8.6221624 ])"
      ]
     },
     "execution_count": 73,
     "metadata": {},
     "output_type": "execute_result"
    }
   ],
   "source": [
    "a = np.random.random(10) * 10\n",
    "a"
   ]
  },
  {
   "cell_type": "code",
   "execution_count": 75,
   "id": "daf94b1c",
   "metadata": {},
   "outputs": [
    {
     "data": {
      "text/plain": [
       "array([5., 4., 4., 6., 5., 5., 5., 1., 4., 8.])"
      ]
     },
     "execution_count": 75,
     "metadata": {},
     "output_type": "execute_result"
    }
   ],
   "source": [
    "np.floor(a)"
   ]
  },
  {
   "cell_type": "code",
   "execution_count": 76,
   "id": "4e233997",
   "metadata": {},
   "outputs": [
    {
     "data": {
      "text/plain": [
       "array([5, 4, 4, 6, 5, 5, 5, 1, 4, 8])"
      ]
     },
     "execution_count": 76,
     "metadata": {},
     "output_type": "execute_result"
    }
   ],
   "source": [
    "a.astype(int)"
   ]
  },
  {
   "cell_type": "code",
   "execution_count": null,
   "id": "6190ee89",
   "metadata": {},
   "outputs": [
    {
     "data": {
      "text/plain": [
       "array([5., 4., 4., 6., 5., 5., 5., 1., 4., 8.])"
      ]
     },
     "execution_count": 78,
     "metadata": {},
     "output_type": "execute_result"
    }
   ],
   "source": [
    "a//1"
   ]
  },
  {
   "cell_type": "code",
   "execution_count": 79,
   "id": "9ecdda36",
   "metadata": {},
   "outputs": [
    {
     "data": {
      "text/plain": [
       "array([5., 4., 4., 6., 5., 5., 5., 1., 4., 8.])"
      ]
     },
     "execution_count": 79,
     "metadata": {},
     "output_type": "execute_result"
    }
   ],
   "source": [
    "a - a%1"
   ]
  },
  {
   "cell_type": "code",
   "execution_count": null,
   "id": "79726342",
   "metadata": {},
   "outputs": [
    {
     "data": {
      "text/plain": [
       "array([5., 4., 4., 6., 5., 5., 5., 1., 4., 8.])"
      ]
     },
     "execution_count": 80,
     "metadata": {},
     "output_type": "execute_result"
    }
   ],
   "source": [
    "#Поэлементно получает число которое ближе к 0, отличается от floor тем, что floor для -1.7 выдаст -2, а этот -1\n",
    "np.trunc(a)"
   ]
  },
  {
   "cell_type": "code",
   "execution_count": null,
   "id": "03935e11",
   "metadata": {},
   "outputs": [
    {
     "data": {
      "text/plain": [
       "array([[0, 0, 0, 0, 0],\n",
       "       [1, 1, 1, 1, 1],\n",
       "       [2, 2, 2, 2, 2],\n",
       "       [3, 3, 3, 3, 3],\n",
       "       [4, 4, 4, 4, 4]])"
      ]
     },
     "execution_count": 90,
     "metadata": {},
     "output_type": "execute_result"
    }
   ],
   "source": [
    "a = np.arange(5)\n",
    "np.tile(a, (5, 1))"
   ]
  },
  {
   "cell_type": "code",
   "execution_count": 91,
   "id": "28665ab4",
   "metadata": {},
   "outputs": [
    {
     "data": {
      "text/plain": [
       "array([[0., 1., 2., 3., 4.],\n",
       "       [0., 1., 2., 3., 4.],\n",
       "       [0., 1., 2., 3., 4.],\n",
       "       [0., 1., 2., 3., 4.],\n",
       "       [0., 1., 2., 3., 4.]])"
      ]
     },
     "execution_count": 91,
     "metadata": {},
     "output_type": "execute_result"
    }
   ],
   "source": [
    "a = np.zeros((5, 5))\n",
    "\n",
    "a += np.arange(5)\n",
    "a"
   ]
  },
  {
   "cell_type": "code",
   "execution_count": 120,
   "id": "ae1d9e71",
   "metadata": {},
   "outputs": [
    {
     "data": {
      "text/plain": [
       "array([0.000e+00, 1.000e+00, 2.000e+00, ..., 1.087e+03, 1.088e+03,\n",
       "       1.089e+03])"
      ]
     },
     "execution_count": 120,
     "metadata": {},
     "output_type": "execute_result"
    }
   ],
   "source": [
    "def gen():\n",
    "    for a in range(1090000):\n",
    "        yield a\n",
    "\n",
    "t = gen()\n",
    "\n",
    "np.fromiter(t, dtype=float, count=1090)"
   ]
  },
  {
   "cell_type": "code",
   "execution_count": 126,
   "id": "a9cd08aa",
   "metadata": {},
   "outputs": [
    {
     "data": {
      "text/plain": [
       "array([0.09090909, 0.18181818, 0.27272727, 0.36363636, 0.45454545,\n",
       "       0.54545455, 0.63636364, 0.72727273, 0.81818182, 0.90909091])"
      ]
     },
     "execution_count": 126,
     "metadata": {},
     "output_type": "execute_result"
    }
   ],
   "source": [
    "a = np.linspace(0, 1, 11, endpoint=False)[1:]\n",
    "a"
   ]
  },
  {
   "cell_type": "code",
   "execution_count": 148,
   "id": "05f33f80",
   "metadata": {},
   "outputs": [
    {
     "data": {
      "text/plain": [
       "array([0.00977591, 0.03353855, 0.08115742, 0.14770662, 0.15179573,\n",
       "       0.42736152, 0.58786142, 0.61633623, 0.92986453, 0.93779683])"
      ]
     },
     "execution_count": 148,
     "metadata": {},
     "output_type": "execute_result"
    }
   ],
   "source": [
    "a = np.random.random(10)\n",
    "a.sort()\n",
    "a"
   ]
  },
  {
   "cell_type": "code",
   "execution_count": null,
   "id": "2159c3d3",
   "metadata": {},
   "outputs": [
    {
     "name": "stdout",
     "output_type": "stream",
     "text": [
      "[0.10588923 0.22170815 0.29158223 0.3721532  0.38266312 0.40091935\n",
      " 0.69386469 0.74214026 0.79495207 0.95296071]\n"
     ]
    }
   ],
   "source": [
    "a = np.random.random(10)\n",
    "a = np.sort(a)  # Возвращает новый отсортированный массив, не меняя `a`\n",
    "print(a)\n",
    "\n",
    "#np.sort(a) можно использовать как хочешь, а вот a.sort() солртирует на месте на создавая копии и возвращяет нан, так что не нужно его присваивать , нгужно просто вызвать a.sort()"
   ]
  },
  {
   "cell_type": "code",
   "execution_count": null,
   "id": "c4e27839",
   "metadata": {},
   "outputs": [
    {
     "name": "stdout",
     "output_type": "stream",
     "text": [
      "[0.00766131 0.07381263 0.11905093 0.18723745 0.23746358 0.49143441\n",
      " 0.55447321 0.64611004 0.68163713 0.70083943]\n"
     ]
    }
   ],
   "source": [
    "import numpy as np\n",
    "\n",
    "a = np.random.random(10)\n",
    "a.sort()"
   ]
  },
  {
   "cell_type": "code",
   "execution_count": 1,
   "id": "e271be8c",
   "metadata": {},
   "outputs": [],
   "source": [
    "import numpy as np"
   ]
  },
  {
   "cell_type": "code",
   "execution_count": 3,
   "id": "df2e131f",
   "metadata": {},
   "outputs": [
    {
     "data": {
      "text/plain": [
       "array([0, 1, 2, 3, 4, 5, 6, 7, 8, 9])"
      ]
     },
     "execution_count": 3,
     "metadata": {},
     "output_type": "execute_result"
    }
   ],
   "source": [
    "a = np.arange(10)\n",
    "a"
   ]
  },
  {
   "cell_type": "code",
   "execution_count": 7,
   "id": "c7ef46fd",
   "metadata": {},
   "outputs": [
    {
     "name": "stdout",
     "output_type": "stream",
     "text": [
      "sum(list): 2.0322025999776088\n",
      "np.sum: 4.088381900044624\n",
      "np.add.reduce: 1.9566532000317238\n"
     ]
    }
   ],
   "source": [
    "import numpy as np\n",
    "from timeit import timeit\n",
    "\n",
    "arr_list = [1, 2, 3, 4, 5]  # Python list\n",
    "arr_np = np.array(arr_list)  # NumPy array\n",
    "\n",
    "# Варианты суммирования\n",
    "def test_sum_list(): \n",
    "    arr = list(arr_np)\n",
    "    return sum(arr)\n",
    "\n",
    "def test_np_sum(): \n",
    "    return np.sum(arr_np)\n",
    "\n",
    "def test_np_add_reduce(): \n",
    "    return np.add.reduce(arr_np)\n",
    "\n",
    "# Замеряем время (1_000_000 запусков)\n",
    "print(\"sum(list):\", timeit(test_sum_list, number=1_000_000))\n",
    "print(\"np.sum:\", timeit(test_np_sum, number=1_000_000))\n",
    "print(\"np.add.reduce:\", timeit(test_np_add_reduce, number=1_000_000))"
   ]
  },
  {
   "cell_type": "code",
   "execution_count": null,
   "id": "bf7a1884",
   "metadata": {},
   "outputs": [
    {
     "data": {
      "text/plain": [
       "array([10, 10, 10, 10, 10])"
      ]
     },
     "execution_count": 15,
     "metadata": {},
     "output_type": "execute_result"
    }
   ],
   "source": [
    "a = np.arange(5)\n",
    "A = np.tile(a, (5, 1))\n",
    "\n",
    "#Reduces `array`'s dimension by one, by applying ufunc along one axis.\n",
    "np.add.reduce(A, axis=1)"
   ]
  },
  {
   "cell_type": "code",
   "execution_count": 16,
   "id": "e536eb69",
   "metadata": {},
   "outputs": [],
   "source": [
    "a = np.random.randint(0, 2, 10)\n",
    "b = np.random.randint(0, 2, 10)"
   ]
  },
  {
   "cell_type": "code",
   "execution_count": 25,
   "id": "5e6cf643",
   "metadata": {},
   "outputs": [
    {
     "data": {
      "text/plain": [
       "False"
      ]
     },
     "execution_count": 25,
     "metadata": {},
     "output_type": "execute_result"
    }
   ],
   "source": [
    "res = (a == b).astype(int)\n",
    "res = np.multiply.reduce(res).astype(bool)\n",
    "res"
   ]
  },
  {
   "cell_type": "code",
   "execution_count": 26,
   "id": "10861e71",
   "metadata": {},
   "outputs": [
    {
     "data": {
      "text/plain": [
       "False"
      ]
     },
     "execution_count": 26,
     "metadata": {},
     "output_type": "execute_result"
    }
   ],
   "source": [
    "np.allclose(a, b)"
   ]
  },
  {
   "cell_type": "code",
   "execution_count": 27,
   "id": "3ffe4711",
   "metadata": {},
   "outputs": [
    {
     "data": {
      "text/plain": [
       "False"
      ]
     },
     "execution_count": 27,
     "metadata": {},
     "output_type": "execute_result"
    }
   ],
   "source": [
    "np.array_equal(a, b)"
   ]
  },
  {
   "cell_type": "code",
   "execution_count": 31,
   "id": "3439c9a6",
   "metadata": {},
   "outputs": [
    {
     "data": {
      "text/plain": [
       "True"
      ]
     },
     "execution_count": 31,
     "metadata": {},
     "output_type": "execute_result"
    }
   ],
   "source": [
    "c = b\n",
    "(b == b).all()"
   ]
  },
  {
   "cell_type": "code",
   "execution_count": 37,
   "id": "e1d268f0",
   "metadata": {},
   "outputs": [
    {
     "data": {
      "text/plain": [
       "array([2, 1, 1, 1, 1, 2, 0, 0, 2, 1])"
      ]
     },
     "execution_count": 37,
     "metadata": {},
     "output_type": "execute_result"
    }
   ],
   "source": [
    "a = np.random.randint(0, 3, 10)\n",
    "a"
   ]
  },
  {
   "cell_type": "code",
   "execution_count": 39,
   "id": "c37d9ea5",
   "metadata": {},
   "outputs": [],
   "source": [
    "a.setflags(write=False)"
   ]
  },
  {
   "cell_type": "code",
   "execution_count": 40,
   "id": "bb07a273",
   "metadata": {},
   "outputs": [
    {
     "data": {
      "text/plain": [
       "array([2, 1, 1, 1, 1, 2, 0, 0, 2, 1])"
      ]
     },
     "execution_count": 40,
     "metadata": {},
     "output_type": "execute_result"
    }
   ],
   "source": [
    "a[0] == 999\n",
    "a"
   ]
  },
  {
   "cell_type": "code",
   "execution_count": 56,
   "id": "0cab6ea2",
   "metadata": {},
   "outputs": [
    {
     "data": {
      "text/plain": [
       "array([4, 0, 9, 2, 8, 9, 1, 1, 6, 8])"
      ]
     },
     "execution_count": 56,
     "metadata": {},
     "output_type": "execute_result"
    }
   ],
   "source": [
    "a = np.random.randint(0, 10, 10)\n",
    "a"
   ]
  },
  {
   "cell_type": "code",
   "execution_count": 44,
   "id": "977f3108",
   "metadata": {},
   "outputs": [
    {
     "data": {
      "text/plain": [
       "array([2, 5, 0, 2, 5, 0, 3, 4, 0, 3])"
      ]
     },
     "execution_count": 44,
     "metadata": {},
     "output_type": "execute_result"
    }
   ],
   "source": [
    "max = np.max(a)\n",
    "a[a == max] = 0\n",
    "a"
   ]
  },
  {
   "cell_type": "code",
   "execution_count": 57,
   "id": "aee30d35",
   "metadata": {},
   "outputs": [
    {
     "data": {
      "text/plain": [
       "array([4, 0, 0, 2, 8, 9, 1, 1, 6, 8])"
      ]
     },
     "execution_count": 57,
     "metadata": {},
     "output_type": "execute_result"
    }
   ],
   "source": [
    "a[a.argmax()] = 0\n",
    "a"
   ]
  },
  {
   "cell_type": "code",
   "execution_count": 52,
   "id": "aa1638f2",
   "metadata": {},
   "outputs": [
    {
     "data": {
      "text/plain": [
       "array([6, 0, 0, 2, 6, 3, 8, 2, 4, 0])"
      ]
     },
     "execution_count": 52,
     "metadata": {},
     "output_type": "execute_result"
    }
   ],
   "source": [
    "max = np.max(a)\n",
    "a = np.where(a == max, 0, a)\n",
    "a"
   ]
  },
  {
   "cell_type": "code",
   "execution_count": 62,
   "id": "44ccb861",
   "metadata": {},
   "outputs": [
    {
     "data": {
      "text/plain": [
       "array([0.  , 0.25, 0.5 , 0.75, 1.  ])"
      ]
     },
     "execution_count": 62,
     "metadata": {},
     "output_type": "execute_result"
    }
   ],
   "source": [
    "N = 4\n",
    "a = np.arange(N+1) / N\n",
    "a"
   ]
  },
  {
   "cell_type": "code",
   "execution_count": 64,
   "id": "294382ad",
   "metadata": {},
   "outputs": [
    {
     "data": {
      "text/plain": [
       "(array([[0.  , 0.25, 0.5 , 0.75, 1.  ],\n",
       "        [0.  , 0.25, 0.5 , 0.75, 1.  ],\n",
       "        [0.  , 0.25, 0.5 , 0.75, 1.  ],\n",
       "        [0.  , 0.25, 0.5 , 0.75, 1.  ],\n",
       "        [0.  , 0.25, 0.5 , 0.75, 1.  ]]),\n",
       " array([[0.  , 0.  , 0.  , 0.  , 0.  ],\n",
       "        [0.25, 0.25, 0.25, 0.25, 0.25],\n",
       "        [0.5 , 0.5 , 0.5 , 0.5 , 0.5 ],\n",
       "        [0.75, 0.75, 0.75, 0.75, 0.75],\n",
       "        [1.  , 1.  , 1.  , 1.  , 1.  ]]))"
      ]
     },
     "execution_count": 64,
     "metadata": {},
     "output_type": "execute_result"
    }
   ],
   "source": [
    "x, y = np.meshgrid(a, a)\n",
    "x, y"
   ]
  },
  {
   "cell_type": "code",
   "execution_count": 66,
   "id": "8d69a9d1",
   "metadata": {},
   "outputs": [
    {
     "data": {
      "text/plain": [
       "array([[[0.  , 0.  ],\n",
       "        [0.25, 0.  ],\n",
       "        [0.5 , 0.  ],\n",
       "        [0.75, 0.  ],\n",
       "        [1.  , 0.  ]],\n",
       "\n",
       "       [[0.  , 0.25],\n",
       "        [0.25, 0.25],\n",
       "        [0.5 , 0.25],\n",
       "        [0.75, 0.25],\n",
       "        [1.  , 0.25]],\n",
       "\n",
       "       [[0.  , 0.5 ],\n",
       "        [0.25, 0.5 ],\n",
       "        [0.5 , 0.5 ],\n",
       "        [0.75, 0.5 ],\n",
       "        [1.  , 0.5 ]],\n",
       "\n",
       "       [[0.  , 0.75],\n",
       "        [0.25, 0.75],\n",
       "        [0.5 , 0.75],\n",
       "        [0.75, 0.75],\n",
       "        [1.  , 0.75]],\n",
       "\n",
       "       [[0.  , 1.  ],\n",
       "        [0.25, 1.  ],\n",
       "        [0.5 , 1.  ],\n",
       "        [0.75, 1.  ],\n",
       "        [1.  , 1.  ]]])"
      ]
     },
     "execution_count": 66,
     "metadata": {},
     "output_type": "execute_result"
    }
   ],
   "source": [
    "np.stack((x, y), axis=-1)"
   ]
  },
  {
   "cell_type": "code",
   "execution_count": 68,
   "id": "068ea0b9",
   "metadata": {},
   "outputs": [
    {
     "data": {
      "text/plain": [
       "array([[(0.  , 0.  ), (0.25, 0.  ), (0.5 , 0.  ), (0.75, 0.  ),\n",
       "        (1.  , 0.  )],\n",
       "       [(0.  , 0.25), (0.25, 0.25), (0.5 , 0.25), (0.75, 0.25),\n",
       "        (1.  , 0.25)],\n",
       "       [(0.  , 0.5 ), (0.25, 0.5 ), (0.5 , 0.5 ), (0.75, 0.5 ),\n",
       "        (1.  , 0.5 )],\n",
       "       [(0.  , 0.75), (0.25, 0.75), (0.5 , 0.75), (0.75, 0.75),\n",
       "        (1.  , 0.75)],\n",
       "       [(0.  , 1.  ), (0.25, 1.  ), (0.5 , 1.  ), (0.75, 1.  ),\n",
       "        (1.  , 1.  )]], dtype=[('x', '<f8'), ('y', '<f8')])"
      ]
     },
     "execution_count": 68,
     "metadata": {},
     "output_type": "execute_result"
    }
   ],
   "source": [
    "N = 5  # инициируем кол-во частей разбивки области по x и по y \n",
    "Z = np.zeros((N,N), [('x',float),('y',float)])  # зададим массив для координат покрытия области со спец типом\n",
    "Z['x'], Z['y'] = np.meshgrid(np.linspace(0,1,num=N), np.linspace(0,1,num=N))\n",
    "\n",
    "Z"
   ]
  },
  {
   "cell_type": "code",
   "execution_count": 70,
   "id": "11f27d1e",
   "metadata": {},
   "outputs": [],
   "source": [
    "a = np.arange(4)\n",
    "b = a + 0.5"
   ]
  },
  {
   "cell_type": "code",
   "execution_count": 71,
   "id": "ae962418",
   "metadata": {},
   "outputs": [
    {
     "data": {
      "text/plain": [
       "array([[0.5, 1.5, 2.5, 3.5],\n",
       "       [1.5, 2.5, 3.5, 4.5],\n",
       "       [2.5, 3.5, 4.5, 5.5],\n",
       "       [3.5, 4.5, 5.5, 6.5]])"
      ]
     },
     "execution_count": 71,
     "metadata": {},
     "output_type": "execute_result"
    }
   ],
   "source": [
    "c = a[:, None] + b\n",
    "c"
   ]
  },
  {
   "cell_type": "code",
   "execution_count": 72,
   "id": "1c53b52a",
   "metadata": {},
   "outputs": [
    {
     "data": {
      "text/plain": [
       "(array([[0, 0, 0, 0],\n",
       "        [1, 1, 1, 1],\n",
       "        [2, 2, 2, 2],\n",
       "        [3, 3, 3, 3]]),\n",
       " array([[0.5, 1.5, 2.5, 3.5],\n",
       "        [0.5, 1.5, 2.5, 3.5],\n",
       "        [0.5, 1.5, 2.5, 3.5],\n",
       "        [0.5, 1.5, 2.5, 3.5]]))"
      ]
     },
     "execution_count": 72,
     "metadata": {},
     "output_type": "execute_result"
    }
   ],
   "source": [
    "a_g, b_g = np.meshgrid(a, b, indexing='ij')\n",
    "a_g, b_g"
   ]
  },
  {
   "cell_type": "code",
   "execution_count": 73,
   "id": "effdc57b",
   "metadata": {},
   "outputs": [
    {
     "data": {
      "text/plain": [
       "array([[-2.        , -0.66666667, -0.4       , -0.28571429],\n",
       "       [ 2.        , -2.        , -0.66666667, -0.4       ],\n",
       "       [ 0.66666667,  2.        , -2.        , -0.66666667],\n",
       "       [ 0.4       ,  0.66666667,  2.        , -2.        ]])"
      ]
     },
     "execution_count": 73,
     "metadata": {},
     "output_type": "execute_result"
    }
   ],
   "source": [
    "d = 1 / (a_g - b_g)\n",
    "d"
   ]
  },
  {
   "cell_type": "code",
   "execution_count": 74,
   "id": "f7df762e",
   "metadata": {},
   "outputs": [
    {
     "data": {
      "text/plain": [
       "44.384169312169305"
      ]
     },
     "execution_count": 74,
     "metadata": {},
     "output_type": "execute_result"
    }
   ],
   "source": [
    "np.linalg.det(d)"
   ]
  },
  {
   "cell_type": "code",
   "execution_count": null,
   "id": "d278bc88",
   "metadata": {},
   "outputs": [],
   "source": [
    "e = 1 / "
   ]
  },
  {
   "cell_type": "code",
   "execution_count": 80,
   "id": "78d1bb8e",
   "metadata": {},
   "outputs": [
    {
     "data": {
      "text/plain": [
       "array([[-0.5, -1.5, -2.5, -3.5],\n",
       "       [ 0.5, -0.5, -1.5, -2.5],\n",
       "       [ 1.5,  0.5, -0.5, -1.5],\n",
       "       [ 2.5,  1.5,  0.5, -0.5]])"
      ]
     },
     "execution_count": 80,
     "metadata": {},
     "output_type": "execute_result"
    }
   ],
   "source": [
    "np.subtract.outer(a, b)"
   ]
  },
  {
   "cell_type": "code",
   "execution_count": 91,
   "id": "16bc07b0",
   "metadata": {},
   "outputs": [
    {
     "name": "stdout",
     "output_type": "stream",
     "text": [
      "int8 -128 127\n",
      "int32 -2147483648 2147483647\n",
      "int64 -9223372036854775808 9223372036854775807\n",
      "uint64 0 18446744073709551615\n"
     ]
    }
   ],
   "source": [
    "for t in [np.int8, np.int32, np.int64, np.uint64]:\n",
    "    print(t.__name__, np.iinfo(t).min, np.iinfo(t).max)"
   ]
  },
  {
   "cell_type": "code",
   "execution_count": 92,
   "id": "cd8e3a3e",
   "metadata": {},
   "outputs": [
    {
     "data": {
      "text/plain": [
       "array([0, 1, 2, 3])"
      ]
     },
     "execution_count": 92,
     "metadata": {},
     "output_type": "execute_result"
    }
   ],
   "source": [
    "a"
   ]
  },
  {
   "cell_type": "code",
   "execution_count": 106,
   "id": "b99f3a08",
   "metadata": {},
   "outputs": [
    {
     "data": {
      "text/plain": [
       "array([[78, 65, 44, 29, 90, 20, 13, 18, 14, 91, 10, 93, 21, 33],\n",
       "       [23, 66, 54, 14, 61, 76, 66, 55, 73, 79, 11, 98, 72, 11],\n",
       "       [16, 15, 32,  4, 40, 46,  9, 75, 88,  1, 48, 87, 23, 68],\n",
       "       [29, 25, 11, 24, 99, 58, 36, 23, 42, 28, 23, 80, 63, 29],\n",
       "       [80, 27, 95, 58, 25, 59,  1, 17, 94, 43, 11, 18, 47, 43],\n",
       "       [41, 47, 80, 16, 42, 87, 73, 21, 98, 29, 29, 19, 17,  2],\n",
       "       [84, 55, 48,  9, 75, 37, 73, 45, 97, 21, 13,  7, 48, 21],\n",
       "       [31, 78, 68, 75, 74, 52, 42, 16, 36, 19, 52, 43,  6, 24],\n",
       "       [31, 68, 15,  9, 49, 43, 65, 53, 44, 29, 59, 22, 60, 17],\n",
       "       [47, 98, 45, 74, 83, 41,  5, 91, 77, 44, 51, 16, 49, 13],\n",
       "       [23, 42, 85, 26, 96,  0, 38, 63, 29, 15, 25, 62, 97, 77],\n",
       "       [34, 20, 46, 22, 60, 57, 17, 69,  7, 10, 14, 62, 11, 64],\n",
       "       [12, 59, 52,  0, 19, 24, 87, 74, 90, 49, 35,  3, 41,  1],\n",
       "       [39, 82, 52, 72, 43, 62, 80, 26, 84, 99, 38, 84, 11, 10],\n",
       "       [87, 83, 34, 32,  1, 47, 71, 12,  2, 92, 10, 22, 28, 39],\n",
       "       [72, 57, 91,  9, 24, 17, 19, 66, 27,  4,  5, 70, 86, 77],\n",
       "       [14, 65, 45, 44,  0, 44, 25, 34, 85, 98, 35, 36, 54,  1],\n",
       "       [18, 60,  0, 12, 55,  5, 23, 20,  1,  8, 82, 61, 84, 56],\n",
       "       [92,  6, 10, 70, 99, 98, 17, 37,  5, 80, 34,  4, 66, 85],\n",
       "       [98, 13, 27, 14, 89, 87, 58, 96, 81,  0, 74, 37, 67, 51],\n",
       "       [25, 24, 40, 30, 62, 33, 60, 23, 70,  8, 31, 85, 12,  6],\n",
       "       [41, 77, 90, 36,  6, 87, 44, 23, 31, 76, 13, 57, 37, 22],\n",
       "       [60,  9, 81, 96, 88, 51, 11, 54, 99, 50, 44, 37, 16, 38],\n",
       "       [41, 46, 35, 84, 73, 92, 53, 98, 52, 49, 71, 90, 32, 89],\n",
       "       [69, 53, 55, 71, 60, 92, 27, 38,  3, 63, 66, 61,  6, 40],\n",
       "       [ 3,  7, 28, 40, 11, 96, 35, 60, 47, 18,  0, 31, 21, 41],\n",
       "       [37, 82, 28, 42, 30, 57, 41, 11, 47, 99, 29,  5, 90, 25],\n",
       "       [ 5, 51, 30, 17, 53, 31, 99, 28, 93, 91,  1, 44, 53, 87],\n",
       "       [38, 30, 71, 26,  2, 74, 76, 39, 67, 45, 22, 49, 44, 59],\n",
       "       [25, 61, 26, 97, 55,  8, 58, 27, 48, 58, 62, 59, 44, 26],\n",
       "       [77, 33, 72, 30, 67, 48,  3, 52, 52, 17, 48, 30,  1,  6],\n",
       "       [38, 37,  8, 85, 48, 83, 27, 87, 14, 95, 38, 16,  8, 12],\n",
       "       [95, 69, 36, 73, 75, 57, 75, 37, 75, 73, 13,  6, 93, 92],\n",
       "       [29, 19, 93, 60, 55, 81, 84, 91, 91,  2, 61, 46, 44, 63],\n",
       "       [47, 21, 70, 93, 90,  1, 42, 64, 82, 50, 59, 29, 82, 20],\n",
       "       [51, 22, 58, 61, 57, 96, 11, 32, 13, 13,  6, 34, 13, 50],\n",
       "       [42, 64, 34, 53, 13, 76,  3,  4, 32, 26, 76, 83, 49, 18],\n",
       "       [28, 28, 89, 83, 60, 43, 29, 13, 48, 14, 86, 68, 13,  7],\n",
       "       [35, 84,  6, 57, 32, 86, 98,  7, 21, 65, 29, 36, 43,  0],\n",
       "       [58, 28, 92, 24, 16, 18, 20, 31,  2, 36, 25, 15, 27, 92],\n",
       "       [ 9,  5, 46, 46, 57, 21, 10,  0, 27, 70, 23, 35, 11, 63],\n",
       "       [ 0, 30, 85, 77, 98, 84, 77, 94, 22, 88, 56, 96, 25, 29],\n",
       "       [12, 33, 44, 20, 38, 92, 63, 35, 72, 10, 57, 86, 20, 40],\n",
       "       [32, 71,  5, 39, 46, 60, 93, 63, 88, 16, 49, 38, 33, 56],\n",
       "       [32, 68, 20,  4,  0, 38, 63, 10,  0, 81,  8, 94, 42, 56],\n",
       "       [93, 21, 30, 67, 51, 46, 74, 75, 63, 56, 80,  4, 83, 33],\n",
       "       [12, 52, 68, 77, 19, 14, 98, 74, 23, 80, 37, 26, 36, 44],\n",
       "       [10,  9, 91,  0, 33, 20, 21, 26, 44, 30, 35, 82, 31,  9],\n",
       "       [98, 34, 86, 33,  8, 66, 96, 23, 78, 32, 21, 49,  3, 97],\n",
       "       [26, 71, 39,  0, 40, 46, 37, 49, 61, 37, 15, 93, 68, 26],\n",
       "       [96, 48, 24, 63, 57,  9,  3, 19, 14, 60, 98, 98, 21,  3],\n",
       "       [76, 40, 27, 27, 17, 62, 26, 47, 47, 17, 32, 92, 88, 75],\n",
       "       [46,  4, 74, 28, 29, 84,  3, 34, 63, 20, 20, 79, 90, 40],\n",
       "       [22, 94, 20,  4, 49, 15,  0, 32, 60, 63, 19, 66, 55, 19],\n",
       "       [47, 69, 61,  5, 28, 96, 86, 48, 69, 35, 69, 73, 37, 19],\n",
       "       [34, 68, 30,  8, 88, 70, 56, 84, 97,  9, 32, 96, 35, 44],\n",
       "       [54, 17, 41, 23, 71, 77, 94, 91, 21, 10, 12, 65, 61, 46],\n",
       "       [19, 58, 37,  3, 64, 31, 32, 79, 94, 64,  6, 43, 25, 55],\n",
       "       [52, 81, 27, 56, 96, 41, 17, 58,  2, 43, 14, 83, 89, 49],\n",
       "       [24, 83,  5,  7, 52, 51, 94, 68, 85, 59, 23, 83, 84, 32],\n",
       "       [10, 71, 61, 19, 64, 71, 16, 37, 45, 27, 72, 56, 16, 26],\n",
       "       [62, 74,  0, 79, 85, 33, 84, 97, 42, 45, 59, 56, 19, 74],\n",
       "       [15, 64, 28, 28, 31, 38, 66, 21, 14, 87, 72, 37, 52, 67],\n",
       "       [70, 46, 61, 12, 51,  8, 58, 47, 47, 70, 24, 41, 26, 61],\n",
       "       [ 0, 27, 42, 46,  5, 16,  5, 99, 78, 44, 91, 76, 55, 37],\n",
       "       [59, 73, 81, 45, 41, 87, 53, 56, 47,  7, 62, 79, 80, 22],\n",
       "       [50, 18, 40, 82, 99, 67, 72, 45, 53,  6, 47, 89, 47, 53],\n",
       "       [33, 28, 59, 41, 33, 99, 11, 18, 77, 47, 10, 86, 36, 77],\n",
       "       [74, 82, 44, 96, 14, 11,  7, 84, 58, 41, 21,  1,  5,  5],\n",
       "       [56,  3, 81, 20, 41, 87, 44, 64,  4, 13, 39, 39, 23, 49],\n",
       "       [52,  8, 50, 89, 63, 78, 68, 61, 75, 33, 22, 76, 90, 82],\n",
       "       [85, 14, 55, 75, 17, 84, 52, 22,  0, 73, 57, 94, 66, 71],\n",
       "       [97, 17,  4,  1, 42, 78, 43, 86, 51, 70, 63, 83, 91, 47],\n",
       "       [99, 40, 82, 43, 69, 74, 52,  6, 99, 38, 97,  3, 45, 34],\n",
       "       [84, 41, 39, 20, 90, 97, 30, 44,  3, 88, 51, 76, 11, 86],\n",
       "       [35,  4, 34, 19, 64, 48, 93, 45, 17, 97, 68, 76, 77, 56],\n",
       "       [78,  1, 93, 84,  0,  7, 24, 76, 79, 18, 68, 59, 31, 75],\n",
       "       [19, 16, 65, 80, 65, 25, 22,  3,  6, 68, 90, 90, 86, 21],\n",
       "       [87, 45, 29, 36, 14, 23,  9, 46, 97, 23, 67, 34, 93, 83],\n",
       "       [53, 41,  2, 50, 88,  5, 16,  1, 36, 95, 82, 50, 92, 10],\n",
       "       [64, 84, 26, 35, 49, 36, 35, 43, 85,  3, 67, 57,  0, 83],\n",
       "       [40, 10, 14, 84, 96, 41, 71, 41, 80, 13, 92, 38, 37, 99],\n",
       "       [ 3, 89,  4, 79, 30, 83, 31, 69, 69, 48, 96, 84, 59, 39],\n",
       "       [44, 19, 11, 69,  0, 83, 83,  7, 45, 49, 18, 62,  0,  6],\n",
       "       [55, 36, 94, 38, 80, 61, 63, 21, 22, 86, 19, 41, 17,  0],\n",
       "       [56, 70, 74, 10, 12, 67, 43, 60, 38, 54, 71, 44, 76, 10],\n",
       "       [ 2, 87, 85, 82,  7, 93, 24, 70, 69, 41, 45, 29, 50,  2],\n",
       "       [48, 52, 45,  6, 91, 98, 85, 98, 56, 75, 57,  1, 91, 52],\n",
       "       [88, 47, 22, 30, 11, 63, 60, 38, 25, 68, 39, 59, 53, 44],\n",
       "       [94, 85, 15, 69, 84, 22, 25, 54, 14, 63,  8, 61,  6, 14],\n",
       "       [40, 23, 77, 89, 61, 25, 75, 40, 30, 34, 82, 64,  0, 13],\n",
       "       [60, 26, 60, 50, 76, 54, 67, 60, 27, 24, 63, 17, 65, 82],\n",
       "       [23, 43, 44, 29, 26, 16, 57, 49,  9, 31, 78, 23, 13,  2],\n",
       "       [87, 29, 41, 94, 56, 86, 54, 65, 31, 32, 68, 68, 22, 37],\n",
       "       [ 6, 66, 21, 55, 90, 13, 95, 64, 89, 35, 32, 33, 49, 31],\n",
       "       [23,  0, 95, 72, 60,  5, 82, 78,  7, 73,  8, 80, 20, 52],\n",
       "       [93, 96, 54, 22, 92, 86, 34, 93, 29,  6, 55, 81, 12, 46],\n",
       "       [41, 66, 44,  1, 68,  3, 17, 88, 83, 47, 68, 70, 15, 83],\n",
       "       [57, 50, 83,  3, 49,  7, 97,  7, 56, 98, 35, 10, 80,  6],\n",
       "       [61,  6, 29, 69, 71,  9, 47, 13, 81, 60,  6, 96, 45, 78]])"
      ]
     },
     "execution_count": 106,
     "metadata": {},
     "output_type": "execute_result"
    }
   ],
   "source": [
    "a = np.random.randint(0, 100, (100, 14))\n",
    "a"
   ]
  },
  {
   "cell_type": "code",
   "execution_count": null,
   "id": "b0778ac2",
   "metadata": {},
   "outputs": [],
   "source": [
    "with np.printoptions(threshold=np.inf):  # threshold=float(\"inf\") тоже работает\n",
    "    print(a)\n",
    "\n",
    "print('------')\n",
    "print(a)  # Вернётся к стандартным настройкам"
   ]
  },
  {
   "cell_type": "code",
   "execution_count": 108,
   "id": "36fbc2d1",
   "metadata": {},
   "outputs": [
    {
     "data": {
      "text/plain": [
       "array([ -9,   3,   4,  -8, -10,   7,   5,  -9,  -4,   4])"
      ]
     },
     "execution_count": 108,
     "metadata": {},
     "output_type": "execute_result"
    }
   ],
   "source": [
    "a = np.random.randint(-10, 10, 10)\n",
    "a"
   ]
  },
  {
   "cell_type": "code",
   "execution_count": 109,
   "id": "d7dab30e",
   "metadata": {},
   "outputs": [],
   "source": [
    "b = 5.5"
   ]
  },
  {
   "cell_type": "code",
   "execution_count": 114,
   "id": "ea8bda17",
   "metadata": {},
   "outputs": [
    {
     "data": {
      "text/plain": [
       "5"
      ]
     },
     "execution_count": 114,
     "metadata": {},
     "output_type": "execute_result"
    }
   ],
   "source": [
    "a[np.argmin(np.abs(a - b))]"
   ]
  },
  {
   "cell_type": "code",
   "execution_count": 2,
   "id": "c8b7d85c",
   "metadata": {},
   "outputs": [],
   "source": [
    "import numpy as np"
   ]
  },
  {
   "cell_type": "code",
   "execution_count": 3,
   "id": "550ca8b4",
   "metadata": {},
   "outputs": [
    {
     "name": "stdout",
     "output_type": "stream",
     "text": [
      "Исходный вектор Z единичных значений длиной 10:\n",
      "[1. 1. 1. 1. 1. 1. 1. 1. 1. 1.]\n",
      "Сумма элементов вектора Z: 10.0\n",
      "Вектор индексов I длиной 20 из случайных значений равномерно распределенных на полуинтервале [0,10):\n",
      " [8 3 5 8 3 3 3 3 5 7 6 1 7 3 4 4 8 2 1 4]\n",
      "Преобразованный вектор Z_:\n",
      "[1. 3. 2. 7. 4. 3. 2. 3. 4. 1.]\n",
      "Сумма элементов вектора Z_: 30.0\n",
      "Проверка выражения np.sum(Z_) = np.sum(Z) + len(I):  True\n"
     ]
    }
   ],
   "source": [
    "N = 10  # размер вектора\n",
    "\n",
    "Z = np.ones(N)\n",
    "print(f'Исходный вектор Z единичных значений длиной {N}:\\n{Z}\\nСумма элементов вектора Z: {sum(Z)}')\n",
    "I = np.random.randint(1,N-1,N*2)\n",
    "print(f'Вектор индексов I длиной {2*N} из случайных значений равномерно распределенных на полуинтервале [0,{N}):\\n', I)\n",
    "Z += np.bincount(I, minlength=len(Z))\n",
    "print(f'Преобразованный вектор Z_:\\n{Z}\\nСумма элементов вектора Z_: {sum(Z)}')\n",
    "print('Проверка выражения np.sum(Z_) = np.sum(Z) + len(I): ', np.sum(Z) == N + len(I))"
   ]
  },
  {
   "cell_type": "code",
   "execution_count": null,
   "id": "ecef10bf",
   "metadata": {},
   "outputs": [],
   "source": []
  }
 ],
 "metadata": {
  "kernelspec": {
   "display_name": "base",
   "language": "python",
   "name": "python3"
  },
  "language_info": {
   "codemirror_mode": {
    "name": "ipython",
    "version": 3
   },
   "file_extension": ".py",
   "mimetype": "text/x-python",
   "name": "python",
   "nbconvert_exporter": "python",
   "pygments_lexer": "ipython3",
   "version": "3.12.3"
  }
 },
 "nbformat": 4,
 "nbformat_minor": 5
}
