{
 "cells": [
  {
   "cell_type": "markdown",
   "id": "2ca06b79",
   "metadata": {},
   "source": [
    "**Задание 1**"
   ]
  },
  {
   "cell_type": "code",
   "execution_count": 6,
   "id": "68611d33",
   "metadata": {},
   "outputs": [
    {
     "name": "stdout",
     "output_type": "stream",
     "text": [
      "Все ок!\n"
     ]
    }
   ],
   "source": [
    "def knapsack(items, cap):\n",
    "    n = len(items)\n",
    "    dp = [[0] * (cap+1) for _ in range(n+1)]\n",
    "\n",
    "    for i in range(1, n+1):\n",
    "        weight, value = items[i-1]\n",
    "        for w in range(1, cap+1):\n",
    "            if weight > w:\n",
    "                dp[i][w] = dp[i-1][w]\n",
    "            else:\n",
    "                dp[i][w] = max(dp[i-1][w], dp[i-1][w-weight] + value)\n",
    "\n",
    "    res = []\n",
    "    w = cap\n",
    "    for i in range(n, 0, -1):\n",
    "        if dp[i][w] != dp[i-1][w]:\n",
    "            res.append(i-1)\n",
    "            w -= items[i-1][0]\n",
    "    return res[::-1]\n",
    "\n",
    "items = [(2, 3), (3, 4), (4, 5), (5, 6)]\n",
    "assert sorted(knapsack(items, 5)) == [0, 1]\n",
    "# Тест 2 (емкость 0)\n",
    "assert knapsack(items, 0) == []\n",
    "# Тест 3 (один предмет)\n",
    "assert knapsack([(5, 10)], 5) == [0]\n",
    "print(\"Все ок!\")"
   ]
  },
  {
   "cell_type": "markdown",
   "id": "ddecd549",
   "metadata": {},
   "source": [
    "**Задание 2**"
   ]
  },
  {
   "cell_type": "code",
   "execution_count": 13,
   "id": "16e5a878",
   "metadata": {},
   "outputs": [
    {
     "name": "stdout",
     "output_type": "stream",
     "text": [
      "[0, inf, inf, 1, 1, inf, 2]\n",
      "[0, 1, 2, 1, 1, 2, 2]\n",
      "[0, inf, inf]\n",
      "Все ок!\n"
     ]
    }
   ],
   "source": [
    "def min_banknotes(total, dem):\n",
    "    dp = [float('inf') for _ in range(total+1)]\n",
    "    dp[0] = 0\n",
    "\n",
    "    for coin in dem:\n",
    "        for i in range(coin, total + 1):\n",
    "            dp[i] = min(dp[i], dp[i-coin] + 1)\n",
    "\n",
    "    print(dp)\n",
    "    \n",
    "    return dp[total] if dp[total] != float('inf') else -1\n",
    "\n",
    "    \n",
    "assert min_banknotes(6, [3, 4]) == 2\n",
    "assert min_banknotes(6, [1, 3, 4]) == 2\n",
    "assert min_banknotes(2, [3]) == -1\n",
    "print(\"Все ок!\")"
   ]
  },
  {
   "cell_type": "markdown",
   "id": "d407b8b4",
   "metadata": {},
   "source": [
    "**Задание 3**"
   ]
  },
  {
   "cell_type": "code",
   "execution_count": 17,
   "id": "9f6e62ae",
   "metadata": {},
   "outputs": [
    {
     "name": "stdout",
     "output_type": "stream",
     "text": [
      "Все ок!\n"
     ]
    }
   ],
   "source": [
    "def max_profit(n, m, products):\n",
    "    memo = {}\n",
    "\n",
    "    def dp(w, h):\n",
    "        if (w, h) in memo:\n",
    "            return memo[(w, h)]\n",
    "        \n",
    "        max_val = 0\n",
    "\n",
    "        for a, b, c in products:\n",
    "            if (a <= w and b <= h) or (a <= h and b <= w):\n",
    "                max_val = max(c, max_val)\n",
    "\n",
    "        for i in range(1, w):\n",
    "            max_val = max(max_val, dp(i, h) + dp(w-i, h))\n",
    "\n",
    "        for j in range(1, h):\n",
    "            max_val = max(max_val, dp(w, j) + dp(w, h-j))\n",
    "\n",
    "        memo[(h, w)] = max_val\n",
    "        return max_val\n",
    "    return dp(n, m)\n",
    "\n",
    "assert max_profit(4, 4, [(4, 4, 5), (2, 2, 1)]) == 5\n",
    "assert max_profit(4, 2, [(2, 2, 3), (4, 2, 5)]) == 6\n",
    "assert max_profit(2, 2, [(2, 2, 1)]) == 1\n",
    "print(\"Все ок!\")"
   ]
  }
 ],
 "metadata": {
  "kernelspec": {
   "display_name": "Python 3",
   "language": "python",
   "name": "python3"
  },
  "language_info": {
   "codemirror_mode": {
    "name": "ipython",
    "version": 3
   },
   "file_extension": ".py",
   "mimetype": "text/x-python",
   "name": "python",
   "nbconvert_exporter": "python",
   "pygments_lexer": "ipython3",
   "version": "3.10.7"
  }
 },
 "nbformat": 4,
 "nbformat_minor": 5
}
