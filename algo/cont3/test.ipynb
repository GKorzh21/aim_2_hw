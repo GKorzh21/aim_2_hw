{
 "cells": [
  {
   "cell_type": "code",
   "execution_count": 37,
   "id": "05364578",
   "metadata": {},
   "outputs": [
    {
     "name": "stdout",
     "output_type": "stream",
     "text": [
      "['1', '0', '1']\n",
      "[1, 3, 6, 13]\n"
     ]
    }
   ],
   "source": [
    "def max_power_of_two(n):\n",
    "    t = 1\n",
    "    p = 0\n",
    "    \n",
    "    while n > t:\n",
    "        t *= 2\n",
    "        p += 1\n",
    "    return int(t/2), p - 1\n",
    "\n",
    "\n",
    "n = 13\n",
    "t, p = max_power_of_two(15)\n",
    "\n",
    "rest = n - t\n",
    "\n",
    "b = bin(rest)[2:]\n",
    "\n",
    "while len(b) < p:\n",
    "    b = '0' + b\n",
    "\n",
    "print(list(b))\n",
    "\n",
    "prom = [1]\n",
    "for i in list(b):\n",
    "    if i == '1':\n",
    "        prom.append(prom[-1] * 2 + 1)\n",
    "    else:\n",
    "        prom.append(prom[-1] * 2)\n",
    "        \n",
    "print(prom)"
   ]
  },
  {
   "cell_type": "code",
   "execution_count": 57,
   "id": "6b5b6bc1",
   "metadata": {},
   "outputs": [
    {
     "name": "stdout",
     "output_type": "stream",
     "text": [
      "1 0\n",
      "['1']\n",
      "4\n"
     ]
    }
   ],
   "source": [
    "n = 2\n",
    "\n",
    "t, p = max_power_of_two(n)\n",
    "\n",
    "print(t, p)\n",
    "\n",
    "rest = n - t\n",
    "\n",
    "b = bin(rest)[2:]\n",
    "\n",
    "while len(b) < p:\n",
    "\tb = '0' + b\n",
    "\n",
    "print(list(b))\n",
    "\n",
    "prom = [1]\n",
    "for i in list(b):\n",
    "\tif i == '1':\n",
    "\t\tprom.append(prom[-1] * 2 + 1)\n",
    "\telse:\n",
    "\t\tprom.append(prom[-1] * 2)\n",
    "\t\t\n",
    "print(sum(prom))"
   ]
  },
  {
   "cell_type": "code",
   "execution_count": 5,
   "id": "6de3fea4",
   "metadata": {},
   "outputs": [
    {
     "name": "stdout",
     "output_type": "stream",
     "text": [
      "2\n"
     ]
    }
   ],
   "source": [
    "from collections import deque\n",
    "\n",
    "n, d = 8, 4\n",
    "s = '10010101'\n",
    "\n",
    "visited = [False] * (n + 1)\n",
    "distance = [-1] * (n + 1)\n",
    "queue = deque()\n",
    "\n",
    "queue.append(1)\n",
    "visited[1] = True\n",
    "distance[1] = 0\n",
    "\n",
    "while queue:\n",
    "\tcurrent = queue.popleft()\n",
    "\tif current == n:\n",
    "\t\tbreak\n",
    "\tfor a in range(1, d + 1):\n",
    "\t\tnext_pos = current + a\n",
    "\t\tif next_pos <= n and s[next_pos - 1] == '1' and not visited[next_pos]:\n",
    "\t\t\tvisited[next_pos] = True\n",
    "\t\t\tdistance[next_pos] = distance[current] + 1\n",
    "\t\t\tqueue.append(next_pos)\n",
    "\n",
    "print(distance[n])"
   ]
  },
  {
   "cell_type": "code",
   "execution_count": null,
   "id": "9fce44b0",
   "metadata": {},
   "outputs": [],
   "source": []
  }
 ],
 "metadata": {
  "kernelspec": {
   "display_name": "base",
   "language": "python",
   "name": "python3"
  },
  "language_info": {
   "codemirror_mode": {
    "name": "ipython",
    "version": 3
   },
   "file_extension": ".py",
   "mimetype": "text/x-python",
   "name": "python",
   "nbconvert_exporter": "python",
   "pygments_lexer": "ipython3",
   "version": "3.12.3"
  }
 },
 "nbformat": 4,
 "nbformat_minor": 5
}
