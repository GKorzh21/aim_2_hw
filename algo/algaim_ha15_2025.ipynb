{
 "cells": [
  {
   "cell_type": "markdown",
   "metadata": {},
   "source": [
    "## Домашнее задание 15\n",
    "\n",
    "Это домашнее задание посвящено темам, обсужденным на занятии 13.03.25.\n",
    "\n",
    "Дедлайн по нему - 19.03.25 23:59 GMT+3 (МСК), загружать нужно в формате .ipynb в Google Classroom курса."
   ]
  },
  {
   "cell_type": "markdown",
   "metadata": {},
   "source": [
    "### Задача 1\n",
    "\n",
    "Реализуйте сортировку слиянием. Можно использовать код слияния с занятия, но лучше написать его заново.\n",
    "\n",
    "Протестируйте алгоритм на нескольких примерах."
   ]
  },
  {
   "cell_type": "code",
   "execution_count": null,
   "metadata": {},
   "outputs": [],
   "source": []
  },
  {
   "cell_type": "markdown",
   "metadata": {},
   "source": [
    "### Задача 2\n",
    "\n",
    "На вход подаётся числовой массив $a$ из $n$ элементов. Требуется найти число инверсий в массиве, т.е. пар индексов $(i, j)$ таких, что $i < j$ и $a[i] > a[j]$.\n",
    "\n",
    "**Указание.** Модифицируйте алгоритм сортировки слиянием.\n",
    "\n",
    "Опишите алгоритм, докажите его корректность, оцените асимптотику, и реализуйте его на Python в следующей клетке."
   ]
  },
  {
   "cell_type": "code",
   "execution_count": null,
   "metadata": {},
   "outputs": [],
   "source": []
  },
  {
   "cell_type": "markdown",
   "metadata": {},
   "source": [
    "### Задача 3\n",
    "\n",
    "Дорешайте задачу https://codeforces.com/contest/2074/problem/C, разобранную на семинаре. Приведите код в следующей клетке. Можно попробовать загрузить решение на codeforces, но формат ввода-вывода будетподробно рассмотрен на следующем занятии, так что пока это не обязательно."
   ]
  },
  {
   "cell_type": "code",
   "execution_count": null,
   "metadata": {},
   "outputs": [],
   "source": []
  },
  {
   "cell_type": "markdown",
   "metadata": {},
   "source": [
    "### Задача 4\n",
    "\n",
    "Реализуйте поиск самого большого простого числа, которое удастся найти на вашем компьютере с временем вычисления не более минуты. Гуглить можно, код копировать не стоит, поскольку это не имеет смысла."
   ]
  },
  {
   "cell_type": "code",
   "execution_count": null,
   "metadata": {},
   "outputs": [],
   "source": []
  }
 ],
 "metadata": {
  "kernelspec": {
   "display_name": "Python 3",
   "language": "python",
   "name": "python3"
  },
  "language_info": {
   "codemirror_mode": {
    "name": "ipython",
    "version": 3
   },
   "file_extension": ".py",
   "mimetype": "text/x-python",
   "name": "python",
   "nbconvert_exporter": "python",
   "pygments_lexer": "ipython3",
   "version": "3.13.1"
  }
 },
 "nbformat": 4,
 "nbformat_minor": 2
}
