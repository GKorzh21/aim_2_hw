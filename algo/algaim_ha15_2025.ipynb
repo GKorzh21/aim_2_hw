{
 "cells": [
  {
   "cell_type": "markdown",
   "metadata": {},
   "source": [
    "## Домашнее задание 15\n",
    "\n",
    "Это домашнее задание посвящено темам, обсужденным на занятии 13.03.25.\n",
    "\n",
    "Дедлайн по нему - 19.03.25 23:59 GMT+3 (МСК), загружать нужно в формате .ipynb в Google Classroom курса."
   ]
  },
  {
   "cell_type": "markdown",
   "metadata": {},
   "source": [
    "### Задача 1\n",
    "\n",
    "Реализуйте сортировку слиянием. Можно использовать код слияния с занятия, но лучше написать его заново.\n",
    "\n",
    "Протестируйте алгоритм на нескольких примерах."
   ]
  },
  {
   "cell_type": "code",
   "execution_count": 9,
   "metadata": {},
   "outputs": [],
   "source": [
    "def merge_sort(a):\n",
    "    if len(a) <= 1:\n",
    "        return a\n",
    "    pivot = len(a) // 2\n",
    "    left = merge_sort(a[:pivot])\n",
    "    right = merge_sort(a[pivot:])\n",
    "\n",
    "    return merge(left, right)\n",
    "\n",
    "def merge(a, b):\n",
    "    res = []\n",
    "    i = 0\n",
    "    j = 0\n",
    "\n",
    "    while i < len(a) and j < len(b):\n",
    "        if a[i] <= b[j]:\n",
    "            res.append(a[i])\n",
    "            i += 1\n",
    "        else:\n",
    "            res.append(b[j])\n",
    "            j += 1\n",
    "\n",
    "    while i < len(a):\n",
    "        res.append(a[i])\n",
    "        i += 1\n",
    "\n",
    "    while j < len(b):\n",
    "        res.append(b[j])\n",
    "        j += 1\n",
    "\n",
    "    return res"
   ]
  },
  {
   "cell_type": "code",
   "execution_count": 10,
   "metadata": {},
   "outputs": [
    {
     "data": {
      "text/plain": [
       "[1, 2, 3, 4, 5]"
      ]
     },
     "execution_count": 10,
     "metadata": {},
     "output_type": "execute_result"
    }
   ],
   "source": [
    "merge_sort([5, 4, 3, 2, 1])"
   ]
  },
  {
   "cell_type": "code",
   "execution_count": 11,
   "metadata": {},
   "outputs": [
    {
     "data": {
      "text/plain": [
       "[0, 1, 2, 4, 5, 999]"
      ]
     },
     "execution_count": 11,
     "metadata": {},
     "output_type": "execute_result"
    }
   ],
   "source": [
    "merge_sort([5, 4, 999, 0, 2, 1])"
   ]
  },
  {
   "cell_type": "code",
   "execution_count": 13,
   "metadata": {},
   "outputs": [
    {
     "data": {
      "text/plain": [
       "[-10000, -100]"
      ]
     },
     "execution_count": 13,
     "metadata": {},
     "output_type": "execute_result"
    }
   ],
   "source": [
    "merge_sort([-100, -10000])"
   ]
  },
  {
   "cell_type": "code",
   "execution_count": 14,
   "metadata": {},
   "outputs": [
    {
     "data": {
      "text/plain": [
       "[2]"
      ]
     },
     "execution_count": 14,
     "metadata": {},
     "output_type": "execute_result"
    }
   ],
   "source": [
    "merge_sort([2])"
   ]
  },
  {
   "cell_type": "code",
   "execution_count": 15,
   "metadata": {},
   "outputs": [
    {
     "data": {
      "text/plain": [
       "[]"
      ]
     },
     "execution_count": 15,
     "metadata": {},
     "output_type": "execute_result"
    }
   ],
   "source": [
    "merge_sort([])"
   ]
  },
  {
   "cell_type": "markdown",
   "metadata": {},
   "source": [
    "### Задача 2\n",
    "\n",
    "На вход подаётся числовой массив $a$ из $n$ элементов. Требуется найти число инверсий в массиве, т.е. пар индексов $(i, j)$ таких, что $i < j$ и $a[i] > a[j]$.\n",
    "\n",
    "**Указание.** Модифицируйте алгоритм сортировки слиянием.\n",
    "\n",
    "Опишите алгоритм, докажите его корректность, оцените асимптотику, и реализуйте его на Python в следующей клетке."
   ]
  },
  {
   "cell_type": "code",
   "execution_count": 16,
   "metadata": {},
   "outputs": [],
   "source": [
    "def count_inversions(a):\n",
    "    if len(a) <= 1:\n",
    "        return (a, 0)\n",
    "    pivot = len(a) // 2\n",
    "    left, left_inv = count_inversions(a[:pivot])\n",
    "    right, right_inv = count_inversions(a[pivot:])\n",
    "    merge_arr, merge_inv = merge(left, right)\n",
    "\n",
    "    return (merge_arr, left_inv+right_inv+merge_inv)\n",
    "\n",
    "def merge(a, b):\n",
    "    res = []\n",
    "    i = 0\n",
    "    j = 0\n",
    "    inv = 0\n",
    "\n",
    "    while i < len(a) and j < len(b):\n",
    "        if a[i] <= b[j]:\n",
    "            res.append(a[i])\n",
    "            i += 1\n",
    "        else:\n",
    "            res.append(b[j])\n",
    "            j += 1\n",
    "            inv += len(a) - i\n",
    "\n",
    "    while i < len(a):\n",
    "        res.append(a[i])\n",
    "        i += 1\n",
    "\n",
    "    while j < len(b):\n",
    "        res.append(b[j])\n",
    "        j += 1\n",
    "\n",
    "    return (res, inv)"
   ]
  },
  {
   "cell_type": "code",
   "execution_count": 17,
   "metadata": {},
   "outputs": [
    {
     "data": {
      "text/plain": [
       "([1, 2, 3, 4, 5], 10)"
      ]
     },
     "execution_count": 17,
     "metadata": {},
     "output_type": "execute_result"
    }
   ],
   "source": [
    "count_inversions([5, 4, 3, 2, 1])"
   ]
  },
  {
   "cell_type": "code",
   "execution_count": 18,
   "metadata": {},
   "outputs": [
    {
     "data": {
      "text/plain": [
       "([-100, 1, 2], 3)"
      ]
     },
     "execution_count": 18,
     "metadata": {},
     "output_type": "execute_result"
    }
   ],
   "source": [
    "count_inversions([2, 1, -100])"
   ]
  },
  {
   "cell_type": "markdown",
   "metadata": {},
   "source": [
    "### Задача 3\n",
    "\n",
    "Дорешайте задачу https://codeforces.com/contest/2074/problem/C, разобранную на семинаре. Приведите код в следующей клетке. Можно попробовать загрузить решение на codeforces, но формат ввода-вывода будетподробно рассмотрен на следующем занятии, так что пока это не обязательно."
   ]
  },
  {
   "cell_type": "code",
   "execution_count": null,
   "metadata": {},
   "outputs": [],
   "source": []
  },
  {
   "cell_type": "markdown",
   "metadata": {},
   "source": [
    "### Задача 4\n",
    "\n",
    "Реализуйте поиск самого большого простого числа, которое удастся найти на вашем компьютере с временем вычисления не более минуты. Гуглить можно, код копировать не стоит, поскольку это не имеет смысла."
   ]
  },
  {
   "cell_type": "code",
   "execution_count": null,
   "metadata": {},
   "outputs": [
    {
     "name": "stdout",
     "output_type": "stream",
     "text": [
      "0.0\n",
      "0.0\n",
      "0.0\n",
      "0.0\n",
      "0.0\n",
      "0.0\n",
      "0.0\n",
      "0.0\n",
      "0.0\n",
      "0.0\n",
      "0.0010008811950683594\n",
      "0.0010008811950683594\n",
      "0.0020003318786621094\n",
      "0.004999637603759766\n",
      "0.009999513626098633\n",
      "0.02199864387512207\n",
      "0.04700016975402832\n",
      "0.10300064086914062\n",
      "0.23099875450134277\n",
      "0.5329990386962891\n",
      "1.2510433197021484\n",
      "3.001538038253784\n",
      "7.2880260944366455\n",
      "18.00368356704712\n",
      "44.5937933921814\n",
      "Самое большое простое число, найденное за минуту: 33554393\n"
     ]
    }
   ],
   "source": [
    "import time\n",
    "\n",
    "def generate_primes(k):\n",
    "    primes = []\n",
    "    \n",
    "    for i in range(2, k + 1):\n",
    "        can_be_prime = True\n",
    "        \n",
    "        sqrt = i**0.5\n",
    "        \n",
    "        for p in primes:\n",
    "            if p > sqrt:\n",
    "                break\n",
    "\n",
    "            if i % p == 0:\n",
    "                can_be_prime = False\n",
    "                break\n",
    "                    \n",
    "        if can_be_prime:\n",
    "            primes.append(i)\n",
    "    \n",
    "    return primes\n",
    "\n",
    "def find_largest_prime(limit_seconds=60):\n",
    "    start_time = time.time()\n",
    "    k = 2\n",
    "    largest_prime = 2\n",
    "\n",
    "    while time.time() - start_time < limit_seconds:\n",
    "        primes = generate_primes(k)\n",
    "        if primes:\n",
    "            largest_prime = primes[-1]  # Последнее простое число в списке\n",
    "        k *= 2  # Увеличиваем диапазон в 2 раза\n",
    "\n",
    "    return largest_prime\n",
    "\n",
    "if __name__ == \"__main__\":\n",
    "    largest_prime = find_largest_prime()\n",
    "    print(f\"Самое большое простое число, найденное за минуту: {largest_prime}\")"
   ]
  },
  {
   "cell_type": "code",
   "execution_count": 1,
   "metadata": {},
   "outputs": [
    {
     "name": "stderr",
     "output_type": "stream",
     "text": [
      "c:\\Users\\Admin\\anaconda3\\Lib\\site-packages\\numba\\cuda\\dispatcher.py:536: NumbaPerformanceWarning: \u001b[1mGrid size 1 will likely result in GPU under-utilization due to low occupancy.\u001b[0m\n",
      "  warn(NumbaPerformanceWarning(msg))\n",
      "c:\\Users\\Admin\\anaconda3\\Lib\\site-packages\\numba\\cuda\\dispatcher.py:536: NumbaPerformanceWarning: \u001b[1mGrid size 2 will likely result in GPU under-utilization due to low occupancy.\u001b[0m\n",
      "  warn(NumbaPerformanceWarning(msg))\n",
      "c:\\Users\\Admin\\anaconda3\\Lib\\site-packages\\numba\\cuda\\dispatcher.py:536: NumbaPerformanceWarning: \u001b[1mGrid size 4 will likely result in GPU under-utilization due to low occupancy.\u001b[0m\n",
      "  warn(NumbaPerformanceWarning(msg))\n",
      "c:\\Users\\Admin\\anaconda3\\Lib\\site-packages\\numba\\cuda\\dispatcher.py:536: NumbaPerformanceWarning: \u001b[1mGrid size 8 will likely result in GPU under-utilization due to low occupancy.\u001b[0m\n",
      "  warn(NumbaPerformanceWarning(msg))\n",
      "c:\\Users\\Admin\\anaconda3\\Lib\\site-packages\\numba\\cuda\\dispatcher.py:536: NumbaPerformanceWarning: \u001b[1mGrid size 16 will likely result in GPU under-utilization due to low occupancy.\u001b[0m\n",
      "  warn(NumbaPerformanceWarning(msg))\n",
      "c:\\Users\\Admin\\anaconda3\\Lib\\site-packages\\numba\\cuda\\dispatcher.py:536: NumbaPerformanceWarning: \u001b[1mGrid size 32 will likely result in GPU under-utilization due to low occupancy.\u001b[0m\n",
      "  warn(NumbaPerformanceWarning(msg))\n",
      "c:\\Users\\Admin\\anaconda3\\Lib\\site-packages\\numba\\cuda\\dispatcher.py:536: NumbaPerformanceWarning: \u001b[1mGrid size 64 will likely result in GPU under-utilization due to low occupancy.\u001b[0m\n",
      "  warn(NumbaPerformanceWarning(msg))\n"
     ]
    },
    {
     "name": "stdout",
     "output_type": "stream",
     "text": [
      "Самое большое простое число, найденное за минуту: 536870909\n"
     ]
    }
   ],
   "source": [
    "import time\n",
    "import numpy as np\n",
    "import math\n",
    "from numba import cuda\n",
    "\n",
    "# Ядро CUDA для параллельной проверки чисел на простоту\n",
    "@cuda.jit\n",
    "def find_primes_kernel(numbers, results):\n",
    "    idx = cuda.grid(1)  # Индекс текущего потока\n",
    "    if idx < numbers.size:\n",
    "        n = numbers[idx]\n",
    "        is_prime = True\n",
    "        for i in range(2, int(math.sqrt(n)) + 1):\n",
    "            if n % i == 0:\n",
    "                is_prime = False\n",
    "                break\n",
    "        results[idx] = is_prime\n",
    "\n",
    "def find_largest_prime_with_gpu(limit_seconds=60):\n",
    "    start_time = time.time()\n",
    "    k = 2  # Начинаем с малого диапазона\n",
    "    largest_prime = 2\n",
    "\n",
    "    while time.time() - start_time < limit_seconds:\n",
    "        # Генерируем массив чисел для проверки\n",
    "        numbers = np.arange(k, k * 2, dtype=np.int64)\n",
    "        results = np.zeros_like(numbers, dtype=np.bool_)\n",
    "\n",
    "        # Копируем данные на устройство (GPU)\n",
    "        d_numbers = cuda.to_device(numbers)\n",
    "        d_results = cuda.to_device(results)\n",
    "\n",
    "        # Запускаем ядро CUDA\n",
    "        threads_per_block = 256\n",
    "        blocks_per_grid = (numbers.size + threads_per_block - 1) // threads_per_block\n",
    "        find_primes_kernel[blocks_per_grid, threads_per_block](d_numbers, d_results)\n",
    "\n",
    "        # Копируем результаты обратно на хост (CPU)\n",
    "        results = d_results.copy_to_host()\n",
    "\n",
    "        # Находим самое большое простое число\n",
    "        prime_indices = np.where(results)[0]\n",
    "        if prime_indices.size > 0:\n",
    "            largest_prime = numbers[prime_indices[-1]]\n",
    "\n",
    "        k *= 2  # Увеличиваем диапазон в 2 раза\n",
    "\n",
    "    return largest_prime\n",
    "\n",
    "if __name__ == \"__main__\":\n",
    "    largest_prime = find_largest_prime_with_gpu()\n",
    "    print(f\"Самое большое простое число, найденное за минуту: {largest_prime}\")"
   ]
  }
 ],
 "metadata": {
  "kernelspec": {
   "display_name": "base",
   "language": "python",
   "name": "python3"
  },
  "language_info": {
   "codemirror_mode": {
    "name": "ipython",
    "version": 3
   },
   "file_extension": ".py",
   "mimetype": "text/x-python",
   "name": "python",
   "nbconvert_exporter": "python",
   "pygments_lexer": "ipython3",
   "version": "3.12.7"
  }
 },
 "nbformat": 4,
 "nbformat_minor": 2
}
