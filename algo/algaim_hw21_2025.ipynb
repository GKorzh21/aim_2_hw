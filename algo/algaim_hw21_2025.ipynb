{
 "cells": [
  {
   "cell_type": "markdown",
   "id": "e8acc294",
   "metadata": {},
   "source": [
    "1) "
   ]
  },
  {
   "cell_type": "code",
   "execution_count": 3,
   "id": "c687d583",
   "metadata": {},
   "outputs": [
    {
     "name": "stdout",
     "output_type": "stream",
     "text": [
      "Original root key: 5\n",
      "New root key: 6\n",
      "Left child of root: 3\n",
      "Right child of root: 7\n",
      "Right child of 7: 8\n"
     ]
    }
   ],
   "source": [
    "class TreeNode:\n",
    "    def __init__(self, key):\n",
    "        self.key = key\n",
    "        self.left = None\n",
    "        self.right = None\n",
    "\n",
    "def delete_root(root):\n",
    "    if root is None:\n",
    "        return None\n",
    "    # Нет детей\n",
    "    if root.left is None and root.right is None:\n",
    "        return None\n",
    "    # Только левый\n",
    "    if root.left is None:\n",
    "        return root.right\n",
    "    # Только правый\n",
    "    if root.right is None:\n",
    "        return root.left\n",
    "    # Есть оба\n",
    "    # Ищем минимальный узел в правом подереве\n",
    "    parent = None\n",
    "    successor = root.right\n",
    "    while successor.left is not None:\n",
    "        parent = successor\n",
    "        successor = successor.left\n",
    "\n",
    "    root.key = successor.key\n",
    "\n",
    "    if parent is None:\n",
    "        root.right = successor.right\n",
    "    else:\n",
    "        parent.left = successor.right\n",
    "    return root\n",
    "\n",
    "if __name__ == \"__main__\":\n",
    "    root = TreeNode(5)\n",
    "    root.left = TreeNode(3)\n",
    "    root.right = TreeNode(7)\n",
    "    root.left.left = TreeNode(2)\n",
    "    root.left.right = TreeNode(4)\n",
    "    root.right.left = TreeNode(6)\n",
    "    root.right.right = TreeNode(8)\n",
    "    \n",
    "    print(\"Original root key:\", root.key)\n",
    "    new_root = delete_root(root)\n",
    "    print(\"New root key:\", new_root.key)\n",
    "    print(\"Left child of root:\", new_root.left.key)\n",
    "    print(\"Right child of root:\", new_root.right.key)\n",
    "    print(\"Right child of 7:\", new_root.right.right.key)"
   ]
  },
  {
   "cell_type": "markdown",
   "id": "73bb4ad2",
   "metadata": {},
   "source": [
    "2)"
   ]
  },
  {
   "cell_type": "markdown",
   "id": "a413d4da",
   "metadata": {},
   "source": [
    "    10\n",
    "      \\\n",
    "       20\n",
    "      /  \\\n",
    "     15   25\n",
    "    /  \\\n",
    "   12   16\n",
    "  / \\\n",
    " 11  13"
   ]
  },
  {
   "cell_type": "markdown",
   "id": "01df1b9e",
   "metadata": {},
   "source": [
    "Поиск ключа 14.5:\n",
    "\n",
    "Путь: 10 → 20 → 15 → 16 (лист).\n",
    "\n",
    "A (слква от пути):\n",
    "\n",
    "    В узле 15 (после перехода вправо) — левое поддерево: {12, 11, 13}\n",
    "\n",
    "B (на пути): {10, 20, 15, 16}\n",
    "\n",
    "C (справа от пути):\n",
    "\n",
    "    В узле 10 (после перехода вправо) — правое поддерево (без пути): {25}\n",
    "\n",
    "Возьмем a = 11 (из A) и b = 10 (из B)\n",
    "\n",
    "Утверждение: a < b < c → 11 < 10 — ложно\n",
    "\n",
    "Вывод: свойство не выполняется"
   ]
  },
  {
   "cell_type": "markdown",
   "id": "b23f20cd",
   "metadata": {},
   "source": [
    "3) "
   ]
  },
  {
   "cell_type": "markdown",
   "id": "3ead1701",
   "metadata": {},
   "source": [
    "Пусть у вершины X есть оба ребенка. Тогда её преемник S — минимальный узел в правом поддереве X.Предположим, у S есть левый ребенок L, тогда L.key < S.key по свойству дерева.\n",
    "\n",
    "L находится в правом поддереве X, но L.key < S.key противоречит тому, что S — минимальный узел в правом поддереве X.\n",
    "\n",
    "Вывод: у преемника S не может быть левого ребенка."
   ]
  },
  {
   "cell_type": "markdown",
   "id": "88959e6d",
   "metadata": {},
   "source": []
  }
 ],
 "metadata": {
  "kernelspec": {
   "display_name": "base",
   "language": "python",
   "name": "python3"
  },
  "language_info": {
   "codemirror_mode": {
    "name": "ipython",
    "version": 3
   },
   "file_extension": ".py",
   "mimetype": "text/x-python",
   "name": "python",
   "nbconvert_exporter": "python",
   "pygments_lexer": "ipython3",
   "version": "3.12.3"
  }
 },
 "nbformat": 4,
 "nbformat_minor": 5
}
