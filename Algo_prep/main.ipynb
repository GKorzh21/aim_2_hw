{
 "cells": [
  {
   "cell_type": "code",
   "execution_count": 21,
   "id": "4578a8bd",
   "metadata": {},
   "outputs": [
    {
     "data": {
      "text/plain": [
       "[1, 2]"
      ]
     },
     "execution_count": 21,
     "metadata": {},
     "output_type": "execute_result"
    }
   ],
   "source": [
    "# 1\n",
    "def twoSum(nums, target):\n",
    "    diff = {}\n",
    "\n",
    "    for i, num in enumerate(nums):\n",
    "        comp = target - num\n",
    "\n",
    "        if comp in diff:\n",
    "            return [diff[comp], i]\n",
    "        \n",
    "        if (num) not in diff:\n",
    "            diff[num] = i\n",
    "                \n",
    "twoSum([3,2,4], 6)"
   ]
  },
  {
   "cell_type": "code",
   "execution_count": 22,
   "id": "0be6542b",
   "metadata": {},
   "outputs": [
    {
     "data": {
      "text/plain": [
       "False"
      ]
     },
     "execution_count": 22,
     "metadata": {},
     "output_type": "execute_result"
    }
   ],
   "source": [
    "#2\n",
    "def isValid(s):\n",
    "    stack = []\n",
    "\n",
    "    for i in s:\n",
    "        \n",
    "        if i in ['(', '{', '[']:\n",
    "            stack.append(i)\n",
    "\n",
    "        elif stack:\n",
    "            if (i == ')' and stack[-1] == '(') or (i == '}' and stack[-1] == '{') or (i == ']' and stack[-1] == '['):\n",
    "                stack.pop()\n",
    "            else:\n",
    "                return False\n",
    "        else:\n",
    "            \n",
    "            return False\n",
    "\n",
    "    if stack:\n",
    "        return False\n",
    "    return True\n",
    "\n",
    "\n",
    "isValid(\"(])\")"
   ]
  },
  {
   "cell_type": "code",
   "execution_count": 23,
   "id": "d4ea8fb8",
   "metadata": {},
   "outputs": [],
   "source": [
    "#3\n",
    "def reverseList(head):\n",
    "    prev = None\n",
    "    curr = head\n",
    "    while curr:\n",
    "        next_node = curr.next\n",
    "        curr.next = prev\n",
    "        prev = curr\n",
    "        curr = next_node\n",
    "\n",
    "    return prev"
   ]
  },
  {
   "cell_type": "code",
   "execution_count": 24,
   "id": "42cf2d37",
   "metadata": {},
   "outputs": [
    {
     "ename": "AttributeError",
     "evalue": "'list' object has no attribute 'val'",
     "output_type": "error",
     "traceback": [
      "\u001b[1;31m---------------------------------------------------------------------------\u001b[0m",
      "\u001b[1;31mAttributeError\u001b[0m                            Traceback (most recent call last)",
      "Cell \u001b[1;32mIn[24], line 31\u001b[0m\n\u001b[0;32m     28\u001b[0m list1 \u001b[38;5;241m=\u001b[39m [\u001b[38;5;241m1\u001b[39m,\u001b[38;5;241m2\u001b[39m,\u001b[38;5;241m4\u001b[39m]\n\u001b[0;32m     29\u001b[0m list2 \u001b[38;5;241m=\u001b[39m [\u001b[38;5;241m1\u001b[39m,\u001b[38;5;241m3\u001b[39m,\u001b[38;5;241m4\u001b[39m]\n\u001b[1;32m---> 31\u001b[0m mergeTwoLists(list1,list2)\n",
      "Cell \u001b[1;32mIn[24], line 13\u001b[0m, in \u001b[0;36mmergeTwoLists\u001b[1;34m(list1, list2)\u001b[0m\n\u001b[0;32m     10\u001b[0m tail \u001b[38;5;241m=\u001b[39m dummy\n\u001b[0;32m     12\u001b[0m \u001b[38;5;28;01mwhile\u001b[39;00m(list1 \u001b[38;5;129;01mand\u001b[39;00m list2):\n\u001b[1;32m---> 13\u001b[0m     \u001b[38;5;28;01mif\u001b[39;00m list1\u001b[38;5;241m.\u001b[39mval \u001b[38;5;241m<\u001b[39m\u001b[38;5;241m=\u001b[39m list2\u001b[38;5;241m.\u001b[39mval:\n\u001b[0;32m     14\u001b[0m         tail\u001b[38;5;241m.\u001b[39mnext \u001b[38;5;241m=\u001b[39m list1\n\u001b[0;32m     15\u001b[0m         list1 \u001b[38;5;241m=\u001b[39m list1\u001b[38;5;241m.\u001b[39mnext\n",
      "\u001b[1;31mAttributeError\u001b[0m: 'list' object has no attribute 'val'"
     ]
    }
   ],
   "source": [
    "#4\n",
    "\n",
    "class ListNode:\n",
    "    def __init__(self, val=0, next=None):\n",
    "        self.val = val\n",
    "        self.next = next\n",
    "\n",
    "def mergeTwoLists(list1, list2):\n",
    "    dummy = ListNode()\n",
    "    tail = dummy\n",
    "\n",
    "    while(list1 and list2):\n",
    "        if list1.val <= list2.val:\n",
    "            tail.next = list1\n",
    "            list1 = list1.next\n",
    "        else:\n",
    "            tail.next = list2\n",
    "            list2 = list2.next\n",
    "        tail = tail.next\n",
    "\n",
    "    if list1:\n",
    "        tail.next = list1\n",
    "    elif list2:\n",
    "        tail.next = list2\n",
    "\n",
    "    return dummy.next\n",
    "\n",
    "list1 = [1,2,4]\n",
    "list2 = [1,3,4]\n",
    "\n",
    "mergeTwoLists(list1,list2)"
   ]
  },
  {
   "cell_type": "code",
   "execution_count": null,
   "id": "9839477f",
   "metadata": {},
   "outputs": [
    {
     "data": {
      "text/plain": [
       "6"
      ]
     },
     "execution_count": 16,
     "metadata": {},
     "output_type": "execute_result"
    }
   ],
   "source": [
    "#5\n",
    "\n",
    "def maxSubArray(nums):\n",
    "    cur_sum = nums[0]\n",
    "    max_sum = nums[0]\n",
    "\n",
    "    for n in nums[1:]:\n",
    "        if cur_sum > 0:\n",
    "            cur_sum += n\n",
    "        else:\n",
    "            cur_sum = n\n",
    "\n",
    "        max_sum = max(max_sum, cur_sum)\n",
    "\n",
    "    return max_sum\n",
    "\n",
    "nums = [-2,1,-3,4,-1,2,1,-5,4]\n",
    "\n",
    "maxSubArray(nums)"
   ]
  },
  {
   "cell_type": "code",
   "execution_count": null,
   "id": "d97560da",
   "metadata": {},
   "outputs": [
    {
     "data": {
      "text/plain": [
       "0"
      ]
     },
     "execution_count": 18,
     "metadata": {},
     "output_type": "execute_result"
    }
   ],
   "source": [
    "#6\n",
    "\n",
    "def maxProfit(prices):\n",
    "    minp = prices[0]\n",
    "    maxp = 0\n",
    "    \n",
    "    for p in prices[1:]:\n",
    "        minp = min(p, minp)\n",
    "        maxp = max(maxp, p - minp)\n",
    "\n",
    "    return maxp\n",
    "\n",
    "\n",
    "\n",
    "prices = [7,1,5,3,6,4]\n",
    "maxProfit([7,6,4,3,1])"
   ]
  },
  {
   "cell_type": "code",
   "execution_count": 29,
   "id": "32e6424b",
   "metadata": {},
   "outputs": [
    {
     "name": "stdout",
     "output_type": "stream",
     "text": [
      "3 4\n",
      "4 4\n"
     ]
    },
    {
     "data": {
      "text/plain": [
       "4"
      ]
     },
     "execution_count": 29,
     "metadata": {},
     "output_type": "execute_result"
    }
   ],
   "source": [
    "#7\n",
    "\n",
    "def searchInsert(nums, target):\n",
    "    l = 0\n",
    "    r = len(nums)\n",
    "\n",
    "    while l < r:\n",
    "        mid = (l+r) // 2\n",
    "\n",
    "        if nums[mid] == target:\n",
    "            return mid\n",
    "        \n",
    "        if nums[mid] < target:\n",
    "            l = mid + 1\n",
    "\n",
    "        if nums[mid] > target:\n",
    "            r = mid\n",
    "\n",
    "        print(l, r)\n",
    "\n",
    "    return r\n",
    "\n",
    "\n",
    "nums = [1,3,5,6]\n",
    "target = 5\n",
    "\n",
    "searchInsert(nums = [1,3,5,6], target = 7)"
   ]
  },
  {
   "cell_type": "code",
   "execution_count": 5,
   "id": "932b150f",
   "metadata": {},
   "outputs": [
    {
     "data": {
      "text/plain": [
       "False"
      ]
     },
     "execution_count": 5,
     "metadata": {},
     "output_type": "execute_result"
    }
   ],
   "source": [
    "#8 \n",
    "\n",
    "def containsDuplicate(nums):\n",
    "    d = {}\n",
    "\n",
    "    for n in nums:\n",
    "        d[n] = d.get(n, 0) + 1\n",
    "\n",
    "    for i in d.values():\n",
    "        if i != 1:\n",
    "            return False\n",
    "        \n",
    "    return True\n",
    "\n",
    "containsDuplicate([1,2,3,1])"
   ]
  },
  {
   "cell_type": "code",
   "execution_count": 18,
   "id": "c5088baf",
   "metadata": {},
   "outputs": [
    {
     "data": {
      "text/plain": [
       "[1, 3, 12, 0, 0]"
      ]
     },
     "execution_count": 18,
     "metadata": {},
     "output_type": "execute_result"
    }
   ],
   "source": [
    "#9 \n",
    "\n",
    "def moveZeroes(nums):\n",
    "    insert_pos = 0\n",
    "\n",
    "    # Переносим все ненули вперед\n",
    "    for i in range(len(nums)):\n",
    "        if nums[i] != 0:\n",
    "            nums[insert_pos] = nums[i]\n",
    "            insert_pos += 1\n",
    "\n",
    "    # Заполняем хвост нулями\n",
    "    for i in range(insert_pos, len(nums)):\n",
    "        nums[i] = 0\n",
    "nums = [0, 1,0,3,12]\n",
    "moveZeroes(nums)\n",
    "nums"
   ]
  },
  {
   "cell_type": "code",
   "execution_count": 1,
   "id": "b0b64e70",
   "metadata": {},
   "outputs": [
    {
     "data": {
      "text/plain": [
       "1024.0"
      ]
     },
     "execution_count": 1,
     "metadata": {},
     "output_type": "execute_result"
    }
   ],
   "source": [
    "#10\n",
    "\n",
    "def myPow(x, n):\n",
    "    res = 1\n",
    "    while n > 0:\n",
    "        res *= x\n",
    "        n -= 1\n",
    "    return res\n",
    "\n",
    "myPow(x = 2.00000, n = 10)"
   ]
  },
  {
   "cell_type": "code",
   "execution_count": 6,
   "id": "cb6750e6",
   "metadata": {},
   "outputs": [
    {
     "data": {
      "text/plain": [
       "89"
      ]
     },
     "execution_count": 6,
     "metadata": {},
     "output_type": "execute_result"
    }
   ],
   "source": [
    "#11\n",
    "\n",
    "def climbStairs(n):\n",
    "    res = [1, 2]\n",
    "    orig = n\n",
    "    \n",
    "    while n > 2:\n",
    "        res.append(res[-1] + res[-2])\n",
    "\n",
    "        n -= 1\n",
    "    return res[orig-1]\n",
    "\n",
    "climbStairs(10)"
   ]
  },
  {
   "cell_type": "code",
   "execution_count": 14,
   "id": "a0d6c307",
   "metadata": {},
   "outputs": [
    {
     "data": {
      "text/plain": [
       "28"
      ]
     },
     "execution_count": 14,
     "metadata": {},
     "output_type": "execute_result"
    }
   ],
   "source": [
    "#12\n",
    "\n",
    "def uniquePaths(m, n):\n",
    "    \n",
    "    if n == 1 or m == 1:\n",
    "        return 1\n",
    "    \n",
    "    return uniquePaths(m-1, n) + uniquePaths(m, n-1)\n",
    "\n",
    "uniquePaths(3, 7)"
   ]
  },
  {
   "cell_type": "code",
   "execution_count": null,
   "id": "e0d7d9b3",
   "metadata": {},
   "outputs": [
    {
     "data": {
      "text/plain": [
       "False"
      ]
     },
     "execution_count": 17,
     "metadata": {},
     "output_type": "execute_result"
    }
   ],
   "source": [
    "#13\n",
    "\n",
    "def isSubsequence(s, t):\n",
    "    i = 0\n",
    "    for l in t:\n",
    "        if len(s) <= i:\n",
    "            break\n",
    "\n",
    "        if l == s[i]:\n",
    "            i += 1\n",
    "\n",
    "    if i == len(s):\n",
    "        return True\n",
    "    return False\n",
    "\n",
    "isSubsequence(s = \"aec\", t = \"ahbgdc\")"
   ]
  },
  {
   "cell_type": "code",
   "execution_count": 19,
   "id": "280e636f",
   "metadata": {},
   "outputs": [
    {
     "data": {
      "text/plain": [
       "[2]"
      ]
     },
     "execution_count": 19,
     "metadata": {},
     "output_type": "execute_result"
    }
   ],
   "source": [
    "#14\n",
    "\n",
    "def intersection(nums1, nums2):\n",
    "    return list(set(nums1) & set(nums2))\n",
    "\n",
    "intersection(nums1 = [1,2,2,1], nums2 = [2,2])"
   ]
  },
  {
   "cell_type": "code",
   "execution_count": null,
   "id": "e0799604",
   "metadata": {},
   "outputs": [
    {
     "data": {
      "text/plain": [
       "2"
      ]
     },
     "execution_count": 21,
     "metadata": {},
     "output_type": "execute_result"
    }
   ],
   "source": [
    "#15\n",
    "\n",
    "def firstUniqChar(s):\n",
    "    count = {}\n",
    "\n",
    "    for l in s:\n",
    "        count[l] = count.get(l, 0) + 1\n",
    "\n",
    "    for i, l in enumerate(s):\n",
    "        if count[l] == 1:\n",
    "            return i\n",
    "        \n",
    "    return -1\n",
    "\n",
    "firstUniqChar(\"loveleetcode\")"
   ]
  },
  {
   "cell_type": "code",
   "execution_count": null,
   "id": "4929dca5",
   "metadata": {},
   "outputs": [],
   "source": [
    "#16\n",
    "\n",
    "class ListNode:\n",
    "    def __init__(self, val=0, next=None):\n",
    "        self.val = val\n",
    "        self.next = next\n",
    "\n",
    "def addTwoNumbers(l1, l2):\n",
    "    dummy = ListNode()\n",
    "    cur = dummy\n",
    "    carry = 0\n",
    "\n",
    "    while l1 or l2 or carry:\n",
    "        val1 = l1.val if l1 else 0\n",
    "        val2 = l2.val if l2 else 0\n",
    "\n",
    "        total = val1 + val2 + carry\n",
    "        carry = total // 10\n",
    "        digit = total % 10\n",
    "\n",
    "        cur.next = ListNode(digit)\n",
    "        cur = cur.next\n",
    "\n",
    "        if l1:\n",
    "            l1 = l1.next\n",
    "        if l2:\n",
    "            l2 = l2.next\n",
    "\n",
    "    return dummy.next"
   ]
  },
  {
   "cell_type": "code",
   "execution_count": null,
   "id": "0365f75f",
   "metadata": {},
   "outputs": [],
   "source": [
    "#17 \n",
    "\n"
   ]
  },
  {
   "cell_type": "code",
   "execution_count": null,
   "id": "5e3afac6",
   "metadata": {},
   "outputs": [],
   "source": []
  }
 ],
 "metadata": {
  "kernelspec": {
   "display_name": "base",
   "language": "python",
   "name": "python3"
  },
  "language_info": {
   "codemirror_mode": {
    "name": "ipython",
    "version": 3
   },
   "file_extension": ".py",
   "mimetype": "text/x-python",
   "name": "python",
   "nbconvert_exporter": "python",
   "pygments_lexer": "ipython3",
   "version": "3.12.3"
  }
 },
 "nbformat": 4,
 "nbformat_minor": 5
}
