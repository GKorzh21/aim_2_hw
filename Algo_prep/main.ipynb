{
 "cells": [
  {
   "cell_type": "code",
   "execution_count": 21,
   "id": "4578a8bd",
   "metadata": {},
   "outputs": [
    {
     "data": {
      "text/plain": [
       "[1, 2]"
      ]
     },
     "execution_count": 21,
     "metadata": {},
     "output_type": "execute_result"
    }
   ],
   "source": [
    "# 1\n",
    "def twoSum(nums, target):\n",
    "    diff = {}\n",
    "\n",
    "    for i, num in enumerate(nums):\n",
    "        comp = target - num\n",
    "\n",
    "        if comp in diff:\n",
    "            return [diff[comp], i]\n",
    "        \n",
    "        if (num) not in diff:\n",
    "            diff[num] = i\n",
    "                \n",
    "twoSum([3,2,4], 6)"
   ]
  },
  {
   "cell_type": "code",
   "execution_count": 22,
   "id": "0be6542b",
   "metadata": {},
   "outputs": [
    {
     "data": {
      "text/plain": [
       "False"
      ]
     },
     "execution_count": 22,
     "metadata": {},
     "output_type": "execute_result"
    }
   ],
   "source": [
    "#2\n",
    "def isValid(s):\n",
    "    stack = []\n",
    "\n",
    "    for i in s:\n",
    "        \n",
    "        if i in ['(', '{', '[']:\n",
    "            stack.append(i)\n",
    "\n",
    "        elif stack:\n",
    "            if (i == ')' and stack[-1] == '(') or (i == '}' and stack[-1] == '{') or (i == ']' and stack[-1] == '['):\n",
    "                stack.pop()\n",
    "            else:\n",
    "                return False\n",
    "        else:\n",
    "            \n",
    "            return False\n",
    "\n",
    "    if stack:\n",
    "        return False\n",
    "    return True\n",
    "\n",
    "\n",
    "isValid(\"(])\")"
   ]
  },
  {
   "cell_type": "code",
   "execution_count": 23,
   "id": "d4ea8fb8",
   "metadata": {},
   "outputs": [],
   "source": [
    "#3\n",
    "def reverseList(head):\n",
    "    prev = None\n",
    "    curr = head\n",
    "    while curr:\n",
    "        next_node = curr.next\n",
    "        curr.next = prev\n",
    "        prev = curr\n",
    "        curr = next_node\n",
    "\n",
    "    return prev"
   ]
  },
  {
   "cell_type": "code",
   "execution_count": 24,
   "id": "42cf2d37",
   "metadata": {},
   "outputs": [
    {
     "ename": "AttributeError",
     "evalue": "'list' object has no attribute 'val'",
     "output_type": "error",
     "traceback": [
      "\u001b[1;31m---------------------------------------------------------------------------\u001b[0m",
      "\u001b[1;31mAttributeError\u001b[0m                            Traceback (most recent call last)",
      "Cell \u001b[1;32mIn[24], line 31\u001b[0m\n\u001b[0;32m     28\u001b[0m list1 \u001b[38;5;241m=\u001b[39m [\u001b[38;5;241m1\u001b[39m,\u001b[38;5;241m2\u001b[39m,\u001b[38;5;241m4\u001b[39m]\n\u001b[0;32m     29\u001b[0m list2 \u001b[38;5;241m=\u001b[39m [\u001b[38;5;241m1\u001b[39m,\u001b[38;5;241m3\u001b[39m,\u001b[38;5;241m4\u001b[39m]\n\u001b[1;32m---> 31\u001b[0m mergeTwoLists(list1,list2)\n",
      "Cell \u001b[1;32mIn[24], line 13\u001b[0m, in \u001b[0;36mmergeTwoLists\u001b[1;34m(list1, list2)\u001b[0m\n\u001b[0;32m     10\u001b[0m tail \u001b[38;5;241m=\u001b[39m dummy\n\u001b[0;32m     12\u001b[0m \u001b[38;5;28;01mwhile\u001b[39;00m(list1 \u001b[38;5;129;01mand\u001b[39;00m list2):\n\u001b[1;32m---> 13\u001b[0m     \u001b[38;5;28;01mif\u001b[39;00m list1\u001b[38;5;241m.\u001b[39mval \u001b[38;5;241m<\u001b[39m\u001b[38;5;241m=\u001b[39m list2\u001b[38;5;241m.\u001b[39mval:\n\u001b[0;32m     14\u001b[0m         tail\u001b[38;5;241m.\u001b[39mnext \u001b[38;5;241m=\u001b[39m list1\n\u001b[0;32m     15\u001b[0m         list1 \u001b[38;5;241m=\u001b[39m list1\u001b[38;5;241m.\u001b[39mnext\n",
      "\u001b[1;31mAttributeError\u001b[0m: 'list' object has no attribute 'val'"
     ]
    }
   ],
   "source": [
    "#4\n",
    "\n",
    "class ListNode:\n",
    "    def __init__(self, val=0, next=None):\n",
    "        self.val = val\n",
    "        self.next = next\n",
    "\n",
    "def mergeTwoLists(list1, list2):\n",
    "    dummy = ListNode()\n",
    "    tail = dummy\n",
    "\n",
    "    while(list1 and list2):\n",
    "        if list1.val <= list2.val:\n",
    "            tail.next = list1\n",
    "            list1 = list1.next\n",
    "        else:\n",
    "            tail.next = list2\n",
    "            list2 = list2.next\n",
    "        tail = tail.next\n",
    "\n",
    "    if list1:\n",
    "        tail.next = list1\n",
    "    elif list2:\n",
    "        tail.next = list2\n",
    "\n",
    "    return dummy.next\n",
    "\n",
    "list1 = [1,2,4]\n",
    "list2 = [1,3,4]\n",
    "\n",
    "mergeTwoLists(list1,list2)"
   ]
  },
  {
   "cell_type": "code",
   "execution_count": null,
   "id": "9839477f",
   "metadata": {},
   "outputs": [
    {
     "data": {
      "text/plain": [
       "6"
      ]
     },
     "execution_count": 16,
     "metadata": {},
     "output_type": "execute_result"
    }
   ],
   "source": [
    "#5\n",
    "\n",
    "def maxSubArray(nums):\n",
    "    cur_sum = nums[0]\n",
    "    max_sum = nums[0]\n",
    "\n",
    "    for n in nums[1:]:\n",
    "        if cur_sum > 0:\n",
    "            cur_sum += n\n",
    "        else:\n",
    "            cur_sum = n\n",
    "\n",
    "        max_sum = max(max_sum, cur_sum)\n",
    "\n",
    "    return max_sum\n",
    "\n",
    "nums = [-2,1,-3,4,-1,2,1,-5,4]\n",
    "\n",
    "maxSubArray(nums)"
   ]
  },
  {
   "cell_type": "code",
   "execution_count": null,
   "id": "d97560da",
   "metadata": {},
   "outputs": [
    {
     "data": {
      "text/plain": [
       "0"
      ]
     },
     "execution_count": 18,
     "metadata": {},
     "output_type": "execute_result"
    }
   ],
   "source": [
    "#6\n",
    "\n",
    "def maxProfit(prices):\n",
    "    minp = prices[0]\n",
    "    maxp = 0\n",
    "    \n",
    "    for p in prices[1:]:\n",
    "        minp = min(p, minp)\n",
    "        maxp = max(maxp, p - minp)\n",
    "\n",
    "    return maxp\n",
    "\n",
    "\n",
    "\n",
    "prices = [7,1,5,3,6,4]\n",
    "maxProfit([7,6,4,3,1])"
   ]
  },
  {
   "cell_type": "code",
   "execution_count": 29,
   "id": "32e6424b",
   "metadata": {},
   "outputs": [
    {
     "name": "stdout",
     "output_type": "stream",
     "text": [
      "3 4\n",
      "4 4\n"
     ]
    },
    {
     "data": {
      "text/plain": [
       "4"
      ]
     },
     "execution_count": 29,
     "metadata": {},
     "output_type": "execute_result"
    }
   ],
   "source": [
    "#7\n",
    "\n",
    "def searchInsert(nums, target):\n",
    "    l = 0\n",
    "    r = len(nums)\n",
    "\n",
    "    while l < r:\n",
    "        mid = (l+r) // 2\n",
    "\n",
    "        if nums[mid] == target:\n",
    "            return mid\n",
    "        \n",
    "        if nums[mid] < target:\n",
    "            l = mid + 1\n",
    "\n",
    "        if nums[mid] > target:\n",
    "            r = mid\n",
    "\n",
    "        print(l, r)\n",
    "\n",
    "    return r\n",
    "\n",
    "\n",
    "nums = [1,3,5,6]\n",
    "target = 5\n",
    "\n",
    "searchInsert(nums = [1,3,5,6], target = 7)"
   ]
  },
  {
   "cell_type": "code",
   "execution_count": 5,
   "id": "932b150f",
   "metadata": {},
   "outputs": [
    {
     "data": {
      "text/plain": [
       "False"
      ]
     },
     "execution_count": 5,
     "metadata": {},
     "output_type": "execute_result"
    }
   ],
   "source": [
    "#8 \n",
    "\n",
    "def containsDuplicate(nums):\n",
    "    d = {}\n",
    "\n",
    "    for n in nums:\n",
    "        d[n] = d.get(n, 0) + 1\n",
    "\n",
    "    for i in d.values():\n",
    "        if i != 1:\n",
    "            return False\n",
    "        \n",
    "    return True\n",
    "\n",
    "containsDuplicate([1,2,3,1])"
   ]
  },
  {
   "cell_type": "code",
   "execution_count": 18,
   "id": "c5088baf",
   "metadata": {},
   "outputs": [
    {
     "data": {
      "text/plain": [
       "[1, 3, 12, 0, 0]"
      ]
     },
     "execution_count": 18,
     "metadata": {},
     "output_type": "execute_result"
    }
   ],
   "source": [
    "#9 \n",
    "\n",
    "def moveZeroes(nums):\n",
    "    insert_pos = 0\n",
    "\n",
    "    # Переносим все ненули вперед\n",
    "    for i in range(len(nums)):\n",
    "        if nums[i] != 0:\n",
    "            nums[insert_pos] = nums[i]\n",
    "            insert_pos += 1\n",
    "\n",
    "    # Заполняем хвост нулями\n",
    "    for i in range(insert_pos, len(nums)):\n",
    "        nums[i] = 0\n",
    "nums = [0, 1,0,3,12]\n",
    "moveZeroes(nums)\n",
    "nums"
   ]
  },
  {
   "cell_type": "code",
   "execution_count": 1,
   "id": "b0b64e70",
   "metadata": {},
   "outputs": [
    {
     "data": {
      "text/plain": [
       "1024.0"
      ]
     },
     "execution_count": 1,
     "metadata": {},
     "output_type": "execute_result"
    }
   ],
   "source": [
    "#10\n",
    "\n",
    "def myPow(x, n):\n",
    "    res = 1\n",
    "    while n > 0:\n",
    "        res *= x\n",
    "        n -= 1\n",
    "    return res\n",
    "\n",
    "myPow(x = 2.00000, n = 10)"
   ]
  },
  {
   "cell_type": "code",
   "execution_count": 6,
   "id": "cb6750e6",
   "metadata": {},
   "outputs": [
    {
     "data": {
      "text/plain": [
       "89"
      ]
     },
     "execution_count": 6,
     "metadata": {},
     "output_type": "execute_result"
    }
   ],
   "source": [
    "#11\n",
    "\n",
    "def climbStairs(n):\n",
    "    res = [1, 2]\n",
    "    orig = n\n",
    "    \n",
    "    while n > 2:\n",
    "        res.append(res[-1] + res[-2])\n",
    "\n",
    "        n -= 1\n",
    "    return res[orig-1]\n",
    "\n",
    "climbStairs(10)"
   ]
  },
  {
   "cell_type": "code",
   "execution_count": 14,
   "id": "a0d6c307",
   "metadata": {},
   "outputs": [
    {
     "data": {
      "text/plain": [
       "28"
      ]
     },
     "execution_count": 14,
     "metadata": {},
     "output_type": "execute_result"
    }
   ],
   "source": [
    "#12\n",
    "\n",
    "def uniquePaths(m, n):\n",
    "    \n",
    "    if n == 1 or m == 1:\n",
    "        return 1\n",
    "    \n",
    "    return uniquePaths(m-1, n) + uniquePaths(m, n-1)\n",
    "\n",
    "uniquePaths(3, 7)"
   ]
  },
  {
   "cell_type": "code",
   "execution_count": null,
   "id": "e0d7d9b3",
   "metadata": {},
   "outputs": [
    {
     "data": {
      "text/plain": [
       "False"
      ]
     },
     "execution_count": 17,
     "metadata": {},
     "output_type": "execute_result"
    }
   ],
   "source": [
    "#13\n",
    "\n",
    "def isSubsequence(s, t):\n",
    "    i = 0\n",
    "    for l in t:\n",
    "        if len(s) <= i:\n",
    "            break\n",
    "\n",
    "        if l == s[i]:\n",
    "            i += 1\n",
    "\n",
    "    if i == len(s):\n",
    "        return True\n",
    "    return False\n",
    "\n",
    "isSubsequence(s = \"aec\", t = \"ahbgdc\")"
   ]
  },
  {
   "cell_type": "code",
   "execution_count": 19,
   "id": "280e636f",
   "metadata": {},
   "outputs": [
    {
     "data": {
      "text/plain": [
       "[2]"
      ]
     },
     "execution_count": 19,
     "metadata": {},
     "output_type": "execute_result"
    }
   ],
   "source": [
    "#14\n",
    "\n",
    "def intersection(nums1, nums2):\n",
    "    return list(set(nums1) & set(nums2))\n",
    "\n",
    "intersection(nums1 = [1,2,2,1], nums2 = [2,2])"
   ]
  },
  {
   "cell_type": "code",
   "execution_count": null,
   "id": "e0799604",
   "metadata": {},
   "outputs": [
    {
     "data": {
      "text/plain": [
       "2"
      ]
     },
     "execution_count": 21,
     "metadata": {},
     "output_type": "execute_result"
    }
   ],
   "source": [
    "#15\n",
    "\n",
    "def firstUniqChar(s):\n",
    "    count = {}\n",
    "\n",
    "    for l in s:\n",
    "        count[l] = count.get(l, 0) + 1\n",
    "\n",
    "    for i, l in enumerate(s):\n",
    "        if count[l] == 1:\n",
    "            return i\n",
    "        \n",
    "    return -1\n",
    "\n",
    "firstUniqChar(\"loveleetcode\")"
   ]
  },
  {
   "cell_type": "code",
   "execution_count": null,
   "id": "4929dca5",
   "metadata": {},
   "outputs": [],
   "source": [
    "#16\n",
    "\n",
    "class ListNode:\n",
    "    def __init__(self, val=0, next=None):\n",
    "        self.val = val\n",
    "        self.next = next\n",
    "\n",
    "def addTwoNumbers(l1, l2):\n",
    "    dummy = ListNode()\n",
    "    cur = dummy\n",
    "    carry = 0\n",
    "\n",
    "    while l1 or l2 or carry:\n",
    "        val1 = l1.val if l1 else 0\n",
    "        val2 = l2.val if l2 else 0\n",
    "\n",
    "        total = val1 + val2 + carry\n",
    "        carry = total // 10\n",
    "        digit = total % 10\n",
    "\n",
    "        cur.next = ListNode(digit)\n",
    "        cur = cur.next\n",
    "\n",
    "        if l1:\n",
    "            l1 = l1.next\n",
    "        if l2:\n",
    "            l2 = l2.next\n",
    "\n",
    "    return dummy.next"
   ]
  },
  {
   "cell_type": "code",
   "execution_count": null,
   "id": "0365f75f",
   "metadata": {},
   "outputs": [],
   "source": [
    "class ListNode:\n",
    "    def __init__(self, x):\n",
    "        self.val = x\n",
    "        self.next = None\n",
    "\n",
    "class Solution:\n",
    "    def detectCycle(head):\n",
    "        slow = head\n",
    "        fast = head\n",
    "\n",
    "        while fast and fast.next:\n",
    "            slow = slow.next\n",
    "            fast = fast.next.next\n",
    "\n",
    "            if fast == slow:\n",
    "                break\n",
    "\n",
    "        if fast != slow:\n",
    "            return None\n",
    "        \n",
    "        slow = head\n",
    "\n",
    "        while slow != fast:\n",
    "            slow = slow.next\n",
    "            fast = fast.next\n",
    "\n",
    "        return slow"
   ]
  },
  {
   "cell_type": "code",
   "execution_count": 14,
   "id": "5e3afac6",
   "metadata": {},
   "outputs": [
    {
     "data": {
      "text/plain": [
       "True"
      ]
     },
     "execution_count": 14,
     "metadata": {},
     "output_type": "execute_result"
    }
   ],
   "source": [
    "# line reflection\n",
    "\n",
    "def  line_reflection(p):\n",
    "    points = set()\n",
    "    min_x = float('inf')\n",
    "    max_x = float('-inf')\n",
    "\n",
    "    for x, y in p:\n",
    "        points.add((x, y))  \n",
    "        max_x = max(max_x, x)   \n",
    "        min_x = min(min_x, x)\n",
    "\n",
    "    cond = (max_x + min_x) / 2\n",
    "\n",
    "    for x, y in points:\n",
    "        if (2* cond - x, y) not in points:\n",
    "            return False\n",
    "        \n",
    "    return True\n",
    "\n",
    "points = [[0, 0], [1, 1], [-1, 1]]\n",
    "line_reflection(points)"
   ]
  },
  {
   "cell_type": "code",
   "execution_count": 35,
   "id": "672ad8ff",
   "metadata": {},
   "outputs": [
    {
     "data": {
      "text/plain": [
       "'app'"
      ]
     },
     "execution_count": 35,
     "metadata": {},
     "output_type": "execute_result"
    }
   ],
   "source": [
    "#Longest Common Prefix\n",
    "\n",
    "def longest_common_prefix(strs):\n",
    "    if not strs:\n",
    "        return ''\n",
    "\n",
    "    for i in range(len(strs[0])):\n",
    "        cur = strs[0][i]\n",
    "        for s in strs[1:]:\n",
    "            if i >= len(s) or s[i] != cur:\n",
    "                return s[:i]\n",
    "            \n",
    "    return strs[0]\n",
    "\n",
    "s = [\"app\", \"apple\"]\n",
    "longest_common_prefix(s)"
   ]
  },
  {
   "cell_type": "code",
   "execution_count": null,
   "id": "60d87563",
   "metadata": {},
   "outputs": [
    {
     "name": "stdout",
     "output_type": "stream",
     "text": [
      "0 4 2\n",
      "4 8 2\n",
      "8 10 2\n",
      "4 0\n"
     ]
    },
    {
     "data": {
      "text/plain": [
       "4"
      ]
     },
     "execution_count": 54,
     "metadata": {},
     "output_type": "execute_result"
    }
   ],
   "source": [
    "#Maximize Distance to Closest Person\n",
    "def maxDistToClosest(seats):\n",
    "    l_dist = -1\n",
    "    mid_dist = 0\n",
    "    \n",
    "    l = -1\n",
    "    r = 0\n",
    "\n",
    "    for pos, i in enumerate(seats):\n",
    "        if l_dist == -1 and i == 1:\n",
    "            l_dist = pos\n",
    "\n",
    "        if i == 1:\n",
    "            l = r\n",
    "            r = pos\n",
    "            mid_dist = max(mid_dist, (r - l) // 2)\n",
    "            \n",
    "    r_dist = len(seats) - r - 1\n",
    "    return max(l_dist, mid_dist, r_dist)\n",
    "\n",
    "\n",
    "maxDistToClosest([0,0,0,0,1,0,0,0,1,0,1])"
   ]
  },
  {
   "cell_type": "code",
   "execution_count": null,
   "id": "82c3deef",
   "metadata": {},
   "outputs": [
    {
     "data": {
      "text/plain": [
       "0"
      ]
     },
     "execution_count": 66,
     "metadata": {},
     "output_type": "execute_result"
    }
   ],
   "source": [
    "#Max Consecutive Ones\n",
    "\n",
    "def max_consecutive_ones(nums):\n",
    "    l = 0\n",
    "    r = 0\n",
    "    res = 0\n",
    "\n",
    "    for i in nums:\n",
    "\n",
    "        if i == 1:\n",
    "            r += 1\n",
    "        if i == 0:\n",
    "            res = max(res, r + l + 1)\n",
    "            l = r\n",
    "            r = 0\n",
    "\n",
    "    res = max(res, l + r + (1 if 0 in nums else 0))\n",
    "\n",
    "    return min(res, len(nums)) if res!= 0 else len(nums)\n",
    "\n",
    "max_consecutive_ones([])"
   ]
  },
  {
   "cell_type": "code",
   "execution_count": 75,
   "id": "63d0609f",
   "metadata": {},
   "outputs": [
    {
     "data": {
      "text/plain": [
       "(2, 3)"
      ]
     },
     "execution_count": 75,
     "metadata": {},
     "output_type": "execute_result"
    }
   ],
   "source": [
    "#Target Sum Subarray\n",
    "\n",
    "def target_sum_subarray(nums, target):\n",
    "    prom = 0\n",
    "    l = 0\n",
    "\n",
    "    for r, num in enumerate(nums):\n",
    "        prom += num\n",
    "\n",
    "        while prom > target and l <= r:\n",
    "            prom -= nums[l]\n",
    "            l += 1\n",
    "\n",
    "        if prom == target:\n",
    "            return (l, r)\n",
    "\n",
    "     \n",
    "    left = 0\n",
    "    current_sum = 0\n",
    "    for right, num in enumerate(nums):\n",
    "        current_sum += num\n",
    "        while current_sum < target and left <= right:  # Теперь проверяем на \"меньше\"\n",
    "            current_sum -= nums[left]\n",
    "            left += 1\n",
    "        if current_sum == target:\n",
    "            return (left, right)\n",
    "        \n",
    "    return (-1, -1)\n",
    "\n",
    "target_sum_subarray([1, -1, 5, -2, 3], 3)"
   ]
  },
  {
   "cell_type": "code",
   "execution_count": 76,
   "id": "47ceb073",
   "metadata": {},
   "outputs": [
    {
     "data": {
      "text/plain": [
       "(2, 3)"
      ]
     },
     "execution_count": 76,
     "metadata": {},
     "output_type": "execute_result"
    }
   ],
   "source": [
    "#Target Sum Subarray\n",
    "\n",
    "def target_sum_subarray(nums, target):\n",
    "    pref_sum = 0\n",
    "    pref_map = {0: -1}\n",
    "\n",
    "    for i, num in enumerate(nums):\n",
    "        pref_sum += num\n",
    "\n",
    "        if pref_sum - target in pref_map:\n",
    "            return (pref_map[pref_sum - target] + 1, i)\n",
    "        \n",
    "        pref_map[pref_sum] = i\n",
    "\n",
    "target_sum_subarray([1, -1, 5, -2, 3], 3)"
   ]
  },
  {
   "cell_type": "code",
   "execution_count": 84,
   "id": "d9468136",
   "metadata": {},
   "outputs": [
    {
     "data": {
      "text/plain": [
       "2"
      ]
     },
     "execution_count": 84,
     "metadata": {},
     "output_type": "execute_result"
    }
   ],
   "source": [
    "#XY\n",
    "\n",
    "def min_distance(string):\n",
    "    X_pos = -1\n",
    "    Y_pos = -1\n",
    "    min_dist = float('inf')\n",
    "\n",
    "    for i, l in enumerate(string):\n",
    "        if l == 'X':\n",
    "            X_pos = i\n",
    "            if Y_pos != -1:\n",
    "                min_dist = min(min_dist, X_pos - Y_pos)\n",
    "\n",
    "        if l == 'Y':\n",
    "            Y_pos = i\n",
    "            if X_pos != -1:\n",
    "                min_dist = min(min_dist, Y_pos - X_pos)\n",
    "\n",
    "    return min_dist if min_dist != float('inf') else 0\n",
    "\n",
    "min_distance('OOOXXOY')"
   ]
  },
  {
   "cell_type": "code",
   "execution_count": null,
   "id": "e0112b2d",
   "metadata": {},
   "outputs": [
    {
     "name": "stdout",
     "output_type": "stream",
     "text": [
      "['0', '2->4', '6', '8->9']\n",
      "['5->7']\n",
      "[]\n",
      "['1']\n"
     ]
    }
   ],
   "source": [
    "#[1, 2, 3] -> ['1->3'] \n",
    "    \n",
    "def summaryRanges(nums):\n",
    "    if not nums:\n",
    "        return []\n",
    "\n",
    "    l = nums[0]\n",
    "    res = []\n",
    "\n",
    "    for i, r in enumerate(nums):\n",
    "        if i+1 < len(nums) and nums[i+1] != nums[i] + 1:\n",
    "            res.append(f\"{r}\" if l == r else f\"{l}->{r}\")\n",
    "            l = nums[i+1]\n",
    "\n",
    "    res.append(f\"{r}\" if l == r else f\"{l}->{r}\")\n",
    "\n",
    "    return res\n",
    "\n",
    "print(summaryRanges([0,2,3,4,6,8,9]))  # ['0', '2->4', '6', '8->9']\n",
    "print(summaryRanges([5,6,7]))          # ['5->7']\n",
    "print(summaryRanges([]))              # []\n",
    "print(summaryRanges([1]))             # ['1']\n"
   ]
  },
  {
   "cell_type": "code",
   "execution_count": null,
   "id": "677ce162",
   "metadata": {},
   "outputs": [],
   "source": [
    "#findDuplicateSubtrees\n",
    "\n",
    "# Definition for a binary tree node.\n",
    "class TreeNode:\n",
    "    def __init__(self, val=0, left=None, right=None):\n",
    "        self.val = val\n",
    "        self.left = left\n",
    "        self.right = right\n",
    "\n",
    "from collections import defaultdict\n",
    "\n",
    "class Solution:\n",
    "    def findDuplicateSubtrees(root):\n",
    "        ser_dict = {}\n",
    "        res = []\n",
    "\n",
    "        def serialize(node):\n",
    "            if not node:\n",
    "                return '#'\n",
    "            serial = f\"{node.val}, {serialize(node.left)}, {serialize(node.right)}\"\n",
    "            ser_dict[serial] = ser_dict.get(serial, 0) + 1\n",
    "\n",
    "            if ser_dict[serial] == 2:\n",
    "                res.append(node)\n",
    "            return serial\n",
    "        serialize(root)\n",
    "\n",
    "        return res"
   ]
  },
  {
   "cell_type": "code",
   "execution_count": 21,
   "id": "6a815fc1",
   "metadata": {},
   "outputs": [
    {
     "name": "stdout",
     "output_type": "stream",
     "text": [
      "['1', ' ', '1', ' ', '1', '', '', '', '']\n",
      "['1', '%', '2', '0', '1', '%', '2', '0', '1']\n"
     ]
    }
   ],
   "source": [
    "#replaceSpaces\n",
    "\n",
    "def replaceSpaces(s, length):\n",
    "    space_num = 0\n",
    "\n",
    "    for i in s:\n",
    "        if i == ' ':\n",
    "            space_num += 1\n",
    "\n",
    "    index = length + 2 * space_num-1\n",
    "\n",
    "    for i in reversed(range(length)):\n",
    "        if s[i] == ' ':\n",
    "            s[index-2: index+1] = ['%', '2', '0']\n",
    "            index -= 3\n",
    "        else:\n",
    "            s[index] = s[i]\n",
    "            index -= 1 \n",
    "\n",
    "s = ['1', ' ', '1', ' ', '1', '', '', '', '']\n",
    "l = 5\n",
    "print(s)\n",
    "replaceSpaces(s, l)\n",
    "print(s)"
   ]
  },
  {
   "cell_type": "code",
   "execution_count": null,
   "id": "b88b277a",
   "metadata": {},
   "outputs": [
    {
     "data": {
      "text/plain": [
       "[(1, 7), (2, 4), (4, 1)]"
      ]
     },
     "execution_count": 76,
     "metadata": {},
     "output_type": "execute_result"
    }
   ],
   "source": [
    "#ступеньки\n",
    "\n",
    "def steps(a, b):\n",
    "    res = set()\n",
    "    for pos, _ in a:\n",
    "        res.add(pos)\n",
    "\n",
    "    for pos, _ in b:\n",
    "        res.add(pos)\n",
    "\n",
    "    res = list(res)\n",
    "\n",
    "    def make_arr(a, res):\n",
    "        new_a = []\n",
    "        index = 1\n",
    "\n",
    "        for i, (pos, val) in enumerate(a):\n",
    "            l = pos\n",
    "            while index < len(res):\n",
    "                if i+1 < len(a) and res[index] <= a[i+1][0]:\n",
    "                    new_a.append((l,  res[index], val))\n",
    "                    l = res[index]\n",
    "                    index += 1\n",
    "                else:\n",
    "                    if i+1 == len(a):\n",
    "                        new_a.append((l,  res[index], val))\n",
    "                        l = res[index]\n",
    "                    break\n",
    "\n",
    "            new_a.append((l, float('inf'), val)) if i+1 == len(a) else ...\n",
    "\n",
    "        return new_a\n",
    "\n",
    "    new_a = make_arr(a, res)\n",
    "    new_b = make_arr(b, res)\n",
    "\n",
    "    new_res = []\n",
    "\n",
    "    for i in range(len(new_a)):\n",
    "        cur = (new_a[i][0], new_a[i][1], new_a[i][2] + new_b[i][2])\n",
    "        new_res.append(cur)\n",
    "\n",
    "        if new_res and new_res[-1][2] == new_a[i][2] + new_b[i][2]:\n",
    "            new_res[-1][1] = new_a[i][1]\n",
    "\n",
    "    ans = []\n",
    "    for i in range(len(new_res)):\n",
    "        ans.append((new_res[i][0], new_res[i][2]))\n",
    "            \n",
    "    return ans\n",
    "\n",
    "\n",
    "a = [(1, 3), (4, 0)]\n",
    "b = [(1, 4), (2, 1)]\n",
    "\n",
    "steps(a, b)"
   ]
  },
  {
   "cell_type": "code",
   "execution_count": 10,
   "id": "b601d55f",
   "metadata": {},
   "outputs": [
    {
     "name": "stdout",
     "output_type": "stream",
     "text": [
      "c e {'c': 1, 'b': 1, 'a': 1}\n",
      "b b {'b': 1, 'a': 1, 'e': 1}\n",
      "a a {'a': 1, 'e': 1, 'b': 1}\n",
      "e b {'e': 1, 'b': 1, 'a': 1}\n",
      "b a {'b': 2, 'a': 1}\n",
      "a c {'b': 1, 'a': 2}\n",
      "b d {'b': 1, 'a': 1, 'c': 1}\n"
     ]
    },
    {
     "data": {
      "text/plain": [
       "[0, 6]"
      ]
     },
     "execution_count": 10,
     "metadata": {},
     "output_type": "execute_result"
    }
   ],
   "source": [
    "def count_letters(s):\n",
    "    d = {}\n",
    "\n",
    "    for i in s:\n",
    "        d[i] = d.get(i, 0) + 1\n",
    "\n",
    "    return d\n",
    "\n",
    "def findAnagrams(s, p):\n",
    "    cur = count_letters(s[:len(p)])\n",
    "    pattern = count_letters(p)\n",
    "    last_letter = s[0]\n",
    "    res = []\n",
    "\n",
    "    if cur == pattern:\n",
    "        res.append(0)\n",
    "\n",
    "    for i in range(len(p), len(s)):\n",
    "        print(last_letter, s[i], cur)\n",
    "        cur[last_letter] -= 1\n",
    "        if cur[last_letter] == 0:\n",
    "            del cur[last_letter]\n",
    "\n",
    "        cur[s[i]] = cur.get(s[i], 0) + 1\n",
    "\n",
    "        if cur == pattern:\n",
    "            res.append(i - len(p) + 1)\n",
    "\n",
    "        last_letter = s[i - len(p) + 1]\n",
    "\n",
    "    return res\n",
    "\n",
    "findAnagrams(\"cbaebabacd\", 'abc')"
   ]
  },
  {
   "cell_type": "code",
   "execution_count": 18,
   "id": "4b3ec2ad",
   "metadata": {},
   "outputs": [
    {
     "data": {
      "text/plain": [
       "[1, 2, 3, 4]"
      ]
     },
     "execution_count": 18,
     "metadata": {},
     "output_type": "execute_result"
    }
   ],
   "source": [
    "def findClosestElements(arr, k, x):\n",
    "    l, r = 0, len(arr) - k\n",
    "    while l < r:\n",
    "        mid = (l + r) // 2\n",
    "        if x - arr[mid] > arr[mid+k] - x:\n",
    "            l = mid+1\n",
    "        else:\n",
    "            r = mid\n",
    "\n",
    "    return arr[l:l+k]\n",
    "\n",
    "\n",
    "findClosestElements([1,2,3,4,5], 4, 3)"
   ]
  },
  {
   "cell_type": "code",
   "execution_count": 31,
   "id": "17b82620",
   "metadata": {},
   "outputs": [
    {
     "data": {
      "text/plain": [
       "')))\"), \"()))'"
      ]
     },
     "execution_count": 31,
     "metadata": {},
     "output_type": "execute_result"
    }
   ],
   "source": [
    "#смайлик\n",
    "#dd:-))((())\n",
    "\n",
    "\n",
    "def remove_smileys(text):\n",
    "    res = ''\n",
    "    r = 0\n",
    "\n",
    "    while r < len(text):\n",
    "        if r + 2 < len(text) and text[r:r+2] == ':-' and text[r+2] in '()':\n",
    "            ch = text[r+2]\n",
    "            r += 2\n",
    "\n",
    "            while r < len(text) and text[r] == ch:\n",
    "                r += 1\n",
    "\n",
    "        else:\n",
    "            res += text[r]\n",
    "            r += 1\n",
    "\n",
    "    return res\n",
    "\n",
    "\n",
    "remove_smileys(':-((()))\"), \"()))')"
   ]
  },
  {
   "cell_type": "code",
   "execution_count": 37,
   "id": "fe8959eb",
   "metadata": {},
   "outputs": [
    {
     "data": {
      "text/plain": [
       "26"
      ]
     },
     "execution_count": 37,
     "metadata": {},
     "output_type": "execute_result"
    }
   ],
   "source": [
    "#скалярное произведение для сжатых массивов\n",
    "\n",
    "def dotProductRLE(a, b):\n",
    "    i, j = 0, 0\n",
    "    res = 0\n",
    "\n",
    "    while i < len(a) and j < len(b):\n",
    "        val1, cnt1 = a[i]\n",
    "        val2, cnt2 = b[j]\n",
    "\n",
    "        take = min(cnt1, cnt2)\n",
    "        res += val1 * val2 * take\n",
    "\n",
    "        cnt1 -= take\n",
    "        cnt2 -= take\n",
    "\n",
    "        if cnt1 == 0:\n",
    "            i += 1\n",
    "        else:\n",
    "            a[i] = (val1, cnt1)  # можно сохранить, если хочешь\n",
    "        if cnt2 == 0:\n",
    "            j += 1\n",
    "        else:\n",
    "            b[j] = (val2, cnt2)\n",
    "\n",
    "    return res\n",
    "\n",
    "encoded1 = [(1,3), (2,1), (3,2)]\n",
    "encoded2 = [(1,2), (2,2), (3,2)]\n",
    "\n",
    "dotProductRLE(encoded1, encoded2)"
   ]
  },
  {
   "cell_type": "code",
   "execution_count": 39,
   "id": "d13f3f51",
   "metadata": {},
   "outputs": [
    {
     "name": "stdout",
     "output_type": "stream",
     "text": [
      "✅ Все тесты прошли.\n"
     ]
    }
   ],
   "source": [
    "def test_dotProductRLE():\n",
    "    # Базовый пример\n",
    "    assert dotProductRLE([(1,3), (2,1), (3,2)], [(1,2), (2,2), (3,2)]) == 26\n",
    "    # Расширенные блоки\n",
    "    assert dotProductRLE([(2,5)], [(3,5)]) == 2*3*5 == 30\n",
    "    # Несовпадающие длины\n",
    "    assert dotProductRLE([(1,2)], [(5,1), (1,1)]) == 1*5 + 1*1 == 6\n",
    "    # Один массив пустой\n",
    "    assert dotProductRLE([], [(1,5)]) == 0\n",
    "    assert dotProductRLE([(2,3)], []) == 0\n",
    "    # Несовпадающие значения (всё умножается на 0)\n",
    "    assert dotProductRLE([(0, 3)], [(1, 3)]) == 0\n",
    "    assert dotProductRLE([(5, 2)], [(0, 2)]) == 0\n",
    "    # Длинный случай\n",
    "    assert dotProductRLE([(1,1000)], [(1,1000)]) == 1000\n",
    "    # Смешанные блоки\n",
    "    assert dotProductRLE([(1,2), (2,2)], [(3,1), (4,3)]) == (1*3 + 1*4 + 2*4 + 2*4) == 23\n",
    "    print(\"✅ Все тесты прошли.\")\n",
    "\n",
    "test_dotProductRLE()\n"
   ]
  },
  {
   "cell_type": "code",
   "execution_count": 2,
   "id": "8a8ef142",
   "metadata": {},
   "outputs": [
    {
     "name": "stdout",
     "output_type": "stream",
     "text": [
      "0\n"
     ]
    }
   ],
   "source": [
    "n, k = 4, 1\n",
    "\n",
    "a = [-1, -2, -3, -4]\n",
    "\n",
    "dp = [[-10**18] * (k + 1) for _ in range(n + 1)]\n",
    "dp[0][0] = 0\n",
    "\n",
    "for i in range(n):\n",
    "    for j in range(k + 1):\n",
    "        if dp[i][j] == -10**18:\n",
    "            continue\n",
    "        # Обычные прыжки\n",
    "        if i + 1 <= n:\n",
    "            dp[i + 1][j] = max(dp[i + 1][j], dp[i][j] + a[i])\n",
    "        if i + 2 <= n:\n",
    "            dp[i + 2][j] = max(dp[i + 2][j], dp[i][j] + a[i])\n",
    "        # Пропуск ступенек (но только если это выгодно)\n",
    "        if j + 1 <= k:\n",
    "            # Прыжок на любую ступеньку, но не обязательно до конца\n",
    "            for m in [i + 3, n]:  # Оптимизация: проверяем только ближайшие варианты\n",
    "                if m <= n:\n",
    "                    dp[m][j + 1] = max(dp[m][j + 1], dp[i][j])\n",
    "\n",
    "print(max(dp[n]))"
   ]
  },
  {
   "cell_type": "code",
   "execution_count": null,
   "id": "85fcf54e",
   "metadata": {},
   "outputs": [
    {
     "name": "stdout",
     "output_type": "stream",
     "text": [
      "4\n"
     ]
    }
   ],
   "source": [
    "s = input().strip()\n",
    "n = len(s)\n",
    "\n",
    "# prefix_a[i] = число 'a' в s[0..i-1]\n",
    "prefix_a = [0] * n\n",
    "cnt = 0\n",
    "for i, ch in enumerate(s):\n",
    "    prefix_a[i] = cnt\n",
    "    if ch == 'a':\n",
    "        cnt += 1\n",
    "\n",
    "# suffix_c[i] = число 'c' в s[i+1..n-1]\n",
    "suffix_c = [0] * n\n",
    "cnt = 0\n",
    "for i in range(n-1, -1, -1):\n",
    "    suffix_c[i] = cnt\n",
    "    if s[i] == 'c':\n",
    "        cnt += 1\n",
    "\n",
    "res = 0\n",
    "for i, ch in enumerate(s):\n",
    "    if ch == 'b':\n",
    "        res += prefix_a[i] * suffix_c[i]\n",
    "\n",
    "print(res)\n"
   ]
  },
  {
   "cell_type": "code",
   "execution_count": 10,
   "id": "51889555",
   "metadata": {},
   "outputs": [
    {
     "name": "stdout",
     "output_type": "stream",
     "text": [
      "0\n"
     ]
    }
   ],
   "source": [
    "import sys\n",
    "\n",
    "def main():\n",
    "    n = 0\n",
    "    s = ''\n",
    "\n",
    "    left = {}\n",
    "    right = {}\n",
    "\n",
    "    left[0] = -1\n",
    "    right[0] = -1\n",
    "\n",
    "    for i in range(1, n + 1):\n",
    "        prev = i - 1\n",
    "        if s[i - 1] == 'L':\n",
    "            left_neighbor = left.get(prev, -1)\n",
    "            left[i] = left_neighbor\n",
    "            right[i] = prev\n",
    "            if left_neighbor != -1:\n",
    "                right[left_neighbor] = i\n",
    "            left[prev] = i\n",
    "        else:\n",
    "            right_neighbor = right.get(prev, -1)\n",
    "            right[i] = right_neighbor\n",
    "            left[i] = prev\n",
    "            if right_neighbor != -1:\n",
    "                left[right_neighbor] = i\n",
    "            right[prev] = i\n",
    "\n",
    "    current = 0\n",
    "    while left.get(current, -1) != -1:\n",
    "        current = left[current]\n",
    "\n",
    "    sequence = []\n",
    "    while current != -1:\n",
    "        sequence.append(str(current))\n",
    "        current = right.get(current, -1)\n",
    "\n",
    "    print(' '.join(sequence))\n",
    "\n",
    "if __name__ == \"__main__\":\n",
    "    main()"
   ]
  },
  {
   "cell_type": "code",
   "execution_count": 15,
   "id": "710803bf",
   "metadata": {},
   "outputs": [
    {
     "name": "stdout",
     "output_type": "stream",
     "text": [
      "10\n"
     ]
    }
   ],
   "source": [
    "n, k = 4, 0\n",
    "a = [1, 2, 3, 4]\n",
    "\n",
    "INF = 10**18\n",
    "# dp[i][j] = максимальное настроение на ступеньке i, использовав j абстрагирований\n",
    "dp = [[-INF] * (k + 1) for _ in range(n + 1)]\n",
    "dp[0][0] = 0  # перед первой ступенькой, настроение = 0\n",
    "\n",
    "for j in range(k + 1):\n",
    "    # 1) Из текущих состояний (i,j) сделаем все обычные ходы:\n",
    "    for i in range(n):\n",
    "        cur = dp[i][j]\n",
    "        if cur == -INF:\n",
    "            continue\n",
    "        # шаг на i+1\n",
    "        dp[i + 1][j] = max(dp[i + 1][j], cur + a[i])\n",
    "        # прыжок через одну (i → i+2)\n",
    "        if i + 2 <= n:\n",
    "            dp[i + 2][j] = max(dp[i + 2][j], cur + a[i + 1])\n",
    "    # 2) Абстрагирование → заполняем dp[*][j+1] одним проходом за O(n)\n",
    "    if j < k:\n",
    "        best_prefix = -INF\n",
    "        # best_prefix = max(dp[0][j], dp[1][j], …, dp[m-1][j])\n",
    "        for m in range(1, n + 1):\n",
    "            best_prefix = max(best_prefix, dp[m - 1][j])\n",
    "            # при абстрагировании он не вспоминает ВСЕ ПРОПУЩЕННЫЕ ступеньки,\n",
    "            # но при посадке на m-ю ступеньку он всё равно \"вспомнит\" момент a[m-1]\n",
    "            dp[m][j + 1] = max(dp[m][j + 1], best_prefix + a[m - 1])\n",
    "\n",
    "# Ответ — максимум dp[n][*]\n",
    "print(max(dp[n]))\n"
   ]
  },
  {
   "cell_type": "code",
   "execution_count": null,
   "id": "4884b089",
   "metadata": {},
   "outputs": [],
   "source": [
    "import sys\n",
    "from collections import deque\n",
    "\n",
    "def main():\n",
    "    input = sys.stdin.read\n",
    "    data = input().split()\n",
    "    idx = 0\n",
    "    N = int(data[idx])\n",
    "    idx += 1\n",
    "    Q = int(data[idx])\n",
    "    idx += 1\n",
    "\n",
    "    parent = [i for i in range(N + 1)]\n",
    "    rank = [0] * (N + 1)\n",
    "\n",
    "    def find(u):\n",
    "        while parent[u] != u:\n",
    "            parent[u] = parent[parent[u]]\n",
    "            u = parent[u]\n",
    "        return u\n",
    "\n",
    "    def union(u, v):\n",
    "        u_root = find(u)\n",
    "        v_root = find(v)\n",
    "        if u_root == v_root:\n",
    "            return False\n",
    "        if rank[u_root] > rank[v_root]:\n",
    "            parent[v_root] = u_root\n",
    "        else:\n",
    "            parent[u_root] = v_root\n",
    "            if rank[u_root] == rank[v_root]:\n",
    "                rank[v_root] += 1\n",
    "        return True\n",
    "\n",
    "    edges = []\n",
    "    for _ in range(Q):\n",
    "        l = int(data[idx])\n",
    "        idx += 1\n",
    "        r = int(data[idx])\n",
    "        idx += 1\n",
    "        edges.append((l - 1, r))\n",
    "\n",
    "\n",
    "    for l, r in edges:\n",
    "        union(l, r)\n",
    "\n",
    "    if find(0) != find(N):\n",
    "        print(\"No\")\n",
    "        return\n",
    "\n",
    "\n",
    "    adj = [[] for _ in range(N + 1)]\n",
    "    for i, (l, r) in enumerate(edges):\n",
    "        adj[l].append((r, i))\n",
    "        adj[r].append((l, i))\n",
    "\n",
    "    visited = [False] * (N + 1)\n",
    "    prev = [-1] * (N + 1)\n",
    "    edge_used = [-1] * (N + 1)\n",
    "    q = deque()\n",
    "    q.append(0)\n",
    "    visited[0] = True\n",
    "\n",
    "    while q:\n",
    "        u = q.popleft()\n",
    "        if u == N:\n",
    "            break\n",
    "        for (v, idx_edge) in adj[u]:\n",
    "            if not visited[v]:\n",
    "                visited[v] = True\n",
    "                prev[v] = u\n",
    "                edge_used[v] = idx_edge\n",
    "                q.append(v)\n",
    "\n",
    "\n",
    "    path = []\n",
    "    u = N\n",
    "    while u != 0:\n",
    "        path.append(edge_used[u])\n",
    "        u = prev[u]\n",
    "    path.reverse()\n",
    "\n",
    "    print(\"Yes\")\n",
    "    print(len(path))\n",
    "\n",
    "if __name__ == \"__main__\":\n",
    "    main()"
   ]
  },
  {
   "cell_type": "code",
   "execution_count": 6,
   "id": "8bfc5a62",
   "metadata": {},
   "outputs": [
    {
     "name": "stdout",
     "output_type": "stream",
     "text": [
      "0\n"
     ]
    }
   ],
   "source": [
    "def is_honestly_even(n: int) -> int:\n",
    "    while n > 0:\n",
    "        digit = n % 10\n",
    "        # Проверяем младший бит: если он установлен (1), значит цифра нечетная\n",
    "        if digit & 1:\n",
    "            return 0\n",
    "        n //= 10\n",
    "    return 1\n",
    "\n",
    "# Пример использования:\n",
    "n = 30\n",
    "print(is_honestly_even(n))\n"
   ]
  },
  {
   "cell_type": "code",
   "execution_count": null,
   "id": "bf4c1181",
   "metadata": {},
   "outputs": [
    {
     "name": "stdout",
     "output_type": "stream",
     "text": [
      "23\n"
     ]
    }
   ],
   "source": [
    "def find_last_sunday(n, m):\n",
    "    if n - 7 > 0:\n",
    "        return n - 7\n",
    "    else:\n",
    "        return m + 7\n",
    "\n",
    "n, m = map(int, input().split())\n",
    "print(find_last_sunday(n, m))\n"
   ]
  },
  {
   "cell_type": "code",
   "execution_count": null,
   "id": "18b145fa",
   "metadata": {},
   "outputs": [
    {
     "name": "stdout",
     "output_type": "stream",
     "text": [
      "2 1\n"
     ]
    }
   ],
   "source": [
    "import math\n",
    "\n",
    "a, b, c, d = map(int, input().split())\n",
    "\n",
    "numerator = a * d + c * b\n",
    "denominator = b * d\n",
    "\n",
    "gcd = math.gcd(numerator, denominator)\n",
    "numerator //= gcd\n",
    "denominator //= gcd\n",
    "\n",
    "print(numerator, denominator)\n"
   ]
  },
  {
   "cell_type": "code",
   "execution_count": 20,
   "id": "4d8afeab",
   "metadata": {},
   "outputs": [
    {
     "name": "stderr",
     "output_type": "stream",
     "text": [
      ".......\n",
      "----------------------------------------------------------------------\n",
      "Ran 7 tests in 0.009s\n",
      "\n",
      "OK\n"
     ]
    }
   ],
   "source": [
    "import math\n",
    "\n",
    "def add_and_simplify_fractions(a, b, c, d):\n",
    "    numerator = a * d + c * b\n",
    "    denominator = b * d\n",
    "    gcd = math.gcd(numerator, denominator)\n",
    "    return numerator // gcd, denominator // gcd\n",
    "\n",
    "import unittest\n",
    "\n",
    "class TestFractionAddition(unittest.TestCase):\n",
    "    def test_example_1(self):\n",
    "        self.assertEqual(add_and_simplify_fractions(1, 3, 1, 2), (5, 6))\n",
    "\n",
    "    def test_same_denominator(self):\n",
    "        self.assertEqual(add_and_simplify_fractions(1, 4, 1, 4), (1, 2))\n",
    "\n",
    "    def test_needs_simplification(self):\n",
    "        self.assertEqual(add_and_simplify_fractions(2, 6, 1, 3), (2, 3))\n",
    "\n",
    "    def test_no_simplification(self):\n",
    "        self.assertEqual(add_and_simplify_fractions(1, 5, 1, 6), (11, 30))\n",
    "\n",
    "    def test_large_numbers(self):\n",
    "        self.assertEqual(add_and_simplify_fractions(100, 100, 100, 100), (2, 1))\n",
    "\n",
    "    def test_one_is_zero(self):\n",
    "        self.assertEqual(add_and_simplify_fractions(0, 1, 1, 2), (1, 2))\n",
    "\n",
    "    def test_result_is_integer(self):\n",
    "        self.assertEqual(add_and_simplify_fractions(2, 3, 4, 6), (4, 3))\n",
    "\n",
    "if __name__ == '__main__':\n",
    "    unittest.main(argv=[''], exit=False)\n"
   ]
  },
  {
   "cell_type": "code",
   "execution_count": 25,
   "id": "69326f8c",
   "metadata": {},
   "outputs": [
    {
     "name": "stdout",
     "output_type": "stream",
     "text": [
      "5 1 0 2 3 4\n"
     ]
    }
   ],
   "source": [
    "from collections import deque\n",
    "\n",
    "n = int(input())\n",
    "s = input().strip()\n",
    "\n",
    "result = deque([0])  # начальная последовательность\n",
    "\n",
    "for i in range(1, n + 1):\n",
    "    if s[i - 1] == 'L':\n",
    "        result.appendleft(i)\n",
    "    else:\n",
    "        result.append(i)\n",
    "\n",
    "print(' '.join(map(str, result)))\n"
   ]
  },
  {
   "cell_type": "code",
   "execution_count": null,
   "id": "3157cacf",
   "metadata": {},
   "outputs": [
    {
     "name": "stdout",
     "output_type": "stream",
     "text": [
      "0 1 4 5 6 3 2\n"
     ]
    }
   ],
   "source": [
    "n = int(input())\n",
    "s = input().strip() \n",
    "\n",
    "left = {}\n",
    "right = {}\n",
    "\n",
    "left[0] = -1\n",
    "right[0] = -1\n",
    "\n",
    "for i in range(1, n + 1):\n",
    "    prev = i - 1\n",
    "    if s[i - 1] == 'L':\n",
    "        left_neighbor = left.get(prev, -1)\n",
    "        left[i] = left_neighbor\n",
    "        right[i] = prev\n",
    "        if left_neighbor != -1:\n",
    "            right[left_neighbor] = i\n",
    "        left[prev] = i\n",
    "    else:\n",
    "        right_neighbor = right.get(prev, -1)\n",
    "        right[i] = right_neighbor\n",
    "        left[i] = prev\n",
    "        if right_neighbor != -1:\n",
    "            left[right_neighbor] = i\n",
    "        right[prev] = i\n",
    "\n",
    "current = 0\n",
    "while left.get(current, -1) != -1:\n",
    "    current = left[current]\n",
    "\n",
    "sequence = []\n",
    "while current != -1:\n",
    "    sequence.append(str(current))\n",
    "    current = right.get(current, -1)\n",
    "\n",
    "print(' '.join(sequence))"
   ]
  },
  {
   "cell_type": "code",
   "execution_count": 28,
   "id": "95e2f291",
   "metadata": {},
   "outputs": [
    {
     "name": "stdout",
     "output_type": "stream",
     "text": [
      "-7\n",
      "10\n"
     ]
    }
   ],
   "source": [
    "def max_mood(n, k, a):\n",
    "    dp = [[-float('inf')] * (k + 1) for _ in range(n)]\n",
    "    \n",
    "    dp[0][0] = a[0]\n",
    "    \n",
    "    for i in range(1, n):\n",
    "        for j in range(k + 1):\n",
    "\n",
    "            dp[i][j] = max(dp[i][j], dp[i - 1][j] + a[i])\n",
    "            \n",
    "            if i >= 2 and j >= 1:\n",
    "                dp[i][j] = max(dp[i][j], dp[i - 2][j - 1] + a[i])\n",
    "    \n",
    "    return max(dp[n - 1])\n",
    "\n",
    "\n",
    "# Пример 1\n",
    "n, k = 4, 1\n",
    "a = [-1, -2, -3, -4]\n",
    "print(max_mood(n, k, a))  # Вывод: -4\n",
    "\n",
    "# Пример 2\n",
    "n, k = 4, 0\n",
    "a = [1, 2, 3, 4]\n",
    "print(max_mood(n, k, a))  # Вывод: 10\n"
   ]
  },
  {
   "cell_type": "code",
   "execution_count": 34,
   "id": "35c16a08",
   "metadata": {},
   "outputs": [
    {
     "name": "stdout",
     "output_type": "stream",
     "text": [
      "-4\n"
     ]
    }
   ],
   "source": [
    "def max_mood(n, k, a):\n",
    "    INF = 10**18\n",
    "    # dp[i][j] = max настроение, оказавшись на i-й ступени\n",
    "    #   с использованием ровно j абстракций\n",
    "    dp = [[-INF] * (k + 1) for _ in range(n)]\n",
    "\n",
    "    # best[j] = max_{p=-1..i-1} dp[p][j], при запуске best[0]=0, остальные = -INF\n",
    "    best = [-INF] * (k + 1)\n",
    "    best[0] = 0\n",
    "\n",
    "    for i in range(n):\n",
    "        for j in range(k + 1):\n",
    "            # 3) Абстрагирование: из best[j-1] → i\n",
    "            if j >= 1 and best[j - 1] != -INF:\n",
    "                dp[i][j] = max(dp[i][j], best[j - 1] + a[i])\n",
    "\n",
    "            # 1) Шаг с предыдущей\n",
    "            if i >= 1 and dp[i - 1][j] != -INF:\n",
    "                dp[i][j] = max(dp[i][j], dp[i - 1][j] + a[i])\n",
    "\n",
    "            # 2) Перепрыгнуть через одну\n",
    "            if i >= 2 and dp[i - 2][j] != -INF:\n",
    "                dp[i][j] = max(dp[i][j], dp[i - 2][j] + a[i])\n",
    "\n",
    "            # инициализация для i=0, j=0 (шаг на первую ступеньку)\n",
    "            if i == 0 and j == 0:\n",
    "                dp[i][j] = a[i]\n",
    "\n",
    "        # обновляем prefix‐max для абстрагирования в следующих итерациях\n",
    "        for j in range(k + 1):\n",
    "            if dp[i][j] > best[j]:\n",
    "                best[j] = dp[i][j]\n",
    "\n",
    "    # ответ — лучший из dp[n-1][*]\n",
    "    return max(dp[n - 1])\n",
    "\n",
    "n, k = 4, 1 #map(int, input().split())\n",
    "a = [-1, -2, -3, -4] #list(map(int, input().split()))\n",
    "print(max_mood(n, k, a))"
   ]
  },
  {
   "cell_type": "code",
   "execution_count": 4,
   "id": "8ff4e50e",
   "metadata": {},
   "outputs": [
    {
     "data": {
      "text/plain": [
       "3"
      ]
     },
     "execution_count": 4,
     "metadata": {},
     "output_type": "execute_result"
    }
   ],
   "source": [
    "def longestSubarray(nums):\n",
    "    count_p = -1\n",
    "    count = 0\n",
    "    max_count = 0\n",
    "\n",
    "    for r in range(len(nums)):\n",
    "        if nums[r] == 0:\n",
    "            if count_p != -1:\n",
    "                max_count = max(max_count, count_p + count)\n",
    "            count_p = count\n",
    "            count = 0\n",
    "        else:\n",
    "            count += 1\n",
    "\n",
    "    if count_p == -1:\n",
    "        return count - 1\n",
    "\n",
    "    return max(max_count, count_p + count)\n",
    "\n",
    "\n",
    "longestSubarray([1,1,0,1])"
   ]
  },
  {
   "cell_type": "code",
   "execution_count": 42,
   "id": "7a76a538",
   "metadata": {},
   "outputs": [
    {
     "name": "stdout",
     "output_type": "stream",
     "text": [
      "6\n",
      "['a', '2', 'b', '2', 'c', '3', 'c']\n"
     ]
    }
   ],
   "source": [
    "def compress(chars):\n",
    "    if not chars:\n",
    "        return 0\n",
    "    \n",
    "    write_ptr = 0\n",
    "    read_ptr = 0\n",
    "    n = len(chars)\n",
    "    \n",
    "    while read_ptr < n:\n",
    "        current_char = chars[read_ptr]\n",
    "        count = 0\n",
    "        \n",
    "        while read_ptr < n and chars[read_ptr] == current_char:\n",
    "            read_ptr += 1\n",
    "            count += 1\n",
    "        \n",
    "        chars[write_ptr] = current_char\n",
    "        write_ptr += 1\n",
    "        \n",
    "        if count > 1:\n",
    "            for digit in str(count):\n",
    "                chars[write_ptr] = digit\n",
    "                write_ptr += 1\n",
    "    \n",
    "    return write_ptr\n",
    "            \n",
    "a = [\"a\",\"a\",\"b\",\"b\",\"c\",\"c\",\"c\"]\n",
    "print(compress(a))\n",
    "print(a)"
   ]
  },
  {
   "cell_type": "code",
   "execution_count": 41,
   "id": "fea16d7f",
   "metadata": {},
   "outputs": [
    {
     "name": "stdout",
     "output_type": "stream",
     "text": [
      "6\n",
      "['a', '2', 'b', '2', 'c', '3', 'c']\n"
     ]
    }
   ],
   "source": [
    "def compress(chars):\n",
    "    n = len(chars)\n",
    "    write_ptr = 0\n",
    "    read_ptr = 0\n",
    "\n",
    "    while read_ptr < n:\n",
    "        cur = chars[read_ptr]\n",
    "        count = 0\n",
    "\n",
    "        while read_ptr < n and chars[read_ptr] == cur:\n",
    "            read_ptr += 1\n",
    "            count += 1\n",
    "\n",
    "        chars[write_ptr] = cur\n",
    "        write_ptr += 1\n",
    "\n",
    "        if count > 1:\n",
    "            for digit in str(count):\n",
    "                chars[write_ptr] = digit\n",
    "                write_ptr += 1\n",
    "\n",
    "    return write_ptr\n",
    "\n",
    "a = [\"a\",\"a\",\"b\",\"b\",\"c\",\"c\",\"c\"]\n",
    "print(compress(a))\n",
    "print(a)"
   ]
  },
  {
   "cell_type": "code",
   "execution_count": 16,
   "id": "8d113caa",
   "metadata": {},
   "outputs": [
    {
     "name": "stdout",
     "output_type": "stream",
     "text": [
      "{}\n",
      "{'a': 0}\n",
      "{'a': 0, 'b': 1}\n",
      "{'a': 0, 'b': 1, 'c': 2}\n",
      "{'a': 3, 'b': 1, 'c': 2}\n",
      "{'a': 3, 'b': 4, 'c': 2}\n",
      "{'a': 3, 'b': 4, 'c': 5}\n",
      "{'a': 3, 'b': 6, 'c': 5}\n"
     ]
    },
    {
     "data": {
      "text/plain": [
       "3"
      ]
     },
     "execution_count": 16,
     "metadata": {},
     "output_type": "execute_result"
    }
   ],
   "source": [
    "def lengthOfLongestSubstring(s):\n",
    "    d = {}\n",
    "    max_l = 0\n",
    "    l = 0\n",
    "\n",
    "    for r in range(len(s)):\n",
    "        print(d)\n",
    "        if s[r] in d:\n",
    "            l = max(l, d[s[r]] + 1)\n",
    "        d[s[r]] = r\n",
    "\n",
    "        max_l = max(max_l, r - l + 1)\n",
    "\n",
    "    return max_l\n",
    "\n",
    "lengthOfLongestSubstring('abcabcbb')\n"
   ]
  },
  {
   "cell_type": "code",
   "execution_count": 14,
   "id": "29552963",
   "metadata": {},
   "outputs": [
    {
     "data": {
      "text/plain": [
       "3"
      ]
     },
     "execution_count": 14,
     "metadata": {},
     "output_type": "execute_result"
    }
   ],
   "source": [
    "def lengthOfLongestSubstring(s):\n",
    "    d = {}\n",
    "    max_l = 0\n",
    "    l = 0\n",
    "\n",
    "    for r in range(len(s)):\n",
    "        if s[r] in d:\n",
    "            l = d[s[r]] + 1\n",
    "        d[s[r]] = r\n",
    "\n",
    "        max_l = max(max_l, r - l + 1)\n",
    "\n",
    "    return max_l\n",
    "\n",
    "lengthOfLongestSubstring('abcabcbb')\n"
   ]
  },
  {
   "cell_type": "code",
   "execution_count": 17,
   "id": "19736365",
   "metadata": {},
   "outputs": [
    {
     "data": {
      "text/plain": [
       "'BANC'"
      ]
     },
     "execution_count": 17,
     "metadata": {},
     "output_type": "execute_result"
    }
   ],
   "source": [
    "def minWindow(s, t):\n",
    "    need = {}\n",
    "\n",
    "    for i in t:\n",
    "        need[i] = need.get(i, 0) + 1\n",
    "\n",
    "    window = {}\n",
    "    have, need_count = 0, len(need)\n",
    "    res, res_len = [-1, -1], float('inf')\n",
    "\n",
    "    l = 0\n",
    "    for r in range(len(s)):\n",
    "        c = s[r]\n",
    "        window[c] = window.get(c, 0) + 1\n",
    "\n",
    "        if c in need and window[c] == need[c]:\n",
    "            have += 1\n",
    "\n",
    "        while need_count == have:\n",
    "            if (r - l + 1) < res_len:\n",
    "                res = [l, r]\n",
    "                res_len = (r - l + 1)\n",
    "\n",
    "            window[s[l]] -= 1\n",
    "            if s[l] in need and window[s[l]] < need[s[l]]:\n",
    "                have -= 1\n",
    "\n",
    "            l += 1\n",
    "\n",
    "    l, r = res\n",
    "\n",
    "    return s[l:r+1] if res_len != float('inf') else \"\"\n",
    "    \n",
    "\n",
    "s = \"ADOBECODEBANC\"\n",
    "t = \"ABC\"\n",
    "\n",
    "minWindow(s, t)"
   ]
  },
  {
   "cell_type": "code",
   "execution_count": 18,
   "id": "6b12708a",
   "metadata": {},
   "outputs": [
    {
     "data": {
      "text/plain": [
       "4"
      ]
     },
     "execution_count": 18,
     "metadata": {},
     "output_type": "execute_result"
    }
   ],
   "source": [
    "def characterReplacement(s, k):\n",
    "    l = 0\n",
    "    d = {}\n",
    "    max_freq = 0\n",
    "    max_count = 0\n",
    "\n",
    "    for r in range(len(s)):\n",
    "        d[s[r]] = d.get(s[r], 0) + 1\n",
    "        max_freq = max(max_freq, d[s[r]])\n",
    "\n",
    "        while (r - l + 1) - max_freq > k:\n",
    "            d[s[l]] -=1     \n",
    "            l += 1\n",
    "\n",
    "        max_count = max(max_count, r - l + 1)\n",
    "\n",
    "    return max_count\n",
    "\n",
    "\n",
    "\n",
    "\n",
    "s = \"AABABBA\"\n",
    "k = 1\n",
    "characterReplacement(s, k)"
   ]
  },
  {
   "cell_type": "code",
   "execution_count": 15,
   "id": "5ec126bf",
   "metadata": {},
   "outputs": [
    {
     "data": {
      "text/plain": [
       "True"
      ]
     },
     "execution_count": 15,
     "metadata": {},
     "output_type": "execute_result"
    }
   ],
   "source": [
    "def is_reflected(points):\n",
    "    if not points:\n",
    "        return True\n",
    "    \n",
    "    m = (max(points)[0] + min(points)[0]) / 2\n",
    "\n",
    "    for x, y in points:\n",
    "        if not [2 * m - x, y] in points:\n",
    "            return False\n",
    "        \n",
    "    return True\n",
    "\n",
    "p = [[1, 1], [-1, 1], [0, 2], [2, 0], [-2, 0]]\n",
    "is_reflected(p)"
   ]
  },
  {
   "cell_type": "code",
   "execution_count": 24,
   "id": "c8983ed2",
   "metadata": {},
   "outputs": [
    {
     "data": {
      "text/plain": [
       "2"
      ]
     },
     "execution_count": 24,
     "metadata": {},
     "output_type": "execute_result"
    }
   ],
   "source": [
    "def max_dist_to_closest(seats):\n",
    "    max_d = 0\n",
    "    l = -1\n",
    "\n",
    "    for r in range(len(seats)):\n",
    "        if seats[r] == 1:\n",
    "            if l == -1:\n",
    "                max_d = r\n",
    "            else:\n",
    "                max_d = max(max_d, (r - l) // 2)\n",
    "            l = r\n",
    "\n",
    "    max_d = max(max_d, len(seats) - 1 - l)\n",
    "\n",
    "    return max_d\n",
    "\n",
    "max_dist_to_closest([1, 0, 0, 0, 1])"
   ]
  },
  {
   "cell_type": "code",
   "execution_count": 26,
   "id": "384aadd2",
   "metadata": {},
   "outputs": [
    {
     "data": {
      "text/plain": [
       "5"
      ]
     },
     "execution_count": 26,
     "metadata": {},
     "output_type": "execute_result"
    }
   ],
   "source": [
    "def longest_subarray(nums):\n",
    "    l = 0\n",
    "    max_count = 0\n",
    "    z_count = 0\n",
    "\n",
    "    for r in range(len(nums)):\n",
    "        if nums[r] == 0:\n",
    "            z_count += 1\n",
    "        while z_count > 1:\n",
    "            if nums[l] == 0:\n",
    "                z_count -= 1\n",
    "            l += 1\n",
    "        max_count = max(max_count, r - l)\n",
    "\n",
    "    return max_count          \n",
    "\n",
    "longest_subarray([0, 1, 1, 1, 0, 1, 1, 0, 1])"
   ]
  },
  {
   "cell_type": "code",
   "execution_count": 41,
   "id": "0806e6aa",
   "metadata": {},
   "outputs": [
    {
     "data": {
      "text/plain": [
       "['0->2', '4->5', '7']"
      ]
     },
     "execution_count": 41,
     "metadata": {},
     "output_type": "execute_result"
    }
   ],
   "source": [
    "def summary_ranges(nums):\n",
    "    l = 0\n",
    "    res = []\n",
    "\n",
    "    if not nums:\n",
    "        return []\n",
    "\n",
    "    for r in range(len(nums)-1):\n",
    "        if nums[r] + 1 != nums[r+1]:\n",
    "            res.append(f\"{nums[l]}->{nums[r]}\" if l != r else f\"{nums[l]}\")\n",
    "            l = r + 1\n",
    "\n",
    "    if nums[-1] == nums[-2] + 1:\n",
    "        res.append(f\"{nums[l]}->{nums[-1]}\")\n",
    "    else:\n",
    "        res.append(f\"{nums[-1]}\")\n",
    "\n",
    "    return res\n",
    "\n",
    "summary_ranges([0, 1, 2, 4, 5, 7])"
   ]
  },
  {
   "cell_type": "code",
   "execution_count": 46,
   "id": "672b50a5",
   "metadata": {},
   "outputs": [
    {
     "data": {
      "text/plain": [
       "True"
      ]
     },
     "execution_count": 46,
     "metadata": {},
     "output_type": "execute_result"
    }
   ],
   "source": [
    "def is_one_edit_dist(s, t):\n",
    "    is_eq = 1 if len(s) == len(t) else 0\n",
    "    is_s_greater = 1 if len(s) > len(t) else 0\n",
    "\n",
    "    i, j = 0, 0\n",
    "    count = 0\n",
    "\n",
    "    while i < len(s) and j < len(t):\n",
    "        if count > 1:\n",
    "            return False\n",
    "\n",
    "        if s[i] != t[j]:\n",
    "            count += 1\n",
    "            if is_eq:\n",
    "                i += 1\n",
    "                j += 1\n",
    "            elif is_s_greater:\n",
    "                i += 1\n",
    "            else:\n",
    "                j += 1\n",
    "\n",
    "        else:\n",
    "            i += 1\n",
    "            j += 1\n",
    "\n",
    "    return True\n",
    "\n",
    "\n",
    "\n",
    "is_one_edit_dist('ab', 'ab')"
   ]
  },
  {
   "cell_type": "code",
   "execution_count": 53,
   "id": "9ed6764d",
   "metadata": {},
   "outputs": [
    {
     "name": "stdout",
     "output_type": "stream",
     "text": [
      "['a', '2', 'b', '2', 'c', '3', 'c']\n"
     ]
    }
   ],
   "source": [
    "def compress(chars):\n",
    "    write = 0\n",
    "    read = 0\n",
    "    n = len(chars)\n",
    "\n",
    "    while read < n:\n",
    "        cur = chars[read]\n",
    "        count = 0\n",
    "\n",
    "        while read < n and cur == chars[read]:\n",
    "            read += 1\n",
    "            count += 1\n",
    "\n",
    "        chars[write] = cur\n",
    "        write += 1\n",
    "\n",
    "        if count > 1:\n",
    "            for degit in str(count):\n",
    "                chars[write] = degit\n",
    "                write += 1\n",
    "\n",
    "    return write\n",
    "        \n",
    "    \n",
    "\n",
    "a = ['a', 'a', 'b', 'b', 'c', 'c', 'c']\n",
    "compress(a)\n",
    "print(a)\n",
    "\n"
   ]
  },
  {
   "cell_type": "code",
   "execution_count": 72,
   "id": "6bdb186d",
   "metadata": {},
   "outputs": [
    {
     "data": {
      "text/plain": [
       "3"
      ]
     },
     "execution_count": 72,
     "metadata": {},
     "output_type": "execute_result"
    }
   ],
   "source": [
    "def find_max_cons_ones(nums):\n",
    "    prev = -1\n",
    "    l = 0\n",
    "    max_l = 0\n",
    "\n",
    "    if not nums:\n",
    "        return 0\n",
    "\n",
    "    for r in range(len(nums)):\n",
    "        if nums[r] == 0:\n",
    "            if prev == -1:\n",
    "                prev = r - l\n",
    "                l = r\n",
    "            else:\n",
    "                max_l = max(max_l, prev + r - l)\n",
    "                prev = r - l\n",
    "                l = r\n",
    "\n",
    "    return max(max_l, prev + r - l) + 1\n",
    "\n",
    "find_max_cons_ones([1, 0, 1])"
   ]
  },
  {
   "cell_type": "code",
   "execution_count": 3,
   "id": "9dd499e5",
   "metadata": {},
   "outputs": [
    {
     "name": "stdout",
     "output_type": "stream",
     "text": [
      "[-1]\n"
     ]
    }
   ],
   "source": [
    "def move_zeros(nums):\n",
    "    write = 0\n",
    "\n",
    "    for r in range(len(nums)):\n",
    "        if nums[r] != 0:\n",
    "            nums[write] = nums[r]\n",
    "            write += 1\n",
    "    while write < len(nums):\n",
    "        nums[write] = 0\n",
    "        write += 1\n",
    "\n",
    "a = [-1]\n",
    "move_zeros(a)\n",
    "print(a)"
   ]
  },
  {
   "cell_type": "code",
   "execution_count": 6,
   "id": "659e4617",
   "metadata": {},
   "outputs": [
    {
     "data": {
      "text/plain": [
       "2"
      ]
     },
     "execution_count": 6,
     "metadata": {},
     "output_type": "execute_result"
    }
   ],
   "source": [
    "def subarray_sum(nums, k):\n",
    "    l = 0\n",
    "    cur = 0\n",
    "    count = 0\n",
    "\n",
    "    nums.sort()\n",
    "\n",
    "    for r in range(len(nums)):\n",
    "        cur += nums[r]\n",
    "        if cur == k:\n",
    "            count += 1\n",
    "\n",
    "        while l < len(nums) and cur > k:\n",
    "            cur -= nums[l]\n",
    "            if cur == k:\n",
    "                count += 1\n",
    "\n",
    "            l += 1\n",
    "\n",
    "    return count \n",
    "\n",
    "subarray_sum([1, 2, 3], 3)"
   ]
  },
  {
   "cell_type": "code",
   "execution_count": 10,
   "id": "73ba3018",
   "metadata": {},
   "outputs": [
    {
     "data": {
      "text/plain": [
       "4"
      ]
     },
     "execution_count": 10,
     "metadata": {},
     "output_type": "execute_result"
    }
   ],
   "source": [
    "def subarray_sum(nums, k):\n",
    "    count = 0\n",
    "    pref_sum = {0: 1}\n",
    "    cur_sum = 0\n",
    "\n",
    "    for num in nums:\n",
    "        cur_sum += num\n",
    "\n",
    "        if cur_sum - k in pref_sum:\n",
    "            count += 1\n",
    "        pref_sum[cur_sum] = pref_sum.get(cur_sum, 0) + 1\n",
    "\n",
    "    return count \n",
    "\n",
    "subarray_sum([1, 2, 3, 0, 3], 3)"
   ]
  },
  {
   "cell_type": "code",
   "execution_count": 35,
   "id": "86f74c29",
   "metadata": {},
   "outputs": [
    {
     "name": "stdout",
     "output_type": "stream",
     "text": [
      "{'a': 1, 'b': 1} {'a': 2}\n",
      "{'a': 1, 'b': 1} {'a': 2}\n",
      "{'a': 1, 'b': 1} {'a': 2}\n",
      "{'a': 1, 'b': 1} {'a': 2}\n",
      "{'a': 1, 'b': 1} {'a': 1, 'b': 1}\n"
     ]
    },
    {
     "data": {
      "text/plain": [
       "True"
      ]
     },
     "execution_count": 35,
     "metadata": {},
     "output_type": "execute_result"
    }
   ],
   "source": [
    "def ckeck_inclusion(s1, s2):\n",
    "    d1 = {}\n",
    "    d2 = {}\n",
    "    l = 0\n",
    "\n",
    "    for c in s1:\n",
    "        d1[c] = d1.get(c, 0) + 1\n",
    "\n",
    "    for c in s2[:len(s1)]:\n",
    "        d2[c] = d2.get(c, 0) + 1\n",
    "\n",
    "    if d1 == d2:\n",
    "        return True\n",
    "    \n",
    "    print(d1, d2)\n",
    "        \n",
    "    for r in range(len(s1), len(s2)):\n",
    "        cl = s2[l]\n",
    "        cr = s2[r]\n",
    "\n",
    "        d2[cl] = d2.get(cl, 0) - 1\n",
    "        if d2[cl] == 0:\n",
    "            del d2[cl]\n",
    "\n",
    "        d2[cr] = d2.get(cr, 0) + 1\n",
    "\n",
    "        print(d1, d2)\n",
    "\n",
    "        if d1 == d2:\n",
    "            return True\n",
    "\n",
    "    return False\n",
    "\n",
    "ckeck_inclusion('ab', 'aaaaab')"
   ]
  },
  {
   "cell_type": "code",
   "execution_count": null,
   "id": "41f63f33",
   "metadata": {},
   "outputs": [],
   "source": [
    "import random\n",
    "\n",
    "class Struct:\n",
    "    def __init__(self):\n",
    "        self.list = []\n",
    "        self.dict = {}\n",
    "\n",
    "    def insert(self, val):\n",
    "        if val in self.dict:\n",
    "            return False\n",
    "        \n",
    "        self.dict[val] = len(self.lict)\n",
    "        self.list.append(val)\n",
    "        return True\n",
    "    \n",
    "    def remove(self, val):\n",
    "        if val not in dict:\n",
    "            return False\n",
    "        \n",
    "        last_elem = self.list[-1]\n",
    "        idx = self.dict[val]\n",
    "\n",
    "        self.list[idx] = last_elem\n",
    "        self.dict[last_elem] = idx\n",
    "        self.list.pop()\n",
    "        del self.dict[val]\n",
    "        return True\n",
    "    \n",
    "    def getRandom(self):\n",
    "        return random.choice(self.list)"
   ]
  },
  {
   "cell_type": "code",
   "execution_count": null,
   "id": "a048797c",
   "metadata": {},
   "outputs": [
    {
     "data": {
      "text/plain": [
       "['(((())))',\n",
       " '((()()))',\n",
       " '((())())',\n",
       " '((()))()',\n",
       " '(()(()))',\n",
       " '(()()())',\n",
       " '(()())()',\n",
       " '(())(())',\n",
       " '(())()()',\n",
       " '()((()))',\n",
       " '()(()())',\n",
       " '()(())()',\n",
       " '()()(())',\n",
       " '()()()()']"
      ]
     },
     "execution_count": 39,
     "metadata": {},
     "output_type": "execute_result"
    }
   ],
   "source": [
    "def generateParenthesis(n):\n",
    "    def bb(s, open, close):\n",
    "        if len(s) == 2*n:\n",
    "            res.append(s)\n",
    "            return \n",
    "        if open < n:\n",
    "            bb(s + '(', open + 1, close)\n",
    "        if close < open:\n",
    "            bb(s + ')', open, close + 1)\n",
    "\n",
    "    res = []\n",
    "    bb('', 0, 0)\n",
    "    return res\n",
    "\n",
    "generateParenthesis(4)"
   ]
  },
  {
   "cell_type": "code",
   "execution_count": 42,
   "id": "5cb277dd",
   "metadata": {},
   "outputs": [
    {
     "data": {
      "text/plain": [
       "[['eat', 'tea', 'ate'], ['tan', 'nat'], ['bat']]"
      ]
     },
     "execution_count": 42,
     "metadata": {},
     "output_type": "execute_result"
    }
   ],
   "source": [
    "from collections import defaultdict\n",
    "\n",
    "def groupAnagrams(strs):\n",
    "    d = defaultdict(list)\n",
    "\n",
    "    for s in strs:\n",
    "        key = ''.join(sorted(s))\n",
    "        d[key].append(s)\n",
    "    return list(d.values())\n",
    "\n",
    "groupAnagrams(['eat', 'tea', 'tan', 'ate', 'nat', 'bat'])"
   ]
  },
  {
   "cell_type": "code",
   "execution_count": 49,
   "id": "8a6b5a7c",
   "metadata": {},
   "outputs": [
    {
     "data": {
      "text/plain": [
       "True"
      ]
     },
     "execution_count": 49,
     "metadata": {},
     "output_type": "execute_result"
    }
   ],
   "source": [
    "def isPalindrome(s):\n",
    "    l, r = 0, len(s) - 1\n",
    "\n",
    "    while l < r:\n",
    "        while l < r and not s[l].isalnum():\n",
    "            l += 1\n",
    "\n",
    "        while l < r and not s[r].isalnum():\n",
    "            r += 1\n",
    "\n",
    "        if s[l] != s[r]:\n",
    "            return False\n",
    "        l += 1\n",
    "        r -=1\n",
    "\n",
    "    return True\n",
    "\n",
    "isPalindrome('a???abbaa')"
   ]
  },
  {
   "cell_type": "code",
   "execution_count": null,
   "id": "3a320ebe",
   "metadata": {},
   "outputs": [],
   "source": [
    "class ListNode:\n",
    "    def __init__(self, val, next):\n",
    "        self.val = val\n",
    "        self.next = next\n",
    "\n",
    "    def reverseList(head):\n",
    "        prev = None\n",
    "        cur = head\n",
    "\n",
    "        while cur:\n",
    "            next_node = cur.next\n",
    "            cur.next = prev\n",
    "            prev = cur\n",
    "            cur = next_node\n",
    "        return prev"
   ]
  },
  {
   "cell_type": "code",
   "execution_count": null,
   "id": "6105530f",
   "metadata": {},
   "outputs": [],
   "source": [
    "def minMettingRooms(intervals):\n",
    "    starts = sorted(i[0] for i in intervals)\n",
    "    ends = sorted(i[1] for i in intervals)\n",
    "    rooms = 0\n",
    "    end_ptr = 0\n",
    "\n",
    "    "
   ]
  }
 ],
 "metadata": {
  "kernelspec": {
   "display_name": "Python 3",
   "language": "python",
   "name": "python3"
  },
  "language_info": {
   "codemirror_mode": {
    "name": "ipython",
    "version": 3
   },
   "file_extension": ".py",
   "mimetype": "text/x-python",
   "name": "python",
   "nbconvert_exporter": "python",
   "pygments_lexer": "ipython3",
   "version": "3.10.7"
  }
 },
 "nbformat": 4,
 "nbformat_minor": 5
}
