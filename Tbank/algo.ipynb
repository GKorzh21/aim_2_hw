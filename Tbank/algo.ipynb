{
 "cells": [
  {
   "cell_type": "code",
   "execution_count": 22,
   "id": "15b894d5",
   "metadata": {},
   "outputs": [
    {
     "name": "stdout",
     "output_type": "stream",
     "text": [
      "\n"
     ]
    }
   ],
   "source": [
    "x = input().strip()\n",
    "#x = '5473'\n",
    "digit_c = [0] * 10\n",
    "\n",
    "for i in x:\n",
    "    digit_c[int(i)] += 1\n",
    "\n",
    "ans = []\n",
    "\n",
    "for i in range(1, 10):\n",
    "    if digit_c[i] > 0:\n",
    "        ans.append(str(i))\n",
    "        digit_c[i] -= 1\n",
    "        break\n",
    "\n",
    "ans.extend('0' * digit_c[0])\n",
    "digit_c[0] = 0\n",
    "\n",
    "for i in range(10):\n",
    "    ans.extend(str(i) * digit_c[i])\n",
    "\n",
    "print(\"\".join(ans))\n"
   ]
  },
  {
   "cell_type": "markdown",
   "id": "caab7406",
   "metadata": {},
   "source": [
    "2"
   ]
  },
  {
   "cell_type": "code",
   "execution_count": null,
   "id": "05dd16a5",
   "metadata": {},
   "outputs": [],
   "source": [
    "import sys\n",
    "\n",
    "data = iter(sys.stdin.buffer.read().split())\n",
    "t = int(next(data))\n",
    "ans = []\n",
    "\n",
    "for _ in range(t):\n",
    "    n = int(next(data))\n",
    "    a = [int(next(data)) for _ in range(n)]\n",
    "    a.sort()\n",
    "\n",
    "    is_valid = True\n",
    "    for i, value in enumerate(a, start=1):\n",
    "        if value > i:\n",
    "            is_valid = False\n",
    "            break\n",
    "\n",
    "    if not is_valid:\n",
    "        ans.append(\"Second\")\n",
    "        continue\n",
    "\n",
    "    possible_moves = n * (n + 1) // 2 - sum(a)\n",
    "    ans.append(\"First\" if possible_moves % 2 else \"Second\")\n",
    "\n",
    "print(\"\\n\".join(ans))\n"
   ]
  },
  {
   "cell_type": "code",
   "execution_count": null,
   "id": "b0ab7ded",
   "metadata": {},
   "outputs": [],
   "source": [
    "MOD = 10**9 + 7\n",
    "\n",
    "def count_unique_subsequences(arr):\n",
    "    n = len(arr)\n",
    "    dp = [0] * (n + 1)  # dp[0] = 0\n",
    "    last = {}\n",
    "    \n",
    "    for i in range(1, n + 1):\n",
    "        dp[i] = (2 * dp[i - 1] + 1) % MOD  # +1 для новой подпоследовательности [a_i]\n",
    "        if arr[i - 1] in last:\n",
    "            dp[i] = (dp[i] - (dp[last[arr[i - 1]] - 1] + 1)) % MOD\n",
    "        last[arr[i - 1]] = i\n",
    "    \n",
    "    return dp[n] % MOD\n",
    "\n",
    "# Чтение входных данных\n",
    "if __name__ == \"__main__\":\n",
    "    n = int(input().strip())\n",
    "    arr = list(map(int, input().split()))\n",
    "    print(count_unique_subsequences(arr))\n"
   ]
  },
  {
   "cell_type": "code",
   "execution_count": null,
   "id": "4683c65f",
   "metadata": {},
   "outputs": [
    {
     "name": "stdout",
     "output_type": "stream",
     "text": [
      "0\n"
     ]
    }
   ],
   "source": [
    "MOD = 10**9 + 7\n",
    "from collections import Counter\n",
    "import sys\n",
    "\n",
    "data = sys.stdin.read().strip().split()\n",
    "n = int(data[0])\n",
    "arr = list(map(int, data[1:]))\n",
    "\n",
    "count = Counter(arr)\n",
    "res = 1\n",
    "for c in count.values():\n",
    "    res = (res * (c + 1)) % MOD\n",
    "\n",
    "res = (res - 1) % MOD \n",
    "print(res)\n"
   ]
  },
  {
   "cell_type": "markdown",
   "id": "df9ba3f3",
   "metadata": {},
   "source": [
    "4"
   ]
  },
  {
   "cell_type": "code",
   "execution_count": null,
   "id": "931187df",
   "metadata": {},
   "outputs": [],
   "source": [
    "import sys\n",
    "\n",
    "def water_tunks(n, l, r, a):\n",
    "    #Префикс\n",
    "    S = [0]*(n+1)\n",
    "    for i in range(1, n+1):\n",
    "        S[i] = S[i-1] + a[i]\n",
    "\n",
    "    INF = 10**30\n",
    "    # в правую сторонц\n",
    "    X = [ INF ]*(n+1)\n",
    "    for R in range(1, n+1):\n",
    "        X[R] = S[R] + (r[R] if R < n else 0)\n",
    "\n",
    "    mINF = -10**30\n",
    "    Y = [ mINF ] * n\n",
    "    #В левую стлорону\n",
    "    Y[0] = 0\n",
    "    for t in range(1, n):\n",
    "        Y[t] = S[t] - l[t+1]\n",
    "\n",
    "    pref_max = [0]*(n+1)\n",
    "    pref_max[1] = Y[0]\n",
    "    for s in range(2, n+1):\n",
    "        pref_max[s] = max(pref_max[s-1], Y[s-1])\n",
    "\n",
    "    suf_min = [INF]*(n+2)\n",
    "    suf_min[n] = X[n]\n",
    "    for s in range(n-1, 0, -1):\n",
    "        suf_min[s] = min(X[s], suf_min[s+1])\n",
    "\n",
    "    ans = 0\n",
    "    for s in range(1, n+1):\n",
    "        ans = max(ans, suf_min[s] - pref_max[s])\n",
    "\n",
    "    return ans\n",
    "\n",
    "def main():\n",
    "    data = sys.stdin.read().strip().split()\n",
    "    if not data:\n",
    "        return\n",
    "    it = iter(data)\n",
    "    n = int(next(it))\n",
    "    l = [0]*(n+1)\n",
    "    r = [0]*(n+1)\n",
    "    a = [0]*(n+1)\n",
    "    for i in range(1, n+1):\n",
    "        l[i] = int(next(it))\n",
    "        r[i] = int(next(it))\n",
    "        a[i] = int(next(it))\n",
    "    print(water_tunks(n, l, r, a))\n",
    "\n",
    "if __name__ == \"__main__\":\n",
    "    main()\n"
   ]
  },
  {
   "cell_type": "code",
   "execution_count": 13,
   "id": "47cacf1d",
   "metadata": {},
   "outputs": [
    {
     "name": "stdout",
     "output_type": "stream",
     "text": [
      "7\n"
     ]
    }
   ],
   "source": [
    "import sys\n",
    "\n",
    "def main():\n",
    "    n = 3\n",
    "    # добавляем dummy 0 на позицию 0, далее индексы 1..n\n",
    "    l = [0, 0, 4, 1]\n",
    "    r = [0, 2, 0, 0]\n",
    "    a = [0, 3, 4, 5]\n",
    "\n",
    "    #Префикс\n",
    "    S = [0]*(n+1)\n",
    "    for i in range(1, n+1):\n",
    "        S[i] = S[i-1] + a[i]\n",
    "\n",
    "    INF = 10**30\n",
    "    # в правую сторонц\n",
    "    X = [ INF ]*(n+1)\n",
    "    for R in range(1, n+1):\n",
    "        X[R] = S[R] + (r[R] if R < n else 0)\n",
    "\n",
    "    mINF = -10**30\n",
    "    Y = [ mINF ] * n\n",
    "    #В левую стлорону\n",
    "    Y[0] = 0\n",
    "    for t in range(1, n):\n",
    "        Y[t] = S[t] - l[t+1]\n",
    "\n",
    "    pref_max = [0]*(n+1)\n",
    "    pref_max[1] = Y[0]\n",
    "    for s in range(2, n+1):\n",
    "        pref_max[s] = max(pref_max[s-1], Y[s-1])\n",
    "\n",
    "    suf_min = [INF]*(n+2)\n",
    "    suf_min[n] = X[n]\n",
    "    for s in range(n-1, 0, -1):\n",
    "        suf_min[s] = min(X[s], suf_min[s+1])\n",
    "\n",
    "    ans = 0\n",
    "    for s in range(1, n+1):\n",
    "        ans = max(ans, suf_min[s] - pref_max[s])\n",
    "\n",
    "\n",
    "    print(ans)\n",
    "\n",
    "if __name__ == \"__main__\":\n",
    "    main()\n"
   ]
  },
  {
   "cell_type": "code",
   "execution_count": null,
   "id": "3adceae3",
   "metadata": {},
   "outputs": [
    {
     "ename": "KeyboardInterrupt",
     "evalue": "",
     "output_type": "error",
     "traceback": [
      "\u001b[1;31m---------------------------------------------------------------------------\u001b[0m",
      "\u001b[1;31mKeyboardInterrupt\u001b[0m                         Traceback (most recent call last)",
      "Cell \u001b[1;32mIn[35], line 32\u001b[0m\n\u001b[0;32m     30\u001b[0m         \u001b[38;5;66;03m# свёртка: берем dp[j] и добавляем coef способов к new_dp[j + add]\u001b[39;00m\n\u001b[0;32m     31\u001b[0m         \u001b[38;5;28;01mfor\u001b[39;00m j \u001b[38;5;129;01min\u001b[39;00m \u001b[38;5;28mrange\u001b[39m(n \u001b[38;5;241m-\u001b[39m add \u001b[38;5;241m+\u001b[39m \u001b[38;5;241m1\u001b[39m):\n\u001b[1;32m---> 32\u001b[0m             new_dp[j \u001b[38;5;241m+\u001b[39m add] \u001b[38;5;241m=\u001b[39m (new_dp[j \u001b[38;5;241m+\u001b[39m add] \u001b[38;5;241m+\u001b[39m dp[j] \u001b[38;5;241m*\u001b[39m coef) \u001b[38;5;241m%\u001b[39m MOD\n\u001b[0;32m     33\u001b[0m     dp \u001b[38;5;241m=\u001b[39m new_dp\n\u001b[0;32m     35\u001b[0m \u001b[38;5;28mprint\u001b[39m(dp)\n",
      "\u001b[1;31mKeyboardInterrupt\u001b[0m: "
     ]
    }
   ],
   "source": [
    "MOD = 10**9 + 7\n",
    "\n",
    "\n",
    "n, k =\n",
    "\n",
    "# Нужно уметь брать C(a, b) для a up to n + k - 1\n",
    "maxN = n + k\n",
    "fac = [1] * (maxN + 1)\n",
    "ifac = [1] * (maxN + 1)\n",
    "for i in range(1, maxN + 1):\n",
    "    fac[i] = fac[i-1] * i % MOD\n",
    "ifac[maxN] = pow(fac[maxN], MOD-2, MOD)\n",
    "for i in range(maxN, 0, -1):\n",
    "    ifac[i-1] = ifac[i] * i % MOD\n",
    "\n",
    "def C(a, b):\n",
    "    if b < 0 or b > a:\n",
    "        return 0\n",
    "    return fac[a] * ifac[b] % MOD * ifac[a - b] % MOD\n",
    "\n",
    "dp = [0] * (n + 1)\n",
    "dp[0] = 1\n",
    "\n",
    "for m in range(1, n + 1):\n",
    "    new_dp = dp[:]  # копия состояния до добавления числа m\n",
    "    max_c = n // m\n",
    "    for c in range(1, max_c + 1):\n",
    "        coef = C(c + k - 1, k - 1)  # количество вариантов раскраски c одинаковых чисел\n",
    "        add = c * m\n",
    "        # свёртка: берем dp[j] и добавляем coef способов к new_dp[j + add]\n",
    "        for j in range(n - add + 1):\n",
    "            new_dp[j + add] = (new_dp[j + add] + dp[j] * coef) % MOD\n",
    "    dp = new_dp\n",
    "\n",
    "print(dp[n])\n",
    "\n",
    "\n"
   ]
  },
  {
   "cell_type": "code",
   "execution_count": null,
   "id": "9d765755",
   "metadata": {},
   "outputs": [],
   "source": []
  }
 ],
 "metadata": {
  "kernelspec": {
   "display_name": "base",
   "language": "python",
   "name": "python3"
  },
  "language_info": {
   "codemirror_mode": {
    "name": "ipython",
    "version": 3
   },
   "file_extension": ".py",
   "mimetype": "text/x-python",
   "name": "python",
   "nbconvert_exporter": "python",
   "pygments_lexer": "ipython3",
   "version": "3.12.3"
  }
 },
 "nbformat": 4,
 "nbformat_minor": 5
}
